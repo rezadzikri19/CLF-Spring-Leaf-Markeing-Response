{
 "cells": [
  {
   "cell_type": "markdown",
   "metadata": {},
   "source": [
    "### **Import Libraries**"
   ]
  },
  {
   "cell_type": "code",
   "execution_count": 243,
   "metadata": {},
   "outputs": [],
   "source": [
    "import pandas as pd\n",
    "import numpy as np\n",
    "import joblib\n",
    "\n",
    "import gc\n",
    "import os\n",
    "import glob\n",
    "import logging\n",
    "\n",
    "from typing import Tuple, List, Dict, Optional, Union, Callable, Any, Iterator\n",
    "\n",
    "import optuna\n",
    "from optuna.trial import Trial\n",
    "from optuna.study import Study\n",
    "\n",
    "from datetime import datetime\n",
    "from typing import List\n",
    "\n",
    "import seaborn as sns\n",
    "import matplotlib.pyplot as plt\n",
    "\n",
    "from sklearn.base import BaseEstimator, TransformerMixin\n",
    "\n",
    "from sklearn.linear_model import LogisticRegression\n",
    "from sklearn.preprocessing import LabelEncoder, RobustScaler, OrdinalEncoder, StandardScaler\n",
    "from sklearn.metrics import roc_auc_score, roc_curve\n",
    "from sklearn.model_selection import train_test_split, StratifiedKFold, RepeatedStratifiedKFold\n",
    "from sklearn.pipeline import Pipeline\n",
    "from sklearn.compose import ColumnTransformer\n",
    "from sklearn.impute import SimpleImputer, KNNImputer\n",
    "from sklearn.ensemble import IsolationForest, StackingClassifier, RandomForestClassifier\n",
    "from sklearn.decomposition import PCA\n",
    "\n",
    "from imblearn.under_sampling import TomekLinks, RandomUnderSampler\n",
    "from imblearn.over_sampling import SMOTENC, RandomOverSampler\n",
    "\n",
    "from lightgbm import LGBMClassifier\n",
    "from xgboost import XGBClassifier\n",
    "from catboost import CatBoostClassifier"
   ]
  },
  {
   "cell_type": "markdown",
   "metadata": {},
   "source": [
    "### **Settings**"
   ]
  },
  {
   "cell_type": "code",
   "execution_count": 114,
   "metadata": {},
   "outputs": [],
   "source": [
    "pd.set_option('display.max_columns', 50)\n",
    "pd.set_option('display.max_rows', 100)"
   ]
  },
  {
   "cell_type": "markdown",
   "metadata": {},
   "source": [
    "### **Load Dataset**"
   ]
  },
  {
   "cell_type": "code",
   "execution_count": 115,
   "metadata": {},
   "outputs": [
    {
     "name": "stderr",
     "output_type": "stream",
     "text": [
      "C:\\Users\\msi.pc\\AppData\\Local\\Temp\\ipykernel_10724\\3747530180.py:3: DtypeWarning:\n",
      "\n",
      "Columns (8,9,10,11,12,43,157,196,214,225,228,229,231,235,238) have mixed types. Specify dtype option on import or set low_memory=False.\n",
      "\n"
     ]
    },
    {
     "data": {
      "text/html": [
       "<div>\n",
       "<style scoped>\n",
       "    .dataframe tbody tr th:only-of-type {\n",
       "        vertical-align: middle;\n",
       "    }\n",
       "\n",
       "    .dataframe tbody tr th {\n",
       "        vertical-align: top;\n",
       "    }\n",
       "\n",
       "    .dataframe thead th {\n",
       "        text-align: right;\n",
       "    }\n",
       "</style>\n",
       "<table border=\"1\" class=\"dataframe\">\n",
       "  <thead>\n",
       "    <tr style=\"text-align: right;\">\n",
       "      <th></th>\n",
       "      <th>ID</th>\n",
       "      <th>VAR_0001</th>\n",
       "      <th>VAR_0002</th>\n",
       "      <th>VAR_0003</th>\n",
       "      <th>VAR_0004</th>\n",
       "      <th>VAR_0005</th>\n",
       "      <th>VAR_0006</th>\n",
       "      <th>VAR_0007</th>\n",
       "      <th>VAR_0008</th>\n",
       "      <th>VAR_0009</th>\n",
       "      <th>VAR_0010</th>\n",
       "      <th>VAR_0011</th>\n",
       "      <th>VAR_0012</th>\n",
       "      <th>VAR_0013</th>\n",
       "      <th>VAR_0014</th>\n",
       "      <th>VAR_0015</th>\n",
       "      <th>VAR_0016</th>\n",
       "      <th>VAR_0017</th>\n",
       "      <th>VAR_0018</th>\n",
       "      <th>VAR_0019</th>\n",
       "      <th>VAR_0020</th>\n",
       "      <th>VAR_0021</th>\n",
       "      <th>VAR_0022</th>\n",
       "      <th>VAR_0023</th>\n",
       "      <th>VAR_0024</th>\n",
       "      <th>...</th>\n",
       "      <th>VAR_1911</th>\n",
       "      <th>VAR_1912</th>\n",
       "      <th>VAR_1913</th>\n",
       "      <th>VAR_1914</th>\n",
       "      <th>VAR_1915</th>\n",
       "      <th>VAR_1916</th>\n",
       "      <th>VAR_1917</th>\n",
       "      <th>VAR_1918</th>\n",
       "      <th>VAR_1919</th>\n",
       "      <th>VAR_1920</th>\n",
       "      <th>VAR_1921</th>\n",
       "      <th>VAR_1922</th>\n",
       "      <th>VAR_1923</th>\n",
       "      <th>VAR_1924</th>\n",
       "      <th>VAR_1925</th>\n",
       "      <th>VAR_1926</th>\n",
       "      <th>VAR_1927</th>\n",
       "      <th>VAR_1928</th>\n",
       "      <th>VAR_1929</th>\n",
       "      <th>VAR_1930</th>\n",
       "      <th>VAR_1931</th>\n",
       "      <th>VAR_1932</th>\n",
       "      <th>VAR_1933</th>\n",
       "      <th>VAR_1934</th>\n",
       "      <th>target</th>\n",
       "    </tr>\n",
       "  </thead>\n",
       "  <tbody>\n",
       "    <tr>\n",
       "      <th>0</th>\n",
       "      <td>2</td>\n",
       "      <td>H</td>\n",
       "      <td>224</td>\n",
       "      <td>0</td>\n",
       "      <td>4300</td>\n",
       "      <td>C</td>\n",
       "      <td>0.0</td>\n",
       "      <td>0.0</td>\n",
       "      <td>False</td>\n",
       "      <td>False</td>\n",
       "      <td>False</td>\n",
       "      <td>False</td>\n",
       "      <td>False</td>\n",
       "      <td>0.0</td>\n",
       "      <td>0.0</td>\n",
       "      <td>0.0</td>\n",
       "      <td>1.0</td>\n",
       "      <td>0.0</td>\n",
       "      <td>0.0</td>\n",
       "      <td>0.0</td>\n",
       "      <td>0.0</td>\n",
       "      <td>0.0</td>\n",
       "      <td>0.0</td>\n",
       "      <td>0.0</td>\n",
       "      <td>0.0</td>\n",
       "      <td>...</td>\n",
       "      <td>998</td>\n",
       "      <td>999999998</td>\n",
       "      <td>999999998</td>\n",
       "      <td>999999998</td>\n",
       "      <td>999999998</td>\n",
       "      <td>998</td>\n",
       "      <td>998</td>\n",
       "      <td>9998</td>\n",
       "      <td>9998</td>\n",
       "      <td>0</td>\n",
       "      <td>98</td>\n",
       "      <td>999999998</td>\n",
       "      <td>999999998</td>\n",
       "      <td>9998</td>\n",
       "      <td>0</td>\n",
       "      <td>98</td>\n",
       "      <td>98</td>\n",
       "      <td>998</td>\n",
       "      <td>999999998</td>\n",
       "      <td>998</td>\n",
       "      <td>998</td>\n",
       "      <td>9998</td>\n",
       "      <td>9998</td>\n",
       "      <td>IAPS</td>\n",
       "      <td>0</td>\n",
       "    </tr>\n",
       "    <tr>\n",
       "      <th>1</th>\n",
       "      <td>4</td>\n",
       "      <td>H</td>\n",
       "      <td>7</td>\n",
       "      <td>53</td>\n",
       "      <td>4448</td>\n",
       "      <td>B</td>\n",
       "      <td>1.0</td>\n",
       "      <td>0.0</td>\n",
       "      <td>False</td>\n",
       "      <td>False</td>\n",
       "      <td>False</td>\n",
       "      <td>False</td>\n",
       "      <td>False</td>\n",
       "      <td>1.0</td>\n",
       "      <td>0.0</td>\n",
       "      <td>1.0</td>\n",
       "      <td>2.0</td>\n",
       "      <td>1.0</td>\n",
       "      <td>0.0</td>\n",
       "      <td>0.0</td>\n",
       "      <td>0.0</td>\n",
       "      <td>0.0</td>\n",
       "      <td>0.0</td>\n",
       "      <td>0.0</td>\n",
       "      <td>0.0</td>\n",
       "      <td>...</td>\n",
       "      <td>0</td>\n",
       "      <td>6546</td>\n",
       "      <td>6546</td>\n",
       "      <td>6125</td>\n",
       "      <td>76</td>\n",
       "      <td>1</td>\n",
       "      <td>1</td>\n",
       "      <td>9996</td>\n",
       "      <td>111</td>\n",
       "      <td>0</td>\n",
       "      <td>98</td>\n",
       "      <td>999999998</td>\n",
       "      <td>999999998</td>\n",
       "      <td>9998</td>\n",
       "      <td>0</td>\n",
       "      <td>98</td>\n",
       "      <td>98</td>\n",
       "      <td>998</td>\n",
       "      <td>999999998</td>\n",
       "      <td>998</td>\n",
       "      <td>998</td>\n",
       "      <td>9998</td>\n",
       "      <td>9998</td>\n",
       "      <td>IAPS</td>\n",
       "      <td>0</td>\n",
       "    </tr>\n",
       "    <tr>\n",
       "      <th>2</th>\n",
       "      <td>5</td>\n",
       "      <td>H</td>\n",
       "      <td>116</td>\n",
       "      <td>3</td>\n",
       "      <td>3464</td>\n",
       "      <td>C</td>\n",
       "      <td>0.0</td>\n",
       "      <td>0.0</td>\n",
       "      <td>False</td>\n",
       "      <td>False</td>\n",
       "      <td>False</td>\n",
       "      <td>False</td>\n",
       "      <td>False</td>\n",
       "      <td>0.0</td>\n",
       "      <td>0.0</td>\n",
       "      <td>0.0</td>\n",
       "      <td>1.0</td>\n",
       "      <td>0.0</td>\n",
       "      <td>0.0</td>\n",
       "      <td>0.0</td>\n",
       "      <td>0.0</td>\n",
       "      <td>0.0</td>\n",
       "      <td>0.0</td>\n",
       "      <td>0.0</td>\n",
       "      <td>0.0</td>\n",
       "      <td>...</td>\n",
       "      <td>997</td>\n",
       "      <td>999999997</td>\n",
       "      <td>999999997</td>\n",
       "      <td>999999997</td>\n",
       "      <td>999999997</td>\n",
       "      <td>1</td>\n",
       "      <td>997</td>\n",
       "      <td>9996</td>\n",
       "      <td>113</td>\n",
       "      <td>0</td>\n",
       "      <td>98</td>\n",
       "      <td>999999998</td>\n",
       "      <td>999999998</td>\n",
       "      <td>9998</td>\n",
       "      <td>0</td>\n",
       "      <td>98</td>\n",
       "      <td>98</td>\n",
       "      <td>998</td>\n",
       "      <td>999999998</td>\n",
       "      <td>998</td>\n",
       "      <td>998</td>\n",
       "      <td>9998</td>\n",
       "      <td>9998</td>\n",
       "      <td>IAPS</td>\n",
       "      <td>0</td>\n",
       "    </tr>\n",
       "    <tr>\n",
       "      <th>3</th>\n",
       "      <td>7</td>\n",
       "      <td>H</td>\n",
       "      <td>240</td>\n",
       "      <td>300</td>\n",
       "      <td>3200</td>\n",
       "      <td>C</td>\n",
       "      <td>0.0</td>\n",
       "      <td>0.0</td>\n",
       "      <td>False</td>\n",
       "      <td>False</td>\n",
       "      <td>False</td>\n",
       "      <td>False</td>\n",
       "      <td>False</td>\n",
       "      <td>0.0</td>\n",
       "      <td>0.0</td>\n",
       "      <td>0.0</td>\n",
       "      <td>2.0</td>\n",
       "      <td>0.0</td>\n",
       "      <td>0.0</td>\n",
       "      <td>0.0</td>\n",
       "      <td>0.0</td>\n",
       "      <td>0.0</td>\n",
       "      <td>0.0</td>\n",
       "      <td>0.0</td>\n",
       "      <td>0.0</td>\n",
       "      <td>...</td>\n",
       "      <td>998</td>\n",
       "      <td>999999998</td>\n",
       "      <td>999999998</td>\n",
       "      <td>999999998</td>\n",
       "      <td>999999998</td>\n",
       "      <td>998</td>\n",
       "      <td>998</td>\n",
       "      <td>9998</td>\n",
       "      <td>9998</td>\n",
       "      <td>0</td>\n",
       "      <td>98</td>\n",
       "      <td>999999998</td>\n",
       "      <td>999999998</td>\n",
       "      <td>9998</td>\n",
       "      <td>0</td>\n",
       "      <td>98</td>\n",
       "      <td>98</td>\n",
       "      <td>998</td>\n",
       "      <td>999999998</td>\n",
       "      <td>998</td>\n",
       "      <td>998</td>\n",
       "      <td>9998</td>\n",
       "      <td>9998</td>\n",
       "      <td>RCC</td>\n",
       "      <td>0</td>\n",
       "    </tr>\n",
       "    <tr>\n",
       "      <th>4</th>\n",
       "      <td>8</td>\n",
       "      <td>R</td>\n",
       "      <td>72</td>\n",
       "      <td>261</td>\n",
       "      <td>2000</td>\n",
       "      <td>N</td>\n",
       "      <td>0.0</td>\n",
       "      <td>0.0</td>\n",
       "      <td>False</td>\n",
       "      <td>False</td>\n",
       "      <td>False</td>\n",
       "      <td>False</td>\n",
       "      <td>False</td>\n",
       "      <td>0.0</td>\n",
       "      <td>0.0</td>\n",
       "      <td>0.0</td>\n",
       "      <td>1.0</td>\n",
       "      <td>0.0</td>\n",
       "      <td>0.0</td>\n",
       "      <td>0.0</td>\n",
       "      <td>0.0</td>\n",
       "      <td>0.0</td>\n",
       "      <td>0.0</td>\n",
       "      <td>0.0</td>\n",
       "      <td>0.0</td>\n",
       "      <td>...</td>\n",
       "      <td>998</td>\n",
       "      <td>999999998</td>\n",
       "      <td>999999998</td>\n",
       "      <td>999999998</td>\n",
       "      <td>999999998</td>\n",
       "      <td>998</td>\n",
       "      <td>998</td>\n",
       "      <td>9998</td>\n",
       "      <td>9998</td>\n",
       "      <td>0</td>\n",
       "      <td>98</td>\n",
       "      <td>999999998</td>\n",
       "      <td>999999998</td>\n",
       "      <td>9998</td>\n",
       "      <td>0</td>\n",
       "      <td>98</td>\n",
       "      <td>98</td>\n",
       "      <td>998</td>\n",
       "      <td>999999998</td>\n",
       "      <td>998</td>\n",
       "      <td>998</td>\n",
       "      <td>9998</td>\n",
       "      <td>9998</td>\n",
       "      <td>BRANCH</td>\n",
       "      <td>1</td>\n",
       "    </tr>\n",
       "  </tbody>\n",
       "</table>\n",
       "<p>5 rows × 1934 columns</p>\n",
       "</div>"
      ],
      "text/plain": [
       "   ID VAR_0001  VAR_0002  VAR_0003  VAR_0004 VAR_0005  VAR_0006  VAR_0007  \\\n",
       "0   2        H       224         0      4300        C       0.0       0.0   \n",
       "1   4        H         7        53      4448        B       1.0       0.0   \n",
       "2   5        H       116         3      3464        C       0.0       0.0   \n",
       "3   7        H       240       300      3200        C       0.0       0.0   \n",
       "4   8        R        72       261      2000        N       0.0       0.0   \n",
       "\n",
       "  VAR_0008 VAR_0009 VAR_0010 VAR_0011 VAR_0012  VAR_0013  VAR_0014  VAR_0015  \\\n",
       "0    False    False    False    False    False       0.0       0.0       0.0   \n",
       "1    False    False    False    False    False       1.0       0.0       1.0   \n",
       "2    False    False    False    False    False       0.0       0.0       0.0   \n",
       "3    False    False    False    False    False       0.0       0.0       0.0   \n",
       "4    False    False    False    False    False       0.0       0.0       0.0   \n",
       "\n",
       "   VAR_0016  VAR_0017  VAR_0018  VAR_0019  VAR_0020  VAR_0021  VAR_0022  \\\n",
       "0       1.0       0.0       0.0       0.0       0.0       0.0       0.0   \n",
       "1       2.0       1.0       0.0       0.0       0.0       0.0       0.0   \n",
       "2       1.0       0.0       0.0       0.0       0.0       0.0       0.0   \n",
       "3       2.0       0.0       0.0       0.0       0.0       0.0       0.0   \n",
       "4       1.0       0.0       0.0       0.0       0.0       0.0       0.0   \n",
       "\n",
       "   VAR_0023  VAR_0024  ...  VAR_1911   VAR_1912   VAR_1913   VAR_1914  \\\n",
       "0       0.0       0.0  ...       998  999999998  999999998  999999998   \n",
       "1       0.0       0.0  ...         0       6546       6546       6125   \n",
       "2       0.0       0.0  ...       997  999999997  999999997  999999997   \n",
       "3       0.0       0.0  ...       998  999999998  999999998  999999998   \n",
       "4       0.0       0.0  ...       998  999999998  999999998  999999998   \n",
       "\n",
       "    VAR_1915  VAR_1916  VAR_1917  VAR_1918  VAR_1919  VAR_1920  VAR_1921  \\\n",
       "0  999999998       998       998      9998      9998         0        98   \n",
       "1         76         1         1      9996       111         0        98   \n",
       "2  999999997         1       997      9996       113         0        98   \n",
       "3  999999998       998       998      9998      9998         0        98   \n",
       "4  999999998       998       998      9998      9998         0        98   \n",
       "\n",
       "    VAR_1922   VAR_1923  VAR_1924  VAR_1925  VAR_1926  VAR_1927  VAR_1928  \\\n",
       "0  999999998  999999998      9998         0        98        98       998   \n",
       "1  999999998  999999998      9998         0        98        98       998   \n",
       "2  999999998  999999998      9998         0        98        98       998   \n",
       "3  999999998  999999998      9998         0        98        98       998   \n",
       "4  999999998  999999998      9998         0        98        98       998   \n",
       "\n",
       "    VAR_1929 VAR_1930  VAR_1931  VAR_1932  VAR_1933  VAR_1934  target  \n",
       "0  999999998      998       998      9998      9998      IAPS       0  \n",
       "1  999999998      998       998      9998      9998      IAPS       0  \n",
       "2  999999998      998       998      9998      9998      IAPS       0  \n",
       "3  999999998      998       998      9998      9998       RCC       0  \n",
       "4  999999998      998       998      9998      9998    BRANCH       1  \n",
       "\n",
       "[5 rows x 1934 columns]"
      ]
     },
     "execution_count": 115,
     "metadata": {},
     "output_type": "execute_result"
    }
   ],
   "source": [
    "train_path = r'data\\train.csv'\n",
    "\n",
    "df = pd.read_csv(train_path)\n",
    "df.head()"
   ]
  },
  {
   "cell_type": "code",
   "execution_count": 116,
   "metadata": {},
   "outputs": [
    {
     "name": "stdout",
     "output_type": "stream",
     "text": [
      "Dataset shape: (145231, 1934)\n"
     ]
    }
   ],
   "source": [
    "print(f'Dataset shape: {df.shape}')"
   ]
  },
  {
   "cell_type": "code",
   "execution_count": 117,
   "metadata": {},
   "outputs": [
    {
     "name": "stdout",
     "output_type": "stream",
     "text": [
      "<class 'pandas.core.frame.DataFrame'>\n",
      "RangeIndex: 145231 entries, 0 to 145230\n",
      "Columns: 1934 entries, ID to target\n",
      "dtypes: float64(477), int64(1406), object(51)\n",
      "memory usage: 2.4 GB\n"
     ]
    }
   ],
   "source": [
    "df.info(memory_usage='deep')"
   ]
  },
  {
   "cell_type": "code",
   "execution_count": 118,
   "metadata": {},
   "outputs": [],
   "source": [
    "def is_convertable_sr(col: pd.Series) -> bool:\n",
    "  if col.dtype == np.int64 and\\\n",
    "      col.max() <= np.iinfo(np.int32).max and\\\n",
    "      col.min() >= np.iinfo(np.int32).min: return True\n",
    "  \n",
    "  if col.dtype == np.float64 and\\\n",
    "      col.max() <= np.finfo(np.float32).max and\\\n",
    "      col.min() >= np.finfo(np.float32).min: return True\n",
    "  \n",
    "  if np.isnan(col.max()): return True\n",
    "\n",
    "  return False\n",
    "\n",
    "def save_memory_df(df_origin: pd.DataFrame) -> pd.DataFrame:\n",
    "  int_cols = df_origin.select_dtypes(np.int64).columns\n",
    "  float_cols = df_origin.select_dtypes(np.float64).columns\n",
    "  \n",
    "  int_cols = [col for col in int_cols if is_convertable_sr(df_origin[col])]\n",
    "  float_cols = [col for col in float_cols if is_convertable_sr(df_origin[col])]\n",
    "  \n",
    "  int_cols = {col: np.int32 for col in int_cols}\n",
    "  float_cols = {col: np.float32 for col in float_cols}\n",
    "\n",
    "  df_origin = df_origin.astype(int_cols)\n",
    "  df_origin = df_origin.astype(float_cols)\n",
    "  \n",
    "  return df_origin\n",
    "\n",
    "def save_memory_sr(sr_origin: pd.Series) -> pd.Series:\n",
    "  if sr_origin.dtype == np.int64 and is_convertable_sr(sr_origin): sr_origin.astype(np.int32)\n",
    "  if sr_origin.dtype == np.float64 and is_convertable_sr(sr_origin): sr_origin.astype(np.float32)\n",
    "  \n",
    "  return sr_origin\n",
    "\n",
    "df = save_memory_df(df)"
   ]
  },
  {
   "cell_type": "code",
   "execution_count": 119,
   "metadata": {},
   "outputs": [
    {
     "name": "stdout",
     "output_type": "stream",
     "text": [
      "<class 'pandas.core.frame.DataFrame'>\n",
      "RangeIndex: 145231 entries, 0 to 145230\n",
      "Columns: 1934 entries, ID to target\n",
      "dtypes: float32(477), int32(1406), object(51)\n",
      "memory usage: 1.3 GB\n"
     ]
    }
   ],
   "source": [
    "df.info(memory_usage='deep')"
   ]
  },
  {
   "cell_type": "markdown",
   "metadata": {},
   "source": [
    "### **EDA**"
   ]
  },
  {
   "cell_type": "markdown",
   "metadata": {},
   "source": [
    "##### **A. Target value**"
   ]
  },
  {
   "cell_type": "code",
   "execution_count": 120,
   "metadata": {},
   "outputs": [
    {
     "name": "stdout",
     "output_type": "stream",
     "text": [
      "Ratio of target (1 and 0): 3.300210227104492\n"
     ]
    },
    {
     "data": {
      "image/png": "[encoded data removed]",
      "text/plain": [
       "<Figure size 400x400 with 1 Axes>"
      ]
     },
     "metadata": {},
     "output_type": "display_data"
    }
   ],
   "source": [
    "target_dist = df['target'].value_counts().sort_values(ascending=False)\n",
    "target_dist.plot(kind='bar',\n",
    "                 figsize=(4, 4),\n",
    "                 title='Target Value Count',\n",
    "                 xlabel='Target',\n",
    "                 ylabel='Count')\n",
    "\n",
    "mayor_minor_ratio = target_dist[0] / target_dist[1]\n",
    "print(f'Ratio of target (1 and 0): {mayor_minor_ratio}')"
   ]
  },
  {
   "cell_type": "markdown",
   "metadata": {},
   "source": [
    "##### **B. Missing value - column**"
   ]
  },
  {
   "cell_type": "code",
   "execution_count": 121,
   "metadata": {},
   "outputs": [
    {
     "data": {
      "text/plain": [
       "<Axes: title={'center': 'Top 50 of % of Missing Value vs Feature'}, xlabel='Feature', ylabel='% of Missing Value'>"
      ]
     },
     "execution_count": 121,
     "metadata": {},
     "output_type": "execute_result"
    },
    {
     "data": {
      "image/png": "[encoded data removed]",
      "text/plain": [
       "<Figure size 1500x300 with 1 Axes>"
      ]
     },
     "metadata": {},
     "output_type": "display_data"
    }
   ],
   "source": [
    "df_cols_null = df.isna().mean().sort_values(ascending=False).drop('target')\n",
    "\n",
    "df_cols_null[:51].plot(kind='bar',\n",
    "                       figsize=(15, 3),\n",
    "                       title=r'Top 50 of % of Missing Value vs Feature',\n",
    "                       xlabel='Feature',\n",
    "                       ylabel=r'% of Missing Value')"
   ]
  },
  {
   "cell_type": "code",
   "execution_count": 122,
   "metadata": {},
   "outputs": [
    {
     "name": "stdout",
     "output_type": "stream",
     "text": [
      "Numbers of feature(s): 24\n",
      "Features: ['VAR_0207', 'VAR_0213', 'VAR_0840', 'VAR_0214', 'VAR_0157', 'VAR_0158', 'VAR_0205', 'VAR_0206', 'VAR_0167', 'VAR_0177', 'VAR_0156', 'VAR_0159', 'VAR_0209', 'VAR_0168', 'VAR_0178', 'VAR_0166', 'VAR_0169', 'VAR_0179', 'VAR_0176', 'VAR_0211', 'VAR_0210', 'VAR_0208', 'VAR_0073', 'VAR_0074']\n"
     ]
    }
   ],
   "source": [
    "df_cols_null_70p = df_cols_null[df_cols_null > 0.69]\n",
    "df_cols_null_70p = df_cols_null_70p.index.to_list()\n",
    "\n",
    "print(f'Numbers of feature(s): {len(df_cols_null_70p)}\\nFeatures: {df_cols_null_70p}')"
   ]
  },
  {
   "cell_type": "markdown",
   "metadata": {},
   "source": [
    "##### **C. Single unique value feature**"
   ]
  },
  {
   "cell_type": "code",
   "execution_count": 123,
   "metadata": {},
   "outputs": [
    {
     "name": "stdout",
     "output_type": "stream",
     "text": [
      "Numbers of numerical feature(s): 1883\n",
      "Numbers of categorical feature(s): 51\n"
     ]
    }
   ],
   "source": [
    "df_num_cols = df.select_dtypes(exclude='object').columns\n",
    "df_cat_cols = df.select_dtypes('object').columns\n",
    "\n",
    "print(f'Numbers of numerical feature(s): {len(df_num_cols)}')\n",
    "print(f'Numbers of categorical feature(s): {len(df_cat_cols)}')"
   ]
  },
  {
   "cell_type": "code",
   "execution_count": 124,
   "metadata": {},
   "outputs": [
    {
     "data": {
      "text/plain": [
       "<Axes: title={'center': 'Bottom 50 of Numbers of Unique Value(s) vs Feature'}, xlabel='Feature', ylabel='Numbers of Unique Value(s)'>"
      ]
     },
     "execution_count": 124,
     "metadata": {},
     "output_type": "execute_result"
    },
    {
     "data": {
      "image/png": "[encoded data removed]",
      "text/plain": [
       "<Figure size 1500x300 with 1 Axes>"
      ]
     },
     "metadata": {},
     "output_type": "display_data"
    }
   ],
   "source": [
    "df_num_cols_low_var = df[df_num_cols].nunique().sort_values()\n",
    "df_num_cols_low_var = df_num_cols_low_var[df_num_cols_low_var > 0][:51]\n",
    "df_num_cols_low_var.plot(kind='bar',\n",
    "                       figsize=(15, 3),\n",
    "                       title=r'Bottom 50 of Numbers of Unique Value(s) vs Feature',\n",
    "                       xlabel='Feature',\n",
    "                       ylabel='Numbers of Unique Value(s)')"
   ]
  },
  {
   "cell_type": "code",
   "execution_count": 125,
   "metadata": {},
   "outputs": [
    {
     "name": "stdout",
     "output_type": "stream",
     "text": [
      "Numbers of feature(s): 38\n",
      "Features: ['VAR_0042', 'VAR_1428', 'VAR_0847', 'VAR_0446', 'VAR_0038', 'VAR_0039', 'VAR_0040', 'VAR_0041', 'VAR_0188', 'VAR_0189', 'VAR_0190', 'VAR_0197', 'VAR_0223', 'VAR_0199', 'VAR_0221', 'VAR_0203', 'VAR_0394', 'VAR_0031', 'VAR_0030', 'VAR_0032', 'VAR_0028', 'VAR_0528', 'VAR_0438', 'VAR_0530', 'VAR_0527', 'VAR_0246', 'VAR_0029', 'VAR_0018', 'VAR_0019', 'VAR_0215', 'VAR_0021', 'VAR_0022', 'VAR_0027', 'VAR_0026', 'VAR_0025', 'VAR_0023', 'VAR_0024', 'VAR_0020']\n"
     ]
    }
   ],
   "source": [
    "df_num_cols_single = df_num_cols_low_var[df_num_cols_low_var == 1]\n",
    "df_num_cols_single = df_num_cols_single.index.to_list()\n",
    "\n",
    "print(f'Numbers of feature(s): {len(df_num_cols_single)}\\nFeatures: {df_num_cols_single}')"
   ]
  },
  {
   "cell_type": "code",
   "execution_count": 126,
   "metadata": {},
   "outputs": [
    {
     "data": {
      "text/plain": [
       "<Axes: title={'center': 'Bottom of Numbers of Unique Value(s) vs Feature'}, xlabel='Feature', ylabel='Numbers of Unique Value(s)'>"
      ]
     },
     "execution_count": 126,
     "metadata": {},
     "output_type": "execute_result"
    },
    {
     "data": {
      "image/png": "[encoded data removed]",
      "text/plain": [
       "<Figure size 1500x300 with 1 Axes>"
      ]
     },
     "metadata": {},
     "output_type": "display_data"
    }
   ],
   "source": [
    "df_cat_cols_low_var = df[df_cat_cols].nunique().sort_values()\n",
    "df_cat_cols_low_var = df_cat_cols_low_var[df_cat_cols_low_var > 0][:51]\n",
    "df_cat_cols_low_var.plot(kind='bar',\n",
    "                       figsize=(15, 3),\n",
    "                       title=r'Bottom of Numbers of Unique Value(s) vs Feature',\n",
    "                       xlabel='Feature',\n",
    "                       ylabel='Numbers of Unique Value(s)')"
   ]
  },
  {
   "cell_type": "code",
   "execution_count": 127,
   "metadata": {},
   "outputs": [
    {
     "name": "stdout",
     "output_type": "stream",
     "text": [
      "Numbers of feature(s): 13\n",
      "Features: ['VAR_0202', 'VAR_0222', 'VAR_0229', 'VAR_0239', 'VAR_0216', 'VAR_0043', 'VAR_0044', 'VAR_0011', 'VAR_0010', 'VAR_0009', 'VAR_0008', 'VAR_0012', 'VAR_0196']\n"
     ]
    }
   ],
   "source": [
    "df_cat_cols_single = df_cat_cols_low_var[df_cat_cols_low_var == 1]\n",
    "df_cat_cols_single = df_cat_cols_single.index.to_list()\n",
    "\n",
    "print(f'Numbers of feature(s): {len(df_cat_cols_single)}\\nFeatures: {df_cat_cols_single}')"
   ]
  },
  {
   "cell_type": "markdown",
   "metadata": {},
   "source": [
    "##### **D. Missing Value (rows)**"
   ]
  },
  {
   "cell_type": "code",
   "execution_count": 128,
   "metadata": {},
   "outputs": [
    {
     "name": "stdout",
     "output_type": "stream",
     "text": [
      "Threshold for missing features: 0.2005164186709449\n",
      "\n",
      "Instance(s):\n",
      "9855      0.271458\n",
      "11910     0.271458\n",
      "13018     0.271458\n",
      "13447     0.271458\n",
      "16524     0.271458\n",
      "17461     0.271458\n",
      "20511     0.271458\n",
      "25658     0.271458\n",
      "27429     0.271458\n",
      "33001     0.271458\n",
      "36093     0.271458\n",
      "36534     0.271458\n",
      "40061     0.271458\n",
      "40317     0.271458\n",
      "40848     0.271458\n",
      "41185     0.271458\n",
      "43410     0.271458\n",
      "43629     0.271458\n",
      "45875     0.271458\n",
      "55156     0.271458\n",
      "56206     0.271458\n",
      "57191     0.271458\n",
      "58586     0.271458\n",
      "60229     0.271458\n",
      "62100     0.271458\n",
      "62455     0.271458\n",
      "65682     0.271458\n",
      "66061     0.271458\n",
      "70000     0.271458\n",
      "79003     0.271458\n",
      "79268     0.271458\n",
      "84358     0.271458\n",
      "85066     0.271458\n",
      "87829     0.271458\n",
      "88207     0.271458\n",
      "91939     0.271458\n",
      "94705     0.271458\n",
      "94729     0.271458\n",
      "96148     0.271458\n",
      "97962     0.271458\n",
      "105196    0.271458\n",
      "112029    0.271458\n",
      "115558    0.271458\n",
      "117069    0.271458\n",
      "122319    0.271458\n",
      "122527    0.271458\n",
      "124410    0.271458\n",
      "133942    0.271458\n",
      "135973    0.271458\n",
      "138754    0.271458\n",
      "139295    0.271458\n",
      "143274    0.271458\n",
      "143915    0.271458\n",
      "dtype: float64\n",
      "\n",
      "Instance(s) target distribution: \n",
      "target\n",
      "0    40\n",
      "1    13\n",
      "Name: count, dtype: int64\n",
      "\n"
     ]
    }
   ],
   "source": [
    "cols = df_cols_null_70p + df_num_cols_single + df_cat_cols_single\n",
    "threshold_null = 0.2 + len(cols)/len(df)\n",
    "\n",
    "row_null_count = df.isnull().mean(axis=1)\n",
    "row_null_count = row_null_count[row_null_count > threshold_null]\n",
    "df_row_null = row_null_count.index.to_list()\n",
    "\n",
    "dr_row_null_target_dist = df.iloc[df_row_null]['target'].value_counts()\n",
    "\n",
    "print(f'Threshold for missing features: {threshold_null}\\n')\n",
    "print(f'Instance(s):\\n{row_null_count}\\n')\n",
    "print(f'Instance(s) target distribution: \\n{dr_row_null_target_dist}\\n')"
   ]
  },
  {
   "cell_type": "markdown",
   "metadata": {},
   "source": [
    "# **Approach 1 (Baseline)**"
   ]
  },
  {
   "cell_type": "markdown",
   "metadata": {},
   "source": [
    "### **Feature engineering**"
   ]
  },
  {
   "cell_type": "code",
   "execution_count": 129,
   "metadata": {
    "tags": []
   },
   "outputs": [
    {
     "name": "stdout",
     "output_type": "stream",
     "text": [
      "Couldn't find program: 'skipped'\n"
     ]
    }
   ],
   "source": [
    "%%script skipped # Skipped due to resource optimization\n",
    "\n",
    "def convert_str2cat(df_origin: pd.DataFrame) -> pd.DataFrame:\n",
    "  cat_cols = df_origin.select_dtypes('object').columns\n",
    "  \n",
    "  cat_cols = {col: 'category' for col in cat_cols}\n",
    "  df_origin = df_origin.astype(cat_cols)\n",
    "  \n",
    "  return df_origin\n",
    "\n",
    "df = convert_str2cat(df)"
   ]
  },
  {
   "cell_type": "markdown",
   "metadata": {},
   "source": [
    "### **Data splitting**"
   ]
  },
  {
   "cell_type": "markdown",
   "metadata": {},
   "source": [
    "##### **A. Train - test data split**"
   ]
  },
  {
   "cell_type": "code",
   "execution_count": 130,
   "metadata": {},
   "outputs": [
    {
     "name": "stdout",
     "output_type": "stream",
     "text": [
      "Couldn't find program: 'skipped'\n"
     ]
    }
   ],
   "source": [
    "%%script skipped # Skipped due to resource optimization\n",
    "\n",
    "X, X_test, y, y_test = train_test_split(df.drop(columns=['ID', 'target'], axis=1),\n",
    "                                                    df['target'],\n",
    "                                                    test_size=0.2,\n",
    "                                                    random_state=42,\n",
    "                                                    stratify=df['target'])\n",
    "\n",
    "print(f'Train dataset shape (X): {X.shape}')\n",
    "print(f'Test dataset shape (X_test): {X_test.shape}')"
   ]
  },
  {
   "cell_type": "markdown",
   "metadata": {},
   "source": [
    "##### **B. Data folding**"
   ]
  },
  {
   "cell_type": "code",
   "execution_count": 131,
   "metadata": {},
   "outputs": [
    {
     "name": "stdout",
     "output_type": "stream",
     "text": [
      "Couldn't find program: 'skipped'\n"
     ]
    }
   ],
   "source": [
    "%%script skipped # Skipped due to resource optimization\n",
    "\n",
    "n_splits = 10\n",
    "skf = StratifiedKFold(n_splits=n_splits, shuffle=True, random_state=42)"
   ]
  },
  {
   "cell_type": "markdown",
   "metadata": {},
   "source": [
    "### **Model preparation**"
   ]
  },
  {
   "cell_type": "code",
   "execution_count": 132,
   "metadata": {},
   "outputs": [
    {
     "name": "stdout",
     "output_type": "stream",
     "text": [
      "Couldn't find program: 'skipped'\n"
     ]
    }
   ],
   "source": [
    "%%script skipped # Skipped due to resource optimization\n",
    "\n",
    "classifier = LGBMClassifier(objective='binary', metric='auc', n_jobs=4)"
   ]
  },
  {
   "cell_type": "markdown",
   "metadata": {},
   "source": [
    "### **Model training**"
   ]
  },
  {
   "cell_type": "code",
   "execution_count": 133,
   "metadata": {},
   "outputs": [
    {
     "name": "stdout",
     "output_type": "stream",
     "text": [
      "Couldn't find program: 'skipped'\n"
     ]
    }
   ],
   "source": [
    "%%script skipped # Skipped due to resource optimization\n",
    "\n",
    "X_num_cols = X.select_dtypes(exclude='category').columns\n",
    "X_cat_cols = X.select_dtypes('category').columns"
   ]
  },
  {
   "cell_type": "code",
   "execution_count": 134,
   "metadata": {},
   "outputs": [
    {
     "name": "stdout",
     "output_type": "stream",
     "text": [
      "Couldn't find program: 'skipped'\n"
     ]
    }
   ],
   "source": [
    "%%script skipped # Skipped due to resource optimization\n",
    "\n",
    "auc_scores = np.zeros(n_splits)\n",
    "\n",
    "for fold, (train_idx, valid_idx) in enumerate(skf.split(X, y)):\n",
    "  X_train, X_valid = X.iloc[train_idx], X.iloc[valid_idx]\n",
    "  y_train, y_valid = y.iloc[train_idx], y.iloc[valid_idx]\n",
    "    \n",
    "  classifier.fit(X_train, y_train, categorical_feature=X_cat_cols.to_list())\n",
    "  \n",
    "  y_probs = classifier.predict_proba(X_valid)[:, 1]\n",
    "  \n",
    "  auc = roc_auc_score(y_valid, y_probs)\n",
    "  auc_scores[fold] = auc\n",
    "  \n",
    "  print(f'Fold {fold} => AUC score: {auc}')\n",
    "  \n",
    "mean_auc = np.mean(auc_scores)\n",
    "print(f'Mean AUC oof score: {mean_auc:.4f}')"
   ]
  },
  {
   "cell_type": "code",
   "execution_count": 135,
   "metadata": {},
   "outputs": [
    {
     "name": "stdout",
     "output_type": "stream",
     "text": [
      "Couldn't find program: 'skipped'\n"
     ]
    }
   ],
   "source": [
    "%%script skipped # Skipped due to resource optimization\n",
    "\n",
    "df_feat_imp = pd.DataFrame({'Feature': classifier.feature_name_, 'Importance': classifier.feature_importances_})\n",
    "df_feat_imp = df_feat_imp.sort_values(by='Importance', ascending=False)\n",
    "df_feat_imp[:50].plot(kind='bar',\n",
    "                      x='Feature',\n",
    "                      y='Importance',\n",
    "                      title=f'Feature Importance LGBM default (AUC = {mean_auc:.4f})',\n",
    "                      xlabel='Feature',\n",
    "                      ylabel='Feature Importance',\n",
    "                      figsize=(15, 3))"
   ]
  },
  {
   "cell_type": "code",
   "execution_count": 136,
   "metadata": {},
   "outputs": [
    {
     "name": "stdout",
     "output_type": "stream",
     "text": [
      "Couldn't find program: 'skipped'\n"
     ]
    }
   ],
   "source": [
    "%%script skipped # Skipped due to resource optimization\n",
    "\n",
    "top_feat_50 = df[df_feat_imp[:50]['Feature']]\n",
    "top_feat_50.head()"
   ]
  },
  {
   "cell_type": "code",
   "execution_count": 137,
   "metadata": {},
   "outputs": [
    {
     "name": "stdout",
     "output_type": "stream",
     "text": [
      "Couldn't find program: 'skipped'\n"
     ]
    }
   ],
   "source": [
    "%%script skipped # Skipped due to resource optimization\n",
    "\n",
    "cat_feat = top_feat_50.select_dtypes('category').columns\n",
    "num_feat = top_feat_50.select_dtypes(exclude='category').columns\n",
    "\n",
    "print(f'Numbers of categorical feature(s): {len(cat_feat)}')\n",
    "print(f'Numbers of numerical feature(s): {len(num_feat)}')"
   ]
  },
  {
   "cell_type": "code",
   "execution_count": 138,
   "metadata": {},
   "outputs": [
    {
     "name": "stdout",
     "output_type": "stream",
     "text": [
      "Couldn't find program: 'skipped'\n"
     ]
    }
   ],
   "source": [
    "%%script skipped # Skipped due to resource optimization\n",
    "\n",
    "del df, X, X_test, y, y_train, n_splits, skf, classifier, X_num_cols, X_cat_cols, auc_scores, mean_auc, feature_importance_df, top_feat_50, cat_feat, num_feat\n",
    "gc.collect()"
   ]
  },
  {
   "cell_type": "markdown",
   "metadata": {},
   "source": [
    "# **Approach 2**\n",
    "Treat missing value as missing and perform imputation to fill the value."
   ]
  },
  {
   "cell_type": "code",
   "execution_count": 139,
   "metadata": {},
   "outputs": [
    {
     "name": "stdout",
     "output_type": "stream",
     "text": [
      "Couldn't find program: 'skipped'\n"
     ]
    }
   ],
   "source": [
    "%%script skipped # Skipped due to resource optimization\n",
    "\n",
    "df = pd.read_csv(train_path)\n",
    "df = save_memory_df(df)\n",
    "\n",
    "df.info(memory_usage='deep')"
   ]
  },
  {
   "cell_type": "markdown",
   "metadata": {},
   "source": [
    "### **Feature Engineering**"
   ]
  },
  {
   "cell_type": "markdown",
   "metadata": {},
   "source": [
    "##### **A. Drop columns**"
   ]
  },
  {
   "cell_type": "code",
   "execution_count": 140,
   "metadata": {},
   "outputs": [
    {
     "name": "stdout",
     "output_type": "stream",
     "text": [
      "Total dropped columns: 75\n",
      "Dataset shape: (145231, 1859)\n"
     ]
    }
   ],
   "source": [
    "columns_to_drop = set(df_cols_null_70p + df_num_cols_single + df_cat_cols_single)\n",
    "df.drop(columns=columns_to_drop, inplace=True)\n",
    "\n",
    "print(f'Total dropped columns: {len(columns_to_drop)}')\n",
    "print(f'Dataset shape: {df.shape}')"
   ]
  },
  {
   "cell_type": "markdown",
   "metadata": {},
   "source": [
    "##### **B. Drop duplicates**"
   ]
  },
  {
   "cell_type": "code",
   "execution_count": 141,
   "metadata": {},
   "outputs": [
    {
     "name": "stdout",
     "output_type": "stream",
     "text": [
      "Numbers of duplicated in dataset: 0\n"
     ]
    }
   ],
   "source": [
    "df_duplicates = df.duplicated()\n",
    "df.drop_duplicates(inplace=True, keep='first')\n",
    "\n",
    "print(f'Numbers of duplicated in dataset: {df_duplicates.sum()}')"
   ]
  },
  {
   "cell_type": "markdown",
   "metadata": {},
   "source": [
    "##### **C. Drop rows**"
   ]
  },
  {
   "cell_type": "code",
   "execution_count": 142,
   "metadata": {},
   "outputs": [
    {
     "name": "stdout",
     "output_type": "stream",
     "text": [
      "Total dropped rows: 53\n",
      "Dataset shape: (145178, 1859)\n"
     ]
    }
   ],
   "source": [
    "rows_to_drop = df_row_null\n",
    "df.drop(index=rows_to_drop, axis=0, inplace=True)\n",
    "\n",
    "print(f'Total dropped rows: {len(rows_to_drop)}')\n",
    "print(f'Dataset shape: {df.shape}')"
   ]
  },
  {
   "cell_type": "markdown",
   "metadata": {},
   "source": [
    "##### **D. Categorical data**"
   ]
  },
  {
   "cell_type": "code",
   "execution_count": 143,
   "metadata": {},
   "outputs": [
    {
     "data": {
      "text/html": [
       "<div>\n",
       "<style scoped>\n",
       "    .dataframe tbody tr th:only-of-type {\n",
       "        vertical-align: middle;\n",
       "    }\n",
       "\n",
       "    .dataframe tbody tr th {\n",
       "        vertical-align: top;\n",
       "    }\n",
       "\n",
       "    .dataframe thead th {\n",
       "        text-align: right;\n",
       "    }\n",
       "</style>\n",
       "<table border=\"1\" class=\"dataframe\">\n",
       "  <thead>\n",
       "    <tr style=\"text-align: right;\">\n",
       "      <th></th>\n",
       "      <th>VAR_0001</th>\n",
       "      <th>VAR_0005</th>\n",
       "      <th>VAR_0075</th>\n",
       "      <th>VAR_0200</th>\n",
       "      <th>VAR_0204</th>\n",
       "      <th>VAR_0217</th>\n",
       "      <th>VAR_0226</th>\n",
       "      <th>VAR_0230</th>\n",
       "      <th>VAR_0232</th>\n",
       "      <th>VAR_0236</th>\n",
       "      <th>VAR_0237</th>\n",
       "      <th>VAR_0274</th>\n",
       "      <th>VAR_0283</th>\n",
       "      <th>VAR_0305</th>\n",
       "      <th>VAR_0325</th>\n",
       "      <th>VAR_0342</th>\n",
       "      <th>VAR_0352</th>\n",
       "      <th>VAR_0353</th>\n",
       "      <th>VAR_0354</th>\n",
       "      <th>VAR_0404</th>\n",
       "      <th>VAR_0466</th>\n",
       "      <th>VAR_0467</th>\n",
       "      <th>VAR_0493</th>\n",
       "      <th>VAR_1934</th>\n",
       "    </tr>\n",
       "  </thead>\n",
       "  <tbody>\n",
       "    <tr>\n",
       "      <th>0</th>\n",
       "      <td>H</td>\n",
       "      <td>C</td>\n",
       "      <td>08NOV11:00:00:00</td>\n",
       "      <td>FT LAUDERDALE</td>\n",
       "      <td>29JAN14:21:16:00</td>\n",
       "      <td>08NOV11:02:00:00</td>\n",
       "      <td>False</td>\n",
       "      <td>False</td>\n",
       "      <td>True</td>\n",
       "      <td>True</td>\n",
       "      <td>FL</td>\n",
       "      <td>FL</td>\n",
       "      <td>S</td>\n",
       "      <td>S</td>\n",
       "      <td>-1</td>\n",
       "      <td>CF</td>\n",
       "      <td>O</td>\n",
       "      <td>U</td>\n",
       "      <td>O</td>\n",
       "      <td>CHIEF EXECUTIVE OFFICER</td>\n",
       "      <td>-1</td>\n",
       "      <td>-1</td>\n",
       "      <td>COMMUNITY ASSOCIATION MANAGER</td>\n",
       "      <td>IAPS</td>\n",
       "    </tr>\n",
       "    <tr>\n",
       "      <th>1</th>\n",
       "      <td>H</td>\n",
       "      <td>B</td>\n",
       "      <td>10NOV11:00:00:00</td>\n",
       "      <td>SANTEE</td>\n",
       "      <td>01FEB14:00:11:00</td>\n",
       "      <td>02OCT12:02:00:00</td>\n",
       "      <td>False</td>\n",
       "      <td>False</td>\n",
       "      <td>False</td>\n",
       "      <td>True</td>\n",
       "      <td>CA</td>\n",
       "      <td>MI</td>\n",
       "      <td>S</td>\n",
       "      <td>S</td>\n",
       "      <td>H</td>\n",
       "      <td>EC</td>\n",
       "      <td>O</td>\n",
       "      <td>R</td>\n",
       "      <td>R</td>\n",
       "      <td>-1</td>\n",
       "      <td>I</td>\n",
       "      <td>Discharged</td>\n",
       "      <td>-1</td>\n",
       "      <td>IAPS</td>\n",
       "    </tr>\n",
       "    <tr>\n",
       "      <th>2</th>\n",
       "      <td>H</td>\n",
       "      <td>C</td>\n",
       "      <td>13DEC11:00:00:00</td>\n",
       "      <td>REEDSVILLE</td>\n",
       "      <td>30JAN14:15:11:00</td>\n",
       "      <td>13DEC11:02:00:00</td>\n",
       "      <td>False</td>\n",
       "      <td>False</td>\n",
       "      <td>True</td>\n",
       "      <td>True</td>\n",
       "      <td>WV</td>\n",
       "      <td>WV</td>\n",
       "      <td>S</td>\n",
       "      <td>P</td>\n",
       "      <td>R</td>\n",
       "      <td>UU</td>\n",
       "      <td>R</td>\n",
       "      <td>R</td>\n",
       "      <td>-1</td>\n",
       "      <td>-1</td>\n",
       "      <td>-1</td>\n",
       "      <td>-1</td>\n",
       "      <td>-1</td>\n",
       "      <td>IAPS</td>\n",
       "    </tr>\n",
       "    <tr>\n",
       "      <th>3</th>\n",
       "      <td>H</td>\n",
       "      <td>C</td>\n",
       "      <td>23SEP10:00:00:00</td>\n",
       "      <td>LIBERTY</td>\n",
       "      <td>01FEB14:00:07:00</td>\n",
       "      <td>01NOV12:02:00:00</td>\n",
       "      <td>False</td>\n",
       "      <td>False</td>\n",
       "      <td>False</td>\n",
       "      <td>True</td>\n",
       "      <td>TX</td>\n",
       "      <td>TX</td>\n",
       "      <td>S</td>\n",
       "      <td>P</td>\n",
       "      <td>H</td>\n",
       "      <td>-1</td>\n",
       "      <td>R</td>\n",
       "      <td>R</td>\n",
       "      <td>-1</td>\n",
       "      <td>-1</td>\n",
       "      <td>-1</td>\n",
       "      <td>-1</td>\n",
       "      <td>-1</td>\n",
       "      <td>RCC</td>\n",
       "    </tr>\n",
       "    <tr>\n",
       "      <th>4</th>\n",
       "      <td>R</td>\n",
       "      <td>N</td>\n",
       "      <td>15OCT11:00:00:00</td>\n",
       "      <td>FRANKFORT</td>\n",
       "      <td>29JAN14:19:31:00</td>\n",
       "      <td>15OCT11:02:00:00</td>\n",
       "      <td>False</td>\n",
       "      <td>False</td>\n",
       "      <td>True</td>\n",
       "      <td>True</td>\n",
       "      <td>IL</td>\n",
       "      <td>IL</td>\n",
       "      <td>S</td>\n",
       "      <td>P</td>\n",
       "      <td>S</td>\n",
       "      <td>-1</td>\n",
       "      <td>R</td>\n",
       "      <td>U</td>\n",
       "      <td>O</td>\n",
       "      <td>-1</td>\n",
       "      <td>-1</td>\n",
       "      <td>-1</td>\n",
       "      <td>-1</td>\n",
       "      <td>BRANCH</td>\n",
       "    </tr>\n",
       "  </tbody>\n",
       "</table>\n",
       "</div>"
      ],
      "text/plain": [
       "  VAR_0001 VAR_0005          VAR_0075       VAR_0200          VAR_0204  \\\n",
       "0        H        C  08NOV11:00:00:00  FT LAUDERDALE  29JAN14:21:16:00   \n",
       "1        H        B  10NOV11:00:00:00         SANTEE  01FEB14:00:11:00   \n",
       "2        H        C  13DEC11:00:00:00     REEDSVILLE  30JAN14:15:11:00   \n",
       "3        H        C  23SEP10:00:00:00        LIBERTY  01FEB14:00:07:00   \n",
       "4        R        N  15OCT11:00:00:00      FRANKFORT  29JAN14:19:31:00   \n",
       "\n",
       "           VAR_0217 VAR_0226 VAR_0230 VAR_0232 VAR_0236 VAR_0237 VAR_0274  \\\n",
       "0  08NOV11:02:00:00    False    False     True     True       FL       FL   \n",
       "1  02OCT12:02:00:00    False    False    False     True       CA       MI   \n",
       "2  13DEC11:02:00:00    False    False     True     True       WV       WV   \n",
       "3  01NOV12:02:00:00    False    False    False     True       TX       TX   \n",
       "4  15OCT11:02:00:00    False    False     True     True       IL       IL   \n",
       "\n",
       "  VAR_0283 VAR_0305 VAR_0325 VAR_0342 VAR_0352 VAR_0353 VAR_0354  \\\n",
       "0        S        S       -1       CF        O        U        O   \n",
       "1        S        S        H       EC        O        R        R   \n",
       "2        S        P        R       UU        R        R       -1   \n",
       "3        S        P        H       -1        R        R       -1   \n",
       "4        S        P        S       -1        R        U        O   \n",
       "\n",
       "                  VAR_0404 VAR_0466    VAR_0467  \\\n",
       "0  CHIEF EXECUTIVE OFFICER       -1          -1   \n",
       "1                       -1        I  Discharged   \n",
       "2                       -1       -1          -1   \n",
       "3                       -1       -1          -1   \n",
       "4                       -1       -1          -1   \n",
       "\n",
       "                        VAR_0493 VAR_1934  \n",
       "0  COMMUNITY ASSOCIATION MANAGER     IAPS  \n",
       "1                             -1     IAPS  \n",
       "2                             -1     IAPS  \n",
       "3                             -1      RCC  \n",
       "4                             -1   BRANCH  "
      ]
     },
     "execution_count": 143,
     "metadata": {},
     "output_type": "execute_result"
    }
   ],
   "source": [
    "df_cat_cols_new = df.select_dtypes('object').columns\n",
    "df[df_cat_cols_new].head()"
   ]
  },
  {
   "cell_type": "code",
   "execution_count": 144,
   "metadata": {},
   "outputs": [
    {
     "data": {
      "text/plain": [
       "VAR_0200    12385\n",
       "VAR_0075     2371\n",
       "VAR_0404     1823\n",
       "VAR_0204     1192\n",
       "VAR_0493      608\n",
       "VAR_0217      397\n",
       "VAR_0274       57\n",
       "VAR_0342       50\n",
       "VAR_0237       45\n",
       "VAR_0325        9\n",
       "VAR_0305        8\n",
       "VAR_0283        7\n",
       "VAR_1934        5\n",
       "VAR_0005        4\n",
       "VAR_0352        4\n",
       "VAR_0353        4\n",
       "VAR_0354        4\n",
       "VAR_0467        4\n",
       "VAR_0001        3\n",
       "VAR_0236        2\n",
       "VAR_0232        2\n",
       "VAR_0230        2\n",
       "VAR_0466        2\n",
       "VAR_0226        2\n",
       "dtype: int64"
      ]
     },
     "execution_count": 144,
     "metadata": {},
     "output_type": "execute_result"
    }
   ],
   "source": [
    "df[df_cat_cols_new].nunique().sort_values(ascending=False)"
   ]
  },
  {
   "cell_type": "code",
   "execution_count": 145,
   "metadata": {},
   "outputs": [],
   "source": [
    "def parse_str2time(df_origin: pd.DataFrame, cols: list, date_format, drop=False):\n",
    "  for _, col in enumerate(cols):\n",
    "    parsed_date = pd.to_datetime(df_origin[col], format=date_format)\n",
    "\n",
    "    df_origin[f'{col}_DAY'] = parsed_date.dt.day\n",
    "    df_origin[f'{col}_MONTH'] = parsed_date.dt.month\n",
    "    df_origin[f'{col}_YEAR'] = parsed_date.dt.month\n",
    "    \n",
    "    df_origin[f'{col}_HOUR'] = parsed_date.dt.hour\n",
    "    df_origin[f'{col}_MIN'] = parsed_date.dt.minute\n",
    "    \n",
    "    if drop:\n",
    "      df_origin.drop(columns=[col], inplace=True)\n",
    "    \n",
    "  return df_origin"
   ]
  },
  {
   "cell_type": "code",
   "execution_count": 146,
   "metadata": {},
   "outputs": [],
   "source": [
    "date_format = '%d%b%y:%H:%M:%S'\n",
    "date_cols = ['VAR_0075', 'VAR_0204', 'VAR_0217']\n",
    "\n",
    "df = parse_str2time(df_origin=df,\n",
    "                    cols=date_cols,\n",
    "                    date_format=date_format,\n",
    "                    drop=True)\n",
    "df = save_memory_df(df)"
   ]
  },
  {
   "cell_type": "code",
   "execution_count": 147,
   "metadata": {},
   "outputs": [
    {
     "data": {
      "text/html": [
       "<div>\n",
       "<style scoped>\n",
       "    .dataframe tbody tr th:only-of-type {\n",
       "        vertical-align: middle;\n",
       "    }\n",
       "\n",
       "    .dataframe tbody tr th {\n",
       "        vertical-align: top;\n",
       "    }\n",
       "\n",
       "    .dataframe thead th {\n",
       "        text-align: right;\n",
       "    }\n",
       "</style>\n",
       "<table border=\"1\" class=\"dataframe\">\n",
       "  <thead>\n",
       "    <tr style=\"text-align: right;\">\n",
       "      <th></th>\n",
       "      <th>VAR_0075_DAY</th>\n",
       "      <th>VAR_0075_MONTH</th>\n",
       "      <th>VAR_0075_YEAR</th>\n",
       "      <th>VAR_0075_HOUR</th>\n",
       "      <th>VAR_0075_MIN</th>\n",
       "    </tr>\n",
       "  </thead>\n",
       "  <tbody>\n",
       "    <tr>\n",
       "      <th>0</th>\n",
       "      <td>8.0</td>\n",
       "      <td>11.0</td>\n",
       "      <td>11.0</td>\n",
       "      <td>0.0</td>\n",
       "      <td>0.0</td>\n",
       "    </tr>\n",
       "    <tr>\n",
       "      <th>1</th>\n",
       "      <td>10.0</td>\n",
       "      <td>11.0</td>\n",
       "      <td>11.0</td>\n",
       "      <td>0.0</td>\n",
       "      <td>0.0</td>\n",
       "    </tr>\n",
       "    <tr>\n",
       "      <th>2</th>\n",
       "      <td>13.0</td>\n",
       "      <td>12.0</td>\n",
       "      <td>12.0</td>\n",
       "      <td>0.0</td>\n",
       "      <td>0.0</td>\n",
       "    </tr>\n",
       "    <tr>\n",
       "      <th>3</th>\n",
       "      <td>23.0</td>\n",
       "      <td>9.0</td>\n",
       "      <td>9.0</td>\n",
       "      <td>0.0</td>\n",
       "      <td>0.0</td>\n",
       "    </tr>\n",
       "    <tr>\n",
       "      <th>4</th>\n",
       "      <td>15.0</td>\n",
       "      <td>10.0</td>\n",
       "      <td>10.0</td>\n",
       "      <td>0.0</td>\n",
       "      <td>0.0</td>\n",
       "    </tr>\n",
       "  </tbody>\n",
       "</table>\n",
       "</div>"
      ],
      "text/plain": [
       "   VAR_0075_DAY  VAR_0075_MONTH  VAR_0075_YEAR  VAR_0075_HOUR  VAR_0075_MIN\n",
       "0           8.0            11.0           11.0            0.0           0.0\n",
       "1          10.0            11.0           11.0            0.0           0.0\n",
       "2          13.0            12.0           12.0            0.0           0.0\n",
       "3          23.0             9.0            9.0            0.0           0.0\n",
       "4          15.0            10.0           10.0            0.0           0.0"
      ]
     },
     "metadata": {},
     "output_type": "display_data"
    },
    {
     "data": {
      "text/html": [
       "<div>\n",
       "<style scoped>\n",
       "    .dataframe tbody tr th:only-of-type {\n",
       "        vertical-align: middle;\n",
       "    }\n",
       "\n",
       "    .dataframe tbody tr th {\n",
       "        vertical-align: top;\n",
       "    }\n",
       "\n",
       "    .dataframe thead th {\n",
       "        text-align: right;\n",
       "    }\n",
       "</style>\n",
       "<table border=\"1\" class=\"dataframe\">\n",
       "  <thead>\n",
       "    <tr style=\"text-align: right;\">\n",
       "      <th></th>\n",
       "      <th>VAR_0204_DAY</th>\n",
       "      <th>VAR_0204_MONTH</th>\n",
       "      <th>VAR_0204_YEAR</th>\n",
       "      <th>VAR_0204_HOUR</th>\n",
       "      <th>VAR_0204_MIN</th>\n",
       "    </tr>\n",
       "  </thead>\n",
       "  <tbody>\n",
       "    <tr>\n",
       "      <th>0</th>\n",
       "      <td>29.0</td>\n",
       "      <td>1.0</td>\n",
       "      <td>1.0</td>\n",
       "      <td>21.0</td>\n",
       "      <td>16.0</td>\n",
       "    </tr>\n",
       "    <tr>\n",
       "      <th>1</th>\n",
       "      <td>1.0</td>\n",
       "      <td>2.0</td>\n",
       "      <td>2.0</td>\n",
       "      <td>0.0</td>\n",
       "      <td>11.0</td>\n",
       "    </tr>\n",
       "    <tr>\n",
       "      <th>2</th>\n",
       "      <td>30.0</td>\n",
       "      <td>1.0</td>\n",
       "      <td>1.0</td>\n",
       "      <td>15.0</td>\n",
       "      <td>11.0</td>\n",
       "    </tr>\n",
       "    <tr>\n",
       "      <th>3</th>\n",
       "      <td>1.0</td>\n",
       "      <td>2.0</td>\n",
       "      <td>2.0</td>\n",
       "      <td>0.0</td>\n",
       "      <td>7.0</td>\n",
       "    </tr>\n",
       "    <tr>\n",
       "      <th>4</th>\n",
       "      <td>29.0</td>\n",
       "      <td>1.0</td>\n",
       "      <td>1.0</td>\n",
       "      <td>19.0</td>\n",
       "      <td>31.0</td>\n",
       "    </tr>\n",
       "  </tbody>\n",
       "</table>\n",
       "</div>"
      ],
      "text/plain": [
       "   VAR_0204_DAY  VAR_0204_MONTH  VAR_0204_YEAR  VAR_0204_HOUR  VAR_0204_MIN\n",
       "0          29.0             1.0            1.0           21.0          16.0\n",
       "1           1.0             2.0            2.0            0.0          11.0\n",
       "2          30.0             1.0            1.0           15.0          11.0\n",
       "3           1.0             2.0            2.0            0.0           7.0\n",
       "4          29.0             1.0            1.0           19.0          31.0"
      ]
     },
     "metadata": {},
     "output_type": "display_data"
    },
    {
     "data": {
      "text/html": [
       "<div>\n",
       "<style scoped>\n",
       "    .dataframe tbody tr th:only-of-type {\n",
       "        vertical-align: middle;\n",
       "    }\n",
       "\n",
       "    .dataframe tbody tr th {\n",
       "        vertical-align: top;\n",
       "    }\n",
       "\n",
       "    .dataframe thead th {\n",
       "        text-align: right;\n",
       "    }\n",
       "</style>\n",
       "<table border=\"1\" class=\"dataframe\">\n",
       "  <thead>\n",
       "    <tr style=\"text-align: right;\">\n",
       "      <th></th>\n",
       "      <th>VAR_0217_DAY</th>\n",
       "      <th>VAR_0217_MONTH</th>\n",
       "      <th>VAR_0217_YEAR</th>\n",
       "      <th>VAR_0217_HOUR</th>\n",
       "      <th>VAR_0217_MIN</th>\n",
       "    </tr>\n",
       "  </thead>\n",
       "  <tbody>\n",
       "    <tr>\n",
       "      <th>0</th>\n",
       "      <td>8.0</td>\n",
       "      <td>11.0</td>\n",
       "      <td>11.0</td>\n",
       "      <td>2.0</td>\n",
       "      <td>0.0</td>\n",
       "    </tr>\n",
       "    <tr>\n",
       "      <th>1</th>\n",
       "      <td>2.0</td>\n",
       "      <td>10.0</td>\n",
       "      <td>10.0</td>\n",
       "      <td>2.0</td>\n",
       "      <td>0.0</td>\n",
       "    </tr>\n",
       "    <tr>\n",
       "      <th>2</th>\n",
       "      <td>13.0</td>\n",
       "      <td>12.0</td>\n",
       "      <td>12.0</td>\n",
       "      <td>2.0</td>\n",
       "      <td>0.0</td>\n",
       "    </tr>\n",
       "    <tr>\n",
       "      <th>3</th>\n",
       "      <td>1.0</td>\n",
       "      <td>11.0</td>\n",
       "      <td>11.0</td>\n",
       "      <td>2.0</td>\n",
       "      <td>0.0</td>\n",
       "    </tr>\n",
       "    <tr>\n",
       "      <th>4</th>\n",
       "      <td>15.0</td>\n",
       "      <td>10.0</td>\n",
       "      <td>10.0</td>\n",
       "      <td>2.0</td>\n",
       "      <td>0.0</td>\n",
       "    </tr>\n",
       "  </tbody>\n",
       "</table>\n",
       "</div>"
      ],
      "text/plain": [
       "   VAR_0217_DAY  VAR_0217_MONTH  VAR_0217_YEAR  VAR_0217_HOUR  VAR_0217_MIN\n",
       "0           8.0            11.0           11.0            2.0           0.0\n",
       "1           2.0            10.0           10.0            2.0           0.0\n",
       "2          13.0            12.0           12.0            2.0           0.0\n",
       "3           1.0            11.0           11.0            2.0           0.0\n",
       "4          15.0            10.0           10.0            2.0           0.0"
      ]
     },
     "metadata": {},
     "output_type": "display_data"
    }
   ],
   "source": [
    "display(df.filter(like='VAR_0075').head())\n",
    "display(df.filter(like='VAR_0204').head())\n",
    "display(df.filter(like='VAR_0217').head())"
   ]
  },
  {
   "cell_type": "code",
   "execution_count": 148,
   "metadata": {},
   "outputs": [
    {
     "data": {
      "text/plain": [
       "VAR_0075_HOUR      1\n",
       "VAR_0075_MIN       1\n",
       "VAR_0217_HOUR      1\n",
       "VAR_0217_MIN       1\n",
       "VAR_0204_MONTH     2\n",
       "VAR_0204_YEAR      2\n",
       "VAR_0204_DAY       4\n",
       "VAR_0075_MONTH    12\n",
       "VAR_0075_YEAR     12\n",
       "VAR_0204_HOUR     12\n",
       "VAR_0217_MONTH    12\n",
       "VAR_0217_YEAR     12\n",
       "VAR_0075_DAY      31\n",
       "VAR_0217_DAY      31\n",
       "VAR_0204_MIN      60\n",
       "dtype: int64"
      ]
     },
     "execution_count": 148,
     "metadata": {},
     "output_type": "execute_result"
    }
   ],
   "source": [
    "parsed_date_cols = ['VAR_0075_DAY', 'VAR_0075_MONTH', 'VAR_0075_YEAR', 'VAR_0075_HOUR', 'VAR_0075_MIN',\n",
    "                    'VAR_0204_DAY', 'VAR_0204_MONTH', 'VAR_0204_YEAR', 'VAR_0204_HOUR', 'VAR_0204_MIN',\n",
    "                    'VAR_0217_DAY', 'VAR_0217_MONTH', 'VAR_0217_YEAR', 'VAR_0217_HOUR', 'VAR_0217_MIN']\n",
    "\n",
    "parsed_date_cols_single = df[parsed_date_cols].nunique().sort_values()\n",
    "parsed_date_cols_single"
   ]
  },
  {
   "cell_type": "code",
   "execution_count": 149,
   "metadata": {},
   "outputs": [
    {
     "data": {
      "text/plain": [
       "['VAR_0075_HOUR', 'VAR_0075_MIN', 'VAR_0217_HOUR', 'VAR_0217_MIN']"
      ]
     },
     "execution_count": 149,
     "metadata": {},
     "output_type": "execute_result"
    }
   ],
   "source": [
    "parsed_date_cols_single = parsed_date_cols_single[parsed_date_cols_single == 1]\n",
    "parsed_date_cols_single = parsed_date_cols_single.index.to_list()\n",
    "parsed_date_cols_single"
   ]
  },
  {
   "cell_type": "code",
   "execution_count": 150,
   "metadata": {},
   "outputs": [],
   "source": [
    "df.drop(columns=parsed_date_cols_single, axis=1, inplace=True)"
   ]
  },
  {
   "cell_type": "code",
   "execution_count": 151,
   "metadata": {},
   "outputs": [
    {
     "data": {
      "text/html": [
       "<div>\n",
       "<style scoped>\n",
       "    .dataframe tbody tr th:only-of-type {\n",
       "        vertical-align: middle;\n",
       "    }\n",
       "\n",
       "    .dataframe tbody tr th {\n",
       "        vertical-align: top;\n",
       "    }\n",
       "\n",
       "    .dataframe thead th {\n",
       "        text-align: right;\n",
       "    }\n",
       "</style>\n",
       "<table border=\"1\" class=\"dataframe\">\n",
       "  <thead>\n",
       "    <tr style=\"text-align: right;\">\n",
       "      <th></th>\n",
       "      <th>VAR_0001</th>\n",
       "      <th>VAR_0005</th>\n",
       "      <th>VAR_0200</th>\n",
       "      <th>VAR_0226</th>\n",
       "      <th>VAR_0230</th>\n",
       "      <th>VAR_0232</th>\n",
       "      <th>VAR_0236</th>\n",
       "      <th>VAR_0237</th>\n",
       "      <th>VAR_0274</th>\n",
       "      <th>VAR_0283</th>\n",
       "      <th>VAR_0305</th>\n",
       "      <th>VAR_0325</th>\n",
       "      <th>VAR_0342</th>\n",
       "      <th>VAR_0352</th>\n",
       "      <th>VAR_0353</th>\n",
       "      <th>VAR_0354</th>\n",
       "      <th>VAR_0404</th>\n",
       "      <th>VAR_0466</th>\n",
       "      <th>VAR_0467</th>\n",
       "      <th>VAR_0493</th>\n",
       "      <th>VAR_1934</th>\n",
       "    </tr>\n",
       "  </thead>\n",
       "  <tbody>\n",
       "    <tr>\n",
       "      <th>0</th>\n",
       "      <td>H</td>\n",
       "      <td>C</td>\n",
       "      <td>FT LAUDERDALE</td>\n",
       "      <td>False</td>\n",
       "      <td>False</td>\n",
       "      <td>True</td>\n",
       "      <td>True</td>\n",
       "      <td>FL</td>\n",
       "      <td>FL</td>\n",
       "      <td>S</td>\n",
       "      <td>S</td>\n",
       "      <td>-1</td>\n",
       "      <td>CF</td>\n",
       "      <td>O</td>\n",
       "      <td>U</td>\n",
       "      <td>O</td>\n",
       "      <td>CHIEF EXECUTIVE OFFICER</td>\n",
       "      <td>-1</td>\n",
       "      <td>-1</td>\n",
       "      <td>COMMUNITY ASSOCIATION MANAGER</td>\n",
       "      <td>IAPS</td>\n",
       "    </tr>\n",
       "    <tr>\n",
       "      <th>1</th>\n",
       "      <td>H</td>\n",
       "      <td>B</td>\n",
       "      <td>SANTEE</td>\n",
       "      <td>False</td>\n",
       "      <td>False</td>\n",
       "      <td>False</td>\n",
       "      <td>True</td>\n",
       "      <td>CA</td>\n",
       "      <td>MI</td>\n",
       "      <td>S</td>\n",
       "      <td>S</td>\n",
       "      <td>H</td>\n",
       "      <td>EC</td>\n",
       "      <td>O</td>\n",
       "      <td>R</td>\n",
       "      <td>R</td>\n",
       "      <td>-1</td>\n",
       "      <td>I</td>\n",
       "      <td>Discharged</td>\n",
       "      <td>-1</td>\n",
       "      <td>IAPS</td>\n",
       "    </tr>\n",
       "    <tr>\n",
       "      <th>2</th>\n",
       "      <td>H</td>\n",
       "      <td>C</td>\n",
       "      <td>REEDSVILLE</td>\n",
       "      <td>False</td>\n",
       "      <td>False</td>\n",
       "      <td>True</td>\n",
       "      <td>True</td>\n",
       "      <td>WV</td>\n",
       "      <td>WV</td>\n",
       "      <td>S</td>\n",
       "      <td>P</td>\n",
       "      <td>R</td>\n",
       "      <td>UU</td>\n",
       "      <td>R</td>\n",
       "      <td>R</td>\n",
       "      <td>-1</td>\n",
       "      <td>-1</td>\n",
       "      <td>-1</td>\n",
       "      <td>-1</td>\n",
       "      <td>-1</td>\n",
       "      <td>IAPS</td>\n",
       "    </tr>\n",
       "    <tr>\n",
       "      <th>3</th>\n",
       "      <td>H</td>\n",
       "      <td>C</td>\n",
       "      <td>LIBERTY</td>\n",
       "      <td>False</td>\n",
       "      <td>False</td>\n",
       "      <td>False</td>\n",
       "      <td>True</td>\n",
       "      <td>TX</td>\n",
       "      <td>TX</td>\n",
       "      <td>S</td>\n",
       "      <td>P</td>\n",
       "      <td>H</td>\n",
       "      <td>-1</td>\n",
       "      <td>R</td>\n",
       "      <td>R</td>\n",
       "      <td>-1</td>\n",
       "      <td>-1</td>\n",
       "      <td>-1</td>\n",
       "      <td>-1</td>\n",
       "      <td>-1</td>\n",
       "      <td>RCC</td>\n",
       "    </tr>\n",
       "    <tr>\n",
       "      <th>4</th>\n",
       "      <td>R</td>\n",
       "      <td>N</td>\n",
       "      <td>FRANKFORT</td>\n",
       "      <td>False</td>\n",
       "      <td>False</td>\n",
       "      <td>True</td>\n",
       "      <td>True</td>\n",
       "      <td>IL</td>\n",
       "      <td>IL</td>\n",
       "      <td>S</td>\n",
       "      <td>P</td>\n",
       "      <td>S</td>\n",
       "      <td>-1</td>\n",
       "      <td>R</td>\n",
       "      <td>U</td>\n",
       "      <td>O</td>\n",
       "      <td>-1</td>\n",
       "      <td>-1</td>\n",
       "      <td>-1</td>\n",
       "      <td>-1</td>\n",
       "      <td>BRANCH</td>\n",
       "    </tr>\n",
       "  </tbody>\n",
       "</table>\n",
       "</div>"
      ],
      "text/plain": [
       "  VAR_0001 VAR_0005       VAR_0200 VAR_0226 VAR_0230 VAR_0232 VAR_0236  \\\n",
       "0        H        C  FT LAUDERDALE    False    False     True     True   \n",
       "1        H        B         SANTEE    False    False    False     True   \n",
       "2        H        C     REEDSVILLE    False    False     True     True   \n",
       "3        H        C        LIBERTY    False    False    False     True   \n",
       "4        R        N      FRANKFORT    False    False     True     True   \n",
       "\n",
       "  VAR_0237 VAR_0274 VAR_0283 VAR_0305 VAR_0325 VAR_0342 VAR_0352 VAR_0353  \\\n",
       "0       FL       FL        S        S       -1       CF        O        U   \n",
       "1       CA       MI        S        S        H       EC        O        R   \n",
       "2       WV       WV        S        P        R       UU        R        R   \n",
       "3       TX       TX        S        P        H       -1        R        R   \n",
       "4       IL       IL        S        P        S       -1        R        U   \n",
       "\n",
       "  VAR_0354                 VAR_0404 VAR_0466    VAR_0467  \\\n",
       "0        O  CHIEF EXECUTIVE OFFICER       -1          -1   \n",
       "1        R                       -1        I  Discharged   \n",
       "2       -1                       -1       -1          -1   \n",
       "3       -1                       -1       -1          -1   \n",
       "4        O                       -1       -1          -1   \n",
       "\n",
       "                        VAR_0493 VAR_1934  \n",
       "0  COMMUNITY ASSOCIATION MANAGER     IAPS  \n",
       "1                             -1     IAPS  \n",
       "2                             -1     IAPS  \n",
       "3                             -1      RCC  \n",
       "4                             -1   BRANCH  "
      ]
     },
     "execution_count": 151,
     "metadata": {},
     "output_type": "execute_result"
    }
   ],
   "source": [
    "df_cat_cols_new = df.select_dtypes('object').columns\n",
    "df[df_cat_cols_new].head()"
   ]
  },
  {
   "cell_type": "code",
   "execution_count": 152,
   "metadata": {},
   "outputs": [
    {
     "data": {
      "text/plain": [
       "VAR_0200    12385\n",
       "VAR_0404     1823\n",
       "VAR_0493      608\n",
       "VAR_0274       57\n",
       "VAR_0342       50\n",
       "VAR_0237       45\n",
       "VAR_0325        9\n",
       "VAR_0305        8\n",
       "VAR_0283        7\n",
       "VAR_1934        5\n",
       "VAR_0005        4\n",
       "VAR_0352        4\n",
       "VAR_0353        4\n",
       "VAR_0354        4\n",
       "VAR_0467        4\n",
       "VAR_0001        3\n",
       "VAR_0236        2\n",
       "VAR_0232        2\n",
       "VAR_0230        2\n",
       "VAR_0466        2\n",
       "VAR_0226        2\n",
       "dtype: int64"
      ]
     },
     "execution_count": 152,
     "metadata": {},
     "output_type": "execute_result"
    }
   ],
   "source": [
    "df[df_cat_cols_new].nunique().sort_values(ascending=False)"
   ]
  },
  {
   "cell_type": "code",
   "execution_count": 153,
   "metadata": {},
   "outputs": [
    {
     "data": {
      "text/plain": [
       "VAR_0200\n",
       "CHICAGO         2091\n",
       "HOUSTON         1306\n",
       "JACKSONVILLE    1063\n",
       "SAN ANTONIO     1012\n",
       "INDIANAPOLIS     866\n",
       "                ... \n",
       "HAINES CITY       20\n",
       "SAN FERNANDO      20\n",
       "WILDOMAR          20\n",
       "RED LION          20\n",
       "CARMICHAEL        20\n",
       "Name: count, Length: 1426, dtype: int64"
      ]
     },
     "execution_count": 153,
     "metadata": {},
     "output_type": "execute_result"
    }
   ],
   "source": [
    "var200_count = df['VAR_0200'].value_counts()\n",
    "var200_count[var200_count >= 20]"
   ]
  },
  {
   "cell_type": "code",
   "execution_count": 154,
   "metadata": {},
   "outputs": [
    {
     "data": {
      "text/plain": [
       "VAR_0200\n",
       "PHILADELPHIA        772\n",
       "PHILA                75\n",
       "NEW PHILADELPHIA      9\n",
       "NEW PHILA             7\n",
       "PHILADELHIA           4\n",
       "PHILADEPHIA           3\n",
       "PHILADLEPHIA          1\n",
       "PHILAELPHIA           1\n",
       "PHILADELPHIIA         1\n",
       "PHILAD                1\n",
       "PHILADELPHA           1\n",
       "PHILADEPLHIA          1\n",
       "PHILADELPIA           1\n",
       "Name: count, dtype: int64"
      ]
     },
     "execution_count": 154,
     "metadata": {},
     "output_type": "execute_result"
    }
   ],
   "source": [
    "var200_count.filter(like='PHILA')"
   ]
  },
  {
   "cell_type": "code",
   "execution_count": 155,
   "metadata": {},
   "outputs": [
    {
     "data": {
      "text/plain": [
       "VAR_0404\n",
       "-1                               130443\n",
       "CONTACT                            2163\n",
       "PRESIDENT                          1315\n",
       "AGENT                              1072\n",
       "DIRECTOR                            864\n",
       "OWNER                               770\n",
       "MEMBER                              566\n",
       "SECRETARY                           512\n",
       "INDIVIDUAL - SOLE OWNER             458\n",
       "MANAGER                             361\n",
       "INCORPORATOR                        288\n",
       "VICE PRESIDENT                      267\n",
       "CONTA                               254\n",
       "TREASURER                           225\n",
       "BOARD MEMBER                        167\n",
       "MEMBER MANAGER                      164\n",
       "CEO                                 143\n",
       "OFFICE MANAGER                      106\n",
       "REGISTRANT                          105\n",
       "CHIEF EXECUTIVE OFFICER             103\n",
       "MANAGING MEMBER                     102\n",
       "TAX RESPONSIBLE PARTY                99\n",
       "PARTNER                              88\n",
       "CFO                                  87\n",
       "ORGANIZER                            55\n",
       "APPLICANT                            53\n",
       "MEMBER/MANAGER                       52\n",
       "CEO;SECRETARY;CFO                    51\n",
       "MEDICAL ASSISTANT                    45\n",
       "PHARMACY TECHNICIAN                  42\n",
       "CHIEF FINANCIAL OFFICER              40\n",
       "OFFICER                              39\n",
       "ADMINISTRATIVE ASSISTANT             37\n",
       "CERTIFIED PHARMACY TECHNICIAN        37\n",
       "TITLE NOT SPECIFIED                  27\n",
       "SECRETARY;CFO                        24\n",
       "TEACHER                              23\n",
       "PROCESS ADDRESS CONTACT              23\n",
       "CONTRIBUTOR                          22\n",
       "FILER                                21\n",
       "DP                                   20\n",
       "PRINCIPAL                            20\n",
       "EXECUTIVE DIRECTOR                   20\n",
       "MANAGER/MEMBER                       20\n",
       "CEO;CFO                              20\n",
       "Name: count, dtype: int64"
      ]
     },
     "execution_count": 155,
     "metadata": {},
     "output_type": "execute_result"
    }
   ],
   "source": [
    "var404_count = df['VAR_0404'].value_counts()\n",
    "var404_count[var404_count >= 20]"
   ]
  },
  {
   "cell_type": "code",
   "execution_count": 156,
   "metadata": {},
   "outputs": [
    {
     "data": {
      "text/plain": [
       "VAR_0404\n",
       "PRESIDENT                              1315\n",
       "VICE PRESIDENT                          267\n",
       "PRESIDENT, DIRECTOR                      12\n",
       "VICE-PRESIDENT                           12\n",
       "DIRECTOR;PRESIDENT                        9\n",
       "                                       ... \n",
       "PRESIDENT,TREASURER                       1\n",
       "DIRECTOR,VICE PRESIDENT                   1\n",
       "VICE PRESIDENT, REAL ESTATE               1\n",
       "DIRECTOR,PRESIDENT,SECRETARY,TREASU       1\n",
       "EXECUTIVE VICE PRESIDENT, ADVERTISI       1\n",
       "Name: count, Length: 107, dtype: int64"
      ]
     },
     "execution_count": 156,
     "metadata": {},
     "output_type": "execute_result"
    }
   ],
   "source": [
    "var404_count.filter(like='PRESIDENT')"
   ]
  },
  {
   "cell_type": "code",
   "execution_count": 157,
   "metadata": {},
   "outputs": [
    {
     "data": {
      "text/plain": [
       "VAR_0493\n",
       "-1                                      135182\n",
       "REGISTERED NURSE                          1099\n",
       "LICENSED PRACTICAL NURSE                   767\n",
       "PHARMACY TECHNICIAN                        536\n",
       "COSMETOLOGIST                              452\n",
       "GUARD                                      399\n",
       "PERMANENT EMPLOYEE REGISTRATION CARD       325\n",
       "PROFESSIONAL NURSE                         246\n",
       "LICENSED VOCATIONAL NURSE                  243\n",
       "NURSE AIDE                                 238\n",
       "CERTIFIED NURSING ASSISTANT                238\n",
       "REAL ESTATE                                226\n",
       "PRACTICAL NURSE                            141\n",
       "CERTIFIED NURSE AIDE                       111\n",
       "INSURANCE AGENTS                            98\n",
       "LICENSED REAL ESTATE SALESPERSON            89\n",
       "REGISTERED PROFESSIONAL NURSE               86\n",
       "FIREARM PERMIT                              85\n",
       "MASTER COSMETOLOGIST                        79\n",
       "REAL ESTATE SALESPERSON                     75\n",
       "RN                                          70\n",
       "VOCATIONAL NURSE                            65\n",
       "PRIVATE SECURITY PERSONS                    62\n",
       "EMERGENCY MEDICAL TECHNICIAN                62\n",
       "LPN                                         59\n",
       "RESPIRATORY CARE PRACTITIONER               54\n",
       "TECH                                        53\n",
       "REAL ESTATE SALES PERSON                    53\n",
       "CERTIFIED PUBLIC ACCOUNTANT                 52\n",
       "REAL ESTATE BROKER OR SALES                 48\n",
       "STAFF NURSE/GENERAL DUTY                    48\n",
       "PHARMACIST                                  47\n",
       "MORTGAGE BROKER - INDIVIDUAL                44\n",
       "COSMETOLOGISTS                              44\n",
       "ELECTRICIANS                                44\n",
       "MASSAGE THERAPIST                           43\n",
       "ATTORNEY                                    43\n",
       "NURSE, REGISTERED                           40\n",
       "LEGAL SERVICES                              39\n",
       "MANICURISTS                                 39\n",
       "DENTAL HYGIENIST                            39\n",
       "REGISTERED DENTAL ASSISTANT                 35\n",
       "ELECTRICIAN                                 34\n",
       "SECURITY GUARD/OFFICER                      33\n",
       "CONTRACTOR CONTROLLING INDIVIDUALS          33\n",
       "LICENSED SOCIAL WORKER                      33\n",
       "SOCIAL WORKER                               32\n",
       "COS MANAGER                                 32\n",
       "PHYSICAL THERAPIST ASSISTANT                30\n",
       "BARBER                                      29\n",
       "TRADESMEN                                   28\n",
       "NON-RESIDENT PRODUCER AGENT                 28\n",
       "AUTHORIZED EMPLOYEE                         27\n",
       "CLINICAL NURSE ASSISTANT                    26\n",
       "HOMEMAKER - HHA                             25\n",
       "BATON CERT - USED FOR HISTORY ONLY          25\n",
       "DENTAL ASSISITANT                           25\n",
       "PHYSICAL THERAPIST                          24\n",
       "ESTHETICIAN                                 24\n",
       "MANICURIST                                  24\n",
       "PSYCHIATRIC TECHNICIAN                      22\n",
       "NURSE, LICENSED PRACTICAL                   21\n",
       "ARMED SECURITY GUARDS                       21\n",
       "FIREARM TRAINING CERTIFICATE                21\n",
       "VEHICLE SALESPERSON                         21\n",
       "MEDICATION AIDE                             20\n",
       "SALESMAN                                    20\n",
       "Name: count, dtype: int64"
      ]
     },
     "execution_count": 157,
     "metadata": {},
     "output_type": "execute_result"
    }
   ],
   "source": [
    "var493_count = df['VAR_0493'].value_counts()\n",
    "var493_count[var493_count >= 20]"
   ]
  },
  {
   "cell_type": "code",
   "execution_count": 158,
   "metadata": {},
   "outputs": [
    {
     "data": {
      "text/plain": [
       "VAR_0493\n",
       "PHARMACY TECHNICIAN                 536\n",
       "EMERGENCY MEDICAL TECHNICIAN         62\n",
       "PSYCHIATRIC TECHNICIAN               22\n",
       "NAIL TECHNICIAN                      19\n",
       "NAIL TECHNICIANS                     14\n",
       "SMOG CHECK ADVANCED TECHNICIAN        7\n",
       "REGISTERED VETERINARY TECHNICIAN      5\n",
       "VETERINARY TECHNICIAN                 2\n",
       "RESPIRATORY THERAPY TECHNICIAN        2\n",
       "CARDIAC TECHNICIAN                    2\n",
       "PHARMACEUTICAL TECHNICIAN             1\n",
       "VETERINARY ANIMAL TECHNICIAN          1\n",
       "MEDICAL RESPONSE TECHNICIAN           1\n",
       "ANIMAL HEALTH TECHNICIAN              1\n",
       "NAIL TECHNICIAN APPRENTICE            1\n",
       "SOCIAL WORK TECHNICIAN                1\n",
       "NON-CERTIFIED TECHNICIAN              1\n",
       "CERTIFIED EUTHANASIA TECHNICIAN       1\n",
       "Name: count, dtype: int64"
      ]
     },
     "execution_count": 158,
     "metadata": {},
     "output_type": "execute_result"
    }
   ],
   "source": [
    "var493_count.filter(like='TECHNICIAN')"
   ]
  },
  {
   "cell_type": "markdown",
   "metadata": {},
   "source": [
    "### **Data splitting**"
   ]
  },
  {
   "cell_type": "markdown",
   "metadata": {},
   "source": [
    "##### **A. Train - test data split**"
   ]
  },
  {
   "cell_type": "code",
   "execution_count": 159,
   "metadata": {},
   "outputs": [
    {
     "name": "stdout",
     "output_type": "stream",
     "text": [
      "Train dataset shape (X): (116142, 1865)\n",
      "Test dataset shape (X_test): (29036, 1865)\n"
     ]
    }
   ],
   "source": [
    "X, X_test, y, y_test = train_test_split(df.drop(columns=['ID', 'target'], axis=1),\n",
    "                                                    df['target'],\n",
    "                                                    test_size=0.2,\n",
    "                                                    random_state=42,\n",
    "                                                    stratify=df['target'])\n",
    "\n",
    "print(f'Train dataset shape (X): {X.shape}')\n",
    "print(f'Test dataset shape (X_test): {X_test.shape}')"
   ]
  },
  {
   "cell_type": "markdown",
   "metadata": {},
   "source": [
    "##### **B. Data folding**"
   ]
  },
  {
   "cell_type": "code",
   "execution_count": 160,
   "metadata": {},
   "outputs": [],
   "source": [
    "n_splits = 5\n",
    "skf = StratifiedKFold(n_splits=n_splits, shuffle=True, random_state=42)"
   ]
  },
  {
   "cell_type": "markdown",
   "metadata": {},
   "source": [
    "### **Data preprocessing**"
   ]
  },
  {
   "cell_type": "code",
   "execution_count": 161,
   "metadata": {},
   "outputs": [],
   "source": [
    "X_num_cols = X.select_dtypes(exclude='object').columns\n",
    "X_cat_cols = X.select_dtypes('object').columns"
   ]
  },
  {
   "cell_type": "markdown",
   "metadata": {},
   "source": [
    "##### **A. Taget encoding**"
   ]
  },
  {
   "cell_type": "code",
   "execution_count": 162,
   "metadata": {},
   "outputs": [],
   "source": [
    "def target_encoding(y_tr_origin: np.ndarray, y_ts_origin: np.ndarray, encoder):\n",
    "  y_tr_enc = encoder.fit_transform(y_tr_origin)\n",
    "  y_ts_enc = encoder.transform(y_ts_origin)\n",
    "  \n",
    "  return (y_tr_enc, y_ts_enc)"
   ]
  },
  {
   "cell_type": "markdown",
   "metadata": {},
   "source": [
    "##### **B. Imbalanced data**"
   ]
  },
  {
   "cell_type": "code",
   "execution_count": 163,
   "metadata": {},
   "outputs": [],
   "source": [
    "def resampling(X_tr_origin: np.ndarray, y_tr_origin: np.ndarray, sampler):\n",
    "  X_res, y_res = sampler.fit_resample(X_tr_origin, y_tr_origin)\n",
    "  \n",
    "  return (X_res, y_res)"
   ]
  },
  {
   "cell_type": "markdown",
   "metadata": {},
   "source": [
    "##### **C. Outlier**"
   ]
  },
  {
   "cell_type": "code",
   "execution_count": 164,
   "metadata": {},
   "outputs": [],
   "source": [
    "def remove_outliers(X_tr_origin: np.ndarray, y_tr_origin: np.ndarray, outlier_detector):\n",
    "  outlier_label = outlier_detector.fit_predict(X_tr_origin)\n",
    "  non_outlier_mask = outlier_label == 1\n",
    "  \n",
    "  X_tr_clean = X_tr_origin[non_outlier_mask]\n",
    "  y_tr_clean = y_tr_origin[non_outlier_mask]\n",
    "  \n",
    "  return (X_tr_clean, y_tr_clean)"
   ]
  },
  {
   "cell_type": "markdown",
   "metadata": {},
   "source": [
    "##### **D. Save memory**"
   ]
  },
  {
   "cell_type": "code",
   "execution_count": 165,
   "metadata": {},
   "outputs": [],
   "source": [
    "def save_memory(_data: List[np.ndarray]):\n",
    "  _data = [data.astype(np.float32) if data.dtype == np.float64 else data.astype(np.int32) for data in _data]\n",
    "  \n",
    "  return _data"
   ]
  },
  {
   "cell_type": "markdown",
   "metadata": {},
   "source": [
    "##### **E. Build pipeline**"
   ]
  },
  {
   "cell_type": "code",
   "execution_count": 274,
   "metadata": {},
   "outputs": [],
   "source": [
    "num_imputer = SimpleImputer(missing_values=np.nan, strategy='mean')\n",
    "num_scaler = RobustScaler()\n",
    "\n",
    "cat_imputer = SimpleImputer(missing_values=np.nan, strategy='most_frequent')\n",
    "cat_encoder = OrdinalEncoder(dtype=np.float32,\n",
    "                             handle_unknown='use_encoded_value',\n",
    "                             unknown_value=-2,\n",
    "                             encoded_missing_value=-1,\n",
    "                             min_frequency=10)\n",
    "cat_scaler = RobustScaler()\n",
    "\n",
    "pca = PCA(n_components=250, random_state=42)\n",
    "\n",
    "outlier_detector = IsolationForest(random_state=42, n_jobs=4, contamination=0.005)\n",
    "sampler = RandomUnderSampler(random_state=42)\n",
    "\n",
    "label_encoder = LabelEncoder()\n",
    "\n",
    "num_preprocessor_pipe = Pipeline([\n",
    "  ('imputer', num_imputer),\n",
    "  ('scaler', num_scaler)\n",
    "])\n",
    "\n",
    "cat_preprocessor_pipe = Pipeline([\n",
    "  ('imputer', cat_imputer),\n",
    "  ('encoder', cat_encoder),\n",
    "  ('scaler', cat_scaler)\n",
    "])\n",
    "\n",
    "preprocessor_pipe = ColumnTransformer(\n",
    "  transformers=[\n",
    "    ('num', num_preprocessor_pipe, X_num_cols.to_list()),\n",
    "    ('cat', cat_preprocessor_pipe, X_cat_cols.to_list())\n",
    "  ]\n",
    ")\n",
    "\n",
    "pipeline = Pipeline([\n",
    "  ('preprocessor', preprocessor_pipe),\n",
    "  # ('pca', pca)\n",
    "])\n",
    "\n",
    "def preprocessor(X_tr, X_ts, y_tr, y_ts):\n",
    "  X_tr_pre, X_ts_pre, y_tr_pre, y_ts_pre = X_tr, X_ts, y_tr, y_ts\n",
    "  \n",
    "  X_tr_pre = preprocessor_pipe.fit_transform(X_tr_pre)\n",
    "  X_ts_pre = preprocessor_pipe.transform(X_ts_pre)\n",
    "  \n",
    "  # X_tr_pre, y_tr_pre = remove_outliers(X_tr_pre, y_tr_pre, outlier_detector)\n",
    "  y_tr_pre, y_ts_pre = target_encoding(y_tr_pre, y_ts_pre, label_encoder)\n",
    "  X_tr_pre, y_tr_pre = resampling(X_tr_pre, y_tr_pre, sampler)\n",
    "  \n",
    "  X_tr_pre, X_ts_pre, y_tr_pre, y_ts_pre = save_memory([X_tr_pre, X_ts_pre, y_tr_pre, y_ts_pre])\n",
    "  \n",
    "  return [X_tr_pre, X_ts_pre, y_tr_pre, y_ts_pre]"
   ]
  },
  {
   "cell_type": "markdown",
   "metadata": {},
   "source": [
    "### **Model Selection**"
   ]
  },
  {
   "cell_type": "code",
   "execution_count": 275,
   "metadata": {},
   "outputs": [],
   "source": [
    "def train_model(\n",
    "  X: pd.DataFrame,\n",
    "  y: pd.Series,\n",
    "  model: BaseEstimator,\n",
    "  preprocessor: Callable[..., List[Union[float, int]]],\n",
    "  scorer: Callable,\n",
    "  cv_fold,\n",
    "  skip_fold: Optional[str]=None,\n",
    "  cb_fold: Optional[Callable]=None,\n",
    "  cb_end: Optional[Callable]=None\n",
    ") -> Tuple[float, float]:\n",
    "  auc_scores_train = []\n",
    "  auc_scores_valid = []\n",
    "  \n",
    "  is_odd = int(skip_fold == 'odd')\n",
    "  trunc_cv_fold = cv_fold.split(X, y) if not skip_fold else [item for i, (item) in enumerate(cv_fold.split(X, y)) if i % 2 == is_odd]\n",
    "  \n",
    "  for fold, (train_idx, valid_idx) in enumerate(trunc_cv_fold):\n",
    "    X_train, X_valid = X.iloc[train_idx], X.iloc[valid_idx]\n",
    "    y_train, y_valid = y.iloc[train_idx], y.iloc[valid_idx]\n",
    "    \n",
    "    X_train, X_valid, y_train, y_valid = preprocessor(X_train, X_valid, y_train, y_valid)\n",
    "    \n",
    "    model.fit(X_train, y_train)\n",
    "    \n",
    "    y_probs_train = model.predict_proba(X_train)[:, 1]\n",
    "    y_probs_val = model.predict_proba(X_valid)[:, 1]\n",
    "    \n",
    "    auc_train = scorer(y_train, y_probs_train)\n",
    "    auc_valid = scorer(y_valid, y_probs_val)\n",
    "    \n",
    "    auc_scores_train.append(auc_train)\n",
    "    auc_scores_valid.append(auc_valid)\n",
    "    \n",
    "    if cb_fold: cb_fold(fold, (auc_train, auc_valid))\n",
    "    \n",
    "  mean_auc_train = np.mean(auc_scores_train)\n",
    "  mean_auc_valid = np.mean(auc_scores_valid)\n",
    "  \n",
    "  if cb_end: cb_end((mean_auc_train, mean_auc_valid))\n",
    "\n",
    "  return (auc_scores_train, auc_scores_valid)"
   ]
  },
  {
   "cell_type": "markdown",
   "metadata": {},
   "source": [
    "### **LGBM Classifier**"
   ]
  },
  {
   "cell_type": "markdown",
   "metadata": {},
   "source": [
    "##### **A. Default LGBMClassifier**"
   ]
  },
  {
   "cell_type": "code",
   "execution_count": 276,
   "metadata": {},
   "outputs": [],
   "source": [
    "# %%script skipped # Skipped due to resource optimization\n",
    "\n",
    "clf_lgbm_default = LGBMClassifier(objective='binary', boosting_type='gbdt', metric='auc', n_jobs=4, verbosity=-1)"
   ]
  },
  {
   "cell_type": "code",
   "execution_count": 334,
   "metadata": {},
   "outputs": [],
   "source": [
    "# %%script skipped # Skipped due to resource optimization\n",
    "IS_TRAINING = False\n",
    "cache_path = r'models\\clf_lgbm_default_model.pkl'\n",
    "\n",
    "cb_fold = lambda fold, scores: print(f'Fold {fold + 1} => AUC score: {scores[0]:.4f} (train) | {scores[1]:.4f} (valid)')\n",
    "cb_end = lambda scores: print(f'Mean AUC oof score: {scores[0]:.4f} (train) | {scores[1]:.4f} (valid)')\n",
    "\n",
    "if IS_TRAINING:\n",
    "  auc_scores_train, auc_scores_valid = train_model(X, y,\n",
    "                                                  model=clf_lgbm_default,\n",
    "                                                  preprocessor=preprocessor,\n",
    "                                                  scorer=roc_auc_score,\n",
    "                                                  cv_fold=skf,\n",
    "                                                  cb_fold=cb_fold,\n",
    "                                                  cb_end=cb_end)\n",
    "  joblib.dump({\n",
    "    'model': clf_lgbm_default,\n",
    "    'preprocessor_pipe': preprocessor_pipe,\n",
    "    'scores': (auc_scores_train, auc_scores_valid)\n",
    "    }, cache_path)\n",
    "else:\n",
    "  try:\n",
    "    cache = joblib.load(cache_path)\n",
    "    clf_lgbm_default = cache['model']\n",
    "    preprocessor_pipe = cache['preprocessor_pipe']\n",
    "    auc_scores_train = cache['scores'][0]\n",
    "    auc_scores_valid = cache['scores'][1]\n",
    "  except FileNotFoundError:\n",
    "    print('Cached study file not found!')\n",
    "\n",
    "mean_auc_train, mean_auc_valid = np.mean(auc_scores_train), np.mean(auc_scores_valid)"
   ]
  },
  {
   "cell_type": "code",
   "execution_count": 285,
   "metadata": {},
   "outputs": [
    {
     "data": {
      "text/plain": [
       "<Axes: title={'center': 'Feature Importance LGBM-Default (AUC = 0.7759)'}, xlabel='Feature', ylabel='Feature Importance'>"
      ]
     },
     "execution_count": 285,
     "metadata": {},
     "output_type": "execute_result"
    },
    {
     "data": {
      "image/png": "[encoded data removed]",
      "text/plain": [
       "<Figure size 1500x300 with 1 Axes>"
      ]
     },
     "metadata": {},
     "output_type": "display_data"
    }
   ],
   "source": [
    "# %%script skipped # Skipped due to resource optimization\n",
    "\n",
    "df_feat_imp = pd.DataFrame({'Feature': X.columns, 'Importance': clf_lgbm_default.feature_importances_})\n",
    "df_feat_imp = df_feat_imp.sort_values(by='Importance', ascending=False)\n",
    "df_feat_imp[:50].plot(kind='bar',\n",
    "                      x='Feature',\n",
    "                      y='Importance',\n",
    "                      title=f'Feature Importance LGBM-Default (AUC = {mean_auc_valid:.4f})',\n",
    "                      xlabel='Feature',\n",
    "                      ylabel='Feature Importance',\n",
    "                      figsize=(15, 3))"
   ]
  },
  {
   "cell_type": "code",
   "execution_count": 286,
   "metadata": {},
   "outputs": [
    {
     "name": "stdout",
     "output_type": "stream",
     "text": [
      "Numbers of categorical feature(s): 1\n",
      "Numbers of numerical feature(s): 49\n"
     ]
    }
   ],
   "source": [
    "# %%script skipped # Skipped due to resource optimization\n",
    "\n",
    "top_feat_50 = df[df_feat_imp[:50]['Feature']]\n",
    "\n",
    "cat_feat = top_feat_50.select_dtypes('object').columns\n",
    "num_feat = top_feat_50.select_dtypes(exclude='object').columns\n",
    "\n",
    "print(f'Numbers of categorical feature(s): {len(cat_feat)}')\n",
    "print(f'Numbers of numerical feature(s): {len(num_feat)}')"
   ]
  },
  {
   "cell_type": "code",
   "execution_count": 287,
   "metadata": {},
   "outputs": [
    {
     "name": "stdout",
     "output_type": "stream",
     "text": [
      "AUC score of test dataset: 0.7753\n"
     ]
    }
   ],
   "source": [
    "# %%script skipped # Skipped due to resource optimization\n",
    "\n",
    "y_preds = clf_lgbm_default.predict_proba(preprocessor_pipe.transform(X_test))[:, 1]\n",
    "clf_lgbm_def_auc_test = roc_auc_score(y_test, y_preds)\n",
    "\n",
    "print(f'AUC score of test dataset: {clf_lgbm_def_auc_test:.4f}')"
   ]
  },
  {
   "cell_type": "markdown",
   "metadata": {},
   "source": [
    "##### **B. Tuned LGBMClassifier**"
   ]
  },
  {
   "cell_type": "code",
   "execution_count": 289,
   "metadata": {},
   "outputs": [],
   "source": [
    "# %%script skipped # Skipped due to resource optimization\n",
    "\n",
    "defined_params = {\n",
    "    'objective': 'binary',\n",
    "    'boosting_type': 'gbdt',\n",
    "    'metric': 'auc',\n",
    "    'n_jobs': 4,\n",
    "    'verbosity': -1,\n",
    "    'random_seed': 42\n",
    "  }\n",
    "\n",
    "def objective(trial: Trial):\n",
    "  tuned_params = {\n",
    "    'n_estimators': trial.suggest_int('n_estimators', 50, 150),\n",
    "    'learning_rate': trial.suggest_float('learning_rate', 1e-3, 0.5, log=True),\n",
    "    'num_leaves': trial.suggest_int('num_leaves', 20, 64),\n",
    "    'max_depth': trial.suggest_int('max_depth', 20, 128),\n",
    "    'min_child_samples': trial.suggest_int('min_child_samples', 10, 32),\n",
    "    'subsample': trial.suggest_float('subsample', 0.4, 1.0),\n",
    "    'colsample_bytree': trial.suggest_float('colsample_bytree', 0.4, 1.0),\n",
    "    'reg_alpha': trial.suggest_float('reg_alpha', 1e-3, 10.0, log=True),\n",
    "    'reg_lambda': trial.suggest_float('reg_lambda', 1e-3, 10.0, log=True)\n",
    "  }\n",
    "  \n",
    "  clf_lgbm_tuned = LGBMClassifier(**defined_params, **tuned_params)\n",
    "    \n",
    "  auc_scores_train, auc_scores_valid = train_model(X, y,\n",
    "                                                  model=clf_lgbm_tuned,\n",
    "                                                  preprocessor=preprocessor,\n",
    "                                                  scorer=roc_auc_score,\n",
    "                                                  cv_fold=skf,\n",
    "                                                  skip_fold='odd')\n",
    "  mean_auc_train, mean_auc_valid = np.mean(auc_scores_train), np.mean(auc_scores_valid)\n",
    "\n",
    "  print(f'Mean AUC oof score (n={trial.number}): {mean_auc_train:.4f} (train) | {mean_auc_valid:.4f} (valid)')\n",
    "  \n",
    "  return mean_auc_valid\n",
    "\n",
    "def callback(study: Study, trial: Trial):\n",
    "  joblib.dump(study, r'studies\\clf_lgbm_study.pkl')"
   ]
  },
  {
   "cell_type": "code",
   "execution_count": 291,
   "metadata": {},
   "outputs": [],
   "source": [
    "# %%script skipped # Skipped due to resource optimization\n",
    "\n",
    "IS_TUNING = False\n",
    "\n",
    "if IS_TUNING:\n",
    "  study = optuna.create_study(direction='maximize')\n",
    "  study.optimize(objective, n_trials=50, n_jobs=2, callbacks=[callback])\n",
    "else:\n",
    "  try:\n",
    "    study = joblib.load(r'studies\\clf_lgbm_study.pkl')\n",
    "  except FileNotFoundError:\n",
    "    print('Cached study file not found!')"
   ]
  },
  {
   "cell_type": "code",
   "execution_count": 293,
   "metadata": {},
   "outputs": [
    {
     "data": {
      "text/plain": [
       "{'n_estimators': 113,\n",
       " 'learning_rate': 0.07414738508726511,\n",
       " 'num_leaves': 64,\n",
       " 'max_depth': 128,\n",
       " 'min_child_samples': 26,\n",
       " 'subsample': 0.4088981384627649,\n",
       " 'colsample_bytree': 0.4649739607621698,\n",
       " 'reg_alpha': 0.00289556487927133,\n",
       " 'reg_lambda': 0.8929633543221254}"
      ]
     },
     "execution_count": 293,
     "metadata": {},
     "output_type": "execute_result"
    }
   ],
   "source": [
    "# %%script skipped # Skipped due to resource optimization\n",
    "\n",
    "best_params = study.best_params\n",
    "best_params"
   ]
  },
  {
   "cell_type": "code",
   "execution_count": 229,
   "metadata": {},
   "outputs": [
    {
     "data": {
      "application/vnd.plotly.v1+json": {
       "config": {
        "plotlyServerURL": "https://plot.ly"
       },
       "data": [
        {
         "cliponaxis": false,
         "hovertemplate": [
          "reg_alpha (FloatDistribution): 0.01867321228717493<extra></extra>",
          "colsample_bytree (FloatDistribution): 0.02426341114800735<extra></extra>",
          "n_estimators (IntDistribution): 0.030588383605840645<extra></extra>",
          "num_leaves (IntDistribution): 0.03257836402639806<extra></extra>",
          "min_child_samples (IntDistribution): 0.039669454847614236<extra></extra>",
          "subsample (FloatDistribution): 0.04439422885606722<extra></extra>",
          "max_depth (IntDistribution): 0.05333449072494598<extra></extra>",
          "reg_lambda (FloatDistribution): 0.06792881414058201<extra></extra>",
          "learning_rate (FloatDistribution): 0.6885696403633697<extra></extra>"
         ],
         "name": "Objective Value",
         "orientation": "h",
         "text": [
          "0.02",
          "0.02",
          "0.03",
          "0.03",
          "0.04",
          "0.04",
          "0.05",
          "0.07",
          "0.69"
         ],
         "textposition": "outside",
         "type": "bar",
         "x": [
          0.01867321228717493,
          0.02426341114800735,
          0.030588383605840645,
          0.03257836402639806,
          0.039669454847614236,
          0.04439422885606722,
          0.05333449072494598,
          0.06792881414058201,
          0.6885696403633697
         ],
         "y": [
          "reg_alpha",
          "colsample_bytree",
          "n_estimators",
          "num_leaves",
          "min_child_samples",
          "subsample",
          "max_depth",
          "reg_lambda",
          "learning_rate"
         ]
        }
       ],
       "layout": {
        "template": {
         "data": {
          "bar": [
           {
            "error_x": {
             "color": "#2a3f5f"
            },
            "error_y": {
             "color": "#2a3f5f"
            },
            "marker": {
             "line": {
              "color": "#E5ECF6",
              "width": 0.5
             },
             "pattern": {
              "fillmode": "overlay",
              "size": 10,
              "solidity": 0.2
             }
            },
            "type": "bar"
           }
          ],
          "barpolar": [
           {
            "marker": {
             "line": {
              "color": "#E5ECF6",
              "width": 0.5
             },
             "pattern": {
              "fillmode": "overlay",
              "size": 10,
              "solidity": 0.2
             }
            },
            "type": "barpolar"
           }
          ],
          "carpet": [
           {
            "aaxis": {
             "endlinecolor": "#2a3f5f",
             "gridcolor": "white",
             "linecolor": "white",
             "minorgridcolor": "white",
             "startlinecolor": "#2a3f5f"
            },
            "baxis": {
             "endlinecolor": "#2a3f5f",
             "gridcolor": "white",
             "linecolor": "white",
             "minorgridcolor": "white",
             "startlinecolor": "#2a3f5f"
            },
            "type": "carpet"
           }
          ],
          "choropleth": [
           {
            "colorbar": {
             "outlinewidth": 0,
             "ticks": ""
            },
            "type": "choropleth"
           }
          ],
          "contour": [
           {
            "colorbar": {
             "outlinewidth": 0,
             "ticks": ""
            },
            "colorscale": [
             [
              0,
              "#0d0887"
             ],
             [
              0.1111111111111111,
              "#46039f"
             ],
             [
              0.2222222222222222,
              "#7201a8"
             ],
             [
              0.3333333333333333,
              "#9c179e"
             ],
             [
              0.4444444444444444,
              "#bd3786"
             ],
             [
              0.5555555555555556,
              "#d8576b"
             ],
             [
              0.6666666666666666,
              "#ed7953"
             ],
             [
              0.7777777777777778,
              "#fb9f3a"
             ],
             [
              0.8888888888888888,
              "#fdca26"
             ],
             [
              1,
              "#f0f921"
             ]
            ],
            "type": "contour"
           }
          ],
          "contourcarpet": [
           {
            "colorbar": {
             "outlinewidth": 0,
             "ticks": ""
            },
            "type": "contourcarpet"
           }
          ],
          "heatmap": [
           {
            "colorbar": {
             "outlinewidth": 0,
             "ticks": ""
            },
            "colorscale": [
             [
              0,
              "#0d0887"
             ],
             [
              0.1111111111111111,
              "#46039f"
             ],
             [
              0.2222222222222222,
              "#7201a8"
             ],
             [
              0.3333333333333333,
              "#9c179e"
             ],
             [
              0.4444444444444444,
              "#bd3786"
             ],
             [
              0.5555555555555556,
              "#d8576b"
             ],
             [
              0.6666666666666666,
              "#ed7953"
             ],
             [
              0.7777777777777778,
              "#fb9f3a"
             ],
             [
              0.8888888888888888,
              "#fdca26"
             ],
             [
              1,
              "#f0f921"
             ]
            ],
            "type": "heatmap"
           }
          ],
          "heatmapgl": [
           {
            "colorbar": {
             "outlinewidth": 0,
             "ticks": ""
            },
            "colorscale": [
             [
              0,
              "#0d0887"
             ],
             [
              0.1111111111111111,
              "#46039f"
             ],
             [
              0.2222222222222222,
              "#7201a8"
             ],
             [
              0.3333333333333333,
              "#9c179e"
             ],
             [
              0.4444444444444444,
              "#bd3786"
             ],
             [
              0.5555555555555556,
              "#d8576b"
             ],
             [
              0.6666666666666666,
              "#ed7953"
             ],
             [
              0.7777777777777778,
              "#fb9f3a"
             ],
             [
              0.8888888888888888,
              "#fdca26"
             ],
             [
              1,
              "#f0f921"
             ]
            ],
            "type": "heatmapgl"
           }
          ],
          "histogram": [
           {
            "marker": {
             "pattern": {
              "fillmode": "overlay",
              "size": 10,
              "solidity": 0.2
             }
            },
            "type": "histogram"
           }
          ],
          "histogram2d": [
           {
            "colorbar": {
             "outlinewidth": 0,
             "ticks": ""
            },
            "colorscale": [
             [
              0,
              "#0d0887"
             ],
             [
              0.1111111111111111,
              "#46039f"
             ],
             [
              0.2222222222222222,
              "#7201a8"
             ],
             [
              0.3333333333333333,
              "#9c179e"
             ],
             [
              0.4444444444444444,
              "#bd3786"
             ],
             [
              0.5555555555555556,
              "#d8576b"
             ],
             [
              0.6666666666666666,
              "#ed7953"
             ],
             [
              0.7777777777777778,
              "#fb9f3a"
             ],
             [
              0.8888888888888888,
              "#fdca26"
             ],
             [
              1,
              "#f0f921"
             ]
            ],
            "type": "histogram2d"
           }
          ],
          "histogram2dcontour": [
           {
            "colorbar": {
             "outlinewidth": 0,
             "ticks": ""
            },
            "colorscale": [
             [
              0,
              "#0d0887"
             ],
             [
              0.1111111111111111,
              "#46039f"
             ],
             [
              0.2222222222222222,
              "#7201a8"
             ],
             [
              0.3333333333333333,
              "#9c179e"
             ],
             [
              0.4444444444444444,
              "#bd3786"
             ],
             [
              0.5555555555555556,
              "#d8576b"
             ],
             [
              0.6666666666666666,
              "#ed7953"
             ],
             [
              0.7777777777777778,
              "#fb9f3a"
             ],
             [
              0.8888888888888888,
              "#fdca26"
             ],
             [
              1,
              "#f0f921"
             ]
            ],
            "type": "histogram2dcontour"
           }
          ],
          "mesh3d": [
           {
            "colorbar": {
             "outlinewidth": 0,
             "ticks": ""
            },
            "type": "mesh3d"
           }
          ],
          "parcoords": [
           {
            "line": {
             "colorbar": {
              "outlinewidth": 0,
              "ticks": ""
             }
            },
            "type": "parcoords"
           }
          ],
          "pie": [
           {
            "automargin": true,
            "type": "pie"
           }
          ],
          "scatter": [
           {
            "fillpattern": {
             "fillmode": "overlay",
             "size": 10,
             "solidity": 0.2
            },
            "type": "scatter"
           }
          ],
          "scatter3d": [
           {
            "line": {
             "colorbar": {
              "outlinewidth": 0,
              "ticks": ""
             }
            },
            "marker": {
             "colorbar": {
              "outlinewidth": 0,
              "ticks": ""
             }
            },
            "type": "scatter3d"
           }
          ],
          "scattercarpet": [
           {
            "marker": {
             "colorbar": {
              "outlinewidth": 0,
              "ticks": ""
             }
            },
            "type": "scattercarpet"
           }
          ],
          "scattergeo": [
           {
            "marker": {
             "colorbar": {
              "outlinewidth": 0,
              "ticks": ""
             }
            },
            "type": "scattergeo"
           }
          ],
          "scattergl": [
           {
            "marker": {
             "colorbar": {
              "outlinewidth": 0,
              "ticks": ""
             }
            },
            "type": "scattergl"
           }
          ],
          "scattermapbox": [
           {
            "marker": {
             "colorbar": {
              "outlinewidth": 0,
              "ticks": ""
             }
            },
            "type": "scattermapbox"
           }
          ],
          "scatterpolar": [
           {
            "marker": {
             "colorbar": {
              "outlinewidth": 0,
              "ticks": ""
             }
            },
            "type": "scatterpolar"
           }
          ],
          "scatterpolargl": [
           {
            "marker": {
             "colorbar": {
              "outlinewidth": 0,
              "ticks": ""
             }
            },
            "type": "scatterpolargl"
           }
          ],
          "scatterternary": [
           {
            "marker": {
             "colorbar": {
              "outlinewidth": 0,
              "ticks": ""
             }
            },
            "type": "scatterternary"
           }
          ],
          "surface": [
           {
            "colorbar": {
             "outlinewidth": 0,
             "ticks": ""
            },
            "colorscale": [
             [
              0,
              "#0d0887"
             ],
             [
              0.1111111111111111,
              "#46039f"
             ],
             [
              0.2222222222222222,
              "#7201a8"
             ],
             [
              0.3333333333333333,
              "#9c179e"
             ],
             [
              0.4444444444444444,
              "#bd3786"
             ],
             [
              0.5555555555555556,
              "#d8576b"
             ],
             [
              0.6666666666666666,
              "#ed7953"
             ],
             [
              0.7777777777777778,
              "#fb9f3a"
             ],
             [
              0.8888888888888888,
              "#fdca26"
             ],
             [
              1,
              "#f0f921"
             ]
            ],
            "type": "surface"
           }
          ],
          "table": [
           {
            "cells": {
             "fill": {
              "color": "#EBF0F8"
             },
             "line": {
              "color": "white"
             }
            },
            "header": {
             "fill": {
              "color": "#C8D4E3"
             },
             "line": {
              "color": "white"
             }
            },
            "type": "table"
           }
          ]
         },
         "layout": {
          "annotationdefaults": {
           "arrowcolor": "#2a3f5f",
           "arrowhead": 0,
           "arrowwidth": 1
          },
          "autotypenumbers": "strict",
          "coloraxis": {
           "colorbar": {
            "outlinewidth": 0,
            "ticks": ""
           }
          },
          "colorscale": {
           "diverging": [
            [
             0,
             "#8e0152"
            ],
            [
             0.1,
             "#c51b7d"
            ],
            [
             0.2,
             "#de77ae"
            ],
            [
             0.3,
             "#f1b6da"
            ],
            [
             0.4,
             "#fde0ef"
            ],
            [
             0.5,
             "#f7f7f7"
            ],
            [
             0.6,
             "#e6f5d0"
            ],
            [
             0.7,
             "#b8e186"
            ],
            [
             0.8,
             "#7fbc41"
            ],
            [
             0.9,
             "#4d9221"
            ],
            [
             1,
             "#276419"
            ]
           ],
           "sequential": [
            [
             0,
             "#0d0887"
            ],
            [
             0.1111111111111111,
             "#46039f"
            ],
            [
             0.2222222222222222,
             "#7201a8"
            ],
            [
             0.3333333333333333,
             "#9c179e"
            ],
            [
             0.4444444444444444,
             "#bd3786"
            ],
            [
             0.5555555555555556,
             "#d8576b"
            ],
            [
             0.6666666666666666,
             "#ed7953"
            ],
            [
             0.7777777777777778,
             "#fb9f3a"
            ],
            [
             0.8888888888888888,
             "#fdca26"
            ],
            [
             1,
             "#f0f921"
            ]
           ],
           "sequentialminus": [
            [
             0,
             "#0d0887"
            ],
            [
             0.1111111111111111,
             "#46039f"
            ],
            [
             0.2222222222222222,
             "#7201a8"
            ],
            [
             0.3333333333333333,
             "#9c179e"
            ],
            [
             0.4444444444444444,
             "#bd3786"
            ],
            [
             0.5555555555555556,
             "#d8576b"
            ],
            [
             0.6666666666666666,
             "#ed7953"
            ],
            [
             0.7777777777777778,
             "#fb9f3a"
            ],
            [
             0.8888888888888888,
             "#fdca26"
            ],
            [
             1,
             "#f0f921"
            ]
           ]
          },
          "colorway": [
           "#636efa",
           "#EF553B",
           "#00cc96",
           "#ab63fa",
           "#FFA15A",
           "#19d3f3",
           "#FF6692",
           "#B6E880",
           "#FF97FF",
           "#FECB52"
          ],
          "font": {
           "color": "#2a3f5f"
          },
          "geo": {
           "bgcolor": "white",
           "lakecolor": "white",
           "landcolor": "#E5ECF6",
           "showlakes": true,
           "showland": true,
           "subunitcolor": "white"
          },
          "hoverlabel": {
           "align": "left"
          },
          "hovermode": "closest",
          "mapbox": {
           "style": "light"
          },
          "paper_bgcolor": "white",
          "plot_bgcolor": "#E5ECF6",
          "polar": {
           "angularaxis": {
            "gridcolor": "white",
            "linecolor": "white",
            "ticks": ""
           },
           "bgcolor": "#E5ECF6",
           "radialaxis": {
            "gridcolor": "white",
            "linecolor": "white",
            "ticks": ""
           }
          },
          "scene": {
           "xaxis": {
            "backgroundcolor": "#E5ECF6",
            "gridcolor": "white",
            "gridwidth": 2,
            "linecolor": "white",
            "showbackground": true,
            "ticks": "",
            "zerolinecolor": "white"
           },
           "yaxis": {
            "backgroundcolor": "#E5ECF6",
            "gridcolor": "white",
            "gridwidth": 2,
            "linecolor": "white",
            "showbackground": true,
            "ticks": "",
            "zerolinecolor": "white"
           },
           "zaxis": {
            "backgroundcolor": "#E5ECF6",
            "gridcolor": "white",
            "gridwidth": 2,
            "linecolor": "white",
            "showbackground": true,
            "ticks": "",
            "zerolinecolor": "white"
           }
          },
          "shapedefaults": {
           "line": {
            "color": "#2a3f5f"
           }
          },
          "ternary": {
           "aaxis": {
            "gridcolor": "white",
            "linecolor": "white",
            "ticks": ""
           },
           "baxis": {
            "gridcolor": "white",
            "linecolor": "white",
            "ticks": ""
           },
           "bgcolor": "#E5ECF6",
           "caxis": {
            "gridcolor": "white",
            "linecolor": "white",
            "ticks": ""
           }
          },
          "title": {
           "x": 0.05
          },
          "xaxis": {
           "automargin": true,
           "gridcolor": "white",
           "linecolor": "white",
           "ticks": "",
           "title": {
            "standoff": 15
           },
           "zerolinecolor": "white",
           "zerolinewidth": 2
          },
          "yaxis": {
           "automargin": true,
           "gridcolor": "white",
           "linecolor": "white",
           "ticks": "",
           "title": {
            "standoff": 15
           },
           "zerolinecolor": "white",
           "zerolinewidth": 2
          }
         }
        },
        "title": {
         "text": "Hyperparameter Importances"
        },
        "xaxis": {
         "title": {
          "text": "Hyperparameter Importance"
         }
        },
        "yaxis": {
         "title": {
          "text": "Hyperparameter"
         }
        }
       }
      }
     },
     "metadata": {},
     "output_type": "display_data"
    }
   ],
   "source": [
    "# %%script skipped # Skipped due to resource optimization\n",
    "\n",
    "optuna.visualization.plot_param_importances(study)"
   ]
  },
  {
   "cell_type": "code",
   "execution_count": 230,
   "metadata": {},
   "outputs": [
    {
     "data": {
      "application/vnd.plotly.v1+json": {
       "config": {
        "plotlyServerURL": "https://plot.ly"
       },
       "data": [
        {
         "marker": {
          "color": [
           0,
           1,
           2,
           3,
           4,
           5,
           6,
           7,
           8,
           9,
           10,
           11,
           12,
           13,
           14,
           15,
           16,
           17,
           18,
           19,
           20,
           21,
           22,
           23,
           24,
           25,
           26,
           27,
           28,
           29,
           30,
           31,
           32,
           33,
           34,
           35,
           36,
           37,
           38,
           39,
           40,
           41,
           42,
           43,
           44,
           45,
           46,
           47,
           48,
           49
          ],
          "colorbar": {
           "title": {
            "text": "Trial"
           },
           "x": 1,
           "xpad": 40
          },
          "colorscale": [
           [
            0,
            "rgb(247,251,255)"
           ],
           [
            0.125,
            "rgb(222,235,247)"
           ],
           [
            0.25,
            "rgb(198,219,239)"
           ],
           [
            0.375,
            "rgb(158,202,225)"
           ],
           [
            0.5,
            "rgb(107,174,214)"
           ],
           [
            0.625,
            "rgb(66,146,198)"
           ],
           [
            0.75,
            "rgb(33,113,181)"
           ],
           [
            0.875,
            "rgb(8,81,156)"
           ],
           [
            1,
            "rgb(8,48,107)"
           ]
          ],
          "line": {
           "color": "Grey",
           "width": 0.5
          },
          "showscale": true
         },
         "mode": "markers",
         "name": "Feasible Trial",
         "showlegend": false,
         "type": "scatter",
         "x": [
          0.944000423397441,
          0.5462412037975274,
          0.8065800317483374,
          0.8159789782749902,
          0.8816505901350429,
          0.9303199964420846,
          0.8178199024246138,
          0.506068907301482,
          0.5844400556485823,
          0.8256686029448997,
          0.9123061892464235,
          0.4301389686296424,
          0.43501100396659587,
          0.408134717583267,
          0.4023928687849506,
          0.5341073219772193,
          0.6625748000039067,
          0.6414199363102971,
          0.6785177486284661,
          0.686262587570876,
          0.7471556151575145,
          0.7369178769939077,
          0.7511921242802369,
          0.7381142876293525,
          0.6200834277853755,
          0.6077692963565892,
          0.5191191886213543,
          0.5021500320133085,
          0.5523218784460798,
          0.6992921231020527,
          0.5651753235616495,
          0.7579996362307672,
          0.5568837200909318,
          0.4649739607621698,
          0.9957404642731177,
          0.458359548497277,
          0.4597367490036582,
          0.7900125014718479,
          0.4755703477736987,
          0.8557902197120858,
          0.4861371075718445,
          0.8695886860059631,
          0.4831611218774768,
          0.5323670772507569,
          0.47488439694564677,
          0.8439574945042223,
          0.5839686379371944,
          0.58890370744621,
          0.4438057360744296,
          0.4349848415463451
         ],
         "xaxis": "x",
         "y": [
          0.7653735572450331,
          0.745430396827768,
          0.7668862780894318,
          0.7384172379423715,
          0.7447225974473926,
          0.7445080586294106,
          0.7527070460095588,
          0.7693730467174706,
          0.7369757329058382,
          0.7499759314859221,
          0.7449909678954487,
          0.7707441374326638,
          0.7681984963501921,
          0.7689363256746844,
          0.7705541868921632,
          0.7755067283572632,
          0.7694601226631541,
          0.7743702242946677,
          0.7745574803823307,
          0.7744314472407912,
          0.7750751643572413,
          0.7589173435520471,
          0.756710138887047,
          0.7728419519652003,
          0.7728913204570291,
          0.7744137627842128,
          0.7721451371309499,
          0.7722002935456858,
          0.7749476470344818,
          0.775128387208627,
          0.7659600802025015,
          0.7641390870455049,
          0.7746321041673868,
          0.7764744891784912,
          0.7711656180257351,
          0.7466768669819481,
          0.769820058100493,
          0.7668898029036308,
          0.7754878898387241,
          0.7763731892327175,
          0.7745323158981914,
          0.7714239867531072,
          0.7709803410876539,
          0.7734156862423874,
          0.7724598403225608,
          0.7748936273070091,
          0.7658732638198458,
          0.7562531988985758,
          0.7633535750343802,
          0.7471710779650196
         ],
         "yaxis": "y"
        },
        {
         "marker": {
          "color": [
           0,
           1,
           2,
           3,
           4,
           5,
           6,
           7,
           8,
           9,
           10,
           11,
           12,
           13,
           14,
           15,
           16,
           17,
           18,
           19,
           20,
           21,
           22,
           23,
           24,
           25,
           26,
           27,
           28,
           29,
           30,
           31,
           32,
           33,
           34,
           35,
           36,
           37,
           38,
           39,
           40,
           41,
           42,
           43,
           44,
           45,
           46,
           47,
           48,
           49
          ],
          "colorbar": {
           "title": {
            "text": "Trial"
           },
           "x": 1,
           "xpad": 40
          },
          "colorscale": [
           [
            0,
            "rgb(247,251,255)"
           ],
           [
            0.125,
            "rgb(222,235,247)"
           ],
           [
            0.25,
            "rgb(198,219,239)"
           ],
           [
            0.375,
            "rgb(158,202,225)"
           ],
           [
            0.5,
            "rgb(107,174,214)"
           ],
           [
            0.625,
            "rgb(66,146,198)"
           ],
           [
            0.75,
            "rgb(33,113,181)"
           ],
           [
            0.875,
            "rgb(8,81,156)"
           ],
           [
            1,
            "rgb(8,48,107)"
           ]
          ],
          "line": {
           "color": "Grey",
           "width": 0.5
          },
          "showscale": false
         },
         "mode": "markers",
         "name": "Feasible Trial",
         "showlegend": false,
         "type": "scatter",
         "x": [
          0.023911883410715287,
          0.002260745174546142,
          0.02482690089883586,
          0.0033430107299493536,
          0.0028708481748762086,
          0.00614474789493336,
          0.0076625833395154675,
          0.1795886092664091,
          0.001973133580572894,
          0.3892014470601035,
          0.004902086439546132,
          0.2721935814517277,
          0.33462695320390473,
          0.31227748507938435,
          0.09925719740780015,
          0.08251604976697309,
          0.08153603443183231,
          0.05349362786038854,
          0.054897781240108634,
          0.049214126489376446,
          0.04742346225436488,
          0.012444868934578902,
          0.010764173872243021,
          0.04157008649403238,
          0.04150431169706792,
          0.12011208401090398,
          0.03217457102754069,
          0.16891739021812066,
          0.06295566596915476,
          0.069021488230872,
          0.018793820967621933,
          0.022835827192832166,
          0.09192994722232001,
          0.07414738508726511,
          0.14343042321014005,
          0.0011917526289882026,
          0.17595071221703168,
          0.20462723367998745,
          0.0745648872447439,
          0.07315285873766895,
          0.07357287081316068,
          0.03489716069405326,
          0.030031060105204257,
          0.12033464085528367,
          0.03178765459669499,
          0.07011470864225396,
          0.01722136923567989,
          0.24972427695361188,
          0.01618433285339239,
          0.44337590206579436
         ],
         "xaxis": "x2",
         "y": [
          0.7653735572450331,
          0.745430396827768,
          0.7668862780894318,
          0.7384172379423715,
          0.7447225974473926,
          0.7445080586294106,
          0.7527070460095588,
          0.7693730467174706,
          0.7369757329058382,
          0.7499759314859221,
          0.7449909678954487,
          0.7707441374326638,
          0.7681984963501921,
          0.7689363256746844,
          0.7705541868921632,
          0.7755067283572632,
          0.7694601226631541,
          0.7743702242946677,
          0.7745574803823307,
          0.7744314472407912,
          0.7750751643572413,
          0.7589173435520471,
          0.756710138887047,
          0.7728419519652003,
          0.7728913204570291,
          0.7744137627842128,
          0.7721451371309499,
          0.7722002935456858,
          0.7749476470344818,
          0.775128387208627,
          0.7659600802025015,
          0.7641390870455049,
          0.7746321041673868,
          0.7764744891784912,
          0.7711656180257351,
          0.7466768669819481,
          0.769820058100493,
          0.7668898029036308,
          0.7754878898387241,
          0.7763731892327175,
          0.7745323158981914,
          0.7714239867531072,
          0.7709803410876539,
          0.7734156862423874,
          0.7724598403225608,
          0.7748936273070091,
          0.7658732638198458,
          0.7562531988985758,
          0.7633535750343802,
          0.7471710779650196
         ],
         "yaxis": "y2"
        },
        {
         "marker": {
          "color": [
           0,
           1,
           2,
           3,
           4,
           5,
           6,
           7,
           8,
           9,
           10,
           11,
           12,
           13,
           14,
           15,
           16,
           17,
           18,
           19,
           20,
           21,
           22,
           23,
           24,
           25,
           26,
           27,
           28,
           29,
           30,
           31,
           32,
           33,
           34,
           35,
           36,
           37,
           38,
           39,
           40,
           41,
           42,
           43,
           44,
           45,
           46,
           47,
           48,
           49
          ],
          "colorbar": {
           "title": {
            "text": "Trial"
           },
           "x": 1,
           "xpad": 40
          },
          "colorscale": [
           [
            0,
            "rgb(247,251,255)"
           ],
           [
            0.125,
            "rgb(222,235,247)"
           ],
           [
            0.25,
            "rgb(198,219,239)"
           ],
           [
            0.375,
            "rgb(158,202,225)"
           ],
           [
            0.5,
            "rgb(107,174,214)"
           ],
           [
            0.625,
            "rgb(66,146,198)"
           ],
           [
            0.75,
            "rgb(33,113,181)"
           ],
           [
            0.875,
            "rgb(8,81,156)"
           ],
           [
            1,
            "rgb(8,48,107)"
           ]
          ],
          "line": {
           "color": "Grey",
           "width": 0.5
          },
          "showscale": false
         },
         "mode": "markers",
         "name": "Feasible Trial",
         "showlegend": false,
         "type": "scatter",
         "x": [
          123,
          56,
          87,
          114,
          58,
          82,
          26,
          42,
          89,
          33,
          34,
          48,
          46,
          53,
          65,
          68,
          68,
          71,
          77,
          101,
          104,
          101,
          100,
          100,
          80,
          79,
          113,
          110,
          127,
          128,
          120,
          121,
          128,
          128,
          91,
          92,
          107,
          108,
          118,
          120,
          117,
          118,
          125,
          124,
          114,
          61,
          112,
          128,
          121,
          123
         ],
         "xaxis": "x3",
         "y": [
          0.7653735572450331,
          0.745430396827768,
          0.7668862780894318,
          0.7384172379423715,
          0.7447225974473926,
          0.7445080586294106,
          0.7527070460095588,
          0.7693730467174706,
          0.7369757329058382,
          0.7499759314859221,
          0.7449909678954487,
          0.7707441374326638,
          0.7681984963501921,
          0.7689363256746844,
          0.7705541868921632,
          0.7755067283572632,
          0.7694601226631541,
          0.7743702242946677,
          0.7745574803823307,
          0.7744314472407912,
          0.7750751643572413,
          0.7589173435520471,
          0.756710138887047,
          0.7728419519652003,
          0.7728913204570291,
          0.7744137627842128,
          0.7721451371309499,
          0.7722002935456858,
          0.7749476470344818,
          0.775128387208627,
          0.7659600802025015,
          0.7641390870455049,
          0.7746321041673868,
          0.7764744891784912,
          0.7711656180257351,
          0.7466768669819481,
          0.769820058100493,
          0.7668898029036308,
          0.7754878898387241,
          0.7763731892327175,
          0.7745323158981914,
          0.7714239867531072,
          0.7709803410876539,
          0.7734156862423874,
          0.7724598403225608,
          0.7748936273070091,
          0.7658732638198458,
          0.7562531988985758,
          0.7633535750343802,
          0.7471710779650196
         ],
         "yaxis": "y3"
        },
        {
         "marker": {
          "color": [
           0,
           1,
           2,
           3,
           4,
           5,
           6,
           7,
           8,
           9,
           10,
           11,
           12,
           13,
           14,
           15,
           16,
           17,
           18,
           19,
           20,
           21,
           22,
           23,
           24,
           25,
           26,
           27,
           28,
           29,
           30,
           31,
           32,
           33,
           34,
           35,
           36,
           37,
           38,
           39,
           40,
           41,
           42,
           43,
           44,
           45,
           46,
           47,
           48,
           49
          ],
          "colorbar": {
           "title": {
            "text": "Trial"
           },
           "x": 1,
           "xpad": 40
          },
          "colorscale": [
           [
            0,
            "rgb(247,251,255)"
           ],
           [
            0.125,
            "rgb(222,235,247)"
           ],
           [
            0.25,
            "rgb(198,219,239)"
           ],
           [
            0.375,
            "rgb(158,202,225)"
           ],
           [
            0.5,
            "rgb(107,174,214)"
           ],
           [
            0.625,
            "rgb(66,146,198)"
           ],
           [
            0.75,
            "rgb(33,113,181)"
           ],
           [
            0.875,
            "rgb(8,81,156)"
           ],
           [
            1,
            "rgb(8,48,107)"
           ]
          ],
          "line": {
           "color": "Grey",
           "width": 0.5
          },
          "showscale": false
         },
         "mode": "markers",
         "name": "Feasible Trial",
         "showlegend": false,
         "type": "scatter",
         "x": [
          10,
          24,
          19,
          23,
          31,
          23,
          25,
          13,
          21,
          12,
          23,
          15,
          15,
          16,
          16,
          15,
          18,
          18,
          10,
          30,
          31,
          10,
          10,
          12,
          28,
          28,
          28,
          13,
          20,
          32,
          32,
          32,
          26,
          26,
          26,
          30,
          26,
          30,
          29,
          29,
          28,
          22,
          29,
          27,
          29,
          24,
          31,
          31,
          25,
          24
         ],
         "xaxis": "x4",
         "y": [
          0.7653735572450331,
          0.745430396827768,
          0.7668862780894318,
          0.7384172379423715,
          0.7447225974473926,
          0.7445080586294106,
          0.7527070460095588,
          0.7693730467174706,
          0.7369757329058382,
          0.7499759314859221,
          0.7449909678954487,
          0.7707441374326638,
          0.7681984963501921,
          0.7689363256746844,
          0.7705541868921632,
          0.7755067283572632,
          0.7694601226631541,
          0.7743702242946677,
          0.7745574803823307,
          0.7744314472407912,
          0.7750751643572413,
          0.7589173435520471,
          0.756710138887047,
          0.7728419519652003,
          0.7728913204570291,
          0.7744137627842128,
          0.7721451371309499,
          0.7722002935456858,
          0.7749476470344818,
          0.775128387208627,
          0.7659600802025015,
          0.7641390870455049,
          0.7746321041673868,
          0.7764744891784912,
          0.7711656180257351,
          0.7466768669819481,
          0.769820058100493,
          0.7668898029036308,
          0.7754878898387241,
          0.7763731892327175,
          0.7745323158981914,
          0.7714239867531072,
          0.7709803410876539,
          0.7734156862423874,
          0.7724598403225608,
          0.7748936273070091,
          0.7658732638198458,
          0.7562531988985758,
          0.7633535750343802,
          0.7471710779650196
         ],
         "yaxis": "y4"
        },
        {
         "marker": {
          "color": [
           0,
           1,
           2,
           3,
           4,
           5,
           6,
           7,
           8,
           9,
           10,
           11,
           12,
           13,
           14,
           15,
           16,
           17,
           18,
           19,
           20,
           21,
           22,
           23,
           24,
           25,
           26,
           27,
           28,
           29,
           30,
           31,
           32,
           33,
           34,
           35,
           36,
           37,
           38,
           39,
           40,
           41,
           42,
           43,
           44,
           45,
           46,
           47,
           48,
           49
          ],
          "colorbar": {
           "title": {
            "text": "Trial"
           },
           "x": 1,
           "xpad": 40
          },
          "colorscale": [
           [
            0,
            "rgb(247,251,255)"
           ],
           [
            0.125,
            "rgb(222,235,247)"
           ],
           [
            0.25,
            "rgb(198,219,239)"
           ],
           [
            0.375,
            "rgb(158,202,225)"
           ],
           [
            0.5,
            "rgb(107,174,214)"
           ],
           [
            0.625,
            "rgb(66,146,198)"
           ],
           [
            0.75,
            "rgb(33,113,181)"
           ],
           [
            0.875,
            "rgb(8,81,156)"
           ],
           [
            1,
            "rgb(8,48,107)"
           ]
          ],
          "line": {
           "color": "Grey",
           "width": 0.5
          },
          "showscale": false
         },
         "mode": "markers",
         "name": "Feasible Trial",
         "showlegend": false,
         "type": "scatter",
         "x": [
          87,
          78,
          107,
          75,
          150,
          73,
          106,
          146,
          133,
          102,
          122,
          50,
          59,
          55,
          55,
          150,
          53,
          120,
          127,
          122,
          137,
          137,
          138,
          136,
          129,
          128,
          143,
          142,
          114,
          118,
          112,
          87,
          114,
          113,
          150,
          94,
          147,
          95,
          117,
          132,
          107,
          108,
          118,
          119,
          125,
          100,
          125,
          132,
          111,
          111
         ],
         "xaxis": "x5",
         "y": [
          0.7653735572450331,
          0.745430396827768,
          0.7668862780894318,
          0.7384172379423715,
          0.7447225974473926,
          0.7445080586294106,
          0.7527070460095588,
          0.7693730467174706,
          0.7369757329058382,
          0.7499759314859221,
          0.7449909678954487,
          0.7707441374326638,
          0.7681984963501921,
          0.7689363256746844,
          0.7705541868921632,
          0.7755067283572632,
          0.7694601226631541,
          0.7743702242946677,
          0.7745574803823307,
          0.7744314472407912,
          0.7750751643572413,
          0.7589173435520471,
          0.756710138887047,
          0.7728419519652003,
          0.7728913204570291,
          0.7744137627842128,
          0.7721451371309499,
          0.7722002935456858,
          0.7749476470344818,
          0.775128387208627,
          0.7659600802025015,
          0.7641390870455049,
          0.7746321041673868,
          0.7764744891784912,
          0.7711656180257351,
          0.7466768669819481,
          0.769820058100493,
          0.7668898029036308,
          0.7754878898387241,
          0.7763731892327175,
          0.7745323158981914,
          0.7714239867531072,
          0.7709803410876539,
          0.7734156862423874,
          0.7724598403225608,
          0.7748936273070091,
          0.7658732638198458,
          0.7562531988985758,
          0.7633535750343802,
          0.7471710779650196
         ],
         "yaxis": "y5"
        },
        {
         "marker": {
          "color": [
           0,
           1,
           2,
           3,
           4,
           5,
           6,
           7,
           8,
           9,
           10,
           11,
           12,
           13,
           14,
           15,
           16,
           17,
           18,
           19,
           20,
           21,
           22,
           23,
           24,
           25,
           26,
           27,
           28,
           29,
           30,
           31,
           32,
           33,
           34,
           35,
           36,
           37,
           38,
           39,
           40,
           41,
           42,
           43,
           44,
           45,
           46,
           47,
           48,
           49
          ],
          "colorbar": {
           "title": {
            "text": "Trial"
           },
           "x": 1,
           "xpad": 40
          },
          "colorscale": [
           [
            0,
            "rgb(247,251,255)"
           ],
           [
            0.125,
            "rgb(222,235,247)"
           ],
           [
            0.25,
            "rgb(198,219,239)"
           ],
           [
            0.375,
            "rgb(158,202,225)"
           ],
           [
            0.5,
            "rgb(107,174,214)"
           ],
           [
            0.625,
            "rgb(66,146,198)"
           ],
           [
            0.75,
            "rgb(33,113,181)"
           ],
           [
            0.875,
            "rgb(8,81,156)"
           ],
           [
            1,
            "rgb(8,48,107)"
           ]
          ],
          "line": {
           "color": "Grey",
           "width": 0.5
          },
          "showscale": false
         },
         "mode": "markers",
         "name": "Feasible Trial",
         "showlegend": false,
         "type": "scatter",
         "x": [
          57,
          46,
          41,
          34,
          49,
          50,
          59,
          28,
          22,
          38,
          38,
          23,
          21,
          20,
          29,
          28,
          29,
          28,
          25,
          34,
          32,
          33,
          33,
          25,
          24,
          25,
          31,
          31,
          64,
          64,
          63,
          53,
          64,
          64,
          57,
          59,
          44,
          43,
          47,
          55,
          54,
          49,
          47,
          60,
          46,
          53,
          56,
          61,
          56,
          39
         ],
         "xaxis": "x6",
         "y": [
          0.7653735572450331,
          0.745430396827768,
          0.7668862780894318,
          0.7384172379423715,
          0.7447225974473926,
          0.7445080586294106,
          0.7527070460095588,
          0.7693730467174706,
          0.7369757329058382,
          0.7499759314859221,
          0.7449909678954487,
          0.7707441374326638,
          0.7681984963501921,
          0.7689363256746844,
          0.7705541868921632,
          0.7755067283572632,
          0.7694601226631541,
          0.7743702242946677,
          0.7745574803823307,
          0.7744314472407912,
          0.7750751643572413,
          0.7589173435520471,
          0.756710138887047,
          0.7728419519652003,
          0.7728913204570291,
          0.7744137627842128,
          0.7721451371309499,
          0.7722002935456858,
          0.7749476470344818,
          0.775128387208627,
          0.7659600802025015,
          0.7641390870455049,
          0.7746321041673868,
          0.7764744891784912,
          0.7711656180257351,
          0.7466768669819481,
          0.769820058100493,
          0.7668898029036308,
          0.7754878898387241,
          0.7763731892327175,
          0.7745323158981914,
          0.7714239867531072,
          0.7709803410876539,
          0.7734156862423874,
          0.7724598403225608,
          0.7748936273070091,
          0.7658732638198458,
          0.7562531988985758,
          0.7633535750343802,
          0.7471710779650196
         ],
         "yaxis": "y6"
        },
        {
         "marker": {
          "color": [
           0,
           1,
           2,
           3,
           4,
           5,
           6,
           7,
           8,
           9,
           10,
           11,
           12,
           13,
           14,
           15,
           16,
           17,
           18,
           19,
           20,
           21,
           22,
           23,
           24,
           25,
           26,
           27,
           28,
           29,
           30,
           31,
           32,
           33,
           34,
           35,
           36,
           37,
           38,
           39,
           40,
           41,
           42,
           43,
           44,
           45,
           46,
           47,
           48,
           49
          ],
          "colorbar": {
           "title": {
            "text": "Trial"
           },
           "x": 1,
           "xpad": 40
          },
          "colorscale": [
           [
            0,
            "rgb(247,251,255)"
           ],
           [
            0.125,
            "rgb(222,235,247)"
           ],
           [
            0.25,
            "rgb(198,219,239)"
           ],
           [
            0.375,
            "rgb(158,202,225)"
           ],
           [
            0.5,
            "rgb(107,174,214)"
           ],
           [
            0.625,
            "rgb(66,146,198)"
           ],
           [
            0.75,
            "rgb(33,113,181)"
           ],
           [
            0.875,
            "rgb(8,81,156)"
           ],
           [
            1,
            "rgb(8,48,107)"
           ]
          ],
          "line": {
           "color": "Grey",
           "width": 0.5
          },
          "showscale": false
         },
         "mode": "markers",
         "name": "Feasible Trial",
         "showlegend": false,
         "type": "scatter",
         "x": [
          1.9118345881571386,
          0.7015685103297528,
          0.028994104710046924,
          0.002958023359973085,
          0.2037788907323997,
          0.10558179287311717,
          2.247645073842488,
          0.23028018746555626,
          0.7616162487973877,
          0.17211732239079416,
          0.30883203519556374,
          8.091758707835938,
          8.646736491984733,
          5.486111455481598,
          0.011298797268482843,
          0.03591285147424464,
          0.02173269610117345,
          0.03531031881648183,
          0.0017371147344193672,
          0.0015503345087434436,
          0.0012352038597822257,
          0.004650393889286009,
          0.005322488494438277,
          0.0013304047736157336,
          0.0011733984807171382,
          0.0010299291022394374,
          0.012395330592034159,
          0.010416151625570722,
          0.0027818425806556673,
          0.0029011189215788127,
          0.05140423129078559,
          0.07202538524148727,
          0.003041677148600317,
          0.00289556487927133,
          0.005830560257660477,
          0.006318416187352202,
          0.002716957377624677,
          0.002472678801691984,
          0.021626620037762105,
          0.013054521890168926,
          0.021815358298869495,
          0.023188906502011115,
          0.015954123328424104,
          0.015535824020491109,
          0.09733991781901438,
          0.035738276259994595,
          0.07504194257640646,
          0.008327060458107688,
          0.04927129920699131,
          0.5193819405453249
         ],
         "xaxis": "x7",
         "y": [
          0.7653735572450331,
          0.745430396827768,
          0.7668862780894318,
          0.7384172379423715,
          0.7447225974473926,
          0.7445080586294106,
          0.7527070460095588,
          0.7693730467174706,
          0.7369757329058382,
          0.7499759314859221,
          0.7449909678954487,
          0.7707441374326638,
          0.7681984963501921,
          0.7689363256746844,
          0.7705541868921632,
          0.7755067283572632,
          0.7694601226631541,
          0.7743702242946677,
          0.7745574803823307,
          0.7744314472407912,
          0.7750751643572413,
          0.7589173435520471,
          0.756710138887047,
          0.7728419519652003,
          0.7728913204570291,
          0.7744137627842128,
          0.7721451371309499,
          0.7722002935456858,
          0.7749476470344818,
          0.775128387208627,
          0.7659600802025015,
          0.7641390870455049,
          0.7746321041673868,
          0.7764744891784912,
          0.7711656180257351,
          0.7466768669819481,
          0.769820058100493,
          0.7668898029036308,
          0.7754878898387241,
          0.7763731892327175,
          0.7745323158981914,
          0.7714239867531072,
          0.7709803410876539,
          0.7734156862423874,
          0.7724598403225608,
          0.7748936273070091,
          0.7658732638198458,
          0.7562531988985758,
          0.7633535750343802,
          0.7471710779650196
         ],
         "yaxis": "y7"
        },
        {
         "marker": {
          "color": [
           0,
           1,
           2,
           3,
           4,
           5,
           6,
           7,
           8,
           9,
           10,
           11,
           12,
           13,
           14,
           15,
           16,
           17,
           18,
           19,
           20,
           21,
           22,
           23,
           24,
           25,
           26,
           27,
           28,
           29,
           30,
           31,
           32,
           33,
           34,
           35,
           36,
           37,
           38,
           39,
           40,
           41,
           42,
           43,
           44,
           45,
           46,
           47,
           48,
           49
          ],
          "colorbar": {
           "title": {
            "text": "Trial"
           },
           "x": 1,
           "xpad": 40
          },
          "colorscale": [
           [
            0,
            "rgb(247,251,255)"
           ],
           [
            0.125,
            "rgb(222,235,247)"
           ],
           [
            0.25,
            "rgb(198,219,239)"
           ],
           [
            0.375,
            "rgb(158,202,225)"
           ],
           [
            0.5,
            "rgb(107,174,214)"
           ],
           [
            0.625,
            "rgb(66,146,198)"
           ],
           [
            0.75,
            "rgb(33,113,181)"
           ],
           [
            0.875,
            "rgb(8,81,156)"
           ],
           [
            1,
            "rgb(8,48,107)"
           ]
          ],
          "line": {
           "color": "Grey",
           "width": 0.5
          },
          "showscale": false
         },
         "mode": "markers",
         "name": "Feasible Trial",
         "showlegend": false,
         "type": "scatter",
         "x": [
          0.25031611483082333,
          0.02442845429329722,
          1.5002248308899677,
          0.8552157946532589,
          0.0010813009618457577,
          0.0062573921092364355,
          4.798042250682555,
          0.46075199933348787,
          0.2604502225602199,
          0.0016078149082741197,
          0.002812410423487486,
          0.033486513547138656,
          0.04383052877991939,
          0.032970942781664535,
          0.01335864496476768,
          0.16567345474067047,
          0.009737865308962259,
          0.12117389066908892,
          0.08389648791521565,
          0.1267768691760265,
          0.11854587151052244,
          4.37534031806354,
          0.08686401430893444,
          0.07499090118611983,
          0.08722960412330341,
          0.30841968372489714,
          0.5287445315438829,
          1.6830622063034695,
          0.5369544291600175,
          0.1936226007915368,
          0.21066184805337912,
          0.2166946665391988,
          0.9458767293647109,
          0.8929633543221254,
          1.4712686099872254,
          9.680126054909017,
          2.358505148021667,
          0.16790846991379751,
          0.05098031219258003,
          0.6965477507809044,
          0.018244800886096067,
          0.7714230609599253,
          0.7921938188845455,
          0.44756968083563337,
          0.04936821079321578,
          0.05441177151815893,
          0.3071348802161173,
          0.3181276846921585,
          2.698640579243287,
          2.685191503220858
         ],
         "xaxis": "x8",
         "y": [
          0.7653735572450331,
          0.745430396827768,
          0.7668862780894318,
          0.7384172379423715,
          0.7447225974473926,
          0.7445080586294106,
          0.7527070460095588,
          0.7693730467174706,
          0.7369757329058382,
          0.7499759314859221,
          0.7449909678954487,
          0.7707441374326638,
          0.7681984963501921,
          0.7689363256746844,
          0.7705541868921632,
          0.7755067283572632,
          0.7694601226631541,
          0.7743702242946677,
          0.7745574803823307,
          0.7744314472407912,
          0.7750751643572413,
          0.7589173435520471,
          0.756710138887047,
          0.7728419519652003,
          0.7728913204570291,
          0.7744137627842128,
          0.7721451371309499,
          0.7722002935456858,
          0.7749476470344818,
          0.775128387208627,
          0.7659600802025015,
          0.7641390870455049,
          0.7746321041673868,
          0.7764744891784912,
          0.7711656180257351,
          0.7466768669819481,
          0.769820058100493,
          0.7668898029036308,
          0.7754878898387241,
          0.7763731892327175,
          0.7745323158981914,
          0.7714239867531072,
          0.7709803410876539,
          0.7734156862423874,
          0.7724598403225608,
          0.7748936273070091,
          0.7658732638198458,
          0.7562531988985758,
          0.7633535750343802,
          0.7471710779650196
         ],
         "yaxis": "y8"
        },
        {
         "marker": {
          "color": [
           0,
           1,
           2,
           3,
           4,
           5,
           6,
           7,
           8,
           9,
           10,
           11,
           12,
           13,
           14,
           15,
           16,
           17,
           18,
           19,
           20,
           21,
           22,
           23,
           24,
           25,
           26,
           27,
           28,
           29,
           30,
           31,
           32,
           33,
           34,
           35,
           36,
           37,
           38,
           39,
           40,
           41,
           42,
           43,
           44,
           45,
           46,
           47,
           48,
           49
          ],
          "colorbar": {
           "title": {
            "text": "Trial"
           },
           "x": 1,
           "xpad": 40
          },
          "colorscale": [
           [
            0,
            "rgb(247,251,255)"
           ],
           [
            0.125,
            "rgb(222,235,247)"
           ],
           [
            0.25,
            "rgb(198,219,239)"
           ],
           [
            0.375,
            "rgb(158,202,225)"
           ],
           [
            0.5,
            "rgb(107,174,214)"
           ],
           [
            0.625,
            "rgb(66,146,198)"
           ],
           [
            0.75,
            "rgb(33,113,181)"
           ],
           [
            0.875,
            "rgb(8,81,156)"
           ],
           [
            1,
            "rgb(8,48,107)"
           ]
          ],
          "line": {
           "color": "Grey",
           "width": 0.5
          },
          "showscale": false
         },
         "mode": "markers",
         "name": "Feasible Trial",
         "showlegend": false,
         "type": "scatter",
         "x": [
          0.8752862405655792,
          0.5882195167266739,
          0.950231364541759,
          0.43933107866439364,
          0.7616056110345653,
          0.5778184557387014,
          0.8859726507330328,
          0.6732646984757411,
          0.9967625694979534,
          0.8839658913818019,
          0.6832224875394244,
          0.7001968953032099,
          0.7087677475459498,
          0.7164239621740879,
          0.5960920793360357,
          0.5993768460352463,
          0.49549819747805124,
          0.47698648290418716,
          0.7927532371385275,
          0.41779362937820397,
          0.4003590116959355,
          0.7966128310396993,
          0.7970427444233018,
          0.5402651542565602,
          0.5206666306834343,
          0.6335195875849201,
          0.4817962483660188,
          0.833270102914019,
          0.40352040219113516,
          0.4063154657786586,
          0.40763354356519355,
          0.45301408357853234,
          0.4006048639823391,
          0.4088981384627649,
          0.5407361764141778,
          0.5323026240989369,
          0.4430788261821614,
          0.4495016420923388,
          0.44746779935977465,
          0.5708479402295414,
          0.6006322553378258,
          0.5857137248294719,
          0.5649576658644992,
          0.6281619395460928,
          0.5007847056747385,
          0.49863821284627835,
          0.4653234535752057,
          0.6475481514720147,
          0.4626836823784679,
          0.4366918279170055
         ],
         "xaxis": "x9",
         "y": [
          0.7653735572450331,
          0.745430396827768,
          0.7668862780894318,
          0.7384172379423715,
          0.7447225974473926,
          0.7445080586294106,
          0.7527070460095588,
          0.7693730467174706,
          0.7369757329058382,
          0.7499759314859221,
          0.7449909678954487,
          0.7707441374326638,
          0.7681984963501921,
          0.7689363256746844,
          0.7705541868921632,
          0.7755067283572632,
          0.7694601226631541,
          0.7743702242946677,
          0.7745574803823307,
          0.7744314472407912,
          0.7750751643572413,
          0.7589173435520471,
          0.756710138887047,
          0.7728419519652003,
          0.7728913204570291,
          0.7744137627842128,
          0.7721451371309499,
          0.7722002935456858,
          0.7749476470344818,
          0.775128387208627,
          0.7659600802025015,
          0.7641390870455049,
          0.7746321041673868,
          0.7764744891784912,
          0.7711656180257351,
          0.7466768669819481,
          0.769820058100493,
          0.7668898029036308,
          0.7754878898387241,
          0.7763731892327175,
          0.7745323158981914,
          0.7714239867531072,
          0.7709803410876539,
          0.7734156862423874,
          0.7724598403225608,
          0.7748936273070091,
          0.7658732638198458,
          0.7562531988985758,
          0.7633535750343802,
          0.7471710779650196
         ],
         "yaxis": "y9"
        }
       ],
       "layout": {
        "template": {
         "data": {
          "bar": [
           {
            "error_x": {
             "color": "#2a3f5f"
            },
            "error_y": {
             "color": "#2a3f5f"
            },
            "marker": {
             "line": {
              "color": "#E5ECF6",
              "width": 0.5
             },
             "pattern": {
              "fillmode": "overlay",
              "size": 10,
              "solidity": 0.2
             }
            },
            "type": "bar"
           }
          ],
          "barpolar": [
           {
            "marker": {
             "line": {
              "color": "#E5ECF6",
              "width": 0.5
             },
             "pattern": {
              "fillmode": "overlay",
              "size": 10,
              "solidity": 0.2
             }
            },
            "type": "barpolar"
           }
          ],
          "carpet": [
           {
            "aaxis": {
             "endlinecolor": "#2a3f5f",
             "gridcolor": "white",
             "linecolor": "white",
             "minorgridcolor": "white",
             "startlinecolor": "#2a3f5f"
            },
            "baxis": {
             "endlinecolor": "#2a3f5f",
             "gridcolor": "white",
             "linecolor": "white",
             "minorgridcolor": "white",
             "startlinecolor": "#2a3f5f"
            },
            "type": "carpet"
           }
          ],
          "choropleth": [
           {
            "colorbar": {
             "outlinewidth": 0,
             "ticks": ""
            },
            "type": "choropleth"
           }
          ],
          "contour": [
           {
            "colorbar": {
             "outlinewidth": 0,
             "ticks": ""
            },
            "colorscale": [
             [
              0,
              "#0d0887"
             ],
             [
              0.1111111111111111,
              "#46039f"
             ],
             [
              0.2222222222222222,
              "#7201a8"
             ],
             [
              0.3333333333333333,
              "#9c179e"
             ],
             [
              0.4444444444444444,
              "#bd3786"
             ],
             [
              0.5555555555555556,
              "#d8576b"
             ],
             [
              0.6666666666666666,
              "#ed7953"
             ],
             [
              0.7777777777777778,
              "#fb9f3a"
             ],
             [
              0.8888888888888888,
              "#fdca26"
             ],
             [
              1,
              "#f0f921"
             ]
            ],
            "type": "contour"
           }
          ],
          "contourcarpet": [
           {
            "colorbar": {
             "outlinewidth": 0,
             "ticks": ""
            },
            "type": "contourcarpet"
           }
          ],
          "heatmap": [
           {
            "colorbar": {
             "outlinewidth": 0,
             "ticks": ""
            },
            "colorscale": [
             [
              0,
              "#0d0887"
             ],
             [
              0.1111111111111111,
              "#46039f"
             ],
             [
              0.2222222222222222,
              "#7201a8"
             ],
             [
              0.3333333333333333,
              "#9c179e"
             ],
             [
              0.4444444444444444,
              "#bd3786"
             ],
             [
              0.5555555555555556,
              "#d8576b"
             ],
             [
              0.6666666666666666,
              "#ed7953"
             ],
             [
              0.7777777777777778,
              "#fb9f3a"
             ],
             [
              0.8888888888888888,
              "#fdca26"
             ],
             [
              1,
              "#f0f921"
             ]
            ],
            "type": "heatmap"
           }
          ],
          "heatmapgl": [
           {
            "colorbar": {
             "outlinewidth": 0,
             "ticks": ""
            },
            "colorscale": [
             [
              0,
              "#0d0887"
             ],
             [
              0.1111111111111111,
              "#46039f"
             ],
             [
              0.2222222222222222,
              "#7201a8"
             ],
             [
              0.3333333333333333,
              "#9c179e"
             ],
             [
              0.4444444444444444,
              "#bd3786"
             ],
             [
              0.5555555555555556,
              "#d8576b"
             ],
             [
              0.6666666666666666,
              "#ed7953"
             ],
             [
              0.7777777777777778,
              "#fb9f3a"
             ],
             [
              0.8888888888888888,
              "#fdca26"
             ],
             [
              1,
              "#f0f921"
             ]
            ],
            "type": "heatmapgl"
           }
          ],
          "histogram": [
           {
            "marker": {
             "pattern": {
              "fillmode": "overlay",
              "size": 10,
              "solidity": 0.2
             }
            },
            "type": "histogram"
           }
          ],
          "histogram2d": [
           {
            "colorbar": {
             "outlinewidth": 0,
             "ticks": ""
            },
            "colorscale": [
             [
              0,
              "#0d0887"
             ],
             [
              0.1111111111111111,
              "#46039f"
             ],
             [
              0.2222222222222222,
              "#7201a8"
             ],
             [
              0.3333333333333333,
              "#9c179e"
             ],
             [
              0.4444444444444444,
              "#bd3786"
             ],
             [
              0.5555555555555556,
              "#d8576b"
             ],
             [
              0.6666666666666666,
              "#ed7953"
             ],
             [
              0.7777777777777778,
              "#fb9f3a"
             ],
             [
              0.8888888888888888,
              "#fdca26"
             ],
             [
              1,
              "#f0f921"
             ]
            ],
            "type": "histogram2d"
           }
          ],
          "histogram2dcontour": [
           {
            "colorbar": {
             "outlinewidth": 0,
             "ticks": ""
            },
            "colorscale": [
             [
              0,
              "#0d0887"
             ],
             [
              0.1111111111111111,
              "#46039f"
             ],
             [
              0.2222222222222222,
              "#7201a8"
             ],
             [
              0.3333333333333333,
              "#9c179e"
             ],
             [
              0.4444444444444444,
              "#bd3786"
             ],
             [
              0.5555555555555556,
              "#d8576b"
             ],
             [
              0.6666666666666666,
              "#ed7953"
             ],
             [
              0.7777777777777778,
              "#fb9f3a"
             ],
             [
              0.8888888888888888,
              "#fdca26"
             ],
             [
              1,
              "#f0f921"
             ]
            ],
            "type": "histogram2dcontour"
           }
          ],
          "mesh3d": [
           {
            "colorbar": {
             "outlinewidth": 0,
             "ticks": ""
            },
            "type": "mesh3d"
           }
          ],
          "parcoords": [
           {
            "line": {
             "colorbar": {
              "outlinewidth": 0,
              "ticks": ""
             }
            },
            "type": "parcoords"
           }
          ],
          "pie": [
           {
            "automargin": true,
            "type": "pie"
           }
          ],
          "scatter": [
           {
            "fillpattern": {
             "fillmode": "overlay",
             "size": 10,
             "solidity": 0.2
            },
            "type": "scatter"
           }
          ],
          "scatter3d": [
           {
            "line": {
             "colorbar": {
              "outlinewidth": 0,
              "ticks": ""
             }
            },
            "marker": {
             "colorbar": {
              "outlinewidth": 0,
              "ticks": ""
             }
            },
            "type": "scatter3d"
           }
          ],
          "scattercarpet": [
           {
            "marker": {
             "colorbar": {
              "outlinewidth": 0,
              "ticks": ""
             }
            },
            "type": "scattercarpet"
           }
          ],
          "scattergeo": [
           {
            "marker": {
             "colorbar": {
              "outlinewidth": 0,
              "ticks": ""
             }
            },
            "type": "scattergeo"
           }
          ],
          "scattergl": [
           {
            "marker": {
             "colorbar": {
              "outlinewidth": 0,
              "ticks": ""
             }
            },
            "type": "scattergl"
           }
          ],
          "scattermapbox": [
           {
            "marker": {
             "colorbar": {
              "outlinewidth": 0,
              "ticks": ""
             }
            },
            "type": "scattermapbox"
           }
          ],
          "scatterpolar": [
           {
            "marker": {
             "colorbar": {
              "outlinewidth": 0,
              "ticks": ""
             }
            },
            "type": "scatterpolar"
           }
          ],
          "scatterpolargl": [
           {
            "marker": {
             "colorbar": {
              "outlinewidth": 0,
              "ticks": ""
             }
            },
            "type": "scatterpolargl"
           }
          ],
          "scatterternary": [
           {
            "marker": {
             "colorbar": {
              "outlinewidth": 0,
              "ticks": ""
             }
            },
            "type": "scatterternary"
           }
          ],
          "surface": [
           {
            "colorbar": {
             "outlinewidth": 0,
             "ticks": ""
            },
            "colorscale": [
             [
              0,
              "#0d0887"
             ],
             [
              0.1111111111111111,
              "#46039f"
             ],
             [
              0.2222222222222222,
              "#7201a8"
             ],
             [
              0.3333333333333333,
              "#9c179e"
             ],
             [
              0.4444444444444444,
              "#bd3786"
             ],
             [
              0.5555555555555556,
              "#d8576b"
             ],
             [
              0.6666666666666666,
              "#ed7953"
             ],
             [
              0.7777777777777778,
              "#fb9f3a"
             ],
             [
              0.8888888888888888,
              "#fdca26"
             ],
             [
              1,
              "#f0f921"
             ]
            ],
            "type": "surface"
           }
          ],
          "table": [
           {
            "cells": {
             "fill": {
              "color": "#EBF0F8"
             },
             "line": {
              "color": "white"
             }
            },
            "header": {
             "fill": {
              "color": "#C8D4E3"
             },
             "line": {
              "color": "white"
             }
            },
            "type": "table"
           }
          ]
         },
         "layout": {
          "annotationdefaults": {
           "arrowcolor": "#2a3f5f",
           "arrowhead": 0,
           "arrowwidth": 1
          },
          "autotypenumbers": "strict",
          "coloraxis": {
           "colorbar": {
            "outlinewidth": 0,
            "ticks": ""
           }
          },
          "colorscale": {
           "diverging": [
            [
             0,
             "#8e0152"
            ],
            [
             0.1,
             "#c51b7d"
            ],
            [
             0.2,
             "#de77ae"
            ],
            [
             0.3,
             "#f1b6da"
            ],
            [
             0.4,
             "#fde0ef"
            ],
            [
             0.5,
             "#f7f7f7"
            ],
            [
             0.6,
             "#e6f5d0"
            ],
            [
             0.7,
             "#b8e186"
            ],
            [
             0.8,
             "#7fbc41"
            ],
            [
             0.9,
             "#4d9221"
            ],
            [
             1,
             "#276419"
            ]
           ],
           "sequential": [
            [
             0,
             "#0d0887"
            ],
            [
             0.1111111111111111,
             "#46039f"
            ],
            [
             0.2222222222222222,
             "#7201a8"
            ],
            [
             0.3333333333333333,
             "#9c179e"
            ],
            [
             0.4444444444444444,
             "#bd3786"
            ],
            [
             0.5555555555555556,
             "#d8576b"
            ],
            [
             0.6666666666666666,
             "#ed7953"
            ],
            [
             0.7777777777777778,
             "#fb9f3a"
            ],
            [
             0.8888888888888888,
             "#fdca26"
            ],
            [
             1,
             "#f0f921"
            ]
           ],
           "sequentialminus": [
            [
             0,
             "#0d0887"
            ],
            [
             0.1111111111111111,
             "#46039f"
            ],
            [
             0.2222222222222222,
             "#7201a8"
            ],
            [
             0.3333333333333333,
             "#9c179e"
            ],
            [
             0.4444444444444444,
             "#bd3786"
            ],
            [
             0.5555555555555556,
             "#d8576b"
            ],
            [
             0.6666666666666666,
             "#ed7953"
            ],
            [
             0.7777777777777778,
             "#fb9f3a"
            ],
            [
             0.8888888888888888,
             "#fdca26"
            ],
            [
             1,
             "#f0f921"
            ]
           ]
          },
          "colorway": [
           "#636efa",
           "#EF553B",
           "#00cc96",
           "#ab63fa",
           "#FFA15A",
           "#19d3f3",
           "#FF6692",
           "#B6E880",
           "#FF97FF",
           "#FECB52"
          ],
          "font": {
           "color": "#2a3f5f"
          },
          "geo": {
           "bgcolor": "white",
           "lakecolor": "white",
           "landcolor": "#E5ECF6",
           "showlakes": true,
           "showland": true,
           "subunitcolor": "white"
          },
          "hoverlabel": {
           "align": "left"
          },
          "hovermode": "closest",
          "mapbox": {
           "style": "light"
          },
          "paper_bgcolor": "white",
          "plot_bgcolor": "#E5ECF6",
          "polar": {
           "angularaxis": {
            "gridcolor": "white",
            "linecolor": "white",
            "ticks": ""
           },
           "bgcolor": "#E5ECF6",
           "radialaxis": {
            "gridcolor": "white",
            "linecolor": "white",
            "ticks": ""
           }
          },
          "scene": {
           "xaxis": {
            "backgroundcolor": "#E5ECF6",
            "gridcolor": "white",
            "gridwidth": 2,
            "linecolor": "white",
            "showbackground": true,
            "ticks": "",
            "zerolinecolor": "white"
           },
           "yaxis": {
            "backgroundcolor": "#E5ECF6",
            "gridcolor": "white",
            "gridwidth": 2,
            "linecolor": "white",
            "showbackground": true,
            "ticks": "",
            "zerolinecolor": "white"
           },
           "zaxis": {
            "backgroundcolor": "#E5ECF6",
            "gridcolor": "white",
            "gridwidth": 2,
            "linecolor": "white",
            "showbackground": true,
            "ticks": "",
            "zerolinecolor": "white"
           }
          },
          "shapedefaults": {
           "line": {
            "color": "#2a3f5f"
           }
          },
          "ternary": {
           "aaxis": {
            "gridcolor": "white",
            "linecolor": "white",
            "ticks": ""
           },
           "baxis": {
            "gridcolor": "white",
            "linecolor": "white",
            "ticks": ""
           },
           "bgcolor": "#E5ECF6",
           "caxis": {
            "gridcolor": "white",
            "linecolor": "white",
            "ticks": ""
           }
          },
          "title": {
           "x": 0.05
          },
          "xaxis": {
           "automargin": true,
           "gridcolor": "white",
           "linecolor": "white",
           "ticks": "",
           "title": {
            "standoff": 15
           },
           "zerolinecolor": "white",
           "zerolinewidth": 2
          },
          "yaxis": {
           "automargin": true,
           "gridcolor": "white",
           "linecolor": "white",
           "ticks": "",
           "title": {
            "standoff": 15
           },
           "zerolinecolor": "white",
           "zerolinewidth": 2
          }
         }
        },
        "title": {
         "text": "Slice Plot"
        },
        "width": 2700,
        "xaxis": {
         "anchor": "y",
         "domain": [
          0,
          0.09135802469135802
         ],
         "title": {
          "text": "colsample_bytree"
         }
        },
        "xaxis2": {
         "anchor": "y2",
         "domain": [
          0.11358024691358025,
          0.20493827160493827
         ],
         "title": {
          "text": "learning_rate"
         },
         "type": "log"
        },
        "xaxis3": {
         "anchor": "y3",
         "domain": [
          0.2271604938271605,
          0.31851851851851853
         ],
         "title": {
          "text": "max_depth"
         }
        },
        "xaxis4": {
         "anchor": "y4",
         "domain": [
          0.34074074074074073,
          0.43209876543209874
         ],
         "title": {
          "text": "min_child_samples"
         }
        },
        "xaxis5": {
         "anchor": "y5",
         "domain": [
          0.454320987654321,
          0.5456790123456791
         ],
         "title": {
          "text": "n_estimators"
         }
        },
        "xaxis6": {
         "anchor": "y6",
         "domain": [
          0.5679012345679012,
          0.6592592592592592
         ],
         "title": {
          "text": "num_leaves"
         }
        },
        "xaxis7": {
         "anchor": "y7",
         "domain": [
          0.6814814814814815,
          0.7728395061728395
         ],
         "title": {
          "text": "reg_alpha"
         },
         "type": "log"
        },
        "xaxis8": {
         "anchor": "y8",
         "domain": [
          0.7950617283950617,
          0.8864197530864197
         ],
         "title": {
          "text": "reg_lambda"
         },
         "type": "log"
        },
        "xaxis9": {
         "anchor": "y9",
         "domain": [
          0.908641975308642,
          1
         ],
         "title": {
          "text": "subsample"
         }
        },
        "yaxis": {
         "anchor": "x",
         "domain": [
          0,
          1
         ],
         "title": {
          "text": "Objective Value"
         }
        },
        "yaxis2": {
         "anchor": "x2",
         "domain": [
          0,
          1
         ],
         "matches": "y",
         "showticklabels": false
        },
        "yaxis3": {
         "anchor": "x3",
         "domain": [
          0,
          1
         ],
         "matches": "y",
         "showticklabels": false
        },
        "yaxis4": {
         "anchor": "x4",
         "domain": [
          0,
          1
         ],
         "matches": "y",
         "showticklabels": false
        },
        "yaxis5": {
         "anchor": "x5",
         "domain": [
          0,
          1
         ],
         "matches": "y",
         "showticklabels": false
        },
        "yaxis6": {
         "anchor": "x6",
         "domain": [
          0,
          1
         ],
         "matches": "y",
         "showticklabels": false
        },
        "yaxis7": {
         "anchor": "x7",
         "domain": [
          0,
          1
         ],
         "matches": "y",
         "showticklabels": false
        },
        "yaxis8": {
         "anchor": "x8",
         "domain": [
          0,
          1
         ],
         "matches": "y",
         "showticklabels": false
        },
        "yaxis9": {
         "anchor": "x9",
         "domain": [
          0,
          1
         ],
         "matches": "y",
         "showticklabels": false
        }
       }
      }
     },
     "metadata": {},
     "output_type": "display_data"
    }
   ],
   "source": [
    "# %%script skipped # Skipped due to resource optimization\n",
    "\n",
    "optuna.visualization.plot_slice(study, params=list(best_params.keys()))"
   ]
  },
  {
   "cell_type": "code",
   "execution_count": 331,
   "metadata": {},
   "outputs": [],
   "source": [
    "# %%script skipped # Skipped due to resource optimization\n",
    "\n",
    "clf_lgbm_tuned = LGBMClassifier(**defined_params, **best_params)"
   ]
  },
  {
   "cell_type": "code",
   "execution_count": 335,
   "metadata": {},
   "outputs": [],
   "source": [
    "# %%script skipped # Skipped due to resource optimization\n",
    "IS_TRAINING = False\n",
    "cache_path = r'models\\clf_lgbm_tuned_model.pkl'\n",
    "\n",
    "cb_fold = lambda fold, scores: print(f'Fold {fold + 1} => AUC score: {scores[0]:.4f} (train) | {scores[1]:.4f} (valid)')\n",
    "cb_end = lambda scores: print(f'Mean AUC oof score: {scores[0]:.4f} (train) | {scores[1]:.4f} (valid)')\n",
    "\n",
    "if IS_TRAINING:\n",
    "  auc_scores_train, auc_scores_valid = train_model(X, y,\n",
    "                                                  model=clf_lgbm_tuned,\n",
    "                                                  preprocessor=preprocessor,\n",
    "                                                  scorer=roc_auc_score,\n",
    "                                                  cv_fold=skf,\n",
    "                                                  cb_fold=cb_fold,\n",
    "                                                  cb_end=cb_end)\n",
    "  mean_auc_train, mean_auc_valid = np.mean(auc_scores_train), np.mean(auc_scores_valid)\n",
    "  joblib.dump({\n",
    "    'model': clf_lgbm_tuned,\n",
    "    'preprocessor_pipe': preprocessor_pipe,\n",
    "    'scores': (auc_scores_train, auc_scores_valid)\n",
    "    }, cache_path)\n",
    "else:\n",
    "  try:\n",
    "    cache = joblib.load(cache_path)\n",
    "    clf_lgbm_tuned = cache['model']\n",
    "    preprocessor_pipe = cache['preprocessor_pipe']\n",
    "    auc_scores_train = cache['scores'][0]\n",
    "    auc_scores_valid = cache['scores'][1]\n",
    "  except FileNotFoundError:\n",
    "    print('Cached study file not found!')"
   ]
  },
  {
   "cell_type": "code",
   "execution_count": 237,
   "metadata": {},
   "outputs": [
    {
     "data": {
      "text/plain": [
       "<Axes: title={'center': 'Feature Importance LGBM-Tuned (AUC = 0.7779)'}, xlabel='Feature', ylabel='Feature Importance'>"
      ]
     },
     "execution_count": 237,
     "metadata": {},
     "output_type": "execute_result"
    },
    {
     "data": {
      "image/png": "[encoded data removed]",
      "text/plain": [
       "<Figure size 1500x300 with 1 Axes>"
      ]
     },
     "metadata": {},
     "output_type": "display_data"
    }
   ],
   "source": [
    "# %%script skipped # Skipped due to resource optimization\n",
    "\n",
    "df_feat_imp = pd.DataFrame({'Feature': X.columns, 'Importance': clf_lgbm_tuned.feature_importances_})\n",
    "df_feat_imp = df_feat_imp.sort_values(by='Importance', ascending=False)\n",
    "df_feat_imp[:50].plot(kind='bar',\n",
    "                      x='Feature',\n",
    "                      y='Importance',\n",
    "                      title=f'Feature Importance LGBM-Tuned (AUC = {mean_auc_valid:.4f})',\n",
    "                      xlabel='Feature',\n",
    "                      ylabel='Feature Importance',\n",
    "                      figsize=(15, 3))"
   ]
  },
  {
   "cell_type": "code",
   "execution_count": 296,
   "metadata": {},
   "outputs": [
    {
     "name": "stdout",
     "output_type": "stream",
     "text": [
      "Numbers of categorical feature(s): 1\n",
      "Numbers of numerical feature(s): 49\n"
     ]
    }
   ],
   "source": [
    "# %%script skipped # Skipped due to resource optimization\n",
    "\n",
    "top_feat_50 = df[df_feat_imp[:50]['Feature']]\n",
    "\n",
    "cat_feat = top_feat_50.select_dtypes('object').columns\n",
    "num_feat = top_feat_50.select_dtypes(exclude='object').columns\n",
    "\n",
    "print(f'Numbers of categorical feature(s): {len(cat_feat)}')\n",
    "print(f'Numbers of numerical feature(s): {len(num_feat)}')"
   ]
  },
  {
   "cell_type": "code",
   "execution_count": 297,
   "metadata": {},
   "outputs": [
    {
     "name": "stdout",
     "output_type": "stream",
     "text": [
      "AUC score of test dataset: 0.7780\n"
     ]
    }
   ],
   "source": [
    "# %%script skipped # Skipped due to resource optimization\n",
    "\n",
    "y_preds = clf_lgbm_tuned.predict_proba(preprocessor_pipe.transform(X_test))[:, 1]\n",
    "clf_lgbm_tun_auc_test = roc_auc_score(y_test, y_preds)\n",
    "\n",
    "print(f'AUC score of test dataset: {clf_lgbm_tun_auc_test:.4f}')"
   ]
  },
  {
   "cell_type": "markdown",
   "metadata": {},
   "source": [
    "### **XGBoost**"
   ]
  },
  {
   "cell_type": "markdown",
   "metadata": {},
   "source": [
    "##### **A. Default XGBoost**"
   ]
  },
  {
   "cell_type": "code",
   "execution_count": 252,
   "metadata": {},
   "outputs": [],
   "source": [
    "# %%script skipped # Skipped due to resource optimization\n",
    "\n",
    "clf_xgb_default = XGBClassifier(objective='binary:logistic', booster='gbtree', eva_metric='auc', verbosity=0, nthread=4)"
   ]
  },
  {
   "cell_type": "code",
   "execution_count": 336,
   "metadata": {},
   "outputs": [],
   "source": [
    "# %%script skipped # Skipped due to resource optimization\n",
    "IS_TRAINING = False\n",
    "cache_path = r'models\\clf_xgb_default_model.pkl'\n",
    "\n",
    "cb_fold = lambda fold, scores: print(f'Fold {fold + 1} => AUC score: {scores[0]:.4f} (train) | {scores[1]:.4f} (valid)')\n",
    "cb_end = lambda scores: print(f'Mean AUC oof score: {scores[0]:.4f} (train) | {scores[1]:.4f} (valid)')\n",
    "\n",
    "if IS_TRAINING:\n",
    "  auc_scores_train, auc_scores_valid = train_model(X, y,\n",
    "                                                  model=clf_xgb_default,\n",
    "                                                  preprocessor=preprocessor,\n",
    "                                                  scorer=roc_auc_score,\n",
    "                                                  cv_fold=skf,\n",
    "                                                  cb_fold=cb_fold,\n",
    "                                                  cb_end=cb_end)\n",
    "  mean_auc_train, mean_auc_valid = np.mean(auc_scores_train), np.mean(auc_scores_valid)\n",
    "  joblib.dump({\n",
    "    'model': clf_xgb_default,\n",
    "    'preprocessor_pipe': preprocessor_pipe,\n",
    "    'scores': (auc_scores_train, auc_scores_valid)\n",
    "    }, cache_path)\n",
    "else:\n",
    "  try:\n",
    "    cache = joblib.load(cache_path)\n",
    "    clf_xgb_default = cache['model']\n",
    "    preprocessor_pipe = cache['preprocessor_pipe']\n",
    "    auc_scores_train = cache['scores'][0]\n",
    "    auc_scores_valid = cache['scores'][1]\n",
    "  except FileNotFoundError:\n",
    "    print('Cached study file not found!')"
   ]
  },
  {
   "cell_type": "code",
   "execution_count": 299,
   "metadata": {},
   "outputs": [
    {
     "data": {
      "text/plain": [
       "<Axes: title={'center': 'Feature Importance XGB-Default (AUC = 0.7598)'}, xlabel='Feature', ylabel='Feature Importance'>"
      ]
     },
     "execution_count": 299,
     "metadata": {},
     "output_type": "execute_result"
    },
    {
     "data": {
      "image/png": "[encoded data removed]",
      "text/plain": [
       "<Figure size 1500x300 with 1 Axes>"
      ]
     },
     "metadata": {},
     "output_type": "display_data"
    }
   ],
   "source": [
    "# %%script skipped # Skipped due to resource optimization\n",
    "\n",
    "df_feat_imp = pd.DataFrame({'Feature': X.columns, 'Importance': clf_xgb_default.feature_importances_})\n",
    "df_feat_imp = df_feat_imp.sort_values(by='Importance', ascending=False)\n",
    "df_feat_imp[:50].plot(kind='bar',\n",
    "                      x='Feature',\n",
    "                      y='Importance',\n",
    "                      title=f'Feature Importance XGB-Default (AUC = {mean_auc_valid:.4f})',\n",
    "                      xlabel='Feature',\n",
    "                      ylabel='Feature Importance',\n",
    "                      figsize=(15, 3))"
   ]
  },
  {
   "cell_type": "code",
   "execution_count": 300,
   "metadata": {},
   "outputs": [
    {
     "name": "stdout",
     "output_type": "stream",
     "text": [
      "Numbers of categorical feature(s): 0\n",
      "Numbers of numerical feature(s): 50\n"
     ]
    }
   ],
   "source": [
    "# %%script skipped # Skipped due to resource optimization\n",
    "\n",
    "top_feat_50 = df[df_feat_imp[:50]['Feature']]\n",
    "\n",
    "cat_feat = top_feat_50.select_dtypes('object').columns\n",
    "num_feat = top_feat_50.select_dtypes(exclude='object').columns\n",
    "\n",
    "print(f'Numbers of categorical feature(s): {len(cat_feat)}')\n",
    "print(f'Numbers of numerical feature(s): {len(num_feat)}')"
   ]
  },
  {
   "cell_type": "code",
   "execution_count": 301,
   "metadata": {},
   "outputs": [
    {
     "name": "stdout",
     "output_type": "stream",
     "text": [
      "AUC score of test dataset: 0.7637\n"
     ]
    }
   ],
   "source": [
    "# %%script skipped # Skipped due to resource optimization\n",
    "\n",
    "y_preds = clf_xgb_default.predict_proba(preprocessor_pipe.transform(X_test))[:, 1]\n",
    "clf_xgb_def_auc_test = roc_auc_score(y_test, y_preds)\n",
    "\n",
    "print(f'AUC score of test dataset: {clf_xgb_def_auc_test:.4f}')"
   ]
  },
  {
   "cell_type": "markdown",
   "metadata": {},
   "source": [
    "##### **D. Tuned XGBoost**"
   ]
  },
  {
   "cell_type": "code",
   "execution_count": 302,
   "metadata": {},
   "outputs": [],
   "source": [
    "# %%script skipped # Skipped due to resource optimization\n",
    "\n",
    "defined_params = {\n",
    "    'objective': 'binary:logistic',\n",
    "    'booster': 'gbtree',\n",
    "    'eval_metric': 'auc',\n",
    "    'n_jobs': 2,\n",
    "    'verbosity': 0,\n",
    "    'seed': 42\n",
    "  }\n",
    "\n",
    "def objective(trial: Trial):\n",
    "  tuned_params = {\n",
    "    'n_estimators': trial.suggest_int('n_estimators', 50, 150),\n",
    "    'learning_rate': trial.suggest_float('learning_rate', 1e-3, 0.5, log=True),\n",
    "    'max_depth': trial.suggest_int('max_depth', 3, 20),\n",
    "    'subsample': trial.suggest_float('subsample', 0.5, 1.0),\n",
    "    'colsample_bytree': trial.suggest_float('colsample_bytree', 0.4, 1.0),\n",
    "    'min_child_weight': trial.suggest_int('min_child_weight', 1, 10),\n",
    "    'gamma': trial.suggest_float('gamma', 0.0, 1.0),\n",
    "    'scale_pos_weight': trial.suggest_float('scale_pos_weight', 1.0, 10.0),\n",
    "    'reg_alpha': trial.suggest_float('alpha', 1e-3, 10.0, log=True),\n",
    "    'reg_lambda': trial.suggest_float('lambda', 1e-3, 10.0, log=True)\n",
    "  }\n",
    "  \n",
    "  clf_xgb_tuned = XGBClassifier(**defined_params, **tuned_params)\n",
    "    \n",
    "  auc_scores_train, auc_scores_valid = train_model(X, y,\n",
    "                                                  model=clf_xgb_tuned,\n",
    "                                                  preprocessor=preprocessor,\n",
    "                                                  scorer=roc_auc_score,\n",
    "                                                  cv_fold=skf,\n",
    "                                                  skip_fold='odd')\n",
    "  mean_auc_train, mean_auc_valid = np.mean(auc_scores_train), np.mean(auc_scores_valid)\n",
    "\n",
    "  print(f'Mean AUC oof score (n={trial.number}): {mean_auc_train:.4f} (train) | {mean_auc_valid:.4f} (valid)')\n",
    "  \n",
    "  return mean_auc_valid\n",
    "\n",
    "def callback(study: Study, trial: Trial):\n",
    "  joblib.dump(study, r'studies\\clf_xgb_study.pkl')"
   ]
  },
  {
   "cell_type": "code",
   "execution_count": 303,
   "metadata": {},
   "outputs": [],
   "source": [
    "# %%script skipped # Skipped due to resource optimization\n",
    "\n",
    "IS_TUNING = False\n",
    "\n",
    "if IS_TUNING:\n",
    "  study = optuna.create_study(direction='maximize')\n",
    "  study.optimize(objective, n_trials=50, n_jobs=1, callbacks=[callback])\n",
    "else:\n",
    "  try:\n",
    "    study = joblib.load(r'studies\\clf_xgb_study.pkl')\n",
    "  except FileNotFoundError:\n",
    "    print('Cached study file not found!')"
   ]
  },
  {
   "cell_type": "code",
   "execution_count": 304,
   "metadata": {},
   "outputs": [
    {
     "data": {
      "text/plain": [
       "{'n_estimators': 137,\n",
       " 'learning_rate': 0.04194722718576069,\n",
       " 'max_depth': 8,\n",
       " 'subsample': 0.9082784000539145,\n",
       " 'colsample_bytree': 0.5872094247867703,\n",
       " 'min_child_weight': 8,\n",
       " 'gamma': 0.27709922269615656,\n",
       " 'scale_pos_weight': 2.091685625742769,\n",
       " 'alpha': 0.054288217779455666,\n",
       " 'lambda': 0.005369116300205121}"
      ]
     },
     "execution_count": 304,
     "metadata": {},
     "output_type": "execute_result"
    }
   ],
   "source": [
    "# %%script skipped # Skipped due to resource optimization\n",
    "\n",
    "best_params = study.best_params\n",
    "best_params"
   ]
  },
  {
   "cell_type": "code",
   "execution_count": 305,
   "metadata": {},
   "outputs": [
    {
     "data": {
      "application/vnd.plotly.v1+json": {
       "config": {
        "plotlyServerURL": "https://plot.ly"
       },
       "data": [
        {
         "cliponaxis": false,
         "hovertemplate": [
          "alpha (FloatDistribution): 0.001946151963528186<extra></extra>",
          "max_depth (IntDistribution): 0.0152134232892242<extra></extra>",
          "gamma (FloatDistribution): 0.016347790074446207<extra></extra>",
          "colsample_bytree (FloatDistribution): 0.037233618362511885<extra></extra>",
          "n_estimators (IntDistribution): 0.04172993619125641<extra></extra>",
          "subsample (FloatDistribution): 0.042903436034730666<extra></extra>",
          "lambda (FloatDistribution): 0.04726634843367588<extra></extra>",
          "scale_pos_weight (FloatDistribution): 0.053782807962838367<extra></extra>",
          "min_child_weight (IntDistribution): 0.0793674807232127<extra></extra>",
          "learning_rate (FloatDistribution): 0.6642090069645756<extra></extra>"
         ],
         "name": "Objective Value",
         "orientation": "h",
         "text": [
          "<0.01",
          "0.02",
          "0.02",
          "0.04",
          "0.04",
          "0.04",
          "0.05",
          "0.05",
          "0.08",
          "0.66"
         ],
         "textposition": "outside",
         "type": "bar",
         "x": [
          0.001946151963528186,
          0.0152134232892242,
          0.016347790074446207,
          0.037233618362511885,
          0.04172993619125641,
          0.042903436034730666,
          0.04726634843367588,
          0.053782807962838367,
          0.0793674807232127,
          0.6642090069645756
         ],
         "y": [
          "alpha",
          "max_depth",
          "gamma",
          "colsample_bytree",
          "n_estimators",
          "subsample",
          "lambda",
          "scale_pos_weight",
          "min_child_weight",
          "learning_rate"
         ]
        }
       ],
       "layout": {
        "template": {
         "data": {
          "bar": [
           {
            "error_x": {
             "color": "#2a3f5f"
            },
            "error_y": {
             "color": "#2a3f5f"
            },
            "marker": {
             "line": {
              "color": "#E5ECF6",
              "width": 0.5
             },
             "pattern": {
              "fillmode": "overlay",
              "size": 10,
              "solidity": 0.2
             }
            },
            "type": "bar"
           }
          ],
          "barpolar": [
           {
            "marker": {
             "line": {
              "color": "#E5ECF6",
              "width": 0.5
             },
             "pattern": {
              "fillmode": "overlay",
              "size": 10,
              "solidity": 0.2
             }
            },
            "type": "barpolar"
           }
          ],
          "carpet": [
           {
            "aaxis": {
             "endlinecolor": "#2a3f5f",
             "gridcolor": "white",
             "linecolor": "white",
             "minorgridcolor": "white",
             "startlinecolor": "#2a3f5f"
            },
            "baxis": {
             "endlinecolor": "#2a3f5f",
             "gridcolor": "white",
             "linecolor": "white",
             "minorgridcolor": "white",
             "startlinecolor": "#2a3f5f"
            },
            "type": "carpet"
           }
          ],
          "choropleth": [
           {
            "colorbar": {
             "outlinewidth": 0,
             "ticks": ""
            },
            "type": "choropleth"
           }
          ],
          "contour": [
           {
            "colorbar": {
             "outlinewidth": 0,
             "ticks": ""
            },
            "colorscale": [
             [
              0,
              "#0d0887"
             ],
             [
              0.1111111111111111,
              "#46039f"
             ],
             [
              0.2222222222222222,
              "#7201a8"
             ],
             [
              0.3333333333333333,
              "#9c179e"
             ],
             [
              0.4444444444444444,
              "#bd3786"
             ],
             [
              0.5555555555555556,
              "#d8576b"
             ],
             [
              0.6666666666666666,
              "#ed7953"
             ],
             [
              0.7777777777777778,
              "#fb9f3a"
             ],
             [
              0.8888888888888888,
              "#fdca26"
             ],
             [
              1,
              "#f0f921"
             ]
            ],
            "type": "contour"
           }
          ],
          "contourcarpet": [
           {
            "colorbar": {
             "outlinewidth": 0,
             "ticks": ""
            },
            "type": "contourcarpet"
           }
          ],
          "heatmap": [
           {
            "colorbar": {
             "outlinewidth": 0,
             "ticks": ""
            },
            "colorscale": [
             [
              0,
              "#0d0887"
             ],
             [
              0.1111111111111111,
              "#46039f"
             ],
             [
              0.2222222222222222,
              "#7201a8"
             ],
             [
              0.3333333333333333,
              "#9c179e"
             ],
             [
              0.4444444444444444,
              "#bd3786"
             ],
             [
              0.5555555555555556,
              "#d8576b"
             ],
             [
              0.6666666666666666,
              "#ed7953"
             ],
             [
              0.7777777777777778,
              "#fb9f3a"
             ],
             [
              0.8888888888888888,
              "#fdca26"
             ],
             [
              1,
              "#f0f921"
             ]
            ],
            "type": "heatmap"
           }
          ],
          "heatmapgl": [
           {
            "colorbar": {
             "outlinewidth": 0,
             "ticks": ""
            },
            "colorscale": [
             [
              0,
              "#0d0887"
             ],
             [
              0.1111111111111111,
              "#46039f"
             ],
             [
              0.2222222222222222,
              "#7201a8"
             ],
             [
              0.3333333333333333,
              "#9c179e"
             ],
             [
              0.4444444444444444,
              "#bd3786"
             ],
             [
              0.5555555555555556,
              "#d8576b"
             ],
             [
              0.6666666666666666,
              "#ed7953"
             ],
             [
              0.7777777777777778,
              "#fb9f3a"
             ],
             [
              0.8888888888888888,
              "#fdca26"
             ],
             [
              1,
              "#f0f921"
             ]
            ],
            "type": "heatmapgl"
           }
          ],
          "histogram": [
           {
            "marker": {
             "pattern": {
              "fillmode": "overlay",
              "size": 10,
              "solidity": 0.2
             }
            },
            "type": "histogram"
           }
          ],
          "histogram2d": [
           {
            "colorbar": {
             "outlinewidth": 0,
             "ticks": ""
            },
            "colorscale": [
             [
              0,
              "#0d0887"
             ],
             [
              0.1111111111111111,
              "#46039f"
             ],
             [
              0.2222222222222222,
              "#7201a8"
             ],
             [
              0.3333333333333333,
              "#9c179e"
             ],
             [
              0.4444444444444444,
              "#bd3786"
             ],
             [
              0.5555555555555556,
              "#d8576b"
             ],
             [
              0.6666666666666666,
              "#ed7953"
             ],
             [
              0.7777777777777778,
              "#fb9f3a"
             ],
             [
              0.8888888888888888,
              "#fdca26"
             ],
             [
              1,
              "#f0f921"
             ]
            ],
            "type": "histogram2d"
           }
          ],
          "histogram2dcontour": [
           {
            "colorbar": {
             "outlinewidth": 0,
             "ticks": ""
            },
            "colorscale": [
             [
              0,
              "#0d0887"
             ],
             [
              0.1111111111111111,
              "#46039f"
             ],
             [
              0.2222222222222222,
              "#7201a8"
             ],
             [
              0.3333333333333333,
              "#9c179e"
             ],
             [
              0.4444444444444444,
              "#bd3786"
             ],
             [
              0.5555555555555556,
              "#d8576b"
             ],
             [
              0.6666666666666666,
              "#ed7953"
             ],
             [
              0.7777777777777778,
              "#fb9f3a"
             ],
             [
              0.8888888888888888,
              "#fdca26"
             ],
             [
              1,
              "#f0f921"
             ]
            ],
            "type": "histogram2dcontour"
           }
          ],
          "mesh3d": [
           {
            "colorbar": {
             "outlinewidth": 0,
             "ticks": ""
            },
            "type": "mesh3d"
           }
          ],
          "parcoords": [
           {
            "line": {
             "colorbar": {
              "outlinewidth": 0,
              "ticks": ""
             }
            },
            "type": "parcoords"
           }
          ],
          "pie": [
           {
            "automargin": true,
            "type": "pie"
           }
          ],
          "scatter": [
           {
            "fillpattern": {
             "fillmode": "overlay",
             "size": 10,
             "solidity": 0.2
            },
            "type": "scatter"
           }
          ],
          "scatter3d": [
           {
            "line": {
             "colorbar": {
              "outlinewidth": 0,
              "ticks": ""
             }
            },
            "marker": {
             "colorbar": {
              "outlinewidth": 0,
              "ticks": ""
             }
            },
            "type": "scatter3d"
           }
          ],
          "scattercarpet": [
           {
            "marker": {
             "colorbar": {
              "outlinewidth": 0,
              "ticks": ""
             }
            },
            "type": "scattercarpet"
           }
          ],
          "scattergeo": [
           {
            "marker": {
             "colorbar": {
              "outlinewidth": 0,
              "ticks": ""
             }
            },
            "type": "scattergeo"
           }
          ],
          "scattergl": [
           {
            "marker": {
             "colorbar": {
              "outlinewidth": 0,
              "ticks": ""
             }
            },
            "type": "scattergl"
           }
          ],
          "scattermapbox": [
           {
            "marker": {
             "colorbar": {
              "outlinewidth": 0,
              "ticks": ""
             }
            },
            "type": "scattermapbox"
           }
          ],
          "scatterpolar": [
           {
            "marker": {
             "colorbar": {
              "outlinewidth": 0,
              "ticks": ""
             }
            },
            "type": "scatterpolar"
           }
          ],
          "scatterpolargl": [
           {
            "marker": {
             "colorbar": {
              "outlinewidth": 0,
              "ticks": ""
             }
            },
            "type": "scatterpolargl"
           }
          ],
          "scatterternary": [
           {
            "marker": {
             "colorbar": {
              "outlinewidth": 0,
              "ticks": ""
             }
            },
            "type": "scatterternary"
           }
          ],
          "surface": [
           {
            "colorbar": {
             "outlinewidth": 0,
             "ticks": ""
            },
            "colorscale": [
             [
              0,
              "#0d0887"
             ],
             [
              0.1111111111111111,
              "#46039f"
             ],
             [
              0.2222222222222222,
              "#7201a8"
             ],
             [
              0.3333333333333333,
              "#9c179e"
             ],
             [
              0.4444444444444444,
              "#bd3786"
             ],
             [
              0.5555555555555556,
              "#d8576b"
             ],
             [
              0.6666666666666666,
              "#ed7953"
             ],
             [
              0.7777777777777778,
              "#fb9f3a"
             ],
             [
              0.8888888888888888,
              "#fdca26"
             ],
             [
              1,
              "#f0f921"
             ]
            ],
            "type": "surface"
           }
          ],
          "table": [
           {
            "cells": {
             "fill": {
              "color": "#EBF0F8"
             },
             "line": {
              "color": "white"
             }
            },
            "header": {
             "fill": {
              "color": "#C8D4E3"
             },
             "line": {
              "color": "white"
             }
            },
            "type": "table"
           }
          ]
         },
         "layout": {
          "annotationdefaults": {
           "arrowcolor": "#2a3f5f",
           "arrowhead": 0,
           "arrowwidth": 1
          },
          "autotypenumbers": "strict",
          "coloraxis": {
           "colorbar": {
            "outlinewidth": 0,
            "ticks": ""
           }
          },
          "colorscale": {
           "diverging": [
            [
             0,
             "#8e0152"
            ],
            [
             0.1,
             "#c51b7d"
            ],
            [
             0.2,
             "#de77ae"
            ],
            [
             0.3,
             "#f1b6da"
            ],
            [
             0.4,
             "#fde0ef"
            ],
            [
             0.5,
             "#f7f7f7"
            ],
            [
             0.6,
             "#e6f5d0"
            ],
            [
             0.7,
             "#b8e186"
            ],
            [
             0.8,
             "#7fbc41"
            ],
            [
             0.9,
             "#4d9221"
            ],
            [
             1,
             "#276419"
            ]
           ],
           "sequential": [
            [
             0,
             "#0d0887"
            ],
            [
             0.1111111111111111,
             "#46039f"
            ],
            [
             0.2222222222222222,
             "#7201a8"
            ],
            [
             0.3333333333333333,
             "#9c179e"
            ],
            [
             0.4444444444444444,
             "#bd3786"
            ],
            [
             0.5555555555555556,
             "#d8576b"
            ],
            [
             0.6666666666666666,
             "#ed7953"
            ],
            [
             0.7777777777777778,
             "#fb9f3a"
            ],
            [
             0.8888888888888888,
             "#fdca26"
            ],
            [
             1,
             "#f0f921"
            ]
           ],
           "sequentialminus": [
            [
             0,
             "#0d0887"
            ],
            [
             0.1111111111111111,
             "#46039f"
            ],
            [
             0.2222222222222222,
             "#7201a8"
            ],
            [
             0.3333333333333333,
             "#9c179e"
            ],
            [
             0.4444444444444444,
             "#bd3786"
            ],
            [
             0.5555555555555556,
             "#d8576b"
            ],
            [
             0.6666666666666666,
             "#ed7953"
            ],
            [
             0.7777777777777778,
             "#fb9f3a"
            ],
            [
             0.8888888888888888,
             "#fdca26"
            ],
            [
             1,
             "#f0f921"
            ]
           ]
          },
          "colorway": [
           "#636efa",
           "#EF553B",
           "#00cc96",
           "#ab63fa",
           "#FFA15A",
           "#19d3f3",
           "#FF6692",
           "#B6E880",
           "#FF97FF",
           "#FECB52"
          ],
          "font": {
           "color": "#2a3f5f"
          },
          "geo": {
           "bgcolor": "white",
           "lakecolor": "white",
           "landcolor": "#E5ECF6",
           "showlakes": true,
           "showland": true,
           "subunitcolor": "white"
          },
          "hoverlabel": {
           "align": "left"
          },
          "hovermode": "closest",
          "mapbox": {
           "style": "light"
          },
          "paper_bgcolor": "white",
          "plot_bgcolor": "#E5ECF6",
          "polar": {
           "angularaxis": {
            "gridcolor": "white",
            "linecolor": "white",
            "ticks": ""
           },
           "bgcolor": "#E5ECF6",
           "radialaxis": {
            "gridcolor": "white",
            "linecolor": "white",
            "ticks": ""
           }
          },
          "scene": {
           "xaxis": {
            "backgroundcolor": "#E5ECF6",
            "gridcolor": "white",
            "gridwidth": 2,
            "linecolor": "white",
            "showbackground": true,
            "ticks": "",
            "zerolinecolor": "white"
           },
           "yaxis": {
            "backgroundcolor": "#E5ECF6",
            "gridcolor": "white",
            "gridwidth": 2,
            "linecolor": "white",
            "showbackground": true,
            "ticks": "",
            "zerolinecolor": "white"
           },
           "zaxis": {
            "backgroundcolor": "#E5ECF6",
            "gridcolor": "white",
            "gridwidth": 2,
            "linecolor": "white",
            "showbackground": true,
            "ticks": "",
            "zerolinecolor": "white"
           }
          },
          "shapedefaults": {
           "line": {
            "color": "#2a3f5f"
           }
          },
          "ternary": {
           "aaxis": {
            "gridcolor": "white",
            "linecolor": "white",
            "ticks": ""
           },
           "baxis": {
            "gridcolor": "white",
            "linecolor": "white",
            "ticks": ""
           },
           "bgcolor": "#E5ECF6",
           "caxis": {
            "gridcolor": "white",
            "linecolor": "white",
            "ticks": ""
           }
          },
          "title": {
           "x": 0.05
          },
          "xaxis": {
           "automargin": true,
           "gridcolor": "white",
           "linecolor": "white",
           "ticks": "",
           "title": {
            "standoff": 15
           },
           "zerolinecolor": "white",
           "zerolinewidth": 2
          },
          "yaxis": {
           "automargin": true,
           "gridcolor": "white",
           "linecolor": "white",
           "ticks": "",
           "title": {
            "standoff": 15
           },
           "zerolinecolor": "white",
           "zerolinewidth": 2
          }
         }
        },
        "title": {
         "text": "Hyperparameter Importances"
        },
        "xaxis": {
         "title": {
          "text": "Hyperparameter Importance"
         }
        },
        "yaxis": {
         "title": {
          "text": "Hyperparameter"
         }
        }
       }
      }
     },
     "metadata": {},
     "output_type": "display_data"
    }
   ],
   "source": [
    "# %%script skipped # Skipped due to resource optimization\n",
    "\n",
    "optuna.visualization.plot_param_importances(study)"
   ]
  },
  {
   "cell_type": "code",
   "execution_count": 306,
   "metadata": {},
   "outputs": [
    {
     "data": {
      "application/vnd.plotly.v1+json": {
       "config": {
        "plotlyServerURL": "https://plot.ly"
       },
       "data": [
        {
         "marker": {
          "color": [
           0,
           1,
           2,
           3,
           4,
           5,
           6,
           7,
           8,
           9,
           10,
           11,
           12,
           13,
           14,
           15,
           16,
           17,
           18,
           19,
           20,
           21,
           22,
           23,
           24,
           25,
           26,
           27,
           28,
           29,
           30,
           31,
           32,
           33,
           34,
           35,
           36,
           37,
           38,
           39,
           40,
           41,
           42,
           43,
           44,
           45,
           46,
           47,
           48,
           49
          ],
          "colorbar": {
           "title": {
            "text": "Trial"
           },
           "x": 1,
           "xpad": 40
          },
          "colorscale": [
           [
            0,
            "rgb(247,251,255)"
           ],
           [
            0.125,
            "rgb(222,235,247)"
           ],
           [
            0.25,
            "rgb(198,219,239)"
           ],
           [
            0.375,
            "rgb(158,202,225)"
           ],
           [
            0.5,
            "rgb(107,174,214)"
           ],
           [
            0.625,
            "rgb(66,146,198)"
           ],
           [
            0.75,
            "rgb(33,113,181)"
           ],
           [
            0.875,
            "rgb(8,81,156)"
           ],
           [
            1,
            "rgb(8,48,107)"
           ]
          ],
          "line": {
           "color": "Grey",
           "width": 0.5
          },
          "showscale": true
         },
         "mode": "markers",
         "name": "Feasible Trial",
         "showlegend": false,
         "type": "scatter",
         "x": [
          0.11210841050223358,
          8.758440739995555,
          0.006208445176054598,
          0.13240624218298938,
          0.026945463154254085,
          0.01841703321608823,
          0.06849892984208232,
          0.003156756044761254,
          3.67025004593895,
          0.02390428360339973,
          8.028689781964593,
          1.3706558744916002,
          1.0096663450623462,
          0.911647616037075,
          1.0758442481595067,
          1.8892983567737993,
          0.3271171609351011,
          2.9602935989956056,
          0.4080932211805024,
          3.442851512574721,
          3.851272925330507,
          3.0132462030126583,
          3.4706010038661983,
          0.40256726470747145,
          9.89425995101377,
          3.0736045843751176,
          0.6249445302090676,
          2.1905201857040275,
          5.322729133097238,
          0.21296061177688444,
          0.11794368313132744,
          0.0011078193871679718,
          0.0018338331324924432,
          0.009724679778123309,
          0.0013123314504742943,
          0.0012658569494880564,
          0.004231850532128969,
          0.06225710442467011,
          0.0010812637836438805,
          0.009648365299154527,
          0.002174318401091844,
          0.03759494915031819,
          0.11082365250268966,
          0.012157594915338821,
          0.003545769110233218,
          0.006136036623036304,
          0.001765364471492558,
          0.2000901924519903,
          0.054288217779455666,
          0.03499025829622715
         ],
         "xaxis": "x",
         "y": [
          0.7566517549207926,
          0.7585730475230152,
          0.7259484162059261,
          0.731126980585574,
          0.7387240707837479,
          0.7651067676281977,
          0.7595860843766322,
          0.7565708983714416,
          0.7683547712703679,
          0.7318119126593072,
          0.755805398101627,
          0.766766236166492,
          0.767438348483229,
          0.7672119334949834,
          0.7690548153720733,
          0.7657916425660534,
          0.7197502084971115,
          0.7710824558951246,
          0.7654802717302653,
          0.7698933036064484,
          0.7564237598155783,
          0.7704409730509981,
          0.7670785185163815,
          0.7652079560727086,
          0.7636672686117539,
          0.7671012889822029,
          0.7572607910559923,
          0.7633988294632732,
          0.7678747621181606,
          0.7642203180107502,
          0.7712426319478244,
          0.7712028523382282,
          0.768972596964701,
          0.763373539695104,
          0.7708213433935178,
          0.7672328968340938,
          0.7643089912683353,
          0.7494616014919597,
          0.7688024772534158,
          0.7673087782140839,
          0.7476699904746122,
          0.7692865351500193,
          0.7669228989084962,
          0.7676699174058463,
          0.7647579063593363,
          0.7547826338358714,
          0.7704051275126962,
          0.7695184886586991,
          0.7739282641195819,
          0.7737142382949854
         ],
         "yaxis": "y"
        },
        {
         "marker": {
          "color": [
           0,
           1,
           2,
           3,
           4,
           5,
           6,
           7,
           8,
           9,
           10,
           11,
           12,
           13,
           14,
           15,
           16,
           17,
           18,
           19,
           20,
           21,
           22,
           23,
           24,
           25,
           26,
           27,
           28,
           29,
           30,
           31,
           32,
           33,
           34,
           35,
           36,
           37,
           38,
           39,
           40,
           41,
           42,
           43,
           44,
           45,
           46,
           47,
           48,
           49
          ],
          "colorbar": {
           "title": {
            "text": "Trial"
           },
           "x": 1,
           "xpad": 40
          },
          "colorscale": [
           [
            0,
            "rgb(247,251,255)"
           ],
           [
            0.125,
            "rgb(222,235,247)"
           ],
           [
            0.25,
            "rgb(198,219,239)"
           ],
           [
            0.375,
            "rgb(158,202,225)"
           ],
           [
            0.5,
            "rgb(107,174,214)"
           ],
           [
            0.625,
            "rgb(66,146,198)"
           ],
           [
            0.75,
            "rgb(33,113,181)"
           ],
           [
            0.875,
            "rgb(8,81,156)"
           ],
           [
            1,
            "rgb(8,48,107)"
           ]
          ],
          "line": {
           "color": "Grey",
           "width": 0.5
          },
          "showscale": false
         },
         "mode": "markers",
         "name": "Feasible Trial",
         "showlegend": false,
         "type": "scatter",
         "x": [
          0.9179655592440141,
          0.6384573748349162,
          0.73651689731581,
          0.6901498642195488,
          0.5923643689137248,
          0.8391733788053908,
          0.8718399117974234,
          0.9615778524861439,
          0.6330355718922563,
          0.9622687558168156,
          0.5154374297263913,
          0.8080876012287957,
          0.7747120231256852,
          0.426033912000997,
          0.756080429748682,
          0.5690623797284647,
          0.6836308338464377,
          0.4545667971704057,
          0.41195667559675553,
          0.48228278533092167,
          0.4881418756972387,
          0.48822486148320365,
          0.48784876517165265,
          0.5371028847418653,
          0.43896215265026606,
          0.47661293825448303,
          0.5585042674517441,
          0.4499173320586271,
          0.6092125404297174,
          0.4059317911145489,
          0.5148592303796732,
          0.5200683256989034,
          0.526523792732642,
          0.46032745983959855,
          0.5105133690137246,
          0.5870053710283382,
          0.6479846749245937,
          0.5288203658478342,
          0.5569215661524105,
          0.6608884898860419,
          0.5116370516033917,
          0.5085314079635912,
          0.46310465289496816,
          0.6096005805718863,
          0.7202270287496314,
          0.43513493634139205,
          0.49709226946346735,
          0.5546180837196577,
          0.5872094247867703,
          0.5847361626052326
         ],
         "xaxis": "x2",
         "y": [
          0.7566517549207926,
          0.7585730475230152,
          0.7259484162059261,
          0.731126980585574,
          0.7387240707837479,
          0.7651067676281977,
          0.7595860843766322,
          0.7565708983714416,
          0.7683547712703679,
          0.7318119126593072,
          0.755805398101627,
          0.766766236166492,
          0.767438348483229,
          0.7672119334949834,
          0.7690548153720733,
          0.7657916425660534,
          0.7197502084971115,
          0.7710824558951246,
          0.7654802717302653,
          0.7698933036064484,
          0.7564237598155783,
          0.7704409730509981,
          0.7670785185163815,
          0.7652079560727086,
          0.7636672686117539,
          0.7671012889822029,
          0.7572607910559923,
          0.7633988294632732,
          0.7678747621181606,
          0.7642203180107502,
          0.7712426319478244,
          0.7712028523382282,
          0.768972596964701,
          0.763373539695104,
          0.7708213433935178,
          0.7672328968340938,
          0.7643089912683353,
          0.7494616014919597,
          0.7688024772534158,
          0.7673087782140839,
          0.7476699904746122,
          0.7692865351500193,
          0.7669228989084962,
          0.7676699174058463,
          0.7647579063593363,
          0.7547826338358714,
          0.7704051275126962,
          0.7695184886586991,
          0.7739282641195819,
          0.7737142382949854
         ],
         "yaxis": "y2"
        },
        {
         "marker": {
          "color": [
           0,
           1,
           2,
           3,
           4,
           5,
           6,
           7,
           8,
           9,
           10,
           11,
           12,
           13,
           14,
           15,
           16,
           17,
           18,
           19,
           20,
           21,
           22,
           23,
           24,
           25,
           26,
           27,
           28,
           29,
           30,
           31,
           32,
           33,
           34,
           35,
           36,
           37,
           38,
           39,
           40,
           41,
           42,
           43,
           44,
           45,
           46,
           47,
           48,
           49
          ],
          "colorbar": {
           "title": {
            "text": "Trial"
           },
           "x": 1,
           "xpad": 40
          },
          "colorscale": [
           [
            0,
            "rgb(247,251,255)"
           ],
           [
            0.125,
            "rgb(222,235,247)"
           ],
           [
            0.25,
            "rgb(198,219,239)"
           ],
           [
            0.375,
            "rgb(158,202,225)"
           ],
           [
            0.5,
            "rgb(107,174,214)"
           ],
           [
            0.625,
            "rgb(66,146,198)"
           ],
           [
            0.75,
            "rgb(33,113,181)"
           ],
           [
            0.875,
            "rgb(8,81,156)"
           ],
           [
            1,
            "rgb(8,48,107)"
           ]
          ],
          "line": {
           "color": "Grey",
           "width": 0.5
          },
          "showscale": false
         },
         "mode": "markers",
         "name": "Feasible Trial",
         "showlegend": false,
         "type": "scatter",
         "x": [
          0.4088557511994385,
          0.21645520461403966,
          0.11896040461888291,
          0.7909923437572068,
          0.5507908858723696,
          0.06080579810015707,
          0.9488512624073051,
          0.14936443706086155,
          0.5791376722728071,
          0.5788572113190996,
          0.7352807252656528,
          0.3807352403199281,
          0.3631637987737911,
          0.30687226508334264,
          0.6502783744714566,
          0.7044217194647545,
          0.899463259930993,
          0.5670075994550285,
          0.8272723716291966,
          0.6754661666244013,
          0.479780325130711,
          0.679261245245533,
          0.663524729742904,
          0.4662570576018222,
          0.8257930768155255,
          0.6276861703857227,
          0.5319638517977716,
          0.7370935447982909,
          0.8885205897345946,
          0.43899052935543525,
          0.9926317598896218,
          0.9608516496856225,
          0.9912422952645485,
          0.9958097846503652,
          0.8839112119703367,
          0.9023698105251947,
          0.8088664052860506,
          0.9346761317435633,
          0.8723272085209891,
          0.7620011559057059,
          0.9489370359639431,
          0.8473445639581411,
          0.9455570466102475,
          0.589065915663323,
          0.7725595992765282,
          0.9981231654535884,
          0.525965867306664,
          0.02358300766827659,
          0.27709922269615656,
          0.185262094370164
         ],
         "xaxis": "x3",
         "y": [
          0.7566517549207926,
          0.7585730475230152,
          0.7259484162059261,
          0.731126980585574,
          0.7387240707837479,
          0.7651067676281977,
          0.7595860843766322,
          0.7565708983714416,
          0.7683547712703679,
          0.7318119126593072,
          0.755805398101627,
          0.766766236166492,
          0.767438348483229,
          0.7672119334949834,
          0.7690548153720733,
          0.7657916425660534,
          0.7197502084971115,
          0.7710824558951246,
          0.7654802717302653,
          0.7698933036064484,
          0.7564237598155783,
          0.7704409730509981,
          0.7670785185163815,
          0.7652079560727086,
          0.7636672686117539,
          0.7671012889822029,
          0.7572607910559923,
          0.7633988294632732,
          0.7678747621181606,
          0.7642203180107502,
          0.7712426319478244,
          0.7712028523382282,
          0.768972596964701,
          0.763373539695104,
          0.7708213433935178,
          0.7672328968340938,
          0.7643089912683353,
          0.7494616014919597,
          0.7688024772534158,
          0.7673087782140839,
          0.7476699904746122,
          0.7692865351500193,
          0.7669228989084962,
          0.7676699174058463,
          0.7647579063593363,
          0.7547826338358714,
          0.7704051275126962,
          0.7695184886586991,
          0.7739282641195819,
          0.7737142382949854
         ],
         "yaxis": "y3"
        },
        {
         "marker": {
          "color": [
           0,
           1,
           2,
           3,
           4,
           5,
           6,
           7,
           8,
           9,
           10,
           11,
           12,
           13,
           14,
           15,
           16,
           17,
           18,
           19,
           20,
           21,
           22,
           23,
           24,
           25,
           26,
           27,
           28,
           29,
           30,
           31,
           32,
           33,
           34,
           35,
           36,
           37,
           38,
           39,
           40,
           41,
           42,
           43,
           44,
           45,
           46,
           47,
           48,
           49
          ],
          "colorbar": {
           "title": {
            "text": "Trial"
           },
           "x": 1,
           "xpad": 40
          },
          "colorscale": [
           [
            0,
            "rgb(247,251,255)"
           ],
           [
            0.125,
            "rgb(222,235,247)"
           ],
           [
            0.25,
            "rgb(198,219,239)"
           ],
           [
            0.375,
            "rgb(158,202,225)"
           ],
           [
            0.5,
            "rgb(107,174,214)"
           ],
           [
            0.625,
            "rgb(66,146,198)"
           ],
           [
            0.75,
            "rgb(33,113,181)"
           ],
           [
            0.875,
            "rgb(8,81,156)"
           ],
           [
            1,
            "rgb(8,48,107)"
           ]
          ],
          "line": {
           "color": "Grey",
           "width": 0.5
          },
          "showscale": false
         },
         "mode": "markers",
         "name": "Feasible Trial",
         "showlegend": false,
         "type": "scatter",
         "x": [
          0.026463837867752076,
          0.04551902415650863,
          0.014291075836750216,
          5.452278904488716,
          0.05451952732698093,
          0.08377951300112718,
          0.048008283945325206,
          0.012552190594084337,
          0.0646403919921994,
          0.19318565486721587,
          0.6607593401522762,
          0.0016398494187025983,
          0.0012913779973418636,
          0.001178095799945931,
          0.0038728967410118225,
          0.005558343696556363,
          0.46000607195791704,
          0.005081654782856356,
          0.004264330109209127,
          0.0039844436929543795,
          0.012197717795804332,
          0.0040637184899734256,
          0.0033155887560730275,
          0.007866190125476319,
          0.002242042617523553,
          0.022458801162582222,
          4.265971214643128,
          0.00711159325715211,
          0.1952414449928509,
          0.002355880533021053,
          0.021929899018483762,
          0.02392344153262259,
          0.024225498544457467,
          0.028333848341644825,
          0.012751660116870898,
          0.01683735514212158,
          0.029871009253839825,
          0.009112625014252654,
          0.04155770730459844,
          0.1395653353882814,
          0.09215607139335623,
          0.014511815363460842,
          0.008114174153048458,
          0.04024039422416336,
          0.011391004335128711,
          0.018148664739809132,
          0.002521036015103177,
          0.0062579063463666,
          0.005369116300205121,
          0.07122103500274296
         ],
         "xaxis": "x4",
         "y": [
          0.7566517549207926,
          0.7585730475230152,
          0.7259484162059261,
          0.731126980585574,
          0.7387240707837479,
          0.7651067676281977,
          0.7595860843766322,
          0.7565708983714416,
          0.7683547712703679,
          0.7318119126593072,
          0.755805398101627,
          0.766766236166492,
          0.767438348483229,
          0.7672119334949834,
          0.7690548153720733,
          0.7657916425660534,
          0.7197502084971115,
          0.7710824558951246,
          0.7654802717302653,
          0.7698933036064484,
          0.7564237598155783,
          0.7704409730509981,
          0.7670785185163815,
          0.7652079560727086,
          0.7636672686117539,
          0.7671012889822029,
          0.7572607910559923,
          0.7633988294632732,
          0.7678747621181606,
          0.7642203180107502,
          0.7712426319478244,
          0.7712028523382282,
          0.768972596964701,
          0.763373539695104,
          0.7708213433935178,
          0.7672328968340938,
          0.7643089912683353,
          0.7494616014919597,
          0.7688024772534158,
          0.7673087782140839,
          0.7476699904746122,
          0.7692865351500193,
          0.7669228989084962,
          0.7676699174058463,
          0.7647579063593363,
          0.7547826338358714,
          0.7704051275126962,
          0.7695184886586991,
          0.7739282641195819,
          0.7737142382949854
         ],
         "yaxis": "y4"
        },
        {
         "marker": {
          "color": [
           0,
           1,
           2,
           3,
           4,
           5,
           6,
           7,
           8,
           9,
           10,
           11,
           12,
           13,
           14,
           15,
           16,
           17,
           18,
           19,
           20,
           21,
           22,
           23,
           24,
           25,
           26,
           27,
           28,
           29,
           30,
           31,
           32,
           33,
           34,
           35,
           36,
           37,
           38,
           39,
           40,
           41,
           42,
           43,
           44,
           45,
           46,
           47,
           48,
           49
          ],
          "colorbar": {
           "title": {
            "text": "Trial"
           },
           "x": 1,
           "xpad": 40
          },
          "colorscale": [
           [
            0,
            "rgb(247,251,255)"
           ],
           [
            0.125,
            "rgb(222,235,247)"
           ],
           [
            0.25,
            "rgb(198,219,239)"
           ],
           [
            0.375,
            "rgb(158,202,225)"
           ],
           [
            0.5,
            "rgb(107,174,214)"
           ],
           [
            0.625,
            "rgb(66,146,198)"
           ],
           [
            0.75,
            "rgb(33,113,181)"
           ],
           [
            0.875,
            "rgb(8,81,156)"
           ],
           [
            1,
            "rgb(8,48,107)"
           ]
          ],
          "line": {
           "color": "Grey",
           "width": 0.5
          },
          "showscale": false
         },
         "mode": "markers",
         "name": "Feasible Trial",
         "showlegend": false,
         "type": "scatter",
         "x": [
          0.009239569689724048,
          0.019787657214219382,
          0.005393189642414825,
          0.2805611797707196,
          0.007579447219296004,
          0.050411502771380866,
          0.1100652470573552,
          0.00935960984886585,
          0.12538865121972906,
          0.308840256061682,
          0.0015232597921040066,
          0.06394580861387764,
          0.07933449946818884,
          0.13374407188083026,
          0.0652866683356757,
          0.019624042058569387,
          0.4669812653853666,
          0.041038543639993944,
          0.028173100066484186,
          0.04558039456266345,
          0.0028463601635769407,
          0.043883835981889795,
          0.03269806990486433,
          0.040868178984330754,
          0.014195763589320025,
          0.03552717652028852,
          0.2047371460042957,
          0.015258008403205972,
          0.09569087116875942,
          0.010672755645780177,
          0.051155808279452264,
          0.04946918943751964,
          0.024592576884012785,
          0.17063983148799078,
          0.06816346002905947,
          0.07238187123191239,
          0.021812189704766376,
          0.00440453974422546,
          0.05295809228776055,
          0.09310052669341837,
          0.17237956884624836,
          0.051802827676176055,
          0.03689342863786728,
          0.01809939515774717,
          0.027108561377621562,
          0.1196837515500418,
          0.0564247859666804,
          0.08328774766976128,
          0.04194722718576069,
          0.0674402184924171
         ],
         "xaxis": "x5",
         "y": [
          0.7566517549207926,
          0.7585730475230152,
          0.7259484162059261,
          0.731126980585574,
          0.7387240707837479,
          0.7651067676281977,
          0.7595860843766322,
          0.7565708983714416,
          0.7683547712703679,
          0.7318119126593072,
          0.755805398101627,
          0.766766236166492,
          0.767438348483229,
          0.7672119334949834,
          0.7690548153720733,
          0.7657916425660534,
          0.7197502084971115,
          0.7710824558951246,
          0.7654802717302653,
          0.7698933036064484,
          0.7564237598155783,
          0.7704409730509981,
          0.7670785185163815,
          0.7652079560727086,
          0.7636672686117539,
          0.7671012889822029,
          0.7572607910559923,
          0.7633988294632732,
          0.7678747621181606,
          0.7642203180107502,
          0.7712426319478244,
          0.7712028523382282,
          0.768972596964701,
          0.763373539695104,
          0.7708213433935178,
          0.7672328968340938,
          0.7643089912683353,
          0.7494616014919597,
          0.7688024772534158,
          0.7673087782140839,
          0.7476699904746122,
          0.7692865351500193,
          0.7669228989084962,
          0.7676699174058463,
          0.7647579063593363,
          0.7547826338358714,
          0.7704051275126962,
          0.7695184886586991,
          0.7739282641195819,
          0.7737142382949854
         ],
         "yaxis": "y5"
        },
        {
         "marker": {
          "color": [
           0,
           1,
           2,
           3,
           4,
           5,
           6,
           7,
           8,
           9,
           10,
           11,
           12,
           13,
           14,
           15,
           16,
           17,
           18,
           19,
           20,
           21,
           22,
           23,
           24,
           25,
           26,
           27,
           28,
           29,
           30,
           31,
           32,
           33,
           34,
           35,
           36,
           37,
           38,
           39,
           40,
           41,
           42,
           43,
           44,
           45,
           46,
           47,
           48,
           49
          ],
          "colorbar": {
           "title": {
            "text": "Trial"
           },
           "x": 1,
           "xpad": 40
          },
          "colorscale": [
           [
            0,
            "rgb(247,251,255)"
           ],
           [
            0.125,
            "rgb(222,235,247)"
           ],
           [
            0.25,
            "rgb(198,219,239)"
           ],
           [
            0.375,
            "rgb(158,202,225)"
           ],
           [
            0.5,
            "rgb(107,174,214)"
           ],
           [
            0.625,
            "rgb(66,146,198)"
           ],
           [
            0.75,
            "rgb(33,113,181)"
           ],
           [
            0.875,
            "rgb(8,81,156)"
           ],
           [
            1,
            "rgb(8,48,107)"
           ]
          ],
          "line": {
           "color": "Grey",
           "width": 0.5
          },
          "showscale": false
         },
         "mode": "markers",
         "name": "Feasible Trial",
         "showlegend": false,
         "type": "scatter",
         "x": [
          8,
          8,
          4,
          16,
          4,
          9,
          17,
          9,
          3,
          12,
          20,
          3,
          3,
          6,
          13,
          13,
          14,
          11,
          11,
          15,
          17,
          14,
          15,
          19,
          11,
          15,
          10,
          18,
          13,
          15,
          7,
          8,
          7,
          6,
          7,
          8,
          5,
          8,
          9,
          7,
          10,
          7,
          5,
          10,
          12,
          9,
          6,
          5,
          8,
          8
         ],
         "xaxis": "x6",
         "y": [
          0.7566517549207926,
          0.7585730475230152,
          0.7259484162059261,
          0.731126980585574,
          0.7387240707837479,
          0.7651067676281977,
          0.7595860843766322,
          0.7565708983714416,
          0.7683547712703679,
          0.7318119126593072,
          0.755805398101627,
          0.766766236166492,
          0.767438348483229,
          0.7672119334949834,
          0.7690548153720733,
          0.7657916425660534,
          0.7197502084971115,
          0.7710824558951246,
          0.7654802717302653,
          0.7698933036064484,
          0.7564237598155783,
          0.7704409730509981,
          0.7670785185163815,
          0.7652079560727086,
          0.7636672686117539,
          0.7671012889822029,
          0.7572607910559923,
          0.7633988294632732,
          0.7678747621181606,
          0.7642203180107502,
          0.7712426319478244,
          0.7712028523382282,
          0.768972596964701,
          0.763373539695104,
          0.7708213433935178,
          0.7672328968340938,
          0.7643089912683353,
          0.7494616014919597,
          0.7688024772534158,
          0.7673087782140839,
          0.7476699904746122,
          0.7692865351500193,
          0.7669228989084962,
          0.7676699174058463,
          0.7647579063593363,
          0.7547826338358714,
          0.7704051275126962,
          0.7695184886586991,
          0.7739282641195819,
          0.7737142382949854
         ],
         "yaxis": "y6"
        },
        {
         "marker": {
          "color": [
           0,
           1,
           2,
           3,
           4,
           5,
           6,
           7,
           8,
           9,
           10,
           11,
           12,
           13,
           14,
           15,
           16,
           17,
           18,
           19,
           20,
           21,
           22,
           23,
           24,
           25,
           26,
           27,
           28,
           29,
           30,
           31,
           32,
           33,
           34,
           35,
           36,
           37,
           38,
           39,
           40,
           41,
           42,
           43,
           44,
           45,
           46,
           47,
           48,
           49
          ],
          "colorbar": {
           "title": {
            "text": "Trial"
           },
           "x": 1,
           "xpad": 40
          },
          "colorscale": [
           [
            0,
            "rgb(247,251,255)"
           ],
           [
            0.125,
            "rgb(222,235,247)"
           ],
           [
            0.25,
            "rgb(198,219,239)"
           ],
           [
            0.375,
            "rgb(158,202,225)"
           ],
           [
            0.5,
            "rgb(107,174,214)"
           ],
           [
            0.625,
            "rgb(66,146,198)"
           ],
           [
            0.75,
            "rgb(33,113,181)"
           ],
           [
            0.875,
            "rgb(8,81,156)"
           ],
           [
            1,
            "rgb(8,48,107)"
           ]
          ],
          "line": {
           "color": "Grey",
           "width": 0.5
          },
          "showscale": false
         },
         "mode": "markers",
         "name": "Feasible Trial",
         "showlegend": false,
         "type": "scatter",
         "x": [
          4,
          3,
          8,
          7,
          2,
          7,
          6,
          2,
          9,
          3,
          10,
          9,
          10,
          10,
          9,
          8,
          5,
          8,
          6,
          8,
          7,
          8,
          8,
          5,
          8,
          7,
          9,
          6,
          8,
          4,
          7,
          7,
          7,
          6,
          7,
          5,
          7,
          1,
          7,
          6,
          4,
          8,
          9,
          7,
          8,
          7,
          9,
          6,
          8,
          9
         ],
         "xaxis": "x7",
         "y": [
          0.7566517549207926,
          0.7585730475230152,
          0.7259484162059261,
          0.731126980585574,
          0.7387240707837479,
          0.7651067676281977,
          0.7595860843766322,
          0.7565708983714416,
          0.7683547712703679,
          0.7318119126593072,
          0.755805398101627,
          0.766766236166492,
          0.767438348483229,
          0.7672119334949834,
          0.7690548153720733,
          0.7657916425660534,
          0.7197502084971115,
          0.7710824558951246,
          0.7654802717302653,
          0.7698933036064484,
          0.7564237598155783,
          0.7704409730509981,
          0.7670785185163815,
          0.7652079560727086,
          0.7636672686117539,
          0.7671012889822029,
          0.7572607910559923,
          0.7633988294632732,
          0.7678747621181606,
          0.7642203180107502,
          0.7712426319478244,
          0.7712028523382282,
          0.768972596964701,
          0.763373539695104,
          0.7708213433935178,
          0.7672328968340938,
          0.7643089912683353,
          0.7494616014919597,
          0.7688024772534158,
          0.7673087782140839,
          0.7476699904746122,
          0.7692865351500193,
          0.7669228989084962,
          0.7676699174058463,
          0.7647579063593363,
          0.7547826338358714,
          0.7704051275126962,
          0.7695184886586991,
          0.7739282641195819,
          0.7737142382949854
         ],
         "yaxis": "y7"
        },
        {
         "marker": {
          "color": [
           0,
           1,
           2,
           3,
           4,
           5,
           6,
           7,
           8,
           9,
           10,
           11,
           12,
           13,
           14,
           15,
           16,
           17,
           18,
           19,
           20,
           21,
           22,
           23,
           24,
           25,
           26,
           27,
           28,
           29,
           30,
           31,
           32,
           33,
           34,
           35,
           36,
           37,
           38,
           39,
           40,
           41,
           42,
           43,
           44,
           45,
           46,
           47,
           48,
           49
          ],
          "colorbar": {
           "title": {
            "text": "Trial"
           },
           "x": 1,
           "xpad": 40
          },
          "colorscale": [
           [
            0,
            "rgb(247,251,255)"
           ],
           [
            0.125,
            "rgb(222,235,247)"
           ],
           [
            0.25,
            "rgb(198,219,239)"
           ],
           [
            0.375,
            "rgb(158,202,225)"
           ],
           [
            0.5,
            "rgb(107,174,214)"
           ],
           [
            0.625,
            "rgb(66,146,198)"
           ],
           [
            0.75,
            "rgb(33,113,181)"
           ],
           [
            0.875,
            "rgb(8,81,156)"
           ],
           [
            1,
            "rgb(8,48,107)"
           ]
          ],
          "line": {
           "color": "Grey",
           "width": 0.5
          },
          "showscale": false
         },
         "mode": "markers",
         "name": "Feasible Trial",
         "showlegend": false,
         "type": "scatter",
         "x": [
          142,
          66,
          69,
          50,
          143,
          51,
          90,
          118,
          98,
          89,
          109,
          120,
          122,
          129,
          91,
          98,
          78,
          104,
          108,
          80,
          79,
          87,
          77,
          64,
          107,
          82,
          101,
          60,
          86,
          94,
          134,
          149,
          148,
          137,
          133,
          133,
          150,
          141,
          131,
          127,
          143,
          136,
          113,
          144,
          71,
          124,
          115,
          103,
          137,
          138
         ],
         "xaxis": "x8",
         "y": [
          0.7566517549207926,
          0.7585730475230152,
          0.7259484162059261,
          0.731126980585574,
          0.7387240707837479,
          0.7651067676281977,
          0.7595860843766322,
          0.7565708983714416,
          0.7683547712703679,
          0.7318119126593072,
          0.755805398101627,
          0.766766236166492,
          0.767438348483229,
          0.7672119334949834,
          0.7690548153720733,
          0.7657916425660534,
          0.7197502084971115,
          0.7710824558951246,
          0.7654802717302653,
          0.7698933036064484,
          0.7564237598155783,
          0.7704409730509981,
          0.7670785185163815,
          0.7652079560727086,
          0.7636672686117539,
          0.7671012889822029,
          0.7572607910559923,
          0.7633988294632732,
          0.7678747621181606,
          0.7642203180107502,
          0.7712426319478244,
          0.7712028523382282,
          0.768972596964701,
          0.763373539695104,
          0.7708213433935178,
          0.7672328968340938,
          0.7643089912683353,
          0.7494616014919597,
          0.7688024772534158,
          0.7673087782140839,
          0.7476699904746122,
          0.7692865351500193,
          0.7669228989084962,
          0.7676699174058463,
          0.7647579063593363,
          0.7547826338358714,
          0.7704051275126962,
          0.7695184886586991,
          0.7739282641195819,
          0.7737142382949854
         ],
         "yaxis": "y8"
        },
        {
         "marker": {
          "color": [
           0,
           1,
           2,
           3,
           4,
           5,
           6,
           7,
           8,
           9,
           10,
           11,
           12,
           13,
           14,
           15,
           16,
           17,
           18,
           19,
           20,
           21,
           22,
           23,
           24,
           25,
           26,
           27,
           28,
           29,
           30,
           31,
           32,
           33,
           34,
           35,
           36,
           37,
           38,
           39,
           40,
           41,
           42,
           43,
           44,
           45,
           46,
           47,
           48,
           49
          ],
          "colorbar": {
           "title": {
            "text": "Trial"
           },
           "x": 1,
           "xpad": 40
          },
          "colorscale": [
           [
            0,
            "rgb(247,251,255)"
           ],
           [
            0.125,
            "rgb(222,235,247)"
           ],
           [
            0.25,
            "rgb(198,219,239)"
           ],
           [
            0.375,
            "rgb(158,202,225)"
           ],
           [
            0.5,
            "rgb(107,174,214)"
           ],
           [
            0.625,
            "rgb(66,146,198)"
           ],
           [
            0.75,
            "rgb(33,113,181)"
           ],
           [
            0.875,
            "rgb(8,81,156)"
           ],
           [
            1,
            "rgb(8,48,107)"
           ]
          ],
          "line": {
           "color": "Grey",
           "width": 0.5
          },
          "showscale": false
         },
         "mode": "markers",
         "name": "Feasible Trial",
         "showlegend": false,
         "type": "scatter",
         "x": [
          9.662575660272335,
          6.507316365588113,
          4.0551609444270795,
          8.985884981075099,
          5.703487054953378,
          1.9906000392957104,
          9.05068219148964,
          5.161682927252761,
          2.2577992463875654,
          8.851206560518914,
          1.6857299534171224,
          1.531425489265862,
          2.9261230813037438,
          3.397330169205468,
          3.150395543765218,
          4.210242752904625,
          1.0300190658861457,
          2.6734922848784204,
          7.587951844896214,
          2.9844203055504352,
          4.775005409816492,
          3.061394627712269,
          2.5836552245032047,
          4.191115906608762,
          3.6139463774761893,
          6.446689695944049,
          2.594898400373765,
          1.0723005788841613,
          4.769997588333877,
          3.6793319738445254,
          5.929801829774561,
          6.639503720885678,
          7.23840314967093,
          6.309518433469074,
          7.3389606745050795,
          7.48106477731496,
          5.932925589176184,
          7.05534437430698,
          8.105485244930408,
          6.881744784894553,
          5.698643623677513,
          8.101548020159354,
          5.0081842604812685,
          6.18318230234953,
          5.281296118442826,
          8.297997258453472,
          6.530819898453519,
          6.661533359605811,
          2.091685625742769,
          1.9501535659397953
         ],
         "xaxis": "x9",
         "y": [
          0.7566517549207926,
          0.7585730475230152,
          0.7259484162059261,
          0.731126980585574,
          0.7387240707837479,
          0.7651067676281977,
          0.7595860843766322,
          0.7565708983714416,
          0.7683547712703679,
          0.7318119126593072,
          0.755805398101627,
          0.766766236166492,
          0.767438348483229,
          0.7672119334949834,
          0.7690548153720733,
          0.7657916425660534,
          0.7197502084971115,
          0.7710824558951246,
          0.7654802717302653,
          0.7698933036064484,
          0.7564237598155783,
          0.7704409730509981,
          0.7670785185163815,
          0.7652079560727086,
          0.7636672686117539,
          0.7671012889822029,
          0.7572607910559923,
          0.7633988294632732,
          0.7678747621181606,
          0.7642203180107502,
          0.7712426319478244,
          0.7712028523382282,
          0.768972596964701,
          0.763373539695104,
          0.7708213433935178,
          0.7672328968340938,
          0.7643089912683353,
          0.7494616014919597,
          0.7688024772534158,
          0.7673087782140839,
          0.7476699904746122,
          0.7692865351500193,
          0.7669228989084962,
          0.7676699174058463,
          0.7647579063593363,
          0.7547826338358714,
          0.7704051275126962,
          0.7695184886586991,
          0.7739282641195819,
          0.7737142382949854
         ],
         "yaxis": "y9"
        },
        {
         "marker": {
          "color": [
           0,
           1,
           2,
           3,
           4,
           5,
           6,
           7,
           8,
           9,
           10,
           11,
           12,
           13,
           14,
           15,
           16,
           17,
           18,
           19,
           20,
           21,
           22,
           23,
           24,
           25,
           26,
           27,
           28,
           29,
           30,
           31,
           32,
           33,
           34,
           35,
           36,
           37,
           38,
           39,
           40,
           41,
           42,
           43,
           44,
           45,
           46,
           47,
           48,
           49
          ],
          "colorbar": {
           "title": {
            "text": "Trial"
           },
           "x": 1,
           "xpad": 40
          },
          "colorscale": [
           [
            0,
            "rgb(247,251,255)"
           ],
           [
            0.125,
            "rgb(222,235,247)"
           ],
           [
            0.25,
            "rgb(198,219,239)"
           ],
           [
            0.375,
            "rgb(158,202,225)"
           ],
           [
            0.5,
            "rgb(107,174,214)"
           ],
           [
            0.625,
            "rgb(66,146,198)"
           ],
           [
            0.75,
            "rgb(33,113,181)"
           ],
           [
            0.875,
            "rgb(8,81,156)"
           ],
           [
            1,
            "rgb(8,48,107)"
           ]
          ],
          "line": {
           "color": "Grey",
           "width": 0.5
          },
          "showscale": false
         },
         "mode": "markers",
         "name": "Feasible Trial",
         "showlegend": false,
         "type": "scatter",
         "x": [
          0.8434574057129267,
          0.6986931293450389,
          0.9574913798417282,
          0.5325759820516314,
          0.7864481275981936,
          0.5718484022228454,
          0.7634767617981885,
          0.9224275297277429,
          0.5796257100974378,
          0.7926862835843962,
          0.6460812689418758,
          0.5007942336982693,
          0.5018936752573434,
          0.6210535991621813,
          0.5868868003018393,
          0.6759951559031376,
          0.5844943339592443,
          0.7208662051736604,
          0.7156645891211587,
          0.8616689143458902,
          0.893037656462328,
          0.8709699309685903,
          0.8468851687077363,
          0.9962615041781897,
          0.842406539012523,
          0.9013060812309535,
          0.737664954965702,
          0.807128523279806,
          0.8823333783342637,
          0.8435784715070047,
          0.9448178985535863,
          0.9441674526408406,
          0.9527389130639117,
          0.9584560164179079,
          0.9361352984309592,
          0.9878802321629184,
          0.9430467717302929,
          0.928615103611867,
          0.9681628823672199,
          0.917502517148699,
          0.7583572919020742,
          0.8150774461981842,
          0.8770171659499496,
          0.9763047152860573,
          0.9263969986460204,
          0.6884257401283833,
          0.723900048261574,
          0.7754038809524207,
          0.9082784000539145,
          0.9087408783096411
         ],
         "xaxis": "x10",
         "y": [
          0.7566517549207926,
          0.7585730475230152,
          0.7259484162059261,
          0.731126980585574,
          0.7387240707837479,
          0.7651067676281977,
          0.7595860843766322,
          0.7565708983714416,
          0.7683547712703679,
          0.7318119126593072,
          0.755805398101627,
          0.766766236166492,
          0.767438348483229,
          0.7672119334949834,
          0.7690548153720733,
          0.7657916425660534,
          0.7197502084971115,
          0.7710824558951246,
          0.7654802717302653,
          0.7698933036064484,
          0.7564237598155783,
          0.7704409730509981,
          0.7670785185163815,
          0.7652079560727086,
          0.7636672686117539,
          0.7671012889822029,
          0.7572607910559923,
          0.7633988294632732,
          0.7678747621181606,
          0.7642203180107502,
          0.7712426319478244,
          0.7712028523382282,
          0.768972596964701,
          0.763373539695104,
          0.7708213433935178,
          0.7672328968340938,
          0.7643089912683353,
          0.7494616014919597,
          0.7688024772534158,
          0.7673087782140839,
          0.7476699904746122,
          0.7692865351500193,
          0.7669228989084962,
          0.7676699174058463,
          0.7647579063593363,
          0.7547826338358714,
          0.7704051275126962,
          0.7695184886586991,
          0.7739282641195819,
          0.7737142382949854
         ],
         "yaxis": "y10"
        }
       ],
       "layout": {
        "template": {
         "data": {
          "bar": [
           {
            "error_x": {
             "color": "#2a3f5f"
            },
            "error_y": {
             "color": "#2a3f5f"
            },
            "marker": {
             "line": {
              "color": "#E5ECF6",
              "width": 0.5
             },
             "pattern": {
              "fillmode": "overlay",
              "size": 10,
              "solidity": 0.2
             }
            },
            "type": "bar"
           }
          ],
          "barpolar": [
           {
            "marker": {
             "line": {
              "color": "#E5ECF6",
              "width": 0.5
             },
             "pattern": {
              "fillmode": "overlay",
              "size": 10,
              "solidity": 0.2
             }
            },
            "type": "barpolar"
           }
          ],
          "carpet": [
           {
            "aaxis": {
             "endlinecolor": "#2a3f5f",
             "gridcolor": "white",
             "linecolor": "white",
             "minorgridcolor": "white",
             "startlinecolor": "#2a3f5f"
            },
            "baxis": {
             "endlinecolor": "#2a3f5f",
             "gridcolor": "white",
             "linecolor": "white",
             "minorgridcolor": "white",
             "startlinecolor": "#2a3f5f"
            },
            "type": "carpet"
           }
          ],
          "choropleth": [
           {
            "colorbar": {
             "outlinewidth": 0,
             "ticks": ""
            },
            "type": "choropleth"
           }
          ],
          "contour": [
           {
            "colorbar": {
             "outlinewidth": 0,
             "ticks": ""
            },
            "colorscale": [
             [
              0,
              "#0d0887"
             ],
             [
              0.1111111111111111,
              "#46039f"
             ],
             [
              0.2222222222222222,
              "#7201a8"
             ],
             [
              0.3333333333333333,
              "#9c179e"
             ],
             [
              0.4444444444444444,
              "#bd3786"
             ],
             [
              0.5555555555555556,
              "#d8576b"
             ],
             [
              0.6666666666666666,
              "#ed7953"
             ],
             [
              0.7777777777777778,
              "#fb9f3a"
             ],
             [
              0.8888888888888888,
              "#fdca26"
             ],
             [
              1,
              "#f0f921"
             ]
            ],
            "type": "contour"
           }
          ],
          "contourcarpet": [
           {
            "colorbar": {
             "outlinewidth": 0,
             "ticks": ""
            },
            "type": "contourcarpet"
           }
          ],
          "heatmap": [
           {
            "colorbar": {
             "outlinewidth": 0,
             "ticks": ""
            },
            "colorscale": [
             [
              0,
              "#0d0887"
             ],
             [
              0.1111111111111111,
              "#46039f"
             ],
             [
              0.2222222222222222,
              "#7201a8"
             ],
             [
              0.3333333333333333,
              "#9c179e"
             ],
             [
              0.4444444444444444,
              "#bd3786"
             ],
             [
              0.5555555555555556,
              "#d8576b"
             ],
             [
              0.6666666666666666,
              "#ed7953"
             ],
             [
              0.7777777777777778,
              "#fb9f3a"
             ],
             [
              0.8888888888888888,
              "#fdca26"
             ],
             [
              1,
              "#f0f921"
             ]
            ],
            "type": "heatmap"
           }
          ],
          "heatmapgl": [
           {
            "colorbar": {
             "outlinewidth": 0,
             "ticks": ""
            },
            "colorscale": [
             [
              0,
              "#0d0887"
             ],
             [
              0.1111111111111111,
              "#46039f"
             ],
             [
              0.2222222222222222,
              "#7201a8"
             ],
             [
              0.3333333333333333,
              "#9c179e"
             ],
             [
              0.4444444444444444,
              "#bd3786"
             ],
             [
              0.5555555555555556,
              "#d8576b"
             ],
             [
              0.6666666666666666,
              "#ed7953"
             ],
             [
              0.7777777777777778,
              "#fb9f3a"
             ],
             [
              0.8888888888888888,
              "#fdca26"
             ],
             [
              1,
              "#f0f921"
             ]
            ],
            "type": "heatmapgl"
           }
          ],
          "histogram": [
           {
            "marker": {
             "pattern": {
              "fillmode": "overlay",
              "size": 10,
              "solidity": 0.2
             }
            },
            "type": "histogram"
           }
          ],
          "histogram2d": [
           {
            "colorbar": {
             "outlinewidth": 0,
             "ticks": ""
            },
            "colorscale": [
             [
              0,
              "#0d0887"
             ],
             [
              0.1111111111111111,
              "#46039f"
             ],
             [
              0.2222222222222222,
              "#7201a8"
             ],
             [
              0.3333333333333333,
              "#9c179e"
             ],
             [
              0.4444444444444444,
              "#bd3786"
             ],
             [
              0.5555555555555556,
              "#d8576b"
             ],
             [
              0.6666666666666666,
              "#ed7953"
             ],
             [
              0.7777777777777778,
              "#fb9f3a"
             ],
             [
              0.8888888888888888,
              "#fdca26"
             ],
             [
              1,
              "#f0f921"
             ]
            ],
            "type": "histogram2d"
           }
          ],
          "histogram2dcontour": [
           {
            "colorbar": {
             "outlinewidth": 0,
             "ticks": ""
            },
            "colorscale": [
             [
              0,
              "#0d0887"
             ],
             [
              0.1111111111111111,
              "#46039f"
             ],
             [
              0.2222222222222222,
              "#7201a8"
             ],
             [
              0.3333333333333333,
              "#9c179e"
             ],
             [
              0.4444444444444444,
              "#bd3786"
             ],
             [
              0.5555555555555556,
              "#d8576b"
             ],
             [
              0.6666666666666666,
              "#ed7953"
             ],
             [
              0.7777777777777778,
              "#fb9f3a"
             ],
             [
              0.8888888888888888,
              "#fdca26"
             ],
             [
              1,
              "#f0f921"
             ]
            ],
            "type": "histogram2dcontour"
           }
          ],
          "mesh3d": [
           {
            "colorbar": {
             "outlinewidth": 0,
             "ticks": ""
            },
            "type": "mesh3d"
           }
          ],
          "parcoords": [
           {
            "line": {
             "colorbar": {
              "outlinewidth": 0,
              "ticks": ""
             }
            },
            "type": "parcoords"
           }
          ],
          "pie": [
           {
            "automargin": true,
            "type": "pie"
           }
          ],
          "scatter": [
           {
            "fillpattern": {
             "fillmode": "overlay",
             "size": 10,
             "solidity": 0.2
            },
            "type": "scatter"
           }
          ],
          "scatter3d": [
           {
            "line": {
             "colorbar": {
              "outlinewidth": 0,
              "ticks": ""
             }
            },
            "marker": {
             "colorbar": {
              "outlinewidth": 0,
              "ticks": ""
             }
            },
            "type": "scatter3d"
           }
          ],
          "scattercarpet": [
           {
            "marker": {
             "colorbar": {
              "outlinewidth": 0,
              "ticks": ""
             }
            },
            "type": "scattercarpet"
           }
          ],
          "scattergeo": [
           {
            "marker": {
             "colorbar": {
              "outlinewidth": 0,
              "ticks": ""
             }
            },
            "type": "scattergeo"
           }
          ],
          "scattergl": [
           {
            "marker": {
             "colorbar": {
              "outlinewidth": 0,
              "ticks": ""
             }
            },
            "type": "scattergl"
           }
          ],
          "scattermapbox": [
           {
            "marker": {
             "colorbar": {
              "outlinewidth": 0,
              "ticks": ""
             }
            },
            "type": "scattermapbox"
           }
          ],
          "scatterpolar": [
           {
            "marker": {
             "colorbar": {
              "outlinewidth": 0,
              "ticks": ""
             }
            },
            "type": "scatterpolar"
           }
          ],
          "scatterpolargl": [
           {
            "marker": {
             "colorbar": {
              "outlinewidth": 0,
              "ticks": ""
             }
            },
            "type": "scatterpolargl"
           }
          ],
          "scatterternary": [
           {
            "marker": {
             "colorbar": {
              "outlinewidth": 0,
              "ticks": ""
             }
            },
            "type": "scatterternary"
           }
          ],
          "surface": [
           {
            "colorbar": {
             "outlinewidth": 0,
             "ticks": ""
            },
            "colorscale": [
             [
              0,
              "#0d0887"
             ],
             [
              0.1111111111111111,
              "#46039f"
             ],
             [
              0.2222222222222222,
              "#7201a8"
             ],
             [
              0.3333333333333333,
              "#9c179e"
             ],
             [
              0.4444444444444444,
              "#bd3786"
             ],
             [
              0.5555555555555556,
              "#d8576b"
             ],
             [
              0.6666666666666666,
              "#ed7953"
             ],
             [
              0.7777777777777778,
              "#fb9f3a"
             ],
             [
              0.8888888888888888,
              "#fdca26"
             ],
             [
              1,
              "#f0f921"
             ]
            ],
            "type": "surface"
           }
          ],
          "table": [
           {
            "cells": {
             "fill": {
              "color": "#EBF0F8"
             },
             "line": {
              "color": "white"
             }
            },
            "header": {
             "fill": {
              "color": "#C8D4E3"
             },
             "line": {
              "color": "white"
             }
            },
            "type": "table"
           }
          ]
         },
         "layout": {
          "annotationdefaults": {
           "arrowcolor": "#2a3f5f",
           "arrowhead": 0,
           "arrowwidth": 1
          },
          "autotypenumbers": "strict",
          "coloraxis": {
           "colorbar": {
            "outlinewidth": 0,
            "ticks": ""
           }
          },
          "colorscale": {
           "diverging": [
            [
             0,
             "#8e0152"
            ],
            [
             0.1,
             "#c51b7d"
            ],
            [
             0.2,
             "#de77ae"
            ],
            [
             0.3,
             "#f1b6da"
            ],
            [
             0.4,
             "#fde0ef"
            ],
            [
             0.5,
             "#f7f7f7"
            ],
            [
             0.6,
             "#e6f5d0"
            ],
            [
             0.7,
             "#b8e186"
            ],
            [
             0.8,
             "#7fbc41"
            ],
            [
             0.9,
             "#4d9221"
            ],
            [
             1,
             "#276419"
            ]
           ],
           "sequential": [
            [
             0,
             "#0d0887"
            ],
            [
             0.1111111111111111,
             "#46039f"
            ],
            [
             0.2222222222222222,
             "#7201a8"
            ],
            [
             0.3333333333333333,
             "#9c179e"
            ],
            [
             0.4444444444444444,
             "#bd3786"
            ],
            [
             0.5555555555555556,
             "#d8576b"
            ],
            [
             0.6666666666666666,
             "#ed7953"
            ],
            [
             0.7777777777777778,
             "#fb9f3a"
            ],
            [
             0.8888888888888888,
             "#fdca26"
            ],
            [
             1,
             "#f0f921"
            ]
           ],
           "sequentialminus": [
            [
             0,
             "#0d0887"
            ],
            [
             0.1111111111111111,
             "#46039f"
            ],
            [
             0.2222222222222222,
             "#7201a8"
            ],
            [
             0.3333333333333333,
             "#9c179e"
            ],
            [
             0.4444444444444444,
             "#bd3786"
            ],
            [
             0.5555555555555556,
             "#d8576b"
            ],
            [
             0.6666666666666666,
             "#ed7953"
            ],
            [
             0.7777777777777778,
             "#fb9f3a"
            ],
            [
             0.8888888888888888,
             "#fdca26"
            ],
            [
             1,
             "#f0f921"
            ]
           ]
          },
          "colorway": [
           "#636efa",
           "#EF553B",
           "#00cc96",
           "#ab63fa",
           "#FFA15A",
           "#19d3f3",
           "#FF6692",
           "#B6E880",
           "#FF97FF",
           "#FECB52"
          ],
          "font": {
           "color": "#2a3f5f"
          },
          "geo": {
           "bgcolor": "white",
           "lakecolor": "white",
           "landcolor": "#E5ECF6",
           "showlakes": true,
           "showland": true,
           "subunitcolor": "white"
          },
          "hoverlabel": {
           "align": "left"
          },
          "hovermode": "closest",
          "mapbox": {
           "style": "light"
          },
          "paper_bgcolor": "white",
          "plot_bgcolor": "#E5ECF6",
          "polar": {
           "angularaxis": {
            "gridcolor": "white",
            "linecolor": "white",
            "ticks": ""
           },
           "bgcolor": "#E5ECF6",
           "radialaxis": {
            "gridcolor": "white",
            "linecolor": "white",
            "ticks": ""
           }
          },
          "scene": {
           "xaxis": {
            "backgroundcolor": "#E5ECF6",
            "gridcolor": "white",
            "gridwidth": 2,
            "linecolor": "white",
            "showbackground": true,
            "ticks": "",
            "zerolinecolor": "white"
           },
           "yaxis": {
            "backgroundcolor": "#E5ECF6",
            "gridcolor": "white",
            "gridwidth": 2,
            "linecolor": "white",
            "showbackground": true,
            "ticks": "",
            "zerolinecolor": "white"
           },
           "zaxis": {
            "backgroundcolor": "#E5ECF6",
            "gridcolor": "white",
            "gridwidth": 2,
            "linecolor": "white",
            "showbackground": true,
            "ticks": "",
            "zerolinecolor": "white"
           }
          },
          "shapedefaults": {
           "line": {
            "color": "#2a3f5f"
           }
          },
          "ternary": {
           "aaxis": {
            "gridcolor": "white",
            "linecolor": "white",
            "ticks": ""
           },
           "baxis": {
            "gridcolor": "white",
            "linecolor": "white",
            "ticks": ""
           },
           "bgcolor": "#E5ECF6",
           "caxis": {
            "gridcolor": "white",
            "linecolor": "white",
            "ticks": ""
           }
          },
          "title": {
           "x": 0.05
          },
          "xaxis": {
           "automargin": true,
           "gridcolor": "white",
           "linecolor": "white",
           "ticks": "",
           "title": {
            "standoff": 15
           },
           "zerolinecolor": "white",
           "zerolinewidth": 2
          },
          "yaxis": {
           "automargin": true,
           "gridcolor": "white",
           "linecolor": "white",
           "ticks": "",
           "title": {
            "standoff": 15
           },
           "zerolinecolor": "white",
           "zerolinewidth": 2
          }
         }
        },
        "title": {
         "text": "Slice Plot"
        },
        "width": 3000,
        "xaxis": {
         "anchor": "y",
         "domain": [
          0,
          0.082
         ],
         "title": {
          "text": "alpha"
         },
         "type": "log"
        },
        "xaxis10": {
         "anchor": "y10",
         "domain": [
          0.9179999999999999,
          0.9999999999999999
         ],
         "title": {
          "text": "subsample"
         }
        },
        "xaxis2": {
         "anchor": "y2",
         "domain": [
          0.10200000000000001,
          0.184
         ],
         "title": {
          "text": "colsample_bytree"
         }
        },
        "xaxis3": {
         "anchor": "y3",
         "domain": [
          0.20400000000000001,
          0.28600000000000003
         ],
         "title": {
          "text": "gamma"
         }
        },
        "xaxis4": {
         "anchor": "y4",
         "domain": [
          0.306,
          0.388
         ],
         "title": {
          "text": "lambda"
         },
         "type": "log"
        },
        "xaxis5": {
         "anchor": "y5",
         "domain": [
          0.40800000000000003,
          0.49000000000000005
         ],
         "title": {
          "text": "learning_rate"
         },
         "type": "log"
        },
        "xaxis6": {
         "anchor": "y6",
         "domain": [
          0.51,
          0.592
         ],
         "title": {
          "text": "max_depth"
         }
        },
        "xaxis7": {
         "anchor": "y7",
         "domain": [
          0.6120000000000001,
          0.6940000000000001
         ],
         "title": {
          "text": "min_child_weight"
         }
        },
        "xaxis8": {
         "anchor": "y8",
         "domain": [
          0.7140000000000001,
          0.796
         ],
         "title": {
          "text": "n_estimators"
         }
        },
        "xaxis9": {
         "anchor": "y9",
         "domain": [
          0.8160000000000001,
          0.898
         ],
         "title": {
          "text": "scale_pos_weight"
         }
        },
        "yaxis": {
         "anchor": "x",
         "domain": [
          0,
          1
         ],
         "title": {
          "text": "Objective Value"
         }
        },
        "yaxis10": {
         "anchor": "x10",
         "domain": [
          0,
          1
         ],
         "matches": "y",
         "showticklabels": false
        },
        "yaxis2": {
         "anchor": "x2",
         "domain": [
          0,
          1
         ],
         "matches": "y",
         "showticklabels": false
        },
        "yaxis3": {
         "anchor": "x3",
         "domain": [
          0,
          1
         ],
         "matches": "y",
         "showticklabels": false
        },
        "yaxis4": {
         "anchor": "x4",
         "domain": [
          0,
          1
         ],
         "matches": "y",
         "showticklabels": false
        },
        "yaxis5": {
         "anchor": "x5",
         "domain": [
          0,
          1
         ],
         "matches": "y",
         "showticklabels": false
        },
        "yaxis6": {
         "anchor": "x6",
         "domain": [
          0,
          1
         ],
         "matches": "y",
         "showticklabels": false
        },
        "yaxis7": {
         "anchor": "x7",
         "domain": [
          0,
          1
         ],
         "matches": "y",
         "showticklabels": false
        },
        "yaxis8": {
         "anchor": "x8",
         "domain": [
          0,
          1
         ],
         "matches": "y",
         "showticklabels": false
        },
        "yaxis9": {
         "anchor": "x9",
         "domain": [
          0,
          1
         ],
         "matches": "y",
         "showticklabels": false
        }
       }
      }
     },
     "metadata": {},
     "output_type": "display_data"
    }
   ],
   "source": [
    "# %%script skipped # Skipped due to resource optimization\n",
    "\n",
    "optuna.visualization.plot_slice(study, params=list(best_params.keys()))"
   ]
  },
  {
   "cell_type": "code",
   "execution_count": 332,
   "metadata": {},
   "outputs": [],
   "source": [
    "# %%script skipped # Skipped due to resource optimization\n",
    "\n",
    "clf_xgb_tuned = XGBClassifier(**defined_params, **best_params)"
   ]
  },
  {
   "cell_type": "code",
   "execution_count": 337,
   "metadata": {},
   "outputs": [],
   "source": [
    "# %%script skipped # Skipped due to resource optimization\n",
    "IS_TRAINING = False\n",
    "cache_path = r'models\\clf_xgb_tuned_model.pkl'\n",
    "\n",
    "if IS_TRAINING:\n",
    "  cb_fold = lambda fold, scores: print(f'Fold {fold + 1} => AUC score: {scores[0]:.4f} (train) | {scores[1]:.4f} (valid)')\n",
    "  cb_end = lambda scores: print(f'Mean AUC oof score: {scores[0]:.4f} (train) | {scores[1]:.4f} (valid)')\n",
    "\n",
    "  auc_scores_train, auc_scores_valid = train_model(X, y,\n",
    "                                                  model=clf_xgb_tuned,\n",
    "                                                  preprocessor=preprocessor,\n",
    "                                                  scorer=roc_auc_score,\n",
    "                                                  cv_fold=skf,\n",
    "                                                  cb_fold=cb_fold,\n",
    "                                                  cb_end=cb_end)\n",
    "  mean_auc_train, mean_auc_valid = np.mean(auc_scores_train), np.mean(auc_scores_valid)\n",
    "  joblib.dump({\n",
    "    'model': clf_xgb_tuned,\n",
    "    'preprocessor_pipe': preprocessor_pipe,\n",
    "    'scores': (auc_scores_train, auc_scores_valid)\n",
    "    }, cache_path)\n",
    "else:\n",
    "  try:\n",
    "    cache = joblib.load(cache_path)\n",
    "    clf_xgb_tuned = cache['model']\n",
    "    preprocessor_pipe = cache['preprocessor_pipe']\n",
    "    auc_scores_train = cache['scores'][0]\n",
    "    auc_scores_valid = cache['scores'][1]\n",
    "  except FileNotFoundError:\n",
    "    print('Cached study file not found!')"
   ]
  },
  {
   "cell_type": "code",
   "execution_count": 309,
   "metadata": {},
   "outputs": [
    {
     "data": {
      "text/plain": [
       "<Axes: title={'center': 'Feature Importance XGB-Tuned (AUC = 0.7765)'}, xlabel='Feature', ylabel='Feature Importance'>"
      ]
     },
     "execution_count": 309,
     "metadata": {},
     "output_type": "execute_result"
    },
    {
     "data": {
      "image/png": "[encoded data removed]",
      "text/plain": [
       "<Figure size 1500x300 with 1 Axes>"
      ]
     },
     "metadata": {},
     "output_type": "display_data"
    }
   ],
   "source": [
    "# %%script skipped # Skipped due to resource optimization\n",
    "\n",
    "df_feat_imp = pd.DataFrame({'Feature': X.columns, 'Importance': clf_xgb_tuned.feature_importances_})\n",
    "df_feat_imp = df_feat_imp.sort_values(by='Importance', ascending=False)\n",
    "df_feat_imp[:50].plot(kind='bar',\n",
    "                      x='Feature',\n",
    "                      y='Importance',\n",
    "                      title=f'Feature Importance XGB-Tuned (AUC = {mean_auc_valid:.4f})',\n",
    "                      xlabel='Feature',\n",
    "                      ylabel='Feature Importance',\n",
    "                      figsize=(15, 3))"
   ]
  },
  {
   "cell_type": "code",
   "execution_count": 310,
   "metadata": {},
   "outputs": [
    {
     "name": "stdout",
     "output_type": "stream",
     "text": [
      "Numbers of categorical feature(s): 1\n",
      "Numbers of numerical feature(s): 49\n"
     ]
    }
   ],
   "source": [
    "# %%script skipped # Skipped due to resource optimization\n",
    "\n",
    "top_feat_50 = df[df_feat_imp[:50]['Feature']]\n",
    "\n",
    "cat_feat = top_feat_50.select_dtypes('object').columns\n",
    "num_feat = top_feat_50.select_dtypes(exclude='object').columns\n",
    "\n",
    "print(f'Numbers of categorical feature(s): {len(cat_feat)}')\n",
    "print(f'Numbers of numerical feature(s): {len(num_feat)}')"
   ]
  },
  {
   "cell_type": "code",
   "execution_count": 311,
   "metadata": {},
   "outputs": [
    {
     "name": "stdout",
     "output_type": "stream",
     "text": [
      "AUC score of test dataset: 0.7772\n"
     ]
    }
   ],
   "source": [
    "# %%script skipped # Skipped due to resource optimization\n",
    "\n",
    "y_preds = clf_xgb_tuned.predict_proba(preprocessor_pipe.transform(X_test))[:, 1]\n",
    "clf_xgb_tun_auc_test = roc_auc_score(y_test, y_preds)\n",
    "\n",
    "print(f'AUC score of test dataset: {clf_xgb_tun_auc_test:.4f}')"
   ]
  },
  {
   "cell_type": "markdown",
   "metadata": {},
   "source": [
    "### **Catboost**"
   ]
  },
  {
   "cell_type": "markdown",
   "metadata": {},
   "source": [
    "##### **A. Default Catboost**"
   ]
  },
  {
   "cell_type": "code",
   "execution_count": 312,
   "metadata": {},
   "outputs": [],
   "source": [
    "# %%script skipped # Skipped due to resource optimization\n",
    "\n",
    "clf_cat_default = CatBoostClassifier(objective='Logloss', eval_metric='AUC:hints=skip_train~false', verbose=False, thread_count=-1)"
   ]
  },
  {
   "cell_type": "code",
   "execution_count": 338,
   "metadata": {},
   "outputs": [],
   "source": [
    "# %%script skipped # Skipped due to resource optimization\n",
    "IS_TRAINING = False\n",
    "cache_path = r'models\\clf_cat_default_model.pkl'\n",
    "\n",
    "if IS_TRAINING:\n",
    "  cb_fold = lambda fold, scores: print(f'Fold {fold + 1} => AUC score: {scores[0]:.4f} (train) | {scores[1]:.4f} (valid)')\n",
    "  cb_end = lambda scores: print(f'Mean AUC oof score: {scores[0]:.4f} (train) | {scores[1]:.4f} (valid)')\n",
    "\n",
    "  auc_scores_train, auc_scores_valid = train_model(X, y,\n",
    "                                                  model=clf_cat_default,\n",
    "                                                  preprocessor=preprocessor,\n",
    "                                                  scorer=roc_auc_score,\n",
    "                                                  cv_fold=skf,\n",
    "                                                  cb_fold=cb_fold,\n",
    "                                                  cb_end=cb_end)\n",
    "  mean_auc_train, mean_auc_valid = np.mean(auc_scores_train), np.mean(auc_scores_valid)\n",
    "  joblib.dump({\n",
    "    'model': clf_cat_default,\n",
    "    'preprocessor_pipe': preprocessor_pipe,\n",
    "    'scores': (auc_scores_train, auc_scores_valid)\n",
    "    }, cache_path)\n",
    "else:\n",
    "  try:\n",
    "    cache = joblib.load(cache_path)\n",
    "    clf_cat_default = cache['model']\n",
    "    preprocessor_pipe = cache['preprocessor_pipe']\n",
    "    auc_scores_train = cache['scores'][0]\n",
    "    auc_scores_valid = cache['scores'][1]\n",
    "  except FileNotFoundError:\n",
    "    print('Cached study file not found!')"
   ]
  },
  {
   "cell_type": "code",
   "execution_count": 315,
   "metadata": {},
   "outputs": [
    {
     "data": {
      "text/plain": [
       "<Axes: title={'center': 'Feature Importance CatBoost-Default (AUC = 0.7791)'}, xlabel='Feature', ylabel='Feature Importance'>"
      ]
     },
     "execution_count": 315,
     "metadata": {},
     "output_type": "execute_result"
    },
    {
     "data": {
      "image/png": "[encoded data removed]",
      "text/plain": [
       "<Figure size 1500x300 with 1 Axes>"
      ]
     },
     "metadata": {},
     "output_type": "display_data"
    }
   ],
   "source": [
    "# %%script skipped # Skipped due to resource optimization\n",
    "\n",
    "df_feat_imp = pd.DataFrame({'Feature': X.columns, 'Importance': clf_cat_default.feature_importances_})\n",
    "df_feat_imp = df_feat_imp.sort_values(by='Importance', ascending=False)\n",
    "df_feat_imp[:50].plot(kind='bar',\n",
    "                      x='Feature',\n",
    "                      y='Importance',\n",
    "                      title=f'Feature Importance CatBoost-Default (AUC = {mean_auc_valid:.4f})',\n",
    "                      xlabel='Feature',\n",
    "                      ylabel='Feature Importance',\n",
    "                      figsize=(15, 3))"
   ]
  },
  {
   "cell_type": "code",
   "execution_count": 316,
   "metadata": {},
   "outputs": [
    {
     "name": "stdout",
     "output_type": "stream",
     "text": [
      "Numbers of categorical feature(s): 2\n",
      "Numbers of numerical feature(s): 48\n"
     ]
    }
   ],
   "source": [
    "# %%script skipped # Skipped due to resource optimization\n",
    "\n",
    "top_feat_50 = df[df_feat_imp[:50]['Feature']]\n",
    "\n",
    "cat_feat = top_feat_50.select_dtypes('object').columns\n",
    "num_feat = top_feat_50.select_dtypes(exclude='object').columns\n",
    "\n",
    "print(f'Numbers of categorical feature(s): {len(cat_feat)}')\n",
    "print(f'Numbers of numerical feature(s): {len(num_feat)}')"
   ]
  },
  {
   "cell_type": "code",
   "execution_count": 317,
   "metadata": {},
   "outputs": [
    {
     "name": "stdout",
     "output_type": "stream",
     "text": [
      "AUC score of test dataset: 0.7818\n"
     ]
    }
   ],
   "source": [
    "# %%script skipped # Skipped due to resource optimization\n",
    "\n",
    "y_preds = clf_cat_default.predict_proba(preprocessor_pipe.transform(X_test))[:, 1]\n",
    "clf_xgb_def_auc_test = roc_auc_score(y_test, y_preds)\n",
    "\n",
    "print(f'AUC score of test dataset: {clf_xgb_def_auc_test:.4f}')"
   ]
  },
  {
   "cell_type": "markdown",
   "metadata": {},
   "source": [
    "##### **B. Tuned Catboost**"
   ]
  },
  {
   "cell_type": "code",
   "execution_count": 318,
   "metadata": {},
   "outputs": [],
   "source": [
    "defined_params = {\n",
    "    'objective': 'Logloss',\n",
    "    # 'grow_policy': 'Lossguide',\n",
    "    'eval_metric': 'AUC:hints=skip_train~false',\n",
    "    'verbose': False,\n",
    "    'random_seed': 24,\n",
    "    'thread_count': 2\n",
    "  }\n",
    "\n",
    "def objective(trial: Trial):\n",
    "  tuned_params = {\n",
    "      'num_trees': trial.suggest_int('num_trees', 250, 750),\n",
    "      'learning_rate': trial.suggest_float('learning_rate', 0.01, 0.2),\n",
    "      # 'num_leaves': trial.suggest_int('num_leaves', 20, 64),\n",
    "      'max_depth': trial.suggest_int('max_depth', 4, 10),\n",
    "      'bagging_temperature': trial.suggest_float('bagging_temperature', 0, 10),\n",
    "      'min_child_samples': trial.suggest_int('min_child_samples', 1, 20),\n",
    "      'colsample_bylevel': trial.suggest_float('colsample_bylevel', 0.1, 1.0),\n",
    "      'reg_lambda': trial.suggest_float('l2_leaf_reg', 1, 10),\n",
    "      'subsample': trial.suggest_float('subsample', 0.1, 1.0),\n",
    "      'scale_pos_weight': trial.suggest_float('scale_pos_weight', 1, 10),\n",
    "    }\n",
    "  \n",
    "  clf_cat_tuned = CatBoostClassifier(**defined_params, **tuned_params)\n",
    "    \n",
    "  auc_scores_train, auc_scores_valid = train_model(X, y,\n",
    "                                                  model=clf_cat_tuned,\n",
    "                                                  preprocessor=preprocessor,\n",
    "                                                  scorer=roc_auc_score,\n",
    "                                                  cv_fold=skf,\n",
    "                                                  skip_fold='odd')\n",
    "  mean_auc_train, mean_auc_valid = np.mean(auc_scores_train), np.mean(auc_scores_valid)\n",
    "\n",
    "  print(f'Mean AUC oof score (n={trial.number}): {mean_auc_train:.4f} (train) | {mean_auc_valid:.4f} (valid)')\n",
    "  \n",
    "  return mean_auc_valid\n",
    "\n",
    "def callback(study: Study, trial: Trial):\n",
    "  joblib.dump(study, r'studies\\clf_cat_study.pkl')\n",
    "  \n",
    "  gc.collect()"
   ]
  },
  {
   "cell_type": "code",
   "execution_count": 319,
   "metadata": {},
   "outputs": [],
   "source": [
    "IS_TUNING = False\n",
    "\n",
    "if IS_TUNING:\n",
    "  study = optuna.create_study(direction='maximize')\n",
    "  study.optimize(objective, n_trials=50, n_jobs=2, callbacks=[callback])\n",
    "else:\n",
    "  try:\n",
    "    study = joblib.load(r'studies\\clf_cat_study.pkl')\n",
    "  except FileNotFoundError:\n",
    "    print('Cached study file not found!')"
   ]
  },
  {
   "cell_type": "code",
   "execution_count": 320,
   "metadata": {},
   "outputs": [
    {
     "data": {
      "text/plain": [
       "{'num_trees': 745,\n",
       " 'learning_rate': 0.0742308762639045,\n",
       " 'max_depth': 6,\n",
       " 'bagging_temperature': 7.475274975091385,\n",
       " 'min_child_samples': 19,\n",
       " 'colsample_bylevel': 0.947414452225953,\n",
       " 'l2_leaf_reg': 4.6216217561170625,\n",
       " 'subsample': 0.55386144810891,\n",
       " 'scale_pos_weight': 1.8815865028306162}"
      ]
     },
     "execution_count": 320,
     "metadata": {},
     "output_type": "execute_result"
    }
   ],
   "source": [
    "best_params = study.best_params\n",
    "best_params"
   ]
  },
  {
   "cell_type": "code",
   "execution_count": 321,
   "metadata": {},
   "outputs": [
    {
     "data": {
      "application/vnd.plotly.v1+json": {
       "config": {
        "plotlyServerURL": "https://plot.ly"
       },
       "data": [
        {
         "cliponaxis": false,
         "hovertemplate": [
          "min_child_samples (IntDistribution): 0.00350524621709615<extra></extra>",
          "max_depth (IntDistribution): 0.005550436416397495<extra></extra>",
          "l2_leaf_reg (FloatDistribution): 0.02710707055098623<extra></extra>",
          "colsample_bylevel (FloatDistribution): 0.029955051064274457<extra></extra>",
          "bagging_temperature (FloatDistribution): 0.04559329806234787<extra></extra>",
          "subsample (FloatDistribution): 0.056691477160771934<extra></extra>",
          "learning_rate (FloatDistribution): 0.059826116183883615<extra></extra>",
          "num_trees (IntDistribution): 0.08222919518717035<extra></extra>",
          "scale_pos_weight (FloatDistribution): 0.6895421091570717<extra></extra>"
         ],
         "name": "Objective Value",
         "orientation": "h",
         "text": [
          "<0.01",
          "<0.01",
          "0.03",
          "0.03",
          "0.05",
          "0.06",
          "0.06",
          "0.08",
          "0.69"
         ],
         "textposition": "outside",
         "type": "bar",
         "x": [
          0.00350524621709615,
          0.005550436416397495,
          0.02710707055098623,
          0.029955051064274457,
          0.04559329806234787,
          0.056691477160771934,
          0.059826116183883615,
          0.08222919518717035,
          0.6895421091570717
         ],
         "y": [
          "min_child_samples",
          "max_depth",
          "l2_leaf_reg",
          "colsample_bylevel",
          "bagging_temperature",
          "subsample",
          "learning_rate",
          "num_trees",
          "scale_pos_weight"
         ]
        }
       ],
       "layout": {
        "template": {
         "data": {
          "bar": [
           {
            "error_x": {
             "color": "#2a3f5f"
            },
            "error_y": {
             "color": "#2a3f5f"
            },
            "marker": {
             "line": {
              "color": "#E5ECF6",
              "width": 0.5
             },
             "pattern": {
              "fillmode": "overlay",
              "size": 10,
              "solidity": 0.2
             }
            },
            "type": "bar"
           }
          ],
          "barpolar": [
           {
            "marker": {
             "line": {
              "color": "#E5ECF6",
              "width": 0.5
             },
             "pattern": {
              "fillmode": "overlay",
              "size": 10,
              "solidity": 0.2
             }
            },
            "type": "barpolar"
           }
          ],
          "carpet": [
           {
            "aaxis": {
             "endlinecolor": "#2a3f5f",
             "gridcolor": "white",
             "linecolor": "white",
             "minorgridcolor": "white",
             "startlinecolor": "#2a3f5f"
            },
            "baxis": {
             "endlinecolor": "#2a3f5f",
             "gridcolor": "white",
             "linecolor": "white",
             "minorgridcolor": "white",
             "startlinecolor": "#2a3f5f"
            },
            "type": "carpet"
           }
          ],
          "choropleth": [
           {
            "colorbar": {
             "outlinewidth": 0,
             "ticks": ""
            },
            "type": "choropleth"
           }
          ],
          "contour": [
           {
            "colorbar": {
             "outlinewidth": 0,
             "ticks": ""
            },
            "colorscale": [
             [
              0,
              "#0d0887"
             ],
             [
              0.1111111111111111,
              "#46039f"
             ],
             [
              0.2222222222222222,
              "#7201a8"
             ],
             [
              0.3333333333333333,
              "#9c179e"
             ],
             [
              0.4444444444444444,
              "#bd3786"
             ],
             [
              0.5555555555555556,
              "#d8576b"
             ],
             [
              0.6666666666666666,
              "#ed7953"
             ],
             [
              0.7777777777777778,
              "#fb9f3a"
             ],
             [
              0.8888888888888888,
              "#fdca26"
             ],
             [
              1,
              "#f0f921"
             ]
            ],
            "type": "contour"
           }
          ],
          "contourcarpet": [
           {
            "colorbar": {
             "outlinewidth": 0,
             "ticks": ""
            },
            "type": "contourcarpet"
           }
          ],
          "heatmap": [
           {
            "colorbar": {
             "outlinewidth": 0,
             "ticks": ""
            },
            "colorscale": [
             [
              0,
              "#0d0887"
             ],
             [
              0.1111111111111111,
              "#46039f"
             ],
             [
              0.2222222222222222,
              "#7201a8"
             ],
             [
              0.3333333333333333,
              "#9c179e"
             ],
             [
              0.4444444444444444,
              "#bd3786"
             ],
             [
              0.5555555555555556,
              "#d8576b"
             ],
             [
              0.6666666666666666,
              "#ed7953"
             ],
             [
              0.7777777777777778,
              "#fb9f3a"
             ],
             [
              0.8888888888888888,
              "#fdca26"
             ],
             [
              1,
              "#f0f921"
             ]
            ],
            "type": "heatmap"
           }
          ],
          "heatmapgl": [
           {
            "colorbar": {
             "outlinewidth": 0,
             "ticks": ""
            },
            "colorscale": [
             [
              0,
              "#0d0887"
             ],
             [
              0.1111111111111111,
              "#46039f"
             ],
             [
              0.2222222222222222,
              "#7201a8"
             ],
             [
              0.3333333333333333,
              "#9c179e"
             ],
             [
              0.4444444444444444,
              "#bd3786"
             ],
             [
              0.5555555555555556,
              "#d8576b"
             ],
             [
              0.6666666666666666,
              "#ed7953"
             ],
             [
              0.7777777777777778,
              "#fb9f3a"
             ],
             [
              0.8888888888888888,
              "#fdca26"
             ],
             [
              1,
              "#f0f921"
             ]
            ],
            "type": "heatmapgl"
           }
          ],
          "histogram": [
           {
            "marker": {
             "pattern": {
              "fillmode": "overlay",
              "size": 10,
              "solidity": 0.2
             }
            },
            "type": "histogram"
           }
          ],
          "histogram2d": [
           {
            "colorbar": {
             "outlinewidth": 0,
             "ticks": ""
            },
            "colorscale": [
             [
              0,
              "#0d0887"
             ],
             [
              0.1111111111111111,
              "#46039f"
             ],
             [
              0.2222222222222222,
              "#7201a8"
             ],
             [
              0.3333333333333333,
              "#9c179e"
             ],
             [
              0.4444444444444444,
              "#bd3786"
             ],
             [
              0.5555555555555556,
              "#d8576b"
             ],
             [
              0.6666666666666666,
              "#ed7953"
             ],
             [
              0.7777777777777778,
              "#fb9f3a"
             ],
             [
              0.8888888888888888,
              "#fdca26"
             ],
             [
              1,
              "#f0f921"
             ]
            ],
            "type": "histogram2d"
           }
          ],
          "histogram2dcontour": [
           {
            "colorbar": {
             "outlinewidth": 0,
             "ticks": ""
            },
            "colorscale": [
             [
              0,
              "#0d0887"
             ],
             [
              0.1111111111111111,
              "#46039f"
             ],
             [
              0.2222222222222222,
              "#7201a8"
             ],
             [
              0.3333333333333333,
              "#9c179e"
             ],
             [
              0.4444444444444444,
              "#bd3786"
             ],
             [
              0.5555555555555556,
              "#d8576b"
             ],
             [
              0.6666666666666666,
              "#ed7953"
             ],
             [
              0.7777777777777778,
              "#fb9f3a"
             ],
             [
              0.8888888888888888,
              "#fdca26"
             ],
             [
              1,
              "#f0f921"
             ]
            ],
            "type": "histogram2dcontour"
           }
          ],
          "mesh3d": [
           {
            "colorbar": {
             "outlinewidth": 0,
             "ticks": ""
            },
            "type": "mesh3d"
           }
          ],
          "parcoords": [
           {
            "line": {
             "colorbar": {
              "outlinewidth": 0,
              "ticks": ""
             }
            },
            "type": "parcoords"
           }
          ],
          "pie": [
           {
            "automargin": true,
            "type": "pie"
           }
          ],
          "scatter": [
           {
            "fillpattern": {
             "fillmode": "overlay",
             "size": 10,
             "solidity": 0.2
            },
            "type": "scatter"
           }
          ],
          "scatter3d": [
           {
            "line": {
             "colorbar": {
              "outlinewidth": 0,
              "ticks": ""
             }
            },
            "marker": {
             "colorbar": {
              "outlinewidth": 0,
              "ticks": ""
             }
            },
            "type": "scatter3d"
           }
          ],
          "scattercarpet": [
           {
            "marker": {
             "colorbar": {
              "outlinewidth": 0,
              "ticks": ""
             }
            },
            "type": "scattercarpet"
           }
          ],
          "scattergeo": [
           {
            "marker": {
             "colorbar": {
              "outlinewidth": 0,
              "ticks": ""
             }
            },
            "type": "scattergeo"
           }
          ],
          "scattergl": [
           {
            "marker": {
             "colorbar": {
              "outlinewidth": 0,
              "ticks": ""
             }
            },
            "type": "scattergl"
           }
          ],
          "scattermapbox": [
           {
            "marker": {
             "colorbar": {
              "outlinewidth": 0,
              "ticks": ""
             }
            },
            "type": "scattermapbox"
           }
          ],
          "scatterpolar": [
           {
            "marker": {
             "colorbar": {
              "outlinewidth": 0,
              "ticks": ""
             }
            },
            "type": "scatterpolar"
           }
          ],
          "scatterpolargl": [
           {
            "marker": {
             "colorbar": {
              "outlinewidth": 0,
              "ticks": ""
             }
            },
            "type": "scatterpolargl"
           }
          ],
          "scatterternary": [
           {
            "marker": {
             "colorbar": {
              "outlinewidth": 0,
              "ticks": ""
             }
            },
            "type": "scatterternary"
           }
          ],
          "surface": [
           {
            "colorbar": {
             "outlinewidth": 0,
             "ticks": ""
            },
            "colorscale": [
             [
              0,
              "#0d0887"
             ],
             [
              0.1111111111111111,
              "#46039f"
             ],
             [
              0.2222222222222222,
              "#7201a8"
             ],
             [
              0.3333333333333333,
              "#9c179e"
             ],
             [
              0.4444444444444444,
              "#bd3786"
             ],
             [
              0.5555555555555556,
              "#d8576b"
             ],
             [
              0.6666666666666666,
              "#ed7953"
             ],
             [
              0.7777777777777778,
              "#fb9f3a"
             ],
             [
              0.8888888888888888,
              "#fdca26"
             ],
             [
              1,
              "#f0f921"
             ]
            ],
            "type": "surface"
           }
          ],
          "table": [
           {
            "cells": {
             "fill": {
              "color": "#EBF0F8"
             },
             "line": {
              "color": "white"
             }
            },
            "header": {
             "fill": {
              "color": "#C8D4E3"
             },
             "line": {
              "color": "white"
             }
            },
            "type": "table"
           }
          ]
         },
         "layout": {
          "annotationdefaults": {
           "arrowcolor": "#2a3f5f",
           "arrowhead": 0,
           "arrowwidth": 1
          },
          "autotypenumbers": "strict",
          "coloraxis": {
           "colorbar": {
            "outlinewidth": 0,
            "ticks": ""
           }
          },
          "colorscale": {
           "diverging": [
            [
             0,
             "#8e0152"
            ],
            [
             0.1,
             "#c51b7d"
            ],
            [
             0.2,
             "#de77ae"
            ],
            [
             0.3,
             "#f1b6da"
            ],
            [
             0.4,
             "#fde0ef"
            ],
            [
             0.5,
             "#f7f7f7"
            ],
            [
             0.6,
             "#e6f5d0"
            ],
            [
             0.7,
             "#b8e186"
            ],
            [
             0.8,
             "#7fbc41"
            ],
            [
             0.9,
             "#4d9221"
            ],
            [
             1,
             "#276419"
            ]
           ],
           "sequential": [
            [
             0,
             "#0d0887"
            ],
            [
             0.1111111111111111,
             "#46039f"
            ],
            [
             0.2222222222222222,
             "#7201a8"
            ],
            [
             0.3333333333333333,
             "#9c179e"
            ],
            [
             0.4444444444444444,
             "#bd3786"
            ],
            [
             0.5555555555555556,
             "#d8576b"
            ],
            [
             0.6666666666666666,
             "#ed7953"
            ],
            [
             0.7777777777777778,
             "#fb9f3a"
            ],
            [
             0.8888888888888888,
             "#fdca26"
            ],
            [
             1,
             "#f0f921"
            ]
           ],
           "sequentialminus": [
            [
             0,
             "#0d0887"
            ],
            [
             0.1111111111111111,
             "#46039f"
            ],
            [
             0.2222222222222222,
             "#7201a8"
            ],
            [
             0.3333333333333333,
             "#9c179e"
            ],
            [
             0.4444444444444444,
             "#bd3786"
            ],
            [
             0.5555555555555556,
             "#d8576b"
            ],
            [
             0.6666666666666666,
             "#ed7953"
            ],
            [
             0.7777777777777778,
             "#fb9f3a"
            ],
            [
             0.8888888888888888,
             "#fdca26"
            ],
            [
             1,
             "#f0f921"
            ]
           ]
          },
          "colorway": [
           "#636efa",
           "#EF553B",
           "#00cc96",
           "#ab63fa",
           "#FFA15A",
           "#19d3f3",
           "#FF6692",
           "#B6E880",
           "#FF97FF",
           "#FECB52"
          ],
          "font": {
           "color": "#2a3f5f"
          },
          "geo": {
           "bgcolor": "white",
           "lakecolor": "white",
           "landcolor": "#E5ECF6",
           "showlakes": true,
           "showland": true,
           "subunitcolor": "white"
          },
          "hoverlabel": {
           "align": "left"
          },
          "hovermode": "closest",
          "mapbox": {
           "style": "light"
          },
          "paper_bgcolor": "white",
          "plot_bgcolor": "#E5ECF6",
          "polar": {
           "angularaxis": {
            "gridcolor": "white",
            "linecolor": "white",
            "ticks": ""
           },
           "bgcolor": "#E5ECF6",
           "radialaxis": {
            "gridcolor": "white",
            "linecolor": "white",
            "ticks": ""
           }
          },
          "scene": {
           "xaxis": {
            "backgroundcolor": "#E5ECF6",
            "gridcolor": "white",
            "gridwidth": 2,
            "linecolor": "white",
            "showbackground": true,
            "ticks": "",
            "zerolinecolor": "white"
           },
           "yaxis": {
            "backgroundcolor": "#E5ECF6",
            "gridcolor": "white",
            "gridwidth": 2,
            "linecolor": "white",
            "showbackground": true,
            "ticks": "",
            "zerolinecolor": "white"
           },
           "zaxis": {
            "backgroundcolor": "#E5ECF6",
            "gridcolor": "white",
            "gridwidth": 2,
            "linecolor": "white",
            "showbackground": true,
            "ticks": "",
            "zerolinecolor": "white"
           }
          },
          "shapedefaults": {
           "line": {
            "color": "#2a3f5f"
           }
          },
          "ternary": {
           "aaxis": {
            "gridcolor": "white",
            "linecolor": "white",
            "ticks": ""
           },
           "baxis": {
            "gridcolor": "white",
            "linecolor": "white",
            "ticks": ""
           },
           "bgcolor": "#E5ECF6",
           "caxis": {
            "gridcolor": "white",
            "linecolor": "white",
            "ticks": ""
           }
          },
          "title": {
           "x": 0.05
          },
          "xaxis": {
           "automargin": true,
           "gridcolor": "white",
           "linecolor": "white",
           "ticks": "",
           "title": {
            "standoff": 15
           },
           "zerolinecolor": "white",
           "zerolinewidth": 2
          },
          "yaxis": {
           "automargin": true,
           "gridcolor": "white",
           "linecolor": "white",
           "ticks": "",
           "title": {
            "standoff": 15
           },
           "zerolinecolor": "white",
           "zerolinewidth": 2
          }
         }
        },
        "title": {
         "text": "Hyperparameter Importances"
        },
        "xaxis": {
         "title": {
          "text": "Hyperparameter Importance"
         }
        },
        "yaxis": {
         "title": {
          "text": "Hyperparameter"
         }
        }
       }
      }
     },
     "metadata": {},
     "output_type": "display_data"
    }
   ],
   "source": [
    "optuna.visualization.plot_param_importances(study)"
   ]
  },
  {
   "cell_type": "code",
   "execution_count": 322,
   "metadata": {},
   "outputs": [
    {
     "data": {
      "application/vnd.plotly.v1+json": {
       "config": {
        "plotlyServerURL": "https://plot.ly"
       },
       "data": [
        {
         "marker": {
          "color": [
           0,
           1,
           2,
           3,
           4,
           5,
           6,
           7,
           8,
           9,
           10,
           11,
           12,
           13,
           14,
           15,
           16,
           17,
           18,
           19,
           20,
           21,
           22,
           23,
           24,
           25,
           26,
           27,
           28,
           29,
           30,
           31,
           32,
           33,
           34,
           35,
           36,
           37,
           38,
           39,
           40,
           41,
           42,
           43,
           44,
           45,
           46
          ],
          "colorbar": {
           "title": {
            "text": "Trial"
           },
           "x": 1,
           "xpad": 40
          },
          "colorscale": [
           [
            0,
            "rgb(247,251,255)"
           ],
           [
            0.125,
            "rgb(222,235,247)"
           ],
           [
            0.25,
            "rgb(198,219,239)"
           ],
           [
            0.375,
            "rgb(158,202,225)"
           ],
           [
            0.5,
            "rgb(107,174,214)"
           ],
           [
            0.625,
            "rgb(66,146,198)"
           ],
           [
            0.75,
            "rgb(33,113,181)"
           ],
           [
            0.875,
            "rgb(8,81,156)"
           ],
           [
            1,
            "rgb(8,48,107)"
           ]
          ],
          "line": {
           "color": "Grey",
           "width": 0.5
          },
          "showscale": true
         },
         "mode": "markers",
         "name": "Feasible Trial",
         "showlegend": false,
         "type": "scatter",
         "x": [
          0.8562605771232368,
          0.14317175835432017,
          1.5485960900728746,
          3.5304452948199594,
          8.12646063171448,
          4.871183039219664,
          5.688922209468403,
          7.936411381319508,
          4.585765753679974,
          9.04596823340144,
          8.600527221105564,
          2.4361745967660826,
          6.203755184989044,
          6.648682180874088,
          6.707953202893312,
          6.331942260952983,
          6.372836296409095,
          9.837230070635915,
          7.35302233816705,
          7.3112414569725335,
          3.480756049224664,
          5.289759942828182,
          6.55197596009441,
          6.850719088724031,
          4.254627811376013,
          4.0304884076585,
          3.8089420135891707,
          5.588425055673353,
          5.697832205247829,
          4.646073557530743,
          2.6576684492727143,
          2.3744035208828054,
          5.704191420673182,
          5.71699029425108,
          4.3225837250296655,
          5.2243093794114825,
          5.23734254570437,
          1.5315502442491082,
          3.3214428888264074,
          0.11018233248124343,
          7.475274975091385,
          7.436054158548707,
          7.66113914929627,
          8.07771828595368,
          7.8413929206547355,
          9.098565101627763,
          8.668194764453746
         ],
         "xaxis": "x",
         "y": [
          0.7715835125567307,
          0.7660075411468837,
          0.7695980822331504,
          0.7706673470629692,
          0.7670657468527105,
          0.7678170186119733,
          0.7666443253464931,
          0.7641346643774045,
          0.7663974066170978,
          0.7709007261913703,
          0.7672961673576923,
          0.7533425628444512,
          0.7744352046686832,
          0.7742778429012678,
          0.7731742322044186,
          0.7722473997132346,
          0.7684139174738644,
          0.7626597316079962,
          0.766532721393554,
          0.7657666261763634,
          0.7697899842038893,
          0.7662796134735949,
          0.7729102858366257,
          0.7735738447445778,
          0.7743539649459135,
          0.772791942689824,
          0.7732496555043552,
          0.7736803782965666,
          0.7716882322908178,
          0.7702648463912147,
          0.7710830810425016,
          0.7721982744979375,
          0.7720327781832701,
          0.770585316553043,
          0.7697248265741177,
          0.7688887406426211,
          0.7702810756269665,
          0.7655323088758027,
          0.7714311916540486,
          0.7671151157405984,
          0.7749059069146036,
          0.7679302270116493,
          0.7740356290927757,
          0.7735145128642589,
          0.773427022480025,
          0.773913545909122,
          0.7724646677863215
         ],
         "yaxis": "y"
        },
        {
         "marker": {
          "color": [
           0,
           1,
           2,
           3,
           4,
           5,
           6,
           7,
           8,
           9,
           10,
           11,
           12,
           13,
           14,
           15,
           16,
           17,
           18,
           19,
           20,
           21,
           22,
           23,
           24,
           25,
           26,
           27,
           28,
           29,
           30,
           31,
           32,
           33,
           34,
           35,
           36,
           37,
           38,
           39,
           40,
           41,
           42,
           43,
           44,
           45,
           46
          ],
          "colorbar": {
           "title": {
            "text": "Trial"
           },
           "x": 1,
           "xpad": 40
          },
          "colorscale": [
           [
            0,
            "rgb(247,251,255)"
           ],
           [
            0.125,
            "rgb(222,235,247)"
           ],
           [
            0.25,
            "rgb(198,219,239)"
           ],
           [
            0.375,
            "rgb(158,202,225)"
           ],
           [
            0.5,
            "rgb(107,174,214)"
           ],
           [
            0.625,
            "rgb(66,146,198)"
           ],
           [
            0.75,
            "rgb(33,113,181)"
           ],
           [
            0.875,
            "rgb(8,81,156)"
           ],
           [
            1,
            "rgb(8,48,107)"
           ]
          ],
          "line": {
           "color": "Grey",
           "width": 0.5
          },
          "showscale": false
         },
         "mode": "markers",
         "name": "Feasible Trial",
         "showlegend": false,
         "type": "scatter",
         "x": [
          0.6900636170680047,
          0.32565946999636786,
          0.859924745450624,
          0.3192468266015552,
          0.6399839098836015,
          0.7209420512183717,
          0.11499739035014694,
          0.7048226547622212,
          0.4421923817093246,
          0.9356525694457656,
          0.8220474173158568,
          0.4992056455119279,
          0.860793412432114,
          0.9968473345607313,
          0.9525687801764873,
          0.9179120012082409,
          0.9827096650288261,
          0.9886669555748209,
          0.7944583168172799,
          0.7810825020382289,
          0.5974954346619707,
          0.5862615641444846,
          0.887368911076325,
          0.887736228212416,
          0.9956172732916619,
          0.9996903533357709,
          0.9815028441737326,
          0.8381161838958605,
          0.8333116314407197,
          0.7548383802376306,
          0.7347259790575197,
          0.6602006038230267,
          0.9105597279205948,
          0.9069602038048028,
          0.8274582580410774,
          0.8660260282970951,
          0.8595691141325935,
          0.32532485924942445,
          0.2788080371438885,
          0.9461591439290092,
          0.947414452225953,
          0.6625983851726942,
          0.9468221983419347,
          0.9497713956259756,
          0.9570862065432101,
          0.9542043379899657,
          0.18006917872983125
         ],
         "xaxis": "x2",
         "y": [
          0.7715835125567307,
          0.7660075411468837,
          0.7695980822331504,
          0.7706673470629692,
          0.7670657468527105,
          0.7678170186119733,
          0.7666443253464931,
          0.7641346643774045,
          0.7663974066170978,
          0.7709007261913703,
          0.7672961673576923,
          0.7533425628444512,
          0.7744352046686832,
          0.7742778429012678,
          0.7731742322044186,
          0.7722473997132346,
          0.7684139174738644,
          0.7626597316079962,
          0.766532721393554,
          0.7657666261763634,
          0.7697899842038893,
          0.7662796134735949,
          0.7729102858366257,
          0.7735738447445778,
          0.7743539649459135,
          0.772791942689824,
          0.7732496555043552,
          0.7736803782965666,
          0.7716882322908178,
          0.7702648463912147,
          0.7710830810425016,
          0.7721982744979375,
          0.7720327781832701,
          0.770585316553043,
          0.7697248265741177,
          0.7688887406426211,
          0.7702810756269665,
          0.7655323088758027,
          0.7714311916540486,
          0.7671151157405984,
          0.7749059069146036,
          0.7679302270116493,
          0.7740356290927757,
          0.7735145128642589,
          0.773427022480025,
          0.773913545909122,
          0.7724646677863215
         ],
         "yaxis": "y2"
        },
        {
         "marker": {
          "color": [
           0,
           1,
           2,
           3,
           4,
           5,
           6,
           7,
           8,
           9,
           10,
           11,
           12,
           13,
           14,
           15,
           16,
           17,
           18,
           19,
           20,
           21,
           22,
           23,
           24,
           25,
           26,
           27,
           28,
           29,
           30,
           31,
           32,
           33,
           34,
           35,
           36,
           37,
           38,
           39,
           40,
           41,
           42,
           43,
           44,
           45,
           46
          ],
          "colorbar": {
           "title": {
            "text": "Trial"
           },
           "x": 1,
           "xpad": 40
          },
          "colorscale": [
           [
            0,
            "rgb(247,251,255)"
           ],
           [
            0.125,
            "rgb(222,235,247)"
           ],
           [
            0.25,
            "rgb(198,219,239)"
           ],
           [
            0.375,
            "rgb(158,202,225)"
           ],
           [
            0.5,
            "rgb(107,174,214)"
           ],
           [
            0.625,
            "rgb(66,146,198)"
           ],
           [
            0.75,
            "rgb(33,113,181)"
           ],
           [
            0.875,
            "rgb(8,81,156)"
           ],
           [
            1,
            "rgb(8,48,107)"
           ]
          ],
          "line": {
           "color": "Grey",
           "width": 0.5
          },
          "showscale": false
         },
         "mode": "markers",
         "name": "Feasible Trial",
         "showlegend": false,
         "type": "scatter",
         "x": [
          1.9327842845819898,
          9.091650267850783,
          2.9192431986859093,
          9.005900919629157,
          4.312707951692,
          7.552454112774588,
          8.443824699102608,
          4.112607264481856,
          3.53167559192984,
          2.7147209773984056,
          4.95540831629716,
          1.1728705815551854,
          1.1711330925707302,
          1.3063077975155517,
          1.3035535360227555,
          6.465693066118695,
          6.786105129743226,
          5.995568022362324,
          2.3614628707256826,
          2.1726955168816096,
          1.0018860756833228,
          5.148311878865307,
          1.560951728478499,
          1.516987881900382,
          3.2576134218242414,
          3.2667607288653806,
          3.3136487264517505,
          3.8432287015992364,
          4.327036349910171,
          2.0225697926749446,
          2.0487290316375173,
          2.567047976071365,
          3.8973386436359108,
          3.65600649985511,
          4.741570518262324,
          2.845035230825051,
          3.0121528560532207,
          5.702984474674886,
          1.7834830406896898,
          1.705974942986684,
          4.6216217561170625,
          4.633494009560961,
          4.402406390938057,
          5.376764167212554,
          5.541553660462125,
          9.783482357941715,
          4.375120656012683
         ],
         "xaxis": "x3",
         "y": [
          0.7715835125567307,
          0.7660075411468837,
          0.7695980822331504,
          0.7706673470629692,
          0.7670657468527105,
          0.7678170186119733,
          0.7666443253464931,
          0.7641346643774045,
          0.7663974066170978,
          0.7709007261913703,
          0.7672961673576923,
          0.7533425628444512,
          0.7744352046686832,
          0.7742778429012678,
          0.7731742322044186,
          0.7722473997132346,
          0.7684139174738644,
          0.7626597316079962,
          0.766532721393554,
          0.7657666261763634,
          0.7697899842038893,
          0.7662796134735949,
          0.7729102858366257,
          0.7735738447445778,
          0.7743539649459135,
          0.772791942689824,
          0.7732496555043552,
          0.7736803782965666,
          0.7716882322908178,
          0.7702648463912147,
          0.7710830810425016,
          0.7721982744979375,
          0.7720327781832701,
          0.770585316553043,
          0.7697248265741177,
          0.7688887406426211,
          0.7702810756269665,
          0.7655323088758027,
          0.7714311916540486,
          0.7671151157405984,
          0.7749059069146036,
          0.7679302270116493,
          0.7740356290927757,
          0.7735145128642589,
          0.773427022480025,
          0.773913545909122,
          0.7724646677863215
         ],
         "yaxis": "y3"
        },
        {
         "marker": {
          "color": [
           0,
           1,
           2,
           3,
           4,
           5,
           6,
           7,
           8,
           9,
           10,
           11,
           12,
           13,
           14,
           15,
           16,
           17,
           18,
           19,
           20,
           21,
           22,
           23,
           24,
           25,
           26,
           27,
           28,
           29,
           30,
           31,
           32,
           33,
           34,
           35,
           36,
           37,
           38,
           39,
           40,
           41,
           42,
           43,
           44,
           45,
           46
          ],
          "colorbar": {
           "title": {
            "text": "Trial"
           },
           "x": 1,
           "xpad": 40
          },
          "colorscale": [
           [
            0,
            "rgb(247,251,255)"
           ],
           [
            0.125,
            "rgb(222,235,247)"
           ],
           [
            0.25,
            "rgb(198,219,239)"
           ],
           [
            0.375,
            "rgb(158,202,225)"
           ],
           [
            0.5,
            "rgb(107,174,214)"
           ],
           [
            0.625,
            "rgb(66,146,198)"
           ],
           [
            0.75,
            "rgb(33,113,181)"
           ],
           [
            0.875,
            "rgb(8,81,156)"
           ],
           [
            1,
            "rgb(8,48,107)"
           ]
          ],
          "line": {
           "color": "Grey",
           "width": 0.5
          },
          "showscale": false
         },
         "mode": "markers",
         "name": "Feasible Trial",
         "showlegend": false,
         "type": "scatter",
         "x": [
          0.07149592155798228,
          0.16694578071114452,
          0.016782292336823997,
          0.04571621946555699,
          0.15676204006650526,
          0.1464085009978784,
          0.04246768893755474,
          0.143314043812002,
          0.018898781163891532,
          0.06291884490936688,
          0.17179951898583473,
          0.0962308922365629,
          0.08938978558443728,
          0.08138287699957211,
          0.09980608506989205,
          0.11220429080373259,
          0.12178994712175913,
          0.19550455872827183,
          0.08096433493689761,
          0.09505100070366063,
          0.12854423095341086,
          0.12790132003763907,
          0.08839753979860962,
          0.08353914403426217,
          0.05850827053871567,
          0.05554160145395229,
          0.05238684631147765,
          0.03375646478061081,
          0.032813368639964834,
          0.07423082212449351,
          0.06719352890783184,
          0.06253808356536121,
          0.03649109678946542,
          0.02836037485317596,
          0.031424149194089264,
          0.022869143654936815,
          0.10976730834012466,
          0.014491856171052999,
          0.04466338221677669,
          0.04685382637183094,
          0.0742308762639045,
          0.07600279891873708,
          0.07189256234274938,
          0.06116166706812199,
          0.08703469398778141,
          0.09191773016399392,
          0.07617963673073853
         ],
         "xaxis": "x4",
         "y": [
          0.7715835125567307,
          0.7660075411468837,
          0.7695980822331504,
          0.7706673470629692,
          0.7670657468527105,
          0.7678170186119733,
          0.7666443253464931,
          0.7641346643774045,
          0.7663974066170978,
          0.7709007261913703,
          0.7672961673576923,
          0.7533425628444512,
          0.7744352046686832,
          0.7742778429012678,
          0.7731742322044186,
          0.7722473997132346,
          0.7684139174738644,
          0.7626597316079962,
          0.766532721393554,
          0.7657666261763634,
          0.7697899842038893,
          0.7662796134735949,
          0.7729102858366257,
          0.7735738447445778,
          0.7743539649459135,
          0.772791942689824,
          0.7732496555043552,
          0.7736803782965666,
          0.7716882322908178,
          0.7702648463912147,
          0.7710830810425016,
          0.7721982744979375,
          0.7720327781832701,
          0.770585316553043,
          0.7697248265741177,
          0.7688887406426211,
          0.7702810756269665,
          0.7655323088758027,
          0.7714311916540486,
          0.7671151157405984,
          0.7749059069146036,
          0.7679302270116493,
          0.7740356290927757,
          0.7735145128642589,
          0.773427022480025,
          0.773913545909122,
          0.7724646677863215
         ],
         "yaxis": "y4"
        },
        {
         "marker": {
          "color": [
           0,
           1,
           2,
           3,
           4,
           5,
           6,
           7,
           8,
           9,
           10,
           11,
           12,
           13,
           14,
           15,
           16,
           17,
           18,
           19,
           20,
           21,
           22,
           23,
           24,
           25,
           26,
           27,
           28,
           29,
           30,
           31,
           32,
           33,
           34,
           35,
           36,
           37,
           38,
           39,
           40,
           41,
           42,
           43,
           44,
           45,
           46
          ],
          "colorbar": {
           "title": {
            "text": "Trial"
           },
           "x": 1,
           "xpad": 40
          },
          "colorscale": [
           [
            0,
            "rgb(247,251,255)"
           ],
           [
            0.125,
            "rgb(222,235,247)"
           ],
           [
            0.25,
            "rgb(198,219,239)"
           ],
           [
            0.375,
            "rgb(158,202,225)"
           ],
           [
            0.5,
            "rgb(107,174,214)"
           ],
           [
            0.625,
            "rgb(66,146,198)"
           ],
           [
            0.75,
            "rgb(33,113,181)"
           ],
           [
            0.875,
            "rgb(8,81,156)"
           ],
           [
            1,
            "rgb(8,48,107)"
           ]
          ],
          "line": {
           "color": "Grey",
           "width": 0.5
          },
          "showscale": false
         },
         "mode": "markers",
         "name": "Feasible Trial",
         "showlegend": false,
         "type": "scatter",
         "x": [
          4,
          4,
          10,
          7,
          9,
          5,
          8,
          10,
          6,
          4,
          6,
          5,
          4,
          4,
          4,
          5,
          6,
          6,
          7,
          7,
          5,
          5,
          4,
          4,
          4,
          4,
          5,
          5,
          5,
          8,
          8,
          4,
          4,
          4,
          4,
          5,
          5,
          5,
          4,
          4,
          6,
          6,
          6,
          6,
          7,
          7,
          9
         ],
         "xaxis": "x5",
         "y": [
          0.7715835125567307,
          0.7660075411468837,
          0.7695980822331504,
          0.7706673470629692,
          0.7670657468527105,
          0.7678170186119733,
          0.7666443253464931,
          0.7641346643774045,
          0.7663974066170978,
          0.7709007261913703,
          0.7672961673576923,
          0.7533425628444512,
          0.7744352046686832,
          0.7742778429012678,
          0.7731742322044186,
          0.7722473997132346,
          0.7684139174738644,
          0.7626597316079962,
          0.766532721393554,
          0.7657666261763634,
          0.7697899842038893,
          0.7662796134735949,
          0.7729102858366257,
          0.7735738447445778,
          0.7743539649459135,
          0.772791942689824,
          0.7732496555043552,
          0.7736803782965666,
          0.7716882322908178,
          0.7702648463912147,
          0.7710830810425016,
          0.7721982744979375,
          0.7720327781832701,
          0.770585316553043,
          0.7697248265741177,
          0.7688887406426211,
          0.7702810756269665,
          0.7655323088758027,
          0.7714311916540486,
          0.7671151157405984,
          0.7749059069146036,
          0.7679302270116493,
          0.7740356290927757,
          0.7735145128642589,
          0.773427022480025,
          0.773913545909122,
          0.7724646677863215
         ],
         "yaxis": "y5"
        },
        {
         "marker": {
          "color": [
           0,
           1,
           2,
           3,
           4,
           5,
           6,
           7,
           8,
           9,
           10,
           11,
           12,
           13,
           14,
           15,
           16,
           17,
           18,
           19,
           20,
           21,
           22,
           23,
           24,
           25,
           26,
           27,
           28,
           29,
           30,
           31,
           32,
           33,
           34,
           35,
           36,
           37,
           38,
           39,
           40,
           41,
           42,
           43,
           44,
           45,
           46
          ],
          "colorbar": {
           "title": {
            "text": "Trial"
           },
           "x": 1,
           "xpad": 40
          },
          "colorscale": [
           [
            0,
            "rgb(247,251,255)"
           ],
           [
            0.125,
            "rgb(222,235,247)"
           ],
           [
            0.25,
            "rgb(198,219,239)"
           ],
           [
            0.375,
            "rgb(158,202,225)"
           ],
           [
            0.5,
            "rgb(107,174,214)"
           ],
           [
            0.625,
            "rgb(66,146,198)"
           ],
           [
            0.75,
            "rgb(33,113,181)"
           ],
           [
            0.875,
            "rgb(8,81,156)"
           ],
           [
            1,
            "rgb(8,48,107)"
           ]
          ],
          "line": {
           "color": "Grey",
           "width": 0.5
          },
          "showscale": false
         },
         "mode": "markers",
         "name": "Feasible Trial",
         "showlegend": false,
         "type": "scatter",
         "x": [
          3,
          8,
          12,
          20,
          4,
          7,
          20,
          6,
          1,
          10,
          2,
          14,
          15,
          13,
          15,
          16,
          16,
          17,
          12,
          12,
          18,
          18,
          14,
          14,
          14,
          10,
          10,
          13,
          13,
          8,
          8,
          17,
          11,
          11,
          13,
          15,
          15,
          13,
          13,
          18,
          19,
          19,
          19,
          20,
          19,
          19,
          16
         ],
         "xaxis": "x6",
         "y": [
          0.7715835125567307,
          0.7660075411468837,
          0.7695980822331504,
          0.7706673470629692,
          0.7670657468527105,
          0.7678170186119733,
          0.7666443253464931,
          0.7641346643774045,
          0.7663974066170978,
          0.7709007261913703,
          0.7672961673576923,
          0.7533425628444512,
          0.7744352046686832,
          0.7742778429012678,
          0.7731742322044186,
          0.7722473997132346,
          0.7684139174738644,
          0.7626597316079962,
          0.766532721393554,
          0.7657666261763634,
          0.7697899842038893,
          0.7662796134735949,
          0.7729102858366257,
          0.7735738447445778,
          0.7743539649459135,
          0.772791942689824,
          0.7732496555043552,
          0.7736803782965666,
          0.7716882322908178,
          0.7702648463912147,
          0.7710830810425016,
          0.7721982744979375,
          0.7720327781832701,
          0.770585316553043,
          0.7697248265741177,
          0.7688887406426211,
          0.7702810756269665,
          0.7655323088758027,
          0.7714311916540486,
          0.7671151157405984,
          0.7749059069146036,
          0.7679302270116493,
          0.7740356290927757,
          0.7735145128642589,
          0.773427022480025,
          0.773913545909122,
          0.7724646677863215
         ],
         "yaxis": "y6"
        },
        {
         "marker": {
          "color": [
           0,
           1,
           2,
           3,
           4,
           5,
           6,
           7,
           8,
           9,
           10,
           11,
           12,
           13,
           14,
           15,
           16,
           17,
           18,
           19,
           20,
           21,
           22,
           23,
           24,
           25,
           26,
           27,
           28,
           29,
           30,
           31,
           32,
           33,
           34,
           35,
           36,
           37,
           38,
           39,
           40,
           41,
           42,
           43,
           44,
           45,
           46
          ],
          "colorbar": {
           "title": {
            "text": "Trial"
           },
           "x": 1,
           "xpad": 40
          },
          "colorscale": [
           [
            0,
            "rgb(247,251,255)"
           ],
           [
            0.125,
            "rgb(222,235,247)"
           ],
           [
            0.25,
            "rgb(198,219,239)"
           ],
           [
            0.375,
            "rgb(158,202,225)"
           ],
           [
            0.5,
            "rgb(107,174,214)"
           ],
           [
            0.625,
            "rgb(66,146,198)"
           ],
           [
            0.75,
            "rgb(33,113,181)"
           ],
           [
            0.875,
            "rgb(8,81,156)"
           ],
           [
            1,
            "rgb(8,48,107)"
           ]
          ],
          "line": {
           "color": "Grey",
           "width": 0.5
          },
          "showscale": false
         },
         "mode": "markers",
         "name": "Feasible Trial",
         "showlegend": false,
         "type": "scatter",
         "x": [
          692,
          343,
          489,
          710,
          746,
          474,
          533,
          412,
          724,
          585,
          582,
          260,
          609,
          618,
          644,
          631,
          639,
          632,
          553,
          548,
          431,
          434,
          651,
          668,
          592,
          678,
          593,
          598,
          516,
          614,
          606,
          692,
          565,
          569,
          524,
          482,
          468,
          611,
          711,
          717,
          745,
          750,
          746,
          667,
          739,
          733,
          696
         ],
         "xaxis": "x7",
         "y": [
          0.7715835125567307,
          0.7660075411468837,
          0.7695980822331504,
          0.7706673470629692,
          0.7670657468527105,
          0.7678170186119733,
          0.7666443253464931,
          0.7641346643774045,
          0.7663974066170978,
          0.7709007261913703,
          0.7672961673576923,
          0.7533425628444512,
          0.7744352046686832,
          0.7742778429012678,
          0.7731742322044186,
          0.7722473997132346,
          0.7684139174738644,
          0.7626597316079962,
          0.766532721393554,
          0.7657666261763634,
          0.7697899842038893,
          0.7662796134735949,
          0.7729102858366257,
          0.7735738447445778,
          0.7743539649459135,
          0.772791942689824,
          0.7732496555043552,
          0.7736803782965666,
          0.7716882322908178,
          0.7702648463912147,
          0.7710830810425016,
          0.7721982744979375,
          0.7720327781832701,
          0.770585316553043,
          0.7697248265741177,
          0.7688887406426211,
          0.7702810756269665,
          0.7655323088758027,
          0.7714311916540486,
          0.7671151157405984,
          0.7749059069146036,
          0.7679302270116493,
          0.7740356290927757,
          0.7735145128642589,
          0.773427022480025,
          0.773913545909122,
          0.7724646677863215
         ],
         "yaxis": "y7"
        },
        {
         "marker": {
          "color": [
           0,
           1,
           2,
           3,
           4,
           5,
           6,
           7,
           8,
           9,
           10,
           11,
           12,
           13,
           14,
           15,
           16,
           17,
           18,
           19,
           20,
           21,
           22,
           23,
           24,
           25,
           26,
           27,
           28,
           29,
           30,
           31,
           32,
           33,
           34,
           35,
           36,
           37,
           38,
           39,
           40,
           41,
           42,
           43,
           44,
           45,
           46
          ],
          "colorbar": {
           "title": {
            "text": "Trial"
           },
           "x": 1,
           "xpad": 40
          },
          "colorscale": [
           [
            0,
            "rgb(247,251,255)"
           ],
           [
            0.125,
            "rgb(222,235,247)"
           ],
           [
            0.25,
            "rgb(198,219,239)"
           ],
           [
            0.375,
            "rgb(158,202,225)"
           ],
           [
            0.5,
            "rgb(107,174,214)"
           ],
           [
            0.625,
            "rgb(66,146,198)"
           ],
           [
            0.75,
            "rgb(33,113,181)"
           ],
           [
            0.875,
            "rgb(8,81,156)"
           ],
           [
            1,
            "rgb(8,48,107)"
           ]
          ],
          "line": {
           "color": "Grey",
           "width": 0.5
          },
          "showscale": false
         },
         "mode": "markers",
         "name": "Feasible Trial",
         "showlegend": false,
         "type": "scatter",
         "x": [
          1.0209428249767538,
          5.968057208701028,
          2.942987616535052,
          5.955364702282189,
          1.2897833736534037,
          4.371525990149763,
          7.6493261571127364,
          3.4955070017351653,
          3.687841540986645,
          2.5589328327537686,
          1.8838247486269153,
          9.79198283619963,
          1.040328458531496,
          1.0225016418201125,
          1.3810761757735321,
          2.16305521845645,
          4.701765193905982,
          4.972703948468342,
          7.353099826183892,
          6.921600951191102,
          3.110544830477812,
          8.66131802039042,
          1.7670871897938172,
          1.6026631158052131,
          1.05406072279073,
          2.3116878188674352,
          2.239702127184936,
          1.0119912471994168,
          1.1639711539566457,
          3.8094324441259397,
          3.936193802482339,
          2.809789310840877,
          1.0430931944470694,
          1.0251786931128446,
          1.810458858437923,
          1.0690739028958254,
          3.152187624810982,
          1.5694923606462305,
          2.583017487495156,
          5.696848528660989,
          1.8815865028306162,
          6.312135943947402,
          1.9815370306455184,
          1.9676072781270684,
          2.163526176657966,
          1.5921606309931282,
          1.50275885266355
         ],
         "xaxis": "x8",
         "y": [
          0.7715835125567307,
          0.7660075411468837,
          0.7695980822331504,
          0.7706673470629692,
          0.7670657468527105,
          0.7678170186119733,
          0.7666443253464931,
          0.7641346643774045,
          0.7663974066170978,
          0.7709007261913703,
          0.7672961673576923,
          0.7533425628444512,
          0.7744352046686832,
          0.7742778429012678,
          0.7731742322044186,
          0.7722473997132346,
          0.7684139174738644,
          0.7626597316079962,
          0.766532721393554,
          0.7657666261763634,
          0.7697899842038893,
          0.7662796134735949,
          0.7729102858366257,
          0.7735738447445778,
          0.7743539649459135,
          0.772791942689824,
          0.7732496555043552,
          0.7736803782965666,
          0.7716882322908178,
          0.7702648463912147,
          0.7710830810425016,
          0.7721982744979375,
          0.7720327781832701,
          0.770585316553043,
          0.7697248265741177,
          0.7688887406426211,
          0.7702810756269665,
          0.7655323088758027,
          0.7714311916540486,
          0.7671151157405984,
          0.7749059069146036,
          0.7679302270116493,
          0.7740356290927757,
          0.7735145128642589,
          0.773427022480025,
          0.773913545909122,
          0.7724646677863215
         ],
         "yaxis": "y8"
        },
        {
         "marker": {
          "color": [
           0,
           1,
           2,
           3,
           4,
           5,
           6,
           7,
           8,
           9,
           10,
           11,
           12,
           13,
           14,
           15,
           16,
           17,
           18,
           19,
           20,
           21,
           22,
           23,
           24,
           25,
           26,
           27,
           28,
           29,
           30,
           31,
           32,
           33,
           34,
           35,
           36,
           37,
           38,
           39,
           40,
           41,
           42,
           43,
           44,
           45,
           46
          ],
          "colorbar": {
           "title": {
            "text": "Trial"
           },
           "x": 1,
           "xpad": 40
          },
          "colorscale": [
           [
            0,
            "rgb(247,251,255)"
           ],
           [
            0.125,
            "rgb(222,235,247)"
           ],
           [
            0.25,
            "rgb(198,219,239)"
           ],
           [
            0.375,
            "rgb(158,202,225)"
           ],
           [
            0.5,
            "rgb(107,174,214)"
           ],
           [
            0.625,
            "rgb(66,146,198)"
           ],
           [
            0.75,
            "rgb(33,113,181)"
           ],
           [
            0.875,
            "rgb(8,81,156)"
           ],
           [
            1,
            "rgb(8,48,107)"
           ]
          ],
          "line": {
           "color": "Grey",
           "width": 0.5
          },
          "showscale": false
         },
         "mode": "markers",
         "name": "Feasible Trial",
         "showlegend": false,
         "type": "scatter",
         "x": [
          0.14279896290053273,
          0.30789006744307185,
          0.7515719426540334,
          0.6818584740976443,
          0.611741999130411,
          0.718697865239201,
          0.32425553922505956,
          0.30730684920442947,
          0.31256982055016036,
          0.7535395390613133,
          0.8540702117046685,
          0.10263344065300585,
          0.9947631825910634,
          0.9976307393538981,
          0.9003938509810375,
          0.9984006073491208,
          0.9546786884127565,
          0.9880701598449606,
          0.5017291795981618,
          0.4754314696155143,
          0.8428101795911693,
          0.8393997059362669,
          0.887059605436004,
          0.90431772317945,
          0.9114261176020563,
          0.9474585548829044,
          0.7879233561393719,
          0.7872339721866168,
          0.6345042182338387,
          0.8067457143360204,
          0.9192551330088867,
          0.9323581466766547,
          0.9947655914013249,
          0.9974143755472743,
          0.8591691738827362,
          0.9482970047688271,
          0.6774096498840179,
          0.8080308342643681,
          0.7857894070866792,
          0.7474256585461727,
          0.55386144810891,
          0.5625426601150213,
          0.4017755077152364,
          0.36969588234910544,
          0.4022956507994355,
          0.44917783226340674,
          0.1966499664068196
         ],
         "xaxis": "x9",
         "y": [
          0.7715835125567307,
          0.7660075411468837,
          0.7695980822331504,
          0.7706673470629692,
          0.7670657468527105,
          0.7678170186119733,
          0.7666443253464931,
          0.7641346643774045,
          0.7663974066170978,
          0.7709007261913703,
          0.7672961673576923,
          0.7533425628444512,
          0.7744352046686832,
          0.7742778429012678,
          0.7731742322044186,
          0.7722473997132346,
          0.7684139174738644,
          0.7626597316079962,
          0.766532721393554,
          0.7657666261763634,
          0.7697899842038893,
          0.7662796134735949,
          0.7729102858366257,
          0.7735738447445778,
          0.7743539649459135,
          0.772791942689824,
          0.7732496555043552,
          0.7736803782965666,
          0.7716882322908178,
          0.7702648463912147,
          0.7710830810425016,
          0.7721982744979375,
          0.7720327781832701,
          0.770585316553043,
          0.7697248265741177,
          0.7688887406426211,
          0.7702810756269665,
          0.7655323088758027,
          0.7714311916540486,
          0.7671151157405984,
          0.7749059069146036,
          0.7679302270116493,
          0.7740356290927757,
          0.7735145128642589,
          0.773427022480025,
          0.773913545909122,
          0.7724646677863215
         ],
         "yaxis": "y9"
        }
       ],
       "layout": {
        "template": {
         "data": {
          "bar": [
           {
            "error_x": {
             "color": "#2a3f5f"
            },
            "error_y": {
             "color": "#2a3f5f"
            },
            "marker": {
             "line": {
              "color": "#E5ECF6",
              "width": 0.5
             },
             "pattern": {
              "fillmode": "overlay",
              "size": 10,
              "solidity": 0.2
             }
            },
            "type": "bar"
           }
          ],
          "barpolar": [
           {
            "marker": {
             "line": {
              "color": "#E5ECF6",
              "width": 0.5
             },
             "pattern": {
              "fillmode": "overlay",
              "size": 10,
              "solidity": 0.2
             }
            },
            "type": "barpolar"
           }
          ],
          "carpet": [
           {
            "aaxis": {
             "endlinecolor": "#2a3f5f",
             "gridcolor": "white",
             "linecolor": "white",
             "minorgridcolor": "white",
             "startlinecolor": "#2a3f5f"
            },
            "baxis": {
             "endlinecolor": "#2a3f5f",
             "gridcolor": "white",
             "linecolor": "white",
             "minorgridcolor": "white",
             "startlinecolor": "#2a3f5f"
            },
            "type": "carpet"
           }
          ],
          "choropleth": [
           {
            "colorbar": {
             "outlinewidth": 0,
             "ticks": ""
            },
            "type": "choropleth"
           }
          ],
          "contour": [
           {
            "colorbar": {
             "outlinewidth": 0,
             "ticks": ""
            },
            "colorscale": [
             [
              0,
              "#0d0887"
             ],
             [
              0.1111111111111111,
              "#46039f"
             ],
             [
              0.2222222222222222,
              "#7201a8"
             ],
             [
              0.3333333333333333,
              "#9c179e"
             ],
             [
              0.4444444444444444,
              "#bd3786"
             ],
             [
              0.5555555555555556,
              "#d8576b"
             ],
             [
              0.6666666666666666,
              "#ed7953"
             ],
             [
              0.7777777777777778,
              "#fb9f3a"
             ],
             [
              0.8888888888888888,
              "#fdca26"
             ],
             [
              1,
              "#f0f921"
             ]
            ],
            "type": "contour"
           }
          ],
          "contourcarpet": [
           {
            "colorbar": {
             "outlinewidth": 0,
             "ticks": ""
            },
            "type": "contourcarpet"
           }
          ],
          "heatmap": [
           {
            "colorbar": {
             "outlinewidth": 0,
             "ticks": ""
            },
            "colorscale": [
             [
              0,
              "#0d0887"
             ],
             [
              0.1111111111111111,
              "#46039f"
             ],
             [
              0.2222222222222222,
              "#7201a8"
             ],
             [
              0.3333333333333333,
              "#9c179e"
             ],
             [
              0.4444444444444444,
              "#bd3786"
             ],
             [
              0.5555555555555556,
              "#d8576b"
             ],
             [
              0.6666666666666666,
              "#ed7953"
             ],
             [
              0.7777777777777778,
              "#fb9f3a"
             ],
             [
              0.8888888888888888,
              "#fdca26"
             ],
             [
              1,
              "#f0f921"
             ]
            ],
            "type": "heatmap"
           }
          ],
          "heatmapgl": [
           {
            "colorbar": {
             "outlinewidth": 0,
             "ticks": ""
            },
            "colorscale": [
             [
              0,
              "#0d0887"
             ],
             [
              0.1111111111111111,
              "#46039f"
             ],
             [
              0.2222222222222222,
              "#7201a8"
             ],
             [
              0.3333333333333333,
              "#9c179e"
             ],
             [
              0.4444444444444444,
              "#bd3786"
             ],
             [
              0.5555555555555556,
              "#d8576b"
             ],
             [
              0.6666666666666666,
              "#ed7953"
             ],
             [
              0.7777777777777778,
              "#fb9f3a"
             ],
             [
              0.8888888888888888,
              "#fdca26"
             ],
             [
              1,
              "#f0f921"
             ]
            ],
            "type": "heatmapgl"
           }
          ],
          "histogram": [
           {
            "marker": {
             "pattern": {
              "fillmode": "overlay",
              "size": 10,
              "solidity": 0.2
             }
            },
            "type": "histogram"
           }
          ],
          "histogram2d": [
           {
            "colorbar": {
             "outlinewidth": 0,
             "ticks": ""
            },
            "colorscale": [
             [
              0,
              "#0d0887"
             ],
             [
              0.1111111111111111,
              "#46039f"
             ],
             [
              0.2222222222222222,
              "#7201a8"
             ],
             [
              0.3333333333333333,
              "#9c179e"
             ],
             [
              0.4444444444444444,
              "#bd3786"
             ],
             [
              0.5555555555555556,
              "#d8576b"
             ],
             [
              0.6666666666666666,
              "#ed7953"
             ],
             [
              0.7777777777777778,
              "#fb9f3a"
             ],
             [
              0.8888888888888888,
              "#fdca26"
             ],
             [
              1,
              "#f0f921"
             ]
            ],
            "type": "histogram2d"
           }
          ],
          "histogram2dcontour": [
           {
            "colorbar": {
             "outlinewidth": 0,
             "ticks": ""
            },
            "colorscale": [
             [
              0,
              "#0d0887"
             ],
             [
              0.1111111111111111,
              "#46039f"
             ],
             [
              0.2222222222222222,
              "#7201a8"
             ],
             [
              0.3333333333333333,
              "#9c179e"
             ],
             [
              0.4444444444444444,
              "#bd3786"
             ],
             [
              0.5555555555555556,
              "#d8576b"
             ],
             [
              0.6666666666666666,
              "#ed7953"
             ],
             [
              0.7777777777777778,
              "#fb9f3a"
             ],
             [
              0.8888888888888888,
              "#fdca26"
             ],
             [
              1,
              "#f0f921"
             ]
            ],
            "type": "histogram2dcontour"
           }
          ],
          "mesh3d": [
           {
            "colorbar": {
             "outlinewidth": 0,
             "ticks": ""
            },
            "type": "mesh3d"
           }
          ],
          "parcoords": [
           {
            "line": {
             "colorbar": {
              "outlinewidth": 0,
              "ticks": ""
             }
            },
            "type": "parcoords"
           }
          ],
          "pie": [
           {
            "automargin": true,
            "type": "pie"
           }
          ],
          "scatter": [
           {
            "fillpattern": {
             "fillmode": "overlay",
             "size": 10,
             "solidity": 0.2
            },
            "type": "scatter"
           }
          ],
          "scatter3d": [
           {
            "line": {
             "colorbar": {
              "outlinewidth": 0,
              "ticks": ""
             }
            },
            "marker": {
             "colorbar": {
              "outlinewidth": 0,
              "ticks": ""
             }
            },
            "type": "scatter3d"
           }
          ],
          "scattercarpet": [
           {
            "marker": {
             "colorbar": {
              "outlinewidth": 0,
              "ticks": ""
             }
            },
            "type": "scattercarpet"
           }
          ],
          "scattergeo": [
           {
            "marker": {
             "colorbar": {
              "outlinewidth": 0,
              "ticks": ""
             }
            },
            "type": "scattergeo"
           }
          ],
          "scattergl": [
           {
            "marker": {
             "colorbar": {
              "outlinewidth": 0,
              "ticks": ""
             }
            },
            "type": "scattergl"
           }
          ],
          "scattermapbox": [
           {
            "marker": {
             "colorbar": {
              "outlinewidth": 0,
              "ticks": ""
             }
            },
            "type": "scattermapbox"
           }
          ],
          "scatterpolar": [
           {
            "marker": {
             "colorbar": {
              "outlinewidth": 0,
              "ticks": ""
             }
            },
            "type": "scatterpolar"
           }
          ],
          "scatterpolargl": [
           {
            "marker": {
             "colorbar": {
              "outlinewidth": 0,
              "ticks": ""
             }
            },
            "type": "scatterpolargl"
           }
          ],
          "scatterternary": [
           {
            "marker": {
             "colorbar": {
              "outlinewidth": 0,
              "ticks": ""
             }
            },
            "type": "scatterternary"
           }
          ],
          "surface": [
           {
            "colorbar": {
             "outlinewidth": 0,
             "ticks": ""
            },
            "colorscale": [
             [
              0,
              "#0d0887"
             ],
             [
              0.1111111111111111,
              "#46039f"
             ],
             [
              0.2222222222222222,
              "#7201a8"
             ],
             [
              0.3333333333333333,
              "#9c179e"
             ],
             [
              0.4444444444444444,
              "#bd3786"
             ],
             [
              0.5555555555555556,
              "#d8576b"
             ],
             [
              0.6666666666666666,
              "#ed7953"
             ],
             [
              0.7777777777777778,
              "#fb9f3a"
             ],
             [
              0.8888888888888888,
              "#fdca26"
             ],
             [
              1,
              "#f0f921"
             ]
            ],
            "type": "surface"
           }
          ],
          "table": [
           {
            "cells": {
             "fill": {
              "color": "#EBF0F8"
             },
             "line": {
              "color": "white"
             }
            },
            "header": {
             "fill": {
              "color": "#C8D4E3"
             },
             "line": {
              "color": "white"
             }
            },
            "type": "table"
           }
          ]
         },
         "layout": {
          "annotationdefaults": {
           "arrowcolor": "#2a3f5f",
           "arrowhead": 0,
           "arrowwidth": 1
          },
          "autotypenumbers": "strict",
          "coloraxis": {
           "colorbar": {
            "outlinewidth": 0,
            "ticks": ""
           }
          },
          "colorscale": {
           "diverging": [
            [
             0,
             "#8e0152"
            ],
            [
             0.1,
             "#c51b7d"
            ],
            [
             0.2,
             "#de77ae"
            ],
            [
             0.3,
             "#f1b6da"
            ],
            [
             0.4,
             "#fde0ef"
            ],
            [
             0.5,
             "#f7f7f7"
            ],
            [
             0.6,
             "#e6f5d0"
            ],
            [
             0.7,
             "#b8e186"
            ],
            [
             0.8,
             "#7fbc41"
            ],
            [
             0.9,
             "#4d9221"
            ],
            [
             1,
             "#276419"
            ]
           ],
           "sequential": [
            [
             0,
             "#0d0887"
            ],
            [
             0.1111111111111111,
             "#46039f"
            ],
            [
             0.2222222222222222,
             "#7201a8"
            ],
            [
             0.3333333333333333,
             "#9c179e"
            ],
            [
             0.4444444444444444,
             "#bd3786"
            ],
            [
             0.5555555555555556,
             "#d8576b"
            ],
            [
             0.6666666666666666,
             "#ed7953"
            ],
            [
             0.7777777777777778,
             "#fb9f3a"
            ],
            [
             0.8888888888888888,
             "#fdca26"
            ],
            [
             1,
             "#f0f921"
            ]
           ],
           "sequentialminus": [
            [
             0,
             "#0d0887"
            ],
            [
             0.1111111111111111,
             "#46039f"
            ],
            [
             0.2222222222222222,
             "#7201a8"
            ],
            [
             0.3333333333333333,
             "#9c179e"
            ],
            [
             0.4444444444444444,
             "#bd3786"
            ],
            [
             0.5555555555555556,
             "#d8576b"
            ],
            [
             0.6666666666666666,
             "#ed7953"
            ],
            [
             0.7777777777777778,
             "#fb9f3a"
            ],
            [
             0.8888888888888888,
             "#fdca26"
            ],
            [
             1,
             "#f0f921"
            ]
           ]
          },
          "colorway": [
           "#636efa",
           "#EF553B",
           "#00cc96",
           "#ab63fa",
           "#FFA15A",
           "#19d3f3",
           "#FF6692",
           "#B6E880",
           "#FF97FF",
           "#FECB52"
          ],
          "font": {
           "color": "#2a3f5f"
          },
          "geo": {
           "bgcolor": "white",
           "lakecolor": "white",
           "landcolor": "#E5ECF6",
           "showlakes": true,
           "showland": true,
           "subunitcolor": "white"
          },
          "hoverlabel": {
           "align": "left"
          },
          "hovermode": "closest",
          "mapbox": {
           "style": "light"
          },
          "paper_bgcolor": "white",
          "plot_bgcolor": "#E5ECF6",
          "polar": {
           "angularaxis": {
            "gridcolor": "white",
            "linecolor": "white",
            "ticks": ""
           },
           "bgcolor": "#E5ECF6",
           "radialaxis": {
            "gridcolor": "white",
            "linecolor": "white",
            "ticks": ""
           }
          },
          "scene": {
           "xaxis": {
            "backgroundcolor": "#E5ECF6",
            "gridcolor": "white",
            "gridwidth": 2,
            "linecolor": "white",
            "showbackground": true,
            "ticks": "",
            "zerolinecolor": "white"
           },
           "yaxis": {
            "backgroundcolor": "#E5ECF6",
            "gridcolor": "white",
            "gridwidth": 2,
            "linecolor": "white",
            "showbackground": true,
            "ticks": "",
            "zerolinecolor": "white"
           },
           "zaxis": {
            "backgroundcolor": "#E5ECF6",
            "gridcolor": "white",
            "gridwidth": 2,
            "linecolor": "white",
            "showbackground": true,
            "ticks": "",
            "zerolinecolor": "white"
           }
          },
          "shapedefaults": {
           "line": {
            "color": "#2a3f5f"
           }
          },
          "ternary": {
           "aaxis": {
            "gridcolor": "white",
            "linecolor": "white",
            "ticks": ""
           },
           "baxis": {
            "gridcolor": "white",
            "linecolor": "white",
            "ticks": ""
           },
           "bgcolor": "#E5ECF6",
           "caxis": {
            "gridcolor": "white",
            "linecolor": "white",
            "ticks": ""
           }
          },
          "title": {
           "x": 0.05
          },
          "xaxis": {
           "automargin": true,
           "gridcolor": "white",
           "linecolor": "white",
           "ticks": "",
           "title": {
            "standoff": 15
           },
           "zerolinecolor": "white",
           "zerolinewidth": 2
          },
          "yaxis": {
           "automargin": true,
           "gridcolor": "white",
           "linecolor": "white",
           "ticks": "",
           "title": {
            "standoff": 15
           },
           "zerolinecolor": "white",
           "zerolinewidth": 2
          }
         }
        },
        "title": {
         "text": "Slice Plot"
        },
        "width": 2700,
        "xaxis": {
         "anchor": "y",
         "domain": [
          0,
          0.09135802469135802
         ],
         "title": {
          "text": "bagging_temperature"
         }
        },
        "xaxis2": {
         "anchor": "y2",
         "domain": [
          0.11358024691358025,
          0.20493827160493827
         ],
         "title": {
          "text": "colsample_bylevel"
         }
        },
        "xaxis3": {
         "anchor": "y3",
         "domain": [
          0.2271604938271605,
          0.31851851851851853
         ],
         "title": {
          "text": "l2_leaf_reg"
         }
        },
        "xaxis4": {
         "anchor": "y4",
         "domain": [
          0.34074074074074073,
          0.43209876543209874
         ],
         "title": {
          "text": "learning_rate"
         }
        },
        "xaxis5": {
         "anchor": "y5",
         "domain": [
          0.454320987654321,
          0.5456790123456791
         ],
         "title": {
          "text": "max_depth"
         }
        },
        "xaxis6": {
         "anchor": "y6",
         "domain": [
          0.5679012345679012,
          0.6592592592592592
         ],
         "title": {
          "text": "min_child_samples"
         }
        },
        "xaxis7": {
         "anchor": "y7",
         "domain": [
          0.6814814814814815,
          0.7728395061728395
         ],
         "title": {
          "text": "num_trees"
         }
        },
        "xaxis8": {
         "anchor": "y8",
         "domain": [
          0.7950617283950617,
          0.8864197530864197
         ],
         "title": {
          "text": "scale_pos_weight"
         }
        },
        "xaxis9": {
         "anchor": "y9",
         "domain": [
          0.908641975308642,
          1
         ],
         "title": {
          "text": "subsample"
         }
        },
        "yaxis": {
         "anchor": "x",
         "domain": [
          0,
          1
         ],
         "title": {
          "text": "Objective Value"
         }
        },
        "yaxis2": {
         "anchor": "x2",
         "domain": [
          0,
          1
         ],
         "matches": "y",
         "showticklabels": false
        },
        "yaxis3": {
         "anchor": "x3",
         "domain": [
          0,
          1
         ],
         "matches": "y",
         "showticklabels": false
        },
        "yaxis4": {
         "anchor": "x4",
         "domain": [
          0,
          1
         ],
         "matches": "y",
         "showticklabels": false
        },
        "yaxis5": {
         "anchor": "x5",
         "domain": [
          0,
          1
         ],
         "matches": "y",
         "showticklabels": false
        },
        "yaxis6": {
         "anchor": "x6",
         "domain": [
          0,
          1
         ],
         "matches": "y",
         "showticklabels": false
        },
        "yaxis7": {
         "anchor": "x7",
         "domain": [
          0,
          1
         ],
         "matches": "y",
         "showticklabels": false
        },
        "yaxis8": {
         "anchor": "x8",
         "domain": [
          0,
          1
         ],
         "matches": "y",
         "showticklabels": false
        },
        "yaxis9": {
         "anchor": "x9",
         "domain": [
          0,
          1
         ],
         "matches": "y",
         "showticklabels": false
        }
       }
      }
     },
     "metadata": {},
     "output_type": "display_data"
    }
   ],
   "source": [
    "optuna.visualization.plot_slice(study, params=list(best_params.keys()))"
   ]
  },
  {
   "cell_type": "code",
   "execution_count": 333,
   "metadata": {},
   "outputs": [],
   "source": [
    "clf_cat_tuned = CatBoostClassifier(**defined_params, **best_params)"
   ]
  },
  {
   "cell_type": "code",
   "execution_count": 339,
   "metadata": {},
   "outputs": [],
   "source": [
    "IS_TRAINING = False\n",
    "cache_path = r'models\\clf_cat_tuned_model.pkl'\n",
    "\n",
    "if IS_TRAINING:\n",
    "  cb_fold = lambda fold, scores: print(f'Fold {fold + 1} => AUC score: {scores[0]:.4f} (train) | {scores[1]:.4f} (valid)')\n",
    "  cb_end = lambda scores: print(f'Mean AUC oof score: {scores[0]:.4f} (train) | {scores[1]:.4f} (valid)')\n",
    "\n",
    "  auc_scores_train, auc_scores_valid = train_model(X, y,\n",
    "                                                  model=clf_cat_tuned,\n",
    "                                                  preprocessor=preprocessor,\n",
    "                                                  scorer=roc_auc_score,\n",
    "                                                  cv_fold=skf,\n",
    "                                                  cb_fold=cb_fold,\n",
    "                                                  cb_end=cb_end)\n",
    "  mean_auc_train, mean_auc_valid = np.mean(auc_scores_train), np.mean(auc_scores_valid)\n",
    "  joblib.dump({\n",
    "    'model': clf_cat_tuned,\n",
    "    'preprocessor_pipe': preprocessor_pipe,\n",
    "    'scores': (auc_scores_train, auc_scores_valid)\n",
    "    }, cache_path)\n",
    "else:\n",
    "  try:\n",
    "    cache = joblib.load(cache_path)\n",
    "    clf_cat_tuned = cache['model']\n",
    "    preprocessor_pipe = cache['preprocessor_pipe']\n",
    "    auc_scores_train = cache['scores'][0]\n",
    "    auc_scores_valid = cache['scores'][1]\n",
    "  except FileNotFoundError:\n",
    "    print('Cached study file not found!')"
   ]
  },
  {
   "cell_type": "code",
   "execution_count": 327,
   "metadata": {},
   "outputs": [
    {
     "data": {
      "text/plain": [
       "<Axes: title={'center': 'Feature Importance CatBoost-Tuned (AUC = 0.7770)'}, xlabel='Feature', ylabel='Feature Importance'>"
      ]
     },
     "execution_count": 327,
     "metadata": {},
     "output_type": "execute_result"
    },
    {
     "data": {
      "image/png": "[encoded data removed]",
      "text/plain": [
       "<Figure size 1500x300 with 1 Axes>"
      ]
     },
     "metadata": {},
     "output_type": "display_data"
    }
   ],
   "source": [
    "df_feat_imp = pd.DataFrame({'Feature': X.columns, 'Importance': clf_cat_tuned.feature_importances_})\n",
    "df_feat_imp = df_feat_imp.sort_values(by='Importance', ascending=False)\n",
    "df_feat_imp[:50].plot(kind='bar',\n",
    "                      x='Feature',\n",
    "                      y='Importance',\n",
    "                      title=f'Feature Importance CatBoost-Tuned (AUC = {mean_auc_valid:.4f})',\n",
    "                      xlabel='Feature',\n",
    "                      ylabel='Feature Importance',\n",
    "                      figsize=(15, 3))"
   ]
  },
  {
   "cell_type": "code",
   "execution_count": 328,
   "metadata": {},
   "outputs": [
    {
     "name": "stdout",
     "output_type": "stream",
     "text": [
      "Numbers of categorical feature(s): 1\n",
      "Numbers of numerical feature(s): 49\n"
     ]
    }
   ],
   "source": [
    "top_feat_50 = df[df_feat_imp[:50]['Feature']]\n",
    "\n",
    "cat_feat = top_feat_50.select_dtypes('object').columns\n",
    "num_feat = top_feat_50.select_dtypes(exclude='object').columns\n",
    "\n",
    "print(f'Numbers of categorical feature(s): {len(cat_feat)}')\n",
    "print(f'Numbers of numerical feature(s): {len(num_feat)}')"
   ]
  },
  {
   "cell_type": "code",
   "execution_count": 329,
   "metadata": {},
   "outputs": [
    {
     "name": "stdout",
     "output_type": "stream",
     "text": [
      "AUC score of test dataset: 0.7785\n"
     ]
    }
   ],
   "source": [
    "y_preds = clf_cat_tuned.predict_proba(preprocessor_pipe.transform(X_test))[:, 1]\n",
    "clf_xgb_tun_auc_test = roc_auc_score(y_test, y_preds)\n",
    "\n",
    "print(f'AUC score of test dataset: {clf_xgb_tun_auc_test:.4f}')"
   ]
  },
  {
   "cell_type": "markdown",
   "metadata": {},
   "source": [
    "### **Ensamble model**"
   ]
  },
  {
   "cell_type": "code",
   "execution_count": 341,
   "metadata": {},
   "outputs": [],
   "source": [
    "final_estimator = RandomForestClassifier(n_estimators=100)\n",
    "\n",
    "clf_ens_stack = StackingClassifier(\n",
    "  estimators=[\n",
    "    ('lgbm_tuned', clf_lgbm_tuned),\n",
    "    ('xgb_tuned', clf_xgb_tuned),\n",
    "    ('cat_tuned', clf_cat_tuned),\n",
    "    ('lgbm_default', clf_lgbm_default),\n",
    "    ('xgb_default', clf_xgb_default),\n",
    "    ('cat_default', clf_cat_default),\n",
    "  ],\n",
    "  final_estimator=final_estimator\n",
    ")"
   ]
  },
  {
   "cell_type": "code",
   "execution_count": 342,
   "metadata": {},
   "outputs": [
    {
     "name": "stdout",
     "output_type": "stream",
     "text": [
      "Fold 1 => AUC score: 0.7415 (train) | 0.6850 (valid)\n",
      "Fold 2 => AUC score: 0.7373 (train) | 0.6865 (valid)\n"
     ]
    },
    {
     "ename": "KeyboardInterrupt",
     "evalue": "",
     "output_type": "error",
     "traceback": [
      "\u001b[1;31m---------------------------------------------------------------------------\u001b[0m",
      "\u001b[1;31mKeyboardInterrupt\u001b[0m                         Traceback (most recent call last)",
      "\u001b[1;32md:\\Project\\Python\\Portfolio\\Big Data\\[Bottleneck] CLS - Spring Leaf Markeing Response\\marketing_classification.ipynb Cell 143\u001b[0m line \u001b[0;36m8\n\u001b[0;32m      <a href='vscode-notebook-cell:/d%3A/Project/Python/Portfolio/Big%20Data/%5BBottleneck%5D%20CLS%20-%20Spring%20Leaf%20Markeing%20Response/marketing_classification.ipynb#Y263sZmlsZQ%3D%3D?line=4'>5</a>\u001b[0m cb_fold \u001b[39m=\u001b[39m \u001b[39mlambda\u001b[39;00m fold, scores: \u001b[39mprint\u001b[39m(\u001b[39mf\u001b[39m\u001b[39m'\u001b[39m\u001b[39mFold \u001b[39m\u001b[39m{\u001b[39;00mfold \u001b[39m+\u001b[39m \u001b[39m1\u001b[39m\u001b[39m}\u001b[39;00m\u001b[39m => AUC score: \u001b[39m\u001b[39m{\u001b[39;00mscores[\u001b[39m0\u001b[39m]\u001b[39m:\u001b[39;00m\u001b[39m.4f\u001b[39m\u001b[39m}\u001b[39;00m\u001b[39m (train) | \u001b[39m\u001b[39m{\u001b[39;00mscores[\u001b[39m1\u001b[39m]\u001b[39m:\u001b[39;00m\u001b[39m.4f\u001b[39m\u001b[39m}\u001b[39;00m\u001b[39m (valid)\u001b[39m\u001b[39m'\u001b[39m)\n\u001b[0;32m      <a href='vscode-notebook-cell:/d%3A/Project/Python/Portfolio/Big%20Data/%5BBottleneck%5D%20CLS%20-%20Spring%20Leaf%20Markeing%20Response/marketing_classification.ipynb#Y263sZmlsZQ%3D%3D?line=5'>6</a>\u001b[0m cb_end \u001b[39m=\u001b[39m \u001b[39mlambda\u001b[39;00m scores: \u001b[39mprint\u001b[39m(\u001b[39mf\u001b[39m\u001b[39m'\u001b[39m\u001b[39mMean AUC oof score: \u001b[39m\u001b[39m{\u001b[39;00mscores[\u001b[39m0\u001b[39m]\u001b[39m:\u001b[39;00m\u001b[39m.4f\u001b[39m\u001b[39m}\u001b[39;00m\u001b[39m (train) | \u001b[39m\u001b[39m{\u001b[39;00mscores[\u001b[39m1\u001b[39m]\u001b[39m:\u001b[39;00m\u001b[39m.4f\u001b[39m\u001b[39m}\u001b[39;00m\u001b[39m (valid)\u001b[39m\u001b[39m'\u001b[39m)\n\u001b[1;32m----> <a href='vscode-notebook-cell:/d%3A/Project/Python/Portfolio/Big%20Data/%5BBottleneck%5D%20CLS%20-%20Spring%20Leaf%20Markeing%20Response/marketing_classification.ipynb#Y263sZmlsZQ%3D%3D?line=7'>8</a>\u001b[0m auc_scores_train, auc_scores_valid \u001b[39m=\u001b[39m train_model(X, y,\n\u001b[0;32m      <a href='vscode-notebook-cell:/d%3A/Project/Python/Portfolio/Big%20Data/%5BBottleneck%5D%20CLS%20-%20Spring%20Leaf%20Markeing%20Response/marketing_classification.ipynb#Y263sZmlsZQ%3D%3D?line=8'>9</a>\u001b[0m                                                 model\u001b[39m=\u001b[39;49mclf_ens_stack,\n\u001b[0;32m     <a href='vscode-notebook-cell:/d%3A/Project/Python/Portfolio/Big%20Data/%5BBottleneck%5D%20CLS%20-%20Spring%20Leaf%20Markeing%20Response/marketing_classification.ipynb#Y263sZmlsZQ%3D%3D?line=9'>10</a>\u001b[0m                                                 preprocessor\u001b[39m=\u001b[39;49mpreprocessor,\n\u001b[0;32m     <a href='vscode-notebook-cell:/d%3A/Project/Python/Portfolio/Big%20Data/%5BBottleneck%5D%20CLS%20-%20Spring%20Leaf%20Markeing%20Response/marketing_classification.ipynb#Y263sZmlsZQ%3D%3D?line=10'>11</a>\u001b[0m                                                 scorer\u001b[39m=\u001b[39;49mroc_auc_score,\n\u001b[0;32m     <a href='vscode-notebook-cell:/d%3A/Project/Python/Portfolio/Big%20Data/%5BBottleneck%5D%20CLS%20-%20Spring%20Leaf%20Markeing%20Response/marketing_classification.ipynb#Y263sZmlsZQ%3D%3D?line=11'>12</a>\u001b[0m                                                 cv_fold\u001b[39m=\u001b[39;49mskf,\n\u001b[0;32m     <a href='vscode-notebook-cell:/d%3A/Project/Python/Portfolio/Big%20Data/%5BBottleneck%5D%20CLS%20-%20Spring%20Leaf%20Markeing%20Response/marketing_classification.ipynb#Y263sZmlsZQ%3D%3D?line=12'>13</a>\u001b[0m                                                 cb_fold\u001b[39m=\u001b[39;49mcb_fold,\n\u001b[0;32m     <a href='vscode-notebook-cell:/d%3A/Project/Python/Portfolio/Big%20Data/%5BBottleneck%5D%20CLS%20-%20Spring%20Leaf%20Markeing%20Response/marketing_classification.ipynb#Y263sZmlsZQ%3D%3D?line=13'>14</a>\u001b[0m                                                 cb_end\u001b[39m=\u001b[39;49mcb_end)\n\u001b[0;32m     <a href='vscode-notebook-cell:/d%3A/Project/Python/Portfolio/Big%20Data/%5BBottleneck%5D%20CLS%20-%20Spring%20Leaf%20Markeing%20Response/marketing_classification.ipynb#Y263sZmlsZQ%3D%3D?line=14'>15</a>\u001b[0m mean_auc_train, mean_auc_valid \u001b[39m=\u001b[39m np\u001b[39m.\u001b[39mmean(auc_scores_train), np\u001b[39m.\u001b[39mmean(auc_scores_valid)\n\u001b[0;32m     <a href='vscode-notebook-cell:/d%3A/Project/Python/Portfolio/Big%20Data/%5BBottleneck%5D%20CLS%20-%20Spring%20Leaf%20Markeing%20Response/marketing_classification.ipynb#Y263sZmlsZQ%3D%3D?line=15'>16</a>\u001b[0m joblib\u001b[39m.\u001b[39mdump({\n\u001b[0;32m     <a href='vscode-notebook-cell:/d%3A/Project/Python/Portfolio/Big%20Data/%5BBottleneck%5D%20CLS%20-%20Spring%20Leaf%20Markeing%20Response/marketing_classification.ipynb#Y263sZmlsZQ%3D%3D?line=16'>17</a>\u001b[0m   \u001b[39m'\u001b[39m\u001b[39mmodel\u001b[39m\u001b[39m'\u001b[39m: clf_ens_stack,\n\u001b[0;32m     <a href='vscode-notebook-cell:/d%3A/Project/Python/Portfolio/Big%20Data/%5BBottleneck%5D%20CLS%20-%20Spring%20Leaf%20Markeing%20Response/marketing_classification.ipynb#Y263sZmlsZQ%3D%3D?line=17'>18</a>\u001b[0m   \u001b[39m'\u001b[39m\u001b[39mpreprocessor_pipe\u001b[39m\u001b[39m'\u001b[39m: preprocessor_pipe,\n\u001b[0;32m     <a href='vscode-notebook-cell:/d%3A/Project/Python/Portfolio/Big%20Data/%5BBottleneck%5D%20CLS%20-%20Spring%20Leaf%20Markeing%20Response/marketing_classification.ipynb#Y263sZmlsZQ%3D%3D?line=18'>19</a>\u001b[0m   \u001b[39m'\u001b[39m\u001b[39mscores\u001b[39m\u001b[39m'\u001b[39m: (auc_scores_train, auc_scores_valid)\n\u001b[0;32m     <a href='vscode-notebook-cell:/d%3A/Project/Python/Portfolio/Big%20Data/%5BBottleneck%5D%20CLS%20-%20Spring%20Leaf%20Markeing%20Response/marketing_classification.ipynb#Y263sZmlsZQ%3D%3D?line=19'>20</a>\u001b[0m   }, cache_path)\n",
      "\u001b[1;32md:\\Project\\Python\\Portfolio\\Big Data\\[Bottleneck] CLS - Spring Leaf Markeing Response\\marketing_classification.ipynb Cell 143\u001b[0m line \u001b[0;36m2\n\u001b[0;32m     <a href='vscode-notebook-cell:/d%3A/Project/Python/Portfolio/Big%20Data/%5BBottleneck%5D%20CLS%20-%20Spring%20Leaf%20Markeing%20Response/marketing_classification.ipynb#Y263sZmlsZQ%3D%3D?line=19'>20</a>\u001b[0m y_train, y_valid \u001b[39m=\u001b[39m y\u001b[39m.\u001b[39miloc[train_idx], y\u001b[39m.\u001b[39miloc[valid_idx]\n\u001b[0;32m     <a href='vscode-notebook-cell:/d%3A/Project/Python/Portfolio/Big%20Data/%5BBottleneck%5D%20CLS%20-%20Spring%20Leaf%20Markeing%20Response/marketing_classification.ipynb#Y263sZmlsZQ%3D%3D?line=21'>22</a>\u001b[0m X_train, X_valid, y_train, y_valid \u001b[39m=\u001b[39m preprocessor(X_train, X_valid, y_train, y_valid)\n\u001b[1;32m---> <a href='vscode-notebook-cell:/d%3A/Project/Python/Portfolio/Big%20Data/%5BBottleneck%5D%20CLS%20-%20Spring%20Leaf%20Markeing%20Response/marketing_classification.ipynb#Y263sZmlsZQ%3D%3D?line=23'>24</a>\u001b[0m model\u001b[39m.\u001b[39;49mfit(X_train, y_train)\n\u001b[0;32m     <a href='vscode-notebook-cell:/d%3A/Project/Python/Portfolio/Big%20Data/%5BBottleneck%5D%20CLS%20-%20Spring%20Leaf%20Markeing%20Response/marketing_classification.ipynb#Y263sZmlsZQ%3D%3D?line=25'>26</a>\u001b[0m y_probs_train \u001b[39m=\u001b[39m model\u001b[39m.\u001b[39mpredict_proba(X_train)[:, \u001b[39m1\u001b[39m]\n\u001b[0;32m     <a href='vscode-notebook-cell:/d%3A/Project/Python/Portfolio/Big%20Data/%5BBottleneck%5D%20CLS%20-%20Spring%20Leaf%20Markeing%20Response/marketing_classification.ipynb#Y263sZmlsZQ%3D%3D?line=26'>27</a>\u001b[0m y_probs_val \u001b[39m=\u001b[39m model\u001b[39m.\u001b[39mpredict_proba(X_valid)[:, \u001b[39m1\u001b[39m]\n",
      "File \u001b[1;32md:\\Programs\\Miniconda3\\envs\\env_1\\Lib\\site-packages\\sklearn\\ensemble\\_stacking.py:658\u001b[0m, in \u001b[0;36mStackingClassifier.fit\u001b[1;34m(self, X, y, sample_weight)\u001b[0m\n\u001b[0;32m    656\u001b[0m     \u001b[39mself\u001b[39m\u001b[39m.\u001b[39mclasses_ \u001b[39m=\u001b[39m \u001b[39mself\u001b[39m\u001b[39m.\u001b[39m_label_encoder\u001b[39m.\u001b[39mclasses_\n\u001b[0;32m    657\u001b[0m     y_encoded \u001b[39m=\u001b[39m \u001b[39mself\u001b[39m\u001b[39m.\u001b[39m_label_encoder\u001b[39m.\u001b[39mtransform(y)\n\u001b[1;32m--> 658\u001b[0m \u001b[39mreturn\u001b[39;00m \u001b[39msuper\u001b[39;49m()\u001b[39m.\u001b[39;49mfit(X, y_encoded, sample_weight)\n",
      "File \u001b[1;32md:\\Programs\\Miniconda3\\envs\\env_1\\Lib\\site-packages\\sklearn\\base.py:1152\u001b[0m, in \u001b[0;36m_fit_context.<locals>.decorator.<locals>.wrapper\u001b[1;34m(estimator, *args, **kwargs)\u001b[0m\n\u001b[0;32m   1145\u001b[0m     estimator\u001b[39m.\u001b[39m_validate_params()\n\u001b[0;32m   1147\u001b[0m \u001b[39mwith\u001b[39;00m config_context(\n\u001b[0;32m   1148\u001b[0m     skip_parameter_validation\u001b[39m=\u001b[39m(\n\u001b[0;32m   1149\u001b[0m         prefer_skip_nested_validation \u001b[39mor\u001b[39;00m global_skip_validation\n\u001b[0;32m   1150\u001b[0m     )\n\u001b[0;32m   1151\u001b[0m ):\n\u001b[1;32m-> 1152\u001b[0m     \u001b[39mreturn\u001b[39;00m fit_method(estimator, \u001b[39m*\u001b[39;49margs, \u001b[39m*\u001b[39;49m\u001b[39m*\u001b[39;49mkwargs)\n",
      "File \u001b[1;32md:\\Programs\\Miniconda3\\envs\\env_1\\Lib\\site-packages\\sklearn\\ensemble\\_stacking.py:249\u001b[0m, in \u001b[0;36m_BaseStacking.fit\u001b[1;34m(self, X, y, sample_weight)\u001b[0m\n\u001b[0;32m    244\u001b[0m         cv\u001b[39m.\u001b[39mrandom_state \u001b[39m=\u001b[39m np\u001b[39m.\u001b[39mrandom\u001b[39m.\u001b[39mRandomState()\n\u001b[0;32m    246\u001b[0m     fit_params \u001b[39m=\u001b[39m (\n\u001b[0;32m    247\u001b[0m         {\u001b[39m\"\u001b[39m\u001b[39msample_weight\u001b[39m\u001b[39m\"\u001b[39m: sample_weight} \u001b[39mif\u001b[39;00m sample_weight \u001b[39mis\u001b[39;00m \u001b[39mnot\u001b[39;00m \u001b[39mNone\u001b[39;00m \u001b[39melse\u001b[39;00m \u001b[39mNone\u001b[39;00m\n\u001b[0;32m    248\u001b[0m     )\n\u001b[1;32m--> 249\u001b[0m     predictions \u001b[39m=\u001b[39m Parallel(n_jobs\u001b[39m=\u001b[39;49m\u001b[39mself\u001b[39;49m\u001b[39m.\u001b[39;49mn_jobs)(\n\u001b[0;32m    250\u001b[0m         delayed(cross_val_predict)(\n\u001b[0;32m    251\u001b[0m             clone(est),\n\u001b[0;32m    252\u001b[0m             X,\n\u001b[0;32m    253\u001b[0m             y,\n\u001b[0;32m    254\u001b[0m             cv\u001b[39m=\u001b[39;49mdeepcopy(cv),\n\u001b[0;32m    255\u001b[0m             method\u001b[39m=\u001b[39;49mmeth,\n\u001b[0;32m    256\u001b[0m             n_jobs\u001b[39m=\u001b[39;49m\u001b[39mself\u001b[39;49m\u001b[39m.\u001b[39;49mn_jobs,\n\u001b[0;32m    257\u001b[0m             fit_params\u001b[39m=\u001b[39;49mfit_params,\n\u001b[0;32m    258\u001b[0m             verbose\u001b[39m=\u001b[39;49m\u001b[39mself\u001b[39;49m\u001b[39m.\u001b[39;49mverbose,\n\u001b[0;32m    259\u001b[0m         )\n\u001b[0;32m    260\u001b[0m         \u001b[39mfor\u001b[39;49;00m est, meth \u001b[39min\u001b[39;49;00m \u001b[39mzip\u001b[39;49m(all_estimators, \u001b[39mself\u001b[39;49m\u001b[39m.\u001b[39;49mstack_method_)\n\u001b[0;32m    261\u001b[0m         \u001b[39mif\u001b[39;49;00m est \u001b[39m!=\u001b[39;49m \u001b[39m\"\u001b[39;49m\u001b[39mdrop\u001b[39;49m\u001b[39m\"\u001b[39;49m\n\u001b[0;32m    262\u001b[0m     )\n\u001b[0;32m    264\u001b[0m \u001b[39m# Only not None or not 'drop' estimators will be used in transform.\u001b[39;00m\n\u001b[0;32m    265\u001b[0m \u001b[39m# Remove the None from the method as well.\u001b[39;00m\n\u001b[0;32m    266\u001b[0m \u001b[39mself\u001b[39m\u001b[39m.\u001b[39mstack_method_ \u001b[39m=\u001b[39m [\n\u001b[0;32m    267\u001b[0m     meth\n\u001b[0;32m    268\u001b[0m     \u001b[39mfor\u001b[39;00m (meth, est) \u001b[39min\u001b[39;00m \u001b[39mzip\u001b[39m(\u001b[39mself\u001b[39m\u001b[39m.\u001b[39mstack_method_, all_estimators)\n\u001b[0;32m    269\u001b[0m     \u001b[39mif\u001b[39;00m est \u001b[39m!=\u001b[39m \u001b[39m\"\u001b[39m\u001b[39mdrop\u001b[39m\u001b[39m\"\u001b[39m\n\u001b[0;32m    270\u001b[0m ]\n",
      "File \u001b[1;32md:\\Programs\\Miniconda3\\envs\\env_1\\Lib\\site-packages\\sklearn\\utils\\parallel.py:65\u001b[0m, in \u001b[0;36mParallel.__call__\u001b[1;34m(self, iterable)\u001b[0m\n\u001b[0;32m     60\u001b[0m config \u001b[39m=\u001b[39m get_config()\n\u001b[0;32m     61\u001b[0m iterable_with_config \u001b[39m=\u001b[39m (\n\u001b[0;32m     62\u001b[0m     (_with_config(delayed_func, config), args, kwargs)\n\u001b[0;32m     63\u001b[0m     \u001b[39mfor\u001b[39;00m delayed_func, args, kwargs \u001b[39min\u001b[39;00m iterable\n\u001b[0;32m     64\u001b[0m )\n\u001b[1;32m---> 65\u001b[0m \u001b[39mreturn\u001b[39;00m \u001b[39msuper\u001b[39;49m()\u001b[39m.\u001b[39;49m\u001b[39m__call__\u001b[39;49m(iterable_with_config)\n",
      "File \u001b[1;32md:\\Programs\\Miniconda3\\envs\\env_1\\Lib\\site-packages\\joblib\\parallel.py:1863\u001b[0m, in \u001b[0;36mParallel.__call__\u001b[1;34m(self, iterable)\u001b[0m\n\u001b[0;32m   1861\u001b[0m     output \u001b[39m=\u001b[39m \u001b[39mself\u001b[39m\u001b[39m.\u001b[39m_get_sequential_output(iterable)\n\u001b[0;32m   1862\u001b[0m     \u001b[39mnext\u001b[39m(output)\n\u001b[1;32m-> 1863\u001b[0m     \u001b[39mreturn\u001b[39;00m output \u001b[39mif\u001b[39;00m \u001b[39mself\u001b[39m\u001b[39m.\u001b[39mreturn_generator \u001b[39melse\u001b[39;00m \u001b[39mlist\u001b[39m(output)\n\u001b[0;32m   1865\u001b[0m \u001b[39m# Let's create an ID that uniquely identifies the current call. If the\u001b[39;00m\n\u001b[0;32m   1866\u001b[0m \u001b[39m# call is interrupted early and that the same instance is immediately\u001b[39;00m\n\u001b[0;32m   1867\u001b[0m \u001b[39m# re-used, this id will be used to prevent workers that were\u001b[39;00m\n\u001b[0;32m   1868\u001b[0m \u001b[39m# concurrently finalizing a task from the previous call to run the\u001b[39;00m\n\u001b[0;32m   1869\u001b[0m \u001b[39m# callback.\u001b[39;00m\n\u001b[0;32m   1870\u001b[0m \u001b[39mwith\u001b[39;00m \u001b[39mself\u001b[39m\u001b[39m.\u001b[39m_lock:\n",
      "File \u001b[1;32md:\\Programs\\Miniconda3\\envs\\env_1\\Lib\\site-packages\\joblib\\parallel.py:1792\u001b[0m, in \u001b[0;36mParallel._get_sequential_output\u001b[1;34m(self, iterable)\u001b[0m\n\u001b[0;32m   1790\u001b[0m \u001b[39mself\u001b[39m\u001b[39m.\u001b[39mn_dispatched_batches \u001b[39m+\u001b[39m\u001b[39m=\u001b[39m \u001b[39m1\u001b[39m\n\u001b[0;32m   1791\u001b[0m \u001b[39mself\u001b[39m\u001b[39m.\u001b[39mn_dispatched_tasks \u001b[39m+\u001b[39m\u001b[39m=\u001b[39m \u001b[39m1\u001b[39m\n\u001b[1;32m-> 1792\u001b[0m res \u001b[39m=\u001b[39m func(\u001b[39m*\u001b[39;49margs, \u001b[39m*\u001b[39;49m\u001b[39m*\u001b[39;49mkwargs)\n\u001b[0;32m   1793\u001b[0m \u001b[39mself\u001b[39m\u001b[39m.\u001b[39mn_completed_tasks \u001b[39m+\u001b[39m\u001b[39m=\u001b[39m \u001b[39m1\u001b[39m\n\u001b[0;32m   1794\u001b[0m \u001b[39mself\u001b[39m\u001b[39m.\u001b[39mprint_progress()\n",
      "File \u001b[1;32md:\\Programs\\Miniconda3\\envs\\env_1\\Lib\\site-packages\\sklearn\\utils\\parallel.py:127\u001b[0m, in \u001b[0;36m_FuncWrapper.__call__\u001b[1;34m(self, *args, **kwargs)\u001b[0m\n\u001b[0;32m    125\u001b[0m     config \u001b[39m=\u001b[39m {}\n\u001b[0;32m    126\u001b[0m \u001b[39mwith\u001b[39;00m config_context(\u001b[39m*\u001b[39m\u001b[39m*\u001b[39mconfig):\n\u001b[1;32m--> 127\u001b[0m     \u001b[39mreturn\u001b[39;00m \u001b[39mself\u001b[39;49m\u001b[39m.\u001b[39;49mfunction(\u001b[39m*\u001b[39;49margs, \u001b[39m*\u001b[39;49m\u001b[39m*\u001b[39;49mkwargs)\n",
      "File \u001b[1;32md:\\Programs\\Miniconda3\\envs\\env_1\\Lib\\site-packages\\sklearn\\model_selection\\_validation.py:1033\u001b[0m, in \u001b[0;36mcross_val_predict\u001b[1;34m(estimator, X, y, groups, cv, n_jobs, verbose, fit_params, pre_dispatch, method)\u001b[0m\n\u001b[0;32m   1030\u001b[0m \u001b[39m# We clone the estimator to make sure that all the folds are\u001b[39;00m\n\u001b[0;32m   1031\u001b[0m \u001b[39m# independent, and that it is pickle-able.\u001b[39;00m\n\u001b[0;32m   1032\u001b[0m parallel \u001b[39m=\u001b[39m Parallel(n_jobs\u001b[39m=\u001b[39mn_jobs, verbose\u001b[39m=\u001b[39mverbose, pre_dispatch\u001b[39m=\u001b[39mpre_dispatch)\n\u001b[1;32m-> 1033\u001b[0m predictions \u001b[39m=\u001b[39m parallel(\n\u001b[0;32m   1034\u001b[0m     delayed(_fit_and_predict)(\n\u001b[0;32m   1035\u001b[0m         clone(estimator), X, y, train, test, verbose, fit_params, method\n\u001b[0;32m   1036\u001b[0m     )\n\u001b[0;32m   1037\u001b[0m     \u001b[39mfor\u001b[39;49;00m train, test \u001b[39min\u001b[39;49;00m splits\n\u001b[0;32m   1038\u001b[0m )\n\u001b[0;32m   1040\u001b[0m inv_test_indices \u001b[39m=\u001b[39m np\u001b[39m.\u001b[39mempty(\u001b[39mlen\u001b[39m(test_indices), dtype\u001b[39m=\u001b[39m\u001b[39mint\u001b[39m)\n\u001b[0;32m   1041\u001b[0m inv_test_indices[test_indices] \u001b[39m=\u001b[39m np\u001b[39m.\u001b[39marange(\u001b[39mlen\u001b[39m(test_indices))\n",
      "File \u001b[1;32md:\\Programs\\Miniconda3\\envs\\env_1\\Lib\\site-packages\\sklearn\\utils\\parallel.py:65\u001b[0m, in \u001b[0;36mParallel.__call__\u001b[1;34m(self, iterable)\u001b[0m\n\u001b[0;32m     60\u001b[0m config \u001b[39m=\u001b[39m get_config()\n\u001b[0;32m     61\u001b[0m iterable_with_config \u001b[39m=\u001b[39m (\n\u001b[0;32m     62\u001b[0m     (_with_config(delayed_func, config), args, kwargs)\n\u001b[0;32m     63\u001b[0m     \u001b[39mfor\u001b[39;00m delayed_func, args, kwargs \u001b[39min\u001b[39;00m iterable\n\u001b[0;32m     64\u001b[0m )\n\u001b[1;32m---> 65\u001b[0m \u001b[39mreturn\u001b[39;00m \u001b[39msuper\u001b[39;49m()\u001b[39m.\u001b[39;49m\u001b[39m__call__\u001b[39;49m(iterable_with_config)\n",
      "File \u001b[1;32md:\\Programs\\Miniconda3\\envs\\env_1\\Lib\\site-packages\\joblib\\parallel.py:1863\u001b[0m, in \u001b[0;36mParallel.__call__\u001b[1;34m(self, iterable)\u001b[0m\n\u001b[0;32m   1861\u001b[0m     output \u001b[39m=\u001b[39m \u001b[39mself\u001b[39m\u001b[39m.\u001b[39m_get_sequential_output(iterable)\n\u001b[0;32m   1862\u001b[0m     \u001b[39mnext\u001b[39m(output)\n\u001b[1;32m-> 1863\u001b[0m     \u001b[39mreturn\u001b[39;00m output \u001b[39mif\u001b[39;00m \u001b[39mself\u001b[39m\u001b[39m.\u001b[39mreturn_generator \u001b[39melse\u001b[39;00m \u001b[39mlist\u001b[39m(output)\n\u001b[0;32m   1865\u001b[0m \u001b[39m# Let's create an ID that uniquely identifies the current call. If the\u001b[39;00m\n\u001b[0;32m   1866\u001b[0m \u001b[39m# call is interrupted early and that the same instance is immediately\u001b[39;00m\n\u001b[0;32m   1867\u001b[0m \u001b[39m# re-used, this id will be used to prevent workers that were\u001b[39;00m\n\u001b[0;32m   1868\u001b[0m \u001b[39m# concurrently finalizing a task from the previous call to run the\u001b[39;00m\n\u001b[0;32m   1869\u001b[0m \u001b[39m# callback.\u001b[39;00m\n\u001b[0;32m   1870\u001b[0m \u001b[39mwith\u001b[39;00m \u001b[39mself\u001b[39m\u001b[39m.\u001b[39m_lock:\n",
      "File \u001b[1;32md:\\Programs\\Miniconda3\\envs\\env_1\\Lib\\site-packages\\joblib\\parallel.py:1792\u001b[0m, in \u001b[0;36mParallel._get_sequential_output\u001b[1;34m(self, iterable)\u001b[0m\n\u001b[0;32m   1790\u001b[0m \u001b[39mself\u001b[39m\u001b[39m.\u001b[39mn_dispatched_batches \u001b[39m+\u001b[39m\u001b[39m=\u001b[39m \u001b[39m1\u001b[39m\n\u001b[0;32m   1791\u001b[0m \u001b[39mself\u001b[39m\u001b[39m.\u001b[39mn_dispatched_tasks \u001b[39m+\u001b[39m\u001b[39m=\u001b[39m \u001b[39m1\u001b[39m\n\u001b[1;32m-> 1792\u001b[0m res \u001b[39m=\u001b[39m func(\u001b[39m*\u001b[39;49margs, \u001b[39m*\u001b[39;49m\u001b[39m*\u001b[39;49mkwargs)\n\u001b[0;32m   1793\u001b[0m \u001b[39mself\u001b[39m\u001b[39m.\u001b[39mn_completed_tasks \u001b[39m+\u001b[39m\u001b[39m=\u001b[39m \u001b[39m1\u001b[39m\n\u001b[0;32m   1794\u001b[0m \u001b[39mself\u001b[39m\u001b[39m.\u001b[39mprint_progress()\n",
      "File \u001b[1;32md:\\Programs\\Miniconda3\\envs\\env_1\\Lib\\site-packages\\sklearn\\utils\\parallel.py:127\u001b[0m, in \u001b[0;36m_FuncWrapper.__call__\u001b[1;34m(self, *args, **kwargs)\u001b[0m\n\u001b[0;32m    125\u001b[0m     config \u001b[39m=\u001b[39m {}\n\u001b[0;32m    126\u001b[0m \u001b[39mwith\u001b[39;00m config_context(\u001b[39m*\u001b[39m\u001b[39m*\u001b[39mconfig):\n\u001b[1;32m--> 127\u001b[0m     \u001b[39mreturn\u001b[39;00m \u001b[39mself\u001b[39;49m\u001b[39m.\u001b[39;49mfunction(\u001b[39m*\u001b[39;49margs, \u001b[39m*\u001b[39;49m\u001b[39m*\u001b[39;49mkwargs)\n",
      "File \u001b[1;32md:\\Programs\\Miniconda3\\envs\\env_1\\Lib\\site-packages\\sklearn\\model_selection\\_validation.py:1115\u001b[0m, in \u001b[0;36m_fit_and_predict\u001b[1;34m(estimator, X, y, train, test, verbose, fit_params, method)\u001b[0m\n\u001b[0;32m   1113\u001b[0m     estimator\u001b[39m.\u001b[39mfit(X_train, \u001b[39m*\u001b[39m\u001b[39m*\u001b[39mfit_params)\n\u001b[0;32m   1114\u001b[0m \u001b[39melse\u001b[39;00m:\n\u001b[1;32m-> 1115\u001b[0m     estimator\u001b[39m.\u001b[39;49mfit(X_train, y_train, \u001b[39m*\u001b[39;49m\u001b[39m*\u001b[39;49mfit_params)\n\u001b[0;32m   1116\u001b[0m func \u001b[39m=\u001b[39m \u001b[39mgetattr\u001b[39m(estimator, method)\n\u001b[0;32m   1117\u001b[0m predictions \u001b[39m=\u001b[39m func(X_test)\n",
      "File \u001b[1;32md:\\Programs\\Miniconda3\\envs\\env_1\\Lib\\site-packages\\lightgbm\\sklearn.py:1187\u001b[0m, in \u001b[0;36mLGBMClassifier.fit\u001b[1;34m(self, X, y, sample_weight, init_score, eval_set, eval_names, eval_sample_weight, eval_class_weight, eval_init_score, eval_metric, feature_name, categorical_feature, callbacks, init_model)\u001b[0m\n\u001b[0;32m   1184\u001b[0m         \u001b[39melse\u001b[39;00m:\n\u001b[0;32m   1185\u001b[0m             valid_sets\u001b[39m.\u001b[39mappend((valid_x, \u001b[39mself\u001b[39m\u001b[39m.\u001b[39m_le\u001b[39m.\u001b[39mtransform(valid_y)))\n\u001b[1;32m-> 1187\u001b[0m \u001b[39msuper\u001b[39;49m()\u001b[39m.\u001b[39;49mfit(\n\u001b[0;32m   1188\u001b[0m     X,\n\u001b[0;32m   1189\u001b[0m     _y,\n\u001b[0;32m   1190\u001b[0m     sample_weight\u001b[39m=\u001b[39;49msample_weight,\n\u001b[0;32m   1191\u001b[0m     init_score\u001b[39m=\u001b[39;49minit_score,\n\u001b[0;32m   1192\u001b[0m     eval_set\u001b[39m=\u001b[39;49mvalid_sets,\n\u001b[0;32m   1193\u001b[0m     eval_names\u001b[39m=\u001b[39;49meval_names,\n\u001b[0;32m   1194\u001b[0m     eval_sample_weight\u001b[39m=\u001b[39;49meval_sample_weight,\n\u001b[0;32m   1195\u001b[0m     eval_class_weight\u001b[39m=\u001b[39;49meval_class_weight,\n\u001b[0;32m   1196\u001b[0m     eval_init_score\u001b[39m=\u001b[39;49meval_init_score,\n\u001b[0;32m   1197\u001b[0m     eval_metric\u001b[39m=\u001b[39;49meval_metric,\n\u001b[0;32m   1198\u001b[0m     feature_name\u001b[39m=\u001b[39;49mfeature_name,\n\u001b[0;32m   1199\u001b[0m     categorical_feature\u001b[39m=\u001b[39;49mcategorical_feature,\n\u001b[0;32m   1200\u001b[0m     callbacks\u001b[39m=\u001b[39;49mcallbacks,\n\u001b[0;32m   1201\u001b[0m     init_model\u001b[39m=\u001b[39;49minit_model\n\u001b[0;32m   1202\u001b[0m )\n\u001b[0;32m   1203\u001b[0m \u001b[39mreturn\u001b[39;00m \u001b[39mself\u001b[39m\n",
      "File \u001b[1;32md:\\Programs\\Miniconda3\\envs\\env_1\\Lib\\site-packages\\lightgbm\\sklearn.py:885\u001b[0m, in \u001b[0;36mLGBMModel.fit\u001b[1;34m(self, X, y, sample_weight, init_score, group, eval_set, eval_names, eval_sample_weight, eval_class_weight, eval_init_score, eval_group, eval_metric, feature_name, categorical_feature, callbacks, init_model)\u001b[0m\n\u001b[0;32m    882\u001b[0m evals_result: _EvalResultDict \u001b[39m=\u001b[39m {}\n\u001b[0;32m    883\u001b[0m callbacks\u001b[39m.\u001b[39mappend(record_evaluation(evals_result))\n\u001b[1;32m--> 885\u001b[0m \u001b[39mself\u001b[39m\u001b[39m.\u001b[39m_Booster \u001b[39m=\u001b[39m train(\n\u001b[0;32m    886\u001b[0m     params\u001b[39m=\u001b[39;49mparams,\n\u001b[0;32m    887\u001b[0m     train_set\u001b[39m=\u001b[39;49mtrain_set,\n\u001b[0;32m    888\u001b[0m     num_boost_round\u001b[39m=\u001b[39;49m\u001b[39mself\u001b[39;49m\u001b[39m.\u001b[39;49mn_estimators,\n\u001b[0;32m    889\u001b[0m     valid_sets\u001b[39m=\u001b[39;49mvalid_sets,\n\u001b[0;32m    890\u001b[0m     valid_names\u001b[39m=\u001b[39;49meval_names,\n\u001b[0;32m    891\u001b[0m     feval\u001b[39m=\u001b[39;49meval_metrics_callable,  \u001b[39m# type: ignore[arg-type]\u001b[39;49;00m\n\u001b[0;32m    892\u001b[0m     init_model\u001b[39m=\u001b[39;49minit_model,\n\u001b[0;32m    893\u001b[0m     feature_name\u001b[39m=\u001b[39;49mfeature_name,\n\u001b[0;32m    894\u001b[0m     callbacks\u001b[39m=\u001b[39;49mcallbacks\n\u001b[0;32m    895\u001b[0m )\n\u001b[0;32m    897\u001b[0m \u001b[39mself\u001b[39m\u001b[39m.\u001b[39m_evals_result \u001b[39m=\u001b[39m evals_result\n\u001b[0;32m    898\u001b[0m \u001b[39mself\u001b[39m\u001b[39m.\u001b[39m_best_iteration \u001b[39m=\u001b[39m \u001b[39mself\u001b[39m\u001b[39m.\u001b[39m_Booster\u001b[39m.\u001b[39mbest_iteration\n",
      "File \u001b[1;32md:\\Programs\\Miniconda3\\envs\\env_1\\Lib\\site-packages\\lightgbm\\engine.py:255\u001b[0m, in \u001b[0;36mtrain\u001b[1;34m(params, train_set, num_boost_round, valid_sets, valid_names, feval, init_model, feature_name, categorical_feature, keep_training_booster, callbacks)\u001b[0m\n\u001b[0;32m    253\u001b[0m \u001b[39m# construct booster\u001b[39;00m\n\u001b[0;32m    254\u001b[0m \u001b[39mtry\u001b[39;00m:\n\u001b[1;32m--> 255\u001b[0m     booster \u001b[39m=\u001b[39m Booster(params\u001b[39m=\u001b[39;49mparams, train_set\u001b[39m=\u001b[39;49mtrain_set)\n\u001b[0;32m    256\u001b[0m     \u001b[39mif\u001b[39;00m is_valid_contain_train:\n\u001b[0;32m    257\u001b[0m         booster\u001b[39m.\u001b[39mset_train_data_name(train_data_name)\n",
      "File \u001b[1;32md:\\Programs\\Miniconda3\\envs\\env_1\\Lib\\site-packages\\lightgbm\\basic.py:3433\u001b[0m, in \u001b[0;36mBooster.__init__\u001b[1;34m(self, params, train_set, model_file, model_str)\u001b[0m\n\u001b[0;32m   3426\u001b[0m     \u001b[39mself\u001b[39m\u001b[39m.\u001b[39mset_network(\n\u001b[0;32m   3427\u001b[0m         machines\u001b[39m=\u001b[39mmachines,\n\u001b[0;32m   3428\u001b[0m         local_listen_port\u001b[39m=\u001b[39mparams[\u001b[39m\"\u001b[39m\u001b[39mlocal_listen_port\u001b[39m\u001b[39m\"\u001b[39m],\n\u001b[0;32m   3429\u001b[0m         listen_time_out\u001b[39m=\u001b[39mparams\u001b[39m.\u001b[39mget(\u001b[39m\"\u001b[39m\u001b[39mtime_out\u001b[39m\u001b[39m\"\u001b[39m, \u001b[39m120\u001b[39m),\n\u001b[0;32m   3430\u001b[0m         num_machines\u001b[39m=\u001b[39mparams[\u001b[39m\"\u001b[39m\u001b[39mnum_machines\u001b[39m\u001b[39m\"\u001b[39m]\n\u001b[0;32m   3431\u001b[0m     )\n\u001b[0;32m   3432\u001b[0m \u001b[39m# construct booster object\u001b[39;00m\n\u001b[1;32m-> 3433\u001b[0m train_set\u001b[39m.\u001b[39;49mconstruct()\n\u001b[0;32m   3434\u001b[0m \u001b[39m# copy the parameters from train_set\u001b[39;00m\n\u001b[0;32m   3435\u001b[0m params\u001b[39m.\u001b[39mupdate(train_set\u001b[39m.\u001b[39mget_params())\n",
      "File \u001b[1;32md:\\Programs\\Miniconda3\\envs\\env_1\\Lib\\site-packages\\lightgbm\\basic.py:2462\u001b[0m, in \u001b[0;36mDataset.construct\u001b[1;34m(self)\u001b[0m\n\u001b[0;32m   2455\u001b[0m             \u001b[39mself\u001b[39m\u001b[39m.\u001b[39m_set_init_score_by_predictor(\n\u001b[0;32m   2456\u001b[0m                 predictor\u001b[39m=\u001b[39m\u001b[39mself\u001b[39m\u001b[39m.\u001b[39m_predictor,\n\u001b[0;32m   2457\u001b[0m                 data\u001b[39m=\u001b[39m\u001b[39mself\u001b[39m\u001b[39m.\u001b[39mdata,\n\u001b[0;32m   2458\u001b[0m                 used_indices\u001b[39m=\u001b[39mused_indices\n\u001b[0;32m   2459\u001b[0m             )\n\u001b[0;32m   2460\u001b[0m \u001b[39melse\u001b[39;00m:\n\u001b[0;32m   2461\u001b[0m     \u001b[39m# create train\u001b[39;00m\n\u001b[1;32m-> 2462\u001b[0m     \u001b[39mself\u001b[39;49m\u001b[39m.\u001b[39;49m_lazy_init(data\u001b[39m=\u001b[39;49m\u001b[39mself\u001b[39;49m\u001b[39m.\u001b[39;49mdata, label\u001b[39m=\u001b[39;49m\u001b[39mself\u001b[39;49m\u001b[39m.\u001b[39;49mlabel, reference\u001b[39m=\u001b[39;49m\u001b[39mNone\u001b[39;49;00m,\n\u001b[0;32m   2463\u001b[0m                     weight\u001b[39m=\u001b[39;49m\u001b[39mself\u001b[39;49m\u001b[39m.\u001b[39;49mweight, group\u001b[39m=\u001b[39;49m\u001b[39mself\u001b[39;49m\u001b[39m.\u001b[39;49mgroup,\n\u001b[0;32m   2464\u001b[0m                     init_score\u001b[39m=\u001b[39;49m\u001b[39mself\u001b[39;49m\u001b[39m.\u001b[39;49minit_score, predictor\u001b[39m=\u001b[39;49m\u001b[39mself\u001b[39;49m\u001b[39m.\u001b[39;49m_predictor,\n\u001b[0;32m   2465\u001b[0m                     feature_name\u001b[39m=\u001b[39;49m\u001b[39mself\u001b[39;49m\u001b[39m.\u001b[39;49mfeature_name, categorical_feature\u001b[39m=\u001b[39;49m\u001b[39mself\u001b[39;49m\u001b[39m.\u001b[39;49mcategorical_feature,\n\u001b[0;32m   2466\u001b[0m                     params\u001b[39m=\u001b[39;49m\u001b[39mself\u001b[39;49m\u001b[39m.\u001b[39;49mparams, position\u001b[39m=\u001b[39;49m\u001b[39mself\u001b[39;49m\u001b[39m.\u001b[39;49mposition)\n\u001b[0;32m   2467\u001b[0m \u001b[39mif\u001b[39;00m \u001b[39mself\u001b[39m\u001b[39m.\u001b[39mfree_raw_data:\n\u001b[0;32m   2468\u001b[0m     \u001b[39mself\u001b[39m\u001b[39m.\u001b[39mdata \u001b[39m=\u001b[39m \u001b[39mNone\u001b[39;00m\n",
      "File \u001b[1;32md:\\Programs\\Miniconda3\\envs\\env_1\\Lib\\site-packages\\lightgbm\\basic.py:2079\u001b[0m, in \u001b[0;36mDataset._lazy_init\u001b[1;34m(self, data, label, reference, weight, group, init_score, predictor, feature_name, categorical_feature, params, position)\u001b[0m\n\u001b[0;32m   2077\u001b[0m     \u001b[39mself\u001b[39m\u001b[39m.\u001b[39m__init_from_csc(data, params_str, ref_dataset)\n\u001b[0;32m   2078\u001b[0m \u001b[39melif\u001b[39;00m \u001b[39misinstance\u001b[39m(data, np\u001b[39m.\u001b[39mndarray):\n\u001b[1;32m-> 2079\u001b[0m     \u001b[39mself\u001b[39;49m\u001b[39m.\u001b[39;49m__init_from_np2d(data, params_str, ref_dataset)\n\u001b[0;32m   2080\u001b[0m \u001b[39melif\u001b[39;00m _is_pyarrow_table(data):\n\u001b[0;32m   2081\u001b[0m     \u001b[39mself\u001b[39m\u001b[39m.\u001b[39m__init_from_pyarrow_table(data, params_str, ref_dataset)\n",
      "File \u001b[1;32md:\\Programs\\Miniconda3\\envs\\env_1\\Lib\\site-packages\\lightgbm\\basic.py:2218\u001b[0m, in \u001b[0;36mDataset.__init_from_np2d\u001b[1;34m(self, mat, params_str, ref_dataset)\u001b[0m\n\u001b[0;32m   2215\u001b[0m     data \u001b[39m=\u001b[39m np\u001b[39m.\u001b[39marray(mat\u001b[39m.\u001b[39mreshape(mat\u001b[39m.\u001b[39msize), dtype\u001b[39m=\u001b[39mnp\u001b[39m.\u001b[39mfloat32)\n\u001b[0;32m   2217\u001b[0m ptr_data, type_ptr_data, _ \u001b[39m=\u001b[39m _c_float_array(data)\n\u001b[1;32m-> 2218\u001b[0m _safe_call(_LIB\u001b[39m.\u001b[39;49mLGBM_DatasetCreateFromMat(\n\u001b[0;32m   2219\u001b[0m     ptr_data,\n\u001b[0;32m   2220\u001b[0m     ctypes\u001b[39m.\u001b[39;49mc_int(type_ptr_data),\n\u001b[0;32m   2221\u001b[0m     ctypes\u001b[39m.\u001b[39;49mc_int32(mat\u001b[39m.\u001b[39;49mshape[\u001b[39m0\u001b[39;49m]),\n\u001b[0;32m   2222\u001b[0m     ctypes\u001b[39m.\u001b[39;49mc_int32(mat\u001b[39m.\u001b[39;49mshape[\u001b[39m1\u001b[39;49m]),\n\u001b[0;32m   2223\u001b[0m     ctypes\u001b[39m.\u001b[39;49mc_int(_C_API_IS_ROW_MAJOR),\n\u001b[0;32m   2224\u001b[0m     _c_str(params_str),\n\u001b[0;32m   2225\u001b[0m     ref_dataset,\n\u001b[0;32m   2226\u001b[0m     ctypes\u001b[39m.\u001b[39;49mbyref(\u001b[39mself\u001b[39;49m\u001b[39m.\u001b[39;49m_handle)))\n\u001b[0;32m   2227\u001b[0m \u001b[39mreturn\u001b[39;00m \u001b[39mself\u001b[39m\n",
      "\u001b[1;31mKeyboardInterrupt\u001b[0m: "
     ]
    }
   ],
   "source": [
    "IS_TRAINING = True\n",
    "cache_path = r'models\\clf_ens_stack.pkl'\n",
    "\n",
    "if IS_TRAINING:\n",
    "  cb_fold = lambda fold, scores: print(f'Fold {fold + 1} => AUC score: {scores[0]:.4f} (train) | {scores[1]:.4f} (valid)')\n",
    "  cb_end = lambda scores: print(f'Mean AUC oof score: {scores[0]:.4f} (train) | {scores[1]:.4f} (valid)')\n",
    "\n",
    "  auc_scores_train, auc_scores_valid = train_model(X, y,\n",
    "                                                  model=clf_ens_stack,\n",
    "                                                  preprocessor=preprocessor,\n",
    "                                                  scorer=roc_auc_score,\n",
    "                                                  cv_fold=skf,\n",
    "                                                  cb_fold=cb_fold,\n",
    "                                                  cb_end=cb_end)\n",
    "  mean_auc_train, mean_auc_valid = np.mean(auc_scores_train), np.mean(auc_scores_valid)\n",
    "  joblib.dump({\n",
    "    'model': clf_ens_stack,\n",
    "    'preprocessor_pipe': preprocessor_pipe,\n",
    "    'scores': (auc_scores_train, auc_scores_valid)\n",
    "    }, cache_path)\n",
    "else:\n",
    "  try:\n",
    "    cache = joblib.load(cache_path)\n",
    "    clf_ens_stack = cache['model']\n",
    "    preprocessor_pipe = cache['preprocessor_pipe']\n",
    "    auc_scores_train = cache['scores'][0]\n",
    "    auc_scores_valid = cache['scores'][1]\n",
    "  except FileNotFoundError:\n",
    "    print('Cached study file not found!')"
   ]
  }
 ],
 "metadata": {
  "kernelspec": {
   "display_name": "Python 3",
   "language": "python",
   "name": "python3"
  },
  "language_info": {
   "codemirror_mode": {
    "name": "ipython",
    "version": 3
   },
   "file_extension": ".py",
   "mimetype": "text/x-python",
   "name": "python",
   "nbconvert_exporter": "python",
   "pygments_lexer": "ipython3",
   "version": "3.11.7"
  }
 },
 "nbformat": 4,
 "nbformat_minor": 2
}
