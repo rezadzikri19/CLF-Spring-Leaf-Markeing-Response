{
 "cells": [
  {
   "cell_type": "markdown",
   "metadata": {},
   "source": [
    "### **Import Libraries**"
   ]
  },
  {
   "cell_type": "code",
   "execution_count": 85,
   "metadata": {},
   "outputs": [],
   "source": [
    "import pandas as pd\n",
    "import numpy as np\n",
    "import joblib\n",
    "\n",
    "import gc\n",
    "import os\n",
    "import glob\n",
    "import logging\n",
    "\n",
    "from typing import Tuple, List, Dict, Optional, Union, Callable, Any, Iterator\n",
    "\n",
    "import optuna\n",
    "from optuna.trial import Trial\n",
    "from optuna.study import Study\n",
    "\n",
    "from datetime import datetime\n",
    "from typing import List\n",
    "\n",
    "from fuzzywuzzy import fuzz\n",
    "from fuzzywuzzy import process\n",
    "\n",
    "import seaborn as sns\n",
    "import matplotlib.pyplot as plt\n",
    "\n",
    "from sklearn.base import BaseEstimator, TransformerMixin\n",
    "\n",
    "from sklearn.linear_model import LogisticRegression\n",
    "from sklearn.preprocessing import LabelEncoder, RobustScaler, OrdinalEncoder, StandardScaler\n",
    "from sklearn.metrics import roc_auc_score, roc_curve\n",
    "from sklearn.model_selection import train_test_split, StratifiedKFold, RepeatedStratifiedKFold\n",
    "from sklearn.pipeline import Pipeline\n",
    "from sklearn.compose import ColumnTransformer\n",
    "from sklearn.impute import SimpleImputer, KNNImputer\n",
    "from sklearn.ensemble import IsolationForest\n",
    "\n",
    "from imblearn.under_sampling import TomekLinks, RandomUnderSampler\n",
    "from imblearn.over_sampling import SMOTENC, RandomOverSampler\n",
    "\n",
    "from lightgbm import LGBMClassifier\n",
    "from xgboost import XGBClassifier"
   ]
  },
  {
   "cell_type": "markdown",
   "metadata": {},
   "source": [
    "### **Settings**"
   ]
  },
  {
   "cell_type": "code",
   "execution_count": 2,
   "metadata": {},
   "outputs": [],
   "source": [
    "pd.set_option('display.max_columns', 50)\n",
    "pd.set_option('display.max_rows', 100)"
   ]
  },
  {
   "cell_type": "markdown",
   "metadata": {},
   "source": [
    "### **Load Dataset**"
   ]
  },
  {
   "cell_type": "code",
   "execution_count": 3,
   "metadata": {},
   "outputs": [
    {
     "name": "stderr",
     "output_type": "stream",
     "text": [
      "C:\\Users\\msi.pc\\AppData\\Local\\Temp\\ipykernel_20460\\2736376315.py:3: DtypeWarning: Columns (8,9,10,11,12,43,157,196,214,225,228,229,231,235,238) have mixed types. Specify dtype option on import or set low_memory=False.\n",
      "  df = pd.read_csv(train_path)\n"
     ]
    },
    {
     "data": {
      "text/html": [
       "<div>\n",
       "<style scoped>\n",
       "    .dataframe tbody tr th:only-of-type {\n",
       "        vertical-align: middle;\n",
       "    }\n",
       "\n",
       "    .dataframe tbody tr th {\n",
       "        vertical-align: top;\n",
       "    }\n",
       "\n",
       "    .dataframe thead th {\n",
       "        text-align: right;\n",
       "    }\n",
       "</style>\n",
       "<table border=\"1\" class=\"dataframe\">\n",
       "  <thead>\n",
       "    <tr style=\"text-align: right;\">\n",
       "      <th></th>\n",
       "      <th>ID</th>\n",
       "      <th>VAR_0001</th>\n",
       "      <th>VAR_0002</th>\n",
       "      <th>VAR_0003</th>\n",
       "      <th>VAR_0004</th>\n",
       "      <th>VAR_0005</th>\n",
       "      <th>VAR_0006</th>\n",
       "      <th>VAR_0007</th>\n",
       "      <th>VAR_0008</th>\n",
       "      <th>VAR_0009</th>\n",
       "      <th>VAR_0010</th>\n",
       "      <th>VAR_0011</th>\n",
       "      <th>VAR_0012</th>\n",
       "      <th>VAR_0013</th>\n",
       "      <th>VAR_0014</th>\n",
       "      <th>VAR_0015</th>\n",
       "      <th>VAR_0016</th>\n",
       "      <th>VAR_0017</th>\n",
       "      <th>VAR_0018</th>\n",
       "      <th>VAR_0019</th>\n",
       "      <th>VAR_0020</th>\n",
       "      <th>VAR_0021</th>\n",
       "      <th>VAR_0022</th>\n",
       "      <th>VAR_0023</th>\n",
       "      <th>VAR_0024</th>\n",
       "      <th>...</th>\n",
       "      <th>VAR_1911</th>\n",
       "      <th>VAR_1912</th>\n",
       "      <th>VAR_1913</th>\n",
       "      <th>VAR_1914</th>\n",
       "      <th>VAR_1915</th>\n",
       "      <th>VAR_1916</th>\n",
       "      <th>VAR_1917</th>\n",
       "      <th>VAR_1918</th>\n",
       "      <th>VAR_1919</th>\n",
       "      <th>VAR_1920</th>\n",
       "      <th>VAR_1921</th>\n",
       "      <th>VAR_1922</th>\n",
       "      <th>VAR_1923</th>\n",
       "      <th>VAR_1924</th>\n",
       "      <th>VAR_1925</th>\n",
       "      <th>VAR_1926</th>\n",
       "      <th>VAR_1927</th>\n",
       "      <th>VAR_1928</th>\n",
       "      <th>VAR_1929</th>\n",
       "      <th>VAR_1930</th>\n",
       "      <th>VAR_1931</th>\n",
       "      <th>VAR_1932</th>\n",
       "      <th>VAR_1933</th>\n",
       "      <th>VAR_1934</th>\n",
       "      <th>target</th>\n",
       "    </tr>\n",
       "  </thead>\n",
       "  <tbody>\n",
       "    <tr>\n",
       "      <th>0</th>\n",
       "      <td>2</td>\n",
       "      <td>H</td>\n",
       "      <td>224</td>\n",
       "      <td>0</td>\n",
       "      <td>4300</td>\n",
       "      <td>C</td>\n",
       "      <td>0.0</td>\n",
       "      <td>0.0</td>\n",
       "      <td>False</td>\n",
       "      <td>False</td>\n",
       "      <td>False</td>\n",
       "      <td>False</td>\n",
       "      <td>False</td>\n",
       "      <td>0.0</td>\n",
       "      <td>0.0</td>\n",
       "      <td>0.0</td>\n",
       "      <td>1.0</td>\n",
       "      <td>0.0</td>\n",
       "      <td>0.0</td>\n",
       "      <td>0.0</td>\n",
       "      <td>0.0</td>\n",
       "      <td>0.0</td>\n",
       "      <td>0.0</td>\n",
       "      <td>0.0</td>\n",
       "      <td>0.0</td>\n",
       "      <td>...</td>\n",
       "      <td>998</td>\n",
       "      <td>999999998</td>\n",
       "      <td>999999998</td>\n",
       "      <td>999999998</td>\n",
       "      <td>999999998</td>\n",
       "      <td>998</td>\n",
       "      <td>998</td>\n",
       "      <td>9998</td>\n",
       "      <td>9998</td>\n",
       "      <td>0</td>\n",
       "      <td>98</td>\n",
       "      <td>999999998</td>\n",
       "      <td>999999998</td>\n",
       "      <td>9998</td>\n",
       "      <td>0</td>\n",
       "      <td>98</td>\n",
       "      <td>98</td>\n",
       "      <td>998</td>\n",
       "      <td>999999998</td>\n",
       "      <td>998</td>\n",
       "      <td>998</td>\n",
       "      <td>9998</td>\n",
       "      <td>9998</td>\n",
       "      <td>IAPS</td>\n",
       "      <td>0</td>\n",
       "    </tr>\n",
       "    <tr>\n",
       "      <th>1</th>\n",
       "      <td>4</td>\n",
       "      <td>H</td>\n",
       "      <td>7</td>\n",
       "      <td>53</td>\n",
       "      <td>4448</td>\n",
       "      <td>B</td>\n",
       "      <td>1.0</td>\n",
       "      <td>0.0</td>\n",
       "      <td>False</td>\n",
       "      <td>False</td>\n",
       "      <td>False</td>\n",
       "      <td>False</td>\n",
       "      <td>False</td>\n",
       "      <td>1.0</td>\n",
       "      <td>0.0</td>\n",
       "      <td>1.0</td>\n",
       "      <td>2.0</td>\n",
       "      <td>1.0</td>\n",
       "      <td>0.0</td>\n",
       "      <td>0.0</td>\n",
       "      <td>0.0</td>\n",
       "      <td>0.0</td>\n",
       "      <td>0.0</td>\n",
       "      <td>0.0</td>\n",
       "      <td>0.0</td>\n",
       "      <td>...</td>\n",
       "      <td>0</td>\n",
       "      <td>6546</td>\n",
       "      <td>6546</td>\n",
       "      <td>6125</td>\n",
       "      <td>76</td>\n",
       "      <td>1</td>\n",
       "      <td>1</td>\n",
       "      <td>9996</td>\n",
       "      <td>111</td>\n",
       "      <td>0</td>\n",
       "      <td>98</td>\n",
       "      <td>999999998</td>\n",
       "      <td>999999998</td>\n",
       "      <td>9998</td>\n",
       "      <td>0</td>\n",
       "      <td>98</td>\n",
       "      <td>98</td>\n",
       "      <td>998</td>\n",
       "      <td>999999998</td>\n",
       "      <td>998</td>\n",
       "      <td>998</td>\n",
       "      <td>9998</td>\n",
       "      <td>9998</td>\n",
       "      <td>IAPS</td>\n",
       "      <td>0</td>\n",
       "    </tr>\n",
       "    <tr>\n",
       "      <th>2</th>\n",
       "      <td>5</td>\n",
       "      <td>H</td>\n",
       "      <td>116</td>\n",
       "      <td>3</td>\n",
       "      <td>3464</td>\n",
       "      <td>C</td>\n",
       "      <td>0.0</td>\n",
       "      <td>0.0</td>\n",
       "      <td>False</td>\n",
       "      <td>False</td>\n",
       "      <td>False</td>\n",
       "      <td>False</td>\n",
       "      <td>False</td>\n",
       "      <td>0.0</td>\n",
       "      <td>0.0</td>\n",
       "      <td>0.0</td>\n",
       "      <td>1.0</td>\n",
       "      <td>0.0</td>\n",
       "      <td>0.0</td>\n",
       "      <td>0.0</td>\n",
       "      <td>0.0</td>\n",
       "      <td>0.0</td>\n",
       "      <td>0.0</td>\n",
       "      <td>0.0</td>\n",
       "      <td>0.0</td>\n",
       "      <td>...</td>\n",
       "      <td>997</td>\n",
       "      <td>999999997</td>\n",
       "      <td>999999997</td>\n",
       "      <td>999999997</td>\n",
       "      <td>999999997</td>\n",
       "      <td>1</td>\n",
       "      <td>997</td>\n",
       "      <td>9996</td>\n",
       "      <td>113</td>\n",
       "      <td>0</td>\n",
       "      <td>98</td>\n",
       "      <td>999999998</td>\n",
       "      <td>999999998</td>\n",
       "      <td>9998</td>\n",
       "      <td>0</td>\n",
       "      <td>98</td>\n",
       "      <td>98</td>\n",
       "      <td>998</td>\n",
       "      <td>999999998</td>\n",
       "      <td>998</td>\n",
       "      <td>998</td>\n",
       "      <td>9998</td>\n",
       "      <td>9998</td>\n",
       "      <td>IAPS</td>\n",
       "      <td>0</td>\n",
       "    </tr>\n",
       "    <tr>\n",
       "      <th>3</th>\n",
       "      <td>7</td>\n",
       "      <td>H</td>\n",
       "      <td>240</td>\n",
       "      <td>300</td>\n",
       "      <td>3200</td>\n",
       "      <td>C</td>\n",
       "      <td>0.0</td>\n",
       "      <td>0.0</td>\n",
       "      <td>False</td>\n",
       "      <td>False</td>\n",
       "      <td>False</td>\n",
       "      <td>False</td>\n",
       "      <td>False</td>\n",
       "      <td>0.0</td>\n",
       "      <td>0.0</td>\n",
       "      <td>0.0</td>\n",
       "      <td>2.0</td>\n",
       "      <td>0.0</td>\n",
       "      <td>0.0</td>\n",
       "      <td>0.0</td>\n",
       "      <td>0.0</td>\n",
       "      <td>0.0</td>\n",
       "      <td>0.0</td>\n",
       "      <td>0.0</td>\n",
       "      <td>0.0</td>\n",
       "      <td>...</td>\n",
       "      <td>998</td>\n",
       "      <td>999999998</td>\n",
       "      <td>999999998</td>\n",
       "      <td>999999998</td>\n",
       "      <td>999999998</td>\n",
       "      <td>998</td>\n",
       "      <td>998</td>\n",
       "      <td>9998</td>\n",
       "      <td>9998</td>\n",
       "      <td>0</td>\n",
       "      <td>98</td>\n",
       "      <td>999999998</td>\n",
       "      <td>999999998</td>\n",
       "      <td>9998</td>\n",
       "      <td>0</td>\n",
       "      <td>98</td>\n",
       "      <td>98</td>\n",
       "      <td>998</td>\n",
       "      <td>999999998</td>\n",
       "      <td>998</td>\n",
       "      <td>998</td>\n",
       "      <td>9998</td>\n",
       "      <td>9998</td>\n",
       "      <td>RCC</td>\n",
       "      <td>0</td>\n",
       "    </tr>\n",
       "    <tr>\n",
       "      <th>4</th>\n",
       "      <td>8</td>\n",
       "      <td>R</td>\n",
       "      <td>72</td>\n",
       "      <td>261</td>\n",
       "      <td>2000</td>\n",
       "      <td>N</td>\n",
       "      <td>0.0</td>\n",
       "      <td>0.0</td>\n",
       "      <td>False</td>\n",
       "      <td>False</td>\n",
       "      <td>False</td>\n",
       "      <td>False</td>\n",
       "      <td>False</td>\n",
       "      <td>0.0</td>\n",
       "      <td>0.0</td>\n",
       "      <td>0.0</td>\n",
       "      <td>1.0</td>\n",
       "      <td>0.0</td>\n",
       "      <td>0.0</td>\n",
       "      <td>0.0</td>\n",
       "      <td>0.0</td>\n",
       "      <td>0.0</td>\n",
       "      <td>0.0</td>\n",
       "      <td>0.0</td>\n",
       "      <td>0.0</td>\n",
       "      <td>...</td>\n",
       "      <td>998</td>\n",
       "      <td>999999998</td>\n",
       "      <td>999999998</td>\n",
       "      <td>999999998</td>\n",
       "      <td>999999998</td>\n",
       "      <td>998</td>\n",
       "      <td>998</td>\n",
       "      <td>9998</td>\n",
       "      <td>9998</td>\n",
       "      <td>0</td>\n",
       "      <td>98</td>\n",
       "      <td>999999998</td>\n",
       "      <td>999999998</td>\n",
       "      <td>9998</td>\n",
       "      <td>0</td>\n",
       "      <td>98</td>\n",
       "      <td>98</td>\n",
       "      <td>998</td>\n",
       "      <td>999999998</td>\n",
       "      <td>998</td>\n",
       "      <td>998</td>\n",
       "      <td>9998</td>\n",
       "      <td>9998</td>\n",
       "      <td>BRANCH</td>\n",
       "      <td>1</td>\n",
       "    </tr>\n",
       "  </tbody>\n",
       "</table>\n",
       "<p>5 rows × 1934 columns</p>\n",
       "</div>"
      ],
      "text/plain": [
       "   ID VAR_0001  VAR_0002  VAR_0003  VAR_0004 VAR_0005  VAR_0006  VAR_0007  \\\n",
       "0   2        H       224         0      4300        C       0.0       0.0   \n",
       "1   4        H         7        53      4448        B       1.0       0.0   \n",
       "2   5        H       116         3      3464        C       0.0       0.0   \n",
       "3   7        H       240       300      3200        C       0.0       0.0   \n",
       "4   8        R        72       261      2000        N       0.0       0.0   \n",
       "\n",
       "  VAR_0008 VAR_0009 VAR_0010 VAR_0011 VAR_0012  VAR_0013  VAR_0014  VAR_0015  \\\n",
       "0    False    False    False    False    False       0.0       0.0       0.0   \n",
       "1    False    False    False    False    False       1.0       0.0       1.0   \n",
       "2    False    False    False    False    False       0.0       0.0       0.0   \n",
       "3    False    False    False    False    False       0.0       0.0       0.0   \n",
       "4    False    False    False    False    False       0.0       0.0       0.0   \n",
       "\n",
       "   VAR_0016  VAR_0017  VAR_0018  VAR_0019  VAR_0020  VAR_0021  VAR_0022  \\\n",
       "0       1.0       0.0       0.0       0.0       0.0       0.0       0.0   \n",
       "1       2.0       1.0       0.0       0.0       0.0       0.0       0.0   \n",
       "2       1.0       0.0       0.0       0.0       0.0       0.0       0.0   \n",
       "3       2.0       0.0       0.0       0.0       0.0       0.0       0.0   \n",
       "4       1.0       0.0       0.0       0.0       0.0       0.0       0.0   \n",
       "\n",
       "   VAR_0023  VAR_0024  ...  VAR_1911   VAR_1912   VAR_1913   VAR_1914  \\\n",
       "0       0.0       0.0  ...       998  999999998  999999998  999999998   \n",
       "1       0.0       0.0  ...         0       6546       6546       6125   \n",
       "2       0.0       0.0  ...       997  999999997  999999997  999999997   \n",
       "3       0.0       0.0  ...       998  999999998  999999998  999999998   \n",
       "4       0.0       0.0  ...       998  999999998  999999998  999999998   \n",
       "\n",
       "    VAR_1915  VAR_1916  VAR_1917  VAR_1918  VAR_1919  VAR_1920  VAR_1921  \\\n",
       "0  999999998       998       998      9998      9998         0        98   \n",
       "1         76         1         1      9996       111         0        98   \n",
       "2  999999997         1       997      9996       113         0        98   \n",
       "3  999999998       998       998      9998      9998         0        98   \n",
       "4  999999998       998       998      9998      9998         0        98   \n",
       "\n",
       "    VAR_1922   VAR_1923  VAR_1924  VAR_1925  VAR_1926  VAR_1927  VAR_1928  \\\n",
       "0  999999998  999999998      9998         0        98        98       998   \n",
       "1  999999998  999999998      9998         0        98        98       998   \n",
       "2  999999998  999999998      9998         0        98        98       998   \n",
       "3  999999998  999999998      9998         0        98        98       998   \n",
       "4  999999998  999999998      9998         0        98        98       998   \n",
       "\n",
       "    VAR_1929 VAR_1930  VAR_1931  VAR_1932  VAR_1933  VAR_1934  target  \n",
       "0  999999998      998       998      9998      9998      IAPS       0  \n",
       "1  999999998      998       998      9998      9998      IAPS       0  \n",
       "2  999999998      998       998      9998      9998      IAPS       0  \n",
       "3  999999998      998       998      9998      9998       RCC       0  \n",
       "4  999999998      998       998      9998      9998    BRANCH       1  \n",
       "\n",
       "[5 rows x 1934 columns]"
      ]
     },
     "execution_count": 3,
     "metadata": {},
     "output_type": "execute_result"
    }
   ],
   "source": [
    "train_path = r'D:\\Project\\Python\\Portfolio\\Big Data\\[Bottleneck] CLS - Spring Leaf Markeing Response\\data\\train.csv'\n",
    "\n",
    "df = pd.read_csv(train_path)\n",
    "df.head()"
   ]
  },
  {
   "cell_type": "code",
   "execution_count": 4,
   "metadata": {},
   "outputs": [
    {
     "name": "stdout",
     "output_type": "stream",
     "text": [
      "Dataset shape: (145231, 1934)\n"
     ]
    }
   ],
   "source": [
    "print(f'Dataset shape: {df.shape}')"
   ]
  },
  {
   "cell_type": "code",
   "execution_count": 5,
   "metadata": {},
   "outputs": [
    {
     "name": "stdout",
     "output_type": "stream",
     "text": [
      "<class 'pandas.core.frame.DataFrame'>\n",
      "RangeIndex: 145231 entries, 0 to 145230\n",
      "Columns: 1934 entries, ID to target\n",
      "dtypes: float64(477), int64(1406), object(51)\n",
      "memory usage: 2.3 GB\n"
     ]
    }
   ],
   "source": [
    "df.info(memory_usage='deep')"
   ]
  },
  {
   "cell_type": "code",
   "execution_count": 6,
   "metadata": {},
   "outputs": [],
   "source": [
    "def is_convertable_sr(col: pd.Series) -> bool:\n",
    "  if col.dtype == np.int64 and\\\n",
    "      col.max() <= np.iinfo(np.int32).max and\\\n",
    "      col.min() >= np.iinfo(np.int32).min: return True\n",
    "  \n",
    "  if col.dtype == np.float64 and\\\n",
    "      col.max() <= np.finfo(np.float32).max and\\\n",
    "      col.min() >= np.finfo(np.float32).min: return True\n",
    "  \n",
    "  if np.isnan(col.max()): return True\n",
    "\n",
    "  return False\n",
    "\n",
    "def save_memory_df(df_origin: pd.DataFrame) -> pd.DataFrame:\n",
    "  int_cols = df_origin.select_dtypes(np.int64).columns\n",
    "  float_cols = df_origin.select_dtypes(np.float64).columns\n",
    "  \n",
    "  int_cols = [col for col in int_cols if is_convertable_sr(df_origin[col])]\n",
    "  float_cols = [col for col in float_cols if is_convertable_sr(df_origin[col])]\n",
    "  \n",
    "  int_cols = {col: np.int32 for col in int_cols}\n",
    "  float_cols = {col: np.float32 for col in float_cols}\n",
    "\n",
    "  df_origin = df_origin.astype(int_cols)\n",
    "  df_origin = df_origin.astype(float_cols)\n",
    "  \n",
    "  return df_origin\n",
    "\n",
    "def save_memory_sr(sr_origin: pd.Series) -> pd.Series:\n",
    "  if sr_origin.dtype == np.int64 and is_convertable_sr(sr_origin): sr_origin.astype(np.int32)\n",
    "  if sr_origin.dtype == np.float64 and is_convertable_sr(sr_origin): sr_origin.astype(np.float32)\n",
    "  \n",
    "  return sr_origin\n",
    "\n",
    "df = save_memory_df(df)"
   ]
  },
  {
   "cell_type": "code",
   "execution_count": 7,
   "metadata": {},
   "outputs": [
    {
     "name": "stdout",
     "output_type": "stream",
     "text": [
      "<class 'pandas.core.frame.DataFrame'>\n",
      "RangeIndex: 145231 entries, 0 to 145230\n",
      "Columns: 1934 entries, ID to target\n",
      "dtypes: float32(477), int32(1406), object(51)\n",
      "memory usage: 1.3 GB\n"
     ]
    }
   ],
   "source": [
    "df.info(memory_usage='deep')"
   ]
  },
  {
   "cell_type": "markdown",
   "metadata": {},
   "source": [
    "### **EDA**"
   ]
  },
  {
   "cell_type": "markdown",
   "metadata": {},
   "source": [
    "##### **A. Target value**"
   ]
  },
  {
   "cell_type": "code",
   "execution_count": 8,
   "metadata": {},
   "outputs": [
    {
     "name": "stdout",
     "output_type": "stream",
     "text": [
      "Ratio of target (1 and 0): 3.300210227104492\n"
     ]
    },
    {
     "data": {
      "image/png": "[encoded data removed]",
      "text/plain": [
       "<Figure size 400x400 with 1 Axes>"
      ]
     },
     "metadata": {},
     "output_type": "display_data"
    }
   ],
   "source": [
    "target_dist = df['target'].value_counts().sort_values(ascending=False)\n",
    "target_dist.plot(kind='bar',\n",
    "                 figsize=(4, 4),\n",
    "                 title='Target Value Count',\n",
    "                 xlabel='Target',\n",
    "                 ylabel='Count')\n",
    "\n",
    "mayor_minor_ratio = target_dist[0] / target_dist[1]\n",
    "print(f'Ratio of target (1 and 0): {mayor_minor_ratio}')"
   ]
  },
  {
   "cell_type": "markdown",
   "metadata": {},
   "source": [
    "##### **B. Missing value - column**"
   ]
  },
  {
   "cell_type": "code",
   "execution_count": 9,
   "metadata": {},
   "outputs": [
    {
     "data": {
      "text/plain": [
       "<Axes: title={'center': 'Top 50 of % of Missing Value vs Feature'}, xlabel='Feature', ylabel='% of Missing Value'>"
      ]
     },
     "execution_count": 9,
     "metadata": {},
     "output_type": "execute_result"
    },
    {
     "data": {
      "image/png": "[encoded data removed]",
      "text/plain": [
       "<Figure size 1500x300 with 1 Axes>"
      ]
     },
     "metadata": {},
     "output_type": "display_data"
    }
   ],
   "source": [
    "df_cols_null = df.isna().mean().sort_values(ascending=False).drop('target')\n",
    "\n",
    "df_cols_null[:51].plot(kind='bar',\n",
    "                       figsize=(15, 3),\n",
    "                       title=r'Top 50 of % of Missing Value vs Feature',\n",
    "                       xlabel='Feature',\n",
    "                       ylabel=r'% of Missing Value')"
   ]
  },
  {
   "cell_type": "code",
   "execution_count": 10,
   "metadata": {},
   "outputs": [
    {
     "name": "stdout",
     "output_type": "stream",
     "text": [
      "Numbers of feature(s): 24\n",
      "Features: ['VAR_0207', 'VAR_0213', 'VAR_0840', 'VAR_0214', 'VAR_0157', 'VAR_0158', 'VAR_0205', 'VAR_0206', 'VAR_0167', 'VAR_0177', 'VAR_0156', 'VAR_0159', 'VAR_0209', 'VAR_0168', 'VAR_0178', 'VAR_0166', 'VAR_0169', 'VAR_0179', 'VAR_0176', 'VAR_0211', 'VAR_0210', 'VAR_0208', 'VAR_0073', 'VAR_0074']\n"
     ]
    }
   ],
   "source": [
    "df_cols_null_70p = df_cols_null[df_cols_null > 0.69]\n",
    "df_cols_null_70p = df_cols_null_70p.index.to_list()\n",
    "\n",
    "print(f'Numbers of feature(s): {len(df_cols_null_70p)}\\nFeatures: {df_cols_null_70p}')"
   ]
  },
  {
   "cell_type": "markdown",
   "metadata": {},
   "source": [
    "##### **C. Single unique value feature**"
   ]
  },
  {
   "cell_type": "code",
   "execution_count": 11,
   "metadata": {},
   "outputs": [
    {
     "name": "stdout",
     "output_type": "stream",
     "text": [
      "Numbers of numerical feature(s): 1883\n",
      "Numbers of categorical feature(s): 51\n"
     ]
    }
   ],
   "source": [
    "df_num_cols = df.select_dtypes(exclude='object').columns\n",
    "df_cat_cols = df.select_dtypes('object').columns\n",
    "\n",
    "print(f'Numbers of numerical feature(s): {len(df_num_cols)}')\n",
    "print(f'Numbers of categorical feature(s): {len(df_cat_cols)}')"
   ]
  },
  {
   "cell_type": "code",
   "execution_count": 12,
   "metadata": {},
   "outputs": [
    {
     "data": {
      "text/plain": [
       "<Axes: title={'center': 'Bottom 50 of Numbers of Unique Value(s) vs Feature'}, xlabel='Feature', ylabel='Numbers of Unique Value(s)'>"
      ]
     },
     "execution_count": 12,
     "metadata": {},
     "output_type": "execute_result"
    },
    {
     "data": {
      "image/png": "[encoded data removed]",
      "text/plain": [
       "<Figure size 1500x300 with 1 Axes>"
      ]
     },
     "metadata": {},
     "output_type": "display_data"
    }
   ],
   "source": [
    "df_num_cols_low_var = df[df_num_cols].nunique().sort_values()\n",
    "df_num_cols_low_var = df_num_cols_low_var[df_num_cols_low_var > 0][:51]\n",
    "df_num_cols_low_var.plot(kind='bar',\n",
    "                       figsize=(15, 3),\n",
    "                       title=r'Bottom 50 of Numbers of Unique Value(s) vs Feature',\n",
    "                       xlabel='Feature',\n",
    "                       ylabel='Numbers of Unique Value(s)')"
   ]
  },
  {
   "cell_type": "code",
   "execution_count": 13,
   "metadata": {},
   "outputs": [
    {
     "name": "stdout",
     "output_type": "stream",
     "text": [
      "Numbers of feature(s): 38\n",
      "Features: ['VAR_0042', 'VAR_1428', 'VAR_0847', 'VAR_0446', 'VAR_0038', 'VAR_0039', 'VAR_0040', 'VAR_0041', 'VAR_0188', 'VAR_0189', 'VAR_0190', 'VAR_0197', 'VAR_0223', 'VAR_0199', 'VAR_0221', 'VAR_0203', 'VAR_0394', 'VAR_0031', 'VAR_0030', 'VAR_0032', 'VAR_0028', 'VAR_0528', 'VAR_0438', 'VAR_0530', 'VAR_0527', 'VAR_0246', 'VAR_0029', 'VAR_0018', 'VAR_0019', 'VAR_0215', 'VAR_0021', 'VAR_0022', 'VAR_0027', 'VAR_0026', 'VAR_0025', 'VAR_0023', 'VAR_0024', 'VAR_0020']\n"
     ]
    }
   ],
   "source": [
    "df_num_cols_single = df_num_cols_low_var[df_num_cols_low_var == 1]\n",
    "df_num_cols_single = df_num_cols_single.index.to_list()\n",
    "\n",
    "print(f'Numbers of feature(s): {len(df_num_cols_single)}\\nFeatures: {df_num_cols_single}')"
   ]
  },
  {
   "cell_type": "code",
   "execution_count": 14,
   "metadata": {},
   "outputs": [
    {
     "data": {
      "text/plain": [
       "<Axes: title={'center': 'Bottom of Numbers of Unique Value(s) vs Feature'}, xlabel='Feature', ylabel='Numbers of Unique Value(s)'>"
      ]
     },
     "execution_count": 14,
     "metadata": {},
     "output_type": "execute_result"
    },
    {
     "data": {
      "image/png": "[encoded data removed]",
      "text/plain": [
       "<Figure size 1500x300 with 1 Axes>"
      ]
     },
     "metadata": {},
     "output_type": "display_data"
    }
   ],
   "source": [
    "df_cat_cols_low_var = df[df_cat_cols].nunique().sort_values()\n",
    "df_cat_cols_low_var = df_cat_cols_low_var[df_cat_cols_low_var > 0][:51]\n",
    "df_cat_cols_low_var.plot(kind='bar',\n",
    "                       figsize=(15, 3),\n",
    "                       title=r'Bottom of Numbers of Unique Value(s) vs Feature',\n",
    "                       xlabel='Feature',\n",
    "                       ylabel='Numbers of Unique Value(s)')"
   ]
  },
  {
   "cell_type": "code",
   "execution_count": 15,
   "metadata": {},
   "outputs": [
    {
     "name": "stdout",
     "output_type": "stream",
     "text": [
      "Numbers of feature(s): 13\n",
      "Features: ['VAR_0202', 'VAR_0222', 'VAR_0229', 'VAR_0239', 'VAR_0216', 'VAR_0043', 'VAR_0044', 'VAR_0011', 'VAR_0010', 'VAR_0009', 'VAR_0008', 'VAR_0012', 'VAR_0196']\n"
     ]
    }
   ],
   "source": [
    "df_cat_cols_single = df_cat_cols_low_var[df_cat_cols_low_var == 1]\n",
    "df_cat_cols_single = df_cat_cols_single.index.to_list()\n",
    "\n",
    "print(f'Numbers of feature(s): {len(df_cat_cols_single)}\\nFeatures: {df_cat_cols_single}')"
   ]
  },
  {
   "cell_type": "markdown",
   "metadata": {},
   "source": [
    "##### **D. Missing Value (rows)**"
   ]
  },
  {
   "cell_type": "code",
   "execution_count": 16,
   "metadata": {},
   "outputs": [
    {
     "name": "stdout",
     "output_type": "stream",
     "text": [
      "Threshold for missing features: 0.2005164186709449\n",
      "\n",
      "Instance(s):\n",
      "9855      0.271458\n",
      "11910     0.271458\n",
      "13018     0.271458\n",
      "13447     0.271458\n",
      "16524     0.271458\n",
      "17461     0.271458\n",
      "20511     0.271458\n",
      "25658     0.271458\n",
      "27429     0.271458\n",
      "33001     0.271458\n",
      "36093     0.271458\n",
      "36534     0.271458\n",
      "40061     0.271458\n",
      "40317     0.271458\n",
      "40848     0.271458\n",
      "41185     0.271458\n",
      "43410     0.271458\n",
      "43629     0.271458\n",
      "45875     0.271458\n",
      "55156     0.271458\n",
      "56206     0.271458\n",
      "57191     0.271458\n",
      "58586     0.271458\n",
      "60229     0.271458\n",
      "62100     0.271458\n",
      "62455     0.271458\n",
      "65682     0.271458\n",
      "66061     0.271458\n",
      "70000     0.271458\n",
      "79003     0.271458\n",
      "79268     0.271458\n",
      "84358     0.271458\n",
      "85066     0.271458\n",
      "87829     0.271458\n",
      "88207     0.271458\n",
      "91939     0.271458\n",
      "94705     0.271458\n",
      "94729     0.271458\n",
      "96148     0.271458\n",
      "97962     0.271458\n",
      "105196    0.271458\n",
      "112029    0.271458\n",
      "115558    0.271458\n",
      "117069    0.271458\n",
      "122319    0.271458\n",
      "122527    0.271458\n",
      "124410    0.271458\n",
      "133942    0.271458\n",
      "135973    0.271458\n",
      "138754    0.271458\n",
      "139295    0.271458\n",
      "143274    0.271458\n",
      "143915    0.271458\n",
      "dtype: float64\n",
      "\n",
      "Instance(s) target distribution: \n",
      "target\n",
      "0    40\n",
      "1    13\n",
      "Name: count, dtype: int64\n",
      "\n"
     ]
    }
   ],
   "source": [
    "cols = df_cols_null_70p + df_num_cols_single + df_cat_cols_single\n",
    "threshold_null = 0.2 + len(cols)/len(df)\n",
    "\n",
    "row_null_count = df.isnull().mean(axis=1)\n",
    "row_null_count = row_null_count[row_null_count > threshold_null]\n",
    "df_row_null = row_null_count.index.to_list()\n",
    "\n",
    "dr_row_null_target_dist = df.iloc[df_row_null]['target'].value_counts()\n",
    "\n",
    "print(f'Threshold for missing features: {threshold_null}\\n')\n",
    "print(f'Instance(s):\\n{row_null_count}\\n')\n",
    "print(f'Instance(s) target distribution: \\n{dr_row_null_target_dist}\\n')"
   ]
  },
  {
   "cell_type": "markdown",
   "metadata": {},
   "source": [
    "# **Approach 1 (Baseline)**"
   ]
  },
  {
   "cell_type": "markdown",
   "metadata": {},
   "source": [
    "### **Feature engineering**"
   ]
  },
  {
   "cell_type": "code",
   "execution_count": 17,
   "metadata": {
    "tags": []
   },
   "outputs": [
    {
     "name": "stdout",
     "output_type": "stream",
     "text": [
      "Couldn't find program: 'skipped'\n"
     ]
    }
   ],
   "source": [
    "%%script skipped # Skipped for resource optimization\n",
    "\n",
    "def convert_str2cat(df_origin: pd.DataFrame) -> pd.DataFrame:\n",
    "  cat_cols = df_origin.select_dtypes('object').columns\n",
    "  \n",
    "  cat_cols = {col: 'category' for col in cat_cols}\n",
    "  df_origin = df_origin.astype(cat_cols)\n",
    "  \n",
    "  return df_origin\n",
    "\n",
    "df = convert_str2cat(df)"
   ]
  },
  {
   "cell_type": "markdown",
   "metadata": {},
   "source": [
    "### **Data splitting**"
   ]
  },
  {
   "cell_type": "markdown",
   "metadata": {},
   "source": [
    "##### **A. Train - test data split**"
   ]
  },
  {
   "cell_type": "code",
   "execution_count": 18,
   "metadata": {},
   "outputs": [
    {
     "name": "stdout",
     "output_type": "stream",
     "text": [
      "Couldn't find program: 'skipped'\n"
     ]
    }
   ],
   "source": [
    "%%script skipped # Skipped for resource optimization\n",
    "\n",
    "X, X_test, y, y_test = train_test_split(df.drop(columns=['ID', 'target'], axis=1),\n",
    "                                                    df['target'],\n",
    "                                                    test_size=0.2,\n",
    "                                                    random_state=42,\n",
    "                                                    stratify=df['target'])\n",
    "\n",
    "print(f'Train dataset shape (X): {X.shape}')\n",
    "print(f'Test dataset shape (X_test): {X_test.shape}')"
   ]
  },
  {
   "cell_type": "markdown",
   "metadata": {},
   "source": [
    "##### **B. Data folding**"
   ]
  },
  {
   "cell_type": "code",
   "execution_count": 19,
   "metadata": {},
   "outputs": [
    {
     "name": "stdout",
     "output_type": "stream",
     "text": [
      "Couldn't find program: 'skipped'\n"
     ]
    }
   ],
   "source": [
    "%%script skipped # Skipped for resource optimization\n",
    "\n",
    "n_splits = 10\n",
    "skf = StratifiedKFold(n_splits=n_splits, shuffle=True, random_state=42)"
   ]
  },
  {
   "cell_type": "markdown",
   "metadata": {},
   "source": [
    "### **Model preparation**"
   ]
  },
  {
   "cell_type": "code",
   "execution_count": 20,
   "metadata": {},
   "outputs": [
    {
     "name": "stdout",
     "output_type": "stream",
     "text": [
      "Couldn't find program: 'skipped'\n"
     ]
    }
   ],
   "source": [
    "%%script skipped # Skipped for resource optimization\n",
    "\n",
    "classifier = LGBMClassifier(objective='binary', metric='auc', n_jobs=4)"
   ]
  },
  {
   "cell_type": "markdown",
   "metadata": {},
   "source": [
    "### **Model training**"
   ]
  },
  {
   "cell_type": "code",
   "execution_count": 21,
   "metadata": {},
   "outputs": [
    {
     "name": "stdout",
     "output_type": "stream",
     "text": [
      "Couldn't find program: 'skipped'\n"
     ]
    }
   ],
   "source": [
    "%%script skipped # Skipped for resource optimization\n",
    "\n",
    "X_num_cols = X.select_dtypes(exclude='category').columns\n",
    "X_cat_cols = X.select_dtypes('category').columns"
   ]
  },
  {
   "cell_type": "code",
   "execution_count": 22,
   "metadata": {},
   "outputs": [
    {
     "name": "stdout",
     "output_type": "stream",
     "text": [
      "Couldn't find program: 'skipped'\n"
     ]
    }
   ],
   "source": [
    "%%script skipped # Skipped for resource optimization\n",
    "\n",
    "auc_scores = np.zeros(n_splits)\n",
    "\n",
    "for fold, (train_idx, valid_idx) in enumerate(skf.split(X, y)):\n",
    "  X_train, X_valid = X.iloc[train_idx], X.iloc[valid_idx]\n",
    "  y_train, y_valid = y.iloc[train_idx], y.iloc[valid_idx]\n",
    "    \n",
    "  classifier.fit(X_train, y_train, categorical_feature=X_cat_cols.to_list())\n",
    "  \n",
    "  y_probs = classifier.predict_proba(X_valid)[:, 1]\n",
    "  \n",
    "  auc = roc_auc_score(y_valid, y_probs)\n",
    "  auc_scores[fold] = auc\n",
    "  \n",
    "  print(f'Fold {fold} => AUC score: {auc}')\n",
    "  \n",
    "mean_auc = np.mean(auc_scores)\n",
    "print(f'Mean AUC oof score: {mean_auc:.4f}')"
   ]
  },
  {
   "cell_type": "code",
   "execution_count": 23,
   "metadata": {},
   "outputs": [
    {
     "name": "stdout",
     "output_type": "stream",
     "text": [
      "Couldn't find program: 'skipped'\n"
     ]
    }
   ],
   "source": [
    "%%script skipped # Skipped for resource optimization\n",
    "\n",
    "df_feat_imp = pd.DataFrame({'Feature': classifier.feature_name_, 'Importance': classifier.feature_importances_})\n",
    "df_feat_imp = df_feat_imp.sort_values(by='Importance', ascending=False)\n",
    "df_feat_imp[:50].plot(kind='bar',\n",
    "                      x='Feature',\n",
    "                      y='Importance',\n",
    "                      title=f'Feature Importance LGBM default (AUC = {mean_auc:.4f})',\n",
    "                      xlabel='Feature',\n",
    "                      ylabel='Feature Importance',\n",
    "                      figsize=(15, 3))"
   ]
  },
  {
   "cell_type": "code",
   "execution_count": 24,
   "metadata": {},
   "outputs": [
    {
     "name": "stdout",
     "output_type": "stream",
     "text": [
      "Couldn't find program: 'skipped'\n"
     ]
    }
   ],
   "source": [
    "%%script skipped # Skipped for resource optimization\n",
    "\n",
    "top_feat_50 = df[df_feat_imp[:50]['Feature']]\n",
    "top_feat_50.head()"
   ]
  },
  {
   "cell_type": "code",
   "execution_count": 25,
   "metadata": {},
   "outputs": [
    {
     "name": "stdout",
     "output_type": "stream",
     "text": [
      "Couldn't find program: 'skipped'\n"
     ]
    }
   ],
   "source": [
    "%%script skipped # Skipped for resource optimization\n",
    "\n",
    "cat_feat = top_feat_50.select_dtypes('category').columns\n",
    "num_feat = top_feat_50.select_dtypes(exclude='category').columns\n",
    "\n",
    "print(f'Numbers of categorical feature(s): {len(cat_feat)}')\n",
    "print(f'Numbers of numerical feature(s): {len(num_feat)}')"
   ]
  },
  {
   "cell_type": "code",
   "execution_count": 26,
   "metadata": {},
   "outputs": [
    {
     "name": "stdout",
     "output_type": "stream",
     "text": [
      "Couldn't find program: 'skipped'\n"
     ]
    }
   ],
   "source": [
    "%%script skipped # Skipped for resource optimization\n",
    "\n",
    "del df, X, X_test, y, y_train, n_splits, skf, classifier, X_num_cols, X_cat_cols, auc_scores, mean_auc, feature_importance_df, top_feat_50, cat_feat, num_feat\n",
    "gc.collect()"
   ]
  },
  {
   "cell_type": "markdown",
   "metadata": {},
   "source": [
    "# **Approach 2**\n",
    "Treat missing value as missing and perform imputation to fill the value."
   ]
  },
  {
   "cell_type": "code",
   "execution_count": 27,
   "metadata": {},
   "outputs": [
    {
     "name": "stdout",
     "output_type": "stream",
     "text": [
      "Couldn't find program: 'skipped'\n"
     ]
    }
   ],
   "source": [
    "%%script skipped # Skipped for resource optimization\n",
    "\n",
    "df = pd.read_csv(train_path)\n",
    "df = save_memory_df(df)\n",
    "\n",
    "df.info(memory_usage='deep')"
   ]
  },
  {
   "cell_type": "markdown",
   "metadata": {},
   "source": [
    "### **Feature Engineering**"
   ]
  },
  {
   "cell_type": "markdown",
   "metadata": {},
   "source": [
    "##### **A. Drop columns**"
   ]
  },
  {
   "cell_type": "code",
   "execution_count": 28,
   "metadata": {},
   "outputs": [
    {
     "name": "stdout",
     "output_type": "stream",
     "text": [
      "Total dropped columns: 75\n",
      "Dataset shape: (145231, 1859)\n"
     ]
    }
   ],
   "source": [
    "columns_to_drop = set(df_cols_null_70p + df_num_cols_single + df_cat_cols_single)\n",
    "df.drop(columns=columns_to_drop, inplace=True)\n",
    "\n",
    "print(f'Total dropped columns: {len(columns_to_drop)}')\n",
    "print(f'Dataset shape: {df.shape}')"
   ]
  },
  {
   "cell_type": "markdown",
   "metadata": {},
   "source": [
    "##### **B. Drop duplicates**"
   ]
  },
  {
   "cell_type": "code",
   "execution_count": 29,
   "metadata": {},
   "outputs": [
    {
     "name": "stdout",
     "output_type": "stream",
     "text": [
      "Numbers of duplicated in dataset: 0\n"
     ]
    }
   ],
   "source": [
    "df_duplicates = df.duplicated()\n",
    "df.drop_duplicates(inplace=True, keep='first')\n",
    "\n",
    "print(f'Numbers of duplicated in dataset: {df_duplicates.sum()}')"
   ]
  },
  {
   "cell_type": "markdown",
   "metadata": {},
   "source": [
    "##### **C. Drop rows**"
   ]
  },
  {
   "cell_type": "code",
   "execution_count": 30,
   "metadata": {},
   "outputs": [
    {
     "name": "stdout",
     "output_type": "stream",
     "text": [
      "Total dropped rows: 53\n",
      "Dataset shape: (145178, 1859)\n"
     ]
    }
   ],
   "source": [
    "rows_to_drop = df_row_null\n",
    "df.drop(index=rows_to_drop, axis=0, inplace=True)\n",
    "\n",
    "print(f'Total dropped rows: {len(rows_to_drop)}')\n",
    "print(f'Dataset shape: {df.shape}')"
   ]
  },
  {
   "cell_type": "markdown",
   "metadata": {},
   "source": [
    "##### **D. Categorical data**"
   ]
  },
  {
   "cell_type": "code",
   "execution_count": 31,
   "metadata": {},
   "outputs": [
    {
     "data": {
      "text/html": [
       "<div>\n",
       "<style scoped>\n",
       "    .dataframe tbody tr th:only-of-type {\n",
       "        vertical-align: middle;\n",
       "    }\n",
       "\n",
       "    .dataframe tbody tr th {\n",
       "        vertical-align: top;\n",
       "    }\n",
       "\n",
       "    .dataframe thead th {\n",
       "        text-align: right;\n",
       "    }\n",
       "</style>\n",
       "<table border=\"1\" class=\"dataframe\">\n",
       "  <thead>\n",
       "    <tr style=\"text-align: right;\">\n",
       "      <th></th>\n",
       "      <th>VAR_0001</th>\n",
       "      <th>VAR_0005</th>\n",
       "      <th>VAR_0075</th>\n",
       "      <th>VAR_0200</th>\n",
       "      <th>VAR_0204</th>\n",
       "      <th>VAR_0217</th>\n",
       "      <th>VAR_0226</th>\n",
       "      <th>VAR_0230</th>\n",
       "      <th>VAR_0232</th>\n",
       "      <th>VAR_0236</th>\n",
       "      <th>VAR_0237</th>\n",
       "      <th>VAR_0274</th>\n",
       "      <th>VAR_0283</th>\n",
       "      <th>VAR_0305</th>\n",
       "      <th>VAR_0325</th>\n",
       "      <th>VAR_0342</th>\n",
       "      <th>VAR_0352</th>\n",
       "      <th>VAR_0353</th>\n",
       "      <th>VAR_0354</th>\n",
       "      <th>VAR_0404</th>\n",
       "      <th>VAR_0466</th>\n",
       "      <th>VAR_0467</th>\n",
       "      <th>VAR_0493</th>\n",
       "      <th>VAR_1934</th>\n",
       "    </tr>\n",
       "  </thead>\n",
       "  <tbody>\n",
       "    <tr>\n",
       "      <th>0</th>\n",
       "      <td>H</td>\n",
       "      <td>C</td>\n",
       "      <td>08NOV11:00:00:00</td>\n",
       "      <td>FT LAUDERDALE</td>\n",
       "      <td>29JAN14:21:16:00</td>\n",
       "      <td>08NOV11:02:00:00</td>\n",
       "      <td>False</td>\n",
       "      <td>False</td>\n",
       "      <td>True</td>\n",
       "      <td>True</td>\n",
       "      <td>FL</td>\n",
       "      <td>FL</td>\n",
       "      <td>S</td>\n",
       "      <td>S</td>\n",
       "      <td>-1</td>\n",
       "      <td>CF</td>\n",
       "      <td>O</td>\n",
       "      <td>U</td>\n",
       "      <td>O</td>\n",
       "      <td>CHIEF EXECUTIVE OFFICER</td>\n",
       "      <td>-1</td>\n",
       "      <td>-1</td>\n",
       "      <td>COMMUNITY ASSOCIATION MANAGER</td>\n",
       "      <td>IAPS</td>\n",
       "    </tr>\n",
       "    <tr>\n",
       "      <th>1</th>\n",
       "      <td>H</td>\n",
       "      <td>B</td>\n",
       "      <td>10NOV11:00:00:00</td>\n",
       "      <td>SANTEE</td>\n",
       "      <td>01FEB14:00:11:00</td>\n",
       "      <td>02OCT12:02:00:00</td>\n",
       "      <td>False</td>\n",
       "      <td>False</td>\n",
       "      <td>False</td>\n",
       "      <td>True</td>\n",
       "      <td>CA</td>\n",
       "      <td>MI</td>\n",
       "      <td>S</td>\n",
       "      <td>S</td>\n",
       "      <td>H</td>\n",
       "      <td>EC</td>\n",
       "      <td>O</td>\n",
       "      <td>R</td>\n",
       "      <td>R</td>\n",
       "      <td>-1</td>\n",
       "      <td>I</td>\n",
       "      <td>Discharged</td>\n",
       "      <td>-1</td>\n",
       "      <td>IAPS</td>\n",
       "    </tr>\n",
       "    <tr>\n",
       "      <th>2</th>\n",
       "      <td>H</td>\n",
       "      <td>C</td>\n",
       "      <td>13DEC11:00:00:00</td>\n",
       "      <td>REEDSVILLE</td>\n",
       "      <td>30JAN14:15:11:00</td>\n",
       "      <td>13DEC11:02:00:00</td>\n",
       "      <td>False</td>\n",
       "      <td>False</td>\n",
       "      <td>True</td>\n",
       "      <td>True</td>\n",
       "      <td>WV</td>\n",
       "      <td>WV</td>\n",
       "      <td>S</td>\n",
       "      <td>P</td>\n",
       "      <td>R</td>\n",
       "      <td>UU</td>\n",
       "      <td>R</td>\n",
       "      <td>R</td>\n",
       "      <td>-1</td>\n",
       "      <td>-1</td>\n",
       "      <td>-1</td>\n",
       "      <td>-1</td>\n",
       "      <td>-1</td>\n",
       "      <td>IAPS</td>\n",
       "    </tr>\n",
       "    <tr>\n",
       "      <th>3</th>\n",
       "      <td>H</td>\n",
       "      <td>C</td>\n",
       "      <td>23SEP10:00:00:00</td>\n",
       "      <td>LIBERTY</td>\n",
       "      <td>01FEB14:00:07:00</td>\n",
       "      <td>01NOV12:02:00:00</td>\n",
       "      <td>False</td>\n",
       "      <td>False</td>\n",
       "      <td>False</td>\n",
       "      <td>True</td>\n",
       "      <td>TX</td>\n",
       "      <td>TX</td>\n",
       "      <td>S</td>\n",
       "      <td>P</td>\n",
       "      <td>H</td>\n",
       "      <td>-1</td>\n",
       "      <td>R</td>\n",
       "      <td>R</td>\n",
       "      <td>-1</td>\n",
       "      <td>-1</td>\n",
       "      <td>-1</td>\n",
       "      <td>-1</td>\n",
       "      <td>-1</td>\n",
       "      <td>RCC</td>\n",
       "    </tr>\n",
       "    <tr>\n",
       "      <th>4</th>\n",
       "      <td>R</td>\n",
       "      <td>N</td>\n",
       "      <td>15OCT11:00:00:00</td>\n",
       "      <td>FRANKFORT</td>\n",
       "      <td>29JAN14:19:31:00</td>\n",
       "      <td>15OCT11:02:00:00</td>\n",
       "      <td>False</td>\n",
       "      <td>False</td>\n",
       "      <td>True</td>\n",
       "      <td>True</td>\n",
       "      <td>IL</td>\n",
       "      <td>IL</td>\n",
       "      <td>S</td>\n",
       "      <td>P</td>\n",
       "      <td>S</td>\n",
       "      <td>-1</td>\n",
       "      <td>R</td>\n",
       "      <td>U</td>\n",
       "      <td>O</td>\n",
       "      <td>-1</td>\n",
       "      <td>-1</td>\n",
       "      <td>-1</td>\n",
       "      <td>-1</td>\n",
       "      <td>BRANCH</td>\n",
       "    </tr>\n",
       "  </tbody>\n",
       "</table>\n",
       "</div>"
      ],
      "text/plain": [
       "  VAR_0001 VAR_0005          VAR_0075       VAR_0200          VAR_0204  \\\n",
       "0        H        C  08NOV11:00:00:00  FT LAUDERDALE  29JAN14:21:16:00   \n",
       "1        H        B  10NOV11:00:00:00         SANTEE  01FEB14:00:11:00   \n",
       "2        H        C  13DEC11:00:00:00     REEDSVILLE  30JAN14:15:11:00   \n",
       "3        H        C  23SEP10:00:00:00        LIBERTY  01FEB14:00:07:00   \n",
       "4        R        N  15OCT11:00:00:00      FRANKFORT  29JAN14:19:31:00   \n",
       "\n",
       "           VAR_0217 VAR_0226 VAR_0230 VAR_0232 VAR_0236 VAR_0237 VAR_0274  \\\n",
       "0  08NOV11:02:00:00    False    False     True     True       FL       FL   \n",
       "1  02OCT12:02:00:00    False    False    False     True       CA       MI   \n",
       "2  13DEC11:02:00:00    False    False     True     True       WV       WV   \n",
       "3  01NOV12:02:00:00    False    False    False     True       TX       TX   \n",
       "4  15OCT11:02:00:00    False    False     True     True       IL       IL   \n",
       "\n",
       "  VAR_0283 VAR_0305 VAR_0325 VAR_0342 VAR_0352 VAR_0353 VAR_0354  \\\n",
       "0        S        S       -1       CF        O        U        O   \n",
       "1        S        S        H       EC        O        R        R   \n",
       "2        S        P        R       UU        R        R       -1   \n",
       "3        S        P        H       -1        R        R       -1   \n",
       "4        S        P        S       -1        R        U        O   \n",
       "\n",
       "                  VAR_0404 VAR_0466    VAR_0467  \\\n",
       "0  CHIEF EXECUTIVE OFFICER       -1          -1   \n",
       "1                       -1        I  Discharged   \n",
       "2                       -1       -1          -1   \n",
       "3                       -1       -1          -1   \n",
       "4                       -1       -1          -1   \n",
       "\n",
       "                        VAR_0493 VAR_1934  \n",
       "0  COMMUNITY ASSOCIATION MANAGER     IAPS  \n",
       "1                             -1     IAPS  \n",
       "2                             -1     IAPS  \n",
       "3                             -1      RCC  \n",
       "4                             -1   BRANCH  "
      ]
     },
     "execution_count": 31,
     "metadata": {},
     "output_type": "execute_result"
    }
   ],
   "source": [
    "df_cat_cols_new = df.select_dtypes('object').columns\n",
    "df[df_cat_cols_new].head()"
   ]
  },
  {
   "cell_type": "code",
   "execution_count": 32,
   "metadata": {},
   "outputs": [
    {
     "data": {
      "text/plain": [
       "VAR_0200    12385\n",
       "VAR_0075     2371\n",
       "VAR_0404     1823\n",
       "VAR_0204     1192\n",
       "VAR_0493      608\n",
       "VAR_0217      397\n",
       "VAR_0274       57\n",
       "VAR_0342       50\n",
       "VAR_0237       45\n",
       "VAR_0325        9\n",
       "VAR_0305        8\n",
       "VAR_0283        7\n",
       "VAR_1934        5\n",
       "VAR_0005        4\n",
       "VAR_0352        4\n",
       "VAR_0353        4\n",
       "VAR_0354        4\n",
       "VAR_0467        4\n",
       "VAR_0001        3\n",
       "VAR_0236        2\n",
       "VAR_0232        2\n",
       "VAR_0230        2\n",
       "VAR_0466        2\n",
       "VAR_0226        2\n",
       "dtype: int64"
      ]
     },
     "execution_count": 32,
     "metadata": {},
     "output_type": "execute_result"
    }
   ],
   "source": [
    "df[df_cat_cols_new].nunique().sort_values(ascending=False)"
   ]
  },
  {
   "cell_type": "code",
   "execution_count": 33,
   "metadata": {},
   "outputs": [],
   "source": [
    "def parse_str2time(df_origin: pd.DataFrame, cols: list, date_format, drop=False):\n",
    "  for _, col in enumerate(cols):\n",
    "    parsed_date = pd.to_datetime(df_origin[col], format=date_format)\n",
    "\n",
    "    df_origin[f'{col}_DAY'] = parsed_date.dt.day\n",
    "    df_origin[f'{col}_MONTH'] = parsed_date.dt.month\n",
    "    df_origin[f'{col}_YEAR'] = parsed_date.dt.month\n",
    "    \n",
    "    df_origin[f'{col}_HOUR'] = parsed_date.dt.hour\n",
    "    df_origin[f'{col}_MIN'] = parsed_date.dt.minute\n",
    "    \n",
    "    if drop:\n",
    "      df_origin.drop(columns=[col], inplace=True)\n",
    "    \n",
    "  return df_origin"
   ]
  },
  {
   "cell_type": "code",
   "execution_count": 34,
   "metadata": {},
   "outputs": [],
   "source": [
    "date_format = '%d%b%y:%H:%M:%S'\n",
    "date_cols = ['VAR_0075', 'VAR_0204', 'VAR_0217']\n",
    "\n",
    "df = parse_str2time(df_origin=df,\n",
    "                    cols=date_cols,\n",
    "                    date_format=date_format,\n",
    "                    drop=True)\n",
    "df = save_memory_df(df)"
   ]
  },
  {
   "cell_type": "code",
   "execution_count": 35,
   "metadata": {},
   "outputs": [
    {
     "data": {
      "text/html": [
       "<div>\n",
       "<style scoped>\n",
       "    .dataframe tbody tr th:only-of-type {\n",
       "        vertical-align: middle;\n",
       "    }\n",
       "\n",
       "    .dataframe tbody tr th {\n",
       "        vertical-align: top;\n",
       "    }\n",
       "\n",
       "    .dataframe thead th {\n",
       "        text-align: right;\n",
       "    }\n",
       "</style>\n",
       "<table border=\"1\" class=\"dataframe\">\n",
       "  <thead>\n",
       "    <tr style=\"text-align: right;\">\n",
       "      <th></th>\n",
       "      <th>VAR_0075_DAY</th>\n",
       "      <th>VAR_0075_MONTH</th>\n",
       "      <th>VAR_0075_YEAR</th>\n",
       "      <th>VAR_0075_HOUR</th>\n",
       "      <th>VAR_0075_MIN</th>\n",
       "    </tr>\n",
       "  </thead>\n",
       "  <tbody>\n",
       "    <tr>\n",
       "      <th>0</th>\n",
       "      <td>8.0</td>\n",
       "      <td>11.0</td>\n",
       "      <td>11.0</td>\n",
       "      <td>0.0</td>\n",
       "      <td>0.0</td>\n",
       "    </tr>\n",
       "    <tr>\n",
       "      <th>1</th>\n",
       "      <td>10.0</td>\n",
       "      <td>11.0</td>\n",
       "      <td>11.0</td>\n",
       "      <td>0.0</td>\n",
       "      <td>0.0</td>\n",
       "    </tr>\n",
       "    <tr>\n",
       "      <th>2</th>\n",
       "      <td>13.0</td>\n",
       "      <td>12.0</td>\n",
       "      <td>12.0</td>\n",
       "      <td>0.0</td>\n",
       "      <td>0.0</td>\n",
       "    </tr>\n",
       "    <tr>\n",
       "      <th>3</th>\n",
       "      <td>23.0</td>\n",
       "      <td>9.0</td>\n",
       "      <td>9.0</td>\n",
       "      <td>0.0</td>\n",
       "      <td>0.0</td>\n",
       "    </tr>\n",
       "    <tr>\n",
       "      <th>4</th>\n",
       "      <td>15.0</td>\n",
       "      <td>10.0</td>\n",
       "      <td>10.0</td>\n",
       "      <td>0.0</td>\n",
       "      <td>0.0</td>\n",
       "    </tr>\n",
       "  </tbody>\n",
       "</table>\n",
       "</div>"
      ],
      "text/plain": [
       "   VAR_0075_DAY  VAR_0075_MONTH  VAR_0075_YEAR  VAR_0075_HOUR  VAR_0075_MIN\n",
       "0           8.0            11.0           11.0            0.0           0.0\n",
       "1          10.0            11.0           11.0            0.0           0.0\n",
       "2          13.0            12.0           12.0            0.0           0.0\n",
       "3          23.0             9.0            9.0            0.0           0.0\n",
       "4          15.0            10.0           10.0            0.0           0.0"
      ]
     },
     "metadata": {},
     "output_type": "display_data"
    },
    {
     "data": {
      "text/html": [
       "<div>\n",
       "<style scoped>\n",
       "    .dataframe tbody tr th:only-of-type {\n",
       "        vertical-align: middle;\n",
       "    }\n",
       "\n",
       "    .dataframe tbody tr th {\n",
       "        vertical-align: top;\n",
       "    }\n",
       "\n",
       "    .dataframe thead th {\n",
       "        text-align: right;\n",
       "    }\n",
       "</style>\n",
       "<table border=\"1\" class=\"dataframe\">\n",
       "  <thead>\n",
       "    <tr style=\"text-align: right;\">\n",
       "      <th></th>\n",
       "      <th>VAR_0204_DAY</th>\n",
       "      <th>VAR_0204_MONTH</th>\n",
       "      <th>VAR_0204_YEAR</th>\n",
       "      <th>VAR_0204_HOUR</th>\n",
       "      <th>VAR_0204_MIN</th>\n",
       "    </tr>\n",
       "  </thead>\n",
       "  <tbody>\n",
       "    <tr>\n",
       "      <th>0</th>\n",
       "      <td>29.0</td>\n",
       "      <td>1.0</td>\n",
       "      <td>1.0</td>\n",
       "      <td>21.0</td>\n",
       "      <td>16.0</td>\n",
       "    </tr>\n",
       "    <tr>\n",
       "      <th>1</th>\n",
       "      <td>1.0</td>\n",
       "      <td>2.0</td>\n",
       "      <td>2.0</td>\n",
       "      <td>0.0</td>\n",
       "      <td>11.0</td>\n",
       "    </tr>\n",
       "    <tr>\n",
       "      <th>2</th>\n",
       "      <td>30.0</td>\n",
       "      <td>1.0</td>\n",
       "      <td>1.0</td>\n",
       "      <td>15.0</td>\n",
       "      <td>11.0</td>\n",
       "    </tr>\n",
       "    <tr>\n",
       "      <th>3</th>\n",
       "      <td>1.0</td>\n",
       "      <td>2.0</td>\n",
       "      <td>2.0</td>\n",
       "      <td>0.0</td>\n",
       "      <td>7.0</td>\n",
       "    </tr>\n",
       "    <tr>\n",
       "      <th>4</th>\n",
       "      <td>29.0</td>\n",
       "      <td>1.0</td>\n",
       "      <td>1.0</td>\n",
       "      <td>19.0</td>\n",
       "      <td>31.0</td>\n",
       "    </tr>\n",
       "  </tbody>\n",
       "</table>\n",
       "</div>"
      ],
      "text/plain": [
       "   VAR_0204_DAY  VAR_0204_MONTH  VAR_0204_YEAR  VAR_0204_HOUR  VAR_0204_MIN\n",
       "0          29.0             1.0            1.0           21.0          16.0\n",
       "1           1.0             2.0            2.0            0.0          11.0\n",
       "2          30.0             1.0            1.0           15.0          11.0\n",
       "3           1.0             2.0            2.0            0.0           7.0\n",
       "4          29.0             1.0            1.0           19.0          31.0"
      ]
     },
     "metadata": {},
     "output_type": "display_data"
    },
    {
     "data": {
      "text/html": [
       "<div>\n",
       "<style scoped>\n",
       "    .dataframe tbody tr th:only-of-type {\n",
       "        vertical-align: middle;\n",
       "    }\n",
       "\n",
       "    .dataframe tbody tr th {\n",
       "        vertical-align: top;\n",
       "    }\n",
       "\n",
       "    .dataframe thead th {\n",
       "        text-align: right;\n",
       "    }\n",
       "</style>\n",
       "<table border=\"1\" class=\"dataframe\">\n",
       "  <thead>\n",
       "    <tr style=\"text-align: right;\">\n",
       "      <th></th>\n",
       "      <th>VAR_0217_DAY</th>\n",
       "      <th>VAR_0217_MONTH</th>\n",
       "      <th>VAR_0217_YEAR</th>\n",
       "      <th>VAR_0217_HOUR</th>\n",
       "      <th>VAR_0217_MIN</th>\n",
       "    </tr>\n",
       "  </thead>\n",
       "  <tbody>\n",
       "    <tr>\n",
       "      <th>0</th>\n",
       "      <td>8.0</td>\n",
       "      <td>11.0</td>\n",
       "      <td>11.0</td>\n",
       "      <td>2.0</td>\n",
       "      <td>0.0</td>\n",
       "    </tr>\n",
       "    <tr>\n",
       "      <th>1</th>\n",
       "      <td>2.0</td>\n",
       "      <td>10.0</td>\n",
       "      <td>10.0</td>\n",
       "      <td>2.0</td>\n",
       "      <td>0.0</td>\n",
       "    </tr>\n",
       "    <tr>\n",
       "      <th>2</th>\n",
       "      <td>13.0</td>\n",
       "      <td>12.0</td>\n",
       "      <td>12.0</td>\n",
       "      <td>2.0</td>\n",
       "      <td>0.0</td>\n",
       "    </tr>\n",
       "    <tr>\n",
       "      <th>3</th>\n",
       "      <td>1.0</td>\n",
       "      <td>11.0</td>\n",
       "      <td>11.0</td>\n",
       "      <td>2.0</td>\n",
       "      <td>0.0</td>\n",
       "    </tr>\n",
       "    <tr>\n",
       "      <th>4</th>\n",
       "      <td>15.0</td>\n",
       "      <td>10.0</td>\n",
       "      <td>10.0</td>\n",
       "      <td>2.0</td>\n",
       "      <td>0.0</td>\n",
       "    </tr>\n",
       "  </tbody>\n",
       "</table>\n",
       "</div>"
      ],
      "text/plain": [
       "   VAR_0217_DAY  VAR_0217_MONTH  VAR_0217_YEAR  VAR_0217_HOUR  VAR_0217_MIN\n",
       "0           8.0            11.0           11.0            2.0           0.0\n",
       "1           2.0            10.0           10.0            2.0           0.0\n",
       "2          13.0            12.0           12.0            2.0           0.0\n",
       "3           1.0            11.0           11.0            2.0           0.0\n",
       "4          15.0            10.0           10.0            2.0           0.0"
      ]
     },
     "metadata": {},
     "output_type": "display_data"
    }
   ],
   "source": [
    "display(df.filter(like='VAR_0075').head())\n",
    "display(df.filter(like='VAR_0204').head())\n",
    "display(df.filter(like='VAR_0217').head())"
   ]
  },
  {
   "cell_type": "code",
   "execution_count": 36,
   "metadata": {},
   "outputs": [
    {
     "data": {
      "text/plain": [
       "VAR_0075_HOUR      1\n",
       "VAR_0075_MIN       1\n",
       "VAR_0217_HOUR      1\n",
       "VAR_0217_MIN       1\n",
       "VAR_0204_MONTH     2\n",
       "VAR_0204_YEAR      2\n",
       "VAR_0204_DAY       4\n",
       "VAR_0075_MONTH    12\n",
       "VAR_0075_YEAR     12\n",
       "VAR_0204_HOUR     12\n",
       "VAR_0217_MONTH    12\n",
       "VAR_0217_YEAR     12\n",
       "VAR_0075_DAY      31\n",
       "VAR_0217_DAY      31\n",
       "VAR_0204_MIN      60\n",
       "dtype: int64"
      ]
     },
     "execution_count": 36,
     "metadata": {},
     "output_type": "execute_result"
    }
   ],
   "source": [
    "parsed_date_cols = ['VAR_0075_DAY', 'VAR_0075_MONTH', 'VAR_0075_YEAR', 'VAR_0075_HOUR', 'VAR_0075_MIN',\n",
    "                    'VAR_0204_DAY', 'VAR_0204_MONTH', 'VAR_0204_YEAR', 'VAR_0204_HOUR', 'VAR_0204_MIN',\n",
    "                    'VAR_0217_DAY', 'VAR_0217_MONTH', 'VAR_0217_YEAR', 'VAR_0217_HOUR', 'VAR_0217_MIN']\n",
    "\n",
    "parsed_date_cols_single = df[parsed_date_cols].nunique().sort_values()\n",
    "parsed_date_cols_single"
   ]
  },
  {
   "cell_type": "code",
   "execution_count": 37,
   "metadata": {},
   "outputs": [
    {
     "data": {
      "text/plain": [
       "['VAR_0075_HOUR', 'VAR_0075_MIN', 'VAR_0217_HOUR', 'VAR_0217_MIN']"
      ]
     },
     "execution_count": 37,
     "metadata": {},
     "output_type": "execute_result"
    }
   ],
   "source": [
    "parsed_date_cols_single = parsed_date_cols_single[parsed_date_cols_single == 1]\n",
    "parsed_date_cols_single = parsed_date_cols_single.index.to_list()\n",
    "parsed_date_cols_single"
   ]
  },
  {
   "cell_type": "code",
   "execution_count": 38,
   "metadata": {},
   "outputs": [],
   "source": [
    "df.drop(columns=parsed_date_cols_single, axis=1, inplace=True)"
   ]
  },
  {
   "cell_type": "code",
   "execution_count": 39,
   "metadata": {},
   "outputs": [
    {
     "data": {
      "text/html": [
       "<div>\n",
       "<style scoped>\n",
       "    .dataframe tbody tr th:only-of-type {\n",
       "        vertical-align: middle;\n",
       "    }\n",
       "\n",
       "    .dataframe tbody tr th {\n",
       "        vertical-align: top;\n",
       "    }\n",
       "\n",
       "    .dataframe thead th {\n",
       "        text-align: right;\n",
       "    }\n",
       "</style>\n",
       "<table border=\"1\" class=\"dataframe\">\n",
       "  <thead>\n",
       "    <tr style=\"text-align: right;\">\n",
       "      <th></th>\n",
       "      <th>VAR_0001</th>\n",
       "      <th>VAR_0005</th>\n",
       "      <th>VAR_0200</th>\n",
       "      <th>VAR_0226</th>\n",
       "      <th>VAR_0230</th>\n",
       "      <th>VAR_0232</th>\n",
       "      <th>VAR_0236</th>\n",
       "      <th>VAR_0237</th>\n",
       "      <th>VAR_0274</th>\n",
       "      <th>VAR_0283</th>\n",
       "      <th>VAR_0305</th>\n",
       "      <th>VAR_0325</th>\n",
       "      <th>VAR_0342</th>\n",
       "      <th>VAR_0352</th>\n",
       "      <th>VAR_0353</th>\n",
       "      <th>VAR_0354</th>\n",
       "      <th>VAR_0404</th>\n",
       "      <th>VAR_0466</th>\n",
       "      <th>VAR_0467</th>\n",
       "      <th>VAR_0493</th>\n",
       "      <th>VAR_1934</th>\n",
       "    </tr>\n",
       "  </thead>\n",
       "  <tbody>\n",
       "    <tr>\n",
       "      <th>0</th>\n",
       "      <td>H</td>\n",
       "      <td>C</td>\n",
       "      <td>FT LAUDERDALE</td>\n",
       "      <td>False</td>\n",
       "      <td>False</td>\n",
       "      <td>True</td>\n",
       "      <td>True</td>\n",
       "      <td>FL</td>\n",
       "      <td>FL</td>\n",
       "      <td>S</td>\n",
       "      <td>S</td>\n",
       "      <td>-1</td>\n",
       "      <td>CF</td>\n",
       "      <td>O</td>\n",
       "      <td>U</td>\n",
       "      <td>O</td>\n",
       "      <td>CHIEF EXECUTIVE OFFICER</td>\n",
       "      <td>-1</td>\n",
       "      <td>-1</td>\n",
       "      <td>COMMUNITY ASSOCIATION MANAGER</td>\n",
       "      <td>IAPS</td>\n",
       "    </tr>\n",
       "    <tr>\n",
       "      <th>1</th>\n",
       "      <td>H</td>\n",
       "      <td>B</td>\n",
       "      <td>SANTEE</td>\n",
       "      <td>False</td>\n",
       "      <td>False</td>\n",
       "      <td>False</td>\n",
       "      <td>True</td>\n",
       "      <td>CA</td>\n",
       "      <td>MI</td>\n",
       "      <td>S</td>\n",
       "      <td>S</td>\n",
       "      <td>H</td>\n",
       "      <td>EC</td>\n",
       "      <td>O</td>\n",
       "      <td>R</td>\n",
       "      <td>R</td>\n",
       "      <td>-1</td>\n",
       "      <td>I</td>\n",
       "      <td>Discharged</td>\n",
       "      <td>-1</td>\n",
       "      <td>IAPS</td>\n",
       "    </tr>\n",
       "    <tr>\n",
       "      <th>2</th>\n",
       "      <td>H</td>\n",
       "      <td>C</td>\n",
       "      <td>REEDSVILLE</td>\n",
       "      <td>False</td>\n",
       "      <td>False</td>\n",
       "      <td>True</td>\n",
       "      <td>True</td>\n",
       "      <td>WV</td>\n",
       "      <td>WV</td>\n",
       "      <td>S</td>\n",
       "      <td>P</td>\n",
       "      <td>R</td>\n",
       "      <td>UU</td>\n",
       "      <td>R</td>\n",
       "      <td>R</td>\n",
       "      <td>-1</td>\n",
       "      <td>-1</td>\n",
       "      <td>-1</td>\n",
       "      <td>-1</td>\n",
       "      <td>-1</td>\n",
       "      <td>IAPS</td>\n",
       "    </tr>\n",
       "    <tr>\n",
       "      <th>3</th>\n",
       "      <td>H</td>\n",
       "      <td>C</td>\n",
       "      <td>LIBERTY</td>\n",
       "      <td>False</td>\n",
       "      <td>False</td>\n",
       "      <td>False</td>\n",
       "      <td>True</td>\n",
       "      <td>TX</td>\n",
       "      <td>TX</td>\n",
       "      <td>S</td>\n",
       "      <td>P</td>\n",
       "      <td>H</td>\n",
       "      <td>-1</td>\n",
       "      <td>R</td>\n",
       "      <td>R</td>\n",
       "      <td>-1</td>\n",
       "      <td>-1</td>\n",
       "      <td>-1</td>\n",
       "      <td>-1</td>\n",
       "      <td>-1</td>\n",
       "      <td>RCC</td>\n",
       "    </tr>\n",
       "    <tr>\n",
       "      <th>4</th>\n",
       "      <td>R</td>\n",
       "      <td>N</td>\n",
       "      <td>FRANKFORT</td>\n",
       "      <td>False</td>\n",
       "      <td>False</td>\n",
       "      <td>True</td>\n",
       "      <td>True</td>\n",
       "      <td>IL</td>\n",
       "      <td>IL</td>\n",
       "      <td>S</td>\n",
       "      <td>P</td>\n",
       "      <td>S</td>\n",
       "      <td>-1</td>\n",
       "      <td>R</td>\n",
       "      <td>U</td>\n",
       "      <td>O</td>\n",
       "      <td>-1</td>\n",
       "      <td>-1</td>\n",
       "      <td>-1</td>\n",
       "      <td>-1</td>\n",
       "      <td>BRANCH</td>\n",
       "    </tr>\n",
       "  </tbody>\n",
       "</table>\n",
       "</div>"
      ],
      "text/plain": [
       "  VAR_0001 VAR_0005       VAR_0200 VAR_0226 VAR_0230 VAR_0232 VAR_0236  \\\n",
       "0        H        C  FT LAUDERDALE    False    False     True     True   \n",
       "1        H        B         SANTEE    False    False    False     True   \n",
       "2        H        C     REEDSVILLE    False    False     True     True   \n",
       "3        H        C        LIBERTY    False    False    False     True   \n",
       "4        R        N      FRANKFORT    False    False     True     True   \n",
       "\n",
       "  VAR_0237 VAR_0274 VAR_0283 VAR_0305 VAR_0325 VAR_0342 VAR_0352 VAR_0353  \\\n",
       "0       FL       FL        S        S       -1       CF        O        U   \n",
       "1       CA       MI        S        S        H       EC        O        R   \n",
       "2       WV       WV        S        P        R       UU        R        R   \n",
       "3       TX       TX        S        P        H       -1        R        R   \n",
       "4       IL       IL        S        P        S       -1        R        U   \n",
       "\n",
       "  VAR_0354                 VAR_0404 VAR_0466    VAR_0467  \\\n",
       "0        O  CHIEF EXECUTIVE OFFICER       -1          -1   \n",
       "1        R                       -1        I  Discharged   \n",
       "2       -1                       -1       -1          -1   \n",
       "3       -1                       -1       -1          -1   \n",
       "4        O                       -1       -1          -1   \n",
       "\n",
       "                        VAR_0493 VAR_1934  \n",
       "0  COMMUNITY ASSOCIATION MANAGER     IAPS  \n",
       "1                             -1     IAPS  \n",
       "2                             -1     IAPS  \n",
       "3                             -1      RCC  \n",
       "4                             -1   BRANCH  "
      ]
     },
     "execution_count": 39,
     "metadata": {},
     "output_type": "execute_result"
    }
   ],
   "source": [
    "df_cat_cols_new = df.select_dtypes('object').columns\n",
    "df[df_cat_cols_new].head()"
   ]
  },
  {
   "cell_type": "code",
   "execution_count": 40,
   "metadata": {},
   "outputs": [
    {
     "data": {
      "text/plain": [
       "VAR_0200    12385\n",
       "VAR_0404     1823\n",
       "VAR_0493      608\n",
       "VAR_0274       57\n",
       "VAR_0342       50\n",
       "VAR_0237       45\n",
       "VAR_0325        9\n",
       "VAR_0305        8\n",
       "VAR_0283        7\n",
       "VAR_1934        5\n",
       "VAR_0005        4\n",
       "VAR_0352        4\n",
       "VAR_0353        4\n",
       "VAR_0354        4\n",
       "VAR_0467        4\n",
       "VAR_0001        3\n",
       "VAR_0236        2\n",
       "VAR_0232        2\n",
       "VAR_0230        2\n",
       "VAR_0466        2\n",
       "VAR_0226        2\n",
       "dtype: int64"
      ]
     },
     "execution_count": 40,
     "metadata": {},
     "output_type": "execute_result"
    }
   ],
   "source": [
    "df[df_cat_cols_new].nunique().sort_values(ascending=False)"
   ]
  },
  {
   "cell_type": "code",
   "execution_count": 41,
   "metadata": {},
   "outputs": [
    {
     "data": {
      "text/plain": [
       "VAR_0200\n",
       "CHICAGO         2091\n",
       "HOUSTON         1306\n",
       "JACKSONVILLE    1063\n",
       "SAN ANTONIO     1012\n",
       "INDIANAPOLIS     866\n",
       "                ... \n",
       "HAINES CITY       20\n",
       "SAN FERNANDO      20\n",
       "WILDOMAR          20\n",
       "RED LION          20\n",
       "CARMICHAEL        20\n",
       "Name: count, Length: 1426, dtype: int64"
      ]
     },
     "execution_count": 41,
     "metadata": {},
     "output_type": "execute_result"
    }
   ],
   "source": [
    "var200_count = df['VAR_0200'].value_counts()\n",
    "var200_count[var200_count >= 20]"
   ]
  },
  {
   "cell_type": "code",
   "execution_count": 42,
   "metadata": {},
   "outputs": [
    {
     "data": {
      "text/plain": [
       "VAR_0200\n",
       "PHILADELPHIA        772\n",
       "PHILA                75\n",
       "NEW PHILADELPHIA      9\n",
       "NEW PHILA             7\n",
       "PHILADELHIA           4\n",
       "PHILADEPHIA           3\n",
       "PHILADLEPHIA          1\n",
       "PHILAELPHIA           1\n",
       "PHILADELPHIIA         1\n",
       "PHILAD                1\n",
       "PHILADELPHA           1\n",
       "PHILADEPLHIA          1\n",
       "PHILADELPIA           1\n",
       "Name: count, dtype: int64"
      ]
     },
     "execution_count": 42,
     "metadata": {},
     "output_type": "execute_result"
    }
   ],
   "source": [
    "var200_count.filter(like='PHILA')"
   ]
  },
  {
   "cell_type": "code",
   "execution_count": 43,
   "metadata": {},
   "outputs": [
    {
     "data": {
      "text/plain": [
       "VAR_0404\n",
       "-1                               130443\n",
       "CONTACT                            2163\n",
       "PRESIDENT                          1315\n",
       "AGENT                              1072\n",
       "DIRECTOR                            864\n",
       "OWNER                               770\n",
       "MEMBER                              566\n",
       "SECRETARY                           512\n",
       "INDIVIDUAL - SOLE OWNER             458\n",
       "MANAGER                             361\n",
       "INCORPORATOR                        288\n",
       "VICE PRESIDENT                      267\n",
       "CONTA                               254\n",
       "TREASURER                           225\n",
       "BOARD MEMBER                        167\n",
       "MEMBER MANAGER                      164\n",
       "CEO                                 143\n",
       "OFFICE MANAGER                      106\n",
       "REGISTRANT                          105\n",
       "CHIEF EXECUTIVE OFFICER             103\n",
       "MANAGING MEMBER                     102\n",
       "TAX RESPONSIBLE PARTY                99\n",
       "PARTNER                              88\n",
       "CFO                                  87\n",
       "ORGANIZER                            55\n",
       "APPLICANT                            53\n",
       "MEMBER/MANAGER                       52\n",
       "CEO;SECRETARY;CFO                    51\n",
       "MEDICAL ASSISTANT                    45\n",
       "PHARMACY TECHNICIAN                  42\n",
       "CHIEF FINANCIAL OFFICER              40\n",
       "OFFICER                              39\n",
       "ADMINISTRATIVE ASSISTANT             37\n",
       "CERTIFIED PHARMACY TECHNICIAN        37\n",
       "TITLE NOT SPECIFIED                  27\n",
       "SECRETARY;CFO                        24\n",
       "TEACHER                              23\n",
       "PROCESS ADDRESS CONTACT              23\n",
       "CONTRIBUTOR                          22\n",
       "FILER                                21\n",
       "DP                                   20\n",
       "PRINCIPAL                            20\n",
       "EXECUTIVE DIRECTOR                   20\n",
       "MANAGER/MEMBER                       20\n",
       "CEO;CFO                              20\n",
       "Name: count, dtype: int64"
      ]
     },
     "execution_count": 43,
     "metadata": {},
     "output_type": "execute_result"
    }
   ],
   "source": [
    "var404_count = df['VAR_0404'].value_counts()\n",
    "var404_count[var404_count >= 20]"
   ]
  },
  {
   "cell_type": "code",
   "execution_count": 44,
   "metadata": {},
   "outputs": [
    {
     "data": {
      "text/plain": [
       "VAR_0404\n",
       "PRESIDENT                              1315\n",
       "VICE PRESIDENT                          267\n",
       "PRESIDENT, DIRECTOR                      12\n",
       "VICE-PRESIDENT                           12\n",
       "DIRECTOR;PRESIDENT                        9\n",
       "                                       ... \n",
       "PRESIDENT,TREASURER                       1\n",
       "DIRECTOR,VICE PRESIDENT                   1\n",
       "VICE PRESIDENT, REAL ESTATE               1\n",
       "DIRECTOR,PRESIDENT,SECRETARY,TREASU       1\n",
       "EXECUTIVE VICE PRESIDENT, ADVERTISI       1\n",
       "Name: count, Length: 107, dtype: int64"
      ]
     },
     "execution_count": 44,
     "metadata": {},
     "output_type": "execute_result"
    }
   ],
   "source": [
    "var404_count.filter(like='PRESIDENT')"
   ]
  },
  {
   "cell_type": "code",
   "execution_count": 45,
   "metadata": {},
   "outputs": [
    {
     "data": {
      "text/plain": [
       "VAR_0493\n",
       "-1                                      135182\n",
       "REGISTERED NURSE                          1099\n",
       "LICENSED PRACTICAL NURSE                   767\n",
       "PHARMACY TECHNICIAN                        536\n",
       "COSMETOLOGIST                              452\n",
       "GUARD                                      399\n",
       "PERMANENT EMPLOYEE REGISTRATION CARD       325\n",
       "PROFESSIONAL NURSE                         246\n",
       "LICENSED VOCATIONAL NURSE                  243\n",
       "NURSE AIDE                                 238\n",
       "CERTIFIED NURSING ASSISTANT                238\n",
       "REAL ESTATE                                226\n",
       "PRACTICAL NURSE                            141\n",
       "CERTIFIED NURSE AIDE                       111\n",
       "INSURANCE AGENTS                            98\n",
       "LICENSED REAL ESTATE SALESPERSON            89\n",
       "REGISTERED PROFESSIONAL NURSE               86\n",
       "FIREARM PERMIT                              85\n",
       "MASTER COSMETOLOGIST                        79\n",
       "REAL ESTATE SALESPERSON                     75\n",
       "RN                                          70\n",
       "VOCATIONAL NURSE                            65\n",
       "PRIVATE SECURITY PERSONS                    62\n",
       "EMERGENCY MEDICAL TECHNICIAN                62\n",
       "LPN                                         59\n",
       "RESPIRATORY CARE PRACTITIONER               54\n",
       "TECH                                        53\n",
       "REAL ESTATE SALES PERSON                    53\n",
       "CERTIFIED PUBLIC ACCOUNTANT                 52\n",
       "REAL ESTATE BROKER OR SALES                 48\n",
       "STAFF NURSE/GENERAL DUTY                    48\n",
       "PHARMACIST                                  47\n",
       "MORTGAGE BROKER - INDIVIDUAL                44\n",
       "COSMETOLOGISTS                              44\n",
       "ELECTRICIANS                                44\n",
       "MASSAGE THERAPIST                           43\n",
       "ATTORNEY                                    43\n",
       "NURSE, REGISTERED                           40\n",
       "LEGAL SERVICES                              39\n",
       "MANICURISTS                                 39\n",
       "DENTAL HYGIENIST                            39\n",
       "REGISTERED DENTAL ASSISTANT                 35\n",
       "ELECTRICIAN                                 34\n",
       "SECURITY GUARD/OFFICER                      33\n",
       "CONTRACTOR CONTROLLING INDIVIDUALS          33\n",
       "LICENSED SOCIAL WORKER                      33\n",
       "SOCIAL WORKER                               32\n",
       "COS MANAGER                                 32\n",
       "PHYSICAL THERAPIST ASSISTANT                30\n",
       "BARBER                                      29\n",
       "TRADESMEN                                   28\n",
       "NON-RESIDENT PRODUCER AGENT                 28\n",
       "AUTHORIZED EMPLOYEE                         27\n",
       "CLINICAL NURSE ASSISTANT                    26\n",
       "HOMEMAKER - HHA                             25\n",
       "BATON CERT - USED FOR HISTORY ONLY          25\n",
       "DENTAL ASSISITANT                           25\n",
       "PHYSICAL THERAPIST                          24\n",
       "ESTHETICIAN                                 24\n",
       "MANICURIST                                  24\n",
       "PSYCHIATRIC TECHNICIAN                      22\n",
       "NURSE, LICENSED PRACTICAL                   21\n",
       "ARMED SECURITY GUARDS                       21\n",
       "FIREARM TRAINING CERTIFICATE                21\n",
       "VEHICLE SALESPERSON                         21\n",
       "MEDICATION AIDE                             20\n",
       "SALESMAN                                    20\n",
       "Name: count, dtype: int64"
      ]
     },
     "execution_count": 45,
     "metadata": {},
     "output_type": "execute_result"
    }
   ],
   "source": [
    "var493_count = df['VAR_0493'].value_counts()\n",
    "var493_count[var493_count >= 20]"
   ]
  },
  {
   "cell_type": "code",
   "execution_count": 46,
   "metadata": {},
   "outputs": [
    {
     "data": {
      "text/plain": [
       "VAR_0493\n",
       "PHARMACY TECHNICIAN                 536\n",
       "EMERGENCY MEDICAL TECHNICIAN         62\n",
       "PSYCHIATRIC TECHNICIAN               22\n",
       "NAIL TECHNICIAN                      19\n",
       "NAIL TECHNICIANS                     14\n",
       "SMOG CHECK ADVANCED TECHNICIAN        7\n",
       "REGISTERED VETERINARY TECHNICIAN      5\n",
       "VETERINARY TECHNICIAN                 2\n",
       "RESPIRATORY THERAPY TECHNICIAN        2\n",
       "CARDIAC TECHNICIAN                    2\n",
       "PHARMACEUTICAL TECHNICIAN             1\n",
       "VETERINARY ANIMAL TECHNICIAN          1\n",
       "MEDICAL RESPONSE TECHNICIAN           1\n",
       "ANIMAL HEALTH TECHNICIAN              1\n",
       "NAIL TECHNICIAN APPRENTICE            1\n",
       "SOCIAL WORK TECHNICIAN                1\n",
       "NON-CERTIFIED TECHNICIAN              1\n",
       "CERTIFIED EUTHANASIA TECHNICIAN       1\n",
       "Name: count, dtype: int64"
      ]
     },
     "execution_count": 46,
     "metadata": {},
     "output_type": "execute_result"
    }
   ],
   "source": [
    "var493_count.filter(like='TECHNICIAN')"
   ]
  },
  {
   "cell_type": "markdown",
   "metadata": {},
   "source": [
    "### **Data splitting**"
   ]
  },
  {
   "cell_type": "markdown",
   "metadata": {},
   "source": [
    "##### **A. Train - test data split**"
   ]
  },
  {
   "cell_type": "code",
   "execution_count": 47,
   "metadata": {},
   "outputs": [
    {
     "name": "stdout",
     "output_type": "stream",
     "text": [
      "Train dataset shape (X): (116142, 1865)\n",
      "Test dataset shape (X_test): (29036, 1865)\n"
     ]
    }
   ],
   "source": [
    "X, X_test, y, y_test = train_test_split(df.drop(columns=['ID', 'target'], axis=1),\n",
    "                                                    df['target'],\n",
    "                                                    test_size=0.2,\n",
    "                                                    random_state=42,\n",
    "                                                    stratify=df['target'])\n",
    "\n",
    "print(f'Train dataset shape (X): {X.shape}')\n",
    "print(f'Test dataset shape (X_test): {X_test.shape}')"
   ]
  },
  {
   "cell_type": "markdown",
   "metadata": {},
   "source": [
    "##### **B. Data folding**"
   ]
  },
  {
   "cell_type": "code",
   "execution_count": 48,
   "metadata": {},
   "outputs": [],
   "source": [
    "n_splits = 5\n",
    "skf = StratifiedKFold(n_splits=n_splits, shuffle=True, random_state=42)"
   ]
  },
  {
   "cell_type": "markdown",
   "metadata": {},
   "source": [
    "### **Data preprocessing**"
   ]
  },
  {
   "cell_type": "code",
   "execution_count": 49,
   "metadata": {},
   "outputs": [],
   "source": [
    "X_num_cols = X.select_dtypes(exclude='object').columns\n",
    "X_cat_cols = X.select_dtypes('object').columns"
   ]
  },
  {
   "cell_type": "markdown",
   "metadata": {},
   "source": [
    "##### **A. Taget encoding**"
   ]
  },
  {
   "cell_type": "code",
   "execution_count": 50,
   "metadata": {},
   "outputs": [],
   "source": [
    "def target_encoding(y_tr_origin: np.ndarray, y_ts_origin: np.ndarray, encoder):\n",
    "  y_tr_enc = encoder.fit_transform(y_tr_origin)\n",
    "  y_ts_enc = encoder.transform(y_ts_origin)\n",
    "  \n",
    "  return (y_tr_enc, y_ts_enc)"
   ]
  },
  {
   "cell_type": "markdown",
   "metadata": {},
   "source": [
    "##### **B. Imbalanced data**"
   ]
  },
  {
   "cell_type": "code",
   "execution_count": 51,
   "metadata": {},
   "outputs": [],
   "source": [
    "def resampling(X_tr_origin: np.ndarray, y_tr_origin: np.ndarray, sampler):\n",
    "  X_res, y_res = sampler.fit_resample(X_tr_origin, y_tr_origin)\n",
    "  \n",
    "  return (X_res, y_res)"
   ]
  },
  {
   "cell_type": "markdown",
   "metadata": {},
   "source": [
    "##### **C. Outlier**"
   ]
  },
  {
   "cell_type": "code",
   "execution_count": 52,
   "metadata": {},
   "outputs": [],
   "source": [
    "def remove_outliers(X_tr_origin: np.ndarray, y_tr_origin: np.ndarray, outlier_detector):\n",
    "  outlier_label = outlier_detector.fit_predict(X_tr_origin)\n",
    "  non_outlier_mask = outlier_label == 1\n",
    "  \n",
    "  X_tr_clean = X_tr_origin[non_outlier_mask]\n",
    "  y_tr_clean = y_tr_origin[non_outlier_mask]\n",
    "  \n",
    "  return (X_tr_clean, y_tr_clean)"
   ]
  },
  {
   "cell_type": "markdown",
   "metadata": {},
   "source": [
    "##### **D. Save memory**"
   ]
  },
  {
   "cell_type": "code",
   "execution_count": 53,
   "metadata": {},
   "outputs": [],
   "source": [
    "def save_memory(_data: List[np.ndarray]):\n",
    "  _data = [data.astype(np.float32) if data.dtype == np.float64 else data.astype(np.int32) for data in _data]\n",
    "  \n",
    "  return _data"
   ]
  },
  {
   "cell_type": "markdown",
   "metadata": {},
   "source": [
    "##### **E. Build pipeline**"
   ]
  },
  {
   "cell_type": "code",
   "execution_count": 54,
   "metadata": {},
   "outputs": [],
   "source": [
    "num_imputer = SimpleImputer(missing_values=np.nan, strategy='mean')\n",
    "num_scaler = RobustScaler()\n",
    "\n",
    "cat_imputer = SimpleImputer(missing_values=np.nan, strategy='most_frequent')\n",
    "cat_encoder = OrdinalEncoder(dtype=np.float32,\n",
    "                             handle_unknown='use_encoded_value',\n",
    "                             unknown_value=-2,\n",
    "                             encoded_missing_value=-1,\n",
    "                             min_frequency=10)\n",
    "cat_scaler = RobustScaler()\n",
    "\n",
    "outlier_detector = IsolationForest(random_state=42, n_jobs=4, contamination=0.01)\n",
    "sampler = RandomUnderSampler(random_state=42)\n",
    "\n",
    "label_encoder = LabelEncoder()\n",
    "\n",
    "num_preprocessor_pipe = Pipeline([\n",
    "  ('imputer', num_imputer),\n",
    "  ('scaler', num_scaler)\n",
    "])\n",
    "\n",
    "cat_preprocessor_pipe = Pipeline([\n",
    "  ('imputer', cat_imputer),\n",
    "  ('encoder', cat_encoder),\n",
    "  ('scaler', cat_scaler)\n",
    "])\n",
    "\n",
    "preprocessor_pipe = ColumnTransformer(\n",
    "  transformers=[\n",
    "    ('num', num_preprocessor_pipe, X_num_cols.to_list()),\n",
    "    ('cat', cat_preprocessor_pipe, X_cat_cols.to_list())\n",
    "  ]\n",
    ")\n",
    "\n",
    "def preprocessor(X_tr, X_ts, y_tr, y_ts):\n",
    "  X_tr_pre, X_ts_pre, y_tr_pre, y_ts_pre = X_tr, X_ts, y_tr, y_ts\n",
    "  \n",
    "  X_tr_pre = preprocessor_pipe.fit_transform(X_tr_pre)\n",
    "  X_ts_pre = preprocessor_pipe.transform(X_ts_pre)\n",
    "  \n",
    "  # X_tr_pre, y_tr_pre = remove_outliers(X_tr_pre, y_tr_pre, outlier_detector)\n",
    "  y_tr_pre, y_ts_pre = target_encoding(y_tr_pre, y_ts_pre, label_encoder)\n",
    "  X_tr_pre, y_tr_pre = resampling(X_tr_pre, y_tr_pre, sampler)\n",
    "  \n",
    "  X_tr_pre, X_ts_pre, y_tr_pre, y_ts_pre = save_memory([X_tr_pre, X_ts_pre, y_tr_pre, y_ts_pre])\n",
    "  \n",
    "  return [X_tr_pre, X_ts_pre, y_tr_pre, y_ts_pre]"
   ]
  },
  {
   "cell_type": "markdown",
   "metadata": {},
   "source": [
    "### **Model Selection**"
   ]
  },
  {
   "cell_type": "code",
   "execution_count": 55,
   "metadata": {},
   "outputs": [],
   "source": [
    "def train_model(\n",
    "  X: pd.DataFrame,\n",
    "  y: pd.Series,\n",
    "  model: BaseEstimator,\n",
    "  preprocessor: Callable[..., List[Union[float, int]]],\n",
    "  scorer: Callable,\n",
    "  cv_fold,\n",
    "  skip_fold: Optional[str]=None,\n",
    "  cb_fold: Optional[Callable]=None,\n",
    "  cb_end: Optional[Callable]=None\n",
    ") -> Tuple[float, float]:\n",
    "  auc_scores_train = []\n",
    "  auc_scores_valid = []\n",
    "  \n",
    "  is_odd = int(skip_fold == 'odd')\n",
    "  trunc_cv_fold = cv_fold.split(X, y) if not skip_fold else [item for i, (item) in enumerate(cv_fold.split(X, y)) if i % 2 == is_odd]\n",
    "  \n",
    "  for fold, (train_idx, valid_idx) in enumerate(trunc_cv_fold):\n",
    "    X_train, X_valid = X.iloc[train_idx], X.iloc[valid_idx]\n",
    "    y_train, y_valid = y.iloc[train_idx], y.iloc[valid_idx]\n",
    "    \n",
    "    X_train, X_valid, y_train, y_valid = preprocessor(X_train, X_valid, y_train, y_valid)\n",
    "    \n",
    "    model.fit(X_train, y_train)\n",
    "    \n",
    "    y_probs_train = model.predict_proba(X_train)[:, 1]\n",
    "    y_probs_val = model.predict_proba(X_valid)[:, 1]\n",
    "    \n",
    "    auc_train = scorer(y_train, y_probs_train)\n",
    "    auc_valid = scorer(y_valid, y_probs_val)\n",
    "    \n",
    "    auc_scores_train.append(auc_train)\n",
    "    auc_scores_valid.append(auc_valid)\n",
    "    \n",
    "    if cb_fold: cb_fold(fold, (auc_train, auc_valid))\n",
    "    \n",
    "  mean_auc_train = np.mean(auc_scores_train)\n",
    "  mean_auc_val = np.mean(auc_scores_valid)\n",
    "  \n",
    "  if cb_end: cb_end((mean_auc_train, mean_auc_val))\n",
    "\n",
    "  return (auc_scores_train, auc_scores_valid)"
   ]
  },
  {
   "cell_type": "markdown",
   "metadata": {},
   "source": [
    "### **LGBM Classifier**"
   ]
  },
  {
   "cell_type": "markdown",
   "metadata": {},
   "source": [
    "##### **A. Default LGBMClassifier**"
   ]
  },
  {
   "cell_type": "code",
   "execution_count": 56,
   "metadata": {},
   "outputs": [
    {
     "name": "stdout",
     "output_type": "stream",
     "text": [
      "Couldn't find program: 'skipped'\n"
     ]
    }
   ],
   "source": [
    "%%script skipped # Skipped for resource optimization\n",
    "\n",
    "clf_lgbm_default = LGBMClassifier(objective='binary', boosting_type='gbdt', metric='auc', n_jobs=4, verbosity=-1)"
   ]
  },
  {
   "cell_type": "code",
   "execution_count": 57,
   "metadata": {},
   "outputs": [
    {
     "name": "stdout",
     "output_type": "stream",
     "text": [
      "Couldn't find program: 'skipped'\n"
     ]
    }
   ],
   "source": [
    "%%script skipped # Skipped for resource optimization\n",
    "\n",
    "cb_fold = lambda fold, scores: print(f'Fold {fold + 1} => AUC score: {scores[0]:.4f} (train) | {scores[1]:.4f} (valid)')\n",
    "cb_end = lambda scores: print(f'Mean AUC oof score: {scores[0]:.4f} (train) | {scores[1]:.4f} (valid)')\n",
    "\n",
    "auc_scores_train, auc_scores_valid = train_model(X, y,\n",
    "                                                model=clf_lgbm_default,\n",
    "                                                preprocessor=preprocessor,\n",
    "                                                scorer=roc_auc_score,\n",
    "                                                cv_fold=skf,\n",
    "                                                cb_fold=cb_fold,\n",
    "                                                cb_end=cb_end)\n",
    "mean_auc_train, mean_auc_val = np.mean(auc_scores_train), np.mean(auc_scores_valid)"
   ]
  },
  {
   "cell_type": "code",
   "execution_count": 58,
   "metadata": {},
   "outputs": [
    {
     "name": "stdout",
     "output_type": "stream",
     "text": [
      "Couldn't find program: 'skipped'\n"
     ]
    }
   ],
   "source": [
    "%%script skipped # Skipped for resource optimization\n",
    "\n",
    "df_feat_imp = pd.DataFrame({'Feature': X.columns, 'Importance': clf_lgbm_default.feature_importances_})\n",
    "df_feat_imp = df_feat_imp.sort_values(by='Importance', ascending=False)\n",
    "df_feat_imp[:50].plot(kind='bar',\n",
    "                      x='Feature',\n",
    "                      y='Importance',\n",
    "                      title=f'Feature Importance LGBM-Default (AUC = {mean_auc_val:.4f})',\n",
    "                      xlabel='Feature',\n",
    "                      ylabel='Feature Importance',\n",
    "                      figsize=(15, 3))"
   ]
  },
  {
   "cell_type": "code",
   "execution_count": 59,
   "metadata": {},
   "outputs": [
    {
     "name": "stdout",
     "output_type": "stream",
     "text": [
      "Couldn't find program: 'skipped'\n"
     ]
    }
   ],
   "source": [
    "%%script skipped # Skipped for resource optimization\n",
    "\n",
    "top_feat_50 = df[df_feat_imp[:50]['Feature']]\n",
    "\n",
    "cat_feat = top_feat_50.select_dtypes('object').columns\n",
    "num_feat = top_feat_50.select_dtypes(exclude='object').columns\n",
    "\n",
    "print(f'Numbers of categorical feature(s): {len(cat_feat)}')\n",
    "print(f'Numbers of numerical feature(s): {len(num_feat)}')"
   ]
  },
  {
   "cell_type": "code",
   "execution_count": 60,
   "metadata": {},
   "outputs": [
    {
     "name": "stdout",
     "output_type": "stream",
     "text": [
      "Couldn't find program: 'skipped'\n"
     ]
    }
   ],
   "source": [
    "%%script skipped # Skipped for resource optimization\n",
    "\n",
    "y_preds = clf_lgbm_default.predict_proba(preprocessor_pipe.transform(X_test))[:, 1]\n",
    "clf_lgbm_def_auc_test = roc_auc_score(y_test, y_preds)\n",
    "\n",
    "print(f'AUC score of test dataset: {clf_lgbm_def_auc_test:.4f}')"
   ]
  },
  {
   "cell_type": "markdown",
   "metadata": {},
   "source": [
    "##### **B. Tuned LGBMClassifier**"
   ]
  },
  {
   "cell_type": "code",
   "execution_count": 61,
   "metadata": {},
   "outputs": [
    {
     "name": "stdout",
     "output_type": "stream",
     "text": [
      "Couldn't find program: 'skipped'\n"
     ]
    }
   ],
   "source": [
    "%%script skipped # Skipped for resource optimization\n",
    "\n",
    "defined_params = {\n",
    "    'objective': 'binary',\n",
    "    'boosting_type': 'gbdt',\n",
    "    'metric': 'auc',\n",
    "    'n_jobs': 4,\n",
    "    'verbosity': -1,\n",
    "    'random_seed': 42\n",
    "  }\n",
    "\n",
    "def objective(trial: Trial):\n",
    "  tuned_params = {\n",
    "    'n_estimators': trial.suggest_int('n_estimators', 50, 150),\n",
    "    'learning_rate': trial.suggest_float('learning_rate', 1e-3, 0.5, log=True),\n",
    "    'num_leaves': trial.suggest_int('num_leaves', 20, 64),\n",
    "    'max_depth': trial.suggest_int('max_depth', 20, 128),\n",
    "    'min_child_samples': trial.suggest_int('min_child_samples', 10, 32),\n",
    "    'subsample': trial.suggest_float('subsample', 0.4, 1.0),\n",
    "    'colsample_bytree': trial.suggest_float('colsample_bytree', 0.4, 1.0),\n",
    "    'reg_alpha': trial.suggest_float('reg_alpha', 1e-3, 10.0, log=True),\n",
    "    'reg_lambda': trial.suggest_float('reg_lambda', 1e-3, 10.0, log=True)\n",
    "  }\n",
    "  \n",
    "  clf_lgbm_tuned = LGBMClassifier(**defined_params, **tuned_params)\n",
    "    \n",
    "  auc_scores_train, auc_scores_valid = train_model(X, y,\n",
    "                                                  model=clf_lgbm_tuned,\n",
    "                                                  preprocessor=preprocessor,\n",
    "                                                  scorer=roc_auc_score,\n",
    "                                                  cv_fold=skf,\n",
    "                                                  skip_fold='odd')\n",
    "  mean_auc_train, mean_auc_valid = np.mean(auc_scores_train), np.mean(auc_scores_valid)\n",
    "\n",
    "  print(f'Mean AUC oof score (n={trial.number}): {mean_auc_train:.4f} (train) | {mean_auc_valid:.4f} (valid)')\n",
    "  \n",
    "  return mean_auc_valid\n",
    "\n",
    "def callback(study: Study, trial: Trial):\n",
    "  joblib.dump(study, 'clf_lgbm_study.pkl')"
   ]
  },
  {
   "cell_type": "code",
   "execution_count": 62,
   "metadata": {},
   "outputs": [
    {
     "name": "stdout",
     "output_type": "stream",
     "text": [
      "Couldn't find program: 'skipped'\n"
     ]
    }
   ],
   "source": [
    "%%script skipped # Skipped for resource optimization\n",
    "\n",
    "try:\n",
    "  study = joblib.load('clf_lgbm_study.pkl')\n",
    "except FileNotFoundError:\n",
    "  study = optuna.create_study(direction='maximize')\n",
    "  study.optimize(objective, n_trials=50, n_jobs=2, callbacks=[callback])"
   ]
  },
  {
   "cell_type": "code",
   "execution_count": 63,
   "metadata": {},
   "outputs": [
    {
     "name": "stdout",
     "output_type": "stream",
     "text": [
      "Couldn't find program: 'skipped'\n"
     ]
    }
   ],
   "source": [
    "%%script skipped # Skipped for resource optimization\n",
    "\n",
    "best_params = study.best_params\n",
    "best_params"
   ]
  },
  {
   "cell_type": "code",
   "execution_count": 64,
   "metadata": {},
   "outputs": [
    {
     "name": "stdout",
     "output_type": "stream",
     "text": [
      "Couldn't find program: 'skipped'\n"
     ]
    }
   ],
   "source": [
    "%%script skipped # Skipped for resource optimization\n",
    "\n",
    "optuna.visualization.plot_param_importances(study)"
   ]
  },
  {
   "cell_type": "code",
   "execution_count": 65,
   "metadata": {},
   "outputs": [
    {
     "name": "stdout",
     "output_type": "stream",
     "text": [
      "Couldn't find program: 'skipped'\n"
     ]
    }
   ],
   "source": [
    "%%script skipped # Skipped for resource optimization\n",
    "\n",
    "optuna.visualization.plot_slice(study, params=list(best_params.keys()))"
   ]
  },
  {
   "cell_type": "code",
   "execution_count": 66,
   "metadata": {},
   "outputs": [
    {
     "name": "stdout",
     "output_type": "stream",
     "text": [
      "Couldn't find program: 'skipped'\n"
     ]
    }
   ],
   "source": [
    "%%script skipped # Skipped for resource optimization\n",
    "\n",
    "clf_lgbm_tuned = LGBMClassifier(**defined_params, **best_params)"
   ]
  },
  {
   "cell_type": "code",
   "execution_count": 81,
   "metadata": {},
   "outputs": [
    {
     "name": "stdout",
     "output_type": "stream",
     "text": [
      "Couldn't find program: 'skipped'\n"
     ]
    }
   ],
   "source": [
    "%%script skipped # Skipped for resource optimization\n",
    "\n",
    "cb_fold = lambda fold, scores: print(f'Fold {fold + 1} => AUC score: {scores[0]:.4f} (train) | {scores[1]:.4f} (valid)')\n",
    "cb_end = lambda scores: print(f'Mean AUC oof score: {scores[0]:.4f} (train) | {scores[1]:.4f} (valid)')\n",
    "\n",
    "auc_scores_train, auc_scores_valid = train_model(X, y,\n",
    "                                                model=clf_lgbm_tuned,\n",
    "                                                preprocessor=preprocessor,\n",
    "                                                scorer=roc_auc_score,\n",
    "                                                cv_fold=skf,\n",
    "                                                cb_fold=cb_fold,\n",
    "                                                cb_end=cb_end)\n",
    "mean_auc_train, mean_auc_val = np.mean(auc_scores_train), np.mean(auc_scores_valid)"
   ]
  },
  {
   "cell_type": "code",
   "execution_count": 68,
   "metadata": {},
   "outputs": [
    {
     "name": "stdout",
     "output_type": "stream",
     "text": [
      "Couldn't find program: 'skipped'\n"
     ]
    }
   ],
   "source": [
    "%%script skipped # Skipped for resource optimization\n",
    "\n",
    "df_feat_imp = pd.DataFrame({'Feature': X.columns, 'Importance': clf_lgbm_tuned.feature_importances_})\n",
    "df_feat_imp = df_feat_imp.sort_values(by='Importance', ascending=False)\n",
    "df_feat_imp[:50].plot(kind='bar',\n",
    "                      x='Feature',\n",
    "                      y='Importance',\n",
    "                      title=f'Feature Importance LGBM-Tuned (AUC = {mean_auc_val:.4f})',\n",
    "                      xlabel='Feature',\n",
    "                      ylabel='Feature Importance',\n",
    "                      figsize=(15, 3))"
   ]
  },
  {
   "cell_type": "code",
   "execution_count": 69,
   "metadata": {},
   "outputs": [
    {
     "name": "stdout",
     "output_type": "stream",
     "text": [
      "Couldn't find program: 'skipped'\n"
     ]
    }
   ],
   "source": [
    "%%script skipped # Skipped for resource optimization\n",
    "\n",
    "top_feat_50 = df[df_feat_imp[:50]['Feature']]\n",
    "\n",
    "cat_feat = top_feat_50.select_dtypes('object').columns\n",
    "num_feat = top_feat_50.select_dtypes(exclude='object').columns\n",
    "\n",
    "print(f'Numbers of categorical feature(s): {len(cat_feat)}')\n",
    "print(f'Numbers of numerical feature(s): {len(num_feat)}')"
   ]
  },
  {
   "cell_type": "code",
   "execution_count": 70,
   "metadata": {},
   "outputs": [
    {
     "name": "stdout",
     "output_type": "stream",
     "text": [
      "Couldn't find program: 'skipped'\n"
     ]
    }
   ],
   "source": [
    "%%script skipped # Skipped for resource optimization\n",
    "\n",
    "y_preds = clf_lgbm_tuned.predict_proba(preprocessor_pipe.transform(X_test))[:, 1]\n",
    "clf_lgbm_tun_auc_test = roc_auc_score(y_test, y_preds)\n",
    "\n",
    "print(f'AUC score of test dataset: {clf_lgbm_tun_auc_test:.4f}')"
   ]
  },
  {
   "cell_type": "markdown",
   "metadata": {},
   "source": [
    "### **XGBoost**"
   ]
  },
  {
   "cell_type": "markdown",
   "metadata": {},
   "source": [
    "##### **A. Default XGBoost**"
   ]
  },
  {
   "cell_type": "code",
   "execution_count": 71,
   "metadata": {},
   "outputs": [
    {
     "name": "stdout",
     "output_type": "stream",
     "text": [
      "Couldn't find program: 'skipped'\n"
     ]
    }
   ],
   "source": [
    "%%script skipped # Skipped for resource optimization\n",
    "\n",
    "clf_xgb_default = XGBClassifier(objective='binary:logistic', booster='gbtree', eva_metric='auc', verbosity=0, nthread=4)"
   ]
  },
  {
   "cell_type": "code",
   "execution_count": 72,
   "metadata": {},
   "outputs": [
    {
     "name": "stdout",
     "output_type": "stream",
     "text": [
      "Couldn't find program: 'skipped'\n"
     ]
    }
   ],
   "source": [
    "%%script skipped # Skipped for resource optimization\n",
    "\n",
    "cb_fold = lambda fold, scores: print(f'Fold {fold + 1} => AUC score: {scores[0]:.4f} (train) | {scores[1]:.4f} (valid)')\n",
    "cb_end = lambda scores: print(f'Mean AUC oof score: {scores[0]:.4f} (train) | {scores[1]:.4f} (valid)')\n",
    "cv_fold = [(i, fold) for i, fold in enumerate(skf.split(X, y)) if i % 2 == 0]\n",
    "\n",
    "auc_scores_train, auc_scores_valid = train_model(X, y,\n",
    "                                                model=clf_xgb_default,\n",
    "                                                preprocessor=preprocessor,\n",
    "                                                scorer=roc_auc_score,\n",
    "                                                cv_fold=skf,\n",
    "                                                cb_fold=cb_fold,\n",
    "                                                cb_end=cb_end)\n",
    "mean_auc_train, mean_auc_val = np.mean(auc_scores_train), np.mean(auc_scores_valid)"
   ]
  },
  {
   "cell_type": "code",
   "execution_count": 73,
   "metadata": {},
   "outputs": [
    {
     "name": "stdout",
     "output_type": "stream",
     "text": [
      "Couldn't find program: 'skipped'\n"
     ]
    }
   ],
   "source": [
    "%%script skipped # Skipped for resource optimization\n",
    "\n",
    "df_feat_imp = pd.DataFrame({'Feature': X.columns, 'Importance': clf_xgb_default.feature_importances_})\n",
    "df_feat_imp = df_feat_imp.sort_values(by='Importance', ascending=False)\n",
    "df_feat_imp[:50].plot(kind='bar',\n",
    "                      x='Feature',\n",
    "                      y='Importance',\n",
    "                      title=f'Feature Importance XGB-Default (AUC = {mean_auc_val:.4f})',\n",
    "                      xlabel='Feature',\n",
    "                      ylabel='Feature Importance',\n",
    "                      figsize=(15, 3))"
   ]
  },
  {
   "cell_type": "code",
   "execution_count": 74,
   "metadata": {},
   "outputs": [
    {
     "name": "stdout",
     "output_type": "stream",
     "text": [
      "Couldn't find program: 'skipped'\n"
     ]
    }
   ],
   "source": [
    "%%script skipped # Skipped for resource optimization\n",
    "\n",
    "top_feat_50 = df[df_feat_imp[:50]['Feature']]\n",
    "\n",
    "cat_feat = top_feat_50.select_dtypes('object').columns\n",
    "num_feat = top_feat_50.select_dtypes(exclude='object').columns\n",
    "\n",
    "print(f'Numbers of categorical feature(s): {len(cat_feat)}')\n",
    "print(f'Numbers of numerical feature(s): {len(num_feat)}')"
   ]
  },
  {
   "cell_type": "code",
   "execution_count": 75,
   "metadata": {},
   "outputs": [
    {
     "name": "stdout",
     "output_type": "stream",
     "text": [
      "Couldn't find program: 'skipped'\n"
     ]
    }
   ],
   "source": [
    "%%script skipped # Skipped for resource optimization\n",
    "\n",
    "y_preds = clf_xgb_default.predict_proba(preprocessor_pipe.transform(X_test))[:, 1]\n",
    "clf_xgb_def_auc_test = roc_auc_score(y_test, y_preds)\n",
    "\n",
    "print(f'AUC score of test dataset: {clf_xgb_def_auc_test:.4f}')"
   ]
  },
  {
   "cell_type": "markdown",
   "metadata": {},
   "source": [
    "##### **D. Tuned XGBoost**"
   ]
  },
  {
   "cell_type": "code",
   "execution_count": 76,
   "metadata": {},
   "outputs": [],
   "source": [
    "defined_params = {\n",
    "    'objective': 'binary:logistic',\n",
    "    'booster': 'gbtree',\n",
    "    'eval_metric': 'auc',\n",
    "    'n_jobs': 2,\n",
    "    'verbosity': 0,\n",
    "    'seed': 42\n",
    "  }\n",
    "\n",
    "def objective(trial: Trial):\n",
    "  tuned_params = {\n",
    "    'n_estimators': trial.suggest_int('n_estimators', 50, 150),\n",
    "    'learning_rate': trial.suggest_float('learning_rate', 1e-3, 0.5, log=True),\n",
    "    'max_depth': trial.suggest_int('max_depth', 3, 20),\n",
    "    'subsample': trial.suggest_float('subsample', 0.5, 1.0),\n",
    "    'colsample_bytree': trial.suggest_float('colsample_bytree', 0.4, 1.0),\n",
    "    'min_child_weight': trial.suggest_int('min_child_weight', 1, 10),\n",
    "    'gamma': trial.suggest_float('gamma', 0.0, 1.0),\n",
    "    'scale_pos_weight': trial.suggest_float('scale_pos_weight', 1.0, 10.0),\n",
    "    'reg_alpha': trial.suggest_float('alpha', 1e-3, 10.0, log=True),\n",
    "    'reg_lambda': trial.suggest_float('lambda', 1e-3, 10.0, log=True)\n",
    "  }\n",
    "  \n",
    "  clf_lgbm_tuned = XGBClassifier(**defined_params, **tuned_params)\n",
    "    \n",
    "  auc_scores_train, auc_scores_valid = train_model(X, y,\n",
    "                                                  model=clf_lgbm_tuned,\n",
    "                                                  preprocessor=preprocessor,\n",
    "                                                  scorer=roc_auc_score,\n",
    "                                                  cv_fold=skf,\n",
    "                                                  skip_fold='odd')\n",
    "  mean_auc_train, mean_auc_valid = np.mean(auc_scores_train), np.mean(auc_scores_valid)\n",
    "\n",
    "  print(f'Mean AUC oof score (n={trial.number}): {mean_auc_train:.4f} (train) | {mean_auc_valid:.4f} (valid)')\n",
    "  \n",
    "  return mean_auc_valid\n",
    "\n",
    "def callback(study: Study, trial: Trial):\n",
    "  joblib.dump(study, 'clf_xgb_study.pkl')"
   ]
  },
  {
   "cell_type": "code",
   "execution_count": 77,
   "metadata": {},
   "outputs": [
    {
     "name": "stderr",
     "output_type": "stream",
     "text": [
      "[I 2024-01-04 16:56:02,865] A new study created in memory with name: no-name-eb677960-ad38-4c43-bd5c-375208fb070e\n",
      "[I 2024-01-04 17:02:18,680] Trial 0 finished with value: 0.7566517549207926 and parameters: {'n_estimators': 142, 'learning_rate': 0.009239569689724048, 'max_depth': 8, 'subsample': 0.8434574057129267, 'colsample_bytree': 0.9179655592440141, 'min_child_weight': 4, 'gamma': 0.4088557511994385, 'scale_pos_weight': 9.662575660272335, 'alpha': 0.11210841050223358, 'lambda': 0.026463837867752076}. Best is trial 0 with value: 0.7566517549207926.\n"
     ]
    },
    {
     "name": "stdout",
     "output_type": "stream",
     "text": [
      "Mean AUC oof score (n=0): 0.8694 (train) | 0.7567 (valid)\n"
     ]
    },
    {
     "name": "stderr",
     "output_type": "stream",
     "text": [
      "[I 2024-01-04 17:05:32,290] Trial 1 finished with value: 0.7585730475230152 and parameters: {'n_estimators': 66, 'learning_rate': 0.019787657214219382, 'max_depth': 8, 'subsample': 0.6986931293450389, 'colsample_bytree': 0.6384573748349162, 'min_child_weight': 3, 'gamma': 0.21645520461403966, 'scale_pos_weight': 6.507316365588113, 'alpha': 8.758440739995555, 'lambda': 0.04551902415650863}. Best is trial 1 with value: 0.7585730475230152.\n"
     ]
    },
    {
     "name": "stdout",
     "output_type": "stream",
     "text": [
      "Mean AUC oof score (n=1): 0.8433 (train) | 0.7586 (valid)\n"
     ]
    },
    {
     "name": "stderr",
     "output_type": "stream",
     "text": [
      "[I 2024-01-04 17:07:41,081] Trial 2 finished with value: 0.7259484162059261 and parameters: {'n_estimators': 69, 'learning_rate': 0.005393189642414825, 'max_depth': 4, 'subsample': 0.9574913798417282, 'colsample_bytree': 0.73651689731581, 'min_child_weight': 8, 'gamma': 0.11896040461888291, 'scale_pos_weight': 4.0551609444270795, 'alpha': 0.006208445176054598, 'lambda': 0.014291075836750216}. Best is trial 1 with value: 0.7585730475230152.\n"
     ]
    },
    {
     "name": "stdout",
     "output_type": "stream",
     "text": [
      "Mean AUC oof score (n=2): 0.7318 (train) | 0.7259 (valid)\n"
     ]
    },
    {
     "name": "stderr",
     "output_type": "stream",
     "text": [
      "[I 2024-01-04 17:11:52,603] Trial 3 finished with value: 0.731126980585574 and parameters: {'n_estimators': 50, 'learning_rate': 0.2805611797707196, 'max_depth': 16, 'subsample': 0.5325759820516314, 'colsample_bytree': 0.6901498642195488, 'min_child_weight': 7, 'gamma': 0.7909923437572068, 'scale_pos_weight': 8.985884981075099, 'alpha': 0.13240624218298938, 'lambda': 5.452278904488716}. Best is trial 1 with value: 0.7585730475230152.\n"
     ]
    },
    {
     "name": "stdout",
     "output_type": "stream",
     "text": [
      "Mean AUC oof score (n=3): 0.9993 (train) | 0.7311 (valid)\n"
     ]
    },
    {
     "name": "stderr",
     "output_type": "stream",
     "text": [
      "[I 2024-01-04 17:15:27,928] Trial 4 finished with value: 0.7387240707837479 and parameters: {'n_estimators': 143, 'learning_rate': 0.007579447219296004, 'max_depth': 4, 'subsample': 0.7864481275981936, 'colsample_bytree': 0.5923643689137248, 'min_child_weight': 2, 'gamma': 0.5507908858723696, 'scale_pos_weight': 5.703487054953378, 'alpha': 0.026945463154254085, 'lambda': 0.05451952732698093}. Best is trial 1 with value: 0.7585730475230152.\n"
     ]
    },
    {
     "name": "stdout",
     "output_type": "stream",
     "text": [
      "Mean AUC oof score (n=4): 0.7472 (train) | 0.7387 (valid)\n"
     ]
    },
    {
     "name": "stderr",
     "output_type": "stream",
     "text": [
      "[I 2024-01-04 17:18:24,948] Trial 5 finished with value: 0.7651067676281977 and parameters: {'n_estimators': 51, 'learning_rate': 0.050411502771380866, 'max_depth': 9, 'subsample': 0.5718484022228454, 'colsample_bytree': 0.8391733788053908, 'min_child_weight': 7, 'gamma': 0.06080579810015707, 'scale_pos_weight': 1.9906000392957104, 'alpha': 0.01841703321608823, 'lambda': 0.08377951300112718}. Best is trial 5 with value: 0.7651067676281977.\n"
     ]
    },
    {
     "name": "stdout",
     "output_type": "stream",
     "text": [
      "Mean AUC oof score (n=5): 0.9030 (train) | 0.7651 (valid)\n"
     ]
    },
    {
     "name": "stderr",
     "output_type": "stream",
     "text": [
      "[I 2024-01-04 17:28:14,713] Trial 6 finished with value: 0.7595860843766322 and parameters: {'n_estimators': 90, 'learning_rate': 0.1100652470573552, 'max_depth': 17, 'subsample': 0.7634767617981885, 'colsample_bytree': 0.8718399117974234, 'min_child_weight': 6, 'gamma': 0.9488512624073051, 'scale_pos_weight': 9.05068219148964, 'alpha': 0.06849892984208232, 'lambda': 0.048008283945325206}. Best is trial 5 with value: 0.7651067676281977.\n"
     ]
    },
    {
     "name": "stdout",
     "output_type": "stream",
     "text": [
      "Mean AUC oof score (n=6): 1.0000 (train) | 0.7596 (valid)\n"
     ]
    },
    {
     "name": "stderr",
     "output_type": "stream",
     "text": [
      "[I 2024-01-04 17:34:23,759] Trial 7 finished with value: 0.7565708983714416 and parameters: {'n_estimators': 118, 'learning_rate': 0.00935960984886585, 'max_depth': 9, 'subsample': 0.9224275297277429, 'colsample_bytree': 0.9615778524861439, 'min_child_weight': 2, 'gamma': 0.14936443706086155, 'scale_pos_weight': 5.161682927252761, 'alpha': 0.003156756044761254, 'lambda': 0.012552190594084337}. Best is trial 5 with value: 0.7651067676281977.\n"
     ]
    },
    {
     "name": "stdout",
     "output_type": "stream",
     "text": [
      "Mean AUC oof score (n=7): 0.9130 (train) | 0.7566 (valid)\n"
     ]
    },
    {
     "name": "stderr",
     "output_type": "stream",
     "text": [
      "[I 2024-01-04 17:36:19,141] Trial 8 finished with value: 0.7683547712703679 and parameters: {'n_estimators': 98, 'learning_rate': 0.12538865121972906, 'max_depth': 3, 'subsample': 0.5796257100974378, 'colsample_bytree': 0.6330355718922563, 'min_child_weight': 9, 'gamma': 0.5791376722728071, 'scale_pos_weight': 2.2577992463875654, 'alpha': 3.67025004593895, 'lambda': 0.0646403919921994}. Best is trial 8 with value: 0.7683547712703679.\n"
     ]
    },
    {
     "name": "stdout",
     "output_type": "stream",
     "text": [
      "Mean AUC oof score (n=8): 0.7893 (train) | 0.7684 (valid)\n"
     ]
    },
    {
     "name": "stderr",
     "output_type": "stream",
     "text": [
      "[I 2024-01-04 17:41:02,676] Trial 9 finished with value: 0.7318119126593072 and parameters: {'n_estimators': 89, 'learning_rate': 0.308840256061682, 'max_depth': 12, 'subsample': 0.7926862835843962, 'colsample_bytree': 0.9622687558168156, 'min_child_weight': 3, 'gamma': 0.5788572113190996, 'scale_pos_weight': 8.851206560518914, 'alpha': 0.02390428360339973, 'lambda': 0.19318565486721587}. Best is trial 8 with value: 0.7683547712703679.\n"
     ]
    },
    {
     "name": "stdout",
     "output_type": "stream",
     "text": [
      "Mean AUC oof score (n=9): 1.0000 (train) | 0.7318 (valid)\n"
     ]
    },
    {
     "name": "stderr",
     "output_type": "stream",
     "text": [
      "[I 2024-01-04 17:47:33,581] Trial 10 finished with value: 0.755805398101627 and parameters: {'n_estimators': 109, 'learning_rate': 0.0015232597921040066, 'max_depth': 20, 'subsample': 0.6460812689418758, 'colsample_bytree': 0.5154374297263913, 'min_child_weight': 10, 'gamma': 0.7352807252656528, 'scale_pos_weight': 1.6857299534171224, 'alpha': 8.028689781964593, 'lambda': 0.6607593401522762}. Best is trial 8 with value: 0.7683547712703679.\n"
     ]
    },
    {
     "name": "stdout",
     "output_type": "stream",
     "text": [
      "Mean AUC oof score (n=10): 0.8405 (train) | 0.7558 (valid)\n"
     ]
    },
    {
     "name": "stderr",
     "output_type": "stream",
     "text": [
      "[I 2024-01-04 17:49:50,973] Trial 11 finished with value: 0.766766236166492 and parameters: {'n_estimators': 120, 'learning_rate': 0.06394580861387764, 'max_depth': 3, 'subsample': 0.5007942336982693, 'colsample_bytree': 0.8080876012287957, 'min_child_weight': 9, 'gamma': 0.3807352403199281, 'scale_pos_weight': 1.531425489265862, 'alpha': 1.3706558744916002, 'lambda': 0.0016398494187025983}. Best is trial 8 with value: 0.7683547712703679.\n"
     ]
    },
    {
     "name": "stdout",
     "output_type": "stream",
     "text": [
      "Mean AUC oof score (n=11): 0.7810 (train) | 0.7668 (valid)\n"
     ]
    },
    {
     "name": "stderr",
     "output_type": "stream",
     "text": [
      "[I 2024-01-04 17:52:03,678] Trial 12 finished with value: 0.767438348483229 and parameters: {'n_estimators': 122, 'learning_rate': 0.07933449946818884, 'max_depth': 3, 'subsample': 0.5018936752573434, 'colsample_bytree': 0.7747120231256852, 'min_child_weight': 10, 'gamma': 0.3631637987737911, 'scale_pos_weight': 2.9261230813037438, 'alpha': 1.0096663450623462, 'lambda': 0.0012913779973418636}. Best is trial 8 with value: 0.7683547712703679.\n"
     ]
    },
    {
     "name": "stdout",
     "output_type": "stream",
     "text": [
      "Mean AUC oof score (n=12): 0.7849 (train) | 0.7674 (valid)\n"
     ]
    },
    {
     "name": "stderr",
     "output_type": "stream",
     "text": [
      "[I 2024-01-04 17:55:05,700] Trial 13 finished with value: 0.7672119334949834 and parameters: {'n_estimators': 129, 'learning_rate': 0.13374407188083026, 'max_depth': 6, 'subsample': 0.6210535991621813, 'colsample_bytree': 0.426033912000997, 'min_child_weight': 10, 'gamma': 0.30687226508334264, 'scale_pos_weight': 3.397330169205468, 'alpha': 0.911647616037075, 'lambda': 0.001178095799945931}. Best is trial 8 with value: 0.7683547712703679.\n"
     ]
    },
    {
     "name": "stdout",
     "output_type": "stream",
     "text": [
      "Mean AUC oof score (n=13): 0.8991 (train) | 0.7672 (valid)\n"
     ]
    },
    {
     "name": "stderr",
     "output_type": "stream",
     "text": [
      "[I 2024-01-04 18:00:30,740] Trial 14 finished with value: 0.7690548153720733 and parameters: {'n_estimators': 91, 'learning_rate': 0.0652866683356757, 'max_depth': 13, 'subsample': 0.5868868003018393, 'colsample_bytree': 0.756080429748682, 'min_child_weight': 9, 'gamma': 0.6502783744714566, 'scale_pos_weight': 3.150395543765218, 'alpha': 1.0758442481595067, 'lambda': 0.0038728967410118225}. Best is trial 14 with value: 0.7690548153720733.\n"
     ]
    },
    {
     "name": "stdout",
     "output_type": "stream",
     "text": [
      "Mean AUC oof score (n=14): 0.9918 (train) | 0.7691 (valid)\n"
     ]
    },
    {
     "name": "stderr",
     "output_type": "stream",
     "text": [
      "[I 2024-01-04 18:07:39,602] Trial 15 finished with value: 0.7657916425660534 and parameters: {'n_estimators': 98, 'learning_rate': 0.019624042058569387, 'max_depth': 13, 'subsample': 0.6759951559031376, 'colsample_bytree': 0.5690623797284647, 'min_child_weight': 8, 'gamma': 0.7044217194647545, 'scale_pos_weight': 4.210242752904625, 'alpha': 1.8892983567737993, 'lambda': 0.005558343696556363}. Best is trial 14 with value: 0.7690548153720733.\n"
     ]
    },
    {
     "name": "stdout",
     "output_type": "stream",
     "text": [
      "Mean AUC oof score (n=15): 0.9629 (train) | 0.7658 (valid)\n"
     ]
    },
    {
     "name": "stderr",
     "output_type": "stream",
     "text": [
      "[I 2024-01-04 18:11:52,332] Trial 16 finished with value: 0.7197502084971115 and parameters: {'n_estimators': 78, 'learning_rate': 0.4669812653853666, 'max_depth': 14, 'subsample': 0.5844943339592443, 'colsample_bytree': 0.6836308338464377, 'min_child_weight': 5, 'gamma': 0.899463259930993, 'scale_pos_weight': 1.0300190658861457, 'alpha': 0.3271171609351011, 'lambda': 0.46000607195791704}. Best is trial 14 with value: 0.7690548153720733.\n"
     ]
    },
    {
     "name": "stdout",
     "output_type": "stream",
     "text": [
      "Mean AUC oof score (n=16): 1.0000 (train) | 0.7198 (valid)\n"
     ]
    },
    {
     "name": "stderr",
     "output_type": "stream",
     "text": [
      "[I 2024-01-04 18:17:31,616] Trial 17 finished with value: 0.7710824558951246 and parameters: {'n_estimators': 104, 'learning_rate': 0.041038543639993944, 'max_depth': 11, 'subsample': 0.7208662051736604, 'colsample_bytree': 0.4545667971704057, 'min_child_weight': 8, 'gamma': 0.5670075994550285, 'scale_pos_weight': 2.6734922848784204, 'alpha': 2.9602935989956056, 'lambda': 0.005081654782856356}. Best is trial 17 with value: 0.7710824558951246.\n"
     ]
    },
    {
     "name": "stdout",
     "output_type": "stream",
     "text": [
      "Mean AUC oof score (n=17): 0.9724 (train) | 0.7711 (valid)\n"
     ]
    },
    {
     "name": "stderr",
     "output_type": "stream",
     "text": [
      "[I 2024-01-04 18:23:29,822] Trial 18 finished with value: 0.7654802717302653 and parameters: {'n_estimators': 108, 'learning_rate': 0.028173100066484186, 'max_depth': 11, 'subsample': 0.7156645891211587, 'colsample_bytree': 0.41195667559675553, 'min_child_weight': 6, 'gamma': 0.8272723716291966, 'scale_pos_weight': 7.587951844896214, 'alpha': 0.4080932211805024, 'lambda': 0.004264330109209127}. Best is trial 17 with value: 0.7710824558951246.\n"
     ]
    },
    {
     "name": "stdout",
     "output_type": "stream",
     "text": [
      "Mean AUC oof score (n=18): 0.9729 (train) | 0.7655 (valid)\n"
     ]
    },
    {
     "name": "stderr",
     "output_type": "stream",
     "text": [
      "[I 2024-01-04 18:30:26,242] Trial 19 finished with value: 0.7698933036064484 and parameters: {'n_estimators': 80, 'learning_rate': 0.04558039456266345, 'max_depth': 15, 'subsample': 0.8616689143458902, 'colsample_bytree': 0.48228278533092167, 'min_child_weight': 8, 'gamma': 0.6754661666244013, 'scale_pos_weight': 2.9844203055504352, 'alpha': 3.442851512574721, 'lambda': 0.0039844436929543795}. Best is trial 17 with value: 0.7710824558951246.\n"
     ]
    },
    {
     "name": "stdout",
     "output_type": "stream",
     "text": [
      "Mean AUC oof score (n=19): 0.9942 (train) | 0.7699 (valid)\n"
     ]
    },
    {
     "name": "stderr",
     "output_type": "stream",
     "text": [
      "[I 2024-01-04 18:42:42,915] Trial 20 finished with value: 0.7564237598155783 and parameters: {'n_estimators': 79, 'learning_rate': 0.0028463601635769407, 'max_depth': 17, 'subsample': 0.893037656462328, 'colsample_bytree': 0.4881418756972387, 'min_child_weight': 7, 'gamma': 0.479780325130711, 'scale_pos_weight': 4.775005409816492, 'alpha': 3.851272925330507, 'lambda': 0.012197717795804332}. Best is trial 17 with value: 0.7710824558951246.\n"
     ]
    },
    {
     "name": "stdout",
     "output_type": "stream",
     "text": [
      "Mean AUC oof score (n=20): 0.9392 (train) | 0.7564 (valid)\n"
     ]
    },
    {
     "name": "stderr",
     "output_type": "stream",
     "text": [
      "[I 2024-01-04 18:49:35,366] Trial 21 finished with value: 0.7704409730509981 and parameters: {'n_estimators': 87, 'learning_rate': 0.043883835981889795, 'max_depth': 14, 'subsample': 0.8709699309685903, 'colsample_bytree': 0.48822486148320365, 'min_child_weight': 8, 'gamma': 0.679261245245533, 'scale_pos_weight': 3.061394627712269, 'alpha': 3.0132462030126583, 'lambda': 0.0040637184899734256}. Best is trial 17 with value: 0.7710824558951246.\n"
     ]
    },
    {
     "name": "stdout",
     "output_type": "stream",
     "text": [
      "Mean AUC oof score (n=21): 0.9949 (train) | 0.7704 (valid)\n"
     ]
    },
    {
     "name": "stderr",
     "output_type": "stream",
     "text": [
      "[I 2024-01-04 18:56:15,847] Trial 22 finished with value: 0.7670785185163815 and parameters: {'n_estimators': 77, 'learning_rate': 0.03269806990486433, 'max_depth': 15, 'subsample': 0.8468851687077363, 'colsample_bytree': 0.48784876517165265, 'min_child_weight': 8, 'gamma': 0.663524729742904, 'scale_pos_weight': 2.5836552245032047, 'alpha': 3.4706010038661983, 'lambda': 0.0033155887560730275}. Best is trial 17 with value: 0.7710824558951246.\n"
     ]
    },
    {
     "name": "stdout",
     "output_type": "stream",
     "text": [
      "Mean AUC oof score (n=22): 0.9822 (train) | 0.7671 (valid)\n"
     ]
    },
    {
     "name": "stderr",
     "output_type": "stream",
     "text": [
      "[I 2024-01-04 19:46:34,167] Trial 23 finished with value: 0.7652079560727086 and parameters: {'n_estimators': 64, 'learning_rate': 0.040868178984330754, 'max_depth': 19, 'subsample': 0.9962615041781897, 'colsample_bytree': 0.5371028847418653, 'min_child_weight': 5, 'gamma': 0.4662570576018222, 'scale_pos_weight': 4.191115906608762, 'alpha': 0.40256726470747145, 'lambda': 0.007866190125476319}. Best is trial 17 with value: 0.7710824558951246.\n"
     ]
    },
    {
     "name": "stdout",
     "output_type": "stream",
     "text": [
      "Mean AUC oof score (n=23): 1.0000 (train) | 0.7652 (valid)\n"
     ]
    },
    {
     "name": "stderr",
     "output_type": "stream",
     "text": [
      "[I 2024-01-04 19:53:34,795] Trial 24 finished with value: 0.7636672686117539 and parameters: {'n_estimators': 107, 'learning_rate': 0.014195763589320025, 'max_depth': 11, 'subsample': 0.842406539012523, 'colsample_bytree': 0.43896215265026606, 'min_child_weight': 8, 'gamma': 0.8257930768155255, 'scale_pos_weight': 3.6139463774761893, 'alpha': 9.89425995101377, 'lambda': 0.002242042617523553}. Best is trial 17 with value: 0.7710824558951246.\n"
     ]
    },
    {
     "name": "stdout",
     "output_type": "stream",
     "text": [
      "Mean AUC oof score (n=24): 0.8944 (train) | 0.7637 (valid)\n"
     ]
    },
    {
     "name": "stderr",
     "output_type": "stream",
     "text": [
      "[I 2024-01-04 20:03:06,083] Trial 25 finished with value: 0.7671012889822029 and parameters: {'n_estimators': 82, 'learning_rate': 0.03552717652028852, 'max_depth': 15, 'subsample': 0.9013060812309535, 'colsample_bytree': 0.47661293825448303, 'min_child_weight': 7, 'gamma': 0.6276861703857227, 'scale_pos_weight': 6.446689695944049, 'alpha': 3.0736045843751176, 'lambda': 0.022458801162582222}. Best is trial 17 with value: 0.7710824558951246.\n"
     ]
    },
    {
     "name": "stdout",
     "output_type": "stream",
     "text": [
      "Mean AUC oof score (n=25): 0.9940 (train) | 0.7671 (valid)\n"
     ]
    },
    {
     "name": "stderr",
     "output_type": "stream",
     "text": [
      "[I 2024-01-04 20:07:03,083] Trial 26 finished with value: 0.7572607910559923 and parameters: {'n_estimators': 101, 'learning_rate': 0.2047371460042957, 'max_depth': 10, 'subsample': 0.737664954965702, 'colsample_bytree': 0.5585042674517441, 'min_child_weight': 9, 'gamma': 0.5319638517977716, 'scale_pos_weight': 2.594898400373765, 'alpha': 0.6249445302090676, 'lambda': 4.265971214643128}. Best is trial 17 with value: 0.7710824558951246.\n"
     ]
    },
    {
     "name": "stdout",
     "output_type": "stream",
     "text": [
      "Mean AUC oof score (n=26): 0.9987 (train) | 0.7573 (valid)\n"
     ]
    },
    {
     "name": "stderr",
     "output_type": "stream",
     "text": [
      "[I 2024-01-04 20:12:52,679] Trial 27 finished with value: 0.7633988294632732 and parameters: {'n_estimators': 60, 'learning_rate': 0.015258008403205972, 'max_depth': 18, 'subsample': 0.807128523279806, 'colsample_bytree': 0.4499173320586271, 'min_child_weight': 6, 'gamma': 0.7370935447982909, 'scale_pos_weight': 1.0723005788841613, 'alpha': 2.1905201857040275, 'lambda': 0.00711159325715211}. Best is trial 17 with value: 0.7710824558951246.\n"
     ]
    },
    {
     "name": "stdout",
     "output_type": "stream",
     "text": [
      "Mean AUC oof score (n=27): 0.9508 (train) | 0.7634 (valid)\n"
     ]
    },
    {
     "name": "stderr",
     "output_type": "stream",
     "text": [
      "[I 2024-01-04 20:18:40,364] Trial 28 finished with value: 0.7678747621181606 and parameters: {'n_estimators': 86, 'learning_rate': 0.09569087116875942, 'max_depth': 13, 'subsample': 0.8823333783342637, 'colsample_bytree': 0.6092125404297174, 'min_child_weight': 8, 'gamma': 0.8885205897345946, 'scale_pos_weight': 4.769997588333877, 'alpha': 5.322729133097238, 'lambda': 0.1952414449928509}. Best is trial 17 with value: 0.7710824558951246.\n"
     ]
    },
    {
     "name": "stdout",
     "output_type": "stream",
     "text": [
      "Mean AUC oof score (n=28): 0.9991 (train) | 0.7679 (valid)\n"
     ]
    },
    {
     "name": "stderr",
     "output_type": "stream",
     "text": [
      "[I 2024-01-04 20:34:28,189] Trial 29 finished with value: 0.7642203180107502 and parameters: {'n_estimators': 94, 'learning_rate': 0.010672755645780177, 'max_depth': 15, 'subsample': 0.8435784715070047, 'colsample_bytree': 0.4059317911145489, 'min_child_weight': 4, 'gamma': 0.43899052935543525, 'scale_pos_weight': 3.6793319738445254, 'alpha': 0.21296061177688444, 'lambda': 0.002355880533021053}. Best is trial 17 with value: 0.7710824558951246.\n"
     ]
    },
    {
     "name": "stdout",
     "output_type": "stream",
     "text": [
      "Mean AUC oof score (n=29): 0.9964 (train) | 0.7642 (valid)\n"
     ]
    },
    {
     "name": "stderr",
     "output_type": "stream",
     "text": [
      "[I 2024-01-04 20:38:27,214] Trial 30 finished with value: 0.7712426319478244 and parameters: {'n_estimators': 134, 'learning_rate': 0.051155808279452264, 'max_depth': 7, 'subsample': 0.9448178985535863, 'colsample_bytree': 0.5148592303796732, 'min_child_weight': 7, 'gamma': 0.9926317598896218, 'scale_pos_weight': 5.929801829774561, 'alpha': 0.11794368313132744, 'lambda': 0.021929899018483762}. Best is trial 30 with value: 0.7712426319478244.\n"
     ]
    },
    {
     "name": "stdout",
     "output_type": "stream",
     "text": [
      "Mean AUC oof score (n=30): 0.9032 (train) | 0.7712 (valid)\n"
     ]
    },
    {
     "name": "stderr",
     "output_type": "stream",
     "text": [
      "[I 2024-01-04 20:43:13,974] Trial 31 finished with value: 0.7712028523382282 and parameters: {'n_estimators': 149, 'learning_rate': 0.04946918943751964, 'max_depth': 8, 'subsample': 0.9441674526408406, 'colsample_bytree': 0.5200683256989034, 'min_child_weight': 7, 'gamma': 0.9608516496856225, 'scale_pos_weight': 6.639503720885678, 'alpha': 0.0011078193871679718, 'lambda': 0.02392344153262259}. Best is trial 30 with value: 0.7712426319478244.\n"
     ]
    },
    {
     "name": "stdout",
     "output_type": "stream",
     "text": [
      "Mean AUC oof score (n=31): 0.9483 (train) | 0.7712 (valid)\n"
     ]
    },
    {
     "name": "stderr",
     "output_type": "stream",
     "text": [
      "[I 2024-01-04 20:47:58,075] Trial 32 finished with value: 0.768972596964701 and parameters: {'n_estimators': 148, 'learning_rate': 0.024592576884012785, 'max_depth': 7, 'subsample': 0.9527389130639117, 'colsample_bytree': 0.526523792732642, 'min_child_weight': 7, 'gamma': 0.9912422952645485, 'scale_pos_weight': 7.23840314967093, 'alpha': 0.0018338331324924432, 'lambda': 0.024225498544457467}. Best is trial 30 with value: 0.7712426319478244.\n"
     ]
    },
    {
     "name": "stdout",
     "output_type": "stream",
     "text": [
      "Mean AUC oof score (n=32): 0.8686 (train) | 0.7690 (valid)\n"
     ]
    },
    {
     "name": "stderr",
     "output_type": "stream",
     "text": [
      "[I 2024-01-04 20:50:56,408] Trial 33 finished with value: 0.763373539695104 and parameters: {'n_estimators': 137, 'learning_rate': 0.17063983148799078, 'max_depth': 6, 'subsample': 0.9584560164179079, 'colsample_bytree': 0.46032745983959855, 'min_child_weight': 6, 'gamma': 0.9958097846503652, 'scale_pos_weight': 6.309518433469074, 'alpha': 0.009724679778123309, 'lambda': 0.028333848341644825}. Best is trial 30 with value: 0.7712426319478244.\n"
     ]
    },
    {
     "name": "stdout",
     "output_type": "stream",
     "text": [
      "Mean AUC oof score (n=33): 0.9294 (train) | 0.7634 (valid)\n"
     ]
    },
    {
     "name": "stderr",
     "output_type": "stream",
     "text": [
      "[I 2024-01-04 20:54:37,285] Trial 34 finished with value: 0.7708213433935178 and parameters: {'n_estimators': 133, 'learning_rate': 0.06816346002905947, 'max_depth': 7, 'subsample': 0.9361352984309592, 'colsample_bytree': 0.5105133690137246, 'min_child_weight': 7, 'gamma': 0.8839112119703367, 'scale_pos_weight': 7.3389606745050795, 'alpha': 0.0013123314504742943, 'lambda': 0.012751660116870898}. Best is trial 30 with value: 0.7712426319478244.\n"
     ]
    },
    {
     "name": "stdout",
     "output_type": "stream",
     "text": [
      "Mean AUC oof score (n=34): 0.9187 (train) | 0.7708 (valid)\n"
     ]
    },
    {
     "name": "stderr",
     "output_type": "stream",
     "text": [
      "[I 2024-01-04 20:58:45,900] Trial 35 finished with value: 0.7672328968340938 and parameters: {'n_estimators': 133, 'learning_rate': 0.07238187123191239, 'max_depth': 8, 'subsample': 0.9878802321629184, 'colsample_bytree': 0.5870053710283382, 'min_child_weight': 5, 'gamma': 0.9023698105251947, 'scale_pos_weight': 7.48106477731496, 'alpha': 0.0012658569494880564, 'lambda': 0.01683735514212158}. Best is trial 30 with value: 0.7712426319478244.\n"
     ]
    },
    {
     "name": "stdout",
     "output_type": "stream",
     "text": [
      "Mean AUC oof score (n=35): 0.9646 (train) | 0.7672 (valid)\n"
     ]
    },
    {
     "name": "stderr",
     "output_type": "stream",
     "text": [
      "[I 2024-01-04 21:02:38,459] Trial 36 finished with value: 0.7643089912683353 and parameters: {'n_estimators': 150, 'learning_rate': 0.021812189704766376, 'max_depth': 5, 'subsample': 0.9430467717302929, 'colsample_bytree': 0.6479846749245937, 'min_child_weight': 7, 'gamma': 0.8088664052860506, 'scale_pos_weight': 5.932925589176184, 'alpha': 0.004231850532128969, 'lambda': 0.029871009253839825}. Best is trial 30 with value: 0.7712426319478244.\n"
     ]
    },
    {
     "name": "stdout",
     "output_type": "stream",
     "text": [
      "Mean AUC oof score (n=36): 0.7972 (train) | 0.7643 (valid)\n"
     ]
    },
    {
     "name": "stderr",
     "output_type": "stream",
     "text": [
      "[I 2024-01-04 21:08:19,627] Trial 37 finished with value: 0.7494616014919597 and parameters: {'n_estimators': 141, 'learning_rate': 0.00440453974422546, 'max_depth': 8, 'subsample': 0.928615103611867, 'colsample_bytree': 0.5288203658478342, 'min_child_weight': 1, 'gamma': 0.9346761317435633, 'scale_pos_weight': 7.05534437430698, 'alpha': 0.06225710442467011, 'lambda': 0.009112625014252654}. Best is trial 30 with value: 0.7712426319478244.\n"
     ]
    },
    {
     "name": "stdout",
     "output_type": "stream",
     "text": [
      "Mean AUC oof score (n=37): 0.8577 (train) | 0.7495 (valid)\n"
     ]
    },
    {
     "name": "stderr",
     "output_type": "stream",
     "text": [
      "[I 2024-01-04 21:13:16,749] Trial 38 finished with value: 0.7688024772534158 and parameters: {'n_estimators': 131, 'learning_rate': 0.05295809228776055, 'max_depth': 9, 'subsample': 0.9681628823672199, 'colsample_bytree': 0.5569215661524105, 'min_child_weight': 7, 'gamma': 0.8723272085209891, 'scale_pos_weight': 8.105485244930408, 'alpha': 0.0010812637836438805, 'lambda': 0.04155770730459844}. Best is trial 30 with value: 0.7712426319478244.\n"
     ]
    },
    {
     "name": "stdout",
     "output_type": "stream",
     "text": [
      "Mean AUC oof score (n=38): 0.9753 (train) | 0.7688 (valid)\n"
     ]
    },
    {
     "name": "stderr",
     "output_type": "stream",
     "text": [
      "[I 2024-01-04 21:16:45,535] Trial 39 finished with value: 0.7673087782140839 and parameters: {'n_estimators': 127, 'learning_rate': 0.09310052669341837, 'max_depth': 7, 'subsample': 0.917502517148699, 'colsample_bytree': 0.6608884898860419, 'min_child_weight': 6, 'gamma': 0.7620011559057059, 'scale_pos_weight': 6.881744784894553, 'alpha': 0.009648365299154527, 'lambda': 0.1395653353882814}. Best is trial 30 with value: 0.7712426319478244.\n"
     ]
    },
    {
     "name": "stdout",
     "output_type": "stream",
     "text": [
      "Mean AUC oof score (n=39): 0.9361 (train) | 0.7673 (valid)\n"
     ]
    },
    {
     "name": "stderr",
     "output_type": "stream",
     "text": [
      "[I 2024-01-04 21:21:47,534] Trial 40 finished with value: 0.7476699904746122 and parameters: {'n_estimators': 143, 'learning_rate': 0.17237956884624836, 'max_depth': 10, 'subsample': 0.7583572919020742, 'colsample_bytree': 0.5116370516033917, 'min_child_weight': 4, 'gamma': 0.9489370359639431, 'scale_pos_weight': 5.698643623677513, 'alpha': 0.002174318401091844, 'lambda': 0.09215607139335623}. Best is trial 30 with value: 0.7712426319478244.\n"
     ]
    },
    {
     "name": "stdout",
     "output_type": "stream",
     "text": [
      "Mean AUC oof score (n=40): 1.0000 (train) | 0.7477 (valid)\n"
     ]
    },
    {
     "name": "stderr",
     "output_type": "stream",
     "text": [
      "[I 2024-01-04 21:25:45,697] Trial 41 finished with value: 0.7692865351500193 and parameters: {'n_estimators': 136, 'learning_rate': 0.051802827676176055, 'max_depth': 7, 'subsample': 0.8150774461981842, 'colsample_bytree': 0.5085314079635912, 'min_child_weight': 8, 'gamma': 0.8473445639581411, 'scale_pos_weight': 8.101548020159354, 'alpha': 0.03759494915031819, 'lambda': 0.014511815363460842}. Best is trial 30 with value: 0.7712426319478244.\n"
     ]
    },
    {
     "name": "stdout",
     "output_type": "stream",
     "text": [
      "Mean AUC oof score (n=41): 0.8989 (train) | 0.7693 (valid)\n"
     ]
    },
    {
     "name": "stderr",
     "output_type": "stream",
     "text": [
      "[I 2024-01-04 21:28:44,056] Trial 42 finished with value: 0.7669228989084962 and parameters: {'n_estimators': 113, 'learning_rate': 0.03689342863786728, 'max_depth': 5, 'subsample': 0.8770171659499496, 'colsample_bytree': 0.46310465289496816, 'min_child_weight': 9, 'gamma': 0.9455570466102475, 'scale_pos_weight': 5.0081842604812685, 'alpha': 0.11082365250268966, 'lambda': 0.008114174153048458}. Best is trial 30 with value: 0.7712426319478244.\n"
     ]
    },
    {
     "name": "stdout",
     "output_type": "stream",
     "text": [
      "Mean AUC oof score (n=42): 0.8037 (train) | 0.7669 (valid)\n"
     ]
    },
    {
     "name": "stderr",
     "output_type": "stream",
     "text": [
      "[I 2024-01-04 21:36:11,565] Trial 43 finished with value: 0.7676699174058463 and parameters: {'n_estimators': 144, 'learning_rate': 0.01809939515774717, 'max_depth': 10, 'subsample': 0.9763047152860573, 'colsample_bytree': 0.6096005805718863, 'min_child_weight': 7, 'gamma': 0.589065915663323, 'scale_pos_weight': 6.18318230234953, 'alpha': 0.012157594915338821, 'lambda': 0.04024039422416336}. Best is trial 30 with value: 0.7712426319478244.\n"
     ]
    },
    {
     "name": "stdout",
     "output_type": "stream",
     "text": [
      "Mean AUC oof score (n=43): 0.9640 (train) | 0.7677 (valid)\n"
     ]
    },
    {
     "name": "stderr",
     "output_type": "stream",
     "text": [
      "[I 2024-01-04 21:41:54,898] Trial 44 finished with value: 0.7647579063593363 and parameters: {'n_estimators': 71, 'learning_rate': 0.027108561377621562, 'max_depth': 12, 'subsample': 0.9263969986460204, 'colsample_bytree': 0.7202270287496314, 'min_child_weight': 8, 'gamma': 0.7725595992765282, 'scale_pos_weight': 5.281296118442826, 'alpha': 0.003545769110233218, 'lambda': 0.011391004335128711}. Best is trial 30 with value: 0.7712426319478244.\n"
     ]
    },
    {
     "name": "stdout",
     "output_type": "stream",
     "text": [
      "Mean AUC oof score (n=44): 0.9825 (train) | 0.7648 (valid)\n"
     ]
    },
    {
     "name": "stderr",
     "output_type": "stream",
     "text": [
      "[I 2024-01-04 21:46:00,201] Trial 45 finished with value: 0.7547826338358714 and parameters: {'n_estimators': 124, 'learning_rate': 0.1196837515500418, 'max_depth': 9, 'subsample': 0.6884257401283833, 'colsample_bytree': 0.43513493634139205, 'min_child_weight': 7, 'gamma': 0.9981231654535884, 'scale_pos_weight': 8.297997258453472, 'alpha': 0.006136036623036304, 'lambda': 0.018148664739809132}. Best is trial 30 with value: 0.7712426319478244.\n"
     ]
    },
    {
     "name": "stdout",
     "output_type": "stream",
     "text": [
      "Mean AUC oof score (n=45): 0.9880 (train) | 0.7548 (valid)\n"
     ]
    },
    {
     "name": "stderr",
     "output_type": "stream",
     "text": [
      "[I 2024-01-04 21:49:12,423] Trial 46 finished with value: 0.7704051275126962 and parameters: {'n_estimators': 115, 'learning_rate': 0.0564247859666804, 'max_depth': 6, 'subsample': 0.723900048261574, 'colsample_bytree': 0.49709226946346735, 'min_child_weight': 9, 'gamma': 0.525965867306664, 'scale_pos_weight': 6.530819898453519, 'alpha': 0.001765364471492558, 'lambda': 0.002521036015103177}. Best is trial 30 with value: 0.7712426319478244.\n"
     ]
    },
    {
     "name": "stdout",
     "output_type": "stream",
     "text": [
      "Mean AUC oof score (n=46): 0.8501 (train) | 0.7704 (valid)\n"
     ]
    },
    {
     "name": "stderr",
     "output_type": "stream",
     "text": [
      "[I 2024-01-04 21:51:46,196] Trial 47 finished with value: 0.7695184886586991 and parameters: {'n_estimators': 103, 'learning_rate': 0.08328774766976128, 'max_depth': 5, 'subsample': 0.7754038809524207, 'colsample_bytree': 0.5546180837196577, 'min_child_weight': 6, 'gamma': 0.02358300766827659, 'scale_pos_weight': 6.661533359605811, 'alpha': 0.2000901924519903, 'lambda': 0.0062579063463666}. Best is trial 30 with value: 0.7712426319478244.\n"
     ]
    },
    {
     "name": "stdout",
     "output_type": "stream",
     "text": [
      "Mean AUC oof score (n=47): 0.8324 (train) | 0.7695 (valid)\n"
     ]
    },
    {
     "name": "stderr",
     "output_type": "stream",
     "text": [
      "[I 2024-01-04 21:56:29,172] Trial 48 finished with value: 0.7739282641195819 and parameters: {'n_estimators': 137, 'learning_rate': 0.04194722718576069, 'max_depth': 8, 'subsample': 0.9082784000539145, 'colsample_bytree': 0.5872094247867703, 'min_child_weight': 8, 'gamma': 0.27709922269615656, 'scale_pos_weight': 2.091685625742769, 'alpha': 0.054288217779455666, 'lambda': 0.005369116300205121}. Best is trial 48 with value: 0.7739282641195819.\n"
     ]
    },
    {
     "name": "stdout",
     "output_type": "stream",
     "text": [
      "Mean AUC oof score (n=48): 0.9320 (train) | 0.7739 (valid)\n"
     ]
    },
    {
     "name": "stderr",
     "output_type": "stream",
     "text": [
      "[I 2024-01-04 22:00:42,649] Trial 49 finished with value: 0.7737142382949854 and parameters: {'n_estimators': 138, 'learning_rate': 0.0674402184924171, 'max_depth': 8, 'subsample': 0.9087408783096411, 'colsample_bytree': 0.5847361626052326, 'min_child_weight': 9, 'gamma': 0.185262094370164, 'scale_pos_weight': 1.9501535659397953, 'alpha': 0.03499025829622715, 'lambda': 0.07122103500274296}. Best is trial 48 with value: 0.7739282641195819.\n"
     ]
    },
    {
     "name": "stdout",
     "output_type": "stream",
     "text": [
      "Mean AUC oof score (n=49): 0.9526 (train) | 0.7737 (valid)\n"
     ]
    }
   ],
   "source": [
    "IS_TUNING = False\n",
    "\n",
    "if IS_TUNING:\n",
    "  try:\n",
    "    study = joblib.load('clf_xgb_study.pkl')\n",
    "  except FileNotFoundError:\n",
    "    print('Cached study file not found!')\n",
    "else:\n",
    "  study = optuna.create_study(direction='maximize')\n",
    "  study.optimize(objective, n_trials=50, n_jobs=1, callbacks=[callback])"
   ]
  },
  {
   "cell_type": "code",
   "execution_count": 78,
   "metadata": {},
   "outputs": [
    {
     "data": {
      "text/plain": [
       "{'n_estimators': 137,\n",
       " 'learning_rate': 0.04194722718576069,\n",
       " 'max_depth': 8,\n",
       " 'subsample': 0.9082784000539145,\n",
       " 'colsample_bytree': 0.5872094247867703,\n",
       " 'min_child_weight': 8,\n",
       " 'gamma': 0.27709922269615656,\n",
       " 'scale_pos_weight': 2.091685625742769,\n",
       " 'alpha': 0.054288217779455666,\n",
       " 'lambda': 0.005369116300205121}"
      ]
     },
     "execution_count": 78,
     "metadata": {},
     "output_type": "execute_result"
    }
   ],
   "source": [
    "best_params = study.best_params\n",
    "best_params"
   ]
  },
  {
   "cell_type": "code",
   "execution_count": 79,
   "metadata": {},
   "outputs": [
    {
     "data": {
      "application/vnd.plotly.v1+json": {
       "config": {
        "plotlyServerURL": "https://plot.ly"
       },
       "data": [
        {
         "cliponaxis": false,
         "hovertemplate": [
          "alpha (FloatDistribution): 0.00017390393178666968<extra></extra>",
          "max_depth (IntDistribution): 0.0046315739182274645<extra></extra>",
          "gamma (FloatDistribution): 0.015273116698744088<extra></extra>",
          "subsample (FloatDistribution): 0.01978561119329813<extra></extra>",
          "n_estimators (IntDistribution): 0.022711638736859763<extra></extra>",
          "scale_pos_weight (FloatDistribution): 0.0278122258131879<extra></extra>",
          "colsample_bytree (FloatDistribution): 0.029612290152279053<extra></extra>",
          "lambda (FloatDistribution): 0.04472373111065116<extra></extra>",
          "min_child_weight (IntDistribution): 0.11281202406075187<extra></extra>",
          "learning_rate (FloatDistribution): 0.7224638843842139<extra></extra>"
         ],
         "name": "Objective Value",
         "orientation": "h",
         "text": [
          "<0.01",
          "<0.01",
          "0.02",
          "0.02",
          "0.02",
          "0.03",
          "0.03",
          "0.04",
          "0.11",
          "0.72"
         ],
         "textposition": "outside",
         "type": "bar",
         "x": [
          0.00017390393178666968,
          0.0046315739182274645,
          0.015273116698744088,
          0.01978561119329813,
          0.022711638736859763,
          0.0278122258131879,
          0.029612290152279053,
          0.04472373111065116,
          0.11281202406075187,
          0.7224638843842139
         ],
         "y": [
          "alpha",
          "max_depth",
          "gamma",
          "subsample",
          "n_estimators",
          "scale_pos_weight",
          "colsample_bytree",
          "lambda",
          "min_child_weight",
          "learning_rate"
         ]
        }
       ],
       "layout": {
        "template": {
         "data": {
          "bar": [
           {
            "error_x": {
             "color": "#2a3f5f"
            },
            "error_y": {
             "color": "#2a3f5f"
            },
            "marker": {
             "line": {
              "color": "#E5ECF6",
              "width": 0.5
             },
             "pattern": {
              "fillmode": "overlay",
              "size": 10,
              "solidity": 0.2
             }
            },
            "type": "bar"
           }
          ],
          "barpolar": [
           {
            "marker": {
             "line": {
              "color": "#E5ECF6",
              "width": 0.5
             },
             "pattern": {
              "fillmode": "overlay",
              "size": 10,
              "solidity": 0.2
             }
            },
            "type": "barpolar"
           }
          ],
          "carpet": [
           {
            "aaxis": {
             "endlinecolor": "#2a3f5f",
             "gridcolor": "white",
             "linecolor": "white",
             "minorgridcolor": "white",
             "startlinecolor": "#2a3f5f"
            },
            "baxis": {
             "endlinecolor": "#2a3f5f",
             "gridcolor": "white",
             "linecolor": "white",
             "minorgridcolor": "white",
             "startlinecolor": "#2a3f5f"
            },
            "type": "carpet"
           }
          ],
          "choropleth": [
           {
            "colorbar": {
             "outlinewidth": 0,
             "ticks": ""
            },
            "type": "choropleth"
           }
          ],
          "contour": [
           {
            "colorbar": {
             "outlinewidth": 0,
             "ticks": ""
            },
            "colorscale": [
             [
              0,
              "#0d0887"
             ],
             [
              0.1111111111111111,
              "#46039f"
             ],
             [
              0.2222222222222222,
              "#7201a8"
             ],
             [
              0.3333333333333333,
              "#9c179e"
             ],
             [
              0.4444444444444444,
              "#bd3786"
             ],
             [
              0.5555555555555556,
              "#d8576b"
             ],
             [
              0.6666666666666666,
              "#ed7953"
             ],
             [
              0.7777777777777778,
              "#fb9f3a"
             ],
             [
              0.8888888888888888,
              "#fdca26"
             ],
             [
              1,
              "#f0f921"
             ]
            ],
            "type": "contour"
           }
          ],
          "contourcarpet": [
           {
            "colorbar": {
             "outlinewidth": 0,
             "ticks": ""
            },
            "type": "contourcarpet"
           }
          ],
          "heatmap": [
           {
            "colorbar": {
             "outlinewidth": 0,
             "ticks": ""
            },
            "colorscale": [
             [
              0,
              "#0d0887"
             ],
             [
              0.1111111111111111,
              "#46039f"
             ],
             [
              0.2222222222222222,
              "#7201a8"
             ],
             [
              0.3333333333333333,
              "#9c179e"
             ],
             [
              0.4444444444444444,
              "#bd3786"
             ],
             [
              0.5555555555555556,
              "#d8576b"
             ],
             [
              0.6666666666666666,
              "#ed7953"
             ],
             [
              0.7777777777777778,
              "#fb9f3a"
             ],
             [
              0.8888888888888888,
              "#fdca26"
             ],
             [
              1,
              "#f0f921"
             ]
            ],
            "type": "heatmap"
           }
          ],
          "heatmapgl": [
           {
            "colorbar": {
             "outlinewidth": 0,
             "ticks": ""
            },
            "colorscale": [
             [
              0,
              "#0d0887"
             ],
             [
              0.1111111111111111,
              "#46039f"
             ],
             [
              0.2222222222222222,
              "#7201a8"
             ],
             [
              0.3333333333333333,
              "#9c179e"
             ],
             [
              0.4444444444444444,
              "#bd3786"
             ],
             [
              0.5555555555555556,
              "#d8576b"
             ],
             [
              0.6666666666666666,
              "#ed7953"
             ],
             [
              0.7777777777777778,
              "#fb9f3a"
             ],
             [
              0.8888888888888888,
              "#fdca26"
             ],
             [
              1,
              "#f0f921"
             ]
            ],
            "type": "heatmapgl"
           }
          ],
          "histogram": [
           {
            "marker": {
             "pattern": {
              "fillmode": "overlay",
              "size": 10,
              "solidity": 0.2
             }
            },
            "type": "histogram"
           }
          ],
          "histogram2d": [
           {
            "colorbar": {
             "outlinewidth": 0,
             "ticks": ""
            },
            "colorscale": [
             [
              0,
              "#0d0887"
             ],
             [
              0.1111111111111111,
              "#46039f"
             ],
             [
              0.2222222222222222,
              "#7201a8"
             ],
             [
              0.3333333333333333,
              "#9c179e"
             ],
             [
              0.4444444444444444,
              "#bd3786"
             ],
             [
              0.5555555555555556,
              "#d8576b"
             ],
             [
              0.6666666666666666,
              "#ed7953"
             ],
             [
              0.7777777777777778,
              "#fb9f3a"
             ],
             [
              0.8888888888888888,
              "#fdca26"
             ],
             [
              1,
              "#f0f921"
             ]
            ],
            "type": "histogram2d"
           }
          ],
          "histogram2dcontour": [
           {
            "colorbar": {
             "outlinewidth": 0,
             "ticks": ""
            },
            "colorscale": [
             [
              0,
              "#0d0887"
             ],
             [
              0.1111111111111111,
              "#46039f"
             ],
             [
              0.2222222222222222,
              "#7201a8"
             ],
             [
              0.3333333333333333,
              "#9c179e"
             ],
             [
              0.4444444444444444,
              "#bd3786"
             ],
             [
              0.5555555555555556,
              "#d8576b"
             ],
             [
              0.6666666666666666,
              "#ed7953"
             ],
             [
              0.7777777777777778,
              "#fb9f3a"
             ],
             [
              0.8888888888888888,
              "#fdca26"
             ],
             [
              1,
              "#f0f921"
             ]
            ],
            "type": "histogram2dcontour"
           }
          ],
          "mesh3d": [
           {
            "colorbar": {
             "outlinewidth": 0,
             "ticks": ""
            },
            "type": "mesh3d"
           }
          ],
          "parcoords": [
           {
            "line": {
             "colorbar": {
              "outlinewidth": 0,
              "ticks": ""
             }
            },
            "type": "parcoords"
           }
          ],
          "pie": [
           {
            "automargin": true,
            "type": "pie"
           }
          ],
          "scatter": [
           {
            "fillpattern": {
             "fillmode": "overlay",
             "size": 10,
             "solidity": 0.2
            },
            "type": "scatter"
           }
          ],
          "scatter3d": [
           {
            "line": {
             "colorbar": {
              "outlinewidth": 0,
              "ticks": ""
             }
            },
            "marker": {
             "colorbar": {
              "outlinewidth": 0,
              "ticks": ""
             }
            },
            "type": "scatter3d"
           }
          ],
          "scattercarpet": [
           {
            "marker": {
             "colorbar": {
              "outlinewidth": 0,
              "ticks": ""
             }
            },
            "type": "scattercarpet"
           }
          ],
          "scattergeo": [
           {
            "marker": {
             "colorbar": {
              "outlinewidth": 0,
              "ticks": ""
             }
            },
            "type": "scattergeo"
           }
          ],
          "scattergl": [
           {
            "marker": {
             "colorbar": {
              "outlinewidth": 0,
              "ticks": ""
             }
            },
            "type": "scattergl"
           }
          ],
          "scattermapbox": [
           {
            "marker": {
             "colorbar": {
              "outlinewidth": 0,
              "ticks": ""
             }
            },
            "type": "scattermapbox"
           }
          ],
          "scatterpolar": [
           {
            "marker": {
             "colorbar": {
              "outlinewidth": 0,
              "ticks": ""
             }
            },
            "type": "scatterpolar"
           }
          ],
          "scatterpolargl": [
           {
            "marker": {
             "colorbar": {
              "outlinewidth": 0,
              "ticks": ""
             }
            },
            "type": "scatterpolargl"
           }
          ],
          "scatterternary": [
           {
            "marker": {
             "colorbar": {
              "outlinewidth": 0,
              "ticks": ""
             }
            },
            "type": "scatterternary"
           }
          ],
          "surface": [
           {
            "colorbar": {
             "outlinewidth": 0,
             "ticks": ""
            },
            "colorscale": [
             [
              0,
              "#0d0887"
             ],
             [
              0.1111111111111111,
              "#46039f"
             ],
             [
              0.2222222222222222,
              "#7201a8"
             ],
             [
              0.3333333333333333,
              "#9c179e"
             ],
             [
              0.4444444444444444,
              "#bd3786"
             ],
             [
              0.5555555555555556,
              "#d8576b"
             ],
             [
              0.6666666666666666,
              "#ed7953"
             ],
             [
              0.7777777777777778,
              "#fb9f3a"
             ],
             [
              0.8888888888888888,
              "#fdca26"
             ],
             [
              1,
              "#f0f921"
             ]
            ],
            "type": "surface"
           }
          ],
          "table": [
           {
            "cells": {
             "fill": {
              "color": "#EBF0F8"
             },
             "line": {
              "color": "white"
             }
            },
            "header": {
             "fill": {
              "color": "#C8D4E3"
             },
             "line": {
              "color": "white"
             }
            },
            "type": "table"
           }
          ]
         },
         "layout": {
          "annotationdefaults": {
           "arrowcolor": "#2a3f5f",
           "arrowhead": 0,
           "arrowwidth": 1
          },
          "autotypenumbers": "strict",
          "coloraxis": {
           "colorbar": {
            "outlinewidth": 0,
            "ticks": ""
           }
          },
          "colorscale": {
           "diverging": [
            [
             0,
             "#8e0152"
            ],
            [
             0.1,
             "#c51b7d"
            ],
            [
             0.2,
             "#de77ae"
            ],
            [
             0.3,
             "#f1b6da"
            ],
            [
             0.4,
             "#fde0ef"
            ],
            [
             0.5,
             "#f7f7f7"
            ],
            [
             0.6,
             "#e6f5d0"
            ],
            [
             0.7,
             "#b8e186"
            ],
            [
             0.8,
             "#7fbc41"
            ],
            [
             0.9,
             "#4d9221"
            ],
            [
             1,
             "#276419"
            ]
           ],
           "sequential": [
            [
             0,
             "#0d0887"
            ],
            [
             0.1111111111111111,
             "#46039f"
            ],
            [
             0.2222222222222222,
             "#7201a8"
            ],
            [
             0.3333333333333333,
             "#9c179e"
            ],
            [
             0.4444444444444444,
             "#bd3786"
            ],
            [
             0.5555555555555556,
             "#d8576b"
            ],
            [
             0.6666666666666666,
             "#ed7953"
            ],
            [
             0.7777777777777778,
             "#fb9f3a"
            ],
            [
             0.8888888888888888,
             "#fdca26"
            ],
            [
             1,
             "#f0f921"
            ]
           ],
           "sequentialminus": [
            [
             0,
             "#0d0887"
            ],
            [
             0.1111111111111111,
             "#46039f"
            ],
            [
             0.2222222222222222,
             "#7201a8"
            ],
            [
             0.3333333333333333,
             "#9c179e"
            ],
            [
             0.4444444444444444,
             "#bd3786"
            ],
            [
             0.5555555555555556,
             "#d8576b"
            ],
            [
             0.6666666666666666,
             "#ed7953"
            ],
            [
             0.7777777777777778,
             "#fb9f3a"
            ],
            [
             0.8888888888888888,
             "#fdca26"
            ],
            [
             1,
             "#f0f921"
            ]
           ]
          },
          "colorway": [
           "#636efa",
           "#EF553B",
           "#00cc96",
           "#ab63fa",
           "#FFA15A",
           "#19d3f3",
           "#FF6692",
           "#B6E880",
           "#FF97FF",
           "#FECB52"
          ],
          "font": {
           "color": "#2a3f5f"
          },
          "geo": {
           "bgcolor": "white",
           "lakecolor": "white",
           "landcolor": "#E5ECF6",
           "showlakes": true,
           "showland": true,
           "subunitcolor": "white"
          },
          "hoverlabel": {
           "align": "left"
          },
          "hovermode": "closest",
          "mapbox": {
           "style": "light"
          },
          "paper_bgcolor": "white",
          "plot_bgcolor": "#E5ECF6",
          "polar": {
           "angularaxis": {
            "gridcolor": "white",
            "linecolor": "white",
            "ticks": ""
           },
           "bgcolor": "#E5ECF6",
           "radialaxis": {
            "gridcolor": "white",
            "linecolor": "white",
            "ticks": ""
           }
          },
          "scene": {
           "xaxis": {
            "backgroundcolor": "#E5ECF6",
            "gridcolor": "white",
            "gridwidth": 2,
            "linecolor": "white",
            "showbackground": true,
            "ticks": "",
            "zerolinecolor": "white"
           },
           "yaxis": {
            "backgroundcolor": "#E5ECF6",
            "gridcolor": "white",
            "gridwidth": 2,
            "linecolor": "white",
            "showbackground": true,
            "ticks": "",
            "zerolinecolor": "white"
           },
           "zaxis": {
            "backgroundcolor": "#E5ECF6",
            "gridcolor": "white",
            "gridwidth": 2,
            "linecolor": "white",
            "showbackground": true,
            "ticks": "",
            "zerolinecolor": "white"
           }
          },
          "shapedefaults": {
           "line": {
            "color": "#2a3f5f"
           }
          },
          "ternary": {
           "aaxis": {
            "gridcolor": "white",
            "linecolor": "white",
            "ticks": ""
           },
           "baxis": {
            "gridcolor": "white",
            "linecolor": "white",
            "ticks": ""
           },
           "bgcolor": "#E5ECF6",
           "caxis": {
            "gridcolor": "white",
            "linecolor": "white",
            "ticks": ""
           }
          },
          "title": {
           "x": 0.05
          },
          "xaxis": {
           "automargin": true,
           "gridcolor": "white",
           "linecolor": "white",
           "ticks": "",
           "title": {
            "standoff": 15
           },
           "zerolinecolor": "white",
           "zerolinewidth": 2
          },
          "yaxis": {
           "automargin": true,
           "gridcolor": "white",
           "linecolor": "white",
           "ticks": "",
           "title": {
            "standoff": 15
           },
           "zerolinecolor": "white",
           "zerolinewidth": 2
          }
         }
        },
        "title": {
         "text": "Hyperparameter Importances"
        },
        "xaxis": {
         "title": {
          "text": "Hyperparameter Importance"
         }
        },
        "yaxis": {
         "title": {
          "text": "Hyperparameter"
         }
        }
       }
      }
     },
     "metadata": {},
     "output_type": "display_data"
    }
   ],
   "source": [
    "optuna.visualization.plot_param_importances(study)"
   ]
  },
  {
   "cell_type": "code",
   "execution_count": 80,
   "metadata": {},
   "outputs": [
    {
     "data": {
      "application/vnd.plotly.v1+json": {
       "config": {
        "plotlyServerURL": "https://plot.ly"
       },
       "data": [
        {
         "marker": {
          "color": [
           0,
           1,
           2,
           3,
           4,
           5,
           6,
           7,
           8,
           9,
           10,
           11,
           12,
           13,
           14,
           15,
           16,
           17,
           18,
           19,
           20,
           21,
           22,
           23,
           24,
           25,
           26,
           27,
           28,
           29,
           30,
           31,
           32,
           33,
           34,
           35,
           36,
           37,
           38,
           39,
           40,
           41,
           42,
           43,
           44,
           45,
           46,
           47,
           48,
           49
          ],
          "colorbar": {
           "title": {
            "text": "Trial"
           },
           "x": 1,
           "xpad": 40
          },
          "colorscale": [
           [
            0,
            "rgb(247,251,255)"
           ],
           [
            0.125,
            "rgb(222,235,247)"
           ],
           [
            0.25,
            "rgb(198,219,239)"
           ],
           [
            0.375,
            "rgb(158,202,225)"
           ],
           [
            0.5,
            "rgb(107,174,214)"
           ],
           [
            0.625,
            "rgb(66,146,198)"
           ],
           [
            0.75,
            "rgb(33,113,181)"
           ],
           [
            0.875,
            "rgb(8,81,156)"
           ],
           [
            1,
            "rgb(8,48,107)"
           ]
          ],
          "line": {
           "color": "Grey",
           "width": 0.5
          },
          "showscale": true
         },
         "mode": "markers",
         "name": "Feasible Trial",
         "showlegend": false,
         "type": "scatter",
         "x": [
          0.11210841050223358,
          8.758440739995555,
          0.006208445176054598,
          0.13240624218298938,
          0.026945463154254085,
          0.01841703321608823,
          0.06849892984208232,
          0.003156756044761254,
          3.67025004593895,
          0.02390428360339973,
          8.028689781964593,
          1.3706558744916002,
          1.0096663450623462,
          0.911647616037075,
          1.0758442481595067,
          1.8892983567737993,
          0.3271171609351011,
          2.9602935989956056,
          0.4080932211805024,
          3.442851512574721,
          3.851272925330507,
          3.0132462030126583,
          3.4706010038661983,
          0.40256726470747145,
          9.89425995101377,
          3.0736045843751176,
          0.6249445302090676,
          2.1905201857040275,
          5.322729133097238,
          0.21296061177688444,
          0.11794368313132744,
          0.0011078193871679718,
          0.0018338331324924432,
          0.009724679778123309,
          0.0013123314504742943,
          0.0012658569494880564,
          0.004231850532128969,
          0.06225710442467011,
          0.0010812637836438805,
          0.009648365299154527,
          0.002174318401091844,
          0.03759494915031819,
          0.11082365250268966,
          0.012157594915338821,
          0.003545769110233218,
          0.006136036623036304,
          0.001765364471492558,
          0.2000901924519903,
          0.054288217779455666,
          0.03499025829622715
         ],
         "xaxis": "x",
         "y": [
          0.7566517549207926,
          0.7585730475230152,
          0.7259484162059261,
          0.731126980585574,
          0.7387240707837479,
          0.7651067676281977,
          0.7595860843766322,
          0.7565708983714416,
          0.7683547712703679,
          0.7318119126593072,
          0.755805398101627,
          0.766766236166492,
          0.767438348483229,
          0.7672119334949834,
          0.7690548153720733,
          0.7657916425660534,
          0.7197502084971115,
          0.7710824558951246,
          0.7654802717302653,
          0.7698933036064484,
          0.7564237598155783,
          0.7704409730509981,
          0.7670785185163815,
          0.7652079560727086,
          0.7636672686117539,
          0.7671012889822029,
          0.7572607910559923,
          0.7633988294632732,
          0.7678747621181606,
          0.7642203180107502,
          0.7712426319478244,
          0.7712028523382282,
          0.768972596964701,
          0.763373539695104,
          0.7708213433935178,
          0.7672328968340938,
          0.7643089912683353,
          0.7494616014919597,
          0.7688024772534158,
          0.7673087782140839,
          0.7476699904746122,
          0.7692865351500193,
          0.7669228989084962,
          0.7676699174058463,
          0.7647579063593363,
          0.7547826338358714,
          0.7704051275126962,
          0.7695184886586991,
          0.7739282641195819,
          0.7737142382949854
         ],
         "yaxis": "y"
        },
        {
         "marker": {
          "color": [
           0,
           1,
           2,
           3,
           4,
           5,
           6,
           7,
           8,
           9,
           10,
           11,
           12,
           13,
           14,
           15,
           16,
           17,
           18,
           19,
           20,
           21,
           22,
           23,
           24,
           25,
           26,
           27,
           28,
           29,
           30,
           31,
           32,
           33,
           34,
           35,
           36,
           37,
           38,
           39,
           40,
           41,
           42,
           43,
           44,
           45,
           46,
           47,
           48,
           49
          ],
          "colorbar": {
           "title": {
            "text": "Trial"
           },
           "x": 1,
           "xpad": 40
          },
          "colorscale": [
           [
            0,
            "rgb(247,251,255)"
           ],
           [
            0.125,
            "rgb(222,235,247)"
           ],
           [
            0.25,
            "rgb(198,219,239)"
           ],
           [
            0.375,
            "rgb(158,202,225)"
           ],
           [
            0.5,
            "rgb(107,174,214)"
           ],
           [
            0.625,
            "rgb(66,146,198)"
           ],
           [
            0.75,
            "rgb(33,113,181)"
           ],
           [
            0.875,
            "rgb(8,81,156)"
           ],
           [
            1,
            "rgb(8,48,107)"
           ]
          ],
          "line": {
           "color": "Grey",
           "width": 0.5
          },
          "showscale": false
         },
         "mode": "markers",
         "name": "Feasible Trial",
         "showlegend": false,
         "type": "scatter",
         "x": [
          0.9179655592440141,
          0.6384573748349162,
          0.73651689731581,
          0.6901498642195488,
          0.5923643689137248,
          0.8391733788053908,
          0.8718399117974234,
          0.9615778524861439,
          0.6330355718922563,
          0.9622687558168156,
          0.5154374297263913,
          0.8080876012287957,
          0.7747120231256852,
          0.426033912000997,
          0.756080429748682,
          0.5690623797284647,
          0.6836308338464377,
          0.4545667971704057,
          0.41195667559675553,
          0.48228278533092167,
          0.4881418756972387,
          0.48822486148320365,
          0.48784876517165265,
          0.5371028847418653,
          0.43896215265026606,
          0.47661293825448303,
          0.5585042674517441,
          0.4499173320586271,
          0.6092125404297174,
          0.4059317911145489,
          0.5148592303796732,
          0.5200683256989034,
          0.526523792732642,
          0.46032745983959855,
          0.5105133690137246,
          0.5870053710283382,
          0.6479846749245937,
          0.5288203658478342,
          0.5569215661524105,
          0.6608884898860419,
          0.5116370516033917,
          0.5085314079635912,
          0.46310465289496816,
          0.6096005805718863,
          0.7202270287496314,
          0.43513493634139205,
          0.49709226946346735,
          0.5546180837196577,
          0.5872094247867703,
          0.5847361626052326
         ],
         "xaxis": "x2",
         "y": [
          0.7566517549207926,
          0.7585730475230152,
          0.7259484162059261,
          0.731126980585574,
          0.7387240707837479,
          0.7651067676281977,
          0.7595860843766322,
          0.7565708983714416,
          0.7683547712703679,
          0.7318119126593072,
          0.755805398101627,
          0.766766236166492,
          0.767438348483229,
          0.7672119334949834,
          0.7690548153720733,
          0.7657916425660534,
          0.7197502084971115,
          0.7710824558951246,
          0.7654802717302653,
          0.7698933036064484,
          0.7564237598155783,
          0.7704409730509981,
          0.7670785185163815,
          0.7652079560727086,
          0.7636672686117539,
          0.7671012889822029,
          0.7572607910559923,
          0.7633988294632732,
          0.7678747621181606,
          0.7642203180107502,
          0.7712426319478244,
          0.7712028523382282,
          0.768972596964701,
          0.763373539695104,
          0.7708213433935178,
          0.7672328968340938,
          0.7643089912683353,
          0.7494616014919597,
          0.7688024772534158,
          0.7673087782140839,
          0.7476699904746122,
          0.7692865351500193,
          0.7669228989084962,
          0.7676699174058463,
          0.7647579063593363,
          0.7547826338358714,
          0.7704051275126962,
          0.7695184886586991,
          0.7739282641195819,
          0.7737142382949854
         ],
         "yaxis": "y2"
        },
        {
         "marker": {
          "color": [
           0,
           1,
           2,
           3,
           4,
           5,
           6,
           7,
           8,
           9,
           10,
           11,
           12,
           13,
           14,
           15,
           16,
           17,
           18,
           19,
           20,
           21,
           22,
           23,
           24,
           25,
           26,
           27,
           28,
           29,
           30,
           31,
           32,
           33,
           34,
           35,
           36,
           37,
           38,
           39,
           40,
           41,
           42,
           43,
           44,
           45,
           46,
           47,
           48,
           49
          ],
          "colorbar": {
           "title": {
            "text": "Trial"
           },
           "x": 1,
           "xpad": 40
          },
          "colorscale": [
           [
            0,
            "rgb(247,251,255)"
           ],
           [
            0.125,
            "rgb(222,235,247)"
           ],
           [
            0.25,
            "rgb(198,219,239)"
           ],
           [
            0.375,
            "rgb(158,202,225)"
           ],
           [
            0.5,
            "rgb(107,174,214)"
           ],
           [
            0.625,
            "rgb(66,146,198)"
           ],
           [
            0.75,
            "rgb(33,113,181)"
           ],
           [
            0.875,
            "rgb(8,81,156)"
           ],
           [
            1,
            "rgb(8,48,107)"
           ]
          ],
          "line": {
           "color": "Grey",
           "width": 0.5
          },
          "showscale": false
         },
         "mode": "markers",
         "name": "Feasible Trial",
         "showlegend": false,
         "type": "scatter",
         "x": [
          0.4088557511994385,
          0.21645520461403966,
          0.11896040461888291,
          0.7909923437572068,
          0.5507908858723696,
          0.06080579810015707,
          0.9488512624073051,
          0.14936443706086155,
          0.5791376722728071,
          0.5788572113190996,
          0.7352807252656528,
          0.3807352403199281,
          0.3631637987737911,
          0.30687226508334264,
          0.6502783744714566,
          0.7044217194647545,
          0.899463259930993,
          0.5670075994550285,
          0.8272723716291966,
          0.6754661666244013,
          0.479780325130711,
          0.679261245245533,
          0.663524729742904,
          0.4662570576018222,
          0.8257930768155255,
          0.6276861703857227,
          0.5319638517977716,
          0.7370935447982909,
          0.8885205897345946,
          0.43899052935543525,
          0.9926317598896218,
          0.9608516496856225,
          0.9912422952645485,
          0.9958097846503652,
          0.8839112119703367,
          0.9023698105251947,
          0.8088664052860506,
          0.9346761317435633,
          0.8723272085209891,
          0.7620011559057059,
          0.9489370359639431,
          0.8473445639581411,
          0.9455570466102475,
          0.589065915663323,
          0.7725595992765282,
          0.9981231654535884,
          0.525965867306664,
          0.02358300766827659,
          0.27709922269615656,
          0.185262094370164
         ],
         "xaxis": "x3",
         "y": [
          0.7566517549207926,
          0.7585730475230152,
          0.7259484162059261,
          0.731126980585574,
          0.7387240707837479,
          0.7651067676281977,
          0.7595860843766322,
          0.7565708983714416,
          0.7683547712703679,
          0.7318119126593072,
          0.755805398101627,
          0.766766236166492,
          0.767438348483229,
          0.7672119334949834,
          0.7690548153720733,
          0.7657916425660534,
          0.7197502084971115,
          0.7710824558951246,
          0.7654802717302653,
          0.7698933036064484,
          0.7564237598155783,
          0.7704409730509981,
          0.7670785185163815,
          0.7652079560727086,
          0.7636672686117539,
          0.7671012889822029,
          0.7572607910559923,
          0.7633988294632732,
          0.7678747621181606,
          0.7642203180107502,
          0.7712426319478244,
          0.7712028523382282,
          0.768972596964701,
          0.763373539695104,
          0.7708213433935178,
          0.7672328968340938,
          0.7643089912683353,
          0.7494616014919597,
          0.7688024772534158,
          0.7673087782140839,
          0.7476699904746122,
          0.7692865351500193,
          0.7669228989084962,
          0.7676699174058463,
          0.7647579063593363,
          0.7547826338358714,
          0.7704051275126962,
          0.7695184886586991,
          0.7739282641195819,
          0.7737142382949854
         ],
         "yaxis": "y3"
        },
        {
         "marker": {
          "color": [
           0,
           1,
           2,
           3,
           4,
           5,
           6,
           7,
           8,
           9,
           10,
           11,
           12,
           13,
           14,
           15,
           16,
           17,
           18,
           19,
           20,
           21,
           22,
           23,
           24,
           25,
           26,
           27,
           28,
           29,
           30,
           31,
           32,
           33,
           34,
           35,
           36,
           37,
           38,
           39,
           40,
           41,
           42,
           43,
           44,
           45,
           46,
           47,
           48,
           49
          ],
          "colorbar": {
           "title": {
            "text": "Trial"
           },
           "x": 1,
           "xpad": 40
          },
          "colorscale": [
           [
            0,
            "rgb(247,251,255)"
           ],
           [
            0.125,
            "rgb(222,235,247)"
           ],
           [
            0.25,
            "rgb(198,219,239)"
           ],
           [
            0.375,
            "rgb(158,202,225)"
           ],
           [
            0.5,
            "rgb(107,174,214)"
           ],
           [
            0.625,
            "rgb(66,146,198)"
           ],
           [
            0.75,
            "rgb(33,113,181)"
           ],
           [
            0.875,
            "rgb(8,81,156)"
           ],
           [
            1,
            "rgb(8,48,107)"
           ]
          ],
          "line": {
           "color": "Grey",
           "width": 0.5
          },
          "showscale": false
         },
         "mode": "markers",
         "name": "Feasible Trial",
         "showlegend": false,
         "type": "scatter",
         "x": [
          0.026463837867752076,
          0.04551902415650863,
          0.014291075836750216,
          5.452278904488716,
          0.05451952732698093,
          0.08377951300112718,
          0.048008283945325206,
          0.012552190594084337,
          0.0646403919921994,
          0.19318565486721587,
          0.6607593401522762,
          0.0016398494187025983,
          0.0012913779973418636,
          0.001178095799945931,
          0.0038728967410118225,
          0.005558343696556363,
          0.46000607195791704,
          0.005081654782856356,
          0.004264330109209127,
          0.0039844436929543795,
          0.012197717795804332,
          0.0040637184899734256,
          0.0033155887560730275,
          0.007866190125476319,
          0.002242042617523553,
          0.022458801162582222,
          4.265971214643128,
          0.00711159325715211,
          0.1952414449928509,
          0.002355880533021053,
          0.021929899018483762,
          0.02392344153262259,
          0.024225498544457467,
          0.028333848341644825,
          0.012751660116870898,
          0.01683735514212158,
          0.029871009253839825,
          0.009112625014252654,
          0.04155770730459844,
          0.1395653353882814,
          0.09215607139335623,
          0.014511815363460842,
          0.008114174153048458,
          0.04024039422416336,
          0.011391004335128711,
          0.018148664739809132,
          0.002521036015103177,
          0.0062579063463666,
          0.005369116300205121,
          0.07122103500274296
         ],
         "xaxis": "x4",
         "y": [
          0.7566517549207926,
          0.7585730475230152,
          0.7259484162059261,
          0.731126980585574,
          0.7387240707837479,
          0.7651067676281977,
          0.7595860843766322,
          0.7565708983714416,
          0.7683547712703679,
          0.7318119126593072,
          0.755805398101627,
          0.766766236166492,
          0.767438348483229,
          0.7672119334949834,
          0.7690548153720733,
          0.7657916425660534,
          0.7197502084971115,
          0.7710824558951246,
          0.7654802717302653,
          0.7698933036064484,
          0.7564237598155783,
          0.7704409730509981,
          0.7670785185163815,
          0.7652079560727086,
          0.7636672686117539,
          0.7671012889822029,
          0.7572607910559923,
          0.7633988294632732,
          0.7678747621181606,
          0.7642203180107502,
          0.7712426319478244,
          0.7712028523382282,
          0.768972596964701,
          0.763373539695104,
          0.7708213433935178,
          0.7672328968340938,
          0.7643089912683353,
          0.7494616014919597,
          0.7688024772534158,
          0.7673087782140839,
          0.7476699904746122,
          0.7692865351500193,
          0.7669228989084962,
          0.7676699174058463,
          0.7647579063593363,
          0.7547826338358714,
          0.7704051275126962,
          0.7695184886586991,
          0.7739282641195819,
          0.7737142382949854
         ],
         "yaxis": "y4"
        },
        {
         "marker": {
          "color": [
           0,
           1,
           2,
           3,
           4,
           5,
           6,
           7,
           8,
           9,
           10,
           11,
           12,
           13,
           14,
           15,
           16,
           17,
           18,
           19,
           20,
           21,
           22,
           23,
           24,
           25,
           26,
           27,
           28,
           29,
           30,
           31,
           32,
           33,
           34,
           35,
           36,
           37,
           38,
           39,
           40,
           41,
           42,
           43,
           44,
           45,
           46,
           47,
           48,
           49
          ],
          "colorbar": {
           "title": {
            "text": "Trial"
           },
           "x": 1,
           "xpad": 40
          },
          "colorscale": [
           [
            0,
            "rgb(247,251,255)"
           ],
           [
            0.125,
            "rgb(222,235,247)"
           ],
           [
            0.25,
            "rgb(198,219,239)"
           ],
           [
            0.375,
            "rgb(158,202,225)"
           ],
           [
            0.5,
            "rgb(107,174,214)"
           ],
           [
            0.625,
            "rgb(66,146,198)"
           ],
           [
            0.75,
            "rgb(33,113,181)"
           ],
           [
            0.875,
            "rgb(8,81,156)"
           ],
           [
            1,
            "rgb(8,48,107)"
           ]
          ],
          "line": {
           "color": "Grey",
           "width": 0.5
          },
          "showscale": false
         },
         "mode": "markers",
         "name": "Feasible Trial",
         "showlegend": false,
         "type": "scatter",
         "x": [
          0.009239569689724048,
          0.019787657214219382,
          0.005393189642414825,
          0.2805611797707196,
          0.007579447219296004,
          0.050411502771380866,
          0.1100652470573552,
          0.00935960984886585,
          0.12538865121972906,
          0.308840256061682,
          0.0015232597921040066,
          0.06394580861387764,
          0.07933449946818884,
          0.13374407188083026,
          0.0652866683356757,
          0.019624042058569387,
          0.4669812653853666,
          0.041038543639993944,
          0.028173100066484186,
          0.04558039456266345,
          0.0028463601635769407,
          0.043883835981889795,
          0.03269806990486433,
          0.040868178984330754,
          0.014195763589320025,
          0.03552717652028852,
          0.2047371460042957,
          0.015258008403205972,
          0.09569087116875942,
          0.010672755645780177,
          0.051155808279452264,
          0.04946918943751964,
          0.024592576884012785,
          0.17063983148799078,
          0.06816346002905947,
          0.07238187123191239,
          0.021812189704766376,
          0.00440453974422546,
          0.05295809228776055,
          0.09310052669341837,
          0.17237956884624836,
          0.051802827676176055,
          0.03689342863786728,
          0.01809939515774717,
          0.027108561377621562,
          0.1196837515500418,
          0.0564247859666804,
          0.08328774766976128,
          0.04194722718576069,
          0.0674402184924171
         ],
         "xaxis": "x5",
         "y": [
          0.7566517549207926,
          0.7585730475230152,
          0.7259484162059261,
          0.731126980585574,
          0.7387240707837479,
          0.7651067676281977,
          0.7595860843766322,
          0.7565708983714416,
          0.7683547712703679,
          0.7318119126593072,
          0.755805398101627,
          0.766766236166492,
          0.767438348483229,
          0.7672119334949834,
          0.7690548153720733,
          0.7657916425660534,
          0.7197502084971115,
          0.7710824558951246,
          0.7654802717302653,
          0.7698933036064484,
          0.7564237598155783,
          0.7704409730509981,
          0.7670785185163815,
          0.7652079560727086,
          0.7636672686117539,
          0.7671012889822029,
          0.7572607910559923,
          0.7633988294632732,
          0.7678747621181606,
          0.7642203180107502,
          0.7712426319478244,
          0.7712028523382282,
          0.768972596964701,
          0.763373539695104,
          0.7708213433935178,
          0.7672328968340938,
          0.7643089912683353,
          0.7494616014919597,
          0.7688024772534158,
          0.7673087782140839,
          0.7476699904746122,
          0.7692865351500193,
          0.7669228989084962,
          0.7676699174058463,
          0.7647579063593363,
          0.7547826338358714,
          0.7704051275126962,
          0.7695184886586991,
          0.7739282641195819,
          0.7737142382949854
         ],
         "yaxis": "y5"
        },
        {
         "marker": {
          "color": [
           0,
           1,
           2,
           3,
           4,
           5,
           6,
           7,
           8,
           9,
           10,
           11,
           12,
           13,
           14,
           15,
           16,
           17,
           18,
           19,
           20,
           21,
           22,
           23,
           24,
           25,
           26,
           27,
           28,
           29,
           30,
           31,
           32,
           33,
           34,
           35,
           36,
           37,
           38,
           39,
           40,
           41,
           42,
           43,
           44,
           45,
           46,
           47,
           48,
           49
          ],
          "colorbar": {
           "title": {
            "text": "Trial"
           },
           "x": 1,
           "xpad": 40
          },
          "colorscale": [
           [
            0,
            "rgb(247,251,255)"
           ],
           [
            0.125,
            "rgb(222,235,247)"
           ],
           [
            0.25,
            "rgb(198,219,239)"
           ],
           [
            0.375,
            "rgb(158,202,225)"
           ],
           [
            0.5,
            "rgb(107,174,214)"
           ],
           [
            0.625,
            "rgb(66,146,198)"
           ],
           [
            0.75,
            "rgb(33,113,181)"
           ],
           [
            0.875,
            "rgb(8,81,156)"
           ],
           [
            1,
            "rgb(8,48,107)"
           ]
          ],
          "line": {
           "color": "Grey",
           "width": 0.5
          },
          "showscale": false
         },
         "mode": "markers",
         "name": "Feasible Trial",
         "showlegend": false,
         "type": "scatter",
         "x": [
          8,
          8,
          4,
          16,
          4,
          9,
          17,
          9,
          3,
          12,
          20,
          3,
          3,
          6,
          13,
          13,
          14,
          11,
          11,
          15,
          17,
          14,
          15,
          19,
          11,
          15,
          10,
          18,
          13,
          15,
          7,
          8,
          7,
          6,
          7,
          8,
          5,
          8,
          9,
          7,
          10,
          7,
          5,
          10,
          12,
          9,
          6,
          5,
          8,
          8
         ],
         "xaxis": "x6",
         "y": [
          0.7566517549207926,
          0.7585730475230152,
          0.7259484162059261,
          0.731126980585574,
          0.7387240707837479,
          0.7651067676281977,
          0.7595860843766322,
          0.7565708983714416,
          0.7683547712703679,
          0.7318119126593072,
          0.755805398101627,
          0.766766236166492,
          0.767438348483229,
          0.7672119334949834,
          0.7690548153720733,
          0.7657916425660534,
          0.7197502084971115,
          0.7710824558951246,
          0.7654802717302653,
          0.7698933036064484,
          0.7564237598155783,
          0.7704409730509981,
          0.7670785185163815,
          0.7652079560727086,
          0.7636672686117539,
          0.7671012889822029,
          0.7572607910559923,
          0.7633988294632732,
          0.7678747621181606,
          0.7642203180107502,
          0.7712426319478244,
          0.7712028523382282,
          0.768972596964701,
          0.763373539695104,
          0.7708213433935178,
          0.7672328968340938,
          0.7643089912683353,
          0.7494616014919597,
          0.7688024772534158,
          0.7673087782140839,
          0.7476699904746122,
          0.7692865351500193,
          0.7669228989084962,
          0.7676699174058463,
          0.7647579063593363,
          0.7547826338358714,
          0.7704051275126962,
          0.7695184886586991,
          0.7739282641195819,
          0.7737142382949854
         ],
         "yaxis": "y6"
        },
        {
         "marker": {
          "color": [
           0,
           1,
           2,
           3,
           4,
           5,
           6,
           7,
           8,
           9,
           10,
           11,
           12,
           13,
           14,
           15,
           16,
           17,
           18,
           19,
           20,
           21,
           22,
           23,
           24,
           25,
           26,
           27,
           28,
           29,
           30,
           31,
           32,
           33,
           34,
           35,
           36,
           37,
           38,
           39,
           40,
           41,
           42,
           43,
           44,
           45,
           46,
           47,
           48,
           49
          ],
          "colorbar": {
           "title": {
            "text": "Trial"
           },
           "x": 1,
           "xpad": 40
          },
          "colorscale": [
           [
            0,
            "rgb(247,251,255)"
           ],
           [
            0.125,
            "rgb(222,235,247)"
           ],
           [
            0.25,
            "rgb(198,219,239)"
           ],
           [
            0.375,
            "rgb(158,202,225)"
           ],
           [
            0.5,
            "rgb(107,174,214)"
           ],
           [
            0.625,
            "rgb(66,146,198)"
           ],
           [
            0.75,
            "rgb(33,113,181)"
           ],
           [
            0.875,
            "rgb(8,81,156)"
           ],
           [
            1,
            "rgb(8,48,107)"
           ]
          ],
          "line": {
           "color": "Grey",
           "width": 0.5
          },
          "showscale": false
         },
         "mode": "markers",
         "name": "Feasible Trial",
         "showlegend": false,
         "type": "scatter",
         "x": [
          4,
          3,
          8,
          7,
          2,
          7,
          6,
          2,
          9,
          3,
          10,
          9,
          10,
          10,
          9,
          8,
          5,
          8,
          6,
          8,
          7,
          8,
          8,
          5,
          8,
          7,
          9,
          6,
          8,
          4,
          7,
          7,
          7,
          6,
          7,
          5,
          7,
          1,
          7,
          6,
          4,
          8,
          9,
          7,
          8,
          7,
          9,
          6,
          8,
          9
         ],
         "xaxis": "x7",
         "y": [
          0.7566517549207926,
          0.7585730475230152,
          0.7259484162059261,
          0.731126980585574,
          0.7387240707837479,
          0.7651067676281977,
          0.7595860843766322,
          0.7565708983714416,
          0.7683547712703679,
          0.7318119126593072,
          0.755805398101627,
          0.766766236166492,
          0.767438348483229,
          0.7672119334949834,
          0.7690548153720733,
          0.7657916425660534,
          0.7197502084971115,
          0.7710824558951246,
          0.7654802717302653,
          0.7698933036064484,
          0.7564237598155783,
          0.7704409730509981,
          0.7670785185163815,
          0.7652079560727086,
          0.7636672686117539,
          0.7671012889822029,
          0.7572607910559923,
          0.7633988294632732,
          0.7678747621181606,
          0.7642203180107502,
          0.7712426319478244,
          0.7712028523382282,
          0.768972596964701,
          0.763373539695104,
          0.7708213433935178,
          0.7672328968340938,
          0.7643089912683353,
          0.7494616014919597,
          0.7688024772534158,
          0.7673087782140839,
          0.7476699904746122,
          0.7692865351500193,
          0.7669228989084962,
          0.7676699174058463,
          0.7647579063593363,
          0.7547826338358714,
          0.7704051275126962,
          0.7695184886586991,
          0.7739282641195819,
          0.7737142382949854
         ],
         "yaxis": "y7"
        },
        {
         "marker": {
          "color": [
           0,
           1,
           2,
           3,
           4,
           5,
           6,
           7,
           8,
           9,
           10,
           11,
           12,
           13,
           14,
           15,
           16,
           17,
           18,
           19,
           20,
           21,
           22,
           23,
           24,
           25,
           26,
           27,
           28,
           29,
           30,
           31,
           32,
           33,
           34,
           35,
           36,
           37,
           38,
           39,
           40,
           41,
           42,
           43,
           44,
           45,
           46,
           47,
           48,
           49
          ],
          "colorbar": {
           "title": {
            "text": "Trial"
           },
           "x": 1,
           "xpad": 40
          },
          "colorscale": [
           [
            0,
            "rgb(247,251,255)"
           ],
           [
            0.125,
            "rgb(222,235,247)"
           ],
           [
            0.25,
            "rgb(198,219,239)"
           ],
           [
            0.375,
            "rgb(158,202,225)"
           ],
           [
            0.5,
            "rgb(107,174,214)"
           ],
           [
            0.625,
            "rgb(66,146,198)"
           ],
           [
            0.75,
            "rgb(33,113,181)"
           ],
           [
            0.875,
            "rgb(8,81,156)"
           ],
           [
            1,
            "rgb(8,48,107)"
           ]
          ],
          "line": {
           "color": "Grey",
           "width": 0.5
          },
          "showscale": false
         },
         "mode": "markers",
         "name": "Feasible Trial",
         "showlegend": false,
         "type": "scatter",
         "x": [
          142,
          66,
          69,
          50,
          143,
          51,
          90,
          118,
          98,
          89,
          109,
          120,
          122,
          129,
          91,
          98,
          78,
          104,
          108,
          80,
          79,
          87,
          77,
          64,
          107,
          82,
          101,
          60,
          86,
          94,
          134,
          149,
          148,
          137,
          133,
          133,
          150,
          141,
          131,
          127,
          143,
          136,
          113,
          144,
          71,
          124,
          115,
          103,
          137,
          138
         ],
         "xaxis": "x8",
         "y": [
          0.7566517549207926,
          0.7585730475230152,
          0.7259484162059261,
          0.731126980585574,
          0.7387240707837479,
          0.7651067676281977,
          0.7595860843766322,
          0.7565708983714416,
          0.7683547712703679,
          0.7318119126593072,
          0.755805398101627,
          0.766766236166492,
          0.767438348483229,
          0.7672119334949834,
          0.7690548153720733,
          0.7657916425660534,
          0.7197502084971115,
          0.7710824558951246,
          0.7654802717302653,
          0.7698933036064484,
          0.7564237598155783,
          0.7704409730509981,
          0.7670785185163815,
          0.7652079560727086,
          0.7636672686117539,
          0.7671012889822029,
          0.7572607910559923,
          0.7633988294632732,
          0.7678747621181606,
          0.7642203180107502,
          0.7712426319478244,
          0.7712028523382282,
          0.768972596964701,
          0.763373539695104,
          0.7708213433935178,
          0.7672328968340938,
          0.7643089912683353,
          0.7494616014919597,
          0.7688024772534158,
          0.7673087782140839,
          0.7476699904746122,
          0.7692865351500193,
          0.7669228989084962,
          0.7676699174058463,
          0.7647579063593363,
          0.7547826338358714,
          0.7704051275126962,
          0.7695184886586991,
          0.7739282641195819,
          0.7737142382949854
         ],
         "yaxis": "y8"
        },
        {
         "marker": {
          "color": [
           0,
           1,
           2,
           3,
           4,
           5,
           6,
           7,
           8,
           9,
           10,
           11,
           12,
           13,
           14,
           15,
           16,
           17,
           18,
           19,
           20,
           21,
           22,
           23,
           24,
           25,
           26,
           27,
           28,
           29,
           30,
           31,
           32,
           33,
           34,
           35,
           36,
           37,
           38,
           39,
           40,
           41,
           42,
           43,
           44,
           45,
           46,
           47,
           48,
           49
          ],
          "colorbar": {
           "title": {
            "text": "Trial"
           },
           "x": 1,
           "xpad": 40
          },
          "colorscale": [
           [
            0,
            "rgb(247,251,255)"
           ],
           [
            0.125,
            "rgb(222,235,247)"
           ],
           [
            0.25,
            "rgb(198,219,239)"
           ],
           [
            0.375,
            "rgb(158,202,225)"
           ],
           [
            0.5,
            "rgb(107,174,214)"
           ],
           [
            0.625,
            "rgb(66,146,198)"
           ],
           [
            0.75,
            "rgb(33,113,181)"
           ],
           [
            0.875,
            "rgb(8,81,156)"
           ],
           [
            1,
            "rgb(8,48,107)"
           ]
          ],
          "line": {
           "color": "Grey",
           "width": 0.5
          },
          "showscale": false
         },
         "mode": "markers",
         "name": "Feasible Trial",
         "showlegend": false,
         "type": "scatter",
         "x": [
          9.662575660272335,
          6.507316365588113,
          4.0551609444270795,
          8.985884981075099,
          5.703487054953378,
          1.9906000392957104,
          9.05068219148964,
          5.161682927252761,
          2.2577992463875654,
          8.851206560518914,
          1.6857299534171224,
          1.531425489265862,
          2.9261230813037438,
          3.397330169205468,
          3.150395543765218,
          4.210242752904625,
          1.0300190658861457,
          2.6734922848784204,
          7.587951844896214,
          2.9844203055504352,
          4.775005409816492,
          3.061394627712269,
          2.5836552245032047,
          4.191115906608762,
          3.6139463774761893,
          6.446689695944049,
          2.594898400373765,
          1.0723005788841613,
          4.769997588333877,
          3.6793319738445254,
          5.929801829774561,
          6.639503720885678,
          7.23840314967093,
          6.309518433469074,
          7.3389606745050795,
          7.48106477731496,
          5.932925589176184,
          7.05534437430698,
          8.105485244930408,
          6.881744784894553,
          5.698643623677513,
          8.101548020159354,
          5.0081842604812685,
          6.18318230234953,
          5.281296118442826,
          8.297997258453472,
          6.530819898453519,
          6.661533359605811,
          2.091685625742769,
          1.9501535659397953
         ],
         "xaxis": "x9",
         "y": [
          0.7566517549207926,
          0.7585730475230152,
          0.7259484162059261,
          0.731126980585574,
          0.7387240707837479,
          0.7651067676281977,
          0.7595860843766322,
          0.7565708983714416,
          0.7683547712703679,
          0.7318119126593072,
          0.755805398101627,
          0.766766236166492,
          0.767438348483229,
          0.7672119334949834,
          0.7690548153720733,
          0.7657916425660534,
          0.7197502084971115,
          0.7710824558951246,
          0.7654802717302653,
          0.7698933036064484,
          0.7564237598155783,
          0.7704409730509981,
          0.7670785185163815,
          0.7652079560727086,
          0.7636672686117539,
          0.7671012889822029,
          0.7572607910559923,
          0.7633988294632732,
          0.7678747621181606,
          0.7642203180107502,
          0.7712426319478244,
          0.7712028523382282,
          0.768972596964701,
          0.763373539695104,
          0.7708213433935178,
          0.7672328968340938,
          0.7643089912683353,
          0.7494616014919597,
          0.7688024772534158,
          0.7673087782140839,
          0.7476699904746122,
          0.7692865351500193,
          0.7669228989084962,
          0.7676699174058463,
          0.7647579063593363,
          0.7547826338358714,
          0.7704051275126962,
          0.7695184886586991,
          0.7739282641195819,
          0.7737142382949854
         ],
         "yaxis": "y9"
        },
        {
         "marker": {
          "color": [
           0,
           1,
           2,
           3,
           4,
           5,
           6,
           7,
           8,
           9,
           10,
           11,
           12,
           13,
           14,
           15,
           16,
           17,
           18,
           19,
           20,
           21,
           22,
           23,
           24,
           25,
           26,
           27,
           28,
           29,
           30,
           31,
           32,
           33,
           34,
           35,
           36,
           37,
           38,
           39,
           40,
           41,
           42,
           43,
           44,
           45,
           46,
           47,
           48,
           49
          ],
          "colorbar": {
           "title": {
            "text": "Trial"
           },
           "x": 1,
           "xpad": 40
          },
          "colorscale": [
           [
            0,
            "rgb(247,251,255)"
           ],
           [
            0.125,
            "rgb(222,235,247)"
           ],
           [
            0.25,
            "rgb(198,219,239)"
           ],
           [
            0.375,
            "rgb(158,202,225)"
           ],
           [
            0.5,
            "rgb(107,174,214)"
           ],
           [
            0.625,
            "rgb(66,146,198)"
           ],
           [
            0.75,
            "rgb(33,113,181)"
           ],
           [
            0.875,
            "rgb(8,81,156)"
           ],
           [
            1,
            "rgb(8,48,107)"
           ]
          ],
          "line": {
           "color": "Grey",
           "width": 0.5
          },
          "showscale": false
         },
         "mode": "markers",
         "name": "Feasible Trial",
         "showlegend": false,
         "type": "scatter",
         "x": [
          0.8434574057129267,
          0.6986931293450389,
          0.9574913798417282,
          0.5325759820516314,
          0.7864481275981936,
          0.5718484022228454,
          0.7634767617981885,
          0.9224275297277429,
          0.5796257100974378,
          0.7926862835843962,
          0.6460812689418758,
          0.5007942336982693,
          0.5018936752573434,
          0.6210535991621813,
          0.5868868003018393,
          0.6759951559031376,
          0.5844943339592443,
          0.7208662051736604,
          0.7156645891211587,
          0.8616689143458902,
          0.893037656462328,
          0.8709699309685903,
          0.8468851687077363,
          0.9962615041781897,
          0.842406539012523,
          0.9013060812309535,
          0.737664954965702,
          0.807128523279806,
          0.8823333783342637,
          0.8435784715070047,
          0.9448178985535863,
          0.9441674526408406,
          0.9527389130639117,
          0.9584560164179079,
          0.9361352984309592,
          0.9878802321629184,
          0.9430467717302929,
          0.928615103611867,
          0.9681628823672199,
          0.917502517148699,
          0.7583572919020742,
          0.8150774461981842,
          0.8770171659499496,
          0.9763047152860573,
          0.9263969986460204,
          0.6884257401283833,
          0.723900048261574,
          0.7754038809524207,
          0.9082784000539145,
          0.9087408783096411
         ],
         "xaxis": "x10",
         "y": [
          0.7566517549207926,
          0.7585730475230152,
          0.7259484162059261,
          0.731126980585574,
          0.7387240707837479,
          0.7651067676281977,
          0.7595860843766322,
          0.7565708983714416,
          0.7683547712703679,
          0.7318119126593072,
          0.755805398101627,
          0.766766236166492,
          0.767438348483229,
          0.7672119334949834,
          0.7690548153720733,
          0.7657916425660534,
          0.7197502084971115,
          0.7710824558951246,
          0.7654802717302653,
          0.7698933036064484,
          0.7564237598155783,
          0.7704409730509981,
          0.7670785185163815,
          0.7652079560727086,
          0.7636672686117539,
          0.7671012889822029,
          0.7572607910559923,
          0.7633988294632732,
          0.7678747621181606,
          0.7642203180107502,
          0.7712426319478244,
          0.7712028523382282,
          0.768972596964701,
          0.763373539695104,
          0.7708213433935178,
          0.7672328968340938,
          0.7643089912683353,
          0.7494616014919597,
          0.7688024772534158,
          0.7673087782140839,
          0.7476699904746122,
          0.7692865351500193,
          0.7669228989084962,
          0.7676699174058463,
          0.7647579063593363,
          0.7547826338358714,
          0.7704051275126962,
          0.7695184886586991,
          0.7739282641195819,
          0.7737142382949854
         ],
         "yaxis": "y10"
        }
       ],
       "layout": {
        "template": {
         "data": {
          "bar": [
           {
            "error_x": {
             "color": "#2a3f5f"
            },
            "error_y": {
             "color": "#2a3f5f"
            },
            "marker": {
             "line": {
              "color": "#E5ECF6",
              "width": 0.5
             },
             "pattern": {
              "fillmode": "overlay",
              "size": 10,
              "solidity": 0.2
             }
            },
            "type": "bar"
           }
          ],
          "barpolar": [
           {
            "marker": {
             "line": {
              "color": "#E5ECF6",
              "width": 0.5
             },
             "pattern": {
              "fillmode": "overlay",
              "size": 10,
              "solidity": 0.2
             }
            },
            "type": "barpolar"
           }
          ],
          "carpet": [
           {
            "aaxis": {
             "endlinecolor": "#2a3f5f",
             "gridcolor": "white",
             "linecolor": "white",
             "minorgridcolor": "white",
             "startlinecolor": "#2a3f5f"
            },
            "baxis": {
             "endlinecolor": "#2a3f5f",
             "gridcolor": "white",
             "linecolor": "white",
             "minorgridcolor": "white",
             "startlinecolor": "#2a3f5f"
            },
            "type": "carpet"
           }
          ],
          "choropleth": [
           {
            "colorbar": {
             "outlinewidth": 0,
             "ticks": ""
            },
            "type": "choropleth"
           }
          ],
          "contour": [
           {
            "colorbar": {
             "outlinewidth": 0,
             "ticks": ""
            },
            "colorscale": [
             [
              0,
              "#0d0887"
             ],
             [
              0.1111111111111111,
              "#46039f"
             ],
             [
              0.2222222222222222,
              "#7201a8"
             ],
             [
              0.3333333333333333,
              "#9c179e"
             ],
             [
              0.4444444444444444,
              "#bd3786"
             ],
             [
              0.5555555555555556,
              "#d8576b"
             ],
             [
              0.6666666666666666,
              "#ed7953"
             ],
             [
              0.7777777777777778,
              "#fb9f3a"
             ],
             [
              0.8888888888888888,
              "#fdca26"
             ],
             [
              1,
              "#f0f921"
             ]
            ],
            "type": "contour"
           }
          ],
          "contourcarpet": [
           {
            "colorbar": {
             "outlinewidth": 0,
             "ticks": ""
            },
            "type": "contourcarpet"
           }
          ],
          "heatmap": [
           {
            "colorbar": {
             "outlinewidth": 0,
             "ticks": ""
            },
            "colorscale": [
             [
              0,
              "#0d0887"
             ],
             [
              0.1111111111111111,
              "#46039f"
             ],
             [
              0.2222222222222222,
              "#7201a8"
             ],
             [
              0.3333333333333333,
              "#9c179e"
             ],
             [
              0.4444444444444444,
              "#bd3786"
             ],
             [
              0.5555555555555556,
              "#d8576b"
             ],
             [
              0.6666666666666666,
              "#ed7953"
             ],
             [
              0.7777777777777778,
              "#fb9f3a"
             ],
             [
              0.8888888888888888,
              "#fdca26"
             ],
             [
              1,
              "#f0f921"
             ]
            ],
            "type": "heatmap"
           }
          ],
          "heatmapgl": [
           {
            "colorbar": {
             "outlinewidth": 0,
             "ticks": ""
            },
            "colorscale": [
             [
              0,
              "#0d0887"
             ],
             [
              0.1111111111111111,
              "#46039f"
             ],
             [
              0.2222222222222222,
              "#7201a8"
             ],
             [
              0.3333333333333333,
              "#9c179e"
             ],
             [
              0.4444444444444444,
              "#bd3786"
             ],
             [
              0.5555555555555556,
              "#d8576b"
             ],
             [
              0.6666666666666666,
              "#ed7953"
             ],
             [
              0.7777777777777778,
              "#fb9f3a"
             ],
             [
              0.8888888888888888,
              "#fdca26"
             ],
             [
              1,
              "#f0f921"
             ]
            ],
            "type": "heatmapgl"
           }
          ],
          "histogram": [
           {
            "marker": {
             "pattern": {
              "fillmode": "overlay",
              "size": 10,
              "solidity": 0.2
             }
            },
            "type": "histogram"
           }
          ],
          "histogram2d": [
           {
            "colorbar": {
             "outlinewidth": 0,
             "ticks": ""
            },
            "colorscale": [
             [
              0,
              "#0d0887"
             ],
             [
              0.1111111111111111,
              "#46039f"
             ],
             [
              0.2222222222222222,
              "#7201a8"
             ],
             [
              0.3333333333333333,
              "#9c179e"
             ],
             [
              0.4444444444444444,
              "#bd3786"
             ],
             [
              0.5555555555555556,
              "#d8576b"
             ],
             [
              0.6666666666666666,
              "#ed7953"
             ],
             [
              0.7777777777777778,
              "#fb9f3a"
             ],
             [
              0.8888888888888888,
              "#fdca26"
             ],
             [
              1,
              "#f0f921"
             ]
            ],
            "type": "histogram2d"
           }
          ],
          "histogram2dcontour": [
           {
            "colorbar": {
             "outlinewidth": 0,
             "ticks": ""
            },
            "colorscale": [
             [
              0,
              "#0d0887"
             ],
             [
              0.1111111111111111,
              "#46039f"
             ],
             [
              0.2222222222222222,
              "#7201a8"
             ],
             [
              0.3333333333333333,
              "#9c179e"
             ],
             [
              0.4444444444444444,
              "#bd3786"
             ],
             [
              0.5555555555555556,
              "#d8576b"
             ],
             [
              0.6666666666666666,
              "#ed7953"
             ],
             [
              0.7777777777777778,
              "#fb9f3a"
             ],
             [
              0.8888888888888888,
              "#fdca26"
             ],
             [
              1,
              "#f0f921"
             ]
            ],
            "type": "histogram2dcontour"
           }
          ],
          "mesh3d": [
           {
            "colorbar": {
             "outlinewidth": 0,
             "ticks": ""
            },
            "type": "mesh3d"
           }
          ],
          "parcoords": [
           {
            "line": {
             "colorbar": {
              "outlinewidth": 0,
              "ticks": ""
             }
            },
            "type": "parcoords"
           }
          ],
          "pie": [
           {
            "automargin": true,
            "type": "pie"
           }
          ],
          "scatter": [
           {
            "fillpattern": {
             "fillmode": "overlay",
             "size": 10,
             "solidity": 0.2
            },
            "type": "scatter"
           }
          ],
          "scatter3d": [
           {
            "line": {
             "colorbar": {
              "outlinewidth": 0,
              "ticks": ""
             }
            },
            "marker": {
             "colorbar": {
              "outlinewidth": 0,
              "ticks": ""
             }
            },
            "type": "scatter3d"
           }
          ],
          "scattercarpet": [
           {
            "marker": {
             "colorbar": {
              "outlinewidth": 0,
              "ticks": ""
             }
            },
            "type": "scattercarpet"
           }
          ],
          "scattergeo": [
           {
            "marker": {
             "colorbar": {
              "outlinewidth": 0,
              "ticks": ""
             }
            },
            "type": "scattergeo"
           }
          ],
          "scattergl": [
           {
            "marker": {
             "colorbar": {
              "outlinewidth": 0,
              "ticks": ""
             }
            },
            "type": "scattergl"
           }
          ],
          "scattermapbox": [
           {
            "marker": {
             "colorbar": {
              "outlinewidth": 0,
              "ticks": ""
             }
            },
            "type": "scattermapbox"
           }
          ],
          "scatterpolar": [
           {
            "marker": {
             "colorbar": {
              "outlinewidth": 0,
              "ticks": ""
             }
            },
            "type": "scatterpolar"
           }
          ],
          "scatterpolargl": [
           {
            "marker": {
             "colorbar": {
              "outlinewidth": 0,
              "ticks": ""
             }
            },
            "type": "scatterpolargl"
           }
          ],
          "scatterternary": [
           {
            "marker": {
             "colorbar": {
              "outlinewidth": 0,
              "ticks": ""
             }
            },
            "type": "scatterternary"
           }
          ],
          "surface": [
           {
            "colorbar": {
             "outlinewidth": 0,
             "ticks": ""
            },
            "colorscale": [
             [
              0,
              "#0d0887"
             ],
             [
              0.1111111111111111,
              "#46039f"
             ],
             [
              0.2222222222222222,
              "#7201a8"
             ],
             [
              0.3333333333333333,
              "#9c179e"
             ],
             [
              0.4444444444444444,
              "#bd3786"
             ],
             [
              0.5555555555555556,
              "#d8576b"
             ],
             [
              0.6666666666666666,
              "#ed7953"
             ],
             [
              0.7777777777777778,
              "#fb9f3a"
             ],
             [
              0.8888888888888888,
              "#fdca26"
             ],
             [
              1,
              "#f0f921"
             ]
            ],
            "type": "surface"
           }
          ],
          "table": [
           {
            "cells": {
             "fill": {
              "color": "#EBF0F8"
             },
             "line": {
              "color": "white"
             }
            },
            "header": {
             "fill": {
              "color": "#C8D4E3"
             },
             "line": {
              "color": "white"
             }
            },
            "type": "table"
           }
          ]
         },
         "layout": {
          "annotationdefaults": {
           "arrowcolor": "#2a3f5f",
           "arrowhead": 0,
           "arrowwidth": 1
          },
          "autotypenumbers": "strict",
          "coloraxis": {
           "colorbar": {
            "outlinewidth": 0,
            "ticks": ""
           }
          },
          "colorscale": {
           "diverging": [
            [
             0,
             "#8e0152"
            ],
            [
             0.1,
             "#c51b7d"
            ],
            [
             0.2,
             "#de77ae"
            ],
            [
             0.3,
             "#f1b6da"
            ],
            [
             0.4,
             "#fde0ef"
            ],
            [
             0.5,
             "#f7f7f7"
            ],
            [
             0.6,
             "#e6f5d0"
            ],
            [
             0.7,
             "#b8e186"
            ],
            [
             0.8,
             "#7fbc41"
            ],
            [
             0.9,
             "#4d9221"
            ],
            [
             1,
             "#276419"
            ]
           ],
           "sequential": [
            [
             0,
             "#0d0887"
            ],
            [
             0.1111111111111111,
             "#46039f"
            ],
            [
             0.2222222222222222,
             "#7201a8"
            ],
            [
             0.3333333333333333,
             "#9c179e"
            ],
            [
             0.4444444444444444,
             "#bd3786"
            ],
            [
             0.5555555555555556,
             "#d8576b"
            ],
            [
             0.6666666666666666,
             "#ed7953"
            ],
            [
             0.7777777777777778,
             "#fb9f3a"
            ],
            [
             0.8888888888888888,
             "#fdca26"
            ],
            [
             1,
             "#f0f921"
            ]
           ],
           "sequentialminus": [
            [
             0,
             "#0d0887"
            ],
            [
             0.1111111111111111,
             "#46039f"
            ],
            [
             0.2222222222222222,
             "#7201a8"
            ],
            [
             0.3333333333333333,
             "#9c179e"
            ],
            [
             0.4444444444444444,
             "#bd3786"
            ],
            [
             0.5555555555555556,
             "#d8576b"
            ],
            [
             0.6666666666666666,
             "#ed7953"
            ],
            [
             0.7777777777777778,
             "#fb9f3a"
            ],
            [
             0.8888888888888888,
             "#fdca26"
            ],
            [
             1,
             "#f0f921"
            ]
           ]
          },
          "colorway": [
           "#636efa",
           "#EF553B",
           "#00cc96",
           "#ab63fa",
           "#FFA15A",
           "#19d3f3",
           "#FF6692",
           "#B6E880",
           "#FF97FF",
           "#FECB52"
          ],
          "font": {
           "color": "#2a3f5f"
          },
          "geo": {
           "bgcolor": "white",
           "lakecolor": "white",
           "landcolor": "#E5ECF6",
           "showlakes": true,
           "showland": true,
           "subunitcolor": "white"
          },
          "hoverlabel": {
           "align": "left"
          },
          "hovermode": "closest",
          "mapbox": {
           "style": "light"
          },
          "paper_bgcolor": "white",
          "plot_bgcolor": "#E5ECF6",
          "polar": {
           "angularaxis": {
            "gridcolor": "white",
            "linecolor": "white",
            "ticks": ""
           },
           "bgcolor": "#E5ECF6",
           "radialaxis": {
            "gridcolor": "white",
            "linecolor": "white",
            "ticks": ""
           }
          },
          "scene": {
           "xaxis": {
            "backgroundcolor": "#E5ECF6",
            "gridcolor": "white",
            "gridwidth": 2,
            "linecolor": "white",
            "showbackground": true,
            "ticks": "",
            "zerolinecolor": "white"
           },
           "yaxis": {
            "backgroundcolor": "#E5ECF6",
            "gridcolor": "white",
            "gridwidth": 2,
            "linecolor": "white",
            "showbackground": true,
            "ticks": "",
            "zerolinecolor": "white"
           },
           "zaxis": {
            "backgroundcolor": "#E5ECF6",
            "gridcolor": "white",
            "gridwidth": 2,
            "linecolor": "white",
            "showbackground": true,
            "ticks": "",
            "zerolinecolor": "white"
           }
          },
          "shapedefaults": {
           "line": {
            "color": "#2a3f5f"
           }
          },
          "ternary": {
           "aaxis": {
            "gridcolor": "white",
            "linecolor": "white",
            "ticks": ""
           },
           "baxis": {
            "gridcolor": "white",
            "linecolor": "white",
            "ticks": ""
           },
           "bgcolor": "#E5ECF6",
           "caxis": {
            "gridcolor": "white",
            "linecolor": "white",
            "ticks": ""
           }
          },
          "title": {
           "x": 0.05
          },
          "xaxis": {
           "automargin": true,
           "gridcolor": "white",
           "linecolor": "white",
           "ticks": "",
           "title": {
            "standoff": 15
           },
           "zerolinecolor": "white",
           "zerolinewidth": 2
          },
          "yaxis": {
           "automargin": true,
           "gridcolor": "white",
           "linecolor": "white",
           "ticks": "",
           "title": {
            "standoff": 15
           },
           "zerolinecolor": "white",
           "zerolinewidth": 2
          }
         }
        },
        "title": {
         "text": "Slice Plot"
        },
        "width": 3000,
        "xaxis": {
         "anchor": "y",
         "domain": [
          0,
          0.082
         ],
         "title": {
          "text": "alpha"
         },
         "type": "log"
        },
        "xaxis10": {
         "anchor": "y10",
         "domain": [
          0.9179999999999999,
          0.9999999999999999
         ],
         "title": {
          "text": "subsample"
         }
        },
        "xaxis2": {
         "anchor": "y2",
         "domain": [
          0.10200000000000001,
          0.184
         ],
         "title": {
          "text": "colsample_bytree"
         }
        },
        "xaxis3": {
         "anchor": "y3",
         "domain": [
          0.20400000000000001,
          0.28600000000000003
         ],
         "title": {
          "text": "gamma"
         }
        },
        "xaxis4": {
         "anchor": "y4",
         "domain": [
          0.306,
          0.388
         ],
         "title": {
          "text": "lambda"
         },
         "type": "log"
        },
        "xaxis5": {
         "anchor": "y5",
         "domain": [
          0.40800000000000003,
          0.49000000000000005
         ],
         "title": {
          "text": "learning_rate"
         },
         "type": "log"
        },
        "xaxis6": {
         "anchor": "y6",
         "domain": [
          0.51,
          0.592
         ],
         "title": {
          "text": "max_depth"
         }
        },
        "xaxis7": {
         "anchor": "y7",
         "domain": [
          0.612,
          0.694
         ],
         "title": {
          "text": "min_child_weight"
         }
        },
        "xaxis8": {
         "anchor": "y8",
         "domain": [
          0.7140000000000001,
          0.796
         ],
         "title": {
          "text": "n_estimators"
         }
        },
        "xaxis9": {
         "anchor": "y9",
         "domain": [
          0.8160000000000001,
          0.898
         ],
         "title": {
          "text": "scale_pos_weight"
         }
        },
        "yaxis": {
         "anchor": "x",
         "domain": [
          0,
          1
         ],
         "title": {
          "text": "Objective Value"
         }
        },
        "yaxis10": {
         "anchor": "x10",
         "domain": [
          0,
          1
         ],
         "matches": "y",
         "showticklabels": false
        },
        "yaxis2": {
         "anchor": "x2",
         "domain": [
          0,
          1
         ],
         "matches": "y",
         "showticklabels": false
        },
        "yaxis3": {
         "anchor": "x3",
         "domain": [
          0,
          1
         ],
         "matches": "y",
         "showticklabels": false
        },
        "yaxis4": {
         "anchor": "x4",
         "domain": [
          0,
          1
         ],
         "matches": "y",
         "showticklabels": false
        },
        "yaxis5": {
         "anchor": "x5",
         "domain": [
          0,
          1
         ],
         "matches": "y",
         "showticklabels": false
        },
        "yaxis6": {
         "anchor": "x6",
         "domain": [
          0,
          1
         ],
         "matches": "y",
         "showticklabels": false
        },
        "yaxis7": {
         "anchor": "x7",
         "domain": [
          0,
          1
         ],
         "matches": "y",
         "showticklabels": false
        },
        "yaxis8": {
         "anchor": "x8",
         "domain": [
          0,
          1
         ],
         "matches": "y",
         "showticklabels": false
        },
        "yaxis9": {
         "anchor": "x9",
         "domain": [
          0,
          1
         ],
         "matches": "y",
         "showticklabels": false
        }
       }
      }
     },
     "metadata": {},
     "output_type": "display_data"
    }
   ],
   "source": [
    "optuna.visualization.plot_slice(study, params=list(best_params.keys()))"
   ]
  },
  {
   "cell_type": "code",
   "execution_count": 82,
   "metadata": {},
   "outputs": [],
   "source": [
    "clf_xgb_tuned = XGBClassifier(**defined_params, **best_params)"
   ]
  },
  {
   "cell_type": "code",
   "execution_count": 83,
   "metadata": {},
   "outputs": [
    {
     "name": "stdout",
     "output_type": "stream",
     "text": [
      "Fold 1 => AUC score: 0.9314 (train) | 0.7816 (valid)\n",
      "Fold 2 => AUC score: 0.9320 (train) | 0.7739 (valid)\n",
      "Fold 3 => AUC score: 0.9351 (train) | 0.7729 (valid)\n",
      "Fold 4 => AUC score: 0.9319 (train) | 0.7740 (valid)\n",
      "Fold 5 => AUC score: 0.9299 (train) | 0.7804 (valid)\n",
      "Mean AUC oof score: 0.9321 (train) | 0.7765 (valid)\n"
     ]
    }
   ],
   "source": [
    "cb_fold = lambda fold, scores: print(f'Fold {fold + 1} => AUC score: {scores[0]:.4f} (train) | {scores[1]:.4f} (valid)')\n",
    "cb_end = lambda scores: print(f'Mean AUC oof score: {scores[0]:.4f} (train) | {scores[1]:.4f} (valid)')\n",
    "\n",
    "auc_scores_train, auc_scores_valid = train_model(X, y,\n",
    "                                                model=clf_xgb_tuned,\n",
    "                                                preprocessor=preprocessor,\n",
    "                                                scorer=roc_auc_score,\n",
    "                                                cv_fold=skf,\n",
    "                                                cb_fold=cb_fold,\n",
    "                                                cb_end=cb_end)\n",
    "mean_auc_train, mean_auc_val = np.mean(auc_scores_train), np.mean(auc_scores_valid)"
   ]
  },
  {
   "cell_type": "code",
   "execution_count": 96,
   "metadata": {},
   "outputs": [
    {
     "data": {
      "text/plain": [
       "<Axes: title={'center': 'Feature Importance XGB-Tuned (AUC = 0.7765)'}, xlabel='Feature', ylabel='Feature Importance'>"
      ]
     },
     "execution_count": 96,
     "metadata": {},
     "output_type": "execute_result"
    },
    {
     "data": {
      "image/png": "[encoded data removed]",
      "text/plain": [
       "<Figure size 1500x300 with 1 Axes>"
      ]
     },
     "metadata": {},
     "output_type": "display_data"
    }
   ],
   "source": [
    "df_feat_imp = pd.DataFrame({'Feature': X.columns, 'Importance': clf_xgb_tuned.feature_importances_})\n",
    "df_feat_imp = df_feat_imp.sort_values(by='Importance', ascending=False)\n",
    "df_feat_imp[:50].plot(kind='bar',\n",
    "                      x='Feature',\n",
    "                      y='Importance',\n",
    "                      title=f'Feature Importance XGB-Tuned (AUC = {mean_auc_val:.4f})',\n",
    "                      xlabel='Feature',\n",
    "                      ylabel='Feature Importance',\n",
    "                      figsize=(15, 3))"
   ]
  },
  {
   "cell_type": "code",
   "execution_count": 94,
   "metadata": {},
   "outputs": [
    {
     "name": "stdout",
     "output_type": "stream",
     "text": [
      "Numbers of categorical feature(s): 1\n",
      "Numbers of numerical feature(s): 49\n"
     ]
    }
   ],
   "source": [
    "top_feat_50 = df[df_feat_imp[:50]['Feature']]\n",
    "\n",
    "cat_feat = top_feat_50.select_dtypes('object').columns\n",
    "num_feat = top_feat_50.select_dtypes(exclude='object').columns\n",
    "\n",
    "print(f'Numbers of categorical feature(s): {len(cat_feat)}')\n",
    "print(f'Numbers of numerical feature(s): {len(num_feat)}')"
   ]
  },
  {
   "cell_type": "code",
   "execution_count": 97,
   "metadata": {},
   "outputs": [
    {
     "name": "stdout",
     "output_type": "stream",
     "text": [
      "AUC score of test dataset: 0.7772\n"
     ]
    }
   ],
   "source": [
    "y_preds = clf_xgb_tuned.predict_proba(preprocessor_pipe.transform(X_test))[:, 1]\n",
    "clf_xgb_tun_auc_test = roc_auc_score(y_test, y_preds)\n",
    "\n",
    "print(f'AUC score of test dataset: {clf_xgb_tun_auc_test:.4f}')"
   ]
  }
 ],
 "metadata": {
  "kernelspec": {
   "display_name": "Python 3",
   "language": "python",
   "name": "python3"
  },
  "language_info": {
   "codemirror_mode": {
    "name": "ipython",
    "version": 3
   },
   "file_extension": ".py",
   "mimetype": "text/x-python",
   "name": "python",
   "nbconvert_exporter": "python",
   "pygments_lexer": "ipython3",
   "version": "3.12.0"
  }
 },
 "nbformat": 4,
 "nbformat_minor": 2
}
