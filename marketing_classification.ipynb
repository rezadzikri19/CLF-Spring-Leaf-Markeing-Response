{
 "cells": [
  {
   "cell_type": "markdown",
   "metadata": {},
   "source": [
    "### **Import Libraries**"
   ]
  },
  {
   "cell_type": "code",
   "execution_count": 1,
   "metadata": {},
   "outputs": [],
   "source": [
    "import pandas as pd\n",
    "import numpy as np\n",
    "from datetime import datetime\n",
    "\n",
    "import seaborn as sns\n",
    "import matplotlib.pyplot as plt\n",
    "\n",
    "from sklearn.base import BaseEstimator, TransformerMixin\n",
    "\n",
    "from sklearn.preprocessing import LabelEncoder, RobustScaler, OrdinalEncoder\n",
    "from sklearn.metrics import roc_auc_score, roc_curve\n",
    "from sklearn.model_selection import train_test_split, StratifiedKFold\n",
    "from sklearn.pipeline import Pipeline\n",
    "from sklearn.compose import ColumnTransformer\n",
    "from sklearn.impute import SimpleImputer, KNNImputer\n",
    "\n",
    "from imblearn.under_sampling import TomekLinks, RandomUnderSampler\n",
    "\n",
    "from lightgbm import LGBMClassifier"
   ]
  },
  {
   "cell_type": "markdown",
   "metadata": {},
   "source": [
    "### **Settings**"
   ]
  },
  {
   "cell_type": "code",
   "execution_count": 2,
   "metadata": {},
   "outputs": [],
   "source": [
    "pd.set_option('display.max_columns', 50)\n",
    "pd.set_option('display.max_rows', 100)"
   ]
  },
  {
   "cell_type": "markdown",
   "metadata": {},
   "source": [
    "### **Load Dataset**"
   ]
  },
  {
   "cell_type": "code",
   "execution_count": 3,
   "metadata": {},
   "outputs": [
    {
     "name": "stderr",
     "output_type": "stream",
     "text": [
      "C:\\Users\\msi.pc\\AppData\\Local\\Temp\\ipykernel_23068\\3187415195.py:1: DtypeWarning: Columns (8,9,10,11,12,43,157,196,214,225,228,229,231,235,238) have mixed types. Specify dtype option on import or set low_memory=False.\n",
      "  df = pd.read_csv(r'D:\\Project\\Python\\Portfolio\\Big Data\\[Bottleneck] CLS - Spring Leaf Markeing Response\\data\\train.csv')\n"
     ]
    },
    {
     "data": {
      "text/html": [
       "<div>\n",
       "<style scoped>\n",
       "    .dataframe tbody tr th:only-of-type {\n",
       "        vertical-align: middle;\n",
       "    }\n",
       "\n",
       "    .dataframe tbody tr th {\n",
       "        vertical-align: top;\n",
       "    }\n",
       "\n",
       "    .dataframe thead th {\n",
       "        text-align: right;\n",
       "    }\n",
       "</style>\n",
       "<table border=\"1\" class=\"dataframe\">\n",
       "  <thead>\n",
       "    <tr style=\"text-align: right;\">\n",
       "      <th></th>\n",
       "      <th>ID</th>\n",
       "      <th>VAR_0001</th>\n",
       "      <th>VAR_0002</th>\n",
       "      <th>VAR_0003</th>\n",
       "      <th>VAR_0004</th>\n",
       "      <th>VAR_0005</th>\n",
       "      <th>VAR_0006</th>\n",
       "      <th>VAR_0007</th>\n",
       "      <th>VAR_0008</th>\n",
       "      <th>VAR_0009</th>\n",
       "      <th>VAR_0010</th>\n",
       "      <th>VAR_0011</th>\n",
       "      <th>VAR_0012</th>\n",
       "      <th>VAR_0013</th>\n",
       "      <th>VAR_0014</th>\n",
       "      <th>VAR_0015</th>\n",
       "      <th>VAR_0016</th>\n",
       "      <th>VAR_0017</th>\n",
       "      <th>VAR_0018</th>\n",
       "      <th>VAR_0019</th>\n",
       "      <th>VAR_0020</th>\n",
       "      <th>VAR_0021</th>\n",
       "      <th>VAR_0022</th>\n",
       "      <th>VAR_0023</th>\n",
       "      <th>VAR_0024</th>\n",
       "      <th>...</th>\n",
       "      <th>VAR_1911</th>\n",
       "      <th>VAR_1912</th>\n",
       "      <th>VAR_1913</th>\n",
       "      <th>VAR_1914</th>\n",
       "      <th>VAR_1915</th>\n",
       "      <th>VAR_1916</th>\n",
       "      <th>VAR_1917</th>\n",
       "      <th>VAR_1918</th>\n",
       "      <th>VAR_1919</th>\n",
       "      <th>VAR_1920</th>\n",
       "      <th>VAR_1921</th>\n",
       "      <th>VAR_1922</th>\n",
       "      <th>VAR_1923</th>\n",
       "      <th>VAR_1924</th>\n",
       "      <th>VAR_1925</th>\n",
       "      <th>VAR_1926</th>\n",
       "      <th>VAR_1927</th>\n",
       "      <th>VAR_1928</th>\n",
       "      <th>VAR_1929</th>\n",
       "      <th>VAR_1930</th>\n",
       "      <th>VAR_1931</th>\n",
       "      <th>VAR_1932</th>\n",
       "      <th>VAR_1933</th>\n",
       "      <th>VAR_1934</th>\n",
       "      <th>target</th>\n",
       "    </tr>\n",
       "  </thead>\n",
       "  <tbody>\n",
       "    <tr>\n",
       "      <th>0</th>\n",
       "      <td>2</td>\n",
       "      <td>H</td>\n",
       "      <td>224</td>\n",
       "      <td>0</td>\n",
       "      <td>4300</td>\n",
       "      <td>C</td>\n",
       "      <td>0.0</td>\n",
       "      <td>0.0</td>\n",
       "      <td>False</td>\n",
       "      <td>False</td>\n",
       "      <td>False</td>\n",
       "      <td>False</td>\n",
       "      <td>False</td>\n",
       "      <td>0.0</td>\n",
       "      <td>0.0</td>\n",
       "      <td>0.0</td>\n",
       "      <td>1.0</td>\n",
       "      <td>0.0</td>\n",
       "      <td>0.0</td>\n",
       "      <td>0.0</td>\n",
       "      <td>0.0</td>\n",
       "      <td>0.0</td>\n",
       "      <td>0.0</td>\n",
       "      <td>0.0</td>\n",
       "      <td>0.0</td>\n",
       "      <td>...</td>\n",
       "      <td>998</td>\n",
       "      <td>999999998</td>\n",
       "      <td>999999998</td>\n",
       "      <td>999999998</td>\n",
       "      <td>999999998</td>\n",
       "      <td>998</td>\n",
       "      <td>998</td>\n",
       "      <td>9998</td>\n",
       "      <td>9998</td>\n",
       "      <td>0</td>\n",
       "      <td>98</td>\n",
       "      <td>999999998</td>\n",
       "      <td>999999998</td>\n",
       "      <td>9998</td>\n",
       "      <td>0</td>\n",
       "      <td>98</td>\n",
       "      <td>98</td>\n",
       "      <td>998</td>\n",
       "      <td>999999998</td>\n",
       "      <td>998</td>\n",
       "      <td>998</td>\n",
       "      <td>9998</td>\n",
       "      <td>9998</td>\n",
       "      <td>IAPS</td>\n",
       "      <td>0</td>\n",
       "    </tr>\n",
       "    <tr>\n",
       "      <th>1</th>\n",
       "      <td>4</td>\n",
       "      <td>H</td>\n",
       "      <td>7</td>\n",
       "      <td>53</td>\n",
       "      <td>4448</td>\n",
       "      <td>B</td>\n",
       "      <td>1.0</td>\n",
       "      <td>0.0</td>\n",
       "      <td>False</td>\n",
       "      <td>False</td>\n",
       "      <td>False</td>\n",
       "      <td>False</td>\n",
       "      <td>False</td>\n",
       "      <td>1.0</td>\n",
       "      <td>0.0</td>\n",
       "      <td>1.0</td>\n",
       "      <td>2.0</td>\n",
       "      <td>1.0</td>\n",
       "      <td>0.0</td>\n",
       "      <td>0.0</td>\n",
       "      <td>0.0</td>\n",
       "      <td>0.0</td>\n",
       "      <td>0.0</td>\n",
       "      <td>0.0</td>\n",
       "      <td>0.0</td>\n",
       "      <td>...</td>\n",
       "      <td>0</td>\n",
       "      <td>6546</td>\n",
       "      <td>6546</td>\n",
       "      <td>6125</td>\n",
       "      <td>76</td>\n",
       "      <td>1</td>\n",
       "      <td>1</td>\n",
       "      <td>9996</td>\n",
       "      <td>111</td>\n",
       "      <td>0</td>\n",
       "      <td>98</td>\n",
       "      <td>999999998</td>\n",
       "      <td>999999998</td>\n",
       "      <td>9998</td>\n",
       "      <td>0</td>\n",
       "      <td>98</td>\n",
       "      <td>98</td>\n",
       "      <td>998</td>\n",
       "      <td>999999998</td>\n",
       "      <td>998</td>\n",
       "      <td>998</td>\n",
       "      <td>9998</td>\n",
       "      <td>9998</td>\n",
       "      <td>IAPS</td>\n",
       "      <td>0</td>\n",
       "    </tr>\n",
       "    <tr>\n",
       "      <th>2</th>\n",
       "      <td>5</td>\n",
       "      <td>H</td>\n",
       "      <td>116</td>\n",
       "      <td>3</td>\n",
       "      <td>3464</td>\n",
       "      <td>C</td>\n",
       "      <td>0.0</td>\n",
       "      <td>0.0</td>\n",
       "      <td>False</td>\n",
       "      <td>False</td>\n",
       "      <td>False</td>\n",
       "      <td>False</td>\n",
       "      <td>False</td>\n",
       "      <td>0.0</td>\n",
       "      <td>0.0</td>\n",
       "      <td>0.0</td>\n",
       "      <td>1.0</td>\n",
       "      <td>0.0</td>\n",
       "      <td>0.0</td>\n",
       "      <td>0.0</td>\n",
       "      <td>0.0</td>\n",
       "      <td>0.0</td>\n",
       "      <td>0.0</td>\n",
       "      <td>0.0</td>\n",
       "      <td>0.0</td>\n",
       "      <td>...</td>\n",
       "      <td>997</td>\n",
       "      <td>999999997</td>\n",
       "      <td>999999997</td>\n",
       "      <td>999999997</td>\n",
       "      <td>999999997</td>\n",
       "      <td>1</td>\n",
       "      <td>997</td>\n",
       "      <td>9996</td>\n",
       "      <td>113</td>\n",
       "      <td>0</td>\n",
       "      <td>98</td>\n",
       "      <td>999999998</td>\n",
       "      <td>999999998</td>\n",
       "      <td>9998</td>\n",
       "      <td>0</td>\n",
       "      <td>98</td>\n",
       "      <td>98</td>\n",
       "      <td>998</td>\n",
       "      <td>999999998</td>\n",
       "      <td>998</td>\n",
       "      <td>998</td>\n",
       "      <td>9998</td>\n",
       "      <td>9998</td>\n",
       "      <td>IAPS</td>\n",
       "      <td>0</td>\n",
       "    </tr>\n",
       "    <tr>\n",
       "      <th>3</th>\n",
       "      <td>7</td>\n",
       "      <td>H</td>\n",
       "      <td>240</td>\n",
       "      <td>300</td>\n",
       "      <td>3200</td>\n",
       "      <td>C</td>\n",
       "      <td>0.0</td>\n",
       "      <td>0.0</td>\n",
       "      <td>False</td>\n",
       "      <td>False</td>\n",
       "      <td>False</td>\n",
       "      <td>False</td>\n",
       "      <td>False</td>\n",
       "      <td>0.0</td>\n",
       "      <td>0.0</td>\n",
       "      <td>0.0</td>\n",
       "      <td>2.0</td>\n",
       "      <td>0.0</td>\n",
       "      <td>0.0</td>\n",
       "      <td>0.0</td>\n",
       "      <td>0.0</td>\n",
       "      <td>0.0</td>\n",
       "      <td>0.0</td>\n",
       "      <td>0.0</td>\n",
       "      <td>0.0</td>\n",
       "      <td>...</td>\n",
       "      <td>998</td>\n",
       "      <td>999999998</td>\n",
       "      <td>999999998</td>\n",
       "      <td>999999998</td>\n",
       "      <td>999999998</td>\n",
       "      <td>998</td>\n",
       "      <td>998</td>\n",
       "      <td>9998</td>\n",
       "      <td>9998</td>\n",
       "      <td>0</td>\n",
       "      <td>98</td>\n",
       "      <td>999999998</td>\n",
       "      <td>999999998</td>\n",
       "      <td>9998</td>\n",
       "      <td>0</td>\n",
       "      <td>98</td>\n",
       "      <td>98</td>\n",
       "      <td>998</td>\n",
       "      <td>999999998</td>\n",
       "      <td>998</td>\n",
       "      <td>998</td>\n",
       "      <td>9998</td>\n",
       "      <td>9998</td>\n",
       "      <td>RCC</td>\n",
       "      <td>0</td>\n",
       "    </tr>\n",
       "    <tr>\n",
       "      <th>4</th>\n",
       "      <td>8</td>\n",
       "      <td>R</td>\n",
       "      <td>72</td>\n",
       "      <td>261</td>\n",
       "      <td>2000</td>\n",
       "      <td>N</td>\n",
       "      <td>0.0</td>\n",
       "      <td>0.0</td>\n",
       "      <td>False</td>\n",
       "      <td>False</td>\n",
       "      <td>False</td>\n",
       "      <td>False</td>\n",
       "      <td>False</td>\n",
       "      <td>0.0</td>\n",
       "      <td>0.0</td>\n",
       "      <td>0.0</td>\n",
       "      <td>1.0</td>\n",
       "      <td>0.0</td>\n",
       "      <td>0.0</td>\n",
       "      <td>0.0</td>\n",
       "      <td>0.0</td>\n",
       "      <td>0.0</td>\n",
       "      <td>0.0</td>\n",
       "      <td>0.0</td>\n",
       "      <td>0.0</td>\n",
       "      <td>...</td>\n",
       "      <td>998</td>\n",
       "      <td>999999998</td>\n",
       "      <td>999999998</td>\n",
       "      <td>999999998</td>\n",
       "      <td>999999998</td>\n",
       "      <td>998</td>\n",
       "      <td>998</td>\n",
       "      <td>9998</td>\n",
       "      <td>9998</td>\n",
       "      <td>0</td>\n",
       "      <td>98</td>\n",
       "      <td>999999998</td>\n",
       "      <td>999999998</td>\n",
       "      <td>9998</td>\n",
       "      <td>0</td>\n",
       "      <td>98</td>\n",
       "      <td>98</td>\n",
       "      <td>998</td>\n",
       "      <td>999999998</td>\n",
       "      <td>998</td>\n",
       "      <td>998</td>\n",
       "      <td>9998</td>\n",
       "      <td>9998</td>\n",
       "      <td>BRANCH</td>\n",
       "      <td>1</td>\n",
       "    </tr>\n",
       "  </tbody>\n",
       "</table>\n",
       "<p>5 rows × 1934 columns</p>\n",
       "</div>"
      ],
      "text/plain": [
       "   ID VAR_0001  VAR_0002  VAR_0003  VAR_0004 VAR_0005  VAR_0006  VAR_0007  \\\n",
       "0   2        H       224         0      4300        C       0.0       0.0   \n",
       "1   4        H         7        53      4448        B       1.0       0.0   \n",
       "2   5        H       116         3      3464        C       0.0       0.0   \n",
       "3   7        H       240       300      3200        C       0.0       0.0   \n",
       "4   8        R        72       261      2000        N       0.0       0.0   \n",
       "\n",
       "  VAR_0008 VAR_0009 VAR_0010 VAR_0011 VAR_0012  VAR_0013  VAR_0014  VAR_0015  \\\n",
       "0    False    False    False    False    False       0.0       0.0       0.0   \n",
       "1    False    False    False    False    False       1.0       0.0       1.0   \n",
       "2    False    False    False    False    False       0.0       0.0       0.0   \n",
       "3    False    False    False    False    False       0.0       0.0       0.0   \n",
       "4    False    False    False    False    False       0.0       0.0       0.0   \n",
       "\n",
       "   VAR_0016  VAR_0017  VAR_0018  VAR_0019  VAR_0020  VAR_0021  VAR_0022  \\\n",
       "0       1.0       0.0       0.0       0.0       0.0       0.0       0.0   \n",
       "1       2.0       1.0       0.0       0.0       0.0       0.0       0.0   \n",
       "2       1.0       0.0       0.0       0.0       0.0       0.0       0.0   \n",
       "3       2.0       0.0       0.0       0.0       0.0       0.0       0.0   \n",
       "4       1.0       0.0       0.0       0.0       0.0       0.0       0.0   \n",
       "\n",
       "   VAR_0023  VAR_0024  ...  VAR_1911   VAR_1912   VAR_1913   VAR_1914  \\\n",
       "0       0.0       0.0  ...       998  999999998  999999998  999999998   \n",
       "1       0.0       0.0  ...         0       6546       6546       6125   \n",
       "2       0.0       0.0  ...       997  999999997  999999997  999999997   \n",
       "3       0.0       0.0  ...       998  999999998  999999998  999999998   \n",
       "4       0.0       0.0  ...       998  999999998  999999998  999999998   \n",
       "\n",
       "    VAR_1915  VAR_1916  VAR_1917  VAR_1918  VAR_1919  VAR_1920  VAR_1921  \\\n",
       "0  999999998       998       998      9998      9998         0        98   \n",
       "1         76         1         1      9996       111         0        98   \n",
       "2  999999997         1       997      9996       113         0        98   \n",
       "3  999999998       998       998      9998      9998         0        98   \n",
       "4  999999998       998       998      9998      9998         0        98   \n",
       "\n",
       "    VAR_1922   VAR_1923  VAR_1924  VAR_1925  VAR_1926  VAR_1927  VAR_1928  \\\n",
       "0  999999998  999999998      9998         0        98        98       998   \n",
       "1  999999998  999999998      9998         0        98        98       998   \n",
       "2  999999998  999999998      9998         0        98        98       998   \n",
       "3  999999998  999999998      9998         0        98        98       998   \n",
       "4  999999998  999999998      9998         0        98        98       998   \n",
       "\n",
       "    VAR_1929 VAR_1930  VAR_1931  VAR_1932  VAR_1933  VAR_1934  target  \n",
       "0  999999998      998       998      9998      9998      IAPS       0  \n",
       "1  999999998      998       998      9998      9998      IAPS       0  \n",
       "2  999999998      998       998      9998      9998      IAPS       0  \n",
       "3  999999998      998       998      9998      9998       RCC       0  \n",
       "4  999999998      998       998      9998      9998    BRANCH       1  \n",
       "\n",
       "[5 rows x 1934 columns]"
      ]
     },
     "metadata": {},
     "output_type": "display_data"
    }
   ],
   "source": [
    "df = pd.read_csv(r'D:\\Project\\Python\\Portfolio\\Big Data\\[Bottleneck] CLS - Spring Leaf Markeing Response\\data\\train.csv')\n",
    "\n",
    "display(df.head())"
   ]
  },
  {
   "cell_type": "code",
   "execution_count": 4,
   "metadata": {},
   "outputs": [
    {
     "name": "stdout",
     "output_type": "stream",
     "text": [
      "Dataset shape: (145231, 1934)\n"
     ]
    }
   ],
   "source": [
    "print(f'Dataset shape: {df.shape}')"
   ]
  },
  {
   "cell_type": "code",
   "execution_count": 5,
   "metadata": {},
   "outputs": [
    {
     "name": "stdout",
     "output_type": "stream",
     "text": [
      "<class 'pandas.core.frame.DataFrame'>\n",
      "RangeIndex: 145231 entries, 0 to 145230\n",
      "Columns: 1934 entries, ID to target\n",
      "dtypes: float64(477), int64(1406), object(51)\n",
      "memory usage: 2.3 GB\n"
     ]
    }
   ],
   "source": [
    "df.info(memory_usage='deep')"
   ]
  },
  {
   "cell_type": "code",
   "execution_count": 6,
   "metadata": {},
   "outputs": [],
   "source": [
    "def is_convertable(col: pd.Series) -> bool:\n",
    "  if col.dtype == np.int64 and\\\n",
    "      col.max() <= np.iinfo(np.int32).max and\\\n",
    "      col.min() >= np.iinfo(np.int32).min: return True\n",
    "  \n",
    "  if col.dtype == np.float64 and\\\n",
    "      col.max() <= np.finfo(np.float32).max and\\\n",
    "      col.min() >= np.finfo(np.float32).min: return True\n",
    "  \n",
    "  if np.isnan(col.max()): return True\n",
    "      \n",
    "  return False\n",
    "\n",
    "def save_memory(df_original: pd.DataFrame) -> pd.DataFrame:\n",
    "  int_cols = df_original.select_dtypes(np.int64).columns\n",
    "  float_cols = df_original.select_dtypes(np.float64).columns\n",
    "  \n",
    "  int_cols = [col for col in int_cols if is_convertable(df_original[col])]\n",
    "  float_cols = [col for col in float_cols if is_convertable(df_original[col])]\n",
    "  \n",
    "  int_cols = {col: 'int32' for col in int_cols}\n",
    "  float_cols = {col: 'float32' for col in float_cols}\n",
    "\n",
    "  df_original = df_original.astype(int_cols)\n",
    "  df_original = df_original.astype(float_cols)\n",
    "  \n",
    "  return df_original\n",
    "  \n",
    "df = save_memory(df)"
   ]
  },
  {
   "cell_type": "code",
   "execution_count": 7,
   "metadata": {},
   "outputs": [],
   "source": [
    "def convert_str2cat(df_original: pd.DataFrame) -> pd.DataFrame:\n",
    "  cat_cols = df_original.select_dtypes('object').columns\n",
    "  \n",
    "  cat_cols = {col: 'category' for col in cat_cols}\n",
    "  df_original = df_original.astype(cat_cols)\n",
    "  \n",
    "  return df_original\n",
    "\n",
    "df = convert_str2cat(df)"
   ]
  },
  {
   "cell_type": "code",
   "execution_count": 8,
   "metadata": {},
   "outputs": [
    {
     "name": "stdout",
     "output_type": "stream",
     "text": [
      "<class 'pandas.core.frame.DataFrame'>\n",
      "RangeIndex: 145231 entries, 0 to 145230\n",
      "Columns: 1934 entries, ID to target\n",
      "dtypes: category(51), float32(477), int32(1406)\n",
      "memory usage: 1.0 GB\n"
     ]
    }
   ],
   "source": [
    "df.info(memory_usage='deep')"
   ]
  },
  {
   "cell_type": "markdown",
   "metadata": {},
   "source": [
    "### **EDA**"
   ]
  },
  {
   "cell_type": "markdown",
   "metadata": {},
   "source": [
    "##### **A. Target value**"
   ]
  },
  {
   "cell_type": "code",
   "execution_count": 9,
   "metadata": {},
   "outputs": [
    {
     "name": "stdout",
     "output_type": "stream",
     "text": [
      "Ratio of target (1 and 0): 3.300210227104492\n"
     ]
    },
    {
     "data": {
      "image/png": "[encoded data removed]",
      "text/plain": [
       "<Figure size 600x500 with 1 Axes>"
      ]
     },
     "metadata": {},
     "output_type": "display_data"
    }
   ],
   "source": [
    "target_dist = df['target'].value_counts().sort_values(ascending=False)\n",
    "target_dist.plot(kind='bar',\n",
    "                 figsize=(6, 5),\n",
    "                 title='Target Value Count',\n",
    "                 xlabel='Target',\n",
    "                 ylabel='Count')\n",
    "\n",
    "mayor_minor_ratio = target_dist[0] / target_dist[1]\n",
    "print(f'Ratio of target (1 and 0): {mayor_minor_ratio}')"
   ]
  },
  {
   "cell_type": "markdown",
   "metadata": {},
   "source": [
    "##### **B. Missing value - column**"
   ]
  },
  {
   "cell_type": "code",
   "execution_count": 10,
   "metadata": {},
   "outputs": [
    {
     "data": {
      "text/plain": [
       "<Axes: title={'center': 'Top 50 of % of Missing Value vs Feature'}, xlabel='Feature', ylabel='% of Missing Value'>"
      ]
     },
     "execution_count": 10,
     "metadata": {},
     "output_type": "execute_result"
    },
    {
     "data": {
      "image/png": "[encoded data removed]",
      "text/plain": [
       "<Figure size 1500x500 with 1 Axes>"
      ]
     },
     "metadata": {},
     "output_type": "display_data"
    }
   ],
   "source": [
    "df_cols_null = df.isna().mean().sort_values(ascending=False).drop('target')\n",
    "\n",
    "df_cols_null[:51].plot(kind='bar',\n",
    "                       figsize=(15, 5),\n",
    "                       title=r'Top 50 of % of Missing Value vs Feature',\n",
    "                       xlabel='Feature',\n",
    "                       ylabel=r'% of Missing Value')"
   ]
  },
  {
   "cell_type": "code",
   "execution_count": 11,
   "metadata": {},
   "outputs": [
    {
     "name": "stdout",
     "output_type": "stream",
     "text": [
      "Numbers of feature(s): 24\n",
      "Features: ['VAR_0207', 'VAR_0213', 'VAR_0840', 'VAR_0214', 'VAR_0157', 'VAR_0158', 'VAR_0205', 'VAR_0206', 'VAR_0167', 'VAR_0177', 'VAR_0156', 'VAR_0159', 'VAR_0209', 'VAR_0168', 'VAR_0178', 'VAR_0166', 'VAR_0169', 'VAR_0179', 'VAR_0176', 'VAR_0211', 'VAR_0210', 'VAR_0208', 'VAR_0073', 'VAR_0074']\n"
     ]
    }
   ],
   "source": [
    "df_cols_null_70p = df_cols_null[df_cols_null > 0.69]\n",
    "df_cols_null_70p = df_cols_null_70p.index.to_list()\n",
    "\n",
    "print(f'Numbers of feature(s): {len(df_cols_null_70p)}\\nFeatures: {df_cols_null_70p}')"
   ]
  },
  {
   "cell_type": "markdown",
   "metadata": {},
   "source": [
    "##### **C. Single unique value feature**"
   ]
  },
  {
   "cell_type": "code",
   "execution_count": 12,
   "metadata": {},
   "outputs": [
    {
     "name": "stdout",
     "output_type": "stream",
     "text": [
      "Numbers of numerical feature(s): 1883\n",
      "Numbers of categorical feature(s): 51\n"
     ]
    }
   ],
   "source": [
    "df_num_cols = df.select_dtypes(exclude='category').columns\n",
    "df_cat_cols = df.select_dtypes('category').columns\n",
    "\n",
    "print(f'Numbers of numerical feature(s): {len(df_num_cols)}')\n",
    "print(f'Numbers of categorical feature(s): {len(df_cat_cols)}')"
   ]
  },
  {
   "cell_type": "code",
   "execution_count": 13,
   "metadata": {},
   "outputs": [
    {
     "data": {
      "text/plain": [
       "<Axes: title={'center': 'Bottom 50 of Numbers of Unique Value(s) vs Feature'}, xlabel='Feature', ylabel='Numbers of Unique Value(s)'>"
      ]
     },
     "execution_count": 13,
     "metadata": {},
     "output_type": "execute_result"
    },
    {
     "data": {
      "image/png": "[encoded data removed]",
      "text/plain": [
       "<Figure size 1500x500 with 1 Axes>"
      ]
     },
     "metadata": {},
     "output_type": "display_data"
    }
   ],
   "source": [
    "df_num_cols_low_var = df[df_num_cols].nunique().sort_values()\n",
    "df_num_cols_low_var = df_num_cols_low_var[df_num_cols_low_var > 0][:51]\n",
    "df_num_cols_low_var.plot(kind='bar',\n",
    "                       figsize=(15, 5),\n",
    "                       title=r'Bottom 50 of Numbers of Unique Value(s) vs Feature',\n",
    "                       xlabel='Feature',\n",
    "                       ylabel='Numbers of Unique Value(s)')"
   ]
  },
  {
   "cell_type": "code",
   "execution_count": 14,
   "metadata": {},
   "outputs": [
    {
     "name": "stdout",
     "output_type": "stream",
     "text": [
      "Numbers of feature(s): 38\n",
      "Features: ['VAR_0042', 'VAR_1428', 'VAR_0847', 'VAR_0446', 'VAR_0038', 'VAR_0039', 'VAR_0040', 'VAR_0041', 'VAR_0188', 'VAR_0189', 'VAR_0190', 'VAR_0197', 'VAR_0223', 'VAR_0199', 'VAR_0221', 'VAR_0203', 'VAR_0394', 'VAR_0031', 'VAR_0030', 'VAR_0032', 'VAR_0028', 'VAR_0528', 'VAR_0438', 'VAR_0530', 'VAR_0527', 'VAR_0246', 'VAR_0029', 'VAR_0018', 'VAR_0019', 'VAR_0215', 'VAR_0021', 'VAR_0022', 'VAR_0027', 'VAR_0026', 'VAR_0025', 'VAR_0023', 'VAR_0024', 'VAR_0020']\n"
     ]
    }
   ],
   "source": [
    "df_num_cols_single = df_num_cols_low_var[df_num_cols_low_var == 1]\n",
    "df_num_cols_single = df_num_cols_single.index.to_list()\n",
    "\n",
    "print(f'Numbers of feature(s): {len(df_num_cols_single)}\\nFeatures: {df_num_cols_single}')"
   ]
  },
  {
   "cell_type": "code",
   "execution_count": 15,
   "metadata": {},
   "outputs": [
    {
     "data": {
      "text/plain": [
       "<Axes: title={'center': 'Bottom of Numbers of Unique Value(s) vs Feature'}, xlabel='Feature', ylabel='Numbers of Unique Value(s)'>"
      ]
     },
     "execution_count": 15,
     "metadata": {},
     "output_type": "execute_result"
    },
    {
     "data": {
      "image/png": "[encoded data removed]",
      "text/plain": [
       "<Figure size 1500x500 with 1 Axes>"
      ]
     },
     "metadata": {},
     "output_type": "display_data"
    }
   ],
   "source": [
    "df_cat_cols_low_var = df[df_cat_cols].nunique().sort_values()\n",
    "df_cat_cols_low_var = df_cat_cols_low_var[df_cat_cols_low_var > 0][:51]\n",
    "df_cat_cols_low_var.plot(kind='bar',\n",
    "                       figsize=(15, 5),\n",
    "                       title=r'Bottom of Numbers of Unique Value(s) vs Feature',\n",
    "                       xlabel='Feature',\n",
    "                       ylabel='Numbers of Unique Value(s)')"
   ]
  },
  {
   "cell_type": "code",
   "execution_count": 16,
   "metadata": {},
   "outputs": [
    {
     "name": "stdout",
     "output_type": "stream",
     "text": [
      "Numbers of feature(s): 13\n",
      "Features: ['VAR_0202', 'VAR_0222', 'VAR_0229', 'VAR_0239', 'VAR_0216', 'VAR_0043', 'VAR_0044', 'VAR_0011', 'VAR_0010', 'VAR_0009', 'VAR_0008', 'VAR_0012', 'VAR_0196']\n"
     ]
    }
   ],
   "source": [
    "df_cat_cols_single = df_cat_cols_low_var[df_cat_cols_low_var == 1]\n",
    "df_cat_cols_single = df_cat_cols_single.index.to_list()\n",
    "\n",
    "print(f'Numbers of feature(s): {len(df_cat_cols_single)}\\nFeatures: {df_cat_cols_single}')"
   ]
  },
  {
   "cell_type": "markdown",
   "metadata": {},
   "source": [
    "##### **D. Missing Value (rows)**"
   ]
  },
  {
   "cell_type": "code",
   "execution_count": 17,
   "metadata": {},
   "outputs": [
    {
     "name": "stdout",
     "output_type": "stream",
     "text": [
      "Threshold for missing features: 0.2005164186709449\n",
      "\n",
      "Instance(s):\n",
      "9855      0.271458\n",
      "11910     0.271458\n",
      "13018     0.271458\n",
      "13447     0.271458\n",
      "16524     0.271458\n",
      "17461     0.271458\n",
      "20511     0.271458\n",
      "25658     0.271458\n",
      "27429     0.271458\n",
      "33001     0.271458\n",
      "36093     0.271458\n",
      "36534     0.271458\n",
      "40061     0.271458\n",
      "40317     0.271458\n",
      "40848     0.271458\n",
      "41185     0.271458\n",
      "43410     0.271458\n",
      "43629     0.271458\n",
      "45875     0.271458\n",
      "55156     0.271458\n",
      "56206     0.271458\n",
      "57191     0.271458\n",
      "58586     0.271458\n",
      "60229     0.271458\n",
      "62100     0.271458\n",
      "62455     0.271458\n",
      "65682     0.271458\n",
      "66061     0.271458\n",
      "70000     0.271458\n",
      "79003     0.271458\n",
      "79268     0.271458\n",
      "84358     0.271458\n",
      "85066     0.271458\n",
      "87829     0.271458\n",
      "88207     0.271458\n",
      "91939     0.271458\n",
      "94705     0.271458\n",
      "94729     0.271458\n",
      "96148     0.271458\n",
      "97962     0.271458\n",
      "105196    0.271458\n",
      "112029    0.271458\n",
      "115558    0.271458\n",
      "117069    0.271458\n",
      "122319    0.271458\n",
      "122527    0.271458\n",
      "124410    0.271458\n",
      "133942    0.271458\n",
      "135973    0.271458\n",
      "138754    0.271458\n",
      "139295    0.271458\n",
      "143274    0.271458\n",
      "143915    0.271458\n",
      "dtype: float64\n",
      "\n",
      "Instance(s) target distribution: \n",
      "target\n",
      "0    40\n",
      "1    13\n",
      "Name: count, dtype: int64\n",
      "\n"
     ]
    }
   ],
   "source": [
    "cols = df_cols_null_70p + df_num_cols_single + df_cat_cols_single\n",
    "threshold_null = 0.2 + len(cols)/len(df)\n",
    "\n",
    "row_null_count = df.isnull().mean(axis=1)\n",
    "row_null_count = row_null_count[row_null_count > threshold_null]\n",
    "df_row_null = row_null_count.index.to_list()\n",
    "\n",
    "dr_row_null_target_dist = df.iloc[df_row_null]['target'].value_counts()\n",
    "\n",
    "print(f'Threshold for missing features: {threshold_null}\\n')\n",
    "print(f'Instance(s):\\n{row_null_count}\\n')\n",
    "print(f'Instance(s) target distribution: \\n{dr_row_null_target_dist}\\n')"
   ]
  },
  {
   "cell_type": "markdown",
   "metadata": {},
   "source": [
    "### **Feature Engineering**"
   ]
  },
  {
   "cell_type": "markdown",
   "metadata": {},
   "source": [
    "##### **A. Drop columns**"
   ]
  },
  {
   "cell_type": "code",
   "execution_count": 18,
   "metadata": {},
   "outputs": [
    {
     "name": "stdout",
     "output_type": "stream",
     "text": [
      "Total dropped columns: 75\n",
      "Dataset shape: (145231, 1859)\n"
     ]
    }
   ],
   "source": [
    "columns_to_drop = set(df_cols_null_70p + df_num_cols_single + df_cat_cols_single)\n",
    "df.drop(columns=columns_to_drop, inplace=True)\n",
    "\n",
    "print(f'Total dropped columns: {len(columns_to_drop)}')\n",
    "print(f'Dataset shape: {df.shape}')"
   ]
  },
  {
   "cell_type": "markdown",
   "metadata": {},
   "source": [
    "##### **B. Drop duplicates**"
   ]
  },
  {
   "cell_type": "code",
   "execution_count": 19,
   "metadata": {},
   "outputs": [
    {
     "name": "stdout",
     "output_type": "stream",
     "text": [
      "Numbers of duplicated in dataset: 0\n"
     ]
    }
   ],
   "source": [
    "df_duplicates = df.duplicated()\n",
    "df.drop_duplicates(inplace=True, keep='first')\n",
    "\n",
    "print(f'Numbers of duplicated in dataset: {df_duplicates.sum()}')"
   ]
  },
  {
   "cell_type": "markdown",
   "metadata": {},
   "source": [
    "##### **C. Drop rows**"
   ]
  },
  {
   "cell_type": "code",
   "execution_count": 20,
   "metadata": {},
   "outputs": [
    {
     "name": "stdout",
     "output_type": "stream",
     "text": [
      "Total dropped rows: 53\n",
      "Dataset shape: (145178, 1859)\n"
     ]
    }
   ],
   "source": [
    "rows_to_drop = df_row_null\n",
    "df.drop(index=rows_to_drop, axis=0, inplace=True)\n",
    "\n",
    "print(f'Total dropped rows: {len(rows_to_drop)}')\n",
    "print(f'Dataset shape: {df.shape}')"
   ]
  },
  {
   "cell_type": "markdown",
   "metadata": {},
   "source": [
    "##### **D. Categorical value**"
   ]
  },
  {
   "cell_type": "code",
   "execution_count": 21,
   "metadata": {},
   "outputs": [
    {
     "data": {
      "text/html": [
       "<div>\n",
       "<style scoped>\n",
       "    .dataframe tbody tr th:only-of-type {\n",
       "        vertical-align: middle;\n",
       "    }\n",
       "\n",
       "    .dataframe tbody tr th {\n",
       "        vertical-align: top;\n",
       "    }\n",
       "\n",
       "    .dataframe thead th {\n",
       "        text-align: right;\n",
       "    }\n",
       "</style>\n",
       "<table border=\"1\" class=\"dataframe\">\n",
       "  <thead>\n",
       "    <tr style=\"text-align: right;\">\n",
       "      <th></th>\n",
       "      <th>VAR_0001</th>\n",
       "      <th>VAR_0005</th>\n",
       "      <th>VAR_0075</th>\n",
       "      <th>VAR_0200</th>\n",
       "      <th>VAR_0204</th>\n",
       "      <th>VAR_0217</th>\n",
       "      <th>VAR_0226</th>\n",
       "      <th>VAR_0230</th>\n",
       "      <th>VAR_0232</th>\n",
       "      <th>VAR_0236</th>\n",
       "      <th>VAR_0237</th>\n",
       "      <th>VAR_0274</th>\n",
       "      <th>VAR_0283</th>\n",
       "      <th>VAR_0305</th>\n",
       "      <th>VAR_0325</th>\n",
       "      <th>VAR_0342</th>\n",
       "      <th>VAR_0352</th>\n",
       "      <th>VAR_0353</th>\n",
       "      <th>VAR_0354</th>\n",
       "      <th>VAR_0404</th>\n",
       "      <th>VAR_0466</th>\n",
       "      <th>VAR_0467</th>\n",
       "      <th>VAR_0493</th>\n",
       "      <th>VAR_1934</th>\n",
       "    </tr>\n",
       "  </thead>\n",
       "  <tbody>\n",
       "    <tr>\n",
       "      <th>0</th>\n",
       "      <td>H</td>\n",
       "      <td>C</td>\n",
       "      <td>08NOV11:00:00:00</td>\n",
       "      <td>FT LAUDERDALE</td>\n",
       "      <td>29JAN14:21:16:00</td>\n",
       "      <td>08NOV11:02:00:00</td>\n",
       "      <td>False</td>\n",
       "      <td>False</td>\n",
       "      <td>True</td>\n",
       "      <td>True</td>\n",
       "      <td>FL</td>\n",
       "      <td>FL</td>\n",
       "      <td>S</td>\n",
       "      <td>S</td>\n",
       "      <td>-1</td>\n",
       "      <td>CF</td>\n",
       "      <td>O</td>\n",
       "      <td>U</td>\n",
       "      <td>O</td>\n",
       "      <td>CHIEF EXECUTIVE OFFICER</td>\n",
       "      <td>-1</td>\n",
       "      <td>-1</td>\n",
       "      <td>COMMUNITY ASSOCIATION MANAGER</td>\n",
       "      <td>IAPS</td>\n",
       "    </tr>\n",
       "    <tr>\n",
       "      <th>1</th>\n",
       "      <td>H</td>\n",
       "      <td>B</td>\n",
       "      <td>10NOV11:00:00:00</td>\n",
       "      <td>SANTEE</td>\n",
       "      <td>01FEB14:00:11:00</td>\n",
       "      <td>02OCT12:02:00:00</td>\n",
       "      <td>False</td>\n",
       "      <td>False</td>\n",
       "      <td>False</td>\n",
       "      <td>True</td>\n",
       "      <td>CA</td>\n",
       "      <td>MI</td>\n",
       "      <td>S</td>\n",
       "      <td>S</td>\n",
       "      <td>H</td>\n",
       "      <td>EC</td>\n",
       "      <td>O</td>\n",
       "      <td>R</td>\n",
       "      <td>R</td>\n",
       "      <td>-1</td>\n",
       "      <td>I</td>\n",
       "      <td>Discharged</td>\n",
       "      <td>-1</td>\n",
       "      <td>IAPS</td>\n",
       "    </tr>\n",
       "    <tr>\n",
       "      <th>2</th>\n",
       "      <td>H</td>\n",
       "      <td>C</td>\n",
       "      <td>13DEC11:00:00:00</td>\n",
       "      <td>REEDSVILLE</td>\n",
       "      <td>30JAN14:15:11:00</td>\n",
       "      <td>13DEC11:02:00:00</td>\n",
       "      <td>False</td>\n",
       "      <td>False</td>\n",
       "      <td>True</td>\n",
       "      <td>True</td>\n",
       "      <td>WV</td>\n",
       "      <td>WV</td>\n",
       "      <td>S</td>\n",
       "      <td>P</td>\n",
       "      <td>R</td>\n",
       "      <td>UU</td>\n",
       "      <td>R</td>\n",
       "      <td>R</td>\n",
       "      <td>-1</td>\n",
       "      <td>-1</td>\n",
       "      <td>-1</td>\n",
       "      <td>-1</td>\n",
       "      <td>-1</td>\n",
       "      <td>IAPS</td>\n",
       "    </tr>\n",
       "    <tr>\n",
       "      <th>3</th>\n",
       "      <td>H</td>\n",
       "      <td>C</td>\n",
       "      <td>23SEP10:00:00:00</td>\n",
       "      <td>LIBERTY</td>\n",
       "      <td>01FEB14:00:07:00</td>\n",
       "      <td>01NOV12:02:00:00</td>\n",
       "      <td>False</td>\n",
       "      <td>False</td>\n",
       "      <td>False</td>\n",
       "      <td>True</td>\n",
       "      <td>TX</td>\n",
       "      <td>TX</td>\n",
       "      <td>S</td>\n",
       "      <td>P</td>\n",
       "      <td>H</td>\n",
       "      <td>-1</td>\n",
       "      <td>R</td>\n",
       "      <td>R</td>\n",
       "      <td>-1</td>\n",
       "      <td>-1</td>\n",
       "      <td>-1</td>\n",
       "      <td>-1</td>\n",
       "      <td>-1</td>\n",
       "      <td>RCC</td>\n",
       "    </tr>\n",
       "    <tr>\n",
       "      <th>4</th>\n",
       "      <td>R</td>\n",
       "      <td>N</td>\n",
       "      <td>15OCT11:00:00:00</td>\n",
       "      <td>FRANKFORT</td>\n",
       "      <td>29JAN14:19:31:00</td>\n",
       "      <td>15OCT11:02:00:00</td>\n",
       "      <td>False</td>\n",
       "      <td>False</td>\n",
       "      <td>True</td>\n",
       "      <td>True</td>\n",
       "      <td>IL</td>\n",
       "      <td>IL</td>\n",
       "      <td>S</td>\n",
       "      <td>P</td>\n",
       "      <td>S</td>\n",
       "      <td>-1</td>\n",
       "      <td>R</td>\n",
       "      <td>U</td>\n",
       "      <td>O</td>\n",
       "      <td>-1</td>\n",
       "      <td>-1</td>\n",
       "      <td>-1</td>\n",
       "      <td>-1</td>\n",
       "      <td>BRANCH</td>\n",
       "    </tr>\n",
       "    <tr>\n",
       "      <th>5</th>\n",
       "      <td>R</td>\n",
       "      <td>C</td>\n",
       "      <td>06JUN12:00:00:00</td>\n",
       "      <td>SPRING</td>\n",
       "      <td>30JAN14:23:52:00</td>\n",
       "      <td>06JUN12:02:00:00</td>\n",
       "      <td>False</td>\n",
       "      <td>False</td>\n",
       "      <td>True</td>\n",
       "      <td>True</td>\n",
       "      <td>TX</td>\n",
       "      <td>ME</td>\n",
       "      <td>S</td>\n",
       "      <td>S</td>\n",
       "      <td>H</td>\n",
       "      <td>FE</td>\n",
       "      <td>U</td>\n",
       "      <td>R</td>\n",
       "      <td>R</td>\n",
       "      <td>-1</td>\n",
       "      <td>-1</td>\n",
       "      <td>-1</td>\n",
       "      <td>-1</td>\n",
       "      <td>IAPS</td>\n",
       "    </tr>\n",
       "  </tbody>\n",
       "</table>\n",
       "</div>"
      ],
      "text/plain": [
       "  VAR_0001 VAR_0005          VAR_0075       VAR_0200          VAR_0204  \\\n",
       "0        H        C  08NOV11:00:00:00  FT LAUDERDALE  29JAN14:21:16:00   \n",
       "1        H        B  10NOV11:00:00:00         SANTEE  01FEB14:00:11:00   \n",
       "2        H        C  13DEC11:00:00:00     REEDSVILLE  30JAN14:15:11:00   \n",
       "3        H        C  23SEP10:00:00:00        LIBERTY  01FEB14:00:07:00   \n",
       "4        R        N  15OCT11:00:00:00      FRANKFORT  29JAN14:19:31:00   \n",
       "5        R        C  06JUN12:00:00:00         SPRING  30JAN14:23:52:00   \n",
       "\n",
       "           VAR_0217 VAR_0226 VAR_0230 VAR_0232 VAR_0236 VAR_0237 VAR_0274  \\\n",
       "0  08NOV11:02:00:00    False    False     True     True       FL       FL   \n",
       "1  02OCT12:02:00:00    False    False    False     True       CA       MI   \n",
       "2  13DEC11:02:00:00    False    False     True     True       WV       WV   \n",
       "3  01NOV12:02:00:00    False    False    False     True       TX       TX   \n",
       "4  15OCT11:02:00:00    False    False     True     True       IL       IL   \n",
       "5  06JUN12:02:00:00    False    False     True     True       TX       ME   \n",
       "\n",
       "  VAR_0283 VAR_0305 VAR_0325 VAR_0342 VAR_0352 VAR_0353 VAR_0354  \\\n",
       "0        S        S       -1       CF        O        U        O   \n",
       "1        S        S        H       EC        O        R        R   \n",
       "2        S        P        R       UU        R        R       -1   \n",
       "3        S        P        H       -1        R        R       -1   \n",
       "4        S        P        S       -1        R        U        O   \n",
       "5        S        S        H       FE        U        R        R   \n",
       "\n",
       "                  VAR_0404 VAR_0466    VAR_0467  \\\n",
       "0  CHIEF EXECUTIVE OFFICER       -1          -1   \n",
       "1                       -1        I  Discharged   \n",
       "2                       -1       -1          -1   \n",
       "3                       -1       -1          -1   \n",
       "4                       -1       -1          -1   \n",
       "5                       -1       -1          -1   \n",
       "\n",
       "                        VAR_0493 VAR_1934  \n",
       "0  COMMUNITY ASSOCIATION MANAGER     IAPS  \n",
       "1                             -1     IAPS  \n",
       "2                             -1     IAPS  \n",
       "3                             -1      RCC  \n",
       "4                             -1   BRANCH  \n",
       "5                             -1     IAPS  "
      ]
     },
     "execution_count": 21,
     "metadata": {},
     "output_type": "execute_result"
    }
   ],
   "source": [
    "df_cat_cols_new = df.select_dtypes('category').columns\n",
    "df[df_cat_cols_new][:6]"
   ]
  },
  {
   "cell_type": "markdown",
   "metadata": {},
   "source": [
    "### **Data splitting**"
   ]
  },
  {
   "cell_type": "markdown",
   "metadata": {},
   "source": [
    "##### **A. Train - test data split**"
   ]
  },
  {
   "cell_type": "code",
   "execution_count": 22,
   "metadata": {},
   "outputs": [
    {
     "name": "stdout",
     "output_type": "stream",
     "text": [
      "Train dataset shape (X): (116142, 1857)\n",
      "Test dataset shape (X_test): (29036, 1857)\n"
     ]
    }
   ],
   "source": [
    "X, X_test, y, y_test = train_test_split(df.drop(columns=['ID', 'target'], axis=1),\n",
    "                                                    df['target'],\n",
    "                                                    test_size=0.2,\n",
    "                                                    random_state=42,\n",
    "                                                    stratify=df['target'])\n",
    "\n",
    "print(f'Train dataset shape (X): {X.shape}')\n",
    "print(f'Test dataset shape (X_test): {X_test.shape}')"
   ]
  },
  {
   "cell_type": "markdown",
   "metadata": {},
   "source": [
    "##### **B. Data folding**"
   ]
  },
  {
   "cell_type": "code",
   "execution_count": 23,
   "metadata": {},
   "outputs": [],
   "source": [
    "n_splits = 5\n",
    "skf = StratifiedKFold(n_splits=n_splits, shuffle=True, random_state=42)"
   ]
  },
  {
   "cell_type": "markdown",
   "metadata": {},
   "source": [
    "### **Model preparation**"
   ]
  },
  {
   "cell_type": "markdown",
   "metadata": {},
   "source": [
    "##### **A. Build pipeline**"
   ]
  },
  {
   "cell_type": "code",
   "execution_count": 24,
   "metadata": {},
   "outputs": [],
   "source": [
    "X_num_cols = X.select_dtypes(exclude='category').columns\n",
    "X_cat_cols = X.select_dtypes('category').columns"
   ]
  },
  {
   "cell_type": "code",
   "execution_count": 25,
   "metadata": {},
   "outputs": [],
   "source": [
    "preprocessor = ColumnTransformer(\n",
    "  transformers=[\n",
    "    # ('numeric', Pipeline([\n",
    "    #   ('imputer', SimpleImputer(strategy='mean')),\n",
    "    #   ('scaler', RobustScaler())\n",
    "    # ]), X_num_cols),\n",
    "    # ('categorical', Pipeline([\n",
    "    #   ('imputer', SimpleImputer(strategy='most_frequent')),\n",
    "    # ]), X_cat_cols),\n",
    "  ],\n",
    "  remainder='passthrough'\n",
    ")"
   ]
  },
  {
   "cell_type": "code",
   "execution_count": 28,
   "metadata": {},
   "outputs": [],
   "source": [
    "classifier = LGBMClassifier(objective='binary', metric='auc', n_jobs=-1)\n",
    "\n",
    "pipeline = Pipeline([\n",
    "    ('preprocessor', preprocessor),\n",
    "    ('classifier', classifier)\n",
    "])"
   ]
  },
  {
   "cell_type": "markdown",
   "metadata": {},
   "source": [
    "### **Model training**"
   ]
  },
  {
   "cell_type": "code",
   "execution_count": 29,
   "metadata": {},
   "outputs": [
    {
     "name": "stdout",
     "output_type": "stream",
     "text": [
      "[LightGBM] [Info] Number of positive: 21606, number of negative: 71307\n",
      "[LightGBM] [Info] Auto-choosing col-wise multi-threading, the overhead of testing was 1.219084 seconds.\n",
      "You can set `force_col_wise=true` to remove the overhead.\n",
      "[LightGBM] [Info] Total Bins 172333\n",
      "[LightGBM] [Info] Number of data points in the train set: 92913, number of used features: 1857\n",
      "[LightGBM] [Info] [binary:BoostFromScore]: pavg=0.232540 -> initscore=-1.194023\n",
      "[LightGBM] [Info] Start training from score -1.194023\n",
      "Fold 0 => AUC score: 0.74445365072058\n",
      "[LightGBM] [Warning] Categorical features with more bins than the configured maximum bin number found.\n",
      "[LightGBM] [Warning] For categorical features, max_bin and max_bin_by_feature may be ignored with a large number of categories.\n",
      "[LightGBM] [Info] Number of positive: 21606, number of negative: 71307\n",
      "[LightGBM] [Info] Auto-choosing col-wise multi-threading, the overhead of testing was 1.134707 seconds.\n",
      "You can set `force_col_wise=true` to remove the overhead.\n",
      "[LightGBM] [Info] Total Bins 174543\n",
      "[LightGBM] [Info] Number of data points in the train set: 92913, number of used features: 1857\n",
      "[LightGBM] [Info] [binary:BoostFromScore]: pavg=0.232540 -> initscore=-1.194023\n",
      "[LightGBM] [Info] Start training from score -1.194023\n",
      "Fold 1 => AUC score: 0.7400439042176871\n",
      "[LightGBM] [Warning] Categorical features with more bins than the configured maximum bin number found.\n",
      "[LightGBM] [Warning] For categorical features, max_bin and max_bin_by_feature may be ignored with a large number of categories.\n",
      "[LightGBM] [Info] Number of positive: 21607, number of negative: 71307\n",
      "[LightGBM] [Info] Auto-choosing col-wise multi-threading, the overhead of testing was 1.252723 seconds.\n",
      "You can set `force_col_wise=true` to remove the overhead.\n",
      "[LightGBM] [Info] Total Bins 174606\n",
      "[LightGBM] [Info] Number of data points in the train set: 92914, number of used features: 1857\n",
      "[LightGBM] [Info] [binary:BoostFromScore]: pavg=0.232548 -> initscore=-1.193977\n",
      "[LightGBM] [Info] Start training from score -1.193977\n",
      "Fold 2 => AUC score: 0.737848793336379\n",
      "[LightGBM] [Info] Number of positive: 21607, number of negative: 71307\n",
      "[LightGBM] [Info] Auto-choosing col-wise multi-threading, the overhead of testing was 1.161824 seconds.\n",
      "You can set `force_col_wise=true` to remove the overhead.\n",
      "[LightGBM] [Info] Total Bins 174873\n",
      "[LightGBM] [Info] Number of data points in the train set: 92914, number of used features: 1857\n",
      "[LightGBM] [Info] [binary:BoostFromScore]: pavg=0.232548 -> initscore=-1.193977\n",
      "[LightGBM] [Info] Start training from score -1.193977\n",
      "Fold 3 => AUC score: 0.738550698760029\n",
      "[LightGBM] [Warning] Categorical features with more bins than the configured maximum bin number found.\n",
      "[LightGBM] [Warning] For categorical features, max_bin and max_bin_by_feature may be ignored with a large number of categories.\n",
      "[LightGBM] [Info] Number of positive: 21606, number of negative: 71308\n",
      "[LightGBM] [Info] Auto-choosing col-wise multi-threading, the overhead of testing was 1.136226 seconds.\n",
      "You can set `force_col_wise=true` to remove the overhead.\n",
      "[LightGBM] [Info] Total Bins 174761\n",
      "[LightGBM] [Info] Number of data points in the train set: 92914, number of used features: 1857\n",
      "[LightGBM] [Info] [binary:BoostFromScore]: pavg=0.232538 -> initscore=-1.194037\n",
      "[LightGBM] [Info] Start training from score -1.194037\n",
      "Fold 4 => AUC score: 0.7424776251470828\n",
      "Mean AUC oof score: 0.7407\n"
     ]
    }
   ],
   "source": [
    "auc_scores = np.zeros(n_splits)\n",
    "\n",
    "for fold, (train_idx, valid_idx) in enumerate(skf.split(X, y)):\n",
    "  X_train, X_valid = X.iloc[train_idx], X.iloc[valid_idx]\n",
    "  y_train, y_valid = y.iloc[train_idx], y.iloc[valid_idx]\n",
    "  \n",
    "  classifier.fit(X_train, y_train)\n",
    "  \n",
    "  y_probs = classifier.predict_proba(X_valid)[:, 1]\n",
    "  \n",
    "  auc = roc_auc_score(y_valid, y_probs)\n",
    "  auc_scores[fold] = auc\n",
    "  \n",
    "  print(f'Fold {fold} => AUC score: {auc}')\n",
    "  \n",
    "mean_auc = np.mean(auc_scores)\n",
    "print(f'Mean AUC oof score: {mean_auc:.4f}')"
   ]
  }
 ],
 "metadata": {
  "kernelspec": {
   "display_name": "Python 3",
   "language": "python",
   "name": "python3"
  },
  "language_info": {
   "codemirror_mode": {
    "name": "ipython",
    "version": 3
   },
   "file_extension": ".py",
   "mimetype": "text/x-python",
   "name": "python",
   "nbconvert_exporter": "python",
   "pygments_lexer": "ipython3",
   "version": "3.12.0"
  }
 },
 "nbformat": 4,
 "nbformat_minor": 2
}
