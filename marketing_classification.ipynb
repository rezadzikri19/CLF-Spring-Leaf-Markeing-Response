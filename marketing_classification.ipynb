{
 "cells": [
  {
   "cell_type": "markdown",
   "metadata": {},
   "source": [
    "### **Import Libraries**"
   ]
  },
  {
   "cell_type": "code",
   "execution_count": 1,
   "metadata": {},
   "outputs": [
    {
     "name": "stderr",
     "output_type": "stream",
     "text": [
      "c:\\Users\\msi.pc\\AppData\\Local\\Programs\\Python\\Python312\\Lib\\site-packages\\tqdm\\auto.py:21: TqdmWarning: IProgress not found. Please update jupyter and ipywidgets. See https://ipywidgets.readthedocs.io/en/stable/user_install.html\n",
      "  from .autonotebook import tqdm as notebook_tqdm\n",
      "c:\\Users\\msi.pc\\AppData\\Local\\Programs\\Python\\Python312\\Lib\\site-packages\\fuzzywuzzy\\fuzz.py:11: UserWarning: Using slow pure-python SequenceMatcher. Install python-Levenshtein to remove this warning\n",
      "  warnings.warn('Using slow pure-python SequenceMatcher. Install python-Levenshtein to remove this warning')\n"
     ]
    }
   ],
   "source": [
    "import pandas as pd\n",
    "import numpy as np\n",
    "import gc\n",
    "import joblib\n",
    "\n",
    "import optuna\n",
    "from optuna.trial import Trial\n",
    "from optuna.study import Study\n",
    "\n",
    "from datetime import datetime\n",
    "from typing import List\n",
    "\n",
    "from fuzzywuzzy import fuzz\n",
    "from fuzzywuzzy import process\n",
    "\n",
    "import seaborn as sns\n",
    "import matplotlib.pyplot as plt\n",
    "\n",
    "from sklearn.base import BaseEstimator, TransformerMixin\n",
    "\n",
    "from sklearn.linear_model import LogisticRegression\n",
    "from sklearn.preprocessing import LabelEncoder, RobustScaler, OrdinalEncoder, StandardScaler\n",
    "from sklearn.metrics import roc_auc_score, roc_curve\n",
    "from sklearn.model_selection import train_test_split, StratifiedKFold, RepeatedStratifiedKFold\n",
    "from sklearn.pipeline import Pipeline\n",
    "from sklearn.compose import ColumnTransformer\n",
    "from sklearn.impute import SimpleImputer, KNNImputer\n",
    "from sklearn.ensemble import IsolationForest\n",
    "\n",
    "from imblearn.under_sampling import TomekLinks, RandomUnderSampler\n",
    "from imblearn.over_sampling import SMOTENC, RandomOverSampler\n",
    "\n",
    "import lightgbm as lgb\n",
    "from lightgbm import LGBMClassifier"
   ]
  },
  {
   "cell_type": "markdown",
   "metadata": {},
   "source": [
    "### **Settings**"
   ]
  },
  {
   "cell_type": "code",
   "execution_count": 2,
   "metadata": {},
   "outputs": [],
   "source": [
    "pd.set_option('display.max_columns', 50)\n",
    "pd.set_option('display.max_rows', 100)"
   ]
  },
  {
   "cell_type": "markdown",
   "metadata": {},
   "source": [
    "### **Load Dataset**"
   ]
  },
  {
   "cell_type": "code",
   "execution_count": 3,
   "metadata": {},
   "outputs": [
    {
     "name": "stderr",
     "output_type": "stream",
     "text": [
      "C:\\Users\\msi.pc\\AppData\\Local\\Temp\\ipykernel_11152\\2736376315.py:3: DtypeWarning: Columns (8,9,10,11,12,43,157,196,214,225,228,229,231,235,238) have mixed types. Specify dtype option on import or set low_memory=False.\n",
      "  df = pd.read_csv(train_path)\n"
     ]
    },
    {
     "data": {
      "text/html": [
       "<div>\n",
       "<style scoped>\n",
       "    .dataframe tbody tr th:only-of-type {\n",
       "        vertical-align: middle;\n",
       "    }\n",
       "\n",
       "    .dataframe tbody tr th {\n",
       "        vertical-align: top;\n",
       "    }\n",
       "\n",
       "    .dataframe thead th {\n",
       "        text-align: right;\n",
       "    }\n",
       "</style>\n",
       "<table border=\"1\" class=\"dataframe\">\n",
       "  <thead>\n",
       "    <tr style=\"text-align: right;\">\n",
       "      <th></th>\n",
       "      <th>ID</th>\n",
       "      <th>VAR_0001</th>\n",
       "      <th>VAR_0002</th>\n",
       "      <th>VAR_0003</th>\n",
       "      <th>VAR_0004</th>\n",
       "      <th>VAR_0005</th>\n",
       "      <th>VAR_0006</th>\n",
       "      <th>VAR_0007</th>\n",
       "      <th>VAR_0008</th>\n",
       "      <th>VAR_0009</th>\n",
       "      <th>VAR_0010</th>\n",
       "      <th>VAR_0011</th>\n",
       "      <th>VAR_0012</th>\n",
       "      <th>VAR_0013</th>\n",
       "      <th>VAR_0014</th>\n",
       "      <th>VAR_0015</th>\n",
       "      <th>VAR_0016</th>\n",
       "      <th>VAR_0017</th>\n",
       "      <th>VAR_0018</th>\n",
       "      <th>VAR_0019</th>\n",
       "      <th>VAR_0020</th>\n",
       "      <th>VAR_0021</th>\n",
       "      <th>VAR_0022</th>\n",
       "      <th>VAR_0023</th>\n",
       "      <th>VAR_0024</th>\n",
       "      <th>...</th>\n",
       "      <th>VAR_1911</th>\n",
       "      <th>VAR_1912</th>\n",
       "      <th>VAR_1913</th>\n",
       "      <th>VAR_1914</th>\n",
       "      <th>VAR_1915</th>\n",
       "      <th>VAR_1916</th>\n",
       "      <th>VAR_1917</th>\n",
       "      <th>VAR_1918</th>\n",
       "      <th>VAR_1919</th>\n",
       "      <th>VAR_1920</th>\n",
       "      <th>VAR_1921</th>\n",
       "      <th>VAR_1922</th>\n",
       "      <th>VAR_1923</th>\n",
       "      <th>VAR_1924</th>\n",
       "      <th>VAR_1925</th>\n",
       "      <th>VAR_1926</th>\n",
       "      <th>VAR_1927</th>\n",
       "      <th>VAR_1928</th>\n",
       "      <th>VAR_1929</th>\n",
       "      <th>VAR_1930</th>\n",
       "      <th>VAR_1931</th>\n",
       "      <th>VAR_1932</th>\n",
       "      <th>VAR_1933</th>\n",
       "      <th>VAR_1934</th>\n",
       "      <th>target</th>\n",
       "    </tr>\n",
       "  </thead>\n",
       "  <tbody>\n",
       "    <tr>\n",
       "      <th>0</th>\n",
       "      <td>2</td>\n",
       "      <td>H</td>\n",
       "      <td>224</td>\n",
       "      <td>0</td>\n",
       "      <td>4300</td>\n",
       "      <td>C</td>\n",
       "      <td>0.0</td>\n",
       "      <td>0.0</td>\n",
       "      <td>False</td>\n",
       "      <td>False</td>\n",
       "      <td>False</td>\n",
       "      <td>False</td>\n",
       "      <td>False</td>\n",
       "      <td>0.0</td>\n",
       "      <td>0.0</td>\n",
       "      <td>0.0</td>\n",
       "      <td>1.0</td>\n",
       "      <td>0.0</td>\n",
       "      <td>0.0</td>\n",
       "      <td>0.0</td>\n",
       "      <td>0.0</td>\n",
       "      <td>0.0</td>\n",
       "      <td>0.0</td>\n",
       "      <td>0.0</td>\n",
       "      <td>0.0</td>\n",
       "      <td>...</td>\n",
       "      <td>998</td>\n",
       "      <td>999999998</td>\n",
       "      <td>999999998</td>\n",
       "      <td>999999998</td>\n",
       "      <td>999999998</td>\n",
       "      <td>998</td>\n",
       "      <td>998</td>\n",
       "      <td>9998</td>\n",
       "      <td>9998</td>\n",
       "      <td>0</td>\n",
       "      <td>98</td>\n",
       "      <td>999999998</td>\n",
       "      <td>999999998</td>\n",
       "      <td>9998</td>\n",
       "      <td>0</td>\n",
       "      <td>98</td>\n",
       "      <td>98</td>\n",
       "      <td>998</td>\n",
       "      <td>999999998</td>\n",
       "      <td>998</td>\n",
       "      <td>998</td>\n",
       "      <td>9998</td>\n",
       "      <td>9998</td>\n",
       "      <td>IAPS</td>\n",
       "      <td>0</td>\n",
       "    </tr>\n",
       "    <tr>\n",
       "      <th>1</th>\n",
       "      <td>4</td>\n",
       "      <td>H</td>\n",
       "      <td>7</td>\n",
       "      <td>53</td>\n",
       "      <td>4448</td>\n",
       "      <td>B</td>\n",
       "      <td>1.0</td>\n",
       "      <td>0.0</td>\n",
       "      <td>False</td>\n",
       "      <td>False</td>\n",
       "      <td>False</td>\n",
       "      <td>False</td>\n",
       "      <td>False</td>\n",
       "      <td>1.0</td>\n",
       "      <td>0.0</td>\n",
       "      <td>1.0</td>\n",
       "      <td>2.0</td>\n",
       "      <td>1.0</td>\n",
       "      <td>0.0</td>\n",
       "      <td>0.0</td>\n",
       "      <td>0.0</td>\n",
       "      <td>0.0</td>\n",
       "      <td>0.0</td>\n",
       "      <td>0.0</td>\n",
       "      <td>0.0</td>\n",
       "      <td>...</td>\n",
       "      <td>0</td>\n",
       "      <td>6546</td>\n",
       "      <td>6546</td>\n",
       "      <td>6125</td>\n",
       "      <td>76</td>\n",
       "      <td>1</td>\n",
       "      <td>1</td>\n",
       "      <td>9996</td>\n",
       "      <td>111</td>\n",
       "      <td>0</td>\n",
       "      <td>98</td>\n",
       "      <td>999999998</td>\n",
       "      <td>999999998</td>\n",
       "      <td>9998</td>\n",
       "      <td>0</td>\n",
       "      <td>98</td>\n",
       "      <td>98</td>\n",
       "      <td>998</td>\n",
       "      <td>999999998</td>\n",
       "      <td>998</td>\n",
       "      <td>998</td>\n",
       "      <td>9998</td>\n",
       "      <td>9998</td>\n",
       "      <td>IAPS</td>\n",
       "      <td>0</td>\n",
       "    </tr>\n",
       "    <tr>\n",
       "      <th>2</th>\n",
       "      <td>5</td>\n",
       "      <td>H</td>\n",
       "      <td>116</td>\n",
       "      <td>3</td>\n",
       "      <td>3464</td>\n",
       "      <td>C</td>\n",
       "      <td>0.0</td>\n",
       "      <td>0.0</td>\n",
       "      <td>False</td>\n",
       "      <td>False</td>\n",
       "      <td>False</td>\n",
       "      <td>False</td>\n",
       "      <td>False</td>\n",
       "      <td>0.0</td>\n",
       "      <td>0.0</td>\n",
       "      <td>0.0</td>\n",
       "      <td>1.0</td>\n",
       "      <td>0.0</td>\n",
       "      <td>0.0</td>\n",
       "      <td>0.0</td>\n",
       "      <td>0.0</td>\n",
       "      <td>0.0</td>\n",
       "      <td>0.0</td>\n",
       "      <td>0.0</td>\n",
       "      <td>0.0</td>\n",
       "      <td>...</td>\n",
       "      <td>997</td>\n",
       "      <td>999999997</td>\n",
       "      <td>999999997</td>\n",
       "      <td>999999997</td>\n",
       "      <td>999999997</td>\n",
       "      <td>1</td>\n",
       "      <td>997</td>\n",
       "      <td>9996</td>\n",
       "      <td>113</td>\n",
       "      <td>0</td>\n",
       "      <td>98</td>\n",
       "      <td>999999998</td>\n",
       "      <td>999999998</td>\n",
       "      <td>9998</td>\n",
       "      <td>0</td>\n",
       "      <td>98</td>\n",
       "      <td>98</td>\n",
       "      <td>998</td>\n",
       "      <td>999999998</td>\n",
       "      <td>998</td>\n",
       "      <td>998</td>\n",
       "      <td>9998</td>\n",
       "      <td>9998</td>\n",
       "      <td>IAPS</td>\n",
       "      <td>0</td>\n",
       "    </tr>\n",
       "    <tr>\n",
       "      <th>3</th>\n",
       "      <td>7</td>\n",
       "      <td>H</td>\n",
       "      <td>240</td>\n",
       "      <td>300</td>\n",
       "      <td>3200</td>\n",
       "      <td>C</td>\n",
       "      <td>0.0</td>\n",
       "      <td>0.0</td>\n",
       "      <td>False</td>\n",
       "      <td>False</td>\n",
       "      <td>False</td>\n",
       "      <td>False</td>\n",
       "      <td>False</td>\n",
       "      <td>0.0</td>\n",
       "      <td>0.0</td>\n",
       "      <td>0.0</td>\n",
       "      <td>2.0</td>\n",
       "      <td>0.0</td>\n",
       "      <td>0.0</td>\n",
       "      <td>0.0</td>\n",
       "      <td>0.0</td>\n",
       "      <td>0.0</td>\n",
       "      <td>0.0</td>\n",
       "      <td>0.0</td>\n",
       "      <td>0.0</td>\n",
       "      <td>...</td>\n",
       "      <td>998</td>\n",
       "      <td>999999998</td>\n",
       "      <td>999999998</td>\n",
       "      <td>999999998</td>\n",
       "      <td>999999998</td>\n",
       "      <td>998</td>\n",
       "      <td>998</td>\n",
       "      <td>9998</td>\n",
       "      <td>9998</td>\n",
       "      <td>0</td>\n",
       "      <td>98</td>\n",
       "      <td>999999998</td>\n",
       "      <td>999999998</td>\n",
       "      <td>9998</td>\n",
       "      <td>0</td>\n",
       "      <td>98</td>\n",
       "      <td>98</td>\n",
       "      <td>998</td>\n",
       "      <td>999999998</td>\n",
       "      <td>998</td>\n",
       "      <td>998</td>\n",
       "      <td>9998</td>\n",
       "      <td>9998</td>\n",
       "      <td>RCC</td>\n",
       "      <td>0</td>\n",
       "    </tr>\n",
       "    <tr>\n",
       "      <th>4</th>\n",
       "      <td>8</td>\n",
       "      <td>R</td>\n",
       "      <td>72</td>\n",
       "      <td>261</td>\n",
       "      <td>2000</td>\n",
       "      <td>N</td>\n",
       "      <td>0.0</td>\n",
       "      <td>0.0</td>\n",
       "      <td>False</td>\n",
       "      <td>False</td>\n",
       "      <td>False</td>\n",
       "      <td>False</td>\n",
       "      <td>False</td>\n",
       "      <td>0.0</td>\n",
       "      <td>0.0</td>\n",
       "      <td>0.0</td>\n",
       "      <td>1.0</td>\n",
       "      <td>0.0</td>\n",
       "      <td>0.0</td>\n",
       "      <td>0.0</td>\n",
       "      <td>0.0</td>\n",
       "      <td>0.0</td>\n",
       "      <td>0.0</td>\n",
       "      <td>0.0</td>\n",
       "      <td>0.0</td>\n",
       "      <td>...</td>\n",
       "      <td>998</td>\n",
       "      <td>999999998</td>\n",
       "      <td>999999998</td>\n",
       "      <td>999999998</td>\n",
       "      <td>999999998</td>\n",
       "      <td>998</td>\n",
       "      <td>998</td>\n",
       "      <td>9998</td>\n",
       "      <td>9998</td>\n",
       "      <td>0</td>\n",
       "      <td>98</td>\n",
       "      <td>999999998</td>\n",
       "      <td>999999998</td>\n",
       "      <td>9998</td>\n",
       "      <td>0</td>\n",
       "      <td>98</td>\n",
       "      <td>98</td>\n",
       "      <td>998</td>\n",
       "      <td>999999998</td>\n",
       "      <td>998</td>\n",
       "      <td>998</td>\n",
       "      <td>9998</td>\n",
       "      <td>9998</td>\n",
       "      <td>BRANCH</td>\n",
       "      <td>1</td>\n",
       "    </tr>\n",
       "  </tbody>\n",
       "</table>\n",
       "<p>5 rows × 1934 columns</p>\n",
       "</div>"
      ],
      "text/plain": [
       "   ID VAR_0001  VAR_0002  VAR_0003  VAR_0004 VAR_0005  VAR_0006  VAR_0007  \\\n",
       "0   2        H       224         0      4300        C       0.0       0.0   \n",
       "1   4        H         7        53      4448        B       1.0       0.0   \n",
       "2   5        H       116         3      3464        C       0.0       0.0   \n",
       "3   7        H       240       300      3200        C       0.0       0.0   \n",
       "4   8        R        72       261      2000        N       0.0       0.0   \n",
       "\n",
       "  VAR_0008 VAR_0009 VAR_0010 VAR_0011 VAR_0012  VAR_0013  VAR_0014  VAR_0015  \\\n",
       "0    False    False    False    False    False       0.0       0.0       0.0   \n",
       "1    False    False    False    False    False       1.0       0.0       1.0   \n",
       "2    False    False    False    False    False       0.0       0.0       0.0   \n",
       "3    False    False    False    False    False       0.0       0.0       0.0   \n",
       "4    False    False    False    False    False       0.0       0.0       0.0   \n",
       "\n",
       "   VAR_0016  VAR_0017  VAR_0018  VAR_0019  VAR_0020  VAR_0021  VAR_0022  \\\n",
       "0       1.0       0.0       0.0       0.0       0.0       0.0       0.0   \n",
       "1       2.0       1.0       0.0       0.0       0.0       0.0       0.0   \n",
       "2       1.0       0.0       0.0       0.0       0.0       0.0       0.0   \n",
       "3       2.0       0.0       0.0       0.0       0.0       0.0       0.0   \n",
       "4       1.0       0.0       0.0       0.0       0.0       0.0       0.0   \n",
       "\n",
       "   VAR_0023  VAR_0024  ...  VAR_1911   VAR_1912   VAR_1913   VAR_1914  \\\n",
       "0       0.0       0.0  ...       998  999999998  999999998  999999998   \n",
       "1       0.0       0.0  ...         0       6546       6546       6125   \n",
       "2       0.0       0.0  ...       997  999999997  999999997  999999997   \n",
       "3       0.0       0.0  ...       998  999999998  999999998  999999998   \n",
       "4       0.0       0.0  ...       998  999999998  999999998  999999998   \n",
       "\n",
       "    VAR_1915  VAR_1916  VAR_1917  VAR_1918  VAR_1919  VAR_1920  VAR_1921  \\\n",
       "0  999999998       998       998      9998      9998         0        98   \n",
       "1         76         1         1      9996       111         0        98   \n",
       "2  999999997         1       997      9996       113         0        98   \n",
       "3  999999998       998       998      9998      9998         0        98   \n",
       "4  999999998       998       998      9998      9998         0        98   \n",
       "\n",
       "    VAR_1922   VAR_1923  VAR_1924  VAR_1925  VAR_1926  VAR_1927  VAR_1928  \\\n",
       "0  999999998  999999998      9998         0        98        98       998   \n",
       "1  999999998  999999998      9998         0        98        98       998   \n",
       "2  999999998  999999998      9998         0        98        98       998   \n",
       "3  999999998  999999998      9998         0        98        98       998   \n",
       "4  999999998  999999998      9998         0        98        98       998   \n",
       "\n",
       "    VAR_1929 VAR_1930  VAR_1931  VAR_1932  VAR_1933  VAR_1934  target  \n",
       "0  999999998      998       998      9998      9998      IAPS       0  \n",
       "1  999999998      998       998      9998      9998      IAPS       0  \n",
       "2  999999998      998       998      9998      9998      IAPS       0  \n",
       "3  999999998      998       998      9998      9998       RCC       0  \n",
       "4  999999998      998       998      9998      9998    BRANCH       1  \n",
       "\n",
       "[5 rows x 1934 columns]"
      ]
     },
     "execution_count": 3,
     "metadata": {},
     "output_type": "execute_result"
    }
   ],
   "source": [
    "train_path = r'D:\\Project\\Python\\Portfolio\\Big Data\\[Bottleneck] CLS - Spring Leaf Markeing Response\\data\\train.csv'\n",
    "\n",
    "df = pd.read_csv(train_path)\n",
    "df.head()"
   ]
  },
  {
   "cell_type": "code",
   "execution_count": 4,
   "metadata": {},
   "outputs": [
    {
     "name": "stdout",
     "output_type": "stream",
     "text": [
      "Dataset shape: (145231, 1934)\n"
     ]
    }
   ],
   "source": [
    "print(f'Dataset shape: {df.shape}')"
   ]
  },
  {
   "cell_type": "code",
   "execution_count": 5,
   "metadata": {},
   "outputs": [
    {
     "name": "stdout",
     "output_type": "stream",
     "text": [
      "<class 'pandas.core.frame.DataFrame'>\n",
      "RangeIndex: 145231 entries, 0 to 145230\n",
      "Columns: 1934 entries, ID to target\n",
      "dtypes: float64(477), int64(1406), object(51)\n",
      "memory usage: 2.3 GB\n"
     ]
    }
   ],
   "source": [
    "df.info(memory_usage='deep')"
   ]
  },
  {
   "cell_type": "code",
   "execution_count": 6,
   "metadata": {},
   "outputs": [],
   "source": [
    "def is_convertable_sr(col: pd.Series) -> bool:\n",
    "  if col.dtype == np.int64 and\\\n",
    "      col.max() <= np.iinfo(np.int32).max and\\\n",
    "      col.min() >= np.iinfo(np.int32).min: return True\n",
    "  \n",
    "  if col.dtype == np.float64 and\\\n",
    "      col.max() <= np.finfo(np.float32).max and\\\n",
    "      col.min() >= np.finfo(np.float32).min: return True\n",
    "  \n",
    "  if np.isnan(col.max()): return True\n",
    "\n",
    "  return False\n",
    "\n",
    "def save_memory_df(df_origin: pd.DataFrame) -> pd.DataFrame:\n",
    "  int_cols = df_origin.select_dtypes(np.int64).columns\n",
    "  float_cols = df_origin.select_dtypes(np.float64).columns\n",
    "  \n",
    "  int_cols = [col for col in int_cols if is_convertable_sr(df_origin[col])]\n",
    "  float_cols = [col for col in float_cols if is_convertable_sr(df_origin[col])]\n",
    "  \n",
    "  int_cols = {col: np.int32 for col in int_cols}\n",
    "  float_cols = {col: np.float32 for col in float_cols}\n",
    "\n",
    "  df_origin = df_origin.astype(int_cols)\n",
    "  df_origin = df_origin.astype(float_cols)\n",
    "  \n",
    "  return df_origin\n",
    "\n",
    "def save_memory_sr(sr_origin: pd.Series) -> pd.Series:\n",
    "  if sr_origin.dtype == np.int64 and is_convertable_sr(sr_origin): sr_origin.astype(np.int32)\n",
    "  if sr_origin.dtype == np.float64 and is_convertable_sr(sr_origin): sr_origin.astype(np.float32)\n",
    "  \n",
    "  return sr_origin\n",
    "\n",
    "df = save_memory_df(df)"
   ]
  },
  {
   "cell_type": "code",
   "execution_count": 7,
   "metadata": {},
   "outputs": [
    {
     "name": "stdout",
     "output_type": "stream",
     "text": [
      "<class 'pandas.core.frame.DataFrame'>\n",
      "RangeIndex: 145231 entries, 0 to 145230\n",
      "Columns: 1934 entries, ID to target\n",
      "dtypes: float32(477), int32(1406), object(51)\n",
      "memory usage: 1.3 GB\n"
     ]
    }
   ],
   "source": [
    "df.info(memory_usage='deep')"
   ]
  },
  {
   "cell_type": "markdown",
   "metadata": {},
   "source": [
    "### **EDA**"
   ]
  },
  {
   "cell_type": "markdown",
   "metadata": {},
   "source": [
    "##### **A. Target value**"
   ]
  },
  {
   "cell_type": "code",
   "execution_count": 8,
   "metadata": {},
   "outputs": [
    {
     "name": "stdout",
     "output_type": "stream",
     "text": [
      "Ratio of target (1 and 0): 3.300210227104492\n"
     ]
    },
    {
     "data": {
      "image/png": "[encoded data removed]",
      "text/plain": [
       "<Figure size 400x400 with 1 Axes>"
      ]
     },
     "metadata": {},
     "output_type": "display_data"
    }
   ],
   "source": [
    "target_dist = df['target'].value_counts().sort_values(ascending=False)\n",
    "target_dist.plot(kind='bar',\n",
    "                 figsize=(4, 4),\n",
    "                 title='Target Value Count',\n",
    "                 xlabel='Target',\n",
    "                 ylabel='Count')\n",
    "\n",
    "mayor_minor_ratio = target_dist[0] / target_dist[1]\n",
    "print(f'Ratio of target (1 and 0): {mayor_minor_ratio}')"
   ]
  },
  {
   "cell_type": "markdown",
   "metadata": {},
   "source": [
    "##### **B. Missing value - column**"
   ]
  },
  {
   "cell_type": "code",
   "execution_count": 9,
   "metadata": {},
   "outputs": [
    {
     "data": {
      "text/plain": [
       "<Axes: title={'center': 'Top 50 of % of Missing Value vs Feature'}, xlabel='Feature', ylabel='% of Missing Value'>"
      ]
     },
     "execution_count": 9,
     "metadata": {},
     "output_type": "execute_result"
    },
    {
     "data": {
      "image/png": "[encoded data removed]",
      "text/plain": [
       "<Figure size 1500x300 with 1 Axes>"
      ]
     },
     "metadata": {},
     "output_type": "display_data"
    }
   ],
   "source": [
    "df_cols_null = df.isna().mean().sort_values(ascending=False).drop('target')\n",
    "\n",
    "df_cols_null[:51].plot(kind='bar',\n",
    "                       figsize=(15, 3),\n",
    "                       title=r'Top 50 of % of Missing Value vs Feature',\n",
    "                       xlabel='Feature',\n",
    "                       ylabel=r'% of Missing Value')"
   ]
  },
  {
   "cell_type": "code",
   "execution_count": 10,
   "metadata": {},
   "outputs": [
    {
     "name": "stdout",
     "output_type": "stream",
     "text": [
      "Numbers of feature(s): 24\n",
      "Features: ['VAR_0207', 'VAR_0213', 'VAR_0840', 'VAR_0214', 'VAR_0157', 'VAR_0158', 'VAR_0205', 'VAR_0206', 'VAR_0167', 'VAR_0177', 'VAR_0156', 'VAR_0159', 'VAR_0209', 'VAR_0168', 'VAR_0178', 'VAR_0166', 'VAR_0169', 'VAR_0179', 'VAR_0176', 'VAR_0211', 'VAR_0210', 'VAR_0208', 'VAR_0073', 'VAR_0074']\n"
     ]
    }
   ],
   "source": [
    "df_cols_null_70p = df_cols_null[df_cols_null > 0.69]\n",
    "df_cols_null_70p = df_cols_null_70p.index.to_list()\n",
    "\n",
    "print(f'Numbers of feature(s): {len(df_cols_null_70p)}\\nFeatures: {df_cols_null_70p}')"
   ]
  },
  {
   "cell_type": "markdown",
   "metadata": {},
   "source": [
    "##### **C. Single unique value feature**"
   ]
  },
  {
   "cell_type": "code",
   "execution_count": 11,
   "metadata": {},
   "outputs": [
    {
     "name": "stdout",
     "output_type": "stream",
     "text": [
      "Numbers of numerical feature(s): 1883\n",
      "Numbers of categorical feature(s): 51\n"
     ]
    }
   ],
   "source": [
    "df_num_cols = df.select_dtypes(exclude='object').columns\n",
    "df_cat_cols = df.select_dtypes('object').columns\n",
    "\n",
    "print(f'Numbers of numerical feature(s): {len(df_num_cols)}')\n",
    "print(f'Numbers of categorical feature(s): {len(df_cat_cols)}')"
   ]
  },
  {
   "cell_type": "code",
   "execution_count": 12,
   "metadata": {},
   "outputs": [
    {
     "data": {
      "text/plain": [
       "<Axes: title={'center': 'Bottom 50 of Numbers of Unique Value(s) vs Feature'}, xlabel='Feature', ylabel='Numbers of Unique Value(s)'>"
      ]
     },
     "execution_count": 12,
     "metadata": {},
     "output_type": "execute_result"
    },
    {
     "data": {
      "image/png": "[encoded data removed]",
      "text/plain": [
       "<Figure size 1500x300 with 1 Axes>"
      ]
     },
     "metadata": {},
     "output_type": "display_data"
    }
   ],
   "source": [
    "df_num_cols_low_var = df[df_num_cols].nunique().sort_values()\n",
    "df_num_cols_low_var = df_num_cols_low_var[df_num_cols_low_var > 0][:51]\n",
    "df_num_cols_low_var.plot(kind='bar',\n",
    "                       figsize=(15, 3),\n",
    "                       title=r'Bottom 50 of Numbers of Unique Value(s) vs Feature',\n",
    "                       xlabel='Feature',\n",
    "                       ylabel='Numbers of Unique Value(s)')"
   ]
  },
  {
   "cell_type": "code",
   "execution_count": 13,
   "metadata": {},
   "outputs": [
    {
     "name": "stdout",
     "output_type": "stream",
     "text": [
      "Numbers of feature(s): 38\n",
      "Features: ['VAR_0042', 'VAR_1428', 'VAR_0847', 'VAR_0446', 'VAR_0038', 'VAR_0039', 'VAR_0040', 'VAR_0041', 'VAR_0188', 'VAR_0189', 'VAR_0190', 'VAR_0197', 'VAR_0223', 'VAR_0199', 'VAR_0221', 'VAR_0203', 'VAR_0394', 'VAR_0031', 'VAR_0030', 'VAR_0032', 'VAR_0028', 'VAR_0528', 'VAR_0438', 'VAR_0530', 'VAR_0527', 'VAR_0246', 'VAR_0029', 'VAR_0018', 'VAR_0019', 'VAR_0215', 'VAR_0021', 'VAR_0022', 'VAR_0027', 'VAR_0026', 'VAR_0025', 'VAR_0023', 'VAR_0024', 'VAR_0020']\n"
     ]
    }
   ],
   "source": [
    "df_num_cols_single = df_num_cols_low_var[df_num_cols_low_var == 1]\n",
    "df_num_cols_single = df_num_cols_single.index.to_list()\n",
    "\n",
    "print(f'Numbers of feature(s): {len(df_num_cols_single)}\\nFeatures: {df_num_cols_single}')"
   ]
  },
  {
   "cell_type": "code",
   "execution_count": 14,
   "metadata": {},
   "outputs": [
    {
     "data": {
      "text/plain": [
       "<Axes: title={'center': 'Bottom of Numbers of Unique Value(s) vs Feature'}, xlabel='Feature', ylabel='Numbers of Unique Value(s)'>"
      ]
     },
     "execution_count": 14,
     "metadata": {},
     "output_type": "execute_result"
    },
    {
     "data": {
      "image/png": "[encoded data removed]",
      "text/plain": [
       "<Figure size 1500x300 with 1 Axes>"
      ]
     },
     "metadata": {},
     "output_type": "display_data"
    }
   ],
   "source": [
    "df_cat_cols_low_var = df[df_cat_cols].nunique().sort_values()\n",
    "df_cat_cols_low_var = df_cat_cols_low_var[df_cat_cols_low_var > 0][:51]\n",
    "df_cat_cols_low_var.plot(kind='bar',\n",
    "                       figsize=(15, 3),\n",
    "                       title=r'Bottom of Numbers of Unique Value(s) vs Feature',\n",
    "                       xlabel='Feature',\n",
    "                       ylabel='Numbers of Unique Value(s)')"
   ]
  },
  {
   "cell_type": "code",
   "execution_count": 15,
   "metadata": {},
   "outputs": [
    {
     "name": "stdout",
     "output_type": "stream",
     "text": [
      "Numbers of feature(s): 13\n",
      "Features: ['VAR_0202', 'VAR_0222', 'VAR_0229', 'VAR_0239', 'VAR_0216', 'VAR_0043', 'VAR_0044', 'VAR_0011', 'VAR_0010', 'VAR_0009', 'VAR_0008', 'VAR_0012', 'VAR_0196']\n"
     ]
    }
   ],
   "source": [
    "df_cat_cols_single = df_cat_cols_low_var[df_cat_cols_low_var == 1]\n",
    "df_cat_cols_single = df_cat_cols_single.index.to_list()\n",
    "\n",
    "print(f'Numbers of feature(s): {len(df_cat_cols_single)}\\nFeatures: {df_cat_cols_single}')"
   ]
  },
  {
   "cell_type": "markdown",
   "metadata": {},
   "source": [
    "##### **D. Missing Value (rows)**"
   ]
  },
  {
   "cell_type": "code",
   "execution_count": 16,
   "metadata": {},
   "outputs": [
    {
     "name": "stdout",
     "output_type": "stream",
     "text": [
      "Threshold for missing features: 0.2005164186709449\n",
      "\n",
      "Instance(s):\n",
      "9855      0.271458\n",
      "11910     0.271458\n",
      "13018     0.271458\n",
      "13447     0.271458\n",
      "16524     0.271458\n",
      "17461     0.271458\n",
      "20511     0.271458\n",
      "25658     0.271458\n",
      "27429     0.271458\n",
      "33001     0.271458\n",
      "36093     0.271458\n",
      "36534     0.271458\n",
      "40061     0.271458\n",
      "40317     0.271458\n",
      "40848     0.271458\n",
      "41185     0.271458\n",
      "43410     0.271458\n",
      "43629     0.271458\n",
      "45875     0.271458\n",
      "55156     0.271458\n",
      "56206     0.271458\n",
      "57191     0.271458\n",
      "58586     0.271458\n",
      "60229     0.271458\n",
      "62100     0.271458\n",
      "62455     0.271458\n",
      "65682     0.271458\n",
      "66061     0.271458\n",
      "70000     0.271458\n",
      "79003     0.271458\n",
      "79268     0.271458\n",
      "84358     0.271458\n",
      "85066     0.271458\n",
      "87829     0.271458\n",
      "88207     0.271458\n",
      "91939     0.271458\n",
      "94705     0.271458\n",
      "94729     0.271458\n",
      "96148     0.271458\n",
      "97962     0.271458\n",
      "105196    0.271458\n",
      "112029    0.271458\n",
      "115558    0.271458\n",
      "117069    0.271458\n",
      "122319    0.271458\n",
      "122527    0.271458\n",
      "124410    0.271458\n",
      "133942    0.271458\n",
      "135973    0.271458\n",
      "138754    0.271458\n",
      "139295    0.271458\n",
      "143274    0.271458\n",
      "143915    0.271458\n",
      "dtype: float64\n",
      "\n",
      "Instance(s) target distribution: \n",
      "target\n",
      "0    40\n",
      "1    13\n",
      "Name: count, dtype: int64\n",
      "\n"
     ]
    }
   ],
   "source": [
    "cols = df_cols_null_70p + df_num_cols_single + df_cat_cols_single\n",
    "threshold_null = 0.2 + len(cols)/len(df)\n",
    "\n",
    "row_null_count = df.isnull().mean(axis=1)\n",
    "row_null_count = row_null_count[row_null_count > threshold_null]\n",
    "df_row_null = row_null_count.index.to_list()\n",
    "\n",
    "dr_row_null_target_dist = df.iloc[df_row_null]['target'].value_counts()\n",
    "\n",
    "print(f'Threshold for missing features: {threshold_null}\\n')\n",
    "print(f'Instance(s):\\n{row_null_count}\\n')\n",
    "print(f'Instance(s) target distribution: \\n{dr_row_null_target_dist}\\n')"
   ]
  },
  {
   "cell_type": "markdown",
   "metadata": {},
   "source": [
    "# **Approach 1 (Baseline)**"
   ]
  },
  {
   "cell_type": "markdown",
   "metadata": {},
   "source": [
    "### **Feature engineering**"
   ]
  },
  {
   "cell_type": "code",
   "execution_count": 17,
   "metadata": {
    "tags": []
   },
   "outputs": [
    {
     "name": "stdout",
     "output_type": "stream",
     "text": [
      "Couldn't find program: 'skipped'\n"
     ]
    }
   ],
   "source": [
    "%%script skipped # Skipped for resource optimization\n",
    "\n",
    "def convert_str2cat(df_origin: pd.DataFrame) -> pd.DataFrame:\n",
    "  cat_cols = df_origin.select_dtypes('object').columns\n",
    "  \n",
    "  cat_cols = {col: 'category' for col in cat_cols}\n",
    "  df_origin = df_origin.astype(cat_cols)\n",
    "  \n",
    "  return df_origin\n",
    "\n",
    "df = convert_str2cat(df)"
   ]
  },
  {
   "cell_type": "markdown",
   "metadata": {},
   "source": [
    "### **Data splitting**"
   ]
  },
  {
   "cell_type": "markdown",
   "metadata": {},
   "source": [
    "##### **A. Train - test data split**"
   ]
  },
  {
   "cell_type": "code",
   "execution_count": 18,
   "metadata": {},
   "outputs": [
    {
     "name": "stdout",
     "output_type": "stream",
     "text": [
      "Couldn't find program: 'skipped'\n"
     ]
    }
   ],
   "source": [
    "%%script skipped # Skipped for resource optimization\n",
    "\n",
    "X, X_test, y, y_test = train_test_split(df.drop(columns=['ID', 'target'], axis=1),\n",
    "                                                    df['target'],\n",
    "                                                    test_size=0.2,\n",
    "                                                    random_state=42,\n",
    "                                                    stratify=df['target'])\n",
    "\n",
    "print(f'Train dataset shape (X): {X.shape}')\n",
    "print(f'Test dataset shape (X_test): {X_test.shape}')"
   ]
  },
  {
   "cell_type": "markdown",
   "metadata": {},
   "source": [
    "##### **B. Data folding**"
   ]
  },
  {
   "cell_type": "code",
   "execution_count": 19,
   "metadata": {},
   "outputs": [
    {
     "name": "stdout",
     "output_type": "stream",
     "text": [
      "Couldn't find program: 'skipped'\n"
     ]
    }
   ],
   "source": [
    "%%script skipped # Skipped for resource optimization\n",
    "\n",
    "n_splits = 10\n",
    "skf = StratifiedKFold(n_splits=n_splits, shuffle=True, random_state=42)"
   ]
  },
  {
   "cell_type": "markdown",
   "metadata": {},
   "source": [
    "### **Model preparation**"
   ]
  },
  {
   "cell_type": "code",
   "execution_count": 20,
   "metadata": {},
   "outputs": [
    {
     "name": "stdout",
     "output_type": "stream",
     "text": [
      "Couldn't find program: 'skipped'\n"
     ]
    }
   ],
   "source": [
    "%%script skipped # Skipped for resource optimization\n",
    "\n",
    "classifier = LGBMClassifier(objective='binary', metric='auc', n_jobs=4)"
   ]
  },
  {
   "cell_type": "markdown",
   "metadata": {},
   "source": [
    "### **Model training**"
   ]
  },
  {
   "cell_type": "code",
   "execution_count": 21,
   "metadata": {},
   "outputs": [
    {
     "name": "stdout",
     "output_type": "stream",
     "text": [
      "Couldn't find program: 'skipped'\n"
     ]
    }
   ],
   "source": [
    "%%script skipped # Skipped for resource optimization\n",
    "\n",
    "X_num_cols = X.select_dtypes(exclude='category').columns\n",
    "X_cat_cols = X.select_dtypes('category').columns"
   ]
  },
  {
   "cell_type": "code",
   "execution_count": 22,
   "metadata": {},
   "outputs": [
    {
     "name": "stdout",
     "output_type": "stream",
     "text": [
      "Couldn't find program: 'skipped'\n"
     ]
    }
   ],
   "source": [
    "%%script skipped # Skipped for resource optimization\n",
    "\n",
    "auc_scores = np.zeros(n_splits)\n",
    "\n",
    "for fold, (train_idx, valid_idx) in enumerate(skf.split(X, y)):\n",
    "  X_train, X_valid = X.iloc[train_idx], X.iloc[valid_idx]\n",
    "  y_train, y_valid = y.iloc[train_idx], y.iloc[valid_idx]\n",
    "    \n",
    "  classifier.fit(X_train, y_train, categorical_feature=X_cat_cols.to_list())\n",
    "  \n",
    "  y_probs = classifier.predict_proba(X_valid)[:, 1]\n",
    "  \n",
    "  auc = roc_auc_score(y_valid, y_probs)\n",
    "  auc_scores[fold] = auc\n",
    "  \n",
    "  print(f'Fold {fold} => AUC score: {auc}')\n",
    "  \n",
    "mean_auc = np.mean(auc_scores)\n",
    "print(f'Mean AUC oof score: {mean_auc:.4f}')"
   ]
  },
  {
   "cell_type": "code",
   "execution_count": 23,
   "metadata": {},
   "outputs": [
    {
     "name": "stdout",
     "output_type": "stream",
     "text": [
      "Couldn't find program: 'skipped'\n"
     ]
    }
   ],
   "source": [
    "%%script skipped # Skipped for resource optimization\n",
    "\n",
    "df_feat_imp = pd.DataFrame({'Feature': classifier.feature_name_, 'Importance': classifier.feature_importances_})\n",
    "df_feat_imp = df_feat_imp.sort_values(by='Importance', ascending=False)\n",
    "df_feat_imp[:50].plot(kind='bar',\n",
    "                      x='Feature',\n",
    "                      y='Importance',\n",
    "                      title=f'Feature Importance LGBM default (AUC = {mean_auc:.4f})',\n",
    "                      xlabel='Feature',\n",
    "                      ylabel='Feature Importance',\n",
    "                      figsize=(15, 3))"
   ]
  },
  {
   "cell_type": "code",
   "execution_count": 24,
   "metadata": {},
   "outputs": [
    {
     "name": "stdout",
     "output_type": "stream",
     "text": [
      "Couldn't find program: 'skipped'\n"
     ]
    }
   ],
   "source": [
    "%%script skipped # Skipped for resource optimization\n",
    "\n",
    "top_feat_50 = df[df_feat_imp[:50]['Feature']]\n",
    "top_feat_50.head()"
   ]
  },
  {
   "cell_type": "code",
   "execution_count": 25,
   "metadata": {},
   "outputs": [
    {
     "name": "stdout",
     "output_type": "stream",
     "text": [
      "Couldn't find program: 'skipped'\n"
     ]
    }
   ],
   "source": [
    "%%script skipped # Skipped for resource optimization\n",
    "\n",
    "cat_feat = top_feat_50.select_dtypes('category').columns\n",
    "num_feat = top_feat_50.select_dtypes(exclude='category').columns\n",
    "\n",
    "print(f'Numbers of categorical feature(s): {len(cat_feat)}')\n",
    "print(f'Numbers of numerical feature(s): {len(num_feat)}')"
   ]
  },
  {
   "cell_type": "code",
   "execution_count": 26,
   "metadata": {},
   "outputs": [
    {
     "name": "stdout",
     "output_type": "stream",
     "text": [
      "Couldn't find program: 'skipped'\n"
     ]
    }
   ],
   "source": [
    "%%script skipped # Skipped for resource optimization\n",
    "\n",
    "del df, X, X_test, y, y_train, n_splits, skf, classifier, X_num_cols, X_cat_cols, auc_scores, mean_auc, feature_importance_df, top_feat_50, cat_feat, num_feat\n",
    "gc.collect()"
   ]
  },
  {
   "cell_type": "markdown",
   "metadata": {},
   "source": [
    "# **Approach 2**\n",
    "Treat missing value as missing and perform imputation to fill the value."
   ]
  },
  {
   "cell_type": "code",
   "execution_count": 27,
   "metadata": {},
   "outputs": [
    {
     "name": "stdout",
     "output_type": "stream",
     "text": [
      "Couldn't find program: 'skipped'\n"
     ]
    }
   ],
   "source": [
    "%%script skipped # Skipped for resource optimization\n",
    "\n",
    "df = pd.read_csv(train_path)\n",
    "df = save_memory_df(df)\n",
    "\n",
    "df.info(memory_usage='deep')"
   ]
  },
  {
   "cell_type": "markdown",
   "metadata": {},
   "source": [
    "### **Feature Engineering**"
   ]
  },
  {
   "cell_type": "markdown",
   "metadata": {},
   "source": [
    "##### **A. Drop columns**"
   ]
  },
  {
   "cell_type": "code",
   "execution_count": 28,
   "metadata": {},
   "outputs": [
    {
     "name": "stdout",
     "output_type": "stream",
     "text": [
      "Total dropped columns: 75\n",
      "Dataset shape: (145231, 1859)\n"
     ]
    }
   ],
   "source": [
    "columns_to_drop = set(df_cols_null_70p + df_num_cols_single + df_cat_cols_single)\n",
    "df.drop(columns=columns_to_drop, inplace=True)\n",
    "\n",
    "print(f'Total dropped columns: {len(columns_to_drop)}')\n",
    "print(f'Dataset shape: {df.shape}')"
   ]
  },
  {
   "cell_type": "markdown",
   "metadata": {},
   "source": [
    "##### **B. Drop duplicates**"
   ]
  },
  {
   "cell_type": "code",
   "execution_count": 29,
   "metadata": {},
   "outputs": [
    {
     "name": "stdout",
     "output_type": "stream",
     "text": [
      "Numbers of duplicated in dataset: 0\n"
     ]
    }
   ],
   "source": [
    "df_duplicates = df.duplicated()\n",
    "df.drop_duplicates(inplace=True, keep='first')\n",
    "\n",
    "print(f'Numbers of duplicated in dataset: {df_duplicates.sum()}')"
   ]
  },
  {
   "cell_type": "markdown",
   "metadata": {},
   "source": [
    "##### **C. Drop rows**"
   ]
  },
  {
   "cell_type": "code",
   "execution_count": 30,
   "metadata": {},
   "outputs": [
    {
     "name": "stdout",
     "output_type": "stream",
     "text": [
      "Total dropped rows: 53\n",
      "Dataset shape: (145178, 1859)\n"
     ]
    }
   ],
   "source": [
    "rows_to_drop = df_row_null\n",
    "df.drop(index=rows_to_drop, axis=0, inplace=True)\n",
    "\n",
    "print(f'Total dropped rows: {len(rows_to_drop)}')\n",
    "print(f'Dataset shape: {df.shape}')"
   ]
  },
  {
   "cell_type": "markdown",
   "metadata": {},
   "source": [
    "##### **D. Categorical data**"
   ]
  },
  {
   "cell_type": "code",
   "execution_count": 31,
   "metadata": {},
   "outputs": [
    {
     "data": {
      "text/html": [
       "<div>\n",
       "<style scoped>\n",
       "    .dataframe tbody tr th:only-of-type {\n",
       "        vertical-align: middle;\n",
       "    }\n",
       "\n",
       "    .dataframe tbody tr th {\n",
       "        vertical-align: top;\n",
       "    }\n",
       "\n",
       "    .dataframe thead th {\n",
       "        text-align: right;\n",
       "    }\n",
       "</style>\n",
       "<table border=\"1\" class=\"dataframe\">\n",
       "  <thead>\n",
       "    <tr style=\"text-align: right;\">\n",
       "      <th></th>\n",
       "      <th>VAR_0001</th>\n",
       "      <th>VAR_0005</th>\n",
       "      <th>VAR_0075</th>\n",
       "      <th>VAR_0200</th>\n",
       "      <th>VAR_0204</th>\n",
       "      <th>VAR_0217</th>\n",
       "      <th>VAR_0226</th>\n",
       "      <th>VAR_0230</th>\n",
       "      <th>VAR_0232</th>\n",
       "      <th>VAR_0236</th>\n",
       "      <th>VAR_0237</th>\n",
       "      <th>VAR_0274</th>\n",
       "      <th>VAR_0283</th>\n",
       "      <th>VAR_0305</th>\n",
       "      <th>VAR_0325</th>\n",
       "      <th>VAR_0342</th>\n",
       "      <th>VAR_0352</th>\n",
       "      <th>VAR_0353</th>\n",
       "      <th>VAR_0354</th>\n",
       "      <th>VAR_0404</th>\n",
       "      <th>VAR_0466</th>\n",
       "      <th>VAR_0467</th>\n",
       "      <th>VAR_0493</th>\n",
       "      <th>VAR_1934</th>\n",
       "    </tr>\n",
       "  </thead>\n",
       "  <tbody>\n",
       "    <tr>\n",
       "      <th>0</th>\n",
       "      <td>H</td>\n",
       "      <td>C</td>\n",
       "      <td>08NOV11:00:00:00</td>\n",
       "      <td>FT LAUDERDALE</td>\n",
       "      <td>29JAN14:21:16:00</td>\n",
       "      <td>08NOV11:02:00:00</td>\n",
       "      <td>False</td>\n",
       "      <td>False</td>\n",
       "      <td>True</td>\n",
       "      <td>True</td>\n",
       "      <td>FL</td>\n",
       "      <td>FL</td>\n",
       "      <td>S</td>\n",
       "      <td>S</td>\n",
       "      <td>-1</td>\n",
       "      <td>CF</td>\n",
       "      <td>O</td>\n",
       "      <td>U</td>\n",
       "      <td>O</td>\n",
       "      <td>CHIEF EXECUTIVE OFFICER</td>\n",
       "      <td>-1</td>\n",
       "      <td>-1</td>\n",
       "      <td>COMMUNITY ASSOCIATION MANAGER</td>\n",
       "      <td>IAPS</td>\n",
       "    </tr>\n",
       "    <tr>\n",
       "      <th>1</th>\n",
       "      <td>H</td>\n",
       "      <td>B</td>\n",
       "      <td>10NOV11:00:00:00</td>\n",
       "      <td>SANTEE</td>\n",
       "      <td>01FEB14:00:11:00</td>\n",
       "      <td>02OCT12:02:00:00</td>\n",
       "      <td>False</td>\n",
       "      <td>False</td>\n",
       "      <td>False</td>\n",
       "      <td>True</td>\n",
       "      <td>CA</td>\n",
       "      <td>MI</td>\n",
       "      <td>S</td>\n",
       "      <td>S</td>\n",
       "      <td>H</td>\n",
       "      <td>EC</td>\n",
       "      <td>O</td>\n",
       "      <td>R</td>\n",
       "      <td>R</td>\n",
       "      <td>-1</td>\n",
       "      <td>I</td>\n",
       "      <td>Discharged</td>\n",
       "      <td>-1</td>\n",
       "      <td>IAPS</td>\n",
       "    </tr>\n",
       "    <tr>\n",
       "      <th>2</th>\n",
       "      <td>H</td>\n",
       "      <td>C</td>\n",
       "      <td>13DEC11:00:00:00</td>\n",
       "      <td>REEDSVILLE</td>\n",
       "      <td>30JAN14:15:11:00</td>\n",
       "      <td>13DEC11:02:00:00</td>\n",
       "      <td>False</td>\n",
       "      <td>False</td>\n",
       "      <td>True</td>\n",
       "      <td>True</td>\n",
       "      <td>WV</td>\n",
       "      <td>WV</td>\n",
       "      <td>S</td>\n",
       "      <td>P</td>\n",
       "      <td>R</td>\n",
       "      <td>UU</td>\n",
       "      <td>R</td>\n",
       "      <td>R</td>\n",
       "      <td>-1</td>\n",
       "      <td>-1</td>\n",
       "      <td>-1</td>\n",
       "      <td>-1</td>\n",
       "      <td>-1</td>\n",
       "      <td>IAPS</td>\n",
       "    </tr>\n",
       "    <tr>\n",
       "      <th>3</th>\n",
       "      <td>H</td>\n",
       "      <td>C</td>\n",
       "      <td>23SEP10:00:00:00</td>\n",
       "      <td>LIBERTY</td>\n",
       "      <td>01FEB14:00:07:00</td>\n",
       "      <td>01NOV12:02:00:00</td>\n",
       "      <td>False</td>\n",
       "      <td>False</td>\n",
       "      <td>False</td>\n",
       "      <td>True</td>\n",
       "      <td>TX</td>\n",
       "      <td>TX</td>\n",
       "      <td>S</td>\n",
       "      <td>P</td>\n",
       "      <td>H</td>\n",
       "      <td>-1</td>\n",
       "      <td>R</td>\n",
       "      <td>R</td>\n",
       "      <td>-1</td>\n",
       "      <td>-1</td>\n",
       "      <td>-1</td>\n",
       "      <td>-1</td>\n",
       "      <td>-1</td>\n",
       "      <td>RCC</td>\n",
       "    </tr>\n",
       "    <tr>\n",
       "      <th>4</th>\n",
       "      <td>R</td>\n",
       "      <td>N</td>\n",
       "      <td>15OCT11:00:00:00</td>\n",
       "      <td>FRANKFORT</td>\n",
       "      <td>29JAN14:19:31:00</td>\n",
       "      <td>15OCT11:02:00:00</td>\n",
       "      <td>False</td>\n",
       "      <td>False</td>\n",
       "      <td>True</td>\n",
       "      <td>True</td>\n",
       "      <td>IL</td>\n",
       "      <td>IL</td>\n",
       "      <td>S</td>\n",
       "      <td>P</td>\n",
       "      <td>S</td>\n",
       "      <td>-1</td>\n",
       "      <td>R</td>\n",
       "      <td>U</td>\n",
       "      <td>O</td>\n",
       "      <td>-1</td>\n",
       "      <td>-1</td>\n",
       "      <td>-1</td>\n",
       "      <td>-1</td>\n",
       "      <td>BRANCH</td>\n",
       "    </tr>\n",
       "  </tbody>\n",
       "</table>\n",
       "</div>"
      ],
      "text/plain": [
       "  VAR_0001 VAR_0005          VAR_0075       VAR_0200          VAR_0204  \\\n",
       "0        H        C  08NOV11:00:00:00  FT LAUDERDALE  29JAN14:21:16:00   \n",
       "1        H        B  10NOV11:00:00:00         SANTEE  01FEB14:00:11:00   \n",
       "2        H        C  13DEC11:00:00:00     REEDSVILLE  30JAN14:15:11:00   \n",
       "3        H        C  23SEP10:00:00:00        LIBERTY  01FEB14:00:07:00   \n",
       "4        R        N  15OCT11:00:00:00      FRANKFORT  29JAN14:19:31:00   \n",
       "\n",
       "           VAR_0217 VAR_0226 VAR_0230 VAR_0232 VAR_0236 VAR_0237 VAR_0274  \\\n",
       "0  08NOV11:02:00:00    False    False     True     True       FL       FL   \n",
       "1  02OCT12:02:00:00    False    False    False     True       CA       MI   \n",
       "2  13DEC11:02:00:00    False    False     True     True       WV       WV   \n",
       "3  01NOV12:02:00:00    False    False    False     True       TX       TX   \n",
       "4  15OCT11:02:00:00    False    False     True     True       IL       IL   \n",
       "\n",
       "  VAR_0283 VAR_0305 VAR_0325 VAR_0342 VAR_0352 VAR_0353 VAR_0354  \\\n",
       "0        S        S       -1       CF        O        U        O   \n",
       "1        S        S        H       EC        O        R        R   \n",
       "2        S        P        R       UU        R        R       -1   \n",
       "3        S        P        H       -1        R        R       -1   \n",
       "4        S        P        S       -1        R        U        O   \n",
       "\n",
       "                  VAR_0404 VAR_0466    VAR_0467  \\\n",
       "0  CHIEF EXECUTIVE OFFICER       -1          -1   \n",
       "1                       -1        I  Discharged   \n",
       "2                       -1       -1          -1   \n",
       "3                       -1       -1          -1   \n",
       "4                       -1       -1          -1   \n",
       "\n",
       "                        VAR_0493 VAR_1934  \n",
       "0  COMMUNITY ASSOCIATION MANAGER     IAPS  \n",
       "1                             -1     IAPS  \n",
       "2                             -1     IAPS  \n",
       "3                             -1      RCC  \n",
       "4                             -1   BRANCH  "
      ]
     },
     "execution_count": 31,
     "metadata": {},
     "output_type": "execute_result"
    }
   ],
   "source": [
    "df_cat_cols_new = df.select_dtypes('object').columns\n",
    "df[df_cat_cols_new].head()"
   ]
  },
  {
   "cell_type": "code",
   "execution_count": 32,
   "metadata": {},
   "outputs": [
    {
     "data": {
      "text/plain": [
       "VAR_0200    12385\n",
       "VAR_0075     2371\n",
       "VAR_0404     1823\n",
       "VAR_0204     1192\n",
       "VAR_0493      608\n",
       "VAR_0217      397\n",
       "VAR_0274       57\n",
       "VAR_0342       50\n",
       "VAR_0237       45\n",
       "VAR_0325        9\n",
       "VAR_0305        8\n",
       "VAR_0283        7\n",
       "VAR_1934        5\n",
       "VAR_0005        4\n",
       "VAR_0352        4\n",
       "VAR_0353        4\n",
       "VAR_0354        4\n",
       "VAR_0467        4\n",
       "VAR_0001        3\n",
       "VAR_0236        2\n",
       "VAR_0232        2\n",
       "VAR_0230        2\n",
       "VAR_0466        2\n",
       "VAR_0226        2\n",
       "dtype: int64"
      ]
     },
     "execution_count": 32,
     "metadata": {},
     "output_type": "execute_result"
    }
   ],
   "source": [
    "df[df_cat_cols_new].nunique().sort_values(ascending=False)"
   ]
  },
  {
   "cell_type": "code",
   "execution_count": 33,
   "metadata": {},
   "outputs": [],
   "source": [
    "def parse_str2time(df_origin: pd.DataFrame, cols: list, date_format, drop=False):\n",
    "  for _, col in enumerate(cols):\n",
    "    parsed_date = pd.to_datetime(df_origin[col], format=date_format)\n",
    "\n",
    "    df_origin[f'{col}_DAY'] = parsed_date.dt.day\n",
    "    df_origin[f'{col}_MONTH'] = parsed_date.dt.month\n",
    "    df_origin[f'{col}_YEAR'] = parsed_date.dt.month\n",
    "    \n",
    "    df_origin[f'{col}_HOUR'] = parsed_date.dt.hour\n",
    "    df_origin[f'{col}_MIN'] = parsed_date.dt.minute\n",
    "    \n",
    "    if drop:\n",
    "      df_origin.drop(columns=[col], inplace=True)\n",
    "    \n",
    "  return df_origin"
   ]
  },
  {
   "cell_type": "code",
   "execution_count": 34,
   "metadata": {},
   "outputs": [],
   "source": [
    "date_format = '%d%b%y:%H:%M:%S'\n",
    "date_cols = ['VAR_0075', 'VAR_0204', 'VAR_0217']\n",
    "\n",
    "df = parse_str2time(df_origin=df,\n",
    "                    cols=date_cols,\n",
    "                    date_format=date_format,\n",
    "                    drop=True)\n",
    "df = save_memory_df(df)"
   ]
  },
  {
   "cell_type": "code",
   "execution_count": 35,
   "metadata": {},
   "outputs": [
    {
     "data": {
      "text/html": [
       "<div>\n",
       "<style scoped>\n",
       "    .dataframe tbody tr th:only-of-type {\n",
       "        vertical-align: middle;\n",
       "    }\n",
       "\n",
       "    .dataframe tbody tr th {\n",
       "        vertical-align: top;\n",
       "    }\n",
       "\n",
       "    .dataframe thead th {\n",
       "        text-align: right;\n",
       "    }\n",
       "</style>\n",
       "<table border=\"1\" class=\"dataframe\">\n",
       "  <thead>\n",
       "    <tr style=\"text-align: right;\">\n",
       "      <th></th>\n",
       "      <th>VAR_0075_DAY</th>\n",
       "      <th>VAR_0075_MONTH</th>\n",
       "      <th>VAR_0075_YEAR</th>\n",
       "      <th>VAR_0075_HOUR</th>\n",
       "      <th>VAR_0075_MIN</th>\n",
       "    </tr>\n",
       "  </thead>\n",
       "  <tbody>\n",
       "    <tr>\n",
       "      <th>0</th>\n",
       "      <td>8.0</td>\n",
       "      <td>11.0</td>\n",
       "      <td>11.0</td>\n",
       "      <td>0.0</td>\n",
       "      <td>0.0</td>\n",
       "    </tr>\n",
       "    <tr>\n",
       "      <th>1</th>\n",
       "      <td>10.0</td>\n",
       "      <td>11.0</td>\n",
       "      <td>11.0</td>\n",
       "      <td>0.0</td>\n",
       "      <td>0.0</td>\n",
       "    </tr>\n",
       "    <tr>\n",
       "      <th>2</th>\n",
       "      <td>13.0</td>\n",
       "      <td>12.0</td>\n",
       "      <td>12.0</td>\n",
       "      <td>0.0</td>\n",
       "      <td>0.0</td>\n",
       "    </tr>\n",
       "    <tr>\n",
       "      <th>3</th>\n",
       "      <td>23.0</td>\n",
       "      <td>9.0</td>\n",
       "      <td>9.0</td>\n",
       "      <td>0.0</td>\n",
       "      <td>0.0</td>\n",
       "    </tr>\n",
       "    <tr>\n",
       "      <th>4</th>\n",
       "      <td>15.0</td>\n",
       "      <td>10.0</td>\n",
       "      <td>10.0</td>\n",
       "      <td>0.0</td>\n",
       "      <td>0.0</td>\n",
       "    </tr>\n",
       "  </tbody>\n",
       "</table>\n",
       "</div>"
      ],
      "text/plain": [
       "   VAR_0075_DAY  VAR_0075_MONTH  VAR_0075_YEAR  VAR_0075_HOUR  VAR_0075_MIN\n",
       "0           8.0            11.0           11.0            0.0           0.0\n",
       "1          10.0            11.0           11.0            0.0           0.0\n",
       "2          13.0            12.0           12.0            0.0           0.0\n",
       "3          23.0             9.0            9.0            0.0           0.0\n",
       "4          15.0            10.0           10.0            0.0           0.0"
      ]
     },
     "metadata": {},
     "output_type": "display_data"
    },
    {
     "data": {
      "text/html": [
       "<div>\n",
       "<style scoped>\n",
       "    .dataframe tbody tr th:only-of-type {\n",
       "        vertical-align: middle;\n",
       "    }\n",
       "\n",
       "    .dataframe tbody tr th {\n",
       "        vertical-align: top;\n",
       "    }\n",
       "\n",
       "    .dataframe thead th {\n",
       "        text-align: right;\n",
       "    }\n",
       "</style>\n",
       "<table border=\"1\" class=\"dataframe\">\n",
       "  <thead>\n",
       "    <tr style=\"text-align: right;\">\n",
       "      <th></th>\n",
       "      <th>VAR_0204_DAY</th>\n",
       "      <th>VAR_0204_MONTH</th>\n",
       "      <th>VAR_0204_YEAR</th>\n",
       "      <th>VAR_0204_HOUR</th>\n",
       "      <th>VAR_0204_MIN</th>\n",
       "    </tr>\n",
       "  </thead>\n",
       "  <tbody>\n",
       "    <tr>\n",
       "      <th>0</th>\n",
       "      <td>29.0</td>\n",
       "      <td>1.0</td>\n",
       "      <td>1.0</td>\n",
       "      <td>21.0</td>\n",
       "      <td>16.0</td>\n",
       "    </tr>\n",
       "    <tr>\n",
       "      <th>1</th>\n",
       "      <td>1.0</td>\n",
       "      <td>2.0</td>\n",
       "      <td>2.0</td>\n",
       "      <td>0.0</td>\n",
       "      <td>11.0</td>\n",
       "    </tr>\n",
       "    <tr>\n",
       "      <th>2</th>\n",
       "      <td>30.0</td>\n",
       "      <td>1.0</td>\n",
       "      <td>1.0</td>\n",
       "      <td>15.0</td>\n",
       "      <td>11.0</td>\n",
       "    </tr>\n",
       "    <tr>\n",
       "      <th>3</th>\n",
       "      <td>1.0</td>\n",
       "      <td>2.0</td>\n",
       "      <td>2.0</td>\n",
       "      <td>0.0</td>\n",
       "      <td>7.0</td>\n",
       "    </tr>\n",
       "    <tr>\n",
       "      <th>4</th>\n",
       "      <td>29.0</td>\n",
       "      <td>1.0</td>\n",
       "      <td>1.0</td>\n",
       "      <td>19.0</td>\n",
       "      <td>31.0</td>\n",
       "    </tr>\n",
       "  </tbody>\n",
       "</table>\n",
       "</div>"
      ],
      "text/plain": [
       "   VAR_0204_DAY  VAR_0204_MONTH  VAR_0204_YEAR  VAR_0204_HOUR  VAR_0204_MIN\n",
       "0          29.0             1.0            1.0           21.0          16.0\n",
       "1           1.0             2.0            2.0            0.0          11.0\n",
       "2          30.0             1.0            1.0           15.0          11.0\n",
       "3           1.0             2.0            2.0            0.0           7.0\n",
       "4          29.0             1.0            1.0           19.0          31.0"
      ]
     },
     "metadata": {},
     "output_type": "display_data"
    },
    {
     "data": {
      "text/html": [
       "<div>\n",
       "<style scoped>\n",
       "    .dataframe tbody tr th:only-of-type {\n",
       "        vertical-align: middle;\n",
       "    }\n",
       "\n",
       "    .dataframe tbody tr th {\n",
       "        vertical-align: top;\n",
       "    }\n",
       "\n",
       "    .dataframe thead th {\n",
       "        text-align: right;\n",
       "    }\n",
       "</style>\n",
       "<table border=\"1\" class=\"dataframe\">\n",
       "  <thead>\n",
       "    <tr style=\"text-align: right;\">\n",
       "      <th></th>\n",
       "      <th>VAR_0217_DAY</th>\n",
       "      <th>VAR_0217_MONTH</th>\n",
       "      <th>VAR_0217_YEAR</th>\n",
       "      <th>VAR_0217_HOUR</th>\n",
       "      <th>VAR_0217_MIN</th>\n",
       "    </tr>\n",
       "  </thead>\n",
       "  <tbody>\n",
       "    <tr>\n",
       "      <th>0</th>\n",
       "      <td>8.0</td>\n",
       "      <td>11.0</td>\n",
       "      <td>11.0</td>\n",
       "      <td>2.0</td>\n",
       "      <td>0.0</td>\n",
       "    </tr>\n",
       "    <tr>\n",
       "      <th>1</th>\n",
       "      <td>2.0</td>\n",
       "      <td>10.0</td>\n",
       "      <td>10.0</td>\n",
       "      <td>2.0</td>\n",
       "      <td>0.0</td>\n",
       "    </tr>\n",
       "    <tr>\n",
       "      <th>2</th>\n",
       "      <td>13.0</td>\n",
       "      <td>12.0</td>\n",
       "      <td>12.0</td>\n",
       "      <td>2.0</td>\n",
       "      <td>0.0</td>\n",
       "    </tr>\n",
       "    <tr>\n",
       "      <th>3</th>\n",
       "      <td>1.0</td>\n",
       "      <td>11.0</td>\n",
       "      <td>11.0</td>\n",
       "      <td>2.0</td>\n",
       "      <td>0.0</td>\n",
       "    </tr>\n",
       "    <tr>\n",
       "      <th>4</th>\n",
       "      <td>15.0</td>\n",
       "      <td>10.0</td>\n",
       "      <td>10.0</td>\n",
       "      <td>2.0</td>\n",
       "      <td>0.0</td>\n",
       "    </tr>\n",
       "  </tbody>\n",
       "</table>\n",
       "</div>"
      ],
      "text/plain": [
       "   VAR_0217_DAY  VAR_0217_MONTH  VAR_0217_YEAR  VAR_0217_HOUR  VAR_0217_MIN\n",
       "0           8.0            11.0           11.0            2.0           0.0\n",
       "1           2.0            10.0           10.0            2.0           0.0\n",
       "2          13.0            12.0           12.0            2.0           0.0\n",
       "3           1.0            11.0           11.0            2.0           0.0\n",
       "4          15.0            10.0           10.0            2.0           0.0"
      ]
     },
     "metadata": {},
     "output_type": "display_data"
    }
   ],
   "source": [
    "display(df.filter(like='VAR_0075').head())\n",
    "display(df.filter(like='VAR_0204').head())\n",
    "display(df.filter(like='VAR_0217').head())"
   ]
  },
  {
   "cell_type": "code",
   "execution_count": 36,
   "metadata": {},
   "outputs": [
    {
     "data": {
      "text/plain": [
       "VAR_0075_HOUR      1\n",
       "VAR_0075_MIN       1\n",
       "VAR_0217_HOUR      1\n",
       "VAR_0217_MIN       1\n",
       "VAR_0204_MONTH     2\n",
       "VAR_0204_YEAR      2\n",
       "VAR_0204_DAY       4\n",
       "VAR_0075_MONTH    12\n",
       "VAR_0075_YEAR     12\n",
       "VAR_0204_HOUR     12\n",
       "VAR_0217_MONTH    12\n",
       "VAR_0217_YEAR     12\n",
       "VAR_0075_DAY      31\n",
       "VAR_0217_DAY      31\n",
       "VAR_0204_MIN      60\n",
       "dtype: int64"
      ]
     },
     "execution_count": 36,
     "metadata": {},
     "output_type": "execute_result"
    }
   ],
   "source": [
    "parsed_date_cols = ['VAR_0075_DAY', 'VAR_0075_MONTH', 'VAR_0075_YEAR', 'VAR_0075_HOUR', 'VAR_0075_MIN',\n",
    "                    'VAR_0204_DAY', 'VAR_0204_MONTH', 'VAR_0204_YEAR', 'VAR_0204_HOUR', 'VAR_0204_MIN',\n",
    "                    'VAR_0217_DAY', 'VAR_0217_MONTH', 'VAR_0217_YEAR', 'VAR_0217_HOUR', 'VAR_0217_MIN']\n",
    "\n",
    "parsed_date_cols_single = df[parsed_date_cols].nunique().sort_values()\n",
    "parsed_date_cols_single"
   ]
  },
  {
   "cell_type": "code",
   "execution_count": 37,
   "metadata": {},
   "outputs": [
    {
     "data": {
      "text/plain": [
       "['VAR_0075_HOUR', 'VAR_0075_MIN', 'VAR_0217_HOUR', 'VAR_0217_MIN']"
      ]
     },
     "execution_count": 37,
     "metadata": {},
     "output_type": "execute_result"
    }
   ],
   "source": [
    "parsed_date_cols_single = parsed_date_cols_single[parsed_date_cols_single == 1]\n",
    "parsed_date_cols_single = parsed_date_cols_single.index.to_list()\n",
    "parsed_date_cols_single"
   ]
  },
  {
   "cell_type": "code",
   "execution_count": 38,
   "metadata": {},
   "outputs": [],
   "source": [
    "df.drop(columns=parsed_date_cols_single, axis=1, inplace=True)"
   ]
  },
  {
   "cell_type": "code",
   "execution_count": 39,
   "metadata": {},
   "outputs": [
    {
     "data": {
      "text/html": [
       "<div>\n",
       "<style scoped>\n",
       "    .dataframe tbody tr th:only-of-type {\n",
       "        vertical-align: middle;\n",
       "    }\n",
       "\n",
       "    .dataframe tbody tr th {\n",
       "        vertical-align: top;\n",
       "    }\n",
       "\n",
       "    .dataframe thead th {\n",
       "        text-align: right;\n",
       "    }\n",
       "</style>\n",
       "<table border=\"1\" class=\"dataframe\">\n",
       "  <thead>\n",
       "    <tr style=\"text-align: right;\">\n",
       "      <th></th>\n",
       "      <th>VAR_0001</th>\n",
       "      <th>VAR_0005</th>\n",
       "      <th>VAR_0200</th>\n",
       "      <th>VAR_0226</th>\n",
       "      <th>VAR_0230</th>\n",
       "      <th>VAR_0232</th>\n",
       "      <th>VAR_0236</th>\n",
       "      <th>VAR_0237</th>\n",
       "      <th>VAR_0274</th>\n",
       "      <th>VAR_0283</th>\n",
       "      <th>VAR_0305</th>\n",
       "      <th>VAR_0325</th>\n",
       "      <th>VAR_0342</th>\n",
       "      <th>VAR_0352</th>\n",
       "      <th>VAR_0353</th>\n",
       "      <th>VAR_0354</th>\n",
       "      <th>VAR_0404</th>\n",
       "      <th>VAR_0466</th>\n",
       "      <th>VAR_0467</th>\n",
       "      <th>VAR_0493</th>\n",
       "      <th>VAR_1934</th>\n",
       "    </tr>\n",
       "  </thead>\n",
       "  <tbody>\n",
       "    <tr>\n",
       "      <th>0</th>\n",
       "      <td>H</td>\n",
       "      <td>C</td>\n",
       "      <td>FT LAUDERDALE</td>\n",
       "      <td>False</td>\n",
       "      <td>False</td>\n",
       "      <td>True</td>\n",
       "      <td>True</td>\n",
       "      <td>FL</td>\n",
       "      <td>FL</td>\n",
       "      <td>S</td>\n",
       "      <td>S</td>\n",
       "      <td>-1</td>\n",
       "      <td>CF</td>\n",
       "      <td>O</td>\n",
       "      <td>U</td>\n",
       "      <td>O</td>\n",
       "      <td>CHIEF EXECUTIVE OFFICER</td>\n",
       "      <td>-1</td>\n",
       "      <td>-1</td>\n",
       "      <td>COMMUNITY ASSOCIATION MANAGER</td>\n",
       "      <td>IAPS</td>\n",
       "    </tr>\n",
       "    <tr>\n",
       "      <th>1</th>\n",
       "      <td>H</td>\n",
       "      <td>B</td>\n",
       "      <td>SANTEE</td>\n",
       "      <td>False</td>\n",
       "      <td>False</td>\n",
       "      <td>False</td>\n",
       "      <td>True</td>\n",
       "      <td>CA</td>\n",
       "      <td>MI</td>\n",
       "      <td>S</td>\n",
       "      <td>S</td>\n",
       "      <td>H</td>\n",
       "      <td>EC</td>\n",
       "      <td>O</td>\n",
       "      <td>R</td>\n",
       "      <td>R</td>\n",
       "      <td>-1</td>\n",
       "      <td>I</td>\n",
       "      <td>Discharged</td>\n",
       "      <td>-1</td>\n",
       "      <td>IAPS</td>\n",
       "    </tr>\n",
       "    <tr>\n",
       "      <th>2</th>\n",
       "      <td>H</td>\n",
       "      <td>C</td>\n",
       "      <td>REEDSVILLE</td>\n",
       "      <td>False</td>\n",
       "      <td>False</td>\n",
       "      <td>True</td>\n",
       "      <td>True</td>\n",
       "      <td>WV</td>\n",
       "      <td>WV</td>\n",
       "      <td>S</td>\n",
       "      <td>P</td>\n",
       "      <td>R</td>\n",
       "      <td>UU</td>\n",
       "      <td>R</td>\n",
       "      <td>R</td>\n",
       "      <td>-1</td>\n",
       "      <td>-1</td>\n",
       "      <td>-1</td>\n",
       "      <td>-1</td>\n",
       "      <td>-1</td>\n",
       "      <td>IAPS</td>\n",
       "    </tr>\n",
       "    <tr>\n",
       "      <th>3</th>\n",
       "      <td>H</td>\n",
       "      <td>C</td>\n",
       "      <td>LIBERTY</td>\n",
       "      <td>False</td>\n",
       "      <td>False</td>\n",
       "      <td>False</td>\n",
       "      <td>True</td>\n",
       "      <td>TX</td>\n",
       "      <td>TX</td>\n",
       "      <td>S</td>\n",
       "      <td>P</td>\n",
       "      <td>H</td>\n",
       "      <td>-1</td>\n",
       "      <td>R</td>\n",
       "      <td>R</td>\n",
       "      <td>-1</td>\n",
       "      <td>-1</td>\n",
       "      <td>-1</td>\n",
       "      <td>-1</td>\n",
       "      <td>-1</td>\n",
       "      <td>RCC</td>\n",
       "    </tr>\n",
       "    <tr>\n",
       "      <th>4</th>\n",
       "      <td>R</td>\n",
       "      <td>N</td>\n",
       "      <td>FRANKFORT</td>\n",
       "      <td>False</td>\n",
       "      <td>False</td>\n",
       "      <td>True</td>\n",
       "      <td>True</td>\n",
       "      <td>IL</td>\n",
       "      <td>IL</td>\n",
       "      <td>S</td>\n",
       "      <td>P</td>\n",
       "      <td>S</td>\n",
       "      <td>-1</td>\n",
       "      <td>R</td>\n",
       "      <td>U</td>\n",
       "      <td>O</td>\n",
       "      <td>-1</td>\n",
       "      <td>-1</td>\n",
       "      <td>-1</td>\n",
       "      <td>-1</td>\n",
       "      <td>BRANCH</td>\n",
       "    </tr>\n",
       "  </tbody>\n",
       "</table>\n",
       "</div>"
      ],
      "text/plain": [
       "  VAR_0001 VAR_0005       VAR_0200 VAR_0226 VAR_0230 VAR_0232 VAR_0236  \\\n",
       "0        H        C  FT LAUDERDALE    False    False     True     True   \n",
       "1        H        B         SANTEE    False    False    False     True   \n",
       "2        H        C     REEDSVILLE    False    False     True     True   \n",
       "3        H        C        LIBERTY    False    False    False     True   \n",
       "4        R        N      FRANKFORT    False    False     True     True   \n",
       "\n",
       "  VAR_0237 VAR_0274 VAR_0283 VAR_0305 VAR_0325 VAR_0342 VAR_0352 VAR_0353  \\\n",
       "0       FL       FL        S        S       -1       CF        O        U   \n",
       "1       CA       MI        S        S        H       EC        O        R   \n",
       "2       WV       WV        S        P        R       UU        R        R   \n",
       "3       TX       TX        S        P        H       -1        R        R   \n",
       "4       IL       IL        S        P        S       -1        R        U   \n",
       "\n",
       "  VAR_0354                 VAR_0404 VAR_0466    VAR_0467  \\\n",
       "0        O  CHIEF EXECUTIVE OFFICER       -1          -1   \n",
       "1        R                       -1        I  Discharged   \n",
       "2       -1                       -1       -1          -1   \n",
       "3       -1                       -1       -1          -1   \n",
       "4        O                       -1       -1          -1   \n",
       "\n",
       "                        VAR_0493 VAR_1934  \n",
       "0  COMMUNITY ASSOCIATION MANAGER     IAPS  \n",
       "1                             -1     IAPS  \n",
       "2                             -1     IAPS  \n",
       "3                             -1      RCC  \n",
       "4                             -1   BRANCH  "
      ]
     },
     "execution_count": 39,
     "metadata": {},
     "output_type": "execute_result"
    }
   ],
   "source": [
    "df_cat_cols_new = df.select_dtypes('object').columns\n",
    "df[df_cat_cols_new].head()"
   ]
  },
  {
   "cell_type": "code",
   "execution_count": 40,
   "metadata": {},
   "outputs": [
    {
     "data": {
      "text/plain": [
       "VAR_0200    12385\n",
       "VAR_0404     1823\n",
       "VAR_0493      608\n",
       "VAR_0274       57\n",
       "VAR_0342       50\n",
       "VAR_0237       45\n",
       "VAR_0325        9\n",
       "VAR_0305        8\n",
       "VAR_0283        7\n",
       "VAR_1934        5\n",
       "VAR_0005        4\n",
       "VAR_0352        4\n",
       "VAR_0353        4\n",
       "VAR_0354        4\n",
       "VAR_0467        4\n",
       "VAR_0001        3\n",
       "VAR_0236        2\n",
       "VAR_0232        2\n",
       "VAR_0230        2\n",
       "VAR_0466        2\n",
       "VAR_0226        2\n",
       "dtype: int64"
      ]
     },
     "execution_count": 40,
     "metadata": {},
     "output_type": "execute_result"
    }
   ],
   "source": [
    "df[df_cat_cols_new].nunique().sort_values(ascending=False)"
   ]
  },
  {
   "cell_type": "code",
   "execution_count": 41,
   "metadata": {},
   "outputs": [
    {
     "data": {
      "text/plain": [
       "VAR_0200\n",
       "CHICAGO         2091\n",
       "HOUSTON         1306\n",
       "JACKSONVILLE    1063\n",
       "SAN ANTONIO     1012\n",
       "INDIANAPOLIS     866\n",
       "                ... \n",
       "HAINES CITY       20\n",
       "SAN FERNANDO      20\n",
       "WILDOMAR          20\n",
       "RED LION          20\n",
       "CARMICHAEL        20\n",
       "Name: count, Length: 1426, dtype: int64"
      ]
     },
     "execution_count": 41,
     "metadata": {},
     "output_type": "execute_result"
    }
   ],
   "source": [
    "var200_count = df['VAR_0200'].value_counts()\n",
    "var200_count[var200_count >= 20]"
   ]
  },
  {
   "cell_type": "code",
   "execution_count": 42,
   "metadata": {},
   "outputs": [
    {
     "data": {
      "text/plain": [
       "VAR_0200\n",
       "PHILADELPHIA        772\n",
       "PHILA                75\n",
       "NEW PHILADELPHIA      9\n",
       "NEW PHILA             7\n",
       "PHILADELHIA           4\n",
       "PHILADEPHIA           3\n",
       "PHILADLEPHIA          1\n",
       "PHILAELPHIA           1\n",
       "PHILADELPHIIA         1\n",
       "PHILAD                1\n",
       "PHILADELPHA           1\n",
       "PHILADEPLHIA          1\n",
       "PHILADELPIA           1\n",
       "Name: count, dtype: int64"
      ]
     },
     "execution_count": 42,
     "metadata": {},
     "output_type": "execute_result"
    }
   ],
   "source": [
    "var200_count.filter(like='PHILA')"
   ]
  },
  {
   "cell_type": "code",
   "execution_count": 43,
   "metadata": {},
   "outputs": [
    {
     "data": {
      "text/plain": [
       "VAR_0404\n",
       "-1                               130443\n",
       "CONTACT                            2163\n",
       "PRESIDENT                          1315\n",
       "AGENT                              1072\n",
       "DIRECTOR                            864\n",
       "OWNER                               770\n",
       "MEMBER                              566\n",
       "SECRETARY                           512\n",
       "INDIVIDUAL - SOLE OWNER             458\n",
       "MANAGER                             361\n",
       "INCORPORATOR                        288\n",
       "VICE PRESIDENT                      267\n",
       "CONTA                               254\n",
       "TREASURER                           225\n",
       "BOARD MEMBER                        167\n",
       "MEMBER MANAGER                      164\n",
       "CEO                                 143\n",
       "OFFICE MANAGER                      106\n",
       "REGISTRANT                          105\n",
       "CHIEF EXECUTIVE OFFICER             103\n",
       "MANAGING MEMBER                     102\n",
       "TAX RESPONSIBLE PARTY                99\n",
       "PARTNER                              88\n",
       "CFO                                  87\n",
       "ORGANIZER                            55\n",
       "APPLICANT                            53\n",
       "MEMBER/MANAGER                       52\n",
       "CEO;SECRETARY;CFO                    51\n",
       "MEDICAL ASSISTANT                    45\n",
       "PHARMACY TECHNICIAN                  42\n",
       "CHIEF FINANCIAL OFFICER              40\n",
       "OFFICER                              39\n",
       "ADMINISTRATIVE ASSISTANT             37\n",
       "CERTIFIED PHARMACY TECHNICIAN        37\n",
       "TITLE NOT SPECIFIED                  27\n",
       "SECRETARY;CFO                        24\n",
       "TEACHER                              23\n",
       "PROCESS ADDRESS CONTACT              23\n",
       "CONTRIBUTOR                          22\n",
       "FILER                                21\n",
       "DP                                   20\n",
       "PRINCIPAL                            20\n",
       "EXECUTIVE DIRECTOR                   20\n",
       "MANAGER/MEMBER                       20\n",
       "CEO;CFO                              20\n",
       "Name: count, dtype: int64"
      ]
     },
     "execution_count": 43,
     "metadata": {},
     "output_type": "execute_result"
    }
   ],
   "source": [
    "var404_count = df['VAR_0404'].value_counts()\n",
    "var404_count[var404_count >= 20]"
   ]
  },
  {
   "cell_type": "code",
   "execution_count": 44,
   "metadata": {},
   "outputs": [
    {
     "data": {
      "text/plain": [
       "VAR_0404\n",
       "PRESIDENT                              1315\n",
       "VICE PRESIDENT                          267\n",
       "PRESIDENT, DIRECTOR                      12\n",
       "VICE-PRESIDENT                           12\n",
       "DIRECTOR;PRESIDENT                        9\n",
       "                                       ... \n",
       "PRESIDENT,TREASURER                       1\n",
       "DIRECTOR,VICE PRESIDENT                   1\n",
       "VICE PRESIDENT, REAL ESTATE               1\n",
       "DIRECTOR,PRESIDENT,SECRETARY,TREASU       1\n",
       "EXECUTIVE VICE PRESIDENT, ADVERTISI       1\n",
       "Name: count, Length: 107, dtype: int64"
      ]
     },
     "execution_count": 44,
     "metadata": {},
     "output_type": "execute_result"
    }
   ],
   "source": [
    "var404_count.filter(like='PRESIDENT')"
   ]
  },
  {
   "cell_type": "code",
   "execution_count": 45,
   "metadata": {},
   "outputs": [
    {
     "data": {
      "text/plain": [
       "VAR_0493\n",
       "-1                                      135182\n",
       "REGISTERED NURSE                          1099\n",
       "LICENSED PRACTICAL NURSE                   767\n",
       "PHARMACY TECHNICIAN                        536\n",
       "COSMETOLOGIST                              452\n",
       "GUARD                                      399\n",
       "PERMANENT EMPLOYEE REGISTRATION CARD       325\n",
       "PROFESSIONAL NURSE                         246\n",
       "LICENSED VOCATIONAL NURSE                  243\n",
       "NURSE AIDE                                 238\n",
       "CERTIFIED NURSING ASSISTANT                238\n",
       "REAL ESTATE                                226\n",
       "PRACTICAL NURSE                            141\n",
       "CERTIFIED NURSE AIDE                       111\n",
       "INSURANCE AGENTS                            98\n",
       "LICENSED REAL ESTATE SALESPERSON            89\n",
       "REGISTERED PROFESSIONAL NURSE               86\n",
       "FIREARM PERMIT                              85\n",
       "MASTER COSMETOLOGIST                        79\n",
       "REAL ESTATE SALESPERSON                     75\n",
       "RN                                          70\n",
       "VOCATIONAL NURSE                            65\n",
       "PRIVATE SECURITY PERSONS                    62\n",
       "EMERGENCY MEDICAL TECHNICIAN                62\n",
       "LPN                                         59\n",
       "RESPIRATORY CARE PRACTITIONER               54\n",
       "TECH                                        53\n",
       "REAL ESTATE SALES PERSON                    53\n",
       "CERTIFIED PUBLIC ACCOUNTANT                 52\n",
       "REAL ESTATE BROKER OR SALES                 48\n",
       "STAFF NURSE/GENERAL DUTY                    48\n",
       "PHARMACIST                                  47\n",
       "MORTGAGE BROKER - INDIVIDUAL                44\n",
       "COSMETOLOGISTS                              44\n",
       "ELECTRICIANS                                44\n",
       "MASSAGE THERAPIST                           43\n",
       "ATTORNEY                                    43\n",
       "NURSE, REGISTERED                           40\n",
       "LEGAL SERVICES                              39\n",
       "MANICURISTS                                 39\n",
       "DENTAL HYGIENIST                            39\n",
       "REGISTERED DENTAL ASSISTANT                 35\n",
       "ELECTRICIAN                                 34\n",
       "SECURITY GUARD/OFFICER                      33\n",
       "CONTRACTOR CONTROLLING INDIVIDUALS          33\n",
       "LICENSED SOCIAL WORKER                      33\n",
       "SOCIAL WORKER                               32\n",
       "COS MANAGER                                 32\n",
       "PHYSICAL THERAPIST ASSISTANT                30\n",
       "BARBER                                      29\n",
       "TRADESMEN                                   28\n",
       "NON-RESIDENT PRODUCER AGENT                 28\n",
       "AUTHORIZED EMPLOYEE                         27\n",
       "CLINICAL NURSE ASSISTANT                    26\n",
       "HOMEMAKER - HHA                             25\n",
       "BATON CERT - USED FOR HISTORY ONLY          25\n",
       "DENTAL ASSISITANT                           25\n",
       "PHYSICAL THERAPIST                          24\n",
       "ESTHETICIAN                                 24\n",
       "MANICURIST                                  24\n",
       "PSYCHIATRIC TECHNICIAN                      22\n",
       "NURSE, LICENSED PRACTICAL                   21\n",
       "ARMED SECURITY GUARDS                       21\n",
       "FIREARM TRAINING CERTIFICATE                21\n",
       "VEHICLE SALESPERSON                         21\n",
       "MEDICATION AIDE                             20\n",
       "SALESMAN                                    20\n",
       "Name: count, dtype: int64"
      ]
     },
     "execution_count": 45,
     "metadata": {},
     "output_type": "execute_result"
    }
   ],
   "source": [
    "var493_count = df['VAR_0493'].value_counts()\n",
    "var493_count[var493_count >= 20]"
   ]
  },
  {
   "cell_type": "code",
   "execution_count": 46,
   "metadata": {},
   "outputs": [
    {
     "data": {
      "text/plain": [
       "VAR_0493\n",
       "PHARMACY TECHNICIAN                 536\n",
       "EMERGENCY MEDICAL TECHNICIAN         62\n",
       "PSYCHIATRIC TECHNICIAN               22\n",
       "NAIL TECHNICIAN                      19\n",
       "NAIL TECHNICIANS                     14\n",
       "SMOG CHECK ADVANCED TECHNICIAN        7\n",
       "REGISTERED VETERINARY TECHNICIAN      5\n",
       "VETERINARY TECHNICIAN                 2\n",
       "RESPIRATORY THERAPY TECHNICIAN        2\n",
       "CARDIAC TECHNICIAN                    2\n",
       "PHARMACEUTICAL TECHNICIAN             1\n",
       "VETERINARY ANIMAL TECHNICIAN          1\n",
       "MEDICAL RESPONSE TECHNICIAN           1\n",
       "ANIMAL HEALTH TECHNICIAN              1\n",
       "NAIL TECHNICIAN APPRENTICE            1\n",
       "SOCIAL WORK TECHNICIAN                1\n",
       "NON-CERTIFIED TECHNICIAN              1\n",
       "CERTIFIED EUTHANASIA TECHNICIAN       1\n",
       "Name: count, dtype: int64"
      ]
     },
     "execution_count": 46,
     "metadata": {},
     "output_type": "execute_result"
    }
   ],
   "source": [
    "var493_count.filter(like='TECHNICIAN')"
   ]
  },
  {
   "cell_type": "markdown",
   "metadata": {},
   "source": [
    "### **Data splitting**"
   ]
  },
  {
   "cell_type": "markdown",
   "metadata": {},
   "source": [
    "##### **A. Train - test data split**"
   ]
  },
  {
   "cell_type": "code",
   "execution_count": 47,
   "metadata": {},
   "outputs": [
    {
     "name": "stdout",
     "output_type": "stream",
     "text": [
      "Train dataset shape (X): (116142, 1865)\n",
      "Test dataset shape (X_test): (29036, 1865)\n"
     ]
    }
   ],
   "source": [
    "X, X_test, y, y_test = train_test_split(df.drop(columns=['ID', 'target'], axis=1),\n",
    "                                                    df['target'],\n",
    "                                                    test_size=0.2,\n",
    "                                                    random_state=42,\n",
    "                                                    stratify=df['target'])\n",
    "\n",
    "print(f'Train dataset shape (X): {X.shape}')\n",
    "print(f'Test dataset shape (X_test): {X_test.shape}')"
   ]
  },
  {
   "cell_type": "markdown",
   "metadata": {},
   "source": [
    "##### **B. Data folding**"
   ]
  },
  {
   "cell_type": "code",
   "execution_count": 48,
   "metadata": {},
   "outputs": [],
   "source": [
    "n_splits = 5\n",
    "skf = StratifiedKFold(n_splits=n_splits, shuffle=True, random_state=42)"
   ]
  },
  {
   "cell_type": "markdown",
   "metadata": {},
   "source": [
    "### **Data preprocessing**"
   ]
  },
  {
   "cell_type": "code",
   "execution_count": 49,
   "metadata": {},
   "outputs": [],
   "source": [
    "X_num_cols = X.select_dtypes(exclude='object').columns\n",
    "X_cat_cols = X.select_dtypes('object').columns"
   ]
  },
  {
   "cell_type": "markdown",
   "metadata": {},
   "source": [
    "##### **A. Numerical data**"
   ]
  },
  {
   "cell_type": "code",
   "execution_count": 50,
   "metadata": {},
   "outputs": [],
   "source": [
    "def num_col_preprocessor(X_tr_origin: pd.DataFrame, X_ts_origin: pd.DataFrame, imputer=None, scaler=None, num_cols=None) -> tuple[pd.DataFrame]:\n",
    "  if not num_cols: num_cols = []\n",
    "  \n",
    "  train = X_tr_origin.copy()\n",
    "  test = X_ts_origin.copy()\n",
    "  \n",
    "  if imputer:\n",
    "    train[num_cols] = imputer.fit_transform(train[num_cols])\n",
    "    test[num_cols] = imputer.transform(test[num_cols])\n",
    "    \n",
    "  if scaler:\n",
    "    train[num_cols] = scaler.fit_transform(train[num_cols])\n",
    "    test[num_cols] = scaler.transform(test[num_cols])\n",
    "\n",
    "  return (train, test)"
   ]
  },
  {
   "cell_type": "markdown",
   "metadata": {},
   "source": [
    "##### **B. Categorical data**"
   ]
  },
  {
   "cell_type": "code",
   "execution_count": 51,
   "metadata": {},
   "outputs": [],
   "source": [
    "def convert_str2cat(df_origin: pd.DataFrame) -> pd.DataFrame:\n",
    "  cat_cols = df_origin.select_dtypes('object').columns\n",
    "  \n",
    "  cat_cols = {col: 'category' for col in cat_cols}\n",
    "  df_origin = df_origin.astype(cat_cols)\n",
    "  \n",
    "  return df_origin\n",
    "\n",
    "def cat_col_preprocessor(X_tr_origin: pd.DataFrame, X_ts_origin: pd.DataFrame, imputer=None, encoder=None, scaler=None, cat_cols=None) -> tuple[pd.DataFrame]:\n",
    "  if not cat_cols: cat_cols = []\n",
    "  \n",
    "  train = X_tr_origin.copy()\n",
    "  test = X_ts_origin.copy()\n",
    "  \n",
    "  if imputer:\n",
    "    train[cat_cols] = imputer.fit_transform(train[cat_cols])\n",
    "    test[cat_cols] = imputer.transform(test[cat_cols])\n",
    "    \n",
    "  if encoder:\n",
    "    train[cat_cols] = encoder.fit_transform(train[cat_cols])\n",
    "    test[cat_cols] = encoder.transform(test[cat_cols])\n",
    "    \n",
    "  if encoder and scaler:\n",
    "    train[cat_cols] = scaler.fit_transform(train[cat_cols])\n",
    "    test[cat_cols] = scaler.transform(test[cat_cols])\n",
    "    \n",
    "  train[cat_cols] = convert_str2cat(train[cat_cols])\n",
    "  test[cat_cols] = convert_str2cat(test[cat_cols])\n",
    "\n",
    "  return (train, test)"
   ]
  },
  {
   "cell_type": "markdown",
   "metadata": {},
   "source": [
    "##### **C. Taget encoding**"
   ]
  },
  {
   "cell_type": "code",
   "execution_count": 52,
   "metadata": {},
   "outputs": [],
   "source": [
    "def target_encoding(y_tr_origin: pd.Series, y_ts_origin: pd.Series, encoder):\n",
    "  y_tr_enc = encoder.fit_transform(y_tr_origin)\n",
    "  y_ts_enc = encoder.transform(y_ts_origin)\n",
    "  \n",
    "  return (y_tr_enc, y_ts_enc)"
   ]
  },
  {
   "cell_type": "markdown",
   "metadata": {},
   "source": [
    "##### **D. Imbalanced data**"
   ]
  },
  {
   "cell_type": "code",
   "execution_count": 53,
   "metadata": {},
   "outputs": [],
   "source": [
    "def resampling(X_tr_origin: pd.DataFrame, y_tr_origin: pd.Series, sampler):\n",
    "  X_res, y_res = sampler.fit_resample(X_tr_origin, y_tr_origin)\n",
    "  \n",
    "  return (X_res, y_res)"
   ]
  },
  {
   "cell_type": "markdown",
   "metadata": {},
   "source": [
    "##### **E. Outlier**"
   ]
  },
  {
   "cell_type": "code",
   "execution_count": 54,
   "metadata": {},
   "outputs": [],
   "source": [
    "def remove_outliers(X_tr_origin: pd.DataFrame, y_tr_origin: pd.Series, outlier_detector):\n",
    "  outlier_label = outlier_detector.fit_predict(X_tr_origin)\n",
    "  non_outlier_mask = outlier_label == 1\n",
    "  \n",
    "  X_tr_clean = X_tr_origin[non_outlier_mask]\n",
    "  y_tr_clean = y_tr_origin[non_outlier_mask]\n",
    "  \n",
    "  return (X_tr_clean, y_tr_clean)"
   ]
  },
  {
   "cell_type": "markdown",
   "metadata": {},
   "source": [
    "##### **F. Save memory**"
   ]
  },
  {
   "cell_type": "code",
   "execution_count": 55,
   "metadata": {},
   "outputs": [],
   "source": [
    "def save_memory(X_tr_origin: pd.DataFrame, X_ts_origin: pd.DataFrame, y_tr_origin: pd.Series, y_ts_origin: pd.Series):\n",
    "  X_tr_saved = save_memory_df(X_tr_origin)\n",
    "  X_ts_saved = save_memory_df(X_ts_origin)\n",
    "  y_tr_saved = save_memory_sr(y_tr_origin)\n",
    "  y_ts_saved = save_memory_sr(y_ts_origin)\n",
    "  \n",
    "  return [X_tr_saved, X_ts_saved, y_tr_saved, y_ts_saved]"
   ]
  },
  {
   "cell_type": "markdown",
   "metadata": {},
   "source": [
    "##### **F. Build pipeline**"
   ]
  },
  {
   "cell_type": "code",
   "execution_count": 94,
   "metadata": {},
   "outputs": [],
   "source": [
    "num_imputer = SimpleImputer(missing_values=np.nan, strategy='mean')\n",
    "num_scaler = RobustScaler()\n",
    "\n",
    "cat_imputer = SimpleImputer(missing_values=np.nan, strategy='most_frequent')\n",
    "cat_encoder = OrdinalEncoder(dtype=np.float32,\n",
    "                             handle_unknown='use_encoded_value',\n",
    "                             unknown_value=-2,\n",
    "                             encoded_missing_value=-1,\n",
    "                             min_frequency=10)\n",
    "cat_scaler = RobustScaler()\n",
    "\n",
    "outlier_detector = IsolationForest(random_state=42, n_jobs=4, contamination=0.01)\n",
    "sampler = RandomUnderSampler(random_state=42)\n",
    "\n",
    "label_encoder = LabelEncoder()\n",
    "\n",
    "# def preprocessor(X_tr, X_ts, y_tr, y_ts):\n",
    "#   X_tr_pre, X_ts_pre, y_tr_pre, y_ts_pre = X_tr, X_ts, y_tr, y_ts\n",
    "  \n",
    "#   X_tr_pre, X_ts_pre = num_col_preprocessor(X_tr_pre, X_ts_pre,\n",
    "#                                             imputer=num_imputer,\n",
    "#                                             scaler=num_scaler,\n",
    "#                                             num_cols=X_num_cols.to_list())\n",
    "#   X_tr_pre, X_ts_pre = cat_col_preprocessor(X_tr_pre, X_ts_pre,\n",
    "#                                             imputer=cat_imputer,\n",
    "#                                             encoder=cat_encoder,\n",
    "#                                             scaler=cat_scaler,\n",
    "#                                             cat_cols=X_cat_cols.to_list())\n",
    "#   X_tr_pre, y_tr_pre = remove_outliers(X_tr_pre, y_tr_pre, outlier_detector)\n",
    "#   y_tr_pre, y_ts_pre = target_encoding(y_tr_pre, y_ts_pre, label_encoder)\n",
    "#   X_tr_pre, y_tr_pre = resampling(X_tr_pre, y_tr_pre, sampler)\n",
    "#   X_tr_pre, X_ts_pre, y_tr_pre, y_ts_pre = save_memory(X_tr_pre, X_ts_pre, y_tr_pre, y_ts_pre)\n",
    "  \n",
    "#   return [X_tr_pre, X_ts_pre, y_tr_pre, y_ts_pre]"
   ]
  },
  {
   "cell_type": "code",
   "execution_count": 98,
   "metadata": {},
   "outputs": [],
   "source": [
    "num_preprocessor = Pipeline([\n",
    "  ('imputer', num_imputer),\n",
    "  ('scaler', num_scaler)\n",
    "])\n",
    "\n",
    "cat_preprocessor = Pipeline([\n",
    "  ('imputer', cat_imputer),\n",
    "  ('encoder', cat_encoder),\n",
    "  ('scaler', cat_scaler)\n",
    "])\n",
    "\n",
    "preprocessor = ColumnTransformer(\n",
    "  transformers=[\n",
    "    ('num', num_preprocessor, X_num_cols.to_list()),\n",
    "    ('cat', cat_preprocessor, X_cat_cols.to_list())\n",
    "  ]\n",
    ")"
   ]
  },
  {
   "cell_type": "markdown",
   "metadata": {},
   "source": [
    "### **Model Selection**"
   ]
  },
  {
   "cell_type": "markdown",
   "metadata": {},
   "source": [
    "##### **A. Default LGBMClassifier**"
   ]
  },
  {
   "cell_type": "code",
   "execution_count": 100,
   "metadata": {},
   "outputs": [],
   "source": [
    "# %%script skipped # Skipped for resource optimization\n",
    "\n",
    "clf_lgbm_default = LGBMClassifier(objective='binary', boosting_type='gbdt', metric='auc', n_jobs=4, verbosity=-1)\n",
    "\n",
    "pipeline = Pipeline([\n",
    "  ('preprocessor', preprocessor),\n",
    "  ('clf_lgbm_default', clf_lgbm_default)\n",
    "])"
   ]
  },
  {
   "cell_type": "code",
   "execution_count": 101,
   "metadata": {},
   "outputs": [
    {
     "ename": "TypeError",
     "evalue": "All intermediate steps should be transformers and implement fit and transform or be the string 'passthrough' 'IsolationForest(contamination=0.01, n_jobs=4, random_state=42)' (type <class 'sklearn.ensemble._iforest.IsolationForest'>) doesn't",
     "output_type": "error",
     "traceback": [
      "\u001b[1;31m---------------------------------------------------------------------------\u001b[0m",
      "\u001b[1;31mTypeError\u001b[0m                                 Traceback (most recent call last)",
      "\u001b[1;32md:\\Project\\Python\\Portfolio\\Big Data\\[Bottleneck] CLS - Spring Leaf Markeing Response\\marketing_classification.ipynb Cell 93\u001b[0m line \u001b[0;36m1\n\u001b[0;32m      <a href='vscode-notebook-cell:/d%3A/Project/Python/Portfolio/Big%20Data/%5BBottleneck%5D%20CLS%20-%20Spring%20Leaf%20Markeing%20Response/marketing_classification.ipynb#Y160sZmlsZQ%3D%3D?line=6'>7</a>\u001b[0m X_train, X_valid \u001b[39m=\u001b[39m X\u001b[39m.\u001b[39miloc[train_idx], X\u001b[39m.\u001b[39miloc[valid_idx]\n\u001b[0;32m      <a href='vscode-notebook-cell:/d%3A/Project/Python/Portfolio/Big%20Data/%5BBottleneck%5D%20CLS%20-%20Spring%20Leaf%20Markeing%20Response/marketing_classification.ipynb#Y160sZmlsZQ%3D%3D?line=7'>8</a>\u001b[0m y_train, y_valid \u001b[39m=\u001b[39m y\u001b[39m.\u001b[39miloc[train_idx], y\u001b[39m.\u001b[39miloc[valid_idx]\n\u001b[1;32m---> <a href='vscode-notebook-cell:/d%3A/Project/Python/Portfolio/Big%20Data/%5BBottleneck%5D%20CLS%20-%20Spring%20Leaf%20Markeing%20Response/marketing_classification.ipynb#Y160sZmlsZQ%3D%3D?line=9'>10</a>\u001b[0m pipeline\u001b[39m.\u001b[39;49mfit(X_train, y_train)\n\u001b[0;32m     <a href='vscode-notebook-cell:/d%3A/Project/Python/Portfolio/Big%20Data/%5BBottleneck%5D%20CLS%20-%20Spring%20Leaf%20Markeing%20Response/marketing_classification.ipynb#Y160sZmlsZQ%3D%3D?line=11'>12</a>\u001b[0m y_probs_train \u001b[39m=\u001b[39m pipeline\u001b[39m.\u001b[39mpredict_proba(X_train)[:, \u001b[39m1\u001b[39m]\n\u001b[0;32m     <a href='vscode-notebook-cell:/d%3A/Project/Python/Portfolio/Big%20Data/%5BBottleneck%5D%20CLS%20-%20Spring%20Leaf%20Markeing%20Response/marketing_classification.ipynb#Y160sZmlsZQ%3D%3D?line=12'>13</a>\u001b[0m y_probs_val \u001b[39m=\u001b[39m pipeline\u001b[39m.\u001b[39mpredict_proba(X_valid)[:, \u001b[39m1\u001b[39m]\n",
      "File \u001b[1;32mc:\\Users\\msi.pc\\AppData\\Local\\Programs\\Python\\Python312\\Lib\\site-packages\\sklearn\\base.py:1152\u001b[0m, in \u001b[0;36m_fit_context.<locals>.decorator.<locals>.wrapper\u001b[1;34m(estimator, *args, **kwargs)\u001b[0m\n\u001b[0;32m   1145\u001b[0m     estimator\u001b[39m.\u001b[39m_validate_params()\n\u001b[0;32m   1147\u001b[0m \u001b[39mwith\u001b[39;00m config_context(\n\u001b[0;32m   1148\u001b[0m     skip_parameter_validation\u001b[39m=\u001b[39m(\n\u001b[0;32m   1149\u001b[0m         prefer_skip_nested_validation \u001b[39mor\u001b[39;00m global_skip_validation\n\u001b[0;32m   1150\u001b[0m     )\n\u001b[0;32m   1151\u001b[0m ):\n\u001b[1;32m-> 1152\u001b[0m     \u001b[39mreturn\u001b[39;00m fit_method(estimator, \u001b[39m*\u001b[39;49margs, \u001b[39m*\u001b[39;49m\u001b[39m*\u001b[39;49mkwargs)\n",
      "File \u001b[1;32mc:\\Users\\msi.pc\\AppData\\Local\\Programs\\Python\\Python312\\Lib\\site-packages\\sklearn\\pipeline.py:423\u001b[0m, in \u001b[0;36mPipeline.fit\u001b[1;34m(self, X, y, **fit_params)\u001b[0m\n\u001b[0;32m    397\u001b[0m \u001b[39m\u001b[39m\u001b[39m\"\"\"Fit the model.\u001b[39;00m\n\u001b[0;32m    398\u001b[0m \n\u001b[0;32m    399\u001b[0m \u001b[39mFit all the transformers one after the other and transform the\u001b[39;00m\n\u001b[1;32m   (...)\u001b[0m\n\u001b[0;32m    420\u001b[0m \u001b[39m    Pipeline with fitted steps.\u001b[39;00m\n\u001b[0;32m    421\u001b[0m \u001b[39m\"\"\"\u001b[39;00m\n\u001b[0;32m    422\u001b[0m fit_params_steps \u001b[39m=\u001b[39m \u001b[39mself\u001b[39m\u001b[39m.\u001b[39m_check_fit_params(\u001b[39m*\u001b[39m\u001b[39m*\u001b[39mfit_params)\n\u001b[1;32m--> 423\u001b[0m Xt \u001b[39m=\u001b[39m \u001b[39mself\u001b[39;49m\u001b[39m.\u001b[39;49m_fit(X, y, \u001b[39m*\u001b[39;49m\u001b[39m*\u001b[39;49mfit_params_steps)\n\u001b[0;32m    424\u001b[0m \u001b[39mwith\u001b[39;00m _print_elapsed_time(\u001b[39m\"\u001b[39m\u001b[39mPipeline\u001b[39m\u001b[39m\"\u001b[39m, \u001b[39mself\u001b[39m\u001b[39m.\u001b[39m_log_message(\u001b[39mlen\u001b[39m(\u001b[39mself\u001b[39m\u001b[39m.\u001b[39msteps) \u001b[39m-\u001b[39m \u001b[39m1\u001b[39m)):\n\u001b[0;32m    425\u001b[0m     \u001b[39mif\u001b[39;00m \u001b[39mself\u001b[39m\u001b[39m.\u001b[39m_final_estimator \u001b[39m!=\u001b[39m \u001b[39m\"\u001b[39m\u001b[39mpassthrough\u001b[39m\u001b[39m\"\u001b[39m:\n",
      "File \u001b[1;32mc:\\Users\\msi.pc\\AppData\\Local\\Programs\\Python\\Python312\\Lib\\site-packages\\sklearn\\pipeline.py:357\u001b[0m, in \u001b[0;36mPipeline._fit\u001b[1;34m(self, X, y, **fit_params_steps)\u001b[0m\n\u001b[0;32m    354\u001b[0m \u001b[39mdef\u001b[39;00m \u001b[39m_fit\u001b[39m(\u001b[39mself\u001b[39m, X, y\u001b[39m=\u001b[39m\u001b[39mNone\u001b[39;00m, \u001b[39m*\u001b[39m\u001b[39m*\u001b[39mfit_params_steps):\n\u001b[0;32m    355\u001b[0m     \u001b[39m# shallow copy of steps - this should really be steps_\u001b[39;00m\n\u001b[0;32m    356\u001b[0m     \u001b[39mself\u001b[39m\u001b[39m.\u001b[39msteps \u001b[39m=\u001b[39m \u001b[39mlist\u001b[39m(\u001b[39mself\u001b[39m\u001b[39m.\u001b[39msteps)\n\u001b[1;32m--> 357\u001b[0m     \u001b[39mself\u001b[39;49m\u001b[39m.\u001b[39;49m_validate_steps()\n\u001b[0;32m    358\u001b[0m     \u001b[39m# Setup the memory\u001b[39;00m\n\u001b[0;32m    359\u001b[0m     memory \u001b[39m=\u001b[39m check_memory(\u001b[39mself\u001b[39m\u001b[39m.\u001b[39mmemory)\n",
      "File \u001b[1;32mc:\\Users\\msi.pc\\AppData\\Local\\Programs\\Python\\Python312\\Lib\\site-packages\\sklearn\\pipeline.py:241\u001b[0m, in \u001b[0;36mPipeline._validate_steps\u001b[1;34m(self)\u001b[0m\n\u001b[0;32m    237\u001b[0m         \u001b[39mcontinue\u001b[39;00m\n\u001b[0;32m    238\u001b[0m     \u001b[39mif\u001b[39;00m \u001b[39mnot\u001b[39;00m (\u001b[39mhasattr\u001b[39m(t, \u001b[39m\"\u001b[39m\u001b[39mfit\u001b[39m\u001b[39m\"\u001b[39m) \u001b[39mor\u001b[39;00m \u001b[39mhasattr\u001b[39m(t, \u001b[39m\"\u001b[39m\u001b[39mfit_transform\u001b[39m\u001b[39m\"\u001b[39m)) \u001b[39mor\u001b[39;00m \u001b[39mnot\u001b[39;00m \u001b[39mhasattr\u001b[39m(\n\u001b[0;32m    239\u001b[0m         t, \u001b[39m\"\u001b[39m\u001b[39mtransform\u001b[39m\u001b[39m\"\u001b[39m\n\u001b[0;32m    240\u001b[0m     ):\n\u001b[1;32m--> 241\u001b[0m         \u001b[39mraise\u001b[39;00m \u001b[39mTypeError\u001b[39;00m(\n\u001b[0;32m    242\u001b[0m             \u001b[39m\"\u001b[39m\u001b[39mAll intermediate steps should be \u001b[39m\u001b[39m\"\u001b[39m\n\u001b[0;32m    243\u001b[0m             \u001b[39m\"\u001b[39m\u001b[39mtransformers and implement fit and transform \u001b[39m\u001b[39m\"\u001b[39m\n\u001b[0;32m    244\u001b[0m             \u001b[39m\"\u001b[39m\u001b[39mor be the string \u001b[39m\u001b[39m'\u001b[39m\u001b[39mpassthrough\u001b[39m\u001b[39m'\u001b[39m\u001b[39m \u001b[39m\u001b[39m\"\u001b[39m\n\u001b[0;32m    245\u001b[0m             \u001b[39m\"\u001b[39m\u001b[39m'\u001b[39m\u001b[39m%s\u001b[39;00m\u001b[39m'\u001b[39m\u001b[39m (type \u001b[39m\u001b[39m%s\u001b[39;00m\u001b[39m) doesn\u001b[39m\u001b[39m'\u001b[39m\u001b[39mt\u001b[39m\u001b[39m\"\u001b[39m \u001b[39m%\u001b[39m (t, \u001b[39mtype\u001b[39m(t))\n\u001b[0;32m    246\u001b[0m         )\n\u001b[0;32m    248\u001b[0m \u001b[39m# We allow last estimator to be None as an identity transformation\u001b[39;00m\n\u001b[0;32m    249\u001b[0m \u001b[39mif\u001b[39;00m (\n\u001b[0;32m    250\u001b[0m     estimator \u001b[39mis\u001b[39;00m \u001b[39mnot\u001b[39;00m \u001b[39mNone\u001b[39;00m\n\u001b[0;32m    251\u001b[0m     \u001b[39mand\u001b[39;00m estimator \u001b[39m!=\u001b[39m \u001b[39m\"\u001b[39m\u001b[39mpassthrough\u001b[39m\u001b[39m\"\u001b[39m\n\u001b[0;32m    252\u001b[0m     \u001b[39mand\u001b[39;00m \u001b[39mnot\u001b[39;00m \u001b[39mhasattr\u001b[39m(estimator, \u001b[39m\"\u001b[39m\u001b[39mfit\u001b[39m\u001b[39m\"\u001b[39m)\n\u001b[0;32m    253\u001b[0m ):\n",
      "\u001b[1;31mTypeError\u001b[0m: All intermediate steps should be transformers and implement fit and transform or be the string 'passthrough' 'IsolationForest(contamination=0.01, n_jobs=4, random_state=42)' (type <class 'sklearn.ensemble._iforest.IsolationForest'>) doesn't"
     ]
    }
   ],
   "source": [
    "# %%script skipped # Skipped for resource optimization\n",
    "\n",
    "auc_scores_train = np.zeros(n_splits)\n",
    "auc_scores_valid = np.zeros(n_splits)\n",
    "\n",
    "for fold, (train_idx, valid_idx) in enumerate(skf.split(X, y)):\n",
    "  X_train, X_valid = X.iloc[train_idx], X.iloc[valid_idx]\n",
    "  y_train, y_valid = y.iloc[train_idx], y.iloc[valid_idx]\n",
    "    \n",
    "  pipeline.fit(X_train, y_train)\n",
    "  \n",
    "  y_probs_train = pipeline.predict_proba(X_train)[:, 1]\n",
    "  y_probs_val = pipeline.predict_proba(X_valid)[:, 1]\n",
    "  \n",
    "  auc_train = roc_auc_score(y_train, y_probs_train)\n",
    "  auc_valid = roc_auc_score(y_valid, y_probs_val)\n",
    "  \n",
    "  auc_scores_valid[fold] = auc_valid\n",
    "  auc_scores_train[fold] = auc_train\n",
    "  \n",
    "  print(f'Fold {fold + 1} => AUC score: {auc_train:.4f} (train) | {auc_valid:.4f} (valid)')\n",
    "  \n",
    "mean_auc_train = np.mean(auc_scores_train)\n",
    "mean_auc_val = np.mean(auc_scores_valid)\n",
    "\n",
    "print(f'Mean AUC oof score: {mean_auc_train:.4f} (train) | {mean_auc_val:.4f} (valid)')"
   ]
  },
  {
   "cell_type": "code",
   "execution_count": 90,
   "metadata": {},
   "outputs": [
    {
     "data": {
      "text/plain": [
       "<Axes: title={'center': 'Feature Importance Default LGBM (AUC = 0.7764)'}, xlabel='Feature', ylabel='Feature Importance'>"
      ]
     },
     "execution_count": 90,
     "metadata": {},
     "output_type": "execute_result"
    },
    {
     "data": {
      "image/png": "[encoded data removed]",
      "text/plain": [
       "<Figure size 1500x300 with 1 Axes>"
      ]
     },
     "metadata": {},
     "output_type": "display_data"
    }
   ],
   "source": [
    "# %%script skipped # Skipped for resource optimization\n",
    "\n",
    "df_feat_imp = pd.DataFrame({'Feature': clf_lgbm_default.feature_name_, 'Importance': clf_lgbm_default.feature_importances_})\n",
    "df_feat_imp = df_feat_imp.sort_values(by='Importance', ascending=False)\n",
    "df_feat_imp[:50].plot(kind='bar',\n",
    "                      x='Feature',\n",
    "                      y='Importance',\n",
    "                      title=f'Feature Importance Default LGBM (AUC = {mean_auc_val:.4f})',\n",
    "                      xlabel='Feature',\n",
    "                      ylabel='Feature Importance',\n",
    "                      figsize=(15, 3))"
   ]
  },
  {
   "cell_type": "code",
   "execution_count": 91,
   "metadata": {},
   "outputs": [
    {
     "data": {
      "text/html": [
       "<div>\n",
       "<style scoped>\n",
       "    .dataframe tbody tr th:only-of-type {\n",
       "        vertical-align: middle;\n",
       "    }\n",
       "\n",
       "    .dataframe tbody tr th {\n",
       "        vertical-align: top;\n",
       "    }\n",
       "\n",
       "    .dataframe thead th {\n",
       "        text-align: right;\n",
       "    }\n",
       "</style>\n",
       "<table border=\"1\" class=\"dataframe\">\n",
       "  <thead>\n",
       "    <tr style=\"text-align: right;\">\n",
       "      <th></th>\n",
       "      <th>VAR_0004</th>\n",
       "      <th>VAR_0003</th>\n",
       "      <th>VAR_0810</th>\n",
       "      <th>VAR_0881</th>\n",
       "      <th>VAR_1127</th>\n",
       "      <th>VAR_1329</th>\n",
       "      <th>VAR_0970</th>\n",
       "      <th>VAR_1392</th>\n",
       "      <th>VAR_0212</th>\n",
       "      <th>VAR_0795</th>\n",
       "      <th>VAR_0896</th>\n",
       "      <th>VAR_0241</th>\n",
       "      <th>VAR_0871</th>\n",
       "      <th>VAR_0855</th>\n",
       "      <th>VAR_0540</th>\n",
       "      <th>VAR_0853</th>\n",
       "      <th>VAR_0708</th>\n",
       "      <th>VAR_0707</th>\n",
       "      <th>VAR_0837</th>\n",
       "      <th>VAR_0806</th>\n",
       "      <th>VAR_0886</th>\n",
       "      <th>VAR_1747</th>\n",
       "      <th>VAR_0005</th>\n",
       "      <th>VAR_0579</th>\n",
       "      <th>VAR_1934</th>\n",
       "      <th>VAR_1150</th>\n",
       "      <th>VAR_0272</th>\n",
       "      <th>VAR_0968</th>\n",
       "      <th>VAR_1398</th>\n",
       "      <th>VAR_1110</th>\n",
       "      <th>VAR_0544</th>\n",
       "      <th>VAR_0613</th>\n",
       "      <th>VAR_0002</th>\n",
       "      <th>VAR_0274</th>\n",
       "      <th>VAR_0628</th>\n",
       "      <th>VAR_1128</th>\n",
       "      <th>VAR_0656</th>\n",
       "      <th>VAR_1424</th>\n",
       "      <th>VAR_1135</th>\n",
       "      <th>VAR_1748</th>\n",
       "      <th>VAR_0237</th>\n",
       "      <th>VAR_0273</th>\n",
       "      <th>VAR_1399</th>\n",
       "      <th>VAR_1358</th>\n",
       "      <th>VAR_0265</th>\n",
       "      <th>VAR_1743</th>\n",
       "      <th>VAR_0880</th>\n",
       "      <th>VAR_0943</th>\n",
       "      <th>VAR_1134</th>\n",
       "      <th>VAR_0282</th>\n",
       "    </tr>\n",
       "  </thead>\n",
       "  <tbody>\n",
       "    <tr>\n",
       "      <th>0</th>\n",
       "      <td>4300</td>\n",
       "      <td>0</td>\n",
       "      <td>0</td>\n",
       "      <td>62</td>\n",
       "      <td>100</td>\n",
       "      <td>82</td>\n",
       "      <td>76857</td>\n",
       "      <td>2</td>\n",
       "      <td>NaN</td>\n",
       "      <td>0</td>\n",
       "      <td>49463</td>\n",
       "      <td>33324.0</td>\n",
       "      <td>41</td>\n",
       "      <td>-99999</td>\n",
       "      <td>84</td>\n",
       "      <td>-99999</td>\n",
       "      <td>1</td>\n",
       "      <td>107</td>\n",
       "      <td>-99999</td>\n",
       "      <td>1</td>\n",
       "      <td>89</td>\n",
       "      <td>999999997</td>\n",
       "      <td>C</td>\n",
       "      <td>65</td>\n",
       "      <td>IAPS</td>\n",
       "      <td>9994</td>\n",
       "      <td>595.0</td>\n",
       "      <td>116783</td>\n",
       "      <td>999999997</td>\n",
       "      <td>66</td>\n",
       "      <td>3230</td>\n",
       "      <td>67</td>\n",
       "      <td>224</td>\n",
       "      <td>FL</td>\n",
       "      <td>0</td>\n",
       "      <td>100</td>\n",
       "      <td>997</td>\n",
       "      <td>9998</td>\n",
       "      <td>9996</td>\n",
       "      <td>999999997</td>\n",
       "      <td>FL</td>\n",
       "      <td>582.0</td>\n",
       "      <td>999999997</td>\n",
       "      <td>62</td>\n",
       "      <td>0.0</td>\n",
       "      <td>97</td>\n",
       "      <td>68</td>\n",
       "      <td>105</td>\n",
       "      <td>9996</td>\n",
       "      <td>347.0</td>\n",
       "    </tr>\n",
       "    <tr>\n",
       "      <th>1</th>\n",
       "      <td>4448</td>\n",
       "      <td>53</td>\n",
       "      <td>4</td>\n",
       "      <td>58</td>\n",
       "      <td>100</td>\n",
       "      <td>101</td>\n",
       "      <td>5296</td>\n",
       "      <td>0</td>\n",
       "      <td>9.207126e+10</td>\n",
       "      <td>1</td>\n",
       "      <td>3193</td>\n",
       "      <td>92071.0</td>\n",
       "      <td>10</td>\n",
       "      <td>1</td>\n",
       "      <td>63</td>\n",
       "      <td>1</td>\n",
       "      <td>4</td>\n",
       "      <td>59</td>\n",
       "      <td>1</td>\n",
       "      <td>8</td>\n",
       "      <td>95</td>\n",
       "      <td>999999998</td>\n",
       "      <td>B</td>\n",
       "      <td>37</td>\n",
       "      <td>IAPS</td>\n",
       "      <td>9994</td>\n",
       "      <td>326.0</td>\n",
       "      <td>8122</td>\n",
       "      <td>999999998</td>\n",
       "      <td>99</td>\n",
       "      <td>899</td>\n",
       "      <td>100</td>\n",
       "      <td>7</td>\n",
       "      <td>MI</td>\n",
       "      <td>0</td>\n",
       "      <td>100</td>\n",
       "      <td>99</td>\n",
       "      <td>9998</td>\n",
       "      <td>9996</td>\n",
       "      <td>999999998</td>\n",
       "      <td>CA</td>\n",
       "      <td>301.0</td>\n",
       "      <td>999999998</td>\n",
       "      <td>99</td>\n",
       "      <td>0.0</td>\n",
       "      <td>98</td>\n",
       "      <td>98</td>\n",
       "      <td>24</td>\n",
       "      <td>9996</td>\n",
       "      <td>6.0</td>\n",
       "    </tr>\n",
       "    <tr>\n",
       "      <th>2</th>\n",
       "      <td>3464</td>\n",
       "      <td>3</td>\n",
       "      <td>-99999</td>\n",
       "      <td>-99999</td>\n",
       "      <td>100</td>\n",
       "      <td>997</td>\n",
       "      <td>999999997</td>\n",
       "      <td>1</td>\n",
       "      <td>2.654775e+10</td>\n",
       "      <td>0</td>\n",
       "      <td>-99999</td>\n",
       "      <td>26547.0</td>\n",
       "      <td>73</td>\n",
       "      <td>26</td>\n",
       "      <td>48</td>\n",
       "      <td>26</td>\n",
       "      <td>1</td>\n",
       "      <td>69</td>\n",
       "      <td>0</td>\n",
       "      <td>1</td>\n",
       "      <td>82</td>\n",
       "      <td>999999997</td>\n",
       "      <td>C</td>\n",
       "      <td>57</td>\n",
       "      <td>IAPS</td>\n",
       "      <td>9994</td>\n",
       "      <td>303.0</td>\n",
       "      <td>1100</td>\n",
       "      <td>2116</td>\n",
       "      <td>88</td>\n",
       "      <td>0</td>\n",
       "      <td>997</td>\n",
       "      <td>116</td>\n",
       "      <td>WV</td>\n",
       "      <td>0</td>\n",
       "      <td>100</td>\n",
       "      <td>995</td>\n",
       "      <td>9998</td>\n",
       "      <td>24</td>\n",
       "      <td>999999997</td>\n",
       "      <td>WV</td>\n",
       "      <td>291.0</td>\n",
       "      <td>7071</td>\n",
       "      <td>997</td>\n",
       "      <td>0.0</td>\n",
       "      <td>1</td>\n",
       "      <td>88</td>\n",
       "      <td>9996</td>\n",
       "      <td>24</td>\n",
       "      <td>-1.0</td>\n",
       "    </tr>\n",
       "    <tr>\n",
       "      <th>3</th>\n",
       "      <td>3200</td>\n",
       "      <td>300</td>\n",
       "      <td>0</td>\n",
       "      <td>61</td>\n",
       "      <td>50</td>\n",
       "      <td>95</td>\n",
       "      <td>6313</td>\n",
       "      <td>0</td>\n",
       "      <td>7.757535e+10</td>\n",
       "      <td>0</td>\n",
       "      <td>183</td>\n",
       "      <td>77575.0</td>\n",
       "      <td>21</td>\n",
       "      <td>3</td>\n",
       "      <td>65</td>\n",
       "      <td>3</td>\n",
       "      <td>4</td>\n",
       "      <td>33</td>\n",
       "      <td>3</td>\n",
       "      <td>5</td>\n",
       "      <td>72</td>\n",
       "      <td>24915</td>\n",
       "      <td>C</td>\n",
       "      <td>21</td>\n",
       "      <td>RCC</td>\n",
       "      <td>74</td>\n",
       "      <td>484.0</td>\n",
       "      <td>6341</td>\n",
       "      <td>999999998</td>\n",
       "      <td>77</td>\n",
       "      <td>286</td>\n",
       "      <td>60</td>\n",
       "      <td>240</td>\n",
       "      <td>TX</td>\n",
       "      <td>0</td>\n",
       "      <td>56</td>\n",
       "      <td>100</td>\n",
       "      <td>1</td>\n",
       "      <td>0</td>\n",
       "      <td>37083</td>\n",
       "      <td>TX</td>\n",
       "      <td>472.0</td>\n",
       "      <td>999999998</td>\n",
       "      <td>95</td>\n",
       "      <td>0.0</td>\n",
       "      <td>0</td>\n",
       "      <td>76</td>\n",
       "      <td>18</td>\n",
       "      <td>0</td>\n",
       "      <td>131.0</td>\n",
       "    </tr>\n",
       "    <tr>\n",
       "      <th>4</th>\n",
       "      <td>2000</td>\n",
       "      <td>261</td>\n",
       "      <td>4</td>\n",
       "      <td>90</td>\n",
       "      <td>91</td>\n",
       "      <td>99</td>\n",
       "      <td>13576</td>\n",
       "      <td>0</td>\n",
       "      <td>6.042377e+10</td>\n",
       "      <td>0</td>\n",
       "      <td>9588</td>\n",
       "      <td>60423.0</td>\n",
       "      <td>4</td>\n",
       "      <td>6</td>\n",
       "      <td>84</td>\n",
       "      <td>6</td>\n",
       "      <td>2</td>\n",
       "      <td>134</td>\n",
       "      <td>1</td>\n",
       "      <td>4</td>\n",
       "      <td>81</td>\n",
       "      <td>999999998</td>\n",
       "      <td>N</td>\n",
       "      <td>96</td>\n",
       "      <td>BRANCH</td>\n",
       "      <td>37</td>\n",
       "      <td>520.0</td>\n",
       "      <td>14761</td>\n",
       "      <td>999999998</td>\n",
       "      <td>59</td>\n",
       "      <td>947</td>\n",
       "      <td>104</td>\n",
       "      <td>72</td>\n",
       "      <td>IL</td>\n",
       "      <td>0</td>\n",
       "      <td>92</td>\n",
       "      <td>50</td>\n",
       "      <td>9998</td>\n",
       "      <td>6</td>\n",
       "      <td>999999998</td>\n",
       "      <td>IL</td>\n",
       "      <td>496.0</td>\n",
       "      <td>999999998</td>\n",
       "      <td>95</td>\n",
       "      <td>0.0</td>\n",
       "      <td>98</td>\n",
       "      <td>59</td>\n",
       "      <td>46</td>\n",
       "      <td>6</td>\n",
       "      <td>137.0</td>\n",
       "    </tr>\n",
       "  </tbody>\n",
       "</table>\n",
       "</div>"
      ],
      "text/plain": [
       "   VAR_0004  VAR_0003  VAR_0810  VAR_0881  VAR_1127  VAR_1329   VAR_0970  \\\n",
       "0      4300         0         0        62       100        82      76857   \n",
       "1      4448        53         4        58       100       101       5296   \n",
       "2      3464         3    -99999    -99999       100       997  999999997   \n",
       "3      3200       300         0        61        50        95       6313   \n",
       "4      2000       261         4        90        91        99      13576   \n",
       "\n",
       "   VAR_1392      VAR_0212  VAR_0795  VAR_0896  VAR_0241  VAR_0871  VAR_0855  \\\n",
       "0         2           NaN         0     49463   33324.0        41    -99999   \n",
       "1         0  9.207126e+10         1      3193   92071.0        10         1   \n",
       "2         1  2.654775e+10         0    -99999   26547.0        73        26   \n",
       "3         0  7.757535e+10         0       183   77575.0        21         3   \n",
       "4         0  6.042377e+10         0      9588   60423.0         4         6   \n",
       "\n",
       "   VAR_0540  VAR_0853  VAR_0708  VAR_0707  VAR_0837  VAR_0806  VAR_0886  \\\n",
       "0        84    -99999         1       107    -99999         1        89   \n",
       "1        63         1         4        59         1         8        95   \n",
       "2        48        26         1        69         0         1        82   \n",
       "3        65         3         4        33         3         5        72   \n",
       "4        84         6         2       134         1         4        81   \n",
       "\n",
       "    VAR_1747 VAR_0005  VAR_0579 VAR_1934  VAR_1150  VAR_0272  VAR_0968  \\\n",
       "0  999999997        C        65     IAPS      9994     595.0    116783   \n",
       "1  999999998        B        37     IAPS      9994     326.0      8122   \n",
       "2  999999997        C        57     IAPS      9994     303.0      1100   \n",
       "3      24915        C        21      RCC        74     484.0      6341   \n",
       "4  999999998        N        96   BRANCH        37     520.0     14761   \n",
       "\n",
       "    VAR_1398  VAR_1110  VAR_0544  VAR_0613  VAR_0002 VAR_0274  VAR_0628  \\\n",
       "0  999999997        66      3230        67       224       FL         0   \n",
       "1  999999998        99       899       100         7       MI         0   \n",
       "2       2116        88         0       997       116       WV         0   \n",
       "3  999999998        77       286        60       240       TX         0   \n",
       "4  999999998        59       947       104        72       IL         0   \n",
       "\n",
       "   VAR_1128  VAR_0656  VAR_1424  VAR_1135   VAR_1748 VAR_0237  VAR_0273  \\\n",
       "0       100       997      9998      9996  999999997       FL     582.0   \n",
       "1       100        99      9998      9996  999999998       CA     301.0   \n",
       "2       100       995      9998        24  999999997       WV     291.0   \n",
       "3        56       100         1         0      37083       TX     472.0   \n",
       "4        92        50      9998         6  999999998       IL     496.0   \n",
       "\n",
       "    VAR_1399  VAR_1358  VAR_0265  VAR_1743  VAR_0880  VAR_0943  VAR_1134  \\\n",
       "0  999999997        62       0.0        97        68       105      9996   \n",
       "1  999999998        99       0.0        98        98        24      9996   \n",
       "2       7071       997       0.0         1        88      9996        24   \n",
       "3  999999998        95       0.0         0        76        18         0   \n",
       "4  999999998        95       0.0        98        59        46         6   \n",
       "\n",
       "   VAR_0282  \n",
       "0     347.0  \n",
       "1       6.0  \n",
       "2      -1.0  \n",
       "3     131.0  \n",
       "4     137.0  "
      ]
     },
     "execution_count": 91,
     "metadata": {},
     "output_type": "execute_result"
    }
   ],
   "source": [
    "# %%script skipped # Skipped for resource optimization\n",
    "\n",
    "top_feat_50 = df[df_feat_imp[:50]['Feature']]\n",
    "top_feat_50.head()"
   ]
  },
  {
   "cell_type": "code",
   "execution_count": 92,
   "metadata": {},
   "outputs": [
    {
     "name": "stdout",
     "output_type": "stream",
     "text": [
      "Numbers of categorical feature(s): 4\n",
      "Numbers of numerical feature(s): 46\n"
     ]
    }
   ],
   "source": [
    "# %%script skipped # Skipped for resource optimization\n",
    "\n",
    "cat_feat = top_feat_50.select_dtypes('object').columns\n",
    "num_feat = top_feat_50.select_dtypes(exclude='object').columns\n",
    "\n",
    "print(f'Numbers of categorical feature(s): {len(cat_feat)}')\n",
    "print(f'Numbers of numerical feature(s): {len(num_feat)}')"
   ]
  },
  {
   "cell_type": "code",
   "execution_count": null,
   "metadata": {},
   "outputs": [],
   "source": [
    "y_preds = clf_lgbm_default.predict_proba(X_test)[:, 1]\n",
    "\n",
    "auc = roc_auc_score(y_test, y_preds)"
   ]
  },
  {
   "cell_type": "markdown",
   "metadata": {},
   "source": [
    "##### **B. Tuned LGBMClassifier**"
   ]
  },
  {
   "cell_type": "code",
   "execution_count": 62,
   "metadata": {},
   "outputs": [],
   "source": [
    "defined_params = {\n",
    "    'objective': 'binary',\n",
    "    'boosting_type': 'gbdt',\n",
    "    'metric': 'auc',\n",
    "    'n_jobs': 4,\n",
    "    'verbosity': -1,\n",
    "    'random_seed': 42\n",
    "  }\n",
    "\n",
    "def objective(trial: Trial):\n",
    "  tuned_params = {\n",
    "    'n_estimators': trial.suggest_int('n_estimators', 50, 150),\n",
    "    'learning_rate': trial.suggest_float('learning_rate', 1e-3, 0.5, log=True),\n",
    "    'num_leaves': trial.suggest_int('num_leaves', 20, 64),\n",
    "    'max_depth': trial.suggest_int('max_depth', 20, 128),\n",
    "    'min_child_samples': trial.suggest_int('min_child_samples', 10, 32),\n",
    "    'subsample': trial.suggest_float('subsample', 0.4, 1.0),\n",
    "    'colsample_bytree': trial.suggest_float('colsample_bytree', 0.4, 1.0),\n",
    "    'reg_alpha': trial.suggest_float('reg_alpha', 1e-3, 10.0, log=True),\n",
    "    'reg_lambda': trial.suggest_float('reg_lambda', 1e-3, 10.0, log=True)\n",
    "  }\n",
    "  \n",
    "  clf_lgbm_tuned = LGBMClassifier(**defined_params, **tuned_params)\n",
    "  \n",
    "  trunc_skf = [item for i, (item) in enumerate(skf.split(X, y)) if i % 2 == 1]\n",
    "  auc_scores = np.zeros(len(trunc_skf))\n",
    "\n",
    "  for fold, (train_idx, valid_idx) in enumerate(trunc_skf):\n",
    "    X_train, X_valid = X.iloc[train_idx], X.iloc[valid_idx]\n",
    "    y_train, y_valid = y.iloc[train_idx], y.iloc[valid_idx]\n",
    "    \n",
    "    X_train, X_valid, y_train, y_valid = preprocessor(X_train, X_valid, y_train, y_valid)\n",
    "    \n",
    "    clf_lgbm_tuned.fit(X_train, y_train)\n",
    "    \n",
    "    y_probs = clf_lgbm_tuned.predict_proba(X_valid)[:, 1]\n",
    "    \n",
    "    auc = roc_auc_score(y_valid, y_probs)\n",
    "    auc_scores[fold] = auc\n",
    "    \n",
    "    print(f'N={trial.number} (fold={fold + 1}) => AUC score: {auc}')\n",
    "    \n",
    "  mean_auc = np.mean(auc_scores)\n",
    "  print(f'Mean AUC oof score (n={trial.number}): {mean_auc:.4f}')\n",
    "  \n",
    "  return mean_auc\n",
    "\n",
    "def callback(study: Study, trial: Trial):\n",
    "  joblib.dump(study, 'clf_lgbm_study.pkl')"
   ]
  },
  {
   "cell_type": "code",
   "execution_count": 63,
   "metadata": {},
   "outputs": [],
   "source": [
    "try:\n",
    "  study = joblib.load('clf_lgbm_study.pkl')\n",
    "except FileNotFoundError:\n",
    "  study = optuna.create_study(direction='maximize')\n",
    "  study.optimize(objective, n_trials=50, n_jobs=2, callbacks=[callback])"
   ]
  },
  {
   "cell_type": "code",
   "execution_count": 64,
   "metadata": {},
   "outputs": [
    {
     "data": {
      "text/plain": [
       "{'n_estimators': 113,\n",
       " 'learning_rate': 0.07414738508726511,\n",
       " 'num_leaves': 64,\n",
       " 'max_depth': 128,\n",
       " 'min_child_samples': 26,\n",
       " 'subsample': 0.4088981384627649,\n",
       " 'colsample_bytree': 0.4649739607621698,\n",
       " 'reg_alpha': 0.00289556487927133,\n",
       " 'reg_lambda': 0.8929633543221254}"
      ]
     },
     "execution_count": 64,
     "metadata": {},
     "output_type": "execute_result"
    }
   ],
   "source": [
    "best_params = study.best_params\n",
    "best_params"
   ]
  },
  {
   "cell_type": "code",
   "execution_count": 67,
   "metadata": {},
   "outputs": [
    {
     "data": {
      "application/vnd.plotly.v1+json": {
       "config": {
        "plotlyServerURL": "https://plot.ly"
       },
       "data": [
        {
         "cliponaxis": false,
         "hovertemplate": [
          "colsample_bytree (FloatDistribution): 0.006229876220505104<extra></extra>",
          "num_leaves (IntDistribution): 0.016309753585482707<extra></extra>",
          "min_child_samples (IntDistribution): 0.02631188104409556<extra></extra>",
          "n_estimators (IntDistribution): 0.026609747426955592<extra></extra>",
          "reg_alpha (FloatDistribution): 0.029400626608375446<extra></extra>",
          "reg_lambda (FloatDistribution): 0.03538363108867132<extra></extra>",
          "subsample (FloatDistribution): 0.048370784023299994<extra></extra>",
          "max_depth (IntDistribution): 0.0522676788876766<extra></extra>",
          "learning_rate (FloatDistribution): 0.7591160211149377<extra></extra>"
         ],
         "name": "Objective Value",
         "orientation": "h",
         "text": [
          "<0.01",
          "0.02",
          "0.03",
          "0.03",
          "0.03",
          "0.04",
          "0.05",
          "0.05",
          "0.76"
         ],
         "textposition": "outside",
         "type": "bar",
         "x": [
          0.006229876220505104,
          0.016309753585482707,
          0.02631188104409556,
          0.026609747426955592,
          0.029400626608375446,
          0.03538363108867132,
          0.048370784023299994,
          0.0522676788876766,
          0.7591160211149377
         ],
         "y": [
          "colsample_bytree",
          "num_leaves",
          "min_child_samples",
          "n_estimators",
          "reg_alpha",
          "reg_lambda",
          "subsample",
          "max_depth",
          "learning_rate"
         ]
        }
       ],
       "layout": {
        "template": {
         "data": {
          "bar": [
           {
            "error_x": {
             "color": "#2a3f5f"
            },
            "error_y": {
             "color": "#2a3f5f"
            },
            "marker": {
             "line": {
              "color": "#E5ECF6",
              "width": 0.5
             },
             "pattern": {
              "fillmode": "overlay",
              "size": 10,
              "solidity": 0.2
             }
            },
            "type": "bar"
           }
          ],
          "barpolar": [
           {
            "marker": {
             "line": {
              "color": "#E5ECF6",
              "width": 0.5
             },
             "pattern": {
              "fillmode": "overlay",
              "size": 10,
              "solidity": 0.2
             }
            },
            "type": "barpolar"
           }
          ],
          "carpet": [
           {
            "aaxis": {
             "endlinecolor": "#2a3f5f",
             "gridcolor": "white",
             "linecolor": "white",
             "minorgridcolor": "white",
             "startlinecolor": "#2a3f5f"
            },
            "baxis": {
             "endlinecolor": "#2a3f5f",
             "gridcolor": "white",
             "linecolor": "white",
             "minorgridcolor": "white",
             "startlinecolor": "#2a3f5f"
            },
            "type": "carpet"
           }
          ],
          "choropleth": [
           {
            "colorbar": {
             "outlinewidth": 0,
             "ticks": ""
            },
            "type": "choropleth"
           }
          ],
          "contour": [
           {
            "colorbar": {
             "outlinewidth": 0,
             "ticks": ""
            },
            "colorscale": [
             [
              0,
              "#0d0887"
             ],
             [
              0.1111111111111111,
              "#46039f"
             ],
             [
              0.2222222222222222,
              "#7201a8"
             ],
             [
              0.3333333333333333,
              "#9c179e"
             ],
             [
              0.4444444444444444,
              "#bd3786"
             ],
             [
              0.5555555555555556,
              "#d8576b"
             ],
             [
              0.6666666666666666,
              "#ed7953"
             ],
             [
              0.7777777777777778,
              "#fb9f3a"
             ],
             [
              0.8888888888888888,
              "#fdca26"
             ],
             [
              1,
              "#f0f921"
             ]
            ],
            "type": "contour"
           }
          ],
          "contourcarpet": [
           {
            "colorbar": {
             "outlinewidth": 0,
             "ticks": ""
            },
            "type": "contourcarpet"
           }
          ],
          "heatmap": [
           {
            "colorbar": {
             "outlinewidth": 0,
             "ticks": ""
            },
            "colorscale": [
             [
              0,
              "#0d0887"
             ],
             [
              0.1111111111111111,
              "#46039f"
             ],
             [
              0.2222222222222222,
              "#7201a8"
             ],
             [
              0.3333333333333333,
              "#9c179e"
             ],
             [
              0.4444444444444444,
              "#bd3786"
             ],
             [
              0.5555555555555556,
              "#d8576b"
             ],
             [
              0.6666666666666666,
              "#ed7953"
             ],
             [
              0.7777777777777778,
              "#fb9f3a"
             ],
             [
              0.8888888888888888,
              "#fdca26"
             ],
             [
              1,
              "#f0f921"
             ]
            ],
            "type": "heatmap"
           }
          ],
          "heatmapgl": [
           {
            "colorbar": {
             "outlinewidth": 0,
             "ticks": ""
            },
            "colorscale": [
             [
              0,
              "#0d0887"
             ],
             [
              0.1111111111111111,
              "#46039f"
             ],
             [
              0.2222222222222222,
              "#7201a8"
             ],
             [
              0.3333333333333333,
              "#9c179e"
             ],
             [
              0.4444444444444444,
              "#bd3786"
             ],
             [
              0.5555555555555556,
              "#d8576b"
             ],
             [
              0.6666666666666666,
              "#ed7953"
             ],
             [
              0.7777777777777778,
              "#fb9f3a"
             ],
             [
              0.8888888888888888,
              "#fdca26"
             ],
             [
              1,
              "#f0f921"
             ]
            ],
            "type": "heatmapgl"
           }
          ],
          "histogram": [
           {
            "marker": {
             "pattern": {
              "fillmode": "overlay",
              "size": 10,
              "solidity": 0.2
             }
            },
            "type": "histogram"
           }
          ],
          "histogram2d": [
           {
            "colorbar": {
             "outlinewidth": 0,
             "ticks": ""
            },
            "colorscale": [
             [
              0,
              "#0d0887"
             ],
             [
              0.1111111111111111,
              "#46039f"
             ],
             [
              0.2222222222222222,
              "#7201a8"
             ],
             [
              0.3333333333333333,
              "#9c179e"
             ],
             [
              0.4444444444444444,
              "#bd3786"
             ],
             [
              0.5555555555555556,
              "#d8576b"
             ],
             [
              0.6666666666666666,
              "#ed7953"
             ],
             [
              0.7777777777777778,
              "#fb9f3a"
             ],
             [
              0.8888888888888888,
              "#fdca26"
             ],
             [
              1,
              "#f0f921"
             ]
            ],
            "type": "histogram2d"
           }
          ],
          "histogram2dcontour": [
           {
            "colorbar": {
             "outlinewidth": 0,
             "ticks": ""
            },
            "colorscale": [
             [
              0,
              "#0d0887"
             ],
             [
              0.1111111111111111,
              "#46039f"
             ],
             [
              0.2222222222222222,
              "#7201a8"
             ],
             [
              0.3333333333333333,
              "#9c179e"
             ],
             [
              0.4444444444444444,
              "#bd3786"
             ],
             [
              0.5555555555555556,
              "#d8576b"
             ],
             [
              0.6666666666666666,
              "#ed7953"
             ],
             [
              0.7777777777777778,
              "#fb9f3a"
             ],
             [
              0.8888888888888888,
              "#fdca26"
             ],
             [
              1,
              "#f0f921"
             ]
            ],
            "type": "histogram2dcontour"
           }
          ],
          "mesh3d": [
           {
            "colorbar": {
             "outlinewidth": 0,
             "ticks": ""
            },
            "type": "mesh3d"
           }
          ],
          "parcoords": [
           {
            "line": {
             "colorbar": {
              "outlinewidth": 0,
              "ticks": ""
             }
            },
            "type": "parcoords"
           }
          ],
          "pie": [
           {
            "automargin": true,
            "type": "pie"
           }
          ],
          "scatter": [
           {
            "fillpattern": {
             "fillmode": "overlay",
             "size": 10,
             "solidity": 0.2
            },
            "type": "scatter"
           }
          ],
          "scatter3d": [
           {
            "line": {
             "colorbar": {
              "outlinewidth": 0,
              "ticks": ""
             }
            },
            "marker": {
             "colorbar": {
              "outlinewidth": 0,
              "ticks": ""
             }
            },
            "type": "scatter3d"
           }
          ],
          "scattercarpet": [
           {
            "marker": {
             "colorbar": {
              "outlinewidth": 0,
              "ticks": ""
             }
            },
            "type": "scattercarpet"
           }
          ],
          "scattergeo": [
           {
            "marker": {
             "colorbar": {
              "outlinewidth": 0,
              "ticks": ""
             }
            },
            "type": "scattergeo"
           }
          ],
          "scattergl": [
           {
            "marker": {
             "colorbar": {
              "outlinewidth": 0,
              "ticks": ""
             }
            },
            "type": "scattergl"
           }
          ],
          "scattermapbox": [
           {
            "marker": {
             "colorbar": {
              "outlinewidth": 0,
              "ticks": ""
             }
            },
            "type": "scattermapbox"
           }
          ],
          "scatterpolar": [
           {
            "marker": {
             "colorbar": {
              "outlinewidth": 0,
              "ticks": ""
             }
            },
            "type": "scatterpolar"
           }
          ],
          "scatterpolargl": [
           {
            "marker": {
             "colorbar": {
              "outlinewidth": 0,
              "ticks": ""
             }
            },
            "type": "scatterpolargl"
           }
          ],
          "scatterternary": [
           {
            "marker": {
             "colorbar": {
              "outlinewidth": 0,
              "ticks": ""
             }
            },
            "type": "scatterternary"
           }
          ],
          "surface": [
           {
            "colorbar": {
             "outlinewidth": 0,
             "ticks": ""
            },
            "colorscale": [
             [
              0,
              "#0d0887"
             ],
             [
              0.1111111111111111,
              "#46039f"
             ],
             [
              0.2222222222222222,
              "#7201a8"
             ],
             [
              0.3333333333333333,
              "#9c179e"
             ],
             [
              0.4444444444444444,
              "#bd3786"
             ],
             [
              0.5555555555555556,
              "#d8576b"
             ],
             [
              0.6666666666666666,
              "#ed7953"
             ],
             [
              0.7777777777777778,
              "#fb9f3a"
             ],
             [
              0.8888888888888888,
              "#fdca26"
             ],
             [
              1,
              "#f0f921"
             ]
            ],
            "type": "surface"
           }
          ],
          "table": [
           {
            "cells": {
             "fill": {
              "color": "#EBF0F8"
             },
             "line": {
              "color": "white"
             }
            },
            "header": {
             "fill": {
              "color": "#C8D4E3"
             },
             "line": {
              "color": "white"
             }
            },
            "type": "table"
           }
          ]
         },
         "layout": {
          "annotationdefaults": {
           "arrowcolor": "#2a3f5f",
           "arrowhead": 0,
           "arrowwidth": 1
          },
          "autotypenumbers": "strict",
          "coloraxis": {
           "colorbar": {
            "outlinewidth": 0,
            "ticks": ""
           }
          },
          "colorscale": {
           "diverging": [
            [
             0,
             "#8e0152"
            ],
            [
             0.1,
             "#c51b7d"
            ],
            [
             0.2,
             "#de77ae"
            ],
            [
             0.3,
             "#f1b6da"
            ],
            [
             0.4,
             "#fde0ef"
            ],
            [
             0.5,
             "#f7f7f7"
            ],
            [
             0.6,
             "#e6f5d0"
            ],
            [
             0.7,
             "#b8e186"
            ],
            [
             0.8,
             "#7fbc41"
            ],
            [
             0.9,
             "#4d9221"
            ],
            [
             1,
             "#276419"
            ]
           ],
           "sequential": [
            [
             0,
             "#0d0887"
            ],
            [
             0.1111111111111111,
             "#46039f"
            ],
            [
             0.2222222222222222,
             "#7201a8"
            ],
            [
             0.3333333333333333,
             "#9c179e"
            ],
            [
             0.4444444444444444,
             "#bd3786"
            ],
            [
             0.5555555555555556,
             "#d8576b"
            ],
            [
             0.6666666666666666,
             "#ed7953"
            ],
            [
             0.7777777777777778,
             "#fb9f3a"
            ],
            [
             0.8888888888888888,
             "#fdca26"
            ],
            [
             1,
             "#f0f921"
            ]
           ],
           "sequentialminus": [
            [
             0,
             "#0d0887"
            ],
            [
             0.1111111111111111,
             "#46039f"
            ],
            [
             0.2222222222222222,
             "#7201a8"
            ],
            [
             0.3333333333333333,
             "#9c179e"
            ],
            [
             0.4444444444444444,
             "#bd3786"
            ],
            [
             0.5555555555555556,
             "#d8576b"
            ],
            [
             0.6666666666666666,
             "#ed7953"
            ],
            [
             0.7777777777777778,
             "#fb9f3a"
            ],
            [
             0.8888888888888888,
             "#fdca26"
            ],
            [
             1,
             "#f0f921"
            ]
           ]
          },
          "colorway": [
           "#636efa",
           "#EF553B",
           "#00cc96",
           "#ab63fa",
           "#FFA15A",
           "#19d3f3",
           "#FF6692",
           "#B6E880",
           "#FF97FF",
           "#FECB52"
          ],
          "font": {
           "color": "#2a3f5f"
          },
          "geo": {
           "bgcolor": "white",
           "lakecolor": "white",
           "landcolor": "#E5ECF6",
           "showlakes": true,
           "showland": true,
           "subunitcolor": "white"
          },
          "hoverlabel": {
           "align": "left"
          },
          "hovermode": "closest",
          "mapbox": {
           "style": "light"
          },
          "paper_bgcolor": "white",
          "plot_bgcolor": "#E5ECF6",
          "polar": {
           "angularaxis": {
            "gridcolor": "white",
            "linecolor": "white",
            "ticks": ""
           },
           "bgcolor": "#E5ECF6",
           "radialaxis": {
            "gridcolor": "white",
            "linecolor": "white",
            "ticks": ""
           }
          },
          "scene": {
           "xaxis": {
            "backgroundcolor": "#E5ECF6",
            "gridcolor": "white",
            "gridwidth": 2,
            "linecolor": "white",
            "showbackground": true,
            "ticks": "",
            "zerolinecolor": "white"
           },
           "yaxis": {
            "backgroundcolor": "#E5ECF6",
            "gridcolor": "white",
            "gridwidth": 2,
            "linecolor": "white",
            "showbackground": true,
            "ticks": "",
            "zerolinecolor": "white"
           },
           "zaxis": {
            "backgroundcolor": "#E5ECF6",
            "gridcolor": "white",
            "gridwidth": 2,
            "linecolor": "white",
            "showbackground": true,
            "ticks": "",
            "zerolinecolor": "white"
           }
          },
          "shapedefaults": {
           "line": {
            "color": "#2a3f5f"
           }
          },
          "ternary": {
           "aaxis": {
            "gridcolor": "white",
            "linecolor": "white",
            "ticks": ""
           },
           "baxis": {
            "gridcolor": "white",
            "linecolor": "white",
            "ticks": ""
           },
           "bgcolor": "#E5ECF6",
           "caxis": {
            "gridcolor": "white",
            "linecolor": "white",
            "ticks": ""
           }
          },
          "title": {
           "x": 0.05
          },
          "xaxis": {
           "automargin": true,
           "gridcolor": "white",
           "linecolor": "white",
           "ticks": "",
           "title": {
            "standoff": 15
           },
           "zerolinecolor": "white",
           "zerolinewidth": 2
          },
          "yaxis": {
           "automargin": true,
           "gridcolor": "white",
           "linecolor": "white",
           "ticks": "",
           "title": {
            "standoff": 15
           },
           "zerolinecolor": "white",
           "zerolinewidth": 2
          }
         }
        },
        "title": {
         "text": "Hyperparameter Importances"
        },
        "xaxis": {
         "title": {
          "text": "Hyperparameter Importance"
         }
        },
        "yaxis": {
         "title": {
          "text": "Hyperparameter"
         }
        }
       }
      }
     },
     "metadata": {},
     "output_type": "display_data"
    }
   ],
   "source": [
    "optuna.visualization.plot_param_importances(study)"
   ]
  },
  {
   "cell_type": "code",
   "execution_count": 65,
   "metadata": {},
   "outputs": [
    {
     "data": {
      "application/vnd.plotly.v1+json": {
       "config": {
        "plotlyServerURL": "https://plot.ly"
       },
       "data": [
        {
         "marker": {
          "color": [
           0,
           1,
           2,
           3,
           4,
           5,
           6,
           7,
           8,
           9,
           10,
           11,
           12,
           13,
           14,
           15,
           16,
           17,
           18,
           19,
           20,
           21,
           22,
           23,
           24,
           25,
           26,
           27,
           28,
           29,
           30,
           31,
           32,
           33,
           34,
           35,
           36,
           37,
           38,
           39,
           40,
           41,
           42,
           43,
           44,
           45,
           46,
           47,
           48,
           49
          ],
          "colorbar": {
           "title": {
            "text": "Trial"
           },
           "x": 1,
           "xpad": 40
          },
          "colorscale": [
           [
            0,
            "rgb(247,251,255)"
           ],
           [
            0.125,
            "rgb(222,235,247)"
           ],
           [
            0.25,
            "rgb(198,219,239)"
           ],
           [
            0.375,
            "rgb(158,202,225)"
           ],
           [
            0.5,
            "rgb(107,174,214)"
           ],
           [
            0.625,
            "rgb(66,146,198)"
           ],
           [
            0.75,
            "rgb(33,113,181)"
           ],
           [
            0.875,
            "rgb(8,81,156)"
           ],
           [
            1,
            "rgb(8,48,107)"
           ]
          ],
          "line": {
           "color": "Grey",
           "width": 0.5
          },
          "showscale": true
         },
         "mode": "markers",
         "name": "Feasible Trial",
         "showlegend": false,
         "type": "scatter",
         "x": [
          0.944000423397441,
          0.5462412037975274,
          0.8065800317483374,
          0.8159789782749902,
          0.8816505901350429,
          0.9303199964420846,
          0.8178199024246138,
          0.506068907301482,
          0.5844400556485823,
          0.8256686029448997,
          0.9123061892464235,
          0.4301389686296424,
          0.43501100396659587,
          0.408134717583267,
          0.4023928687849506,
          0.5341073219772193,
          0.6625748000039067,
          0.6414199363102971,
          0.6785177486284661,
          0.686262587570876,
          0.7471556151575145,
          0.7369178769939077,
          0.7511921242802369,
          0.7381142876293525,
          0.6200834277853755,
          0.6077692963565892,
          0.5191191886213543,
          0.5021500320133085,
          0.5523218784460798,
          0.6992921231020527,
          0.5651753235616495,
          0.7579996362307672,
          0.5568837200909318,
          0.4649739607621698,
          0.9957404642731177,
          0.458359548497277,
          0.4597367490036582,
          0.7900125014718479,
          0.4755703477736987,
          0.8557902197120858,
          0.4861371075718445,
          0.8695886860059631,
          0.4831611218774768,
          0.5323670772507569,
          0.47488439694564677,
          0.8439574945042223,
          0.5839686379371944,
          0.58890370744621,
          0.4438057360744296,
          0.4349848415463451
         ],
         "xaxis": "x",
         "y": [
          0.7653735572450331,
          0.745430396827768,
          0.7668862780894318,
          0.7384172379423715,
          0.7447225974473926,
          0.7445080586294106,
          0.7527070460095588,
          0.7693730467174706,
          0.7369757329058382,
          0.7499759314859221,
          0.7449909678954487,
          0.7707441374326638,
          0.7681984963501921,
          0.7689363256746844,
          0.7705541868921632,
          0.7755067283572632,
          0.7694601226631541,
          0.7743702242946677,
          0.7745574803823307,
          0.7744314472407912,
          0.7750751643572413,
          0.7589173435520471,
          0.756710138887047,
          0.7728419519652003,
          0.7728913204570291,
          0.7744137627842128,
          0.7721451371309499,
          0.7722002935456858,
          0.7749476470344818,
          0.775128387208627,
          0.7659600802025015,
          0.7641390870455049,
          0.7746321041673868,
          0.7764744891784912,
          0.7711656180257351,
          0.7466768669819481,
          0.769820058100493,
          0.7668898029036308,
          0.7754878898387241,
          0.7763731892327175,
          0.7745323158981914,
          0.7714239867531072,
          0.7709803410876539,
          0.7734156862423874,
          0.7724598403225608,
          0.7748936273070091,
          0.7658732638198458,
          0.7562531988985758,
          0.7633535750343802,
          0.7471710779650196
         ],
         "yaxis": "y"
        },
        {
         "marker": {
          "color": [
           0,
           1,
           2,
           3,
           4,
           5,
           6,
           7,
           8,
           9,
           10,
           11,
           12,
           13,
           14,
           15,
           16,
           17,
           18,
           19,
           20,
           21,
           22,
           23,
           24,
           25,
           26,
           27,
           28,
           29,
           30,
           31,
           32,
           33,
           34,
           35,
           36,
           37,
           38,
           39,
           40,
           41,
           42,
           43,
           44,
           45,
           46,
           47,
           48,
           49
          ],
          "colorbar": {
           "title": {
            "text": "Trial"
           },
           "x": 1,
           "xpad": 40
          },
          "colorscale": [
           [
            0,
            "rgb(247,251,255)"
           ],
           [
            0.125,
            "rgb(222,235,247)"
           ],
           [
            0.25,
            "rgb(198,219,239)"
           ],
           [
            0.375,
            "rgb(158,202,225)"
           ],
           [
            0.5,
            "rgb(107,174,214)"
           ],
           [
            0.625,
            "rgb(66,146,198)"
           ],
           [
            0.75,
            "rgb(33,113,181)"
           ],
           [
            0.875,
            "rgb(8,81,156)"
           ],
           [
            1,
            "rgb(8,48,107)"
           ]
          ],
          "line": {
           "color": "Grey",
           "width": 0.5
          },
          "showscale": false
         },
         "mode": "markers",
         "name": "Feasible Trial",
         "showlegend": false,
         "type": "scatter",
         "x": [
          0.023911883410715287,
          0.002260745174546142,
          0.02482690089883586,
          0.0033430107299493536,
          0.0028708481748762086,
          0.00614474789493336,
          0.0076625833395154675,
          0.1795886092664091,
          0.001973133580572894,
          0.3892014470601035,
          0.004902086439546132,
          0.2721935814517277,
          0.33462695320390473,
          0.31227748507938435,
          0.09925719740780015,
          0.08251604976697309,
          0.08153603443183231,
          0.05349362786038854,
          0.054897781240108634,
          0.049214126489376446,
          0.04742346225436488,
          0.012444868934578902,
          0.010764173872243021,
          0.04157008649403238,
          0.04150431169706792,
          0.12011208401090398,
          0.03217457102754069,
          0.16891739021812066,
          0.06295566596915476,
          0.069021488230872,
          0.018793820967621933,
          0.022835827192832166,
          0.09192994722232001,
          0.07414738508726511,
          0.14343042321014005,
          0.0011917526289882026,
          0.17595071221703168,
          0.20462723367998745,
          0.0745648872447439,
          0.07315285873766895,
          0.07357287081316068,
          0.03489716069405326,
          0.030031060105204257,
          0.12033464085528367,
          0.03178765459669499,
          0.07011470864225396,
          0.01722136923567989,
          0.24972427695361188,
          0.01618433285339239,
          0.44337590206579436
         ],
         "xaxis": "x2",
         "y": [
          0.7653735572450331,
          0.745430396827768,
          0.7668862780894318,
          0.7384172379423715,
          0.7447225974473926,
          0.7445080586294106,
          0.7527070460095588,
          0.7693730467174706,
          0.7369757329058382,
          0.7499759314859221,
          0.7449909678954487,
          0.7707441374326638,
          0.7681984963501921,
          0.7689363256746844,
          0.7705541868921632,
          0.7755067283572632,
          0.7694601226631541,
          0.7743702242946677,
          0.7745574803823307,
          0.7744314472407912,
          0.7750751643572413,
          0.7589173435520471,
          0.756710138887047,
          0.7728419519652003,
          0.7728913204570291,
          0.7744137627842128,
          0.7721451371309499,
          0.7722002935456858,
          0.7749476470344818,
          0.775128387208627,
          0.7659600802025015,
          0.7641390870455049,
          0.7746321041673868,
          0.7764744891784912,
          0.7711656180257351,
          0.7466768669819481,
          0.769820058100493,
          0.7668898029036308,
          0.7754878898387241,
          0.7763731892327175,
          0.7745323158981914,
          0.7714239867531072,
          0.7709803410876539,
          0.7734156862423874,
          0.7724598403225608,
          0.7748936273070091,
          0.7658732638198458,
          0.7562531988985758,
          0.7633535750343802,
          0.7471710779650196
         ],
         "yaxis": "y2"
        },
        {
         "marker": {
          "color": [
           0,
           1,
           2,
           3,
           4,
           5,
           6,
           7,
           8,
           9,
           10,
           11,
           12,
           13,
           14,
           15,
           16,
           17,
           18,
           19,
           20,
           21,
           22,
           23,
           24,
           25,
           26,
           27,
           28,
           29,
           30,
           31,
           32,
           33,
           34,
           35,
           36,
           37,
           38,
           39,
           40,
           41,
           42,
           43,
           44,
           45,
           46,
           47,
           48,
           49
          ],
          "colorbar": {
           "title": {
            "text": "Trial"
           },
           "x": 1,
           "xpad": 40
          },
          "colorscale": [
           [
            0,
            "rgb(247,251,255)"
           ],
           [
            0.125,
            "rgb(222,235,247)"
           ],
           [
            0.25,
            "rgb(198,219,239)"
           ],
           [
            0.375,
            "rgb(158,202,225)"
           ],
           [
            0.5,
            "rgb(107,174,214)"
           ],
           [
            0.625,
            "rgb(66,146,198)"
           ],
           [
            0.75,
            "rgb(33,113,181)"
           ],
           [
            0.875,
            "rgb(8,81,156)"
           ],
           [
            1,
            "rgb(8,48,107)"
           ]
          ],
          "line": {
           "color": "Grey",
           "width": 0.5
          },
          "showscale": false
         },
         "mode": "markers",
         "name": "Feasible Trial",
         "showlegend": false,
         "type": "scatter",
         "x": [
          123,
          56,
          87,
          114,
          58,
          82,
          26,
          42,
          89,
          33,
          34,
          48,
          46,
          53,
          65,
          68,
          68,
          71,
          77,
          101,
          104,
          101,
          100,
          100,
          80,
          79,
          113,
          110,
          127,
          128,
          120,
          121,
          128,
          128,
          91,
          92,
          107,
          108,
          118,
          120,
          117,
          118,
          125,
          124,
          114,
          61,
          112,
          128,
          121,
          123
         ],
         "xaxis": "x3",
         "y": [
          0.7653735572450331,
          0.745430396827768,
          0.7668862780894318,
          0.7384172379423715,
          0.7447225974473926,
          0.7445080586294106,
          0.7527070460095588,
          0.7693730467174706,
          0.7369757329058382,
          0.7499759314859221,
          0.7449909678954487,
          0.7707441374326638,
          0.7681984963501921,
          0.7689363256746844,
          0.7705541868921632,
          0.7755067283572632,
          0.7694601226631541,
          0.7743702242946677,
          0.7745574803823307,
          0.7744314472407912,
          0.7750751643572413,
          0.7589173435520471,
          0.756710138887047,
          0.7728419519652003,
          0.7728913204570291,
          0.7744137627842128,
          0.7721451371309499,
          0.7722002935456858,
          0.7749476470344818,
          0.775128387208627,
          0.7659600802025015,
          0.7641390870455049,
          0.7746321041673868,
          0.7764744891784912,
          0.7711656180257351,
          0.7466768669819481,
          0.769820058100493,
          0.7668898029036308,
          0.7754878898387241,
          0.7763731892327175,
          0.7745323158981914,
          0.7714239867531072,
          0.7709803410876539,
          0.7734156862423874,
          0.7724598403225608,
          0.7748936273070091,
          0.7658732638198458,
          0.7562531988985758,
          0.7633535750343802,
          0.7471710779650196
         ],
         "yaxis": "y3"
        },
        {
         "marker": {
          "color": [
           0,
           1,
           2,
           3,
           4,
           5,
           6,
           7,
           8,
           9,
           10,
           11,
           12,
           13,
           14,
           15,
           16,
           17,
           18,
           19,
           20,
           21,
           22,
           23,
           24,
           25,
           26,
           27,
           28,
           29,
           30,
           31,
           32,
           33,
           34,
           35,
           36,
           37,
           38,
           39,
           40,
           41,
           42,
           43,
           44,
           45,
           46,
           47,
           48,
           49
          ],
          "colorbar": {
           "title": {
            "text": "Trial"
           },
           "x": 1,
           "xpad": 40
          },
          "colorscale": [
           [
            0,
            "rgb(247,251,255)"
           ],
           [
            0.125,
            "rgb(222,235,247)"
           ],
           [
            0.25,
            "rgb(198,219,239)"
           ],
           [
            0.375,
            "rgb(158,202,225)"
           ],
           [
            0.5,
            "rgb(107,174,214)"
           ],
           [
            0.625,
            "rgb(66,146,198)"
           ],
           [
            0.75,
            "rgb(33,113,181)"
           ],
           [
            0.875,
            "rgb(8,81,156)"
           ],
           [
            1,
            "rgb(8,48,107)"
           ]
          ],
          "line": {
           "color": "Grey",
           "width": 0.5
          },
          "showscale": false
         },
         "mode": "markers",
         "name": "Feasible Trial",
         "showlegend": false,
         "type": "scatter",
         "x": [
          10,
          24,
          19,
          23,
          31,
          23,
          25,
          13,
          21,
          12,
          23,
          15,
          15,
          16,
          16,
          15,
          18,
          18,
          10,
          30,
          31,
          10,
          10,
          12,
          28,
          28,
          28,
          13,
          20,
          32,
          32,
          32,
          26,
          26,
          26,
          30,
          26,
          30,
          29,
          29,
          28,
          22,
          29,
          27,
          29,
          24,
          31,
          31,
          25,
          24
         ],
         "xaxis": "x4",
         "y": [
          0.7653735572450331,
          0.745430396827768,
          0.7668862780894318,
          0.7384172379423715,
          0.7447225974473926,
          0.7445080586294106,
          0.7527070460095588,
          0.7693730467174706,
          0.7369757329058382,
          0.7499759314859221,
          0.7449909678954487,
          0.7707441374326638,
          0.7681984963501921,
          0.7689363256746844,
          0.7705541868921632,
          0.7755067283572632,
          0.7694601226631541,
          0.7743702242946677,
          0.7745574803823307,
          0.7744314472407912,
          0.7750751643572413,
          0.7589173435520471,
          0.756710138887047,
          0.7728419519652003,
          0.7728913204570291,
          0.7744137627842128,
          0.7721451371309499,
          0.7722002935456858,
          0.7749476470344818,
          0.775128387208627,
          0.7659600802025015,
          0.7641390870455049,
          0.7746321041673868,
          0.7764744891784912,
          0.7711656180257351,
          0.7466768669819481,
          0.769820058100493,
          0.7668898029036308,
          0.7754878898387241,
          0.7763731892327175,
          0.7745323158981914,
          0.7714239867531072,
          0.7709803410876539,
          0.7734156862423874,
          0.7724598403225608,
          0.7748936273070091,
          0.7658732638198458,
          0.7562531988985758,
          0.7633535750343802,
          0.7471710779650196
         ],
         "yaxis": "y4"
        },
        {
         "marker": {
          "color": [
           0,
           1,
           2,
           3,
           4,
           5,
           6,
           7,
           8,
           9,
           10,
           11,
           12,
           13,
           14,
           15,
           16,
           17,
           18,
           19,
           20,
           21,
           22,
           23,
           24,
           25,
           26,
           27,
           28,
           29,
           30,
           31,
           32,
           33,
           34,
           35,
           36,
           37,
           38,
           39,
           40,
           41,
           42,
           43,
           44,
           45,
           46,
           47,
           48,
           49
          ],
          "colorbar": {
           "title": {
            "text": "Trial"
           },
           "x": 1,
           "xpad": 40
          },
          "colorscale": [
           [
            0,
            "rgb(247,251,255)"
           ],
           [
            0.125,
            "rgb(222,235,247)"
           ],
           [
            0.25,
            "rgb(198,219,239)"
           ],
           [
            0.375,
            "rgb(158,202,225)"
           ],
           [
            0.5,
            "rgb(107,174,214)"
           ],
           [
            0.625,
            "rgb(66,146,198)"
           ],
           [
            0.75,
            "rgb(33,113,181)"
           ],
           [
            0.875,
            "rgb(8,81,156)"
           ],
           [
            1,
            "rgb(8,48,107)"
           ]
          ],
          "line": {
           "color": "Grey",
           "width": 0.5
          },
          "showscale": false
         },
         "mode": "markers",
         "name": "Feasible Trial",
         "showlegend": false,
         "type": "scatter",
         "x": [
          87,
          78,
          107,
          75,
          150,
          73,
          106,
          146,
          133,
          102,
          122,
          50,
          59,
          55,
          55,
          150,
          53,
          120,
          127,
          122,
          137,
          137,
          138,
          136,
          129,
          128,
          143,
          142,
          114,
          118,
          112,
          87,
          114,
          113,
          150,
          94,
          147,
          95,
          117,
          132,
          107,
          108,
          118,
          119,
          125,
          100,
          125,
          132,
          111,
          111
         ],
         "xaxis": "x5",
         "y": [
          0.7653735572450331,
          0.745430396827768,
          0.7668862780894318,
          0.7384172379423715,
          0.7447225974473926,
          0.7445080586294106,
          0.7527070460095588,
          0.7693730467174706,
          0.7369757329058382,
          0.7499759314859221,
          0.7449909678954487,
          0.7707441374326638,
          0.7681984963501921,
          0.7689363256746844,
          0.7705541868921632,
          0.7755067283572632,
          0.7694601226631541,
          0.7743702242946677,
          0.7745574803823307,
          0.7744314472407912,
          0.7750751643572413,
          0.7589173435520471,
          0.756710138887047,
          0.7728419519652003,
          0.7728913204570291,
          0.7744137627842128,
          0.7721451371309499,
          0.7722002935456858,
          0.7749476470344818,
          0.775128387208627,
          0.7659600802025015,
          0.7641390870455049,
          0.7746321041673868,
          0.7764744891784912,
          0.7711656180257351,
          0.7466768669819481,
          0.769820058100493,
          0.7668898029036308,
          0.7754878898387241,
          0.7763731892327175,
          0.7745323158981914,
          0.7714239867531072,
          0.7709803410876539,
          0.7734156862423874,
          0.7724598403225608,
          0.7748936273070091,
          0.7658732638198458,
          0.7562531988985758,
          0.7633535750343802,
          0.7471710779650196
         ],
         "yaxis": "y5"
        },
        {
         "marker": {
          "color": [
           0,
           1,
           2,
           3,
           4,
           5,
           6,
           7,
           8,
           9,
           10,
           11,
           12,
           13,
           14,
           15,
           16,
           17,
           18,
           19,
           20,
           21,
           22,
           23,
           24,
           25,
           26,
           27,
           28,
           29,
           30,
           31,
           32,
           33,
           34,
           35,
           36,
           37,
           38,
           39,
           40,
           41,
           42,
           43,
           44,
           45,
           46,
           47,
           48,
           49
          ],
          "colorbar": {
           "title": {
            "text": "Trial"
           },
           "x": 1,
           "xpad": 40
          },
          "colorscale": [
           [
            0,
            "rgb(247,251,255)"
           ],
           [
            0.125,
            "rgb(222,235,247)"
           ],
           [
            0.25,
            "rgb(198,219,239)"
           ],
           [
            0.375,
            "rgb(158,202,225)"
           ],
           [
            0.5,
            "rgb(107,174,214)"
           ],
           [
            0.625,
            "rgb(66,146,198)"
           ],
           [
            0.75,
            "rgb(33,113,181)"
           ],
           [
            0.875,
            "rgb(8,81,156)"
           ],
           [
            1,
            "rgb(8,48,107)"
           ]
          ],
          "line": {
           "color": "Grey",
           "width": 0.5
          },
          "showscale": false
         },
         "mode": "markers",
         "name": "Feasible Trial",
         "showlegend": false,
         "type": "scatter",
         "x": [
          57,
          46,
          41,
          34,
          49,
          50,
          59,
          28,
          22,
          38,
          38,
          23,
          21,
          20,
          29,
          28,
          29,
          28,
          25,
          34,
          32,
          33,
          33,
          25,
          24,
          25,
          31,
          31,
          64,
          64,
          63,
          53,
          64,
          64,
          57,
          59,
          44,
          43,
          47,
          55,
          54,
          49,
          47,
          60,
          46,
          53,
          56,
          61,
          56,
          39
         ],
         "xaxis": "x6",
         "y": [
          0.7653735572450331,
          0.745430396827768,
          0.7668862780894318,
          0.7384172379423715,
          0.7447225974473926,
          0.7445080586294106,
          0.7527070460095588,
          0.7693730467174706,
          0.7369757329058382,
          0.7499759314859221,
          0.7449909678954487,
          0.7707441374326638,
          0.7681984963501921,
          0.7689363256746844,
          0.7705541868921632,
          0.7755067283572632,
          0.7694601226631541,
          0.7743702242946677,
          0.7745574803823307,
          0.7744314472407912,
          0.7750751643572413,
          0.7589173435520471,
          0.756710138887047,
          0.7728419519652003,
          0.7728913204570291,
          0.7744137627842128,
          0.7721451371309499,
          0.7722002935456858,
          0.7749476470344818,
          0.775128387208627,
          0.7659600802025015,
          0.7641390870455049,
          0.7746321041673868,
          0.7764744891784912,
          0.7711656180257351,
          0.7466768669819481,
          0.769820058100493,
          0.7668898029036308,
          0.7754878898387241,
          0.7763731892327175,
          0.7745323158981914,
          0.7714239867531072,
          0.7709803410876539,
          0.7734156862423874,
          0.7724598403225608,
          0.7748936273070091,
          0.7658732638198458,
          0.7562531988985758,
          0.7633535750343802,
          0.7471710779650196
         ],
         "yaxis": "y6"
        },
        {
         "marker": {
          "color": [
           0,
           1,
           2,
           3,
           4,
           5,
           6,
           7,
           8,
           9,
           10,
           11,
           12,
           13,
           14,
           15,
           16,
           17,
           18,
           19,
           20,
           21,
           22,
           23,
           24,
           25,
           26,
           27,
           28,
           29,
           30,
           31,
           32,
           33,
           34,
           35,
           36,
           37,
           38,
           39,
           40,
           41,
           42,
           43,
           44,
           45,
           46,
           47,
           48,
           49
          ],
          "colorbar": {
           "title": {
            "text": "Trial"
           },
           "x": 1,
           "xpad": 40
          },
          "colorscale": [
           [
            0,
            "rgb(247,251,255)"
           ],
           [
            0.125,
            "rgb(222,235,247)"
           ],
           [
            0.25,
            "rgb(198,219,239)"
           ],
           [
            0.375,
            "rgb(158,202,225)"
           ],
           [
            0.5,
            "rgb(107,174,214)"
           ],
           [
            0.625,
            "rgb(66,146,198)"
           ],
           [
            0.75,
            "rgb(33,113,181)"
           ],
           [
            0.875,
            "rgb(8,81,156)"
           ],
           [
            1,
            "rgb(8,48,107)"
           ]
          ],
          "line": {
           "color": "Grey",
           "width": 0.5
          },
          "showscale": false
         },
         "mode": "markers",
         "name": "Feasible Trial",
         "showlegend": false,
         "type": "scatter",
         "x": [
          1.9118345881571386,
          0.7015685103297528,
          0.028994104710046924,
          0.002958023359973085,
          0.2037788907323997,
          0.10558179287311717,
          2.247645073842488,
          0.23028018746555626,
          0.7616162487973877,
          0.17211732239079416,
          0.30883203519556374,
          8.091758707835938,
          8.646736491984733,
          5.486111455481598,
          0.011298797268482843,
          0.03591285147424464,
          0.02173269610117345,
          0.03531031881648183,
          0.0017371147344193672,
          0.0015503345087434436,
          0.0012352038597822257,
          0.004650393889286009,
          0.005322488494438277,
          0.0013304047736157336,
          0.0011733984807171382,
          0.0010299291022394374,
          0.012395330592034159,
          0.010416151625570722,
          0.0027818425806556673,
          0.0029011189215788127,
          0.05140423129078559,
          0.07202538524148727,
          0.003041677148600317,
          0.00289556487927133,
          0.005830560257660477,
          0.006318416187352202,
          0.002716957377624677,
          0.002472678801691984,
          0.021626620037762105,
          0.013054521890168926,
          0.021815358298869495,
          0.023188906502011115,
          0.015954123328424104,
          0.015535824020491109,
          0.09733991781901438,
          0.035738276259994595,
          0.07504194257640646,
          0.008327060458107688,
          0.04927129920699131,
          0.5193819405453249
         ],
         "xaxis": "x7",
         "y": [
          0.7653735572450331,
          0.745430396827768,
          0.7668862780894318,
          0.7384172379423715,
          0.7447225974473926,
          0.7445080586294106,
          0.7527070460095588,
          0.7693730467174706,
          0.7369757329058382,
          0.7499759314859221,
          0.7449909678954487,
          0.7707441374326638,
          0.7681984963501921,
          0.7689363256746844,
          0.7705541868921632,
          0.7755067283572632,
          0.7694601226631541,
          0.7743702242946677,
          0.7745574803823307,
          0.7744314472407912,
          0.7750751643572413,
          0.7589173435520471,
          0.756710138887047,
          0.7728419519652003,
          0.7728913204570291,
          0.7744137627842128,
          0.7721451371309499,
          0.7722002935456858,
          0.7749476470344818,
          0.775128387208627,
          0.7659600802025015,
          0.7641390870455049,
          0.7746321041673868,
          0.7764744891784912,
          0.7711656180257351,
          0.7466768669819481,
          0.769820058100493,
          0.7668898029036308,
          0.7754878898387241,
          0.7763731892327175,
          0.7745323158981914,
          0.7714239867531072,
          0.7709803410876539,
          0.7734156862423874,
          0.7724598403225608,
          0.7748936273070091,
          0.7658732638198458,
          0.7562531988985758,
          0.7633535750343802,
          0.7471710779650196
         ],
         "yaxis": "y7"
        },
        {
         "marker": {
          "color": [
           0,
           1,
           2,
           3,
           4,
           5,
           6,
           7,
           8,
           9,
           10,
           11,
           12,
           13,
           14,
           15,
           16,
           17,
           18,
           19,
           20,
           21,
           22,
           23,
           24,
           25,
           26,
           27,
           28,
           29,
           30,
           31,
           32,
           33,
           34,
           35,
           36,
           37,
           38,
           39,
           40,
           41,
           42,
           43,
           44,
           45,
           46,
           47,
           48,
           49
          ],
          "colorbar": {
           "title": {
            "text": "Trial"
           },
           "x": 1,
           "xpad": 40
          },
          "colorscale": [
           [
            0,
            "rgb(247,251,255)"
           ],
           [
            0.125,
            "rgb(222,235,247)"
           ],
           [
            0.25,
            "rgb(198,219,239)"
           ],
           [
            0.375,
            "rgb(158,202,225)"
           ],
           [
            0.5,
            "rgb(107,174,214)"
           ],
           [
            0.625,
            "rgb(66,146,198)"
           ],
           [
            0.75,
            "rgb(33,113,181)"
           ],
           [
            0.875,
            "rgb(8,81,156)"
           ],
           [
            1,
            "rgb(8,48,107)"
           ]
          ],
          "line": {
           "color": "Grey",
           "width": 0.5
          },
          "showscale": false
         },
         "mode": "markers",
         "name": "Feasible Trial",
         "showlegend": false,
         "type": "scatter",
         "x": [
          0.25031611483082333,
          0.02442845429329722,
          1.5002248308899677,
          0.8552157946532589,
          0.0010813009618457577,
          0.0062573921092364355,
          4.798042250682555,
          0.46075199933348787,
          0.2604502225602199,
          0.0016078149082741197,
          0.002812410423487486,
          0.033486513547138656,
          0.04383052877991939,
          0.032970942781664535,
          0.01335864496476768,
          0.16567345474067047,
          0.009737865308962259,
          0.12117389066908892,
          0.08389648791521565,
          0.1267768691760265,
          0.11854587151052244,
          4.37534031806354,
          0.08686401430893444,
          0.07499090118611983,
          0.08722960412330341,
          0.30841968372489714,
          0.5287445315438829,
          1.6830622063034695,
          0.5369544291600175,
          0.1936226007915368,
          0.21066184805337912,
          0.2166946665391988,
          0.9458767293647109,
          0.8929633543221254,
          1.4712686099872254,
          9.680126054909017,
          2.358505148021667,
          0.16790846991379751,
          0.05098031219258003,
          0.6965477507809044,
          0.018244800886096067,
          0.7714230609599253,
          0.7921938188845455,
          0.44756968083563337,
          0.04936821079321578,
          0.05441177151815893,
          0.3071348802161173,
          0.3181276846921585,
          2.698640579243287,
          2.685191503220858
         ],
         "xaxis": "x8",
         "y": [
          0.7653735572450331,
          0.745430396827768,
          0.7668862780894318,
          0.7384172379423715,
          0.7447225974473926,
          0.7445080586294106,
          0.7527070460095588,
          0.7693730467174706,
          0.7369757329058382,
          0.7499759314859221,
          0.7449909678954487,
          0.7707441374326638,
          0.7681984963501921,
          0.7689363256746844,
          0.7705541868921632,
          0.7755067283572632,
          0.7694601226631541,
          0.7743702242946677,
          0.7745574803823307,
          0.7744314472407912,
          0.7750751643572413,
          0.7589173435520471,
          0.756710138887047,
          0.7728419519652003,
          0.7728913204570291,
          0.7744137627842128,
          0.7721451371309499,
          0.7722002935456858,
          0.7749476470344818,
          0.775128387208627,
          0.7659600802025015,
          0.7641390870455049,
          0.7746321041673868,
          0.7764744891784912,
          0.7711656180257351,
          0.7466768669819481,
          0.769820058100493,
          0.7668898029036308,
          0.7754878898387241,
          0.7763731892327175,
          0.7745323158981914,
          0.7714239867531072,
          0.7709803410876539,
          0.7734156862423874,
          0.7724598403225608,
          0.7748936273070091,
          0.7658732638198458,
          0.7562531988985758,
          0.7633535750343802,
          0.7471710779650196
         ],
         "yaxis": "y8"
        },
        {
         "marker": {
          "color": [
           0,
           1,
           2,
           3,
           4,
           5,
           6,
           7,
           8,
           9,
           10,
           11,
           12,
           13,
           14,
           15,
           16,
           17,
           18,
           19,
           20,
           21,
           22,
           23,
           24,
           25,
           26,
           27,
           28,
           29,
           30,
           31,
           32,
           33,
           34,
           35,
           36,
           37,
           38,
           39,
           40,
           41,
           42,
           43,
           44,
           45,
           46,
           47,
           48,
           49
          ],
          "colorbar": {
           "title": {
            "text": "Trial"
           },
           "x": 1,
           "xpad": 40
          },
          "colorscale": [
           [
            0,
            "rgb(247,251,255)"
           ],
           [
            0.125,
            "rgb(222,235,247)"
           ],
           [
            0.25,
            "rgb(198,219,239)"
           ],
           [
            0.375,
            "rgb(158,202,225)"
           ],
           [
            0.5,
            "rgb(107,174,214)"
           ],
           [
            0.625,
            "rgb(66,146,198)"
           ],
           [
            0.75,
            "rgb(33,113,181)"
           ],
           [
            0.875,
            "rgb(8,81,156)"
           ],
           [
            1,
            "rgb(8,48,107)"
           ]
          ],
          "line": {
           "color": "Grey",
           "width": 0.5
          },
          "showscale": false
         },
         "mode": "markers",
         "name": "Feasible Trial",
         "showlegend": false,
         "type": "scatter",
         "x": [
          0.8752862405655792,
          0.5882195167266739,
          0.950231364541759,
          0.43933107866439364,
          0.7616056110345653,
          0.5778184557387014,
          0.8859726507330328,
          0.6732646984757411,
          0.9967625694979534,
          0.8839658913818019,
          0.6832224875394244,
          0.7001968953032099,
          0.7087677475459498,
          0.7164239621740879,
          0.5960920793360357,
          0.5993768460352463,
          0.49549819747805124,
          0.47698648290418716,
          0.7927532371385275,
          0.41779362937820397,
          0.4003590116959355,
          0.7966128310396993,
          0.7970427444233018,
          0.5402651542565602,
          0.5206666306834343,
          0.6335195875849201,
          0.4817962483660188,
          0.833270102914019,
          0.40352040219113516,
          0.4063154657786586,
          0.40763354356519355,
          0.45301408357853234,
          0.4006048639823391,
          0.4088981384627649,
          0.5407361764141778,
          0.5323026240989369,
          0.4430788261821614,
          0.4495016420923388,
          0.44746779935977465,
          0.5708479402295414,
          0.6006322553378258,
          0.5857137248294719,
          0.5649576658644992,
          0.6281619395460928,
          0.5007847056747385,
          0.49863821284627835,
          0.4653234535752057,
          0.6475481514720147,
          0.4626836823784679,
          0.4366918279170055
         ],
         "xaxis": "x9",
         "y": [
          0.7653735572450331,
          0.745430396827768,
          0.7668862780894318,
          0.7384172379423715,
          0.7447225974473926,
          0.7445080586294106,
          0.7527070460095588,
          0.7693730467174706,
          0.7369757329058382,
          0.7499759314859221,
          0.7449909678954487,
          0.7707441374326638,
          0.7681984963501921,
          0.7689363256746844,
          0.7705541868921632,
          0.7755067283572632,
          0.7694601226631541,
          0.7743702242946677,
          0.7745574803823307,
          0.7744314472407912,
          0.7750751643572413,
          0.7589173435520471,
          0.756710138887047,
          0.7728419519652003,
          0.7728913204570291,
          0.7744137627842128,
          0.7721451371309499,
          0.7722002935456858,
          0.7749476470344818,
          0.775128387208627,
          0.7659600802025015,
          0.7641390870455049,
          0.7746321041673868,
          0.7764744891784912,
          0.7711656180257351,
          0.7466768669819481,
          0.769820058100493,
          0.7668898029036308,
          0.7754878898387241,
          0.7763731892327175,
          0.7745323158981914,
          0.7714239867531072,
          0.7709803410876539,
          0.7734156862423874,
          0.7724598403225608,
          0.7748936273070091,
          0.7658732638198458,
          0.7562531988985758,
          0.7633535750343802,
          0.7471710779650196
         ],
         "yaxis": "y9"
        }
       ],
       "layout": {
        "template": {
         "data": {
          "bar": [
           {
            "error_x": {
             "color": "#2a3f5f"
            },
            "error_y": {
             "color": "#2a3f5f"
            },
            "marker": {
             "line": {
              "color": "#E5ECF6",
              "width": 0.5
             },
             "pattern": {
              "fillmode": "overlay",
              "size": 10,
              "solidity": 0.2
             }
            },
            "type": "bar"
           }
          ],
          "barpolar": [
           {
            "marker": {
             "line": {
              "color": "#E5ECF6",
              "width": 0.5
             },
             "pattern": {
              "fillmode": "overlay",
              "size": 10,
              "solidity": 0.2
             }
            },
            "type": "barpolar"
           }
          ],
          "carpet": [
           {
            "aaxis": {
             "endlinecolor": "#2a3f5f",
             "gridcolor": "white",
             "linecolor": "white",
             "minorgridcolor": "white",
             "startlinecolor": "#2a3f5f"
            },
            "baxis": {
             "endlinecolor": "#2a3f5f",
             "gridcolor": "white",
             "linecolor": "white",
             "minorgridcolor": "white",
             "startlinecolor": "#2a3f5f"
            },
            "type": "carpet"
           }
          ],
          "choropleth": [
           {
            "colorbar": {
             "outlinewidth": 0,
             "ticks": ""
            },
            "type": "choropleth"
           }
          ],
          "contour": [
           {
            "colorbar": {
             "outlinewidth": 0,
             "ticks": ""
            },
            "colorscale": [
             [
              0,
              "#0d0887"
             ],
             [
              0.1111111111111111,
              "#46039f"
             ],
             [
              0.2222222222222222,
              "#7201a8"
             ],
             [
              0.3333333333333333,
              "#9c179e"
             ],
             [
              0.4444444444444444,
              "#bd3786"
             ],
             [
              0.5555555555555556,
              "#d8576b"
             ],
             [
              0.6666666666666666,
              "#ed7953"
             ],
             [
              0.7777777777777778,
              "#fb9f3a"
             ],
             [
              0.8888888888888888,
              "#fdca26"
             ],
             [
              1,
              "#f0f921"
             ]
            ],
            "type": "contour"
           }
          ],
          "contourcarpet": [
           {
            "colorbar": {
             "outlinewidth": 0,
             "ticks": ""
            },
            "type": "contourcarpet"
           }
          ],
          "heatmap": [
           {
            "colorbar": {
             "outlinewidth": 0,
             "ticks": ""
            },
            "colorscale": [
             [
              0,
              "#0d0887"
             ],
             [
              0.1111111111111111,
              "#46039f"
             ],
             [
              0.2222222222222222,
              "#7201a8"
             ],
             [
              0.3333333333333333,
              "#9c179e"
             ],
             [
              0.4444444444444444,
              "#bd3786"
             ],
             [
              0.5555555555555556,
              "#d8576b"
             ],
             [
              0.6666666666666666,
              "#ed7953"
             ],
             [
              0.7777777777777778,
              "#fb9f3a"
             ],
             [
              0.8888888888888888,
              "#fdca26"
             ],
             [
              1,
              "#f0f921"
             ]
            ],
            "type": "heatmap"
           }
          ],
          "heatmapgl": [
           {
            "colorbar": {
             "outlinewidth": 0,
             "ticks": ""
            },
            "colorscale": [
             [
              0,
              "#0d0887"
             ],
             [
              0.1111111111111111,
              "#46039f"
             ],
             [
              0.2222222222222222,
              "#7201a8"
             ],
             [
              0.3333333333333333,
              "#9c179e"
             ],
             [
              0.4444444444444444,
              "#bd3786"
             ],
             [
              0.5555555555555556,
              "#d8576b"
             ],
             [
              0.6666666666666666,
              "#ed7953"
             ],
             [
              0.7777777777777778,
              "#fb9f3a"
             ],
             [
              0.8888888888888888,
              "#fdca26"
             ],
             [
              1,
              "#f0f921"
             ]
            ],
            "type": "heatmapgl"
           }
          ],
          "histogram": [
           {
            "marker": {
             "pattern": {
              "fillmode": "overlay",
              "size": 10,
              "solidity": 0.2
             }
            },
            "type": "histogram"
           }
          ],
          "histogram2d": [
           {
            "colorbar": {
             "outlinewidth": 0,
             "ticks": ""
            },
            "colorscale": [
             [
              0,
              "#0d0887"
             ],
             [
              0.1111111111111111,
              "#46039f"
             ],
             [
              0.2222222222222222,
              "#7201a8"
             ],
             [
              0.3333333333333333,
              "#9c179e"
             ],
             [
              0.4444444444444444,
              "#bd3786"
             ],
             [
              0.5555555555555556,
              "#d8576b"
             ],
             [
              0.6666666666666666,
              "#ed7953"
             ],
             [
              0.7777777777777778,
              "#fb9f3a"
             ],
             [
              0.8888888888888888,
              "#fdca26"
             ],
             [
              1,
              "#f0f921"
             ]
            ],
            "type": "histogram2d"
           }
          ],
          "histogram2dcontour": [
           {
            "colorbar": {
             "outlinewidth": 0,
             "ticks": ""
            },
            "colorscale": [
             [
              0,
              "#0d0887"
             ],
             [
              0.1111111111111111,
              "#46039f"
             ],
             [
              0.2222222222222222,
              "#7201a8"
             ],
             [
              0.3333333333333333,
              "#9c179e"
             ],
             [
              0.4444444444444444,
              "#bd3786"
             ],
             [
              0.5555555555555556,
              "#d8576b"
             ],
             [
              0.6666666666666666,
              "#ed7953"
             ],
             [
              0.7777777777777778,
              "#fb9f3a"
             ],
             [
              0.8888888888888888,
              "#fdca26"
             ],
             [
              1,
              "#f0f921"
             ]
            ],
            "type": "histogram2dcontour"
           }
          ],
          "mesh3d": [
           {
            "colorbar": {
             "outlinewidth": 0,
             "ticks": ""
            },
            "type": "mesh3d"
           }
          ],
          "parcoords": [
           {
            "line": {
             "colorbar": {
              "outlinewidth": 0,
              "ticks": ""
             }
            },
            "type": "parcoords"
           }
          ],
          "pie": [
           {
            "automargin": true,
            "type": "pie"
           }
          ],
          "scatter": [
           {
            "fillpattern": {
             "fillmode": "overlay",
             "size": 10,
             "solidity": 0.2
            },
            "type": "scatter"
           }
          ],
          "scatter3d": [
           {
            "line": {
             "colorbar": {
              "outlinewidth": 0,
              "ticks": ""
             }
            },
            "marker": {
             "colorbar": {
              "outlinewidth": 0,
              "ticks": ""
             }
            },
            "type": "scatter3d"
           }
          ],
          "scattercarpet": [
           {
            "marker": {
             "colorbar": {
              "outlinewidth": 0,
              "ticks": ""
             }
            },
            "type": "scattercarpet"
           }
          ],
          "scattergeo": [
           {
            "marker": {
             "colorbar": {
              "outlinewidth": 0,
              "ticks": ""
             }
            },
            "type": "scattergeo"
           }
          ],
          "scattergl": [
           {
            "marker": {
             "colorbar": {
              "outlinewidth": 0,
              "ticks": ""
             }
            },
            "type": "scattergl"
           }
          ],
          "scattermapbox": [
           {
            "marker": {
             "colorbar": {
              "outlinewidth": 0,
              "ticks": ""
             }
            },
            "type": "scattermapbox"
           }
          ],
          "scatterpolar": [
           {
            "marker": {
             "colorbar": {
              "outlinewidth": 0,
              "ticks": ""
             }
            },
            "type": "scatterpolar"
           }
          ],
          "scatterpolargl": [
           {
            "marker": {
             "colorbar": {
              "outlinewidth": 0,
              "ticks": ""
             }
            },
            "type": "scatterpolargl"
           }
          ],
          "scatterternary": [
           {
            "marker": {
             "colorbar": {
              "outlinewidth": 0,
              "ticks": ""
             }
            },
            "type": "scatterternary"
           }
          ],
          "surface": [
           {
            "colorbar": {
             "outlinewidth": 0,
             "ticks": ""
            },
            "colorscale": [
             [
              0,
              "#0d0887"
             ],
             [
              0.1111111111111111,
              "#46039f"
             ],
             [
              0.2222222222222222,
              "#7201a8"
             ],
             [
              0.3333333333333333,
              "#9c179e"
             ],
             [
              0.4444444444444444,
              "#bd3786"
             ],
             [
              0.5555555555555556,
              "#d8576b"
             ],
             [
              0.6666666666666666,
              "#ed7953"
             ],
             [
              0.7777777777777778,
              "#fb9f3a"
             ],
             [
              0.8888888888888888,
              "#fdca26"
             ],
             [
              1,
              "#f0f921"
             ]
            ],
            "type": "surface"
           }
          ],
          "table": [
           {
            "cells": {
             "fill": {
              "color": "#EBF0F8"
             },
             "line": {
              "color": "white"
             }
            },
            "header": {
             "fill": {
              "color": "#C8D4E3"
             },
             "line": {
              "color": "white"
             }
            },
            "type": "table"
           }
          ]
         },
         "layout": {
          "annotationdefaults": {
           "arrowcolor": "#2a3f5f",
           "arrowhead": 0,
           "arrowwidth": 1
          },
          "autotypenumbers": "strict",
          "coloraxis": {
           "colorbar": {
            "outlinewidth": 0,
            "ticks": ""
           }
          },
          "colorscale": {
           "diverging": [
            [
             0,
             "#8e0152"
            ],
            [
             0.1,
             "#c51b7d"
            ],
            [
             0.2,
             "#de77ae"
            ],
            [
             0.3,
             "#f1b6da"
            ],
            [
             0.4,
             "#fde0ef"
            ],
            [
             0.5,
             "#f7f7f7"
            ],
            [
             0.6,
             "#e6f5d0"
            ],
            [
             0.7,
             "#b8e186"
            ],
            [
             0.8,
             "#7fbc41"
            ],
            [
             0.9,
             "#4d9221"
            ],
            [
             1,
             "#276419"
            ]
           ],
           "sequential": [
            [
             0,
             "#0d0887"
            ],
            [
             0.1111111111111111,
             "#46039f"
            ],
            [
             0.2222222222222222,
             "#7201a8"
            ],
            [
             0.3333333333333333,
             "#9c179e"
            ],
            [
             0.4444444444444444,
             "#bd3786"
            ],
            [
             0.5555555555555556,
             "#d8576b"
            ],
            [
             0.6666666666666666,
             "#ed7953"
            ],
            [
             0.7777777777777778,
             "#fb9f3a"
            ],
            [
             0.8888888888888888,
             "#fdca26"
            ],
            [
             1,
             "#f0f921"
            ]
           ],
           "sequentialminus": [
            [
             0,
             "#0d0887"
            ],
            [
             0.1111111111111111,
             "#46039f"
            ],
            [
             0.2222222222222222,
             "#7201a8"
            ],
            [
             0.3333333333333333,
             "#9c179e"
            ],
            [
             0.4444444444444444,
             "#bd3786"
            ],
            [
             0.5555555555555556,
             "#d8576b"
            ],
            [
             0.6666666666666666,
             "#ed7953"
            ],
            [
             0.7777777777777778,
             "#fb9f3a"
            ],
            [
             0.8888888888888888,
             "#fdca26"
            ],
            [
             1,
             "#f0f921"
            ]
           ]
          },
          "colorway": [
           "#636efa",
           "#EF553B",
           "#00cc96",
           "#ab63fa",
           "#FFA15A",
           "#19d3f3",
           "#FF6692",
           "#B6E880",
           "#FF97FF",
           "#FECB52"
          ],
          "font": {
           "color": "#2a3f5f"
          },
          "geo": {
           "bgcolor": "white",
           "lakecolor": "white",
           "landcolor": "#E5ECF6",
           "showlakes": true,
           "showland": true,
           "subunitcolor": "white"
          },
          "hoverlabel": {
           "align": "left"
          },
          "hovermode": "closest",
          "mapbox": {
           "style": "light"
          },
          "paper_bgcolor": "white",
          "plot_bgcolor": "#E5ECF6",
          "polar": {
           "angularaxis": {
            "gridcolor": "white",
            "linecolor": "white",
            "ticks": ""
           },
           "bgcolor": "#E5ECF6",
           "radialaxis": {
            "gridcolor": "white",
            "linecolor": "white",
            "ticks": ""
           }
          },
          "scene": {
           "xaxis": {
            "backgroundcolor": "#E5ECF6",
            "gridcolor": "white",
            "gridwidth": 2,
            "linecolor": "white",
            "showbackground": true,
            "ticks": "",
            "zerolinecolor": "white"
           },
           "yaxis": {
            "backgroundcolor": "#E5ECF6",
            "gridcolor": "white",
            "gridwidth": 2,
            "linecolor": "white",
            "showbackground": true,
            "ticks": "",
            "zerolinecolor": "white"
           },
           "zaxis": {
            "backgroundcolor": "#E5ECF6",
            "gridcolor": "white",
            "gridwidth": 2,
            "linecolor": "white",
            "showbackground": true,
            "ticks": "",
            "zerolinecolor": "white"
           }
          },
          "shapedefaults": {
           "line": {
            "color": "#2a3f5f"
           }
          },
          "ternary": {
           "aaxis": {
            "gridcolor": "white",
            "linecolor": "white",
            "ticks": ""
           },
           "baxis": {
            "gridcolor": "white",
            "linecolor": "white",
            "ticks": ""
           },
           "bgcolor": "#E5ECF6",
           "caxis": {
            "gridcolor": "white",
            "linecolor": "white",
            "ticks": ""
           }
          },
          "title": {
           "x": 0.05
          },
          "xaxis": {
           "automargin": true,
           "gridcolor": "white",
           "linecolor": "white",
           "ticks": "",
           "title": {
            "standoff": 15
           },
           "zerolinecolor": "white",
           "zerolinewidth": 2
          },
          "yaxis": {
           "automargin": true,
           "gridcolor": "white",
           "linecolor": "white",
           "ticks": "",
           "title": {
            "standoff": 15
           },
           "zerolinecolor": "white",
           "zerolinewidth": 2
          }
         }
        },
        "title": {
         "text": "Slice Plot"
        },
        "width": 2700,
        "xaxis": {
         "anchor": "y",
         "domain": [
          0,
          0.09135802469135802
         ],
         "title": {
          "text": "colsample_bytree"
         }
        },
        "xaxis2": {
         "anchor": "y2",
         "domain": [
          0.11358024691358025,
          0.20493827160493827
         ],
         "title": {
          "text": "learning_rate"
         },
         "type": "log"
        },
        "xaxis3": {
         "anchor": "y3",
         "domain": [
          0.2271604938271605,
          0.31851851851851853
         ],
         "title": {
          "text": "max_depth"
         }
        },
        "xaxis4": {
         "anchor": "y4",
         "domain": [
          0.34074074074074073,
          0.43209876543209874
         ],
         "title": {
          "text": "min_child_samples"
         }
        },
        "xaxis5": {
         "anchor": "y5",
         "domain": [
          0.454320987654321,
          0.5456790123456791
         ],
         "title": {
          "text": "n_estimators"
         }
        },
        "xaxis6": {
         "anchor": "y6",
         "domain": [
          0.5679012345679012,
          0.6592592592592592
         ],
         "title": {
          "text": "num_leaves"
         }
        },
        "xaxis7": {
         "anchor": "y7",
         "domain": [
          0.6814814814814815,
          0.7728395061728395
         ],
         "title": {
          "text": "reg_alpha"
         },
         "type": "log"
        },
        "xaxis8": {
         "anchor": "y8",
         "domain": [
          0.7950617283950617,
          0.8864197530864197
         ],
         "title": {
          "text": "reg_lambda"
         },
         "type": "log"
        },
        "xaxis9": {
         "anchor": "y9",
         "domain": [
          0.908641975308642,
          1
         ],
         "title": {
          "text": "subsample"
         }
        },
        "yaxis": {
         "anchor": "x",
         "domain": [
          0,
          1
         ],
         "title": {
          "text": "Objective Value"
         }
        },
        "yaxis2": {
         "anchor": "x2",
         "domain": [
          0,
          1
         ],
         "matches": "y",
         "showticklabels": false
        },
        "yaxis3": {
         "anchor": "x3",
         "domain": [
          0,
          1
         ],
         "matches": "y",
         "showticklabels": false
        },
        "yaxis4": {
         "anchor": "x4",
         "domain": [
          0,
          1
         ],
         "matches": "y",
         "showticklabels": false
        },
        "yaxis5": {
         "anchor": "x5",
         "domain": [
          0,
          1
         ],
         "matches": "y",
         "showticklabels": false
        },
        "yaxis6": {
         "anchor": "x6",
         "domain": [
          0,
          1
         ],
         "matches": "y",
         "showticklabels": false
        },
        "yaxis7": {
         "anchor": "x7",
         "domain": [
          0,
          1
         ],
         "matches": "y",
         "showticklabels": false
        },
        "yaxis8": {
         "anchor": "x8",
         "domain": [
          0,
          1
         ],
         "matches": "y",
         "showticklabels": false
        },
        "yaxis9": {
         "anchor": "x9",
         "domain": [
          0,
          1
         ],
         "matches": "y",
         "showticklabels": false
        }
       }
      }
     },
     "metadata": {},
     "output_type": "display_data"
    }
   ],
   "source": [
    "optuna.visualization.plot_slice(study, params=list(best_params.keys()))"
   ]
  }
 ],
 "metadata": {
  "kernelspec": {
   "display_name": "Python 3",
   "language": "python",
   "name": "python3"
  },
  "language_info": {
   "codemirror_mode": {
    "name": "ipython",
    "version": 3
   },
   "file_extension": ".py",
   "mimetype": "text/x-python",
   "name": "python",
   "nbconvert_exporter": "python",
   "pygments_lexer": "ipython3",
   "version": "3.12.0"
  }
 },
 "nbformat": 4,
 "nbformat_minor": 2
}
